{
 "cells": [
  {
   "cell_type": "markdown",
   "source": [
    "# A hypothetical case study for stochastic optimization: the classic farmer problem\n",
    "\n",
    "A farmer wants to plant three types of crops: Wheat, Corn, and Beans. He has a fixed amount of land and aims to meet the demand for each type of crop in the local market. The demand for each crop is uncertain. The yield of each crop is uncertain and depends on the amount of water they receive during the season (endogenous uncertainty). Additionally, the market prices for each crop at the end of the season are uncertain (exogenous uncertainty).\n",
    "\n",
    "The farmer can choose to invest in an irrigation system (with three possible operating levels: Low, Medium, High) that influences the amount of water each crop receives. The investment and operational costs vary with the level."
   ],
   "metadata": {
    "collapsed": false,
    "pycharm": {
     "name": "#%% md\n"
    }
   }
  },
  {
   "cell_type": "markdown",
   "source": [
    "### Nomenclature:\n",
    "\n",
    "### Set:\n",
    "\n",
    "- $i \\in \\in \\{1, 2, 3\\}$: Category of produce, Wheat, Corn, and Beans respectively.\n",
    "\n",
    "- $j \\in \\{1, 2, 3\\}$: Irrigation operating level(low, medium, and high respectively).\n",
    "\n",
    "#### Decision Variables:\n",
    "\n",
    "- $x_{i,j}$: Acres of land planted with produce i under irrigation operating level j.\n",
    "\n",
    "- $y_{i,j}$ ($j \\in \\{1, 2, 3\\}$): Binary, decision for produce i under irrigation operating level j.\n",
    "\n",
    "#### Intermediate variables:\n",
    "\n",
    "- $z_i$: Wheat, Corn and Beans product\n",
    "\n",
    "#### Uncertain Parameters:\n",
    "\n",
    "- $\\xi_{i, j}$: Yields for produce i with irrigation operating level j(endogenous uncertainty).\n",
    "- $P_i$: Market prices for Wheat, Corn, and Beans at the end of the season (exogenous uncertainty).\n",
    "- $D_i$: Market demand for Wheat, Corn, and Beans (exogenous uncertainty).\n",
    "\n",
    "#### Probability distribution of uncertain parameters(when realized in scenario s):\n",
    "\n",
    "- $\\Psi^{\\xi}_{i,j,s}, \\Psi^{P}_{i,s}, \\Psi^{D}_{i,s}$ Probability of uncertain parameters\n",
    "\n",
    "#### Deterministic parameters\n",
    "\n",
    "- $R_{i}$ unit cost of seeds for Wheat, Corn, and Beans, respectively.\n",
    "\n",
    "- $C^{f}_{i}$ fixed cost of irrigation operating level i.\n",
    "\n",
    "- $C^{v}_{i, }$ variable cost of irrigation operating level i.\n",
    "\n",
    "- $L$: total land available."
   ],
   "metadata": {
    "collapsed": false,
    "pycharm": {
     "name": "#%% md\n"
    }
   }
  },
  {
   "cell_type": "markdown",
   "source": [
    "### Deterministic Formulation\n",
    "\n",
    "#### Constraints:\n",
    "\n",
    "1. **Total Land Constraint**:\n",
    "\\begin{align*}\n",
    "\\sum_{i,j} x_{i,j} \\le L\n",
    "\\end{align*}\n",
    "\n",
    "2. **Demand Constraint**: The production of each crop should not exceed its respective market demand.\n",
    "\\begin{align*}\n",
    "z_i &\\le D_i \\\\\n",
    "\\end{align*}\n",
    "\n",
    "3. **Irrigation Choice Constraints I**:\n",
    "\\begin{align*}\n",
    "\\sum_{j} y_{i,j} = 1 \\quad \\forall i\n",
    "\\end{align*}\n",
    "\n",
    "4. **Irrigation Choice Constraints II**:\n",
    "\\begin{align*}\n",
    "x_{i,j} \\le Ly_{i,j} \\quad \\forall i,j\n",
    "\\end{align*}\n",
    "\n",
    "5. **Yield Constraints**:\n",
    "\n",
    "\\begin{align*}\n",
    "\\sum_{j} \\xi_{i,j} x_{i,j} = z_i\n",
    "\\end{align*}\n",
    "\n",
    "#### Objective:\n",
    "\n",
    "$$ \\textbf{min} \\quad \\sum_{i}  \\{R_{i}\\sum_{j} {x_{i,j}} + \\sum_{j} C^{f}_{i,j} {y_{i,j}} + \\sum_{j} C^{v}_{i,j} {x_{i,j}} \\} - \\sum_{i} D_{i} {z_{i}}$$"
   ],
   "metadata": {
    "collapsed": false,
    "pycharm": {
     "name": "#%% md\n"
    }
   }
  },
  {
   "cell_type": "markdown",
   "source": [],
   "metadata": {
    "collapsed": false,
    "pycharm": {
     "name": "#%% md\n"
    }
   }
  },
  {
   "cell_type": "markdown",
   "source": [
    "### Stochastic formulation given scenarios S\n",
    "\n",
    "#### Constraints:\n",
    "\n",
    "1. **Total Land Constraint**:\n",
    "\\begin{align*}\n",
    "\\sum_{i,j} x_{i,j} \\le L\n",
    "\\end{align*}\n",
    "\n",
    "2. **Demand Constraint**: The production of each crop should not exceed its respective market demand.\n",
    "\\begin{align*}\n",
    "z_i &\\le D_{i,s} \\forall s\\\\\n",
    "\\end{align*}\n",
    "\n",
    "3. **Irrigation Choice Constraints I**:\n",
    "\\begin{align*}\n",
    "\\sum_{j} y_{i,j} = 1 \\quad \\forall i\n",
    "\\end{align*}\n",
    "\n",
    "4. **Irrigation Choice Constraints II**:\n",
    "\\begin{align*}\n",
    "x_{i,j} \\le Ly_{i,j} \\quad \\forall i,j\n",
    "\\end{align*}\n",
    "\n",
    "5. **Yield Constraints**:\n",
    "\n",
    "\\begin{align*}\n",
    "\\sum_{j} \\xi_{i,j,s} x_{i,j} = z_{i,s}\n",
    "\\end{align*}\n",
    "\n",
    "#### Objective:\n",
    "\n",
    "$$ \\textbf{min} \\quad \\sum_{i}  \\{R_{i}\\sum_{j} {x_{i,j}} + \\sum_{j} C^{f}_{i,j} {y_{i,j}} + \\sum_{j} C^{v}_{i,j} {x_{i,j}} \\} - \\{ \\sum_{s} \\sum_{i} D_{i} {z_{i}} \\}$$"
   ],
   "metadata": {
    "collapsed": false,
    "pycharm": {
     "name": "#%% md\n"
    }
   }
  },
  {
   "cell_type": "markdown",
   "source": [],
   "metadata": {
    "collapsed": false,
    "pycharm": {
     "name": "#%% md\n"
    }
   }
  }
 ],
 "metadata": {
  "kernelspec": {
   "display_name": "Python 3",
   "language": "python",
   "name": "python3"
  },
  "language_info": {
   "codemirror_mode": {
    "name": "ipython",
    "version": 2
   },
   "file_extension": ".py",
   "mimetype": "text/x-python",
   "name": "python",
   "nbconvert_exporter": "python",
   "pygments_lexer": "ipython2",
   "version": "2.7.6"
  }
 },
 "nbformat": 4,
 "nbformat_minor": 0
}