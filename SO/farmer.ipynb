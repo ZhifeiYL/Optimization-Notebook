{
 "cells": [
  {
   "cell_type": "markdown",
   "source": [
    "# A hypothetical case study for stochastic optimization: the classic farmer problem\n",
    "\n",
    "A farmer wants to plant three types of crops: Wheat, Corn, and Beans. He has a fixed amount of land and aims to meet the demand for each type of crop in the local market. The demand for each crop is uncertain. The yield of each crop is uncertain and depends on the amount of water they receive during the season (endogenous uncertainty). Additionally, the market prices for each crop at the end of the season are uncertain (exogenous uncertainty).\n",
    "\n",
    "The farmer can choose to invest in an irrigation system (with three possible operating levels: Low, Medium, High) that influences the amount of water each crop receives. The investment and operational costs vary with the level."
   ],
   "metadata": {
    "collapsed": false,
    "pycharm": {
     "name": "#%% md\n"
    }
   }
  },
  {
   "cell_type": "markdown",
   "source": [
    "### Nomenclature:\n",
    "\n",
    "### Set:\n",
    "\n",
    "- $i \\in \\in \\{1, 2, 3\\}$: Category of produce, Wheat, Corn, and Beans respectively.\n",
    "\n",
    "- $j \\in \\{1, 2, 3\\}$: Irrigation operating level(low, medium, and high respectively).\n",
    "\n",
    "#### Decision Variables:\n",
    "\n",
    "- $x_{i,j}$: Acres of land planted with produce i under irrigation operating level j.\n",
    "\n",
    "- $y_{i,j}$ ($j \\in \\{1, 2, 3\\}$): Binary, decision for produce i under irrigation operating level j.\n",
    "\n",
    "#### Intermediate variables:\n",
    "\n",
    "- $z_i$: Wheat, Corn and Beans product\n",
    "\n",
    "#### Uncertain Parameters:\n",
    "\n",
    "- $\\xi_{i, j}$: Yields for produce i with irrigation operating level j(endogenous uncertainty).\n",
    "- $P_i$: Market prices for Wheat, Corn, and Beans at the end of the season (exogenous uncertainty).\n",
    "- $D_i$: Market demand for Wheat, Corn, and Beans (exogenous uncertainty).\n",
    "\n",
    "#### Probability distribution of uncertain parameters(when realized in scenario s):\n",
    "\n",
    "- $\\Psi^{s}$\n",
    "\n",
    "#### Deterministic parameters\n",
    "\n",
    "- $R_{i}$ unit cost of seeds for Wheat, Corn, and Beans, respectively.\n",
    "\n",
    "- $C^{f}_{i}$ fixed cost of irrigation operating level i.\n",
    "\n",
    "- $C^{v}_{i, }$ variable cost of irrigation operating level i.\n",
    "\n",
    "- $L$: total land available."
   ],
   "metadata": {
    "collapsed": false,
    "pycharm": {
     "name": "#%% md\n"
    }
   }
  },
  {
   "cell_type": "code",
   "execution_count": 2,
   "outputs": [],
   "source": [
    "from pyomo.environ import *"
   ],
   "metadata": {
    "collapsed": false,
    "pycharm": {
     "name": "#%%\n"
    }
   }
  },
  {
   "cell_type": "markdown",
   "source": [
    "### Deterministic Formulation\n",
    "\n",
    "#### Constraints:\n",
    "\n",
    "1. **Total Land Constraint**:\n",
    "\\begin{align*}\n",
    "\\sum_{i,j} x_{i,j} \\le L\n",
    "\\end{align*}\n",
    "\n",
    "2. **Demand Constraint**:\n",
    "\\begin{align*}\n",
    "z_i &\\le D_i \\\\\n",
    "\\end{align*}\n",
    "\n",
    "3. **Irrigation Choice Constraints I**:\n",
    "\\begin{align*}\n",
    "\\sum_{j} y_{i,j} = 1 \\quad \\forall i\n",
    "\\end{align*}\n",
    "\n",
    "4. **Irrigation Choice Constraints II**:\n",
    "\\begin{align*}\n",
    "x_{i,j} \\le Ly_{i,j} \\quad \\forall i,j\n",
    "\\end{align*}\n",
    "\n",
    "5. **Yield Constraints**:\n",
    "\n",
    "\\begin{align*}\n",
    "\\sum_{j} \\xi_{i,j} x_{i,j} = z_i\n",
    "\\end{align*}\n",
    "\n",
    "#### Objective:\n",
    "\n",
    "$$ \\textbf{min} \\quad \\sum_{i}  \\{R_{i}\\sum_{j} {x_{i,j}} + \\sum_{j} C^{f}_{i,j} {y_{i,j}} + \\sum_{j} C^{v}_{i,j} {x_{i,j}} \\} - \\sum_{i} D_{i} {z_{i}}$$"
   ],
   "metadata": {
    "collapsed": false,
    "pycharm": {
     "name": "#%% md\n"
    }
   }
  },
  {
   "cell_type": "markdown",
   "source": [
    "### Stochastic formulation given scenarios S\n",
    "\n",
    "#### Constraints:\n",
    "\n",
    "1. **Total Land Constraint(1st stage)**:\n",
    "\\begin{align*}\n",
    "\\sum_{i,j} x_{i,j} \\le L\n",
    "\\end{align*}\n",
    "\n",
    "2. **Demand Constraint(2nd stage)**\n",
    "\\begin{align*}\n",
    "z_{i,s} &\\le D_{i,s} \\quad \\forall s\\\\\n",
    "\\end{align*}\n",
    "\n",
    "3. **Irrigation Choice Constraints I(1st stage)**:\n",
    "\\begin{align*}\n",
    "\\sum_{j} y_{i,j} = 1 \\quad \\forall i\n",
    "\\end{align*}\n",
    "\n",
    "4. **Irrigation Choice Constraints II(1st stage)**:\n",
    "\\begin{align*}\n",
    "x_{i,j} \\le Ly_{i,j} \\quad \\forall i,j\n",
    "\\end{align*}\n",
    "\n",
    "5. **Yield Constraints(2nd stage)**:\n",
    "\n",
    "\\begin{align*}\n",
    "\\sum_{j} \\xi_{i,j,s} x_{i,j} = z_{i,s} \\quad  \\forall  i,s\n",
    "\\end{align*}\n",
    "\n",
    "#### Objective:\n",
    "\n",
    "$$ \\textbf{min} \\quad \\sum_{i}  \\{R_{i}\\sum_{j} {x_{i,j}} + \\sum_{j} C^{f}_{i,j} {y_{i,j}} + \\sum_{j} C^{v}_{i,j} {x_{i,j}} \\} - \\sum_{s} \\Psi_{s} \\sum_{i} D_{i,s} {z_{i,s}}$$"
   ],
   "metadata": {
    "collapsed": false,
    "pycharm": {
     "name": "#%% md\n"
    }
   }
  },
  {
   "cell_type": "code",
   "execution_count": 7,
   "outputs": [],
   "source": [
    "# Instantiate the model\n",
    "m2 = ConcreteModel()\n",
    "\n",
    "# Sets\n",
    "m2.i = Set(initialize=[1,2,3])  # Produce category\n",
    "m2.j = Set(initialize=[1,2,3])  # Irrigation level\n",
    "m2.s = Set(initialize=[1,2])  # This needs to be initialized with your scenarios\n",
    "\n",
    "# Decision Variables\n",
    "m2.x = Var(m2.i, m2.j, domain=NonNegativeReals)  # Land allocated\n",
    "m2.y = Var(m2.i, m2.j, domain=Binary)            # Irrigation choice\n",
    "m2.z = Var(m2.i, m2.s, domain=NonNegativeReals)  # Production based on uncertainty realization\n",
    "\n",
    "# Parameters\n",
    "\n",
    "# Cost of seeds\n",
    "m2.R = Param(m2.i, initialize={1:100, 2:80, 3:90})\n",
    "\n",
    "# Fixed cost of irrigation\n",
    "m2.Cf = Param(m2.i, m2.j, initialize={\n",
    "    (1, 1): 10, (1, 2): 20, (1, 3): 30,\n",
    "    (2, 1): 8, (2, 2): 16, (2, 3): 24,\n",
    "    (3, 1): 12, (3, 2): 22, (3, 3): 32\n",
    "})\n",
    "\n",
    "# Variable cost of irrigation\n",
    "m2.Cv = Param(m2.i, m2.j, initialize={\n",
    "    (1, 1): 10, (1, 2): 12, (1, 3): 15,\n",
    "    (2, 1): 8,  (2, 2): 9,  (2, 3): 11,\n",
    "    (3, 1): 11, (3, 2): 13, (3, 3): 14,\n",
    "})\n",
    "\n",
    "# Sample Yields for each produce type under each irrigation level and scenario\n",
    "m2.xi = Param(m2.i, m2.j, m2.s, initialize={\n",
    "    (1, 1, 1): 50, (1, 2, 1): 55, (1, 3, 1): 58,\n",
    "    (2, 1, 1): 60, (2, 2, 1): 62, (2, 3, 1): 65,\n",
    "    (3, 1, 1): 45, (3, 2, 1): 47, (3, 3, 1): 50,\n",
    "    (1, 1, 2): 52, (1, 2, 2): 56, (1, 3, 2): 59,\n",
    "    (2, 1, 2): 61, (2, 2, 2): 63, (2, 3, 2): 67,\n",
    "    (3, 1, 2): 46, (3, 2, 2): 48, (3, 3, 2): 52,\n",
    "})\n",
    "\n",
    "# Market prices for each produce and scenario\n",
    "m2.P = Param(m2.i, m2.s, initialize={\n",
    "    (1, 1): 200, (1, 2): 210,\n",
    "    (2, 1): 170, (2, 2): 175,\n",
    "    (3, 1): 220, (3, 2): 230,\n",
    "})\n",
    "\n",
    "# Market demand for each produce and scenario\n",
    "m2.D = Param(m2.i, m2.s, initialize={\n",
    "    (1, 1): 5000, (1, 2): 5500,\n",
    "    (2, 1): 6000, (2, 2): 6500,\n",
    "    (3, 1): 4500, (3, 2): 4800,\n",
    "})\n",
    "\n",
    "# Total land available\n",
    "m2.L = Param(initialize=10000)\n",
    "\n",
    "# Probability of scenarios:\n",
    "\n",
    "m2.Psi = Param(m2.s, initialize={1: 0.5, 2: 0.5})\n",
    "\n",
    "# Constraints\n",
    "# Total Land Constraint\n",
    "def land_constraint_rule(model):\n",
    "    return sum(model.x[i,j] for i in model.i for j in model.j) <= model.L\n",
    "m2.land_constraint = Constraint(rule=land_constraint_rule)\n",
    "\n",
    "# Irrigation Choice Constraint I\n",
    "def irrigation_choice_I_rule(model, i):\n",
    "    return sum(model.y[i,j] for j in model.j) == 1\n",
    "m2.irrigation_choice_I = Constraint(m2.i, rule=irrigation_choice_I_rule)\n",
    "\n",
    "# Irrigation Choice Constraint II\n",
    "def irrigation_choice_II_rule(model, i, j):\n",
    "    return model.x[i,j] <= model.L * model.y[i,j]\n",
    "m2.irrigation_choice_II = Constraint(m2.i, m2.j, rule=irrigation_choice_II_rule)\n",
    "\n",
    "# Demand Constraint\n",
    "def demand_constraint_rule(model, i, s):\n",
    "    return model.z[i,s] <= model.D[i,s]\n",
    "m2.demand_constraint = Constraint(m2.i, m2.s, rule=demand_constraint_rule)\n",
    "\n",
    "# Yield Constraint\n",
    "def yield_constraint_rule(model, i, s):\n",
    "    return sum(model.xi[i,j,s]*model.x[i,j] for j in model.j) == model.z[i,s]\n",
    "m2.yield_constraint = Constraint(m2.i, m2.s, rule=yield_constraint_rule)\n",
    "\n",
    "# Objective Function\n",
    "def obj_rule(model):\n",
    "    return sum(model.R[i]*sum(model.x[i,j] for j in model.j) + sum(model.Cf[i,j]*m2.y[i,j] + model.Cv[i,j]*model.x[i,j] for j in model.j) for i in model.i) \\\n",
    "           - sum(model.Psi[s]*sum(model.P[i,s]*model.z[i,s] for i in model.i) for s in model.s)\n",
    "m2.obj = Objective(rule=obj_rule, sense=minimize)\n",
    "\n",
    "opt2 = SolverFactory('gurobi_persistent')\n",
    "opt2.set_instance(m2)\n",
    "opt2.solve()"
   ],
   "metadata": {
    "collapsed": false,
    "pycharm": {
     "name": "#%%\n"
    }
   }
  },
  {
   "cell_type": "code",
   "execution_count": null,
   "outputs": [],
   "source": [],
   "metadata": {
    "collapsed": false,
    "pycharm": {
     "name": "#%%\n"
    }
   }
  }
 ],
 "metadata": {
  "kernelspec": {
   "display_name": "Python 3",
   "language": "python",
   "name": "python3"
  },
  "language_info": {
   "codemirror_mode": {
    "name": "ipython",
    "version": 2
   },
   "file_extension": ".py",
   "mimetype": "text/x-python",
   "name": "python",
   "nbconvert_exporter": "python",
   "pygments_lexer": "ipython2",
   "version": "2.7.6"
  }
 },
 "nbformat": 4,
 "nbformat_minor": 0
}