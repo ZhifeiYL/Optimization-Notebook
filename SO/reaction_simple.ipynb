{
 "cells": [
  {
   "cell_type": "code",
   "execution_count": 1,
   "outputs": [],
   "source": [
    "from pyomo.environ import *"
   ],
   "metadata": {
    "collapsed": false,
    "pycharm": {
     "name": "#%%\n"
    }
   }
  },
  {
   "cell_type": "markdown",
   "source": [
    "## An Easy Two-stage Stochastic Programming Example in Process Design\n",
    "\n",
    "\n",
    "<img src=\"illustrations/so_reaction.png\" alt=\"process\" width=\"800\" height=\"500\"/>\n"
   ],
   "metadata": {
    "collapsed": false,
    "pycharm": {
     "name": "#%% md\n"
    }
   }
  },
  {
   "cell_type": "markdown",
   "source": [
    "### Nomenclature:\n",
    "\n",
    "#### Decision Variables:\n",
    "\n",
    "- $F_{A}$: flow rate of A (reactant)\n",
    "\n",
    "- $F_{B}$: flow rate of B (reactant)\n",
    "\n",
    "- $F_{C}$: flow rate of C (product)\n",
    "\n",
    "- $F_{D}$: flow rate of D (product)\n",
    "\n",
    "- $R_{C}$: backorder C\n",
    "\n",
    "- $R_{C}$: backorder D\n",
    "\n",
    "- $y_1$: whether reaction 1 is selected.\n",
    "\n",
    "- $y_2$: whether reaction 2 is selected.\n",
    "\n",
    "#### Uncertain Parameters:\n",
    "\n",
    "- $P_{C}, P_{D}$: Market prices for C,D at the end of the season (exogenous uncertainty).\n",
    "\n",
    "- $D_{C}, D_{D}$: Demand for C, D\n",
    "\n",
    "#### Deterministic parameters\n",
    "\n",
    "- $\\xi_{1}, \\xi_{2}$: Yields for reaction 1 and 2\n",
    "\n",
    "- $C^{v}_{A}, C^{v}_{B}$: unit cost of A and B, respectively.\n",
    "\n",
    "- $C^{f}_{1}, C^{f}_{2}$: fixed cost of reactor 1 and 2, respectively.\n",
    "\n",
    "- $Q$: Processing capacity for the reactor.\n",
    "\n",
    "- $P^{B}_{C}, P^{B}_{D}$: Backorder price for C and D."
   ],
   "metadata": {
    "collapsed": false,
    "pycharm": {
     "name": "#%% md\n"
    }
   }
  },
  {
   "cell_type": "markdown",
   "source": [
    "### Deterministic Formulation\n",
    "\n",
    "#### Constraints:\n",
    "\n",
    "1 **Capacity Constraints**:\n",
    "\\begin{align*}\n",
    "F_{A} \\le Q \\cdot y_{1} \\\\\n",
    "F_{B} \\le Q \\cdot y_{2}\n",
    "\\end{align*}\n",
    "\n",
    "2 **Yield Constraints**:\n",
    "\n",
    "\\begin{align*}\n",
    "\\xi_{1} F_{A} = F_{C} \\\\\n",
    "\\xi_{2} F_{B} = F_{D}\n",
    "\\end{align*}\n",
    "\n",
    "3 **Demand/backorder Constraint**:\n",
    "\n",
    "\\begin{align*}\n",
    "F_{C} + R_{C} >= D_{C} \\\\\n",
    "F_{D} + R_{D} >= D_{D}\n",
    "\\end{align*}\n",
    "\n",
    "#### Objective:\n",
    "\n",
    "$$ \\textbf{min} \\quad (C^{f}_{1} y_1 + C^{f}_{2}y_2) + (C^{v}_{A}F_{A} + C^{v}_{B}F_{B}) + ( P^{B}_{C}R_{C} + P^{B}_{D} R_{D} - P_{C}F_{C} - P_{D}F_{D})  $$"
   ],
   "metadata": {
    "collapsed": false,
    "pycharm": {
     "name": "#%% md\n"
    }
   }
  },
  {
   "cell_type": "code",
   "execution_count": 2,
   "outputs": [],
   "source": [
    "def build_det():\n",
    "    m = ConcreteModel()\n",
    "\n",
    "    m.Q = Param(initialize=20)\n",
    "    m.xi1 = Param(initialize=0.8)\n",
    "    m.xi2 = Param(initialize=0.4)\n",
    "    m.cf1 = Param(initialize=20)\n",
    "    m.cf2 = Param(initialize=50)\n",
    "    m.cva = Param(initialize=2)\n",
    "    m.cvb = Param(initialize=4)\n",
    "    m.pbc = Param(initialize=20)\n",
    "    m.pbd = Param(initialize=25)\n",
    "\n",
    "    m.pc = Param(initialize=10)\n",
    "    m.pd = Param(initialize=12)\n",
    "    m.Dc = Param(initialize=16)\n",
    "    m.Dd = Param(initialize=2)\n",
    "\n",
    "    m.Fa = Var(domain=NonNegativeReals)\n",
    "    m.Fb = Var(domain=NonNegativeReals)\n",
    "    m.Fc = Var(domain=NonNegativeReals)\n",
    "    m.Fd = Var(domain=NonNegativeReals)\n",
    "\n",
    "    m.y1 = Var(domain=Binary)\n",
    "    m.y2 = Var(domain=Binary)\n",
    "\n",
    "    m.Rc = Var(domain=NonNegativeReals)\n",
    "    m.Rd = Var(domain=NonNegativeReals)\n",
    "\n",
    "    def _c1a(m):\n",
    "        return m.Fa <= m.Q * m.y1\n",
    "    m.c1a = Constraint(rule=_c1a)\n",
    "\n",
    "    def _c1b(m):\n",
    "        return m.Fb <= m.Q * m.y2\n",
    "    m.c1b = Constraint(rule=_c1b)\n",
    "\n",
    "    def _c2a(m):\n",
    "        return m.xi1 * m.Fa == m.Fc\n",
    "    m.c2a = Constraint(rule=_c2a)\n",
    "\n",
    "    def _c2b(m):\n",
    "        return m.xi2 * m.Fb == m.Fd\n",
    "    m.c2b = Constraint(rule=_c2b)\n",
    "\n",
    "    def _c3c(m):\n",
    "        return m.Fc + m.Rc >= m.Dc\n",
    "    m.c3c = Constraint(rule=_c3c)\n",
    "\n",
    "    def _c3d(m):\n",
    "        return m.Fd + m.Rd >= m.Dd\n",
    "    m.c3d = Constraint(rule=_c3d)\n",
    "\n",
    "    m.obj = Objective(\n",
    "        expr = (m.cf1*m.y1 + m.cf2*m.y2) + (m.cva*m.Fa + m.cvb*m.Fb)\n",
    "               + (m.pbc*m.Rc + m.pbd*m.Rd - m.pc*(m.Fc+m.Rc) - m.pd*(m.Fd+m.Rd)),\n",
    "        sense=minimize\n",
    "    )\n",
    "\n",
    "    return m\n",
    "\n"
   ],
   "metadata": {
    "collapsed": false,
    "pycharm": {
     "name": "#%%\n"
    }
   }
  },
  {
   "cell_type": "code",
   "execution_count": 3,
   "outputs": [
    {
     "name": "stdout",
     "output_type": "stream",
     "text": [
      "Restricted license - for non-production use only - expires 2025-11-24\n"
     ]
    }
   ],
   "source": [
    "mdet = build_det()\n",
    "\n",
    "opt1 = SolverFactory('gurobi_persistent')\n",
    "opt1.set_instance(mdet)\n",
    "opt1.solve();"
   ],
   "metadata": {
    "collapsed": false,
    "pycharm": {
     "name": "#%%\n"
    }
   }
  },
  {
   "cell_type": "code",
   "execution_count": 4,
   "outputs": [
    {
     "name": "stdout",
     "output_type": "stream",
     "text": [
      "Fa : Size=1, Index=None\n",
      "    Key  : Lower : Value : Upper : Fixed : Stale : Domain\n",
      "    None :     0 :  20.0 :  None : False : False : NonNegativeReals\n",
      "Fb : Size=1, Index=None\n",
      "    Key  : Lower : Value : Upper : Fixed : Stale : Domain\n",
      "    None :     0 :   0.0 :  None : False : False : NonNegativeReals\n",
      "Fc : Size=1, Index=None\n",
      "    Key  : Lower : Value : Upper : Fixed : Stale : Domain\n",
      "    None :     0 :  16.0 :  None : False : False : NonNegativeReals\n",
      "Fd : Size=1, Index=None\n",
      "    Key  : Lower : Value : Upper : Fixed : Stale : Domain\n",
      "    None :     0 :   0.0 :  None : False : False : NonNegativeReals\n",
      "y1 : Size=1, Index=None\n",
      "    Key  : Lower : Value : Upper : Fixed : Stale : Domain\n",
      "    None :     0 :   1.0 :     1 : False : False : Binary\n",
      "y2 : Size=1, Index=None\n",
      "    Key  : Lower : Value : Upper : Fixed : Stale : Domain\n",
      "    None :     0 :   0.0 :     1 : False : False : Binary\n",
      "Rc : Size=1, Index=None\n",
      "    Key  : Lower : Value : Upper : Fixed : Stale : Domain\n",
      "    None :     0 :   0.0 :  None : False : False : NonNegativeReals\n",
      "Rd : Size=1, Index=None\n",
      "    Key  : Lower : Value : Upper : Fixed : Stale : Domain\n",
      "    None :     0 :   2.0 :  None : False : False : NonNegativeReals\n"
     ]
    },
    {
     "data": {
      "text/plain": "-74.0"
     },
     "execution_count": 4,
     "metadata": {},
     "output_type": "execute_result"
    }
   ],
   "source": [
    "for v in mdet.component_objects(Var, active=True):\n",
    "    v.pprint()\n",
    "value(mdet.obj)"
   ],
   "metadata": {
    "collapsed": false,
    "pycharm": {
     "name": "#%%\n"
    }
   }
  },
  {
   "cell_type": "markdown",
   "source": [
    "### Stochastic formulation\n",
    "\n",
    "Three scenarios with equal probability $\\Psi(\\omega)$.\n",
    "\n",
    "First stage variables:\n",
    "\n",
    "Group 1: discrete\n",
    "$$ y^{\\omega}_{1}, y^{\\omega}_{2} $$\n",
    "\n",
    "Group 2: continuous\n",
    "$$ F^{\\omega}_{A}, F^{\\omega}_{B}, F^{\\omega}_{C}, F^{\\omega}_{D} $$\n",
    "\n",
    "Recourse actions:\n",
    "$$ R^{\\omega}_{C}, R^{\\omega}_{D} $$\n",
    "\n",
    "#### Constraints:\n",
    "\n",
    "1 **Capacity Constraints**:\n",
    "\\begin{align*}\n",
    "F^{\\omega}_{A} \\le Q \\cdot y^{\\omega}_{1} \\\\\n",
    "F^{\\omega}_{B} \\le Q \\cdot y^{\\omega}_{2}\n",
    "\\end{align*}\n",
    "\n",
    "2 **Yield Constraints**:\n",
    "\n",
    "\\begin{align*}\n",
    "\\xi_{1} F^{\\omega}_{A} = F^{\\omega}_{C} \\\\\n",
    "\\xi_{2} F^{\\omega}_{B} = F^{\\omega}_{D}\n",
    "\\end{align*}\n",
    "\n",
    "3 **Demand/backorder Constraint**:\n",
    "\n",
    "\\begin{align*}\n",
    "F^{\\omega}_{C} + R^{\\omega}_{C} \\ge D^{\\omega}_{C} \\\\\n",
    "F^{\\omega}_{D} + R^{\\omega}_{D} \\ge D^{\\omega}_{D}\n",
    "\\end{align*}\n",
    "\n",
    "4 **NACs**:\n",
    "\n",
    "\\begin{align*}\n",
    "    x_{\\omega} = x_{1}\n",
    "\\end{align*}\n",
    "\n",
    "#### Objective:\n",
    "\n",
    "$$ \\textbf{min} \\quad \\sum_{\\omega} \\Psi^{\\omega} ((C^{f}_{1} y^{\\omega}_1 + C^{f}_{2}y^{\\omega}_2) + (C^{v}_{A}F^{\\omega}_{A} + C^{v}_{B}F^{\\omega}_{B}) + ( P^{B}_{C}R^{\\omega}_{C} + P^{B}_{D} R^{\\omega}_{D} - P^{\\omega}_{C}F^{\\omega}_{C} - P^{\\omega}_{D}F^{\\omega}_{D}))  $$\n"
   ],
   "metadata": {
    "collapsed": false,
    "pycharm": {
     "name": "#%% md\n"
    }
   }
  },
  {
   "cell_type": "code",
   "execution_count": 5,
   "outputs": [],
   "source": [
    "def build_sp():\n",
    "    m = ConcreteModel()\n",
    "\n",
    "    # scenarios\n",
    "    m.omega = Set(initialize=[1,2,3])\n",
    "\n",
    "    # deterministic parameter\n",
    "    m.Q = Param(initialize=20)\n",
    "    m.xi1 = Param(initialize=0.8)\n",
    "    m.xi2 = Param(initialize=0.4)\n",
    "    m.cf1 = Param(initialize=20)\n",
    "    m.cf2 = Param(initialize=50)\n",
    "    m.cva = Param(initialize=2)\n",
    "    m.cvb = Param(initialize=4)\n",
    "    m.pbc = Param(initialize=20)\n",
    "    m.pbd = Param(initialize=25)\n",
    "\n",
    "    # uncertain parameter\n",
    "    m.pc = Param(m.omega, initialize={1:5, 2:10, 3:15})\n",
    "    m.pd = Param(m.omega, initialize={1:6, 2:12, 3:18})\n",
    "    m.Dc = Param(m.omega, initialize={1:10, 2:16, 3:25})\n",
    "    m.Dd = Param(m.omega, initialize={1:0, 2:2, 3:16})\n",
    "\n",
    "    # Probability of scenario omega\n",
    "    m.Psi = Param(m.omega, initialize={1:1/3, 2:1/3, 3:1/3})\n",
    "\n",
    "    # First stage, continuous\n",
    "    m.Fa = Var(m.omega, domain=NonNegativeReals)\n",
    "    m.Fb = Var(m.omega, domain=NonNegativeReals)\n",
    "    m.Fc = Var(m.omega, domain=NonNegativeReals)\n",
    "    m.Fd = Var(m.omega, domain=NonNegativeReals)\n",
    "\n",
    "    # First stage, discrete\n",
    "    m.y1 = Var(m.omega, domain=Binary)\n",
    "    m.y2 = Var(m.omega, domain=Binary)\n",
    "\n",
    "    # Recourse action\n",
    "    m.Rc = Var(m.omega, domain=NonNegativeReals)\n",
    "    m.Rd = Var(m.omega, domain=NonNegativeReals)\n",
    "\n",
    "    def nac_Fa(m, omega):\n",
    "        if omega == m.omega.first():\n",
    "            return Constraint.Skip\n",
    "        return m.Fa[omega] == m.Fa[m.omega.first()]\n",
    "    m.NAC_Fa = Constraint(m.omega, rule=nac_Fa)\n",
    "\n",
    "    def nac_Fb(m, omega):\n",
    "        if omega == m.omega.first():\n",
    "            return Constraint.Skip\n",
    "        return m.Fb[omega] == m.Fb[m.omega.first()]\n",
    "    m.NAC_Fb = Constraint(m.omega, rule=nac_Fb)\n",
    "\n",
    "    def nac_Fc(m, omega):\n",
    "        if omega == m.omega.first():\n",
    "            return Constraint.Skip\n",
    "        return m.Fc[omega] == m.Fc[m.omega.first()]\n",
    "    m.NAC_Fc = Constraint(m.omega, rule=nac_Fc)\n",
    "\n",
    "    def nac_Fd(m, omega):\n",
    "        if omega == m.omega.first():\n",
    "            return Constraint.Skip\n",
    "        return m.Fd[omega] == m.Fd[m.omega.first()]\n",
    "    m.NAC_Fd = Constraint(m.omega, rule=nac_Fd)\n",
    "\n",
    "    def nac_y1(m, omega):\n",
    "        if omega == m.omega.first():\n",
    "            return Constraint.Skip\n",
    "        return m.y1[omega] == m.y1[m.omega.first()]\n",
    "    m.NAC_y1 = Constraint(m.omega, rule=nac_y1)\n",
    "\n",
    "    def nac_y2(m, omega):\n",
    "        if omega == m.omega.first():\n",
    "            return Constraint.Skip\n",
    "        return m.y2[omega] == m.y2[m.omega.first()]\n",
    "    m.NAC_y2 = Constraint(m.omega, rule=nac_y2)\n",
    "\n",
    "    def _c1a(m, omega):\n",
    "        return m.Fa[omega] <= m.Q * m.y1[omega]\n",
    "    m.c1a = Constraint(m.omega, rule=_c1a)\n",
    "\n",
    "    def _c1b(m, omega):\n",
    "        return m.Fb[omega] <= m.Q * m.y2[omega]\n",
    "    m.c1b = Constraint(m.omega, rule=_c1b)\n",
    "\n",
    "    def _c2a(m, omega):\n",
    "        return m.xi1 * m.Fa[omega] == m.Fc[omega]\n",
    "    m.c2a = Constraint(m.omega, rule=_c2a)\n",
    "\n",
    "    def _c2b(m, omega):\n",
    "        return m.xi2 * m.Fb[omega] == m.Fd[omega]\n",
    "    m.c2b = Constraint(m.omega, rule=_c2b)\n",
    "\n",
    "    def _c3c(m, omega):\n",
    "        return m.Fc[omega] + m.Rc[omega] >= m.Dc[omega]\n",
    "    m.c3c = Constraint(m.omega, rule=_c3c)\n",
    "\n",
    "    def _c3d(m, omega):\n",
    "        return m.Fd[omega] + m.Rd[omega] >= m.Dd[omega]\n",
    "    m.c3d = Constraint(m.omega, rule=_c3d)\n",
    "\n",
    "    m.obj = Objective(\n",
    "        expr = sum(((m.cf1*m.y1[omega] + m.cf2*m.y2[omega]) + (m.cva*m.Fa[omega] + m.cvb*m.Fb[omega])\n",
    "                    + (m.pbc*m.Rc[omega] + m.pbd*m.Rd[omega] - m.pc[omega]*(m.Fc[omega]+m.Rc[omega])\n",
    "                       - m.pd[omega]*(m.Fd[omega]+m.Rd[omega]))) * m.Psi[omega] for omega in m.omega),\n",
    "        sense=minimize\n",
    "    )\n",
    "\n",
    "    return m"
   ],
   "metadata": {
    "collapsed": false,
    "pycharm": {
     "name": "#%%\n"
    }
   }
  },
  {
   "cell_type": "code",
   "execution_count": 6,
   "outputs": [],
   "source": [
    "msp = build_sp()\n",
    "\n",
    "opt2 = SolverFactory('gurobi_persistent')\n",
    "opt2.set_instance(msp)\n",
    "opt2.solve();"
   ],
   "metadata": {
    "collapsed": false,
    "pycharm": {
     "name": "#%%\n"
    }
   }
  },
  {
   "cell_type": "code",
   "execution_count": 7,
   "outputs": [
    {
     "name": "stdout",
     "output_type": "stream",
     "text": [
      "Fa : Size=3, Index=omega\n",
      "    Key : Lower : Value : Upper : Fixed : Stale : Domain\n",
      "      1 :     0 :  20.0 :  None : False : False : NonNegativeReals\n",
      "      2 :     0 :  20.0 :  None : False : False : NonNegativeReals\n",
      "      3 :     0 :  20.0 :  None : False : False : NonNegativeReals\n",
      "Fb : Size=3, Index=omega\n",
      "    Key : Lower : Value : Upper : Fixed : Stale : Domain\n",
      "      1 :     0 :   0.0 :  None : False : False : NonNegativeReals\n",
      "      2 :     0 :   0.0 :  None : False : False : NonNegativeReals\n",
      "      3 :     0 :   0.0 :  None : False : False : NonNegativeReals\n",
      "Fc : Size=3, Index=omega\n",
      "    Key : Lower : Value : Upper : Fixed : Stale : Domain\n",
      "      1 :     0 :  16.0 :  None : False : False : NonNegativeReals\n",
      "      2 :     0 :  16.0 :  None : False : False : NonNegativeReals\n",
      "      3 :     0 :  16.0 :  None : False : False : NonNegativeReals\n",
      "Fd : Size=3, Index=omega\n",
      "    Key : Lower : Value : Upper : Fixed : Stale : Domain\n",
      "      1 :     0 :   0.0 :  None : False : False : NonNegativeReals\n",
      "      2 :     0 :   0.0 :  None : False : False : NonNegativeReals\n",
      "      3 :     0 :   0.0 :  None : False : False : NonNegativeReals\n",
      "y1 : Size=3, Index=omega\n",
      "    Key : Lower : Value : Upper : Fixed : Stale : Domain\n",
      "      1 :     0 :   1.0 :     1 : False : False : Binary\n",
      "      2 :     0 :   1.0 :     1 : False : False : Binary\n",
      "      3 :     0 :   1.0 :     1 : False : False : Binary\n",
      "y2 : Size=3, Index=omega\n",
      "    Key : Lower : Value : Upper : Fixed : Stale : Domain\n",
      "      1 :     0 :   0.0 :     1 : False : False : Binary\n",
      "      2 :     0 :   0.0 :     1 : False : False : Binary\n",
      "      3 :     0 :   0.0 :     1 : False : False : Binary\n",
      "Rc : Size=3, Index=omega\n",
      "    Key : Lower : Value : Upper : Fixed : Stale : Domain\n",
      "      1 :     0 :   0.0 :  None : False : False : NonNegativeReals\n",
      "      2 :     0 :   0.0 :  None : False : False : NonNegativeReals\n",
      "      3 :     0 :   9.0 :  None : False : False : NonNegativeReals\n",
      "Rd : Size=3, Index=omega\n",
      "    Key : Lower : Value : Upper : Fixed : Stale : Domain\n",
      "      1 :     0 :   0.0 :  None : False : False : NonNegativeReals\n",
      "      2 :     0 :   2.0 :  None : False : False : NonNegativeReals\n",
      "      3 :     0 :  16.0 :  None : False : False : NonNegativeReals\n"
     ]
    },
    {
     "data": {
      "text/plain": "-38.99999999999999"
     },
     "execution_count": 7,
     "metadata": {},
     "output_type": "execute_result"
    }
   ],
   "source": [
    "for v in msp.component_objects(Var, active=True):\n",
    "    v.pprint()\n",
    "value(msp.obj)"
   ],
   "metadata": {
    "collapsed": false,
    "pycharm": {
     "name": "#%%\n"
    }
   }
  },
  {
   "cell_type": "code",
   "execution_count": 8,
   "outputs": [],
   "source": [
    "def build_sp2():\n",
    "    m = ConcreteModel()\n",
    "\n",
    "    # scenarios\n",
    "    m.omega = Set(initialize=[1,2,3])\n",
    "\n",
    "    # deterministic parameter\n",
    "    m.Q = Param(initialize=20)\n",
    "    m.xi1 = Param(initialize=0.8)\n",
    "    m.xi2 = Param(initialize=0.4)\n",
    "    m.cf1 = Param(initialize=20)\n",
    "    m.cf2 = Param(initialize=50)\n",
    "    m.cva = Param(initialize=2)\n",
    "    m.cvb = Param(initialize=4)\n",
    "    m.pbc = Param(initialize=20)\n",
    "    m.pbd = Param(initialize=25)\n",
    "\n",
    "    # uncertain parameter\n",
    "    m.pc = Param(m.omega, initialize={1:5, 2:10, 3:15})\n",
    "    m.pd = Param(m.omega, initialize={1:6, 2:12, 3:18})\n",
    "    m.Dc = Param(m.omega, initialize={1:10, 2:16, 3:25})\n",
    "    m.Dd = Param(m.omega, initialize={1:0, 2:2, 3:16})\n",
    "\n",
    "    # Probability of scenario omega\n",
    "    m.Psi = Param(m.omega, initialize={1:1/3, 2:1/3, 3:1/3})\n",
    "\n",
    "    # First stage, continuous\n",
    "    m.Fa = Var(m.omega, domain=NonNegativeReals)\n",
    "    m.Fb = Var(m.omega, domain=NonNegativeReals)\n",
    "    m.Fc = Var(m.omega, domain=NonNegativeReals)\n",
    "    m.Fd = Var(m.omega, domain=NonNegativeReals)\n",
    "\n",
    "    # First stage, discrete\n",
    "    m.y1 = Var(m.omega, domain=Binary)\n",
    "    m.y2 = Var(m.omega, domain=Binary)\n",
    "\n",
    "    # Recourse action\n",
    "    m.Rc = Var(m.omega, domain=NonNegativeReals)\n",
    "    m.Rd = Var(m.omega, domain=NonNegativeReals)\n",
    "\n",
    "    def nac_y1(m, omega):\n",
    "        if omega == m.omega.first():\n",
    "            return Constraint.Skip\n",
    "        return m.y1[omega] == m.y1[m.omega.first()]\n",
    "    m.NAC_y1 = Constraint(m.omega, rule=nac_y1)\n",
    "\n",
    "    def nac_y2(m, omega):\n",
    "        if omega == m.omega.first():\n",
    "            return Constraint.Skip\n",
    "        return m.y2[omega] == m.y2[m.omega.first()]\n",
    "    m.NAC_y2 = Constraint(m.omega, rule=nac_y2)\n",
    "\n",
    "    def _c1a(m, omega):\n",
    "        return m.Fa[omega] <= m.Q * m.y1[omega]\n",
    "    m.c1a = Constraint(m.omega, rule=_c1a)\n",
    "\n",
    "    def _c1b(m, omega):\n",
    "        return m.Fb[omega] <= m.Q * m.y2[omega]\n",
    "    m.c1b = Constraint(m.omega, rule=_c1b)\n",
    "\n",
    "    def _c2a(m, omega):\n",
    "        return m.xi1 * m.Fa[omega] == m.Fc[omega]\n",
    "    m.c2a = Constraint(m.omega, rule=_c2a)\n",
    "\n",
    "    def _c2b(m, omega):\n",
    "        return m.xi2 * m.Fb[omega] == m.Fd[omega]\n",
    "    m.c2b = Constraint(m.omega, rule=_c2b)\n",
    "\n",
    "    def _c3c(m, omega):\n",
    "        return m.Fc[omega] + m.Rc[omega] >= m.Dc[omega]\n",
    "    m.c3c = Constraint(m.omega, rule=_c3c)\n",
    "\n",
    "    def _c3d(m, omega):\n",
    "        return m.Fd[omega] + m.Rd[omega] >= m.Dd[omega]\n",
    "    m.c3d = Constraint(m.omega, rule=_c3d)\n",
    "\n",
    "    m.obj = Objective(\n",
    "        expr = sum(((m.cf1*m.y1[omega] + m.cf2*m.y2[omega]) + (m.cva*m.Fa[omega] + m.cvb*m.Fb[omega])\n",
    "                    + (m.pbc*m.Rc[omega] + m.pbd*m.Rd[omega] - m.pc[omega]*(m.Fc[omega]+m.Rc[omega])\n",
    "                       - m.pd[omega]*(m.Fd[omega]+m.Rd[omega]))) * m.Psi[omega] for omega in m.omega),\n",
    "        sense=minimize\n",
    "    )\n",
    "\n",
    "    return m"
   ],
   "metadata": {
    "collapsed": false,
    "pycharm": {
     "name": "#%%\n"
    }
   }
  },
  {
   "cell_type": "code",
   "execution_count": 9,
   "outputs": [],
   "source": [
    "msp2 = build_sp2()\n",
    "\n",
    "opt3 = SolverFactory('gurobi_persistent')\n",
    "opt3.set_instance(msp2)\n",
    "opt3.solve();"
   ],
   "metadata": {
    "collapsed": false,
    "pycharm": {
     "name": "#%%\n"
    }
   }
  },
  {
   "cell_type": "code",
   "execution_count": 10,
   "outputs": [
    {
     "name": "stdout",
     "output_type": "stream",
     "text": [
      "Fa : Size=3, Index=omega\n",
      "    Key : Lower : Value : Upper : Fixed : Stale : Domain\n",
      "      1 :     0 :  20.0 :  None : False : False : NonNegativeReals\n",
      "      2 :     0 :  20.0 :  None : False : False : NonNegativeReals\n",
      "      3 :     0 :  20.0 :  None : False : False : NonNegativeReals\n",
      "Fb : Size=3, Index=omega\n",
      "    Key : Lower : Value : Upper : Fixed : Stale : Domain\n",
      "      1 :     0 :   0.0 :  None : False : False : NonNegativeReals\n",
      "      2 :     0 :  20.0 :  None : False : False : NonNegativeReals\n",
      "      3 :     0 :  20.0 :  None : False : False : NonNegativeReals\n",
      "Fc : Size=3, Index=omega\n",
      "    Key : Lower : Value : Upper : Fixed : Stale : Domain\n",
      "      1 :     0 :  16.0 :  None : False : False : NonNegativeReals\n",
      "      2 :     0 :  16.0 :  None : False : False : NonNegativeReals\n",
      "      3 :     0 :  16.0 :  None : False : False : NonNegativeReals\n",
      "Fd : Size=3, Index=omega\n",
      "    Key : Lower : Value : Upper : Fixed : Stale : Domain\n",
      "      1 :     0 :   0.0 :  None : False : False : NonNegativeReals\n",
      "      2 :     0 :   8.0 :  None : False : False : NonNegativeReals\n",
      "      3 :     0 :   8.0 :  None : False : False : NonNegativeReals\n",
      "y1 : Size=3, Index=omega\n",
      "    Key : Lower : Value : Upper : Fixed : Stale : Domain\n",
      "      1 :     0 :   1.0 :     1 : False : False : Binary\n",
      "      2 :     0 :   1.0 :     1 : False : False : Binary\n",
      "      3 :     0 :   1.0 :     1 : False : False : Binary\n",
      "y2 : Size=3, Index=omega\n",
      "    Key : Lower : Value : Upper : Fixed : Stale : Domain\n",
      "      1 :     0 :   1.0 :     1 : False : False : Binary\n",
      "      2 :     0 :   1.0 :     1 : False : False : Binary\n",
      "      3 :     0 :   1.0 :     1 : False : False : Binary\n",
      "Rc : Size=3, Index=omega\n",
      "    Key : Lower : Value : Upper : Fixed : Stale : Domain\n",
      "      1 :     0 :   0.0 :  None : False : False : NonNegativeReals\n",
      "      2 :     0 :   0.0 :  None : False : False : NonNegativeReals\n",
      "      3 :     0 :   9.0 :  None : False : False : NonNegativeReals\n",
      "Rd : Size=3, Index=omega\n",
      "    Key : Lower : Value : Upper : Fixed : Stale : Domain\n",
      "      1 :     0 :   0.0 :  None : False : False : NonNegativeReals\n",
      "      2 :     0 :   0.0 :  None : False : False : NonNegativeReals\n",
      "      3 :     0 :   8.0 :  None : False : False : NonNegativeReals\n"
     ]
    },
    {
     "data": {
      "text/plain": "-43.0"
     },
     "execution_count": 10,
     "metadata": {},
     "output_type": "execute_result"
    }
   ],
   "source": [
    "for v in msp2.component_objects(Var, active=True):\n",
    "    v.pprint()\n",
    "value(msp2.obj)"
   ],
   "metadata": {
    "collapsed": false,
    "pycharm": {
     "name": "#%%\n"
    }
   }
  },
  {
   "cell_type": "code",
   "execution_count": 10,
   "outputs": [],
   "source": [],
   "metadata": {
    "collapsed": false,
    "pycharm": {
     "name": "#%%\n"
    }
   }
  }
 ],
 "metadata": {
  "kernelspec": {
   "display_name": "Python 3",
   "language": "python",
   "name": "python3"
  },
  "language_info": {
   "codemirror_mode": {
    "name": "ipython",
    "version": 2
   },
   "file_extension": ".py",
   "mimetype": "text/x-python",
   "name": "python",
   "nbconvert_exporter": "python",
   "pygments_lexer": "ipython2",
   "version": "2.7.6"
  }
 },
 "nbformat": 4,
 "nbformat_minor": 0
}