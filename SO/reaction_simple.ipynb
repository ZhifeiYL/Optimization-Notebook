{
 "cells": [
  {
   "cell_type": "code",
   "execution_count": 1,
   "outputs": [],
   "source": [
    "from pyomo.environ import *"
   ],
   "metadata": {
    "collapsed": false,
    "pycharm": {
     "name": "#%%\n"
    }
   }
  },
  {
   "cell_type": "markdown",
   "source": [
    "## An Easy Two-stage Stochastic Programming Example in Process Design"
   ],
   "metadata": {
    "collapsed": false,
    "pycharm": {
     "name": "#%% md\n"
    }
   }
  },
  {
   "cell_type": "markdown",
   "source": [
    "### Nomenclature:\n",
    "\n",
    "#### Decision Variables:\n",
    "\n",
    "- $F_{A}$: flow rate of A (reactant)\n",
    "\n",
    "- $F_{B}$: flow rate of B (reactant)\n",
    "\n",
    "- $F_{C}$: flow rate of C (product)\n",
    "\n",
    "- $F_{D}$: flow rate of D (product)\n",
    "\n",
    "- $y_1$: whether reaction 1 is selected.\n",
    "\n",
    "- $y_2$: whether reaction 2 is selected.\n",
    "\n",
    "\n",
    "#### Uncertain Parameters:\n",
    "\n",
    "- $\\xi_{1}, \\xi_{2}$: Yields for reaction 1 and 2\n",
    "- $P_{C}, P_{D}$: Market prices for C,D at the end of the season (exogenous uncertainty).\n",
    "\n",
    "#### Probability distribution of uncertain parameters(when realized in scenario s):\n",
    "\n",
    "- $\\Psi^{s}$\n",
    "\n",
    "#### Deterministic parameters\n",
    "\n",
    "- $C_{A}, C_{B}$: unit cost of A and B, respectively.\n",
    "\n",
    "- $Q$: Processing capacity for the reactor."
   ],
   "metadata": {
    "collapsed": false,
    "pycharm": {
     "name": "#%% md\n"
    }
   }
  },
  {
   "cell_type": "markdown",
   "source": [
    "### Deterministic Formulation\n",
    "\n",
    "Here we enforce that at most one reaction is selected because we only have one reactor.\n",
    "\n",
    "#### Constraints:\n",
    "\n",
    "1. **Total Budget Constraint**:\n",
    "\\begin{align*}\n",
    "\\sum_{i,j} C_{A}F_{A} + C_{B}F_{B} \\le Q\n",
    "\\end{align*}\n",
    "\n",
    "2. **Reaction Capacity Constraint**:\n",
    "\\begin{align*}\n",
    "\\sum_{j} y_{1} + y_{2} \\le 1\n",
    "\\end{align*}\n",
    "\n",
    "3. **Capacity Constraints**:\n",
    "\\begin{align*}\n",
    "F_{A} \\le Q \\cdot y_{1} \\\\\n",
    "F_{B} \\le Q \\cdot y_{2}\n",
    "\\end{align*}\n",
    "\n",
    "4. **Yield Constraints**:\n",
    "\n",
    "\\begin{align*}\n",
    "\\xi_{1} F_{A} = F_{C} \\\\\n",
    "\\xi_{2} F_{B} = F_{D}\n",
    "\\end{align*}\n",
    "\n",
    "#### Objective:\n",
    "\n",
    "$$ \\textbf{min} \\quad C_{A}F_{A} + C_{B}F_{B} - P_{C}F_{C} - P_{D}F_{D}  $$"
   ],
   "metadata": {
    "collapsed": false,
    "pycharm": {
     "name": "#%% md\n"
    }
   }
  },
  {
   "cell_type": "code",
   "execution_count": 1,
   "outputs": [],
   "source": [],
   "metadata": {
    "collapsed": false,
    "pycharm": {
     "name": "#%%\n"
    }
   }
  },
  {
   "cell_type": "code",
   "execution_count": null,
   "outputs": [],
   "source": [],
   "metadata": {
    "collapsed": false,
    "pycharm": {
     "name": "#%%\n"
    }
   }
  }
 ],
 "metadata": {
  "kernelspec": {
   "display_name": "Python 3",
   "language": "python",
   "name": "python3"
  },
  "language_info": {
   "codemirror_mode": {
    "name": "ipython",
    "version": 2
   },
   "file_extension": ".py",
   "mimetype": "text/x-python",
   "name": "python",
   "nbconvert_exporter": "python",
   "pygments_lexer": "ipython2",
   "version": "2.7.6"
  }
 },
 "nbformat": 4,
 "nbformat_minor": 0
}