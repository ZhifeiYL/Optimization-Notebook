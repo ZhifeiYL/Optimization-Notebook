{
 "cells": [
  {
   "cell_type": "markdown",
   "source": [
    "# Plastic Recycling"
   ],
   "metadata": {
    "collapsed": false,
    "pycharm": {
     "name": "#%% md\n"
    }
   }
  },
  {
   "cell_type": "markdown",
   "source": [
    "### Nomenclature\n",
    "\n",
    "#### Sets/Indices\n",
    "\n",
    "- s: sets of streams\n",
    "- i: sets of units\n",
    "- j: sets of species\n",
    "\n",
    "#### Mixer\n",
    "\n",
    "$$ \\sum_{s \\in {inlet}} F_{s, j} = F_{outlet, j} \\quad \\forall j$$\n",
    "\n",
    "#### Splitter:\n",
    "\n",
    "decision: split ratio ($\\eta_i$)\n",
    "\n",
    "$$ \\eta_i F_{inlet, j} = F_{s, j} \\quad \\forall j\\in outlet $$\n",
    "\n",
    "#### Reactor:\n",
    "\n",
    "parameter: $A_i$, conversion matrix\n",
    "\n",
    "\n",
    "$$ \\nu_{r,k,j,rxn} \\chi_{r,j, rxn} = \\vec{F_{in,k}} - \\vec{F_{out,r}} $$"
   ],
   "metadata": {
    "collapsed": false,
    "pycharm": {
     "name": "#%% md\n"
    }
   }
  },
  {
   "cell_type": "code",
   "execution_count": null,
   "outputs": [],
   "source": [],
   "metadata": {
    "collapsed": false,
    "pycharm": {
     "name": "#%%\n"
    }
   }
  }
 ],
 "metadata": {
  "kernelspec": {
   "display_name": "Python 3",
   "language": "python",
   "name": "python3"
  },
  "language_info": {
   "codemirror_mode": {
    "name": "ipython",
    "version": 2
   },
   "file_extension": ".py",
   "mimetype": "text/x-python",
   "name": "python",
   "nbconvert_exporter": "python",
   "pygments_lexer": "ipython2",
   "version": "2.7.6"
  }
 },
 "nbformat": 4,
 "nbformat_minor": 0
}