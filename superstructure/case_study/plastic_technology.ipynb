{
 "cells": [
  {
   "cell_type": "markdown",
   "source": [],
   "metadata": {
    "collapsed": false,
    "pycharm": {
     "name": "#%% md\n"
    }
   }
  },
  {
   "cell_type": "code",
   "execution_count": 204,
   "outputs": [],
   "source": [
    "import matplotlib.pyplot\n",
    "from pyomo.environ import *\n",
    "from util.util import get_root_dir\n",
    "import pandas as pd\n",
    "import numpy as np\n",
    "from ordered_set import OrderedSet"
   ],
   "metadata": {
    "collapsed": false,
    "pycharm": {
     "name": "#%%\n"
    }
   }
  },
  {
   "cell_type": "code",
   "execution_count": 205,
   "outputs": [],
   "source": [
    "proj_dir = get_root_dir() + \"/superstructure/\"\n",
    "# data_dir = proj_dir + \"plastic_case/\""
   ],
   "metadata": {
    "collapsed": false,
    "pycharm": {
     "name": "#%%\n"
    }
   }
  },
  {
   "cell_type": "code",
   "execution_count": 206,
   "outputs": [],
   "source": [
    "df = pd.read_csv(\"data/productive.csv\", index_col=0)\n",
    "df;"
   ],
   "metadata": {
    "collapsed": false,
    "pycharm": {
     "name": "#%%\n"
    }
   }
  },
  {
   "cell_type": "code",
   "execution_count": 207,
   "outputs": [
    {
     "data": {
      "text/plain": "[('R1A-OL', 'FL1A'),\n ('R2A-OL', 'FL1A'),\n ('R3A-OL', 'FL1A'),\n ('R1C-OL', 'FL1A'),\n ('R2C-OL', 'FL1A'),\n ('R3C-OL', 'FL1A'),\n ('R4C-OL', 'FL1A'),\n ('DT1A-OL', 'PROD-ELEC'),\n ('DT2A-OL', 'PROD-ELEC'),\n ('DT2A-OL', 'PROD-GAS'),\n ('DT2A-OL', 'PROD-JTF'),\n ('DT2A-OL', 'PROD-DSL'),\n ('DT3A-OL', 'PROD-ELEC'),\n ('DT3A-OL', 'PROD-GAS'),\n ('DT3A-OL', 'PROD-JTF'),\n ('DT3A-OL', 'PROD-DSL'),\n ('FL1A-OL', 'DT1A'),\n ('FEED-LDPE', 'R1A'),\n ('FEED-LDPE', 'R1C'),\n ('FEED-LDPE', 'R2C'),\n ('FEED-LDPE', 'R3C'),\n ('FEED-HDPE', 'R2A'),\n ('FEED-HDPE', 'R1C'),\n ('FEED-HDPE', 'R2C'),\n ('FEED-HDPE', 'R3C'),\n ('FEED-PP', 'R3A'),\n ('FEED-PP', 'R2C'),\n ('FEED-PP', 'R3C'),\n ('FEED-PP', 'R4C'),\n ('FEED-H2', 'R1A'),\n ('FEED-H2', 'R2A'),\n ('FEED-H2', 'R3A'),\n ('R1A-OH', 'PROD-WASTE'),\n ('R2A-OH', 'PROD-WASTE'),\n ('R3A-OH', 'PROD-WASTE'),\n ('R1C-OH', 'PROD-WASTE'),\n ('R2C-OH', 'PROD-WASTE'),\n ('R3C-OH', 'PROD-WASTE'),\n ('R4C-OH', 'PROD-WASTE'),\n ('DT1A-OH', 'DT2A'),\n ('DT1A-OH', 'PROD-ELEC'),\n ('DT1A-OH', 'PROD-GAS'),\n ('DT1A-OH', 'PROD-JTF'),\n ('DT1A-OH', 'PROD-DSL'),\n ('DT2A-OH', 'DT3A'),\n ('DT2A-OH', 'PROD-ELEC'),\n ('DT2A-OH', 'PROD-GAS'),\n ('DT2A-OH', 'PROD-JTF'),\n ('DT2A-OH', 'PROD-DSL'),\n ('DT3A-OH', 'PROD-ELEC'),\n ('DT3A-OH', 'PROD-GAS'),\n ('DT3A-OH', 'PROD-JTF'),\n ('DT3A-OH', 'PROD-DSL'),\n ('FL1A-OH', 'PROD-WAX')]"
     },
     "execution_count": 207,
     "metadata": {},
     "output_type": "execute_result"
    }
   ],
   "source": [
    "productive_links = []\n",
    "for index, row in df.iterrows():\n",
    "    for column in df.columns:\n",
    "        if row[column] == 1:\n",
    "            productive_links.append((index, column))\n",
    "\n",
    "productive_links"
   ],
   "metadata": {
    "collapsed": false,
    "pycharm": {
     "name": "#%%\n"
    }
   }
  },
  {
   "cell_type": "code",
   "execution_count": 208,
   "outputs": [],
   "source": [
    "conversions = {}\n",
    "conversions[\"R1A\"] = {}\n",
    "conversions[\"R2A\"] = {}\n",
    "conversions[\"R3A\"] = {}\n",
    "conversions[\"R1C\"] = {}\n",
    "conversions[\"R2C\"] = {}\n",
    "conversions[\"R3C\"] = {}\n",
    "conversions[\"R4C\"] = {}\n",
    "df_R1A = pd.read_excel(\"data/reaction_data.xlsx\", sheet_name=\"R1A\", header=0)\n",
    "df_R2A = pd.read_excel(\"data/reaction_data.xlsx\", sheet_name=\"R2A\", header=0)\n",
    "df_R3A = pd.read_excel(\"data/reaction_data.xlsx\", sheet_name=\"R3A\", header=0)\n",
    "df_R1C = pd.read_excel(\"data/reaction_data.xlsx\", sheet_name=\"R1C\", header=0)\n",
    "df_R2C = pd.read_excel(\"data/reaction_data.xlsx\", sheet_name=\"R2C\", header=0)\n",
    "df_R3C = pd.read_excel(\"data/reaction_data.xlsx\", sheet_name=\"R3C\", header=0)\n",
    "df_R4C = pd.read_excel(\"data/reaction_data.xlsx\", sheet_name=\"R4C\", header=0)\n",
    "\n",
    "for index, row in df_R1A.iterrows():\n",
    "    if not row[\"Code\"] in {\"Waste\", \"WASTE\", \"waste\"}:\n",
    "        conversions[\"R1A\"][row[\"Code\"]] = row[\"Yield\"]\n",
    "\n",
    "for index, row in df_R2A.iterrows():\n",
    "    if not row[\"Code\"] in {\"Waste\", \"WASTE\", \"waste\"}:\n",
    "        conversions[\"R2A\"][row[\"Code\"]] = row[\"Yield\"]\n",
    "\n",
    "for index, row in df_R3A.iterrows():\n",
    "    if not row[\"Code\"] in {\"Waste\", \"WASTE\", \"waste\"}:\n",
    "        conversions[\"R3A\"][row[\"Code\"]] = row[\"Yield\"]\n",
    "\n",
    "for index, row in df_R1C.iterrows():\n",
    "    if not row[\"Code\"] in {\"Waste\", \"WASTE\", \"waste\"}:\n",
    "        conversions[\"R1C\"][row[\"Code\"]] = row[\"Yield\"]\n",
    "\n",
    "for index, row in df_R2C.iterrows():\n",
    "    if not row[\"Code\"] in {\"Waste\", \"WASTE\", \"waste\"}:\n",
    "        conversions[\"R2C\"][row[\"Code\"]] = row[\"Yield\"]\n",
    "\n",
    "for index, row in df_R3C.iterrows():\n",
    "    if not row[\"Code\"] in {\"Waste\", \"WASTE\", \"waste\"}:\n",
    "        conversions[\"R3C\"][row[\"Code\"]] = row[\"Yield\"]\n",
    "\n",
    "for index, row in df_R4C.iterrows():\n",
    "    if not row[\"Code\"] in {\"Waste\", \"WASTE\", \"waste\"}:\n",
    "        conversions[\"R4C\"][row[\"Code\"]] = row[\"Yield\"]\n",
    "\n",
    "conversions;"
   ],
   "metadata": {
    "collapsed": false,
    "pycharm": {
     "name": "#%%\n"
    }
   }
  },
  {
   "cell_type": "code",
   "execution_count": 209,
   "outputs": [],
   "source": [
    "properties = pd.read_csv(\"filled_properties.csv\", index_col=0)\n",
    "properties;"
   ],
   "metadata": {
    "collapsed": false,
    "pycharm": {
     "name": "#%%\n"
    }
   }
  },
  {
   "cell_type": "code",
   "execution_count": 210,
   "outputs": [],
   "source": [
    "def prepare_sets():\n",
    "    res = {}\n",
    "    elements = pd.read_csv(\"data/elements_case1.csv\", index_col=0)\n",
    "    res[\"i\"] = elements.index.tolist()\n",
    "\n",
    "    compounds = [f'C{n}A' for n in range(1, 23)] + ['H2', 'LDPE', 'HDPE', 'PP', 'WASTE'] +  [f'C{n}E' for n in range(2, 21)]\n",
    "    res[\"k\"] =  compounds\n",
    "\n",
    "    return res"
   ],
   "metadata": {
    "collapsed": false,
    "pycharm": {
     "name": "#%%\n"
    }
   }
  },
  {
   "cell_type": "code",
   "execution_count": 211,
   "outputs": [],
   "source": [
    "res = prepare_sets()\n",
    "res[\"i\"];"
   ],
   "metadata": {
    "collapsed": false,
    "pycharm": {
     "name": "#%%\n"
    }
   }
  },
  {
   "cell_type": "code",
   "execution_count": 212,
   "outputs": [],
   "source": [
    "def build_model(m, data):\n",
    "    # =================================== Sets ===================================\n",
    "    m.i = Set(initialize=data[\"i\"])\n",
    "    m.itech = Set(within=m.i, initialize=[\"R1A\", \"R2A\", \"R3A\", \"R1C\",\"R2C\", \"R3C\", \"R4C\",\n",
    "                                          \"DT1A\", \"DT2A\", \"DT3A\", \"FL1A\"])\n",
    "\n",
    "    m.isource = Set(within=m.i, initialize=[\"FEED-LDPE\", \"FEED-HDPE\", \"FEED-PP\", \"FEED-H2\", \"R1A\", \"R2A\", \"R3A\", \"R1C\",\"R2C\", \"R3C\", \"R4C\",\n",
    "                                            \"DT1A\", \"DT2A\", \"DT3A\", \"FL1A\"])\n",
    "    m.isink = Set(within=m.i, initialize=[\"R1A-OL\", \"R2A-OL\", \"R3A-OL\", \"R1C-OL\", \"R2C-OL\", \"R3C-OL\", \"R4C-OL\",\n",
    "                                          \"DT1A-OL\", \"DT2A-OL\", \"DT3A-OL\", \"FL1A-OL\",\n",
    "                                          \"R1A-OH\", \"R2A-OH\", \"R3A-OH\", \"R1C-OH\", \"R2C-OH\", \"R3C-OH\", \"R4C-OH\",\n",
    "                                          \"DT1A-OH\", \"DT2A-OH\", \"DT3A-OH\", \"FL1A-OH\",\n",
    "                                          \"PROD-WASTE\",\"PROD-ELEC\",\"PROD-GAS\",\"PROD-JTF\",\"PROD-DSL\", \"PROD-WAX\"])\n",
    "\n",
    "    irxn = [\"R1A\", \"R2A\", \"R3A\", \"R1C\",\"R2C\", \"R3C\", \"R4C\"]\n",
    "    isep = [\"DT1A\", \"DT2A\", \"DT3A\"]\n",
    "    ifil = [\"FL1A\"]\n",
    "\n",
    "    m.irxn = Set(within=m.itech, initialize=irxn)\n",
    "    m.isep = Set(within=m.itech, initialize=isep)\n",
    "    m.ifil = Set(within=m.itech, initialize=ifil)\n",
    "\n",
    "    irxnL = [\"R1A-OL\", \"R2A-OL\", \"R3A-OL\", \"R1C-OL\", \"R2C-OL\", \"R3C-OL\", \"R4C-OL\"]\n",
    "    isepL = [\"DT1A-OL\", \"DT2A-OL\", \"DT3A-OL\"]\n",
    "    ifilL = [\"FL1A-OL\"]\n",
    "\n",
    "    irxnH = [\"R1A-OH\", \"R2A-OH\", \"R3A-OH\", \"R1C-OH\", \"R2C-OH\", \"R3C-OH\", \"R4C-OH\"]\n",
    "    isepH = [\"DT1A-OH\", \"DT2A-OH\", \"DT3A-OH\"]\n",
    "    ifilH = [\"FL1A-OH\"]\n",
    "\n",
    "    m.itechL = Set(within=m.i, initialize=irxnL+isepL+ifilL)\n",
    "    m.itechH = Set(within=m.i, initialize=irxnH+isepH+ifilH)\n",
    "\n",
    "    m.irxnL = Set(within=m.i, initialize=irxnL)\n",
    "    m.isepL = Set(within=m.i, initialize=isepL)\n",
    "    m.ifilL = Set(within=m.i, initialize=ifilL)\n",
    "    m.irxnH = Set(within=m.i, initialize=irxnH)\n",
    "    m.isepH = Set(within=m.i, initialize=isepH)\n",
    "    m.ifilH = Set(within=m.i, initialize=ifilH)\n",
    "\n",
    "    m.ifeed = Set(within=m.i, initialize=[\"FEED-LDPE\", \"FEED-HDPE\", \"FEED-PP\", \"FEED-H2\"])\n",
    "    m.iprod = Set(within=m.i, initialize=[\"PROD-WASTE\", \"PROD-ELEC\",\"PROD-GAS\",\"PROD-JTF\",\"PROD-DSL\", \"PROD-WAX\"])\n",
    "    m.ifuel = Set(within=m.iprod, initialize=[\"PROD-GAS\",\"PROD-JTF\",\"PROD-DSL\"])\n",
    "    m.iwax = Set(within=m.iprod, initialize=[\"PROD-WAX\"])\n",
    "    m.ielec = Set(within=m.iprod, initialize=[\"PROD-ELEC\"])\n",
    "\n",
    "    m.k = Set(initialize=data[\"k\"])\n",
    "    m.kfeed = Set(within=m.k, initialize=[\"LDPE\",\"HDPE\",\"PP\",\"H2\"])\n",
    "    m.kplastic = Set(within=m.kfeed, initialize=[\"LDPE\",\"HDPE\",\"PP\"])\n",
    "    kfuel = [key for key, value in properties[\"trace\"].to_dict().items() if value == 0]\n",
    "    m.kfuel = Set(within=m.k, initialize=kfuel)\n",
    "    kegen = [key for key, value in properties[\"egen\"].to_dict().items() if value == 1]\n",
    "    m.kegen = Set(within=m.k, initialize = kegen)\n",
    "\n",
    "    m.kolefins = Set(within=m.k, initialize=[f'C{n}E' for n in range(2, 21)])\n",
    "\n",
    "    def is_waste(k):\n",
    "        return k in {\"WASTE\", \"waste\",  \"Waste\"}\n",
    "\n",
    "    m.is_waste = is_waste\n",
    "\n",
    "    m.productive_links = Set(dimen=2, within=m.i * m.i, initialize = productive_links)\n",
    "    m.p = Set(initialize=range(1,7), doc=\"realization of distillation technologies\")\n",
    "    # =================================== beginning of port matching ===================================\n",
    "    port_match = {}\n",
    "    for item in irxnL + isepL + ifilL + irxnH + isepH + ifilH:\n",
    "        base, suffix = item.rsplit('-', 1)\n",
    "        match_suffix = 'OH' if suffix == 'OL' else 'OL'\n",
    "        port_match[item] = f\"{base}-{match_suffix}\"\n",
    "\n",
    "    heavy_match = {}\n",
    "    # Map -OH to no suffix\n",
    "    for item in irxnH + isepH + ifilH:\n",
    "        base, _ = item.rsplit('-', 1)\n",
    "        heavy_match[item] = f\"{base}\"\n",
    "    # Map no suffix to -OH\n",
    "    for item in irxn + isep + ifil:\n",
    "        heavy_match[item] = f\"{item}-OH\"\n",
    "\n",
    "    light_match = {}\n",
    "    # Map -OL to no suffix\n",
    "    for item in irxnL + isepL + ifilL:\n",
    "        base, _ = item.rsplit('-', 1)\n",
    "        light_match[item] = base\n",
    "    # Map no suffix to OL\n",
    "    for item in irxn + isep + ifil:\n",
    "        light_match[item] = f\"{item}-OL\"\n",
    "\n",
    "    m.port_match = port_match # match xxx-OL  and xxx-OH: that is, m.port_match[xxx-OL] gives xxx-OH and vice versa\n",
    "    m.heavy_match = heavy_match # match xxx  and xxx-OH: that is, m.port_match[xxx-OH] gives xxx and vice versa\n",
    "    m.light_match = light_match # match xxx  and xxx-OL: that is, m.port_match[xxx-OL] gives xxx and vice versa\n",
    "\n",
    "    # =================================== end of port matching ===================================\n",
    "\n",
    "    m.inlets = {} # the elements going into the i\n",
    "    m.outlets = {} # the elements going out of the i\n",
    "\n",
    "    for i in m.i:\n",
    "        m.inlets[i] = OrderedSet()\n",
    "        m.outlets[i] = OrderedSet()\n",
    "\n",
    "    for (a,b) in productive_links:\n",
    "        m.inlets[b].append(a)\n",
    "        m.outlets[a].append(b)\n",
    "\n",
    "    # =================================== finding inlets and outlets ===================================\n",
    "\n",
    "    m.rxn_ref = {}\n",
    "    m.rxn_ref[\"R1A\"] = \"LDPE\"\n",
    "    m.rxn_ref[\"R2A\"] = \"HDPE\"\n",
    "    m.rxn_ref[\"R3A\"] = \"PP\"\n",
    "    m.rxn_ref[\"R4C\"] = \"PP\"\n",
    "\n",
    "    m.rxn_species = {}\n",
    "    hdc_list = [f'C{n}A' for n in range(1, 20)]\n",
    "    hdc_list.append(\"H2\")\n",
    "\n",
    "    pyr_list = [f'C{n}A' for n in range(1, 23)] + [f'C{n}E' for n in range(2, 21)] + ['H2']\n",
    "\n",
    "    r1a_list = [i for i in hdc_list]\n",
    "    r1a_list.append(\"LDPE\")\n",
    "    m.rxn_species[\"R1A\"] =  OrderedSet(r1a_list)\n",
    "\n",
    "    r2a_list = [i for i in hdc_list]\n",
    "    r2a_list.append(\"HDPE\")\n",
    "    m.rxn_species[\"R2A\"] =  OrderedSet(r2a_list)\n",
    "\n",
    "    r3a_list = [i for i in hdc_list]\n",
    "    r3a_list.append(\"PP\")\n",
    "    m.rxn_species[\"R3A\"] = OrderedSet(r3a_list)\n",
    "\n",
    "    m.rxn_species[\"R1C\"] = OrderedSet(pyr_list + [\"PP\"])\n",
    "    m.rxn_species[\"R2C\"] = OrderedSet(pyr_list + [\"PP\", \"LDPE\", \"HDPE\"])\n",
    "    m.rxn_species[\"R3C\"] = OrderedSet(pyr_list + [\"PP\", \"LDPE\", \"HDPE\"])\n",
    "    m.rxn_species[\"R4C\"] = OrderedSet(pyr_list + [\"LDPE\", \"HDPE\"])\n",
    "\n",
    "    m.conversions = conversions\n",
    "\n",
    "    # =================================== Params ===================================\n",
    "    # big M\n",
    "    m.M = Param(initialize=1e14)\n",
    "\n",
    "    m.fload = Param(m.kfeed, initialize={\"LDPE\": 20000, \"HDPE\":80000, \"PP\":96000})\n",
    "    m.dist_scale = Var(m.isep, initialize=100, doc=\"scale of surrogate used for separation units\")\n",
    "\n",
    "    m.MW = Param(m.k, initialize=properties[\"MW\"].to_dict())\n",
    "\n",
    "    m.LHV = Param(m.kegen, initialize={kp : properties[\"LHV\"].to_dict()[kp] for kp in m.kegen})\n",
    "    m.rho = Param(m.kfuel, initialize={kp : properties[\"rho\"].to_dict()[kp] for kp in m.kfuel})\n",
    "    m.mu = Param(m.kfuel, initialize={kp :properties[\"mu\"].to_dict()[kp] for kp in m.kfuel})\n",
    "    m.TB = Param(m.k, initialize=properties[\"TB\"].to_dict())\n",
    "    m.bpLo = Param(m.ifuel, initialize={\"PROD-GAS\": 5, \"PROD-JTF\": 5, \"PROD-DSL\": 5} )\n",
    "    m.bpUp = Param(m.ifuel, initialize={\"PROD-GAS\": 98,\"PROD-JTF\": 98.5,\"PROD-DSL\": 95} )\n",
    "    m.olefinLim = Param(m.ifuel, initialize={\"PROD-GAS\": 18,\"PROD-JTF\": 2,\"PROD-DSL\": 20} )\n",
    "\n",
    "    m.sepCut = Param(m.isep, initialize={\"DT1A\": np.ceil(m.TB[\"C4A\"]), \"DT2A\": np.ceil(m.TB[\"C8A\"]), \"DT3A\": np.ceil(m.TB[\"C12A\"])})\n",
    "    # C4/C5; C8/C9; C12/C13;C20/C21\n",
    "\n",
    "    m.mat_price = Param(m.ifeed, initialize={\"FEED-LDPE\": 330, \"FEED-HDPE\": 330, \"FEED-PP\": 330, \"FEED-H2\":2100}, doc=\"$/per tonne\")\n",
    "    m.fuel_price = Param(m.ifuel, initialize={\"PROD-GAS\": 1180,\"PROD-JTF\": 310,\"PROD-DSL\":1050}, doc=\"$/per tonne\")\n",
    "    m.wax_price = Param(m.iwax, initialize={\"PROD-WAX\": 1420})\n",
    "    # m.wax_price = Param(m.iwax, initialize={}, doc=\"$/per tonne\")\n",
    "    m.electric_price = Param(initialize=2.221e-8, doc=\"/J\")\n",
    "    m.elec_eff = Param(initialize=0.4, doc=\"conversion efficiency %\")\n",
    "\n",
    "    # economics\n",
    "    # [\"R1A\", \"R2A\", \"R3A\", \"DT1A\", \"DT2A\", \"DT3A\", \"DT4A\"]\n",
    "    m.alpha = Param(initialize=0.6, doc=\"scale-up factor\")\n",
    "    m.beta_AL = Param(initialize=0.1165, doc=\"annualized factor\")\n",
    "    m.beta_CC = Param(m.itech, initialize={\"R1A\": 16021577, \"R2A\": 33152563, \"R3A\":37557152,\n",
    "                                           \"R1C\": 3661402,  \"R2C\": 3827926,  \"R3C\":3904240,  \"R4C\":4022879,\n",
    "                                           \"DT1A\": 0, \"DT2A\": 0, \"DT3A\": 0,\n",
    "                                           \"FL1A\": 0})\n",
    "\n",
    "    m.beta_OCVR = Param(m.irxn, initialize={\"R1A\": 208268,  \"R2A\": 608680,  \"R3A\":650589,\n",
    "                                            \"R1C\": 153535,  \"R2C\": 124401,  \"R3C\":124214, \"R4C\":409989})\n",
    "\n",
    "    m.beta_OCFR = Param(m.irxn, initialize={\"R1A\": 1327761, \"R2A\": 1342950, \"R3A\":1344780,\n",
    "                                            \"R1C\": 730214,  \"R2C\": 732831,  \"R3C\":734588, \"R4C\":1073239})\n",
    "\n",
    "    m.beta_OCVS = Param(m.isep, initialize={\"DT1A\": 0, \"DT2A\": 0, \"DT3A\": 0})\n",
    "    m.beta_OCFS = Param(m.isep, initialize={\"DT1A\": 0, \"DT2A\": 0, \"DT3A\": 0})\n",
    "\n",
    "    m.FBasis =  Param(m.itech, initialize={\"R1A\": 2500 * 8,  \"R2A\": 10000 * 8, \"R3A\": 12000 * 8,\n",
    "                                           \"R1C\": 10000 * 8, \"R2C\": 10000 * 8, \"R3C\": 10000 * 8, \"R4C\": 10000 * 8,\n",
    "                                           \"DT1A\": 8000 * 8, \"DT2A\": 5000 * 8, \"DT3A\": 2000 * 8,\n",
    "                                           \"FL1A\": 5000 * 8\n",
    "                                           })\n",
    "\n",
    "    # =================================== Vars ===================================\n",
    "    # binary: if a technology is selected\n",
    "    m.y = Var(m.itech, domain=Binary)\n",
    "    # m.z = Var(m.isep, domain=Binary)\n",
    "\n",
    "    # flow rates\n",
    "    m.F = Var(m.productive_links, m.k,domain=NonNegativeReals)\n",
    "    m.FRefT = Var(m.irxn, domain=NonNegativeReals)\n",
    "    m.FI = Var(m.itech, m.k, domain=NonNegativeReals)\n",
    "    m.FP = Var(m.irxn, m.k, domain=NonNegativeReals)\n",
    "    m.FOL = Var(m.itechL, m.k, domain=NonNegativeReals)\n",
    "    m.FOH = Var(m.itechH, m.k, domain=NonNegativeReals)\n",
    "    m.FT = Var(m.itech, domain=NonNegativeReals)\n",
    "    m.Fcap = Var(m.itech, domain=NonNegativeReals)\n",
    "\n",
    "    # surrogate-related for separation\n",
    "    m.reflux = Var(m.isep, domain=NonNegativeReals)\n",
    "\n",
    "    # cost and sales\n",
    "    m.annual_cost = Var(domain=Reals)\n",
    "    m.capex = Var(domain=NonNegativeReals)\n",
    "    m.opex = Var(domain=NonNegativeReals)\n",
    "    m.cc = Var(m.itech, domain=NonNegativeReals)\n",
    "    m.oc = Var(m.itech, domain=NonNegativeReals)\n",
    "    m.feedCost = Var(m.ifeed, domain=NonNegativeReals)\n",
    "    m.fuel_rev = Var(m.ifuel, domain=NonNegativeReals)\n",
    "    m.wax_rev = Var(m.iwax, domain=NonNegativeReals)\n",
    "    m.elec_rev = Var(m.ielec, domain=NonNegativeReals)\n"
   ],
   "metadata": {
    "collapsed": false,
    "pycharm": {
     "name": "#%%\n"
    }
   }
  },
  {
   "cell_type": "code",
   "execution_count": 212,
   "outputs": [],
   "source": [],
   "metadata": {
    "collapsed": false,
    "pycharm": {
     "name": "#%%\n"
    }
   }
  },
  {
   "cell_type": "code",
   "execution_count": 213,
   "outputs": [],
   "source": [
    "def build_feed_cons(m):\n",
    "    # Load constriants for feed\n",
    "    def eq_fd1(m ,kfeed):\n",
    "        if kfeed == \"LDPE\":\n",
    "            return  sum(m.F[\"FEED-LDPE\",i, kfeed] for i in m.outlets[\"FEED-LDPE\"]) == m.fload[kfeed]\n",
    "        elif kfeed == \"HDPE\":\n",
    "            return  sum(m.F[\"FEED-HDPE\",i, kfeed] for i in m.outlets[\"FEED-HDPE\"]) == m.fload[kfeed]\n",
    "        elif kfeed == \"PP\":\n",
    "            return  sum(m.F[\"FEED-PP\",i, kfeed] for i in m.outlets[\"FEED-PP\"]) == m.fload[kfeed]\n",
    "        return Constraint.Skip\n",
    "    m.eq_fd1 = Constraint(m.kfeed, rule=eq_fd1)\n",
    "\n",
    "    # pure feed only\n",
    "    # def eq_fd2(m, kfeed):\n",
    "    #     if kfeed == \"LDPE\":\n",
    "    #         return  sum(m.F[\"FEED-LDPE\",\"R1A\",k] + m.F[\"FEED-LDPE\",\"R1C\",k] + m.F[\"FEED-LDPE\",\"R2C\",k] +  m.F[\"FEED-LDPE\",\"R3C\",k] for k in m.k if k != \"LDPE\") == 0\n",
    "    #     elif kfeed == \"HDPE\":\n",
    "    #         return  sum(m.F[\"FEED-HDPE\",\"R2A\",k] + m.F[\"FEED-HDPE\",\"R1C\",k] + m.F[\"FEED-HDPE\",\"R2C\",k] +  m.F[\"FEED-HDPE\",\"R3C\",k] for k in m.k if k != \"HDPE\") == 0\n",
    "    #     elif kfeed == \"PP\":\n",
    "    #         return  sum(m.F[\"FEED-PP\",\"R3A\",k] + + m.F[\"FEED-PP\",\"R2C\",k] + m.F[\"FEED-PP\",\"R3C\",k] +  m.F[\"FEED-PP\",\"R4C\",k]  for k in m.k if k != \"PP\") == 0\n",
    "    #     elif kfeed == \"H2\":\n",
    "    #         return  sum(m.F[\"FEED-H2\",\"R1A\",k] + m.F[\"FEED-H2\",\"R2A\",k] + m.F[\"FEED-H2\",\"R3A\",k] for k in m.k if k != \"H2\" ) == 0\n",
    "    #     return Constraint.Skip\n",
    "    # m.eq_fd2 = Constraint(m.kfeed, rule=eq_fd2)\n",
    "\n",
    "    for (i, ip, k) in m.F.index_set():\n",
    "        if i == \"FEED-LDPE\" and k != \"LDPE\":\n",
    "            m.F[i,ip,k].fix(0)\n",
    "        elif i == \"FEED-HDPE\" and k != \"HDPE\":\n",
    "            m.F[i,ip,k].fix(0)\n",
    "        elif i == \"FEED-PP\" and k != \"PP\":\n",
    "            m.F[i,ip,k].fix(0)\n",
    "        elif i == \"FEED-H2\" and k != \"H2\":\n",
    "            m.F[i,ip,k].fix(0)\n",
    "\n",
    "    return\n"
   ],
   "metadata": {
    "collapsed": false,
    "pycharm": {
     "name": "#%%\n"
    }
   }
  },
  {
   "cell_type": "code",
   "execution_count": 214,
   "outputs": [],
   "source": [
    "def build_tech(m):\n",
    "\n",
    "    def Eq_T1(m, itech, k):\n",
    "        return m.FI[itech, k] == sum(m.F[ip, itech, k] for ip in m.inlets[itech])\n",
    "    m.Eq_T1 = Constraint(m.itech, m.k, rule=Eq_T1)\n",
    "    # Check this\n",
    "\n",
    "    def Eq_T2(m, itechL, k):\n",
    "        return m.FOL[itechL, k] == sum(m.F[itechL, ip, k] for ip in m.outlets[itechL])\n",
    "    m.Eq_T2 = Constraint(m.itechL, m.k, rule=Eq_T2)\n",
    "\n",
    "    def Eq_T3(m, itechH, k):\n",
    "        return m.FOH[itechH, k] == sum(m.F[itechH, ip, k] for ip in m.outlets[itechH])\n",
    "    m.Eq_T3 = Constraint(m.itechH, m.k, rule=Eq_T3)\n",
    "\n",
    "    def Eq_T4(m, itech):\n",
    "        return m.FT[itech] == sum(m.FI[itech, k] for k in m.k)\n",
    "    m.Eq_T4 = Constraint(m.itech, rule=Eq_T4)\n",
    "\n",
    "    # def Eq_T5(m, itech):\n",
    "    #     return m.FT[itech] <= m.M * m.y[itech]\n",
    "    # m.Eq_T5 = Constraint(m.itech, rule=Eq_T5)\n",
    "\n",
    "    def Eq_T6(m, itech):\n",
    "        return m.Fcap[itech] <= m.M * m.y[itech]\n",
    "    m.Eq_T6 = Constraint(m.itech, rule=Eq_T6)\n",
    "\n",
    "    def Eq_T7(m, itech):\n",
    "        return m.FT[itech] <= m.Fcap[itech]\n",
    "    m.Eq_T7 = Constraint(m.itech, rule=Eq_T7)\n",
    "\n",
    "    return"
   ],
   "metadata": {
    "collapsed": false,
    "pycharm": {
     "name": "#%%\n"
    }
   }
  },
  {
   "cell_type": "code",
   "execution_count": 215,
   "outputs": [],
   "source": [
    "def build_rxn(m):\n",
    "    # find the basis of yield\n",
    "    def Eq_R1(m, irxn):\n",
    "        # pure reactant\n",
    "        if irxn in m.rxn_ref.keys():\n",
    "            kref = m.rxn_ref[irxn]\n",
    "            return m.FRefT[irxn] == m.FI[irxn, kref]\n",
    "        # mixture reactant\n",
    "        elif irxn == \"R1C\":\n",
    "            return m.FRefT[irxn] == m.FI[irxn, \"LDPE\"] + m.FI[irxn, \"HDPE\"]\n",
    "        elif irxn in {\"R2C\", \"R3C\"}:\n",
    "            return m.FRefT[irxn] == m.FI[irxn, \"LDPE\"] + m.FI[irxn, \"HDPE\"] + m.FI[irxn, \"PP\"]\n",
    "        raise IndexError\n",
    "    m.Eq_R1 = Constraint(m.irxn, rule=Eq_R1)\n",
    "\n",
    "    # conversion\n",
    "    def Eq_R2aI(m, irxn, k):\n",
    "        # reactant\n",
    "        if k in m.kplastic:\n",
    "            # pure reactant\n",
    "            if irxn in m.rxn_ref.keys():\n",
    "                # full conversion\n",
    "                if k == m.rxn_ref[irxn]:\n",
    "                    return m.FP[irxn,k] == 0\n",
    "                #  the rest stays the same\n",
    "                else:\n",
    "                    return m.FI[irxn, k] == m.FP[irxn,k]\n",
    "            else:\n",
    "               if irxn == \"R1C\":\n",
    "                   if k in {\"LDPE\", \"HDPE\"}:\n",
    "                       return m.FP[irxn,k] == 0\n",
    "                   else:\n",
    "                       return m.FI[irxn, k] == m.FP[irxn,k]\n",
    "               elif irxn in {\"R2C\", \"R3C\"}:\n",
    "                   if k in {\"LDPE\", \"HDPE\", \"PP\"}:\n",
    "                       return m.FP[irxn,k] == 0\n",
    "                   else:\n",
    "                       return m.FI[irxn, k] == m.FP[irxn,k]\n",
    "               else:\n",
    "                   raise IndexError(\"Unimplemented reaction\")\n",
    "        return Constraint.Skip\n",
    "    m.Eq_R2aI = Constraint(m.irxn, m.k, rule=Eq_R2aI)\n",
    "\n",
    "    def Eq_R2aII(m, irxn, k):\n",
    "        if (not k in m.kplastic) and (k in m.rxn_species[irxn]):\n",
    "            return m.FI[irxn, k] + m.conversions[irxn][k] * m.FRefT[irxn] == m.FP[irxn,k]\n",
    "        return Constraint.Skip\n",
    "    m.Eq_R2aII = Constraint(m.irxn, m.k, rule=Eq_R2aII)\n",
    "\n",
    "    # other species\n",
    "    def Eq_R2b(m, irxn, k):\n",
    "        if (not k in m.kplastic) and (not k in m.rxn_species[irxn]) and (not m.is_waste(k)):\n",
    "            return m.FI[irxn, k] == m.FP[irxn,k]\n",
    "        return Constraint.Skip\n",
    "    m.Eq_R2b = Constraint(m.irxn, m.k, rule=Eq_R2b)\n",
    "\n",
    "    # waste\n",
    "    def Eq_R2c(m, irxn, k):\n",
    "        if m.is_waste(k):\n",
    "            return m.FP[irxn,k] == sum(m.FI[irxn,kpp] for kpp in m.k) - sum(m.FP[irxn,kp] for kp in m.k if not m.is_waste(kp))\n",
    "        return Constraint.Skip\n",
    "    m.Eq_R2c = Constraint(m.irxn, m.k, rule=Eq_R2c)\n",
    "\n",
    "    # waste and only waste goes to waste stream\n",
    "    def Eq_R3(m, irxn, k):\n",
    "        if not m.is_waste(k):\n",
    "            return m.FP[irxn, k] == m.FOL[m.light_match[irxn], k]\n",
    "        return 0 == m.FOL[m.light_match[irxn], k]\n",
    "    m.Eq_R3 = Constraint(m.irxn, m.k, rule=Eq_R3)\n",
    "\n",
    "    # outgoing port balance\n",
    "    def Eq_R4(m, irxn, k):\n",
    "        if m.is_waste(k):\n",
    "            return m.FP[irxn, k] == m.FOH[m.heavy_match[irxn], k]\n",
    "        return 0 == m.FOH[m.heavy_match[irxn], k]\n",
    "    m.Eq_R4 = Constraint(m.irxn, m.k, rule=Eq_R4)\n",
    "\n",
    "    # saturation constriant for HDC\n",
    "    def Eq_R_HDC1(m, irxn):\n",
    "        if irxn in {\"R1A\", \"R2A\", \"R3A\"}:\n",
    "            return m.FI[irxn,\"H2\"] >= 2 * m.FP[irxn, \"H2\"]\n",
    "        return Constraint.Skip\n",
    "    m.Eq_R_HDC1 = Constraint(m.irxn, rule=Eq_R_HDC1)\n",
    "\n",
    "    # saturation constriant for HDC\n",
    "    def Eq_R_pyro(m, irxn):\n",
    "        if irxn in {\"R2C\", \"R3C\"}:\n",
    "            if irxn == \"R2C\":\n",
    "                return m.FI[irxn,\"LDPE\"] + m.FI[irxn,\"HDPE\"] == (6/4) * m.FI[irxn,\"PP\"]\n",
    "            elif irxn == \"R3C\":\n",
    "                return m.FI[irxn,\"LDPE\"] + m.FI[irxn,\"HDPE\"] == (4/6) * m.FI[irxn,\"PP\"]\n",
    "        return Constraint.Skip\n",
    "    m.Eq_R_pyro = Constraint(m.irxn, rule=Eq_R_pyro)\n",
    "\n",
    "    return"
   ],
   "metadata": {
    "collapsed": false,
    "pycharm": {
     "name": "#%%\n"
    }
   }
  },
  {
   "cell_type": "code",
   "execution_count": 216,
   "outputs": [],
   "source": [
    "def build_separation(m):\n",
    "    # Surrogate-based models\n",
    "    # Sharp binary separation\n",
    "\n",
    "    def Eq_filL(m, k):\n",
    "        if m.TB[k] <= np.ceil(m.TB[\"C20A\"]):\n",
    "            return m.FI[\"FL1A\", k] == m.FOL[m.light_match[\"FL1A\"], k]\n",
    "        return 0 == m.FOL[m.light_match[\"FL1A\"], k]\n",
    "    m.eq_fil1 = Constraint(m.k, rule=Eq_filL)\n",
    "\n",
    "    def Eq_filH(m, k):\n",
    "        if m.TB[k] > np.ceil(m.TB[\"C20A\"]):\n",
    "            return m.FI[\"FL1A\", k] == m.FOH[m.heavy_match[\"FL1A\"], k]\n",
    "        return 0 == m.FOH[m.heavy_match[\"FL1A\"], k]\n",
    "    m.eq_fil2 = Constraint(m.k, rule=Eq_filH)\n",
    "\n",
    "    def eq_sep1(m, isep, k):\n",
    "        if m.TB[k] <= m.sepCut[isep]:\n",
    "            return m.FI[isep, k] == m.FOL[m.light_match[isep], k]\n",
    "        return 0 == m.FOL[m.light_match[isep], k]\n",
    "    m.eq_sep1 = Constraint(m.isep, m.k, rule=eq_sep1)\n",
    "\n",
    "    def eq_sep2(m, isep, k):\n",
    "        if m.TB[k] > m.sepCut[isep]:\n",
    "            return m.FI[isep, k] == m.FOH[m.heavy_match[isep], k]\n",
    "        return 0 == m.FOH[m.heavy_match[isep], k]\n",
    "    m.eq_sep2 = Constraint(m.isep, m.k, rule=eq_sep2)\n",
    "\n",
    "    return"
   ],
   "metadata": {
    "collapsed": false,
    "pycharm": {
     "name": "#%%\n"
    }
   }
  },
  {
   "cell_type": "code",
   "execution_count": 217,
   "outputs": [],
   "source": [
    "def blending(m):\n",
    "    # blending constraints\n",
    "    # based on boiling points\n",
    "    def trace_lim(m, ifuel):\n",
    "        return sum(sum(m.F[ip, ifuel, k]/m.MW[k] for k in m.k if not k in m.kfuel and not m.is_waste(k)) for ip in m.inlets[ifuel]) <= \\\n",
    "               0.01 * sum(sum(m.F[ip, ifuel, k]/m.MW[k] for k in m.k if not m.is_waste(k)) for ip in m.inlets[ifuel])\n",
    "    m.trace_lim = Constraint(m.ifuel, rule=trace_lim)\n",
    "\n",
    "    def olefin_lim(m, ifuel):\n",
    "        return sum(sum(m.F[ip, ifuel, k]/m.MW[k] for k in m.k if k in m.kolefins and not m.is_waste(k)) for ip in m.inlets[ifuel]) <= \\\n",
    "               m.olefinLim[ifuel]/100 * sum(sum(m.F[ip, ifuel, k]/m.MW[k] for k in m.k if not m.is_waste(k)) for ip in m.inlets[ifuel])\n",
    "    m.olefin_lim = Constraint(m.ifuel, rule=olefin_lim)\n",
    "\n",
    "    def _BPlo(m, ifuel):\n",
    "        if ifuel == \"PROD-GAS\":\n",
    "            return sum(sum(m.F[ip, ifuel, k]/m.MW[k] for k in m.k if m.TB[k] <= 30 and not m.is_waste(k)) for ip in m.inlets[ifuel]) <= \\\n",
    "                   m.bpLo[ifuel]/100 * sum(sum(m.F[ip, ifuel, k]/m.MW[k] for k in m.k if not m.is_waste(k)) for ip in m.inlets[ifuel])\n",
    "        elif ifuel == \"PROD-JTF\":\n",
    "            return sum(sum(m.F[ip, ifuel, k]/m.MW[k] for k in m.k if m.TB[k] <= 160 and not m.is_waste(k)) for ip in m.inlets[ifuel]) <= \\\n",
    "                   m.bpLo[ifuel]/100 * sum(sum(m.F[ip, ifuel, k]/m.MW[k] for k in m.k if not m.is_waste(k)) for ip in m.inlets[ifuel])\n",
    "        elif ifuel == \"PROD-DSL\":\n",
    "            return sum(sum(m.F[ip, ifuel, k]/m.MW[k] for k in m.k if m.TB[k] <= 150 and not m.is_waste(k)) for ip in m.inlets[ifuel]) <= \\\n",
    "                   m.bpLo[ifuel]/100  * sum(sum(m.F[ip, ifuel, k]/m.MW[k] for k in m.k if not m.is_waste(k)) for ip in m.inlets[ifuel])\n",
    "        return Constraint.Skip\n",
    "    m.fuel_bplo = Constraint(m.ifuel, rule=_BPlo)\n",
    "\n",
    "    def _BPup(m, ifuel):\n",
    "        if ifuel == \"PROD-GAS\":\n",
    "            return sum(sum(m.F[ip, ifuel, k]/m.MW[k] for k in m.k if m.TB[k] <= 215 and not m.is_waste(k)) for ip in m.inlets[ifuel]) >= \\\n",
    "                   m.bpUp[ifuel]/100 * sum(sum(m.F[ip, ifuel, k]/m.MW[k] for k in m.k if not m.is_waste(k)) for ip in m.inlets[ifuel])\n",
    "        elif ifuel == \"PROD-JTF\":\n",
    "            return sum(sum(m.F[ip, ifuel, k]/m.MW[k] for k in m.k if m.TB[k] <= 300 and not m.is_waste(k)) for ip in m.inlets[ifuel]) >= \\\n",
    "                   m.bpUp[ifuel]/100 * sum(sum(m.F[ip, ifuel, k]/m.MW[k] for k in m.k if not m.is_waste(k)) for ip in m.inlets[ifuel])\n",
    "        elif ifuel == \"PROD-DSL\":\n",
    "            return sum(sum(m.F[ip, ifuel, k]/m.MW[k] for k in m.k if m.TB[k] <= 360 and not m.is_waste(k)) for ip in m.inlets[ifuel]) >= \\\n",
    "                   m.bpUp[ifuel]/100 * sum(sum(m.F[ip, ifuel, k]/m.MW[k] for k in m.k if not m.is_waste(k)) for ip in m.inlets[ifuel])\n",
    "        return Constraint.Skip\n",
    "    m.fuel_bpup = Constraint(m.ifuel, rule=_BPup)\n",
    "\n",
    "    return"
   ],
   "metadata": {
    "collapsed": false,
    "pycharm": {
     "name": "#%%\n"
    }
   }
  },
  {
   "cell_type": "code",
   "execution_count": 218,
   "outputs": [],
   "source": [
    "def economics(m):\n",
    "    # economics\n",
    "    def Eq_E1(m):\n",
    "        return m.capex + m.opex - sum(m.fuel_rev[ifuel] for ifuel in m.ifuel) - sum(m.elec_rev[ielec] for ielec in m.ielec) - sum(m.wax_rev[iwax] for iwax in m.iwax) == m.annual_cost\n",
    "    m.Eq_E1 = Constraint(rule=Eq_E1, doc=\"Eq-E1: annualized cost\")\n",
    "\n",
    "    def Eq_E2(m, ifeed):\n",
    "        return m.feedCost[ifeed] == m.mat_price[ifeed] * sum(sum(m.F[ifeed,i, k] for k in m.k) for i in m.outlets[ifeed])\n",
    "    m.Eq_E2 = Constraint(m.ifeed, rule=Eq_E2, doc=\"Eq-E2: feed cost\")\n",
    "\n",
    "    def Eq_E3(m, ielec):\n",
    "        return m.elec_rev[ielec] == m.electric_price * m.elec_eff * sum(sum(m.LHV[kegen] * m.F[i,ielec, kegen]*1e-3/m.MW[kegen] for kegen in m.kegen) for i in m.inlets[ielec])\n",
    "    m.Eq_E3 = Constraint(m.ielec, rule=Eq_E3, doc=\"Eq-E3: energy generation revenue\")\n",
    "\n",
    "    def Eq_E4a(m, ifuel):\n",
    "        return m.fuel_rev[ifuel] == m.fuel_price[ifuel] * sum(sum(m.F[i, ifuel, k] for k in m.k) for i in m.inlets[ifuel])\n",
    "    m.Eq_E4a = Constraint(m.ifuel, rule=Eq_E4a, doc=\"Eq-E4: revenue for fuel products\")\n",
    "\n",
    "    def Eq_E4b(m, iwax):\n",
    "        return m.wax_rev[iwax] == m.wax_price[iwax] * sum(sum(m.F[i, iwax, k] for k in m.k) for i in m.inlets[iwax])\n",
    "    m.Eq_E4b = Constraint(m.iwax, rule=Eq_E4b, doc=\"Eq-E4: revenue for wax products\")\n",
    "\n",
    "    def Eq_E6(m):\n",
    "        return m.beta_AL * sum(m.cc[itech] for itech in m.itech) == m.capex\n",
    "    m.Eq_E6 = Constraint(rule=Eq_E6, doc=\"Eq-E6: CAPEX\")\n",
    "\n",
    "    def Eq_E7(m):\n",
    "        return sum(m.feedCost[ifeed] for ifeed in m.ifeed) + sum(m.oc[itech] for itech in m.itech) == m.opex\n",
    "    m.Eq_E7 = Constraint(rule=Eq_E7, doc=\"Eq-E7: OPEX\")\n",
    "\n",
    "    def Eq_E8(m, itech):\n",
    "        return m.beta_CC[itech] * (m.Fcap[itech] / m.FBasis[itech]) ** m.alpha == m.cc[itech]\n",
    "    m.Eq_E8 = Constraint(m.itech, rule=Eq_E8, doc=\"Eq-E8: capital_cost\")\n",
    "\n",
    "    def Eq_E9(m, irxn):\n",
    "        return m.beta_OCVR[irxn] * (m.Fcap[irxn] / m.FBasis[irxn]) + m.beta_OCFR[irxn] * m.y[irxn] == m.oc[irxn]\n",
    "    m.Eq_E9 = Constraint(m.irxn, rule=Eq_E9, doc=\"Eq-E9: operating_cost_rxn\")\n",
    "\n",
    "    def Eq_E10(m, isep):\n",
    "        # place holder: set to 0\n",
    "        return 0 == m.oc[isep]\n",
    "    m.Eq_E10 = Constraint(m.isep, rule=Eq_E10, doc=\"Eq-E10: operating_cost_sep\")\n",
    "\n"
   ],
   "metadata": {
    "collapsed": false,
    "pycharm": {
     "name": "#%%\n"
    }
   }
  },
  {
   "cell_type": "code",
   "execution_count": 219,
   "outputs": [],
   "source": [
    "m1 = ConcreteModel()\n",
    "build_model(m1, res)"
   ],
   "metadata": {
    "collapsed": false,
    "pycharm": {
     "name": "#%%\n"
    }
   }
  },
  {
   "cell_type": "code",
   "execution_count": 220,
   "outputs": [],
   "source": [
    "# m1.light_match"
   ],
   "metadata": {
    "collapsed": false,
    "pycharm": {
     "name": "#%%\n"
    }
   }
  },
  {
   "cell_type": "code",
   "execution_count": 221,
   "outputs": [],
   "source": [
    "build_feed_cons(m1)\n",
    "build_tech(m1)\n",
    "build_rxn(m1)\n",
    "build_separation(m1)\n",
    "blending(m1)\n",
    "economics(m1)"
   ],
   "metadata": {
    "collapsed": false,
    "pycharm": {
     "name": "#%%\n"
    }
   }
  },
  {
   "cell_type": "code",
   "execution_count": 222,
   "outputs": [],
   "source": [
    "def solve_model(m):\n",
    "    m.obj = Objective(expr=m.annual_cost, sense=minimize)\n",
    "\n",
    "    m.annual_cost.setub(1e12)\n",
    "    m.annual_cost.setlb(-1e12)\n",
    "\n",
    "    # def cdebug(m, ifuel):\n",
    "    #     return sum(sum(m.F[i, ifuel, k] for k in m.k) for i in m.inlets[ifuel]) <= 9000000\n",
    "    # m.cd = Constraint(m.ifuel, rule=cdebug)\n",
    "\n",
    "    #opt2 = SolverFactory('gurobi_persistent')\n",
    "    opt1 = SolverFactory('gams')\n",
    "    io_options = dict()\n",
    "\n",
    "    io_options['solver'] = \"baron\"\n",
    "    res = opt1.solve(m,\n",
    "        tee=True,\n",
    "        keepfiles=True,\n",
    "        add_options = ['option reslim=1000; option optcr=0.0; option limrow=5000'],\n",
    "        tmpdir=proj_dir+\"/case_study/output\",\n",
    "        io_options=io_options)\n",
    "\n",
    "    return res"
   ],
   "metadata": {
    "collapsed": false,
    "pycharm": {
     "name": "#%%\n"
    }
   }
  },
  {
   "cell_type": "code",
   "execution_count": 222,
   "outputs": [],
   "source": [],
   "metadata": {
    "collapsed": false,
    "pycharm": {
     "name": "#%%\n"
    }
   }
  },
  {
   "cell_type": "code",
   "execution_count": 223,
   "outputs": [],
   "source": [
    "# sum(m1.conversions[\"R4C\"].values())"
   ],
   "metadata": {
    "collapsed": false,
    "pycharm": {
     "name": "#%%\n"
    }
   }
  },
  {
   "cell_type": "code",
   "execution_count": 224,
   "outputs": [
    {
     "name": "stdout",
     "output_type": "stream",
     "text": [
      "--- Job model.gms Start 12/12/23 03:09:08 43.2.0 859d62d5 WEX-WEI x86 64bit/MS Windows\n",
      "--- Applying:\n",
      "    C:\\GAMS\\43\\gmsprmNT.txt\n",
      "    C:\\Users\\justi\\OneDrive\\Documents\\GAMS\\gamsconfig.yaml\n",
      "--- GAMS Parameters defined\n",
      "    Input D:\\Optimization-Notebook\\superstructure\\case_study\\output\\model.gms\n",
      "    Output D:\\Optimization-Notebook\\superstructure\\case_study\\output\\output.lst\n",
      "    ScrDir D:\\Optimization-Notebook\\superstructure\\case_study\\output\\225b\\\n",
      "    SysDir C:\\GAMS\\43\\\n",
      "    CurDir D:\\Optimization-Notebook\\superstructure\\case_study\\output\\\n",
      "    LogOption 3\n",
      "Licensee: Small MUD - 5 User License                     G221121|0002AP-GEN\n",
      "          University of Delaware, Chemical and Biomolecular EngineeriDC3967\n",
      "          C:\\GAMS\\43\\gamslice.txt\n",
      "          License Admin: Marianthi Ierapetritou, mgi@udel.edu              \n",
      "Processor information: 1 socket(s), 10 core(s), and 20 thread(s) available\n",
      "GAMS 43.2.0   Copyright (C) 1987-2023 GAMS Development. All rights reserved\n",
      "--- Starting compilation\n",
      "--- model.gms(16369) 4 Mb\n",
      "--- Starting execution: elapsed 0:00:00.027\n",
      "--- model.gms(9642) 5 Mb\n",
      "--- Generating MINLP model GAMS_MODEL\n",
      "--- model.gms(9646) 9 Mb\n",
      "--- Reset Solvelink = 2\n",
      "---   2,946 rows  3,724 columns  11,178 non-zeroes\n",
      "---   49 nl-code  7 nl-non-zeroes\n",
      "---   11 discrete-columns\n",
      "--- Range statistics (absolute non-zero finite values)\n",
      "--- RHS       [min, max] : [ 2.000E+04, 9.600E+04] - Zero values observed as well\n",
      "--- Bound     [min, max] : [ 1.000E+00, 1.000E+12] - Zero values observed as well\n",
      "--- Matrix    [min, max] : [ 3.925E-07, 1.000E+14]\n",
      "--- model.gms(9646) 6 Mb\n",
      "--- Executing BARON (Solvelink=2): elapsed 0:00:00.055\n",
      "\n",
      "GAMS/BARON       43.2.0 859d62d5 May 4, 2023           WEI x86 64bit/MS Window\n",
      "\n",
      "===========================================================================\n",
      " BARON version 23.3.11. Built: WIN-64 Sat Mar 11 18:01:20 EST 2023\n",
      "\n",
      " BARON is a product of The Optimization Firm.\n",
      " For information on BARON, see https://minlp.com/about-baron\n",
      "XPRESS-MP license initialization failed\n",
      "\n",
      " If you use this software, please cite publications from\n",
      " https://minlp.com/baron-publications, such as: \n",
      "\n",
      " Kilinc, M. and N. V. Sahinidis, Exploiting integrality in the global\n",
      " optimization of mixed-integer nonlinear programming problems in BARON,\n",
      " Optimization Methods and Software, 33, 540-562, 2018.\n",
      "===========================================================================\n",
      " This BARON run may utilize the following subsolver(s)\n",
      " For LP/MIP/QP: CLP/CBC, ILOG CPLEX                             \n",
      " For NLP: MINOS, SNOPT, External NLP, IPOPT, FILTERSQP\n",
      "===========================================================================\n",
      " Doing local search\n",
      " Solving bounding LP\n",
      " Starting multi-start local search\n",
      " Preprocessing found feasible solution with value -0.163624E+09\n",
      " Done with local search\n",
      "===========================================================================\n",
      "  Iteration    Open nodes         Time (s)    Lower bound      Upper bound\n",
      "          1             0             0.56    -0.163624E+09    -0.163624E+09\n",
      "\n",
      "                         *** Normal completion ***            \n",
      "\n",
      " Wall clock time:                     0.76\n",
      " Total CPU time used:                 0.56\n",
      "\n",
      " Total no. of BaR iterations:       1\n",
      " Best solution found at node:      -1\n",
      " Max. no. of nodes in memory:       1\n",
      " \n",
      " All done\n",
      "===========================================================================\n",
      "\n",
      "Solution      = -163623725.266233  best solution found during preprocessing\n",
      "Best possible = -163623725.43\n",
      "Absolute gap  = 0.163766592741013  optca = 1E-9\n",
      "Relative gap  = 1.00087314544781E-9  optcr = 1E-9\n",
      "\n",
      "--- Reading solution for model GAMS_MODEL\n",
      "--- Executing after solve: elapsed 0:00:00.938\n",
      "--- model.gms(9649) 6 Mb\n",
      "--- model.gms(16369) 6 Mb\n",
      "--- Putfile results D:\\Optimization-Notebook\\superstructure\\case_study\\output\\results.dat\n",
      "--- Putfile statresults D:\\Optimization-Notebook\\superstructure\\case_study\\output\\resultsstat.dat\n",
      "*** Status: Normal completion\n",
      "--- Job model.gms Stop 12/12/23 03:09:09 elapsed 0:00:00.956\n",
      "\n",
      "GAMS WORKING DIRECTORY: D:\\Optimization-Notebook/superstructure//case_study/output\n",
      "\n"
     ]
    },
    {
     "data": {
      "text/plain": "{'Problem': [{'Name': 'D:\\\\Optimization-Notebook/superstructure//case_study/output\\\\model.gms', 'Lower bound': -163623725.43, 'Upper bound': -163623725.2662334, 'Number of objectives': 1, 'Number of constraints': 2946.0, 'Number of variables': 3724.0, 'Number of binary variables': None, 'Number of integer variables': 11.0, 'Number of continuous variables': 3713.0, 'Number of nonzeros': 11178.0, 'Sense': 'minimize'}], 'Solver': [{'Name': 'GAMS (43, 2, 0, 0)', 'Status': 'ok', 'Return code': 0, 'Message': None, 'User time': 0.911000138148665, 'System time': None, 'Wallclock time': None, 'Termination condition': 'optimal', 'Termination message': None}], 'Solution': [OrderedDict([('number of solutions', 0), ('number of solutions displayed', 0)])]}"
     },
     "execution_count": 224,
     "metadata": {},
     "output_type": "execute_result"
    }
   ],
   "source": [
    "# m1.y[\"R1A\"].fix(0)\n",
    "# m1.y[\"R2A\"].fix(0)\n",
    "# m1.y[\"R3A\"].fix(0)\n",
    "\n",
    "# m1.y[\"R1C\"].fix(0)\n",
    "# m1.y[\"R2C\"].fix(0)\n",
    "# m1.y[\"R3C\"].fix(0)\n",
    "# m1.y[\"R4C\"].fix(0)\n",
    "\n",
    "solve_model(m1)"
   ],
   "metadata": {
    "collapsed": false,
    "pycharm": {
     "name": "#%%\n"
    }
   }
  },
  {
   "cell_type": "code",
   "execution_count": 225,
   "outputs": [
    {
     "data": {
      "text/plain": "{'PROD-WASTE': 7691.230416438564,\n 'PROD-ELEC': 9758.641229865427,\n 'PROD-GAS': 60661.72936065145,\n 'PROD-JTF': 0.0,\n 'PROD-DSL': 13809.39057073626,\n 'PROD-WAX': 105120.94070084977}"
     },
     "execution_count": 225,
     "metadata": {},
     "output_type": "execute_result"
    }
   ],
   "source": [
    "res =  {iprod: value(sum(sum(m1.F[i, iprod, k] for k in m1.k) for i in m1.inlets[iprod])) for iprod in m1.iprod }\n",
    "res"
   ],
   "metadata": {
    "collapsed": false,
    "pycharm": {
     "name": "#%%\n"
    }
   }
  },
  {
   "cell_type": "code",
   "execution_count": 226,
   "outputs": [
    {
     "name": "stdout",
     "output_type": "stream",
     "text": [
      "kfuel : Size=1, Index=None, Ordered=Insertion\n",
      "    Key  : Dimen : Domain : Size : Members\n",
      "    None :     1 :      k :   38 : {'C3A', 'C4A', 'C5A', 'C6A', 'C7A', 'C8A', 'C9A', 'C10A', 'C11A', 'C12A', 'C13A', 'C14A', 'C15A', 'C16A', 'C17A', 'C18A', 'C19A', 'C20A', 'C21A', 'C2E', 'C3E', 'C4E', 'C5E', 'C6E', 'C7E', 'C8E', 'C9E', 'C10E', 'C11E', 'C12E', 'C13E', 'C14E', 'C15E', 'C16E', 'C17E', 'C18E', 'C19E', 'C20E'}\n"
     ]
    }
   ],
   "source": [
    "tmp = {}\n",
    "for irxn in m1.irxn:\n",
    "    for k in m1.k:\n",
    "        if (not k in m1.kplastic) and (k in m1.rxn_species[irxn]):\n",
    "                tmp[(irxn, k)]  = value(m1.FI[irxn, k] + m1.conversions[irxn][k] * m1.FRefT[irxn])\n",
    "tmp\n",
    "m1.kfuel.pprint()"
   ],
   "metadata": {
    "collapsed": false,
    "pycharm": {
     "name": "#%%\n"
    }
   }
  },
  {
   "cell_type": "code",
   "execution_count": 227,
   "outputs": [
    {
     "data": {
      "text/plain": "<BarContainer object of 6 artists>"
     },
     "execution_count": 227,
     "metadata": {},
     "output_type": "execute_result"
    },
    {
     "data": {
      "text/plain": "<Figure size 640x480 with 1 Axes>",
      "image/png": "[encoded data removed]"
     },
     "metadata": {},
     "output_type": "display_data"
    }
   ],
   "source": [
    "import matplotlib.pyplot as plt\n",
    "plt.bar([\"waste\", \"elec\", \"gasoline\", \"jet fuel\", \"diesel\", \"wax\"], list(res.values()))"
   ],
   "metadata": {
    "collapsed": false,
    "pycharm": {
     "name": "#%%\n"
    }
   }
  },
  {
   "cell_type": "code",
   "execution_count": 228,
   "outputs": [
    {
     "name": "stdout",
     "output_type": "stream",
     "text": [
      "TB : Size=46, Index=k, Domain=Any, Default=None, Mutable=False\n",
      "    Key   : Value\n",
      "     C10A : 174.155\n",
      "     C10E :   170.6\n",
      "     C11A : 195.928\n",
      "     C11E :  192.67\n",
      "     C12A : 216.323\n",
      "     C12E :   213.0\n",
      "     C13A : 235.466\n",
      "     C13E :  232.84\n",
      "     C14A : 253.577\n",
      "     C14E :   251.1\n",
      "     C15A : 270.685\n",
      "     C15E :  268.46\n",
      "     C16A : 286.864\n",
      "     C16E :  284.87\n",
      "     C17A :  302.15\n",
      "     C17E :  300.33\n",
      "     C18A :  316.71\n",
      "     C18E :  314.82\n",
      "     C19A :   329.9\n",
      "     C19E :  329.02\n",
      "      C1A : -161.49\n",
      "     C20A :  343.78\n",
      "     C20E :  342.39\n",
      "     C21A :   356.5\n",
      "     C22A :   368.6\n",
      "      C2A :   -88.6\n",
      "      C2E : -103.74\n",
      "      C3A :  -42.04\n",
      "      C3E :   -47.7\n",
      "      C4A :    -0.5\n",
      "      C4E :   -6.24\n",
      "      C5A :   36.07\n",
      "      C5E :   30.07\n",
      "      C6A :   68.73\n",
      "      C6E :   63.48\n",
      "      C7A :   98.43\n",
      "      C7E :   93.64\n",
      "      C8A :  125.68\n",
      "      C8E :  121.26\n",
      "      C9A :  150.82\n",
      "      C9E : 146.868\n",
      "       H2 : -252.76\n",
      "     HDPE :   68.75\n",
      "     LDPE :   68.75\n",
      "       PP :   68.75\n",
      "    WASTE :     nan\n"
     ]
    }
   ],
   "source": [
    "m1.TB.pprint()"
   ],
   "metadata": {
    "collapsed": false,
    "pycharm": {
     "name": "#%%\n"
    }
   }
  },
  {
   "cell_type": "code",
   "execution_count": 229,
   "outputs": [
    {
     "data": {
      "text/plain": "<BarContainer object of 4 artists>"
     },
     "execution_count": 229,
     "metadata": {},
     "output_type": "execute_result"
    },
    {
     "data": {
      "text/plain": "<Figure size 640x480 with 1 Axes>",
      "image/png": "[encoded data removed]"
     },
     "metadata": {},
     "output_type": "display_data"
    }
   ],
   "source": [
    "feedstock =  {ifeed: value(sum(sum(m1.F[ifeed, i, k] for k in m1.k) for i in m1.outlets[ifeed])) for ifeed in m1.ifeed}\n",
    "feedstock\n",
    "import matplotlib.pyplot as plt\n",
    "plt.bar([\"LDPE\", \"HDPE\", \"PP\", \"H2\"], list(feedstock.values()))"
   ],
   "metadata": {
    "collapsed": false,
    "pycharm": {
     "name": "#%%\n"
    }
   }
  },
  {
   "cell_type": "code",
   "execution_count": 230,
   "outputs": [
    {
     "data": {
      "text/plain": "<BarContainer object of 7 artists>"
     },
     "execution_count": 230,
     "metadata": {},
     "output_type": "execute_result"
    },
    {
     "data": {
      "text/plain": "<Figure size 640x480 with 1 Axes>",
      "image/png": "[encoded data removed]"
     },
     "metadata": {},
     "output_type": "display_data"
    }
   ],
   "source": [
    "\n",
    "rxns =  {irxn: value(sum(m1.FI[irxn, k] for k in m1.k)) for irxn in m1.irxn}\n",
    "rxns\n",
    "import matplotlib.pyplot as plt\n",
    "plt.bar(OrderedSet(m1.irxn), list(rxns.values()))"
   ],
   "metadata": {
    "collapsed": false,
    "pycharm": {
     "name": "#%%\n"
    }
   }
  },
  {
   "cell_type": "code",
   "execution_count": 231,
   "outputs": [],
   "source": [
    "def summarize(m):\n",
    "    # summarize the model for plotting\n",
    "    res = {}\n",
    "\n",
    "    annualized_capital = {}\n",
    "    capital = {}\n",
    "    operating = {}\n",
    "\n",
    "    for itech in m.itech:\n",
    "        annualized_capital[itech] = value(m.beta_AL * m.cc[itech])\n",
    "        capital[itech] = value(m.cc[itech])\n",
    "        operating[itech] = value(m.oc[itech])\n",
    "\n",
    "    feedcost = {}\n",
    "    for ifeed in m.ifeed:\n",
    "        feedcost[ifeed] = value(m.feedCost[ifeed])\n",
    "\n",
    "    prodrev = {}\n",
    "    for i in m.ifuel:\n",
    "        prodrev[i] = value(m.fuel_rev[i])\n",
    "    for i in m.ielec:\n",
    "        prodrev[i] = value(m.elec_rev[i])\n",
    "    for i in m.iwax:\n",
    "        prodrev[i] = value(m.wax_rev[i])\n",
    "\n",
    "    fuel_comp = {}\n",
    "    for i in m.ifuel:\n",
    "        fuel_comp[i] = {}\n",
    "        for k in m.kfuel:\n",
    "            fuel_comp[i][k] = value(sum(m.F[ip, i, k] for ip in m.inlets[i]))\n",
    "\n",
    "    prod_quantity = {}\n",
    "    for i in m.ifuel:\n",
    "        prod_quantity[i] = value(sum(sum(m.F[ip, i, k] for k in m.k) for ip in m.inlets[i]))\n",
    "    for i in m.ielec:\n",
    "        prod_quantity[i] = value(sum(sum(m.F[ip, i, k] for k in m.k) for ip in m.inlets[i]))\n",
    "    for i in m.iwax:\n",
    "        prod_quantity[i] = value(sum(sum(m.F[ip, i, k] for k in m.k) for ip in m.inlets[i]))\n",
    "\n",
    "    res[\"annualized_capital\"] = annualized_capital\n",
    "    res[\"capital\"] = capital\n",
    "    res[\"operating\"] = operating\n",
    "    res[\"feed\"] = feedcost\n",
    "    res[\"product_revenue\"] = prodrev\n",
    "    res[\"fuel_comp\"] = fuel_comp\n",
    "    res[\"prod_quantity\"] = prod_quantity\n",
    "\n",
    "    return res"
   ],
   "metadata": {
    "collapsed": false,
    "pycharm": {
     "name": "#%%\n"
    }
   }
  },
  {
   "cell_type": "code",
   "execution_count": 232,
   "outputs": [
    {
     "data": {
      "text/plain": "{'annualized_capital': {'R1A': 0.0,\n  'R2A': 0.0,\n  'R3A': 3424288.3343419875,\n  'R1C': 322297.5685382079,\n  'R2C': 456214.2456124777,\n  'R3C': 0.0,\n  'R4C': 0.0,\n  'DT1A': 0.0,\n  'DT2A': 0.0,\n  'DT3A': 0.0,\n  'FL1A': 0.0},\n 'capital': {'R1A': 0.0,\n  'R2A': 0.0,\n  'R3A': 29393032.912806757,\n  'R1C': 2766502.734233544,\n  'R2C': 3916002.108261611,\n  'R3C': 0.0,\n  'R4C': 0.0,\n  'DT1A': 0.0,\n  'DT2A': 0.0,\n  'DT3A': 0.0,\n  'FL1A': 0.0},\n 'operating': {'R1A': 0.0,\n  'R2A': 0.0,\n  'R3A': 432407.2485079657,\n  'R1C': 96238.06386970784,\n  'R2C': 129208.03222870226,\n  'R3C': 0.0,\n  'R4C': 0.0,\n  'DT1A': 0.0,\n  'DT2A': 0.0,\n  'DT3A': 0.0,\n  'FL1A': 0.0},\n 'feed': {'FEED-LDPE': 6600000.0,\n  'FEED-HDPE': 26400000.0,\n  'FEED-PP': 31680000.0,\n  'FEED-H2': 2188057.7849370353},\n 'product_revenue': {'PROD-GAS': 71580840.6455687,\n  'PROD-JTF': 0.0,\n  'PROD-DSL': 14499860.099273074,\n  'PROD-ELEC': 0.004221088906748,\n  'PROD-WAX': 149271735.79520667},\n 'fuel_comp': {'PROD-GAS': {'C3A': 0.0,\n   'C4A': 0.0,\n   'C5A': 5863.858324492181,\n   'C6A': 6957.518868925087,\n   'C7A': 7318.9518740464755,\n   'C8A': 7312.515077293123,\n   'C9A': 8773.541937641432,\n   'C10A': 6376.761508585016,\n   'C11A': 5035.139903591223,\n   'C12A': 0.0,\n   'C13A': 0.0,\n   'C14A': 0.0,\n   'C15A': 0.0,\n   'C16A': 0.0,\n   'C17A': 0.0,\n   'C18A': 0.0,\n   'C19A': 43.146676431204305,\n   'C20A': 232.75704593488499,\n   'C21A': 0.0,\n   'C2E': 0.0,\n   'C3E': 0.0,\n   'C4E': 0.0,\n   'C5E': 0.0,\n   'C6E': 1931.128302993519,\n   'C7E': 1225.894737448911,\n   'C8E': 941.0277250976272,\n   'C9E': 3101.8949353454727,\n   'C10E': 1109.6041289978475,\n   'C11E': 880.143196495839,\n   'C12E': 994.0069170801428,\n   'C13E': 0.0,\n   'C14E': 0.0,\n   'C15E': 0.0,\n   'C16E': 0.0,\n   'C17E': 559.6341224031514,\n   'C18E': 668.0680259494325,\n   'C19E': 668.0680259494324,\n   'C20E': 668.0680259494324},\n  'PROD-JTF': {'C3A': 0.0,\n   'C4A': 0.0,\n   'C5A': 0.0,\n   'C6A': 0.0,\n   'C7A': 0.0,\n   'C8A': 0.0,\n   'C9A': 0.0,\n   'C10A': 0.0,\n   'C11A': 0.0,\n   'C12A': 0.0,\n   'C13A': 0.0,\n   'C14A': 0.0,\n   'C15A': 0.0,\n   'C16A': 0.0,\n   'C17A': 0.0,\n   'C18A': 0.0,\n   'C19A': 0.0,\n   'C20A': 0.0,\n   'C21A': 0.0,\n   'C2E': 0.0,\n   'C3E': 0.0,\n   'C4E': 0.0,\n   'C5E': 0.0,\n   'C6E': 0.0,\n   'C7E': 0.0,\n   'C8E': 0.0,\n   'C9E': 0.0,\n   'C10E': 0.0,\n   'C11E': 0.0,\n   'C12E': 0.0,\n   'C13E': 0.0,\n   'C14E': 0.0,\n   'C15E': 0.0,\n   'C16E': 0.0,\n   'C17E': 0.0,\n   'C18E': 0.0,\n   'C19E': 0.0,\n   'C20E': 0.0},\n  'PROD-DSL': {'C3A': 0.0,\n   'C4A': 0.0,\n   'C5A': 0.0,\n   'C6A': 0.0,\n   'C7A': 0.0,\n   'C8A': 0.0,\n   'C9A': 0.0,\n   'C10A': 0.0,\n   'C11A': 0.0,\n   'C12A': 3815.915527684492,\n   'C13A': 2471.8016792887106,\n   'C14A': 1939.1983448132535,\n   'C15A': 914.8711844592358,\n   'C16A': 860.6474250613498,\n   'C17A': 483.7816764108912,\n   'C18A': 232.75704593488499,\n   'C19A': 189.61036950368063,\n   'C20A': 0.0,\n   'C21A': 0.0,\n   'C2E': 0.0,\n   'C3E': 0.0,\n   'C4E': 0.0,\n   'C5E': 0.0,\n   'C6E': 0.0,\n   'C7E': 0.0,\n   'C8E': 0.0,\n   'C9E': 0.0,\n   'C10E': 0.0,\n   'C11E': 0.0,\n   'C12E': 0.0,\n   'C13E': 788.1693361851817,\n   'C14E': 668.0680259494322,\n   'C15E': 668.0680259494324,\n   'C16E': 668.0680259494324,\n   'C17E': 108.43390354628069,\n   'C18E': 0.0,\n   'C19E': 0.0,\n   'C20E': 0.0}},\n 'prod_quantity': {'PROD-GAS': 60661.72936065145,\n  'PROD-JTF': 0.0,\n  'PROD-DSL': 13809.39057073626,\n  'PROD-ELEC': 9758.641229865427,\n  'PROD-WAX': 105120.94070084977}}"
     },
     "execution_count": 232,
     "metadata": {},
     "output_type": "execute_result"
    }
   ],
   "source": [
    "summary = summarize(m1)\n",
    "summary"
   ],
   "metadata": {
    "collapsed": false,
    "pycharm": {
     "name": "#%%\n"
    }
   }
  },
  {
   "cell_type": "code",
   "execution_count": 233,
   "outputs": [
    {
     "data": {
      "text/plain": "<Figure size 640x480 with 1 Axes>",
      "image/png": "[encoded data removed]"
     },
     "metadata": {},
     "output_type": "display_data"
    }
   ],
   "source": [
    "categories = ['Annualized Capital Cost', \"Operating Cost\", \"Feed\"]\n",
    "# items: \"annualized_capital\", \"operating cost\", \"feed cost\"\n",
    "values = np.array([sum(summary[\"annualized_capital\"].values()), sum(summary[\"operating\"].values()), sum(summary[\"feed\"].values())])\n",
    "\n",
    "# Create a bar chart\n",
    "plt.bar(categories, values/1e6, edgecolor='black')\n",
    "\n",
    "# Add labels and title\n",
    "plt.ylabel(\"Value\")\n",
    "plt.xlabel(\"Category\")\n",
    "plt.title(\"Cost Breakdown(million dollars/yr)\")\n",
    "total_cost = sum(values);"
   ],
   "metadata": {
    "collapsed": false,
    "pycharm": {
     "name": "#%%\n"
    }
   }
  },
  {
   "cell_type": "code",
   "execution_count": 234,
   "outputs": [
    {
     "data": {
      "text/plain": "<Figure size 640x480 with 1 Axes>",
      "image/png": "[encoded data removed]"
     },
     "metadata": {},
     "output_type": "display_data"
    }
   ],
   "source": [
    "categories = ['Electricity', \"Gasoline\", \"Jet Fuel\", \"Diesel\", \"Paraffin Wax\"]\n",
    "# items: \"electricity\", \"gasoline\", \"jet fuel\", \"diesel\", \"wax\"\n",
    "values = np.array([summary[\"product_revenue\"][\"PROD-ELEC\"], summary[\"product_revenue\"][\"PROD-GAS\"], summary[\"product_revenue\"][\"PROD-JTF\"], summary[\"product_revenue\"][\"PROD-DSL\"], summary[\"product_revenue\"][\"PROD-WAX\"]])\n",
    "\n",
    "# Create a bar chart\n",
    "plt.bar(categories, values/1e6, edgecolor='black')\n",
    "\n",
    "# Add labels and title\n",
    "plt.ylabel(\"Value\")\n",
    "plt.xlabel(\"Category\")\n",
    "plt.title(\"Revenue Breakdown(million dollars/yr)\")\n",
    "total_profit = sum(values);"
   ],
   "metadata": {
    "collapsed": false,
    "pycharm": {
     "name": "#%%\n"
    }
   }
  },
  {
   "cell_type": "code",
   "execution_count": 235,
   "outputs": [
    {
     "data": {
      "text/plain": "163.6237252662334"
     },
     "execution_count": 235,
     "metadata": {},
     "output_type": "execute_result"
    }
   ],
   "source": [
    "(total_profit - total_cost)/1e6"
   ],
   "metadata": {
    "collapsed": false,
    "pycharm": {
     "name": "#%%\n"
    }
   }
  },
  {
   "cell_type": "code",
   "execution_count": 236,
   "outputs": [
    {
     "data": {
      "text/plain": "Text(0.5, 1.0, 'Product Quantity(kt/yr)')"
     },
     "execution_count": 236,
     "metadata": {},
     "output_type": "execute_result"
    },
    {
     "data": {
      "text/plain": "<Figure size 640x480 with 1 Axes>",
      "image/png": "[encoded data removed]"
     },
     "metadata": {},
     "output_type": "display_data"
    }
   ],
   "source": [
    "categories = ['Electricity', \"Gasoline\", \"Jet Fuel\", \"Diesel\", \"Paraffin Wax\"]\n",
    "# items: \"electricity\", \"gasoline\", \"jet fuel\", \"diesel\", \"wax\"\n",
    "values = np.array([summary[\"prod_quantity\"][\"PROD-ELEC\"], summary[\"prod_quantity\"][\"PROD-GAS\"], summary[\"prod_quantity\"][\"PROD-JTF\"], summary[\"prod_quantity\"][\"PROD-DSL\"], summary[\"prod_quantity\"][\"PROD-WAX\"]])\n",
    "\n",
    "# Create a bar chart\n",
    "plt.bar(categories, values/1e3, edgecolor='black')\n",
    "\n",
    "# Add labels and title\n",
    "plt.ylabel(\"Value\")\n",
    "plt.xlabel(\"Category\")\n",
    "plt.title(\"Product Quantity(kt/yr)\")"
   ],
   "metadata": {
    "collapsed": false,
    "pycharm": {
     "name": "#%%\n"
    }
   }
  },
  {
   "cell_type": "code",
   "execution_count": 237,
   "outputs": [
    {
     "data": {
      "text/plain": "<Figure size 1200x600 with 1 Axes>",
      "image/png": "[encoded data removed]"
     },
     "metadata": {},
     "output_type": "display_data"
    }
   ],
   "source": [
    "gas_data = summary[\"fuel_comp\"][\"PROD-GAS\"]\n",
    "\n",
    "# Separate data into two groups\n",
    "groupA = [gas_data[key] for key in gas_data if key.endswith('A')]\n",
    "groupE = [gas_data[key] for key in gas_data if key.endswith('E')]\n",
    "\n",
    "# The position of the bars on the x-axis\n",
    "r = range(len(groupA))\n",
    "\n",
    "# Plotting the bars\n",
    "plt.figure(figsize=(12, 6))\n",
    "plt.bar(r, groupA, color='blue', edgecolor='black', label='Alkane')\n",
    "plt.bar(r, groupE, bottom=groupA, color='red', edgecolor='black', label='Olefin')\n",
    "\n",
    "# Add labels and title\n",
    "plt.xticks(r, [key.replace('A', '') for key in gas_data if key.endswith('A')], rotation=45)\n",
    "plt.ylabel(\"Value\")\n",
    "plt.xlabel(\"Product\")\n",
    "plt.title(\"Stacked Bar Chart of Product Distribution\")\n",
    "\n",
    "# Create legend & Show graphic\n",
    "plt.legend()\n",
    "plt.show()"
   ],
   "metadata": {
    "collapsed": false,
    "pycharm": {
     "name": "#%%\n"
    }
   }
  },
  {
   "cell_type": "code",
   "execution_count": 238,
   "outputs": [
    {
     "data": {
      "text/plain": "<Figure size 1200x600 with 1 Axes>",
      "image/png": "[encoded data removed]"
     },
     "metadata": {},
     "output_type": "display_data"
    }
   ],
   "source": [
    "# diesel composition\n",
    "\n",
    "dsl_data = summary[\"fuel_comp\"][\"PROD-DSL\"]\n",
    "\n",
    "# Separate data into two groups\n",
    "groupA = [dsl_data[key] for key in dsl_data if key.endswith('A')]\n",
    "groupE = [dsl_data[key] for key in dsl_data if key.endswith('E')]\n",
    "\n",
    "# The position of the bars on the x-axis\n",
    "r = range(len(groupA))\n",
    "\n",
    "# Plotting the bars\n",
    "plt.figure(figsize=(12, 6))\n",
    "plt.bar(r, groupA, color='blue', edgecolor='black', label='Alkane')\n",
    "plt.bar(r, groupE, bottom=groupA, color='red', edgecolor='black', label='Olefin')\n",
    "\n",
    "# Add labels and title\n",
    "plt.xticks(r, [key.replace('A', '') for key in dsl_data if key.endswith('A')], rotation=45)\n",
    "plt.ylabel(\"Value\")\n",
    "plt.xlabel(\"Product\")\n",
    "plt.title(\"Stacked Bar Chart of Product Distribution\")\n",
    "\n",
    "# Create legend & Show graphic\n",
    "plt.legend()\n",
    "plt.show()"
   ],
   "metadata": {
    "collapsed": false,
    "pycharm": {
     "name": "#%%\n"
    }
   }
  },
  {
   "cell_type": "code",
   "execution_count": 238,
   "outputs": [],
   "source": [],
   "metadata": {
    "collapsed": false,
    "pycharm": {
     "name": "#%%\n"
    }
   }
  },
  {
   "cell_type": "code",
   "execution_count": 238,
   "outputs": [],
   "source": [],
   "metadata": {
    "collapsed": false,
    "pycharm": {
     "name": "#%%\n"
    }
   }
  }
 ],
 "metadata": {
  "kernelspec": {
   "display_name": "Python 3",
   "language": "python",
   "name": "python3"
  },
  "language_info": {
   "codemirror_mode": {
    "name": "ipython",
    "version": 2
   },
   "file_extension": ".py",
   "mimetype": "text/x-python",
   "name": "python",
   "nbconvert_exporter": "python",
   "pygments_lexer": "ipython2",
   "version": "2.7.6"
  }
 },
 "nbformat": 4,
 "nbformat_minor": 0
}