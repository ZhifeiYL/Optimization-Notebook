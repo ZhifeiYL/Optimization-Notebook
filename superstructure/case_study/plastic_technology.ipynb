{
 "cells": [
  {
   "cell_type": "markdown",
   "source": [
    "# Plastic Waste Recycling Technologies\n",
    "\n",
    "In this case study, we aim to come up with the technology alternatives treating different types of waste plastic."
   ],
   "metadata": {
    "collapsed": false,
    "pycharm": {
     "name": "#%% md\n"
    }
   }
  },
  {
   "cell_type": "markdown",
   "source": [
    "The process is divided into four primarily stages, starting from sorted waste plastic to end products to be sold in the market."
   ],
   "metadata": {
    "collapsed": false,
    "pycharm": {
     "name": "#%% md\n"
    }
   },
   "outputs": [
    {
     "ename": "SyntaxError",
     "evalue": "invalid syntax (1992290021.py, line 1)",
     "output_type": "error",
     "traceback": [
      "\u001B[0;36m  Cell \u001B[0;32mIn[1], line 1\u001B[0;36m\u001B[0m\n\u001B[0;31m    The process is divided into four primarily stages, starting from sorted waste plastic to end products to be sold in the market.\u001B[0m\n\u001B[0m        ^\u001B[0m\n\u001B[0;31mSyntaxError\u001B[0m\u001B[0;31m:\u001B[0m invalid syntax\n"
     ]
    }
   ],
   "execution_count": 1
  },
  {
   "cell_type": "markdown",
   "source": [
    "## A test case study\n",
    "\n",
    "In this study, we limit the size of our problem to first set up a system that works.\n",
    "\n",
    "The type of input of our waste plsatic is limited to only LDPE and PET."
   ],
   "metadata": {
    "collapsed": false,
    "pycharm": {
     "name": "#%% md\n"
    }
   }
  },
  {
   "cell_type": "markdown",
   "source": [
    "## Product Space\n",
    "\n",
    "First, we specify the product space help us guide our separation task.\n",
    "\n",
    "1. Natural Gas Range alkanes (C1-C2)\n",
    "2. Ethylene\n",
    "3. Propylene\n",
    "4. Propane\n",
    "5. Butene\n",
    "6. Butadiene\n",
    "7. Butane\n",
    "8. Aromatics\n",
    "9. Light Naphtha(C5-C6)\n",
    "10. Gasoline(C6-C12)\n",
    "11. Diesel(C9-C20)"
   ],
   "metadata": {
    "collapsed": false,
    "pycharm": {
     "name": "#%% md\n"
    }
   },
   "execution_count": 1
  },
  {
   "cell_type": "markdown",
   "source": [
    "## Waste plastic reaction technologies"
   ],
   "metadata": {
    "collapsed": false,
    "pycharm": {
     "name": "#%% md\n"
    }
   }
  },
  {
   "cell_type": "markdown",
   "source": [
    "#### Technology 1 for LDPE: Hydrocracking\n",
    "\n",
    "DOI: 10.1126/sciadv.abf8283\n",
    "\n",
    "250$^{\\circ}C$, 30 bar\n",
    "\n",
    "Products considered for separation: C1-C20 alkanes"
   ],
   "metadata": {
    "collapsed": false,
    "pycharm": {
     "name": "#%% md\n"
    }
   }
  },
  {
   "cell_type": "markdown",
   "source": [
    "#### Technology 2 for LDPE: Pyrolysis\n",
    "\n",
    "550$^{\\circ}C$, 1 bar\n",
    "\n",
    "https://chemistry-europe.onlinelibrary.wiley.com/doi/full/10.1002/cssc.201903434\n",
    "\n",
    "Products considered for separation: C3-C15 alkanes"
   ],
   "metadata": {
    "collapsed": false,
    "pycharm": {
     "name": "#%% md\n"
    }
   }
  },
  {
   "cell_type": "markdown",
   "source": [
    "#### Technology 1 for PET: Microwave-assisted Glycolysis\n",
    "\n",
    "210$^{\\circ}C$, 1bar\n",
    "\n",
    "https://doi.org/10.1021/acssuschemeng.2c07203"
   ],
   "metadata": {
    "collapsed": false,
    "pycharm": {
     "name": "#%% md\n"
    }
   }
  },
  {
   "cell_type": "markdown",
   "source": [
    "#### Technology 2 for PET: Pyrolysis\n",
    "\n",
    "550$^{\\circ}C$, 1bar\n",
    "\n",
    "https://pubs.acs.org/doi/pdf/10.1021/ie900557c"
   ],
   "metadata": {
    "collapsed": false,
    "pycharm": {
     "name": "#%% md\n"
    }
   }
  },
  {
   "cell_type": "code",
   "execution_count": 1,
   "outputs": [],
   "source": [],
   "metadata": {
    "collapsed": false,
    "pycharm": {
     "name": "#%%\n"
    }
   }
  },
  {
   "cell_type": "code",
   "execution_count": null,
   "outputs": [],
   "source": [],
   "metadata": {
    "collapsed": false,
    "pycharm": {
     "name": "#%%\n"
    }
   }
  }
 ],
 "metadata": {
  "kernelspec": {
   "display_name": "Python 3",
   "language": "python",
   "name": "python3"
  },
  "language_info": {
   "codemirror_mode": {
    "name": "ipython",
    "version": 2
   },
   "file_extension": ".py",
   "mimetype": "text/x-python",
   "name": "python",
   "nbconvert_exporter": "python",
   "pygments_lexer": "ipython2",
   "version": "2.7.6"
  }
 },
 "nbformat": 4,
 "nbformat_minor": 0
}