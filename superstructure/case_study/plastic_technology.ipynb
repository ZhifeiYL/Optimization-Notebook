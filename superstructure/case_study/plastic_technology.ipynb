{
 "cells": [
  {
   "cell_type": "markdown",
   "source": [],
   "metadata": {
    "collapsed": false,
    "pycharm": {
     "name": "#%% md\n"
    }
   }
  },
  {
   "cell_type": "code",
   "execution_count": 1,
   "outputs": [],
   "source": [
    "import matplotlib.pyplot\n",
    "from pyomo.environ import *\n",
    "from util.util import get_root_dir\n",
    "import pandas as pd\n",
    "import numpy as np\n",
    "from ordered_set import OrderedSet"
   ],
   "metadata": {
    "collapsed": false,
    "pycharm": {
     "name": "#%%\n"
    }
   }
  },
  {
   "cell_type": "code",
   "execution_count": 2,
   "outputs": [],
   "source": [
    "proj_dir = get_root_dir() + \"/superstructure/\"\n",
    "# data_dir = proj_dir + \"plastic_case/\""
   ],
   "metadata": {
    "collapsed": false,
    "pycharm": {
     "name": "#%%\n"
    }
   }
  },
  {
   "cell_type": "code",
   "execution_count": 3,
   "outputs": [
    {
     "data": {
      "text/plain": "            R1A  R2A  R3A  DT1A  DT2A  DT3A  DT4A  FEED-LDPE  FEED-HDPE  \\\nR1A-1         0    0    0     1     0     0     0          0          0   \nR2A-1         0    0    0     1     0     0     0          0          0   \nR3A-1         0    0    0     1     0     0     0          0          0   \nDT1A-1        0    0    0     0     0     0     0          0          0   \nDT2A-1        0    0    0     0     0     0     0          0          0   \nDT3A-1        0    0    0     0     0     0     0          0          0   \nDT4A-1        0    0    0     0     0     0     0          0          0   \nFEED-LDPE     1    0    0     0     0     0     0          0          0   \nFEED-HDPE     0    1    0     0     0     0     0          0          0   \nFEED-PP       0    0    1     0     0     0     0          0          0   \nFEED-H2       1    1    1     0     0     0     0          0          0   \nPROD-WASTE    0    0    0     0     0     0     0          0          0   \nPROD-ELEC     0    0    0     0     0     0     0          0          0   \nPROD-GAS      0    0    0     0     0     0     0          0          0   \nPROD-JTF      0    0    0     0     0     0     0          0          0   \nPROD-DSL      0    0    0     0     0     0     0          0          0   \nPROD-WAX      0    0    0     0     0     0     0          0          0   \nR1A-2         0    0    0     0     0     0     0          0          0   \nR2A-2         0    0    0     0     0     0     0          0          0   \nR3A-2         0    0    0     0     0     0     0          0          0   \nDT1A-2        0    0    0     0     1     0     0          0          0   \nDT2A-2        0    0    0     0     0     1     0          0          0   \nDT3A-2        0    0    0     0     0     0     1          0          0   \nDT4A-2        0    0    0     0     0     0     0          0          0   \n\n            FEED-PP  FEED-H2  PROD-WASTE  PROD-ELEC  PROD-GAS  PROD-JTF  \\\nR1A-1             0        0           0          0         0         0   \nR2A-1             0        0           0          0         0         0   \nR3A-1             0        0           0          0         0         0   \nDT1A-1            0        0           0          1         0         0   \nDT2A-1            0        0           0          1         1         1   \nDT3A-1            0        0           0          1         1         1   \nDT4A-1            0        0           0          1         1         1   \nFEED-LDPE         0        0           0          0         0         0   \nFEED-HDPE         0        0           0          0         0         0   \nFEED-PP           0        0           0          0         0         0   \nFEED-H2           0        0           0          0         0         0   \nPROD-WASTE        0        0           0          0         0         0   \nPROD-ELEC         0        0           0          0         0         0   \nPROD-GAS          0        0           0          0         0         0   \nPROD-JTF          0        0           0          0         0         0   \nPROD-DSL          0        0           0          0         0         0   \nPROD-WAX          0        0           0          0         0         0   \nR1A-2             0        0           1          0         0         0   \nR2A-2             0        0           1          0         0         0   \nR3A-2             0        0           1          0         0         0   \nDT1A-2            0        0           0          1         1         1   \nDT2A-2            0        0           0          1         1         1   \nDT3A-2            0        0           0          1         0         1   \nDT4A-2            0        0           0          1         0         0   \n\n            PROD-DSL  PROD-WAX  \nR1A-1              0         0  \nR2A-1              0         0  \nR3A-1              0         0  \nDT1A-1             0         0  \nDT2A-1             0         0  \nDT3A-1             1         0  \nDT4A-1             1         0  \nFEED-LDPE          0         0  \nFEED-HDPE          0         0  \nFEED-PP            0         0  \nFEED-H2            0         0  \nPROD-WASTE         0         0  \nPROD-ELEC          0         0  \nPROD-GAS           0         0  \nPROD-JTF           0         0  \nPROD-DSL           0         0  \nPROD-WAX           0         0  \nR1A-2              0         0  \nR2A-2              0         0  \nR3A-2              0         0  \nDT1A-2             1         0  \nDT2A-2             1         0  \nDT3A-2             1         0  \nDT4A-2             0         1  ",
      "text/html": "<div>\n<style scoped>\n    .dataframe tbody tr th:only-of-type {\n        vertical-align: middle;\n    }\n\n    .dataframe tbody tr th {\n        vertical-align: top;\n    }\n\n    .dataframe thead th {\n        text-align: right;\n    }\n</style>\n<table border=\"1\" class=\"dataframe\">\n  <thead>\n    <tr style=\"text-align: right;\">\n      <th></th>\n      <th>R1A</th>\n      <th>R2A</th>\n      <th>R3A</th>\n      <th>DT1A</th>\n      <th>DT2A</th>\n      <th>DT3A</th>\n      <th>DT4A</th>\n      <th>FEED-LDPE</th>\n      <th>FEED-HDPE</th>\n      <th>FEED-PP</th>\n      <th>FEED-H2</th>\n      <th>PROD-WASTE</th>\n      <th>PROD-ELEC</th>\n      <th>PROD-GAS</th>\n      <th>PROD-JTF</th>\n      <th>PROD-DSL</th>\n      <th>PROD-WAX</th>\n    </tr>\n  </thead>\n  <tbody>\n    <tr>\n      <th>R1A-1</th>\n      <td>0</td>\n      <td>0</td>\n      <td>0</td>\n      <td>1</td>\n      <td>0</td>\n      <td>0</td>\n      <td>0</td>\n      <td>0</td>\n      <td>0</td>\n      <td>0</td>\n      <td>0</td>\n      <td>0</td>\n      <td>0</td>\n      <td>0</td>\n      <td>0</td>\n      <td>0</td>\n      <td>0</td>\n    </tr>\n    <tr>\n      <th>R2A-1</th>\n      <td>0</td>\n      <td>0</td>\n      <td>0</td>\n      <td>1</td>\n      <td>0</td>\n      <td>0</td>\n      <td>0</td>\n      <td>0</td>\n      <td>0</td>\n      <td>0</td>\n      <td>0</td>\n      <td>0</td>\n      <td>0</td>\n      <td>0</td>\n      <td>0</td>\n      <td>0</td>\n      <td>0</td>\n    </tr>\n    <tr>\n      <th>R3A-1</th>\n      <td>0</td>\n      <td>0</td>\n      <td>0</td>\n      <td>1</td>\n      <td>0</td>\n      <td>0</td>\n      <td>0</td>\n      <td>0</td>\n      <td>0</td>\n      <td>0</td>\n      <td>0</td>\n      <td>0</td>\n      <td>0</td>\n      <td>0</td>\n      <td>0</td>\n      <td>0</td>\n      <td>0</td>\n    </tr>\n    <tr>\n      <th>DT1A-1</th>\n      <td>0</td>\n      <td>0</td>\n      <td>0</td>\n      <td>0</td>\n      <td>0</td>\n      <td>0</td>\n      <td>0</td>\n      <td>0</td>\n      <td>0</td>\n      <td>0</td>\n      <td>0</td>\n      <td>0</td>\n      <td>1</td>\n      <td>0</td>\n      <td>0</td>\n      <td>0</td>\n      <td>0</td>\n    </tr>\n    <tr>\n      <th>DT2A-1</th>\n      <td>0</td>\n      <td>0</td>\n      <td>0</td>\n      <td>0</td>\n      <td>0</td>\n      <td>0</td>\n      <td>0</td>\n      <td>0</td>\n      <td>0</td>\n      <td>0</td>\n      <td>0</td>\n      <td>0</td>\n      <td>1</td>\n      <td>1</td>\n      <td>1</td>\n      <td>0</td>\n      <td>0</td>\n    </tr>\n    <tr>\n      <th>DT3A-1</th>\n      <td>0</td>\n      <td>0</td>\n      <td>0</td>\n      <td>0</td>\n      <td>0</td>\n      <td>0</td>\n      <td>0</td>\n      <td>0</td>\n      <td>0</td>\n      <td>0</td>\n      <td>0</td>\n      <td>0</td>\n      <td>1</td>\n      <td>1</td>\n      <td>1</td>\n      <td>1</td>\n      <td>0</td>\n    </tr>\n    <tr>\n      <th>DT4A-1</th>\n      <td>0</td>\n      <td>0</td>\n      <td>0</td>\n      <td>0</td>\n      <td>0</td>\n      <td>0</td>\n      <td>0</td>\n      <td>0</td>\n      <td>0</td>\n      <td>0</td>\n      <td>0</td>\n      <td>0</td>\n      <td>1</td>\n      <td>1</td>\n      <td>1</td>\n      <td>1</td>\n      <td>0</td>\n    </tr>\n    <tr>\n      <th>FEED-LDPE</th>\n      <td>1</td>\n      <td>0</td>\n      <td>0</td>\n      <td>0</td>\n      <td>0</td>\n      <td>0</td>\n      <td>0</td>\n      <td>0</td>\n      <td>0</td>\n      <td>0</td>\n      <td>0</td>\n      <td>0</td>\n      <td>0</td>\n      <td>0</td>\n      <td>0</td>\n      <td>0</td>\n      <td>0</td>\n    </tr>\n    <tr>\n      <th>FEED-HDPE</th>\n      <td>0</td>\n      <td>1</td>\n      <td>0</td>\n      <td>0</td>\n      <td>0</td>\n      <td>0</td>\n      <td>0</td>\n      <td>0</td>\n      <td>0</td>\n      <td>0</td>\n      <td>0</td>\n      <td>0</td>\n      <td>0</td>\n      <td>0</td>\n      <td>0</td>\n      <td>0</td>\n      <td>0</td>\n    </tr>\n    <tr>\n      <th>FEED-PP</th>\n      <td>0</td>\n      <td>0</td>\n      <td>1</td>\n      <td>0</td>\n      <td>0</td>\n      <td>0</td>\n      <td>0</td>\n      <td>0</td>\n      <td>0</td>\n      <td>0</td>\n      <td>0</td>\n      <td>0</td>\n      <td>0</td>\n      <td>0</td>\n      <td>0</td>\n      <td>0</td>\n      <td>0</td>\n    </tr>\n    <tr>\n      <th>FEED-H2</th>\n      <td>1</td>\n      <td>1</td>\n      <td>1</td>\n      <td>0</td>\n      <td>0</td>\n      <td>0</td>\n      <td>0</td>\n      <td>0</td>\n      <td>0</td>\n      <td>0</td>\n      <td>0</td>\n      <td>0</td>\n      <td>0</td>\n      <td>0</td>\n      <td>0</td>\n      <td>0</td>\n      <td>0</td>\n    </tr>\n    <tr>\n      <th>PROD-WASTE</th>\n      <td>0</td>\n      <td>0</td>\n      <td>0</td>\n      <td>0</td>\n      <td>0</td>\n      <td>0</td>\n      <td>0</td>\n      <td>0</td>\n      <td>0</td>\n      <td>0</td>\n      <td>0</td>\n      <td>0</td>\n      <td>0</td>\n      <td>0</td>\n      <td>0</td>\n      <td>0</td>\n      <td>0</td>\n    </tr>\n    <tr>\n      <th>PROD-ELEC</th>\n      <td>0</td>\n      <td>0</td>\n      <td>0</td>\n      <td>0</td>\n      <td>0</td>\n      <td>0</td>\n      <td>0</td>\n      <td>0</td>\n      <td>0</td>\n      <td>0</td>\n      <td>0</td>\n      <td>0</td>\n      <td>0</td>\n      <td>0</td>\n      <td>0</td>\n      <td>0</td>\n      <td>0</td>\n    </tr>\n    <tr>\n      <th>PROD-GAS</th>\n      <td>0</td>\n      <td>0</td>\n      <td>0</td>\n      <td>0</td>\n      <td>0</td>\n      <td>0</td>\n      <td>0</td>\n      <td>0</td>\n      <td>0</td>\n      <td>0</td>\n      <td>0</td>\n      <td>0</td>\n      <td>0</td>\n      <td>0</td>\n      <td>0</td>\n      <td>0</td>\n      <td>0</td>\n    </tr>\n    <tr>\n      <th>PROD-JTF</th>\n      <td>0</td>\n      <td>0</td>\n      <td>0</td>\n      <td>0</td>\n      <td>0</td>\n      <td>0</td>\n      <td>0</td>\n      <td>0</td>\n      <td>0</td>\n      <td>0</td>\n      <td>0</td>\n      <td>0</td>\n      <td>0</td>\n      <td>0</td>\n      <td>0</td>\n      <td>0</td>\n      <td>0</td>\n    </tr>\n    <tr>\n      <th>PROD-DSL</th>\n      <td>0</td>\n      <td>0</td>\n      <td>0</td>\n      <td>0</td>\n      <td>0</td>\n      <td>0</td>\n      <td>0</td>\n      <td>0</td>\n      <td>0</td>\n      <td>0</td>\n      <td>0</td>\n      <td>0</td>\n      <td>0</td>\n      <td>0</td>\n      <td>0</td>\n      <td>0</td>\n      <td>0</td>\n    </tr>\n    <tr>\n      <th>PROD-WAX</th>\n      <td>0</td>\n      <td>0</td>\n      <td>0</td>\n      <td>0</td>\n      <td>0</td>\n      <td>0</td>\n      <td>0</td>\n      <td>0</td>\n      <td>0</td>\n      <td>0</td>\n      <td>0</td>\n      <td>0</td>\n      <td>0</td>\n      <td>0</td>\n      <td>0</td>\n      <td>0</td>\n      <td>0</td>\n    </tr>\n    <tr>\n      <th>R1A-2</th>\n      <td>0</td>\n      <td>0</td>\n      <td>0</td>\n      <td>0</td>\n      <td>0</td>\n      <td>0</td>\n      <td>0</td>\n      <td>0</td>\n      <td>0</td>\n      <td>0</td>\n      <td>0</td>\n      <td>1</td>\n      <td>0</td>\n      <td>0</td>\n      <td>0</td>\n      <td>0</td>\n      <td>0</td>\n    </tr>\n    <tr>\n      <th>R2A-2</th>\n      <td>0</td>\n      <td>0</td>\n      <td>0</td>\n      <td>0</td>\n      <td>0</td>\n      <td>0</td>\n      <td>0</td>\n      <td>0</td>\n      <td>0</td>\n      <td>0</td>\n      <td>0</td>\n      <td>1</td>\n      <td>0</td>\n      <td>0</td>\n      <td>0</td>\n      <td>0</td>\n      <td>0</td>\n    </tr>\n    <tr>\n      <th>R3A-2</th>\n      <td>0</td>\n      <td>0</td>\n      <td>0</td>\n      <td>0</td>\n      <td>0</td>\n      <td>0</td>\n      <td>0</td>\n      <td>0</td>\n      <td>0</td>\n      <td>0</td>\n      <td>0</td>\n      <td>1</td>\n      <td>0</td>\n      <td>0</td>\n      <td>0</td>\n      <td>0</td>\n      <td>0</td>\n    </tr>\n    <tr>\n      <th>DT1A-2</th>\n      <td>0</td>\n      <td>0</td>\n      <td>0</td>\n      <td>0</td>\n      <td>1</td>\n      <td>0</td>\n      <td>0</td>\n      <td>0</td>\n      <td>0</td>\n      <td>0</td>\n      <td>0</td>\n      <td>0</td>\n      <td>1</td>\n      <td>1</td>\n      <td>1</td>\n      <td>1</td>\n      <td>0</td>\n    </tr>\n    <tr>\n      <th>DT2A-2</th>\n      <td>0</td>\n      <td>0</td>\n      <td>0</td>\n      <td>0</td>\n      <td>0</td>\n      <td>1</td>\n      <td>0</td>\n      <td>0</td>\n      <td>0</td>\n      <td>0</td>\n      <td>0</td>\n      <td>0</td>\n      <td>1</td>\n      <td>1</td>\n      <td>1</td>\n      <td>1</td>\n      <td>0</td>\n    </tr>\n    <tr>\n      <th>DT3A-2</th>\n      <td>0</td>\n      <td>0</td>\n      <td>0</td>\n      <td>0</td>\n      <td>0</td>\n      <td>0</td>\n      <td>1</td>\n      <td>0</td>\n      <td>0</td>\n      <td>0</td>\n      <td>0</td>\n      <td>0</td>\n      <td>1</td>\n      <td>0</td>\n      <td>1</td>\n      <td>1</td>\n      <td>0</td>\n    </tr>\n    <tr>\n      <th>DT4A-2</th>\n      <td>0</td>\n      <td>0</td>\n      <td>0</td>\n      <td>0</td>\n      <td>0</td>\n      <td>0</td>\n      <td>0</td>\n      <td>0</td>\n      <td>0</td>\n      <td>0</td>\n      <td>0</td>\n      <td>0</td>\n      <td>1</td>\n      <td>0</td>\n      <td>0</td>\n      <td>0</td>\n      <td>1</td>\n    </tr>\n  </tbody>\n</table>\n</div>"
     },
     "execution_count": 3,
     "metadata": {},
     "output_type": "execute_result"
    }
   ],
   "source": [
    "df = pd.read_csv(\"data/productive.csv\", index_col=0)\n",
    "df"
   ],
   "metadata": {
    "collapsed": false,
    "pycharm": {
     "name": "#%%\n"
    }
   }
  },
  {
   "cell_type": "code",
   "execution_count": 4,
   "outputs": [
    {
     "data": {
      "text/plain": "[('R1A-1', 'DT1A'),\n ('R2A-1', 'DT1A'),\n ('R3A-1', 'DT1A'),\n ('DT1A-1', 'PROD-ELEC'),\n ('DT2A-1', 'PROD-ELEC'),\n ('DT2A-1', 'PROD-GAS'),\n ('DT2A-1', 'PROD-JTF'),\n ('DT3A-1', 'PROD-ELEC'),\n ('DT3A-1', 'PROD-GAS'),\n ('DT3A-1', 'PROD-JTF'),\n ('DT3A-1', 'PROD-DSL'),\n ('DT4A-1', 'PROD-ELEC'),\n ('DT4A-1', 'PROD-GAS'),\n ('DT4A-1', 'PROD-JTF'),\n ('DT4A-1', 'PROD-DSL'),\n ('FEED-LDPE', 'R1A'),\n ('FEED-HDPE', 'R2A'),\n ('FEED-PP', 'R3A'),\n ('FEED-H2', 'R1A'),\n ('FEED-H2', 'R2A'),\n ('FEED-H2', 'R3A'),\n ('R1A-2', 'PROD-WASTE'),\n ('R2A-2', 'PROD-WASTE'),\n ('R3A-2', 'PROD-WASTE'),\n ('DT1A-2', 'DT2A'),\n ('DT1A-2', 'PROD-ELEC'),\n ('DT1A-2', 'PROD-GAS'),\n ('DT1A-2', 'PROD-JTF'),\n ('DT1A-2', 'PROD-DSL'),\n ('DT2A-2', 'DT3A'),\n ('DT2A-2', 'PROD-ELEC'),\n ('DT2A-2', 'PROD-GAS'),\n ('DT2A-2', 'PROD-JTF'),\n ('DT2A-2', 'PROD-DSL'),\n ('DT3A-2', 'DT4A'),\n ('DT3A-2', 'PROD-ELEC'),\n ('DT3A-2', 'PROD-JTF'),\n ('DT3A-2', 'PROD-DSL'),\n ('DT4A-2', 'PROD-ELEC'),\n ('DT4A-2', 'PROD-WAX')]"
     },
     "execution_count": 4,
     "metadata": {},
     "output_type": "execute_result"
    }
   ],
   "source": [
    "productive_links = []\n",
    "for index, row in df.iterrows():\n",
    "    for column in df.columns:\n",
    "        if row[column] == 1:\n",
    "            productive_links.append((index, column))\n",
    "\n",
    "\n",
    "productive_links"
   ],
   "metadata": {
    "collapsed": false,
    "pycharm": {
     "name": "#%%\n"
    }
   }
  },
  {
   "cell_type": "code",
   "execution_count": 5,
   "outputs": [],
   "source": [
    "conversions = {}\n",
    "conversions[\"R1A\"] = {}\n",
    "conversions[\"R2A\"] = {}\n",
    "conversions[\"R3A\"] = {}\n",
    "df_R1A = pd.read_excel(\"data/reaction_data.xlsx\", sheet_name=\"R1A\", header=0)\n",
    "df_R2A = pd.read_excel(\"data/reaction_data.xlsx\", sheet_name=\"R2A\", header=0)\n",
    "df_R3A = pd.read_excel(\"data/reaction_data.xlsx\", sheet_name=\"R3A\", header=0)\n",
    "\n",
    "for index, row in df_R1A.iterrows():\n",
    "    if not row[\"Code\"] in {\"Waste\", \"WASTE\", \"waste\"}:\n",
    "        conversions[\"R1A\"][row[\"Code\"]] = row[\"Yield\"]\n",
    "\n",
    "for index, row in df_R2A.iterrows():\n",
    "    if not row[\"Code\"] in {\"Waste\", \"WASTE\", \"waste\"}:\n",
    "        conversions[\"R2A\"][row[\"Code\"]] = row[\"Yield\"]\n",
    "\n",
    "for index, row in df_R3A.iterrows():\n",
    "    if not row[\"Code\"] in {\"Waste\", \"WASTE\", \"waste\"}:\n",
    "        conversions[\"R3A\"][row[\"Code\"]] = row[\"Yield\"]\n",
    "\n",
    "conversions;"
   ],
   "metadata": {
    "collapsed": false,
    "pycharm": {
     "name": "#%%\n"
    }
   }
  },
  {
   "cell_type": "code",
   "execution_count": 6,
   "outputs": [],
   "source": [
    "properties = pd.read_csv(\"filled_properties.csv\", index_col=0)"
   ],
   "metadata": {
    "collapsed": false,
    "pycharm": {
     "name": "#%%\n"
    }
   }
  },
  {
   "cell_type": "code",
   "execution_count": 7,
   "outputs": [],
   "source": [
    "def prepare_sets():\n",
    "    res = {}\n",
    "    elements = pd.read_csv(\"data/elements_case1.csv\", index_col=0)\n",
    "    res[\"i\"] = elements.index.tolist()\n",
    "\n",
    "    compounds = [f'C{n}A' for n in range(1, 23)] + ['H2', 'LDPE', 'HDPE', 'PP', 'WASTE']\n",
    "    res[\"k\"] =  compounds\n",
    "\n",
    "    return res"
   ],
   "metadata": {
    "collapsed": false,
    "pycharm": {
     "name": "#%%\n"
    }
   }
  },
  {
   "cell_type": "code",
   "execution_count": 8,
   "outputs": [],
   "source": [
    "res = prepare_sets()\n",
    "res[\"i\"];"
   ],
   "metadata": {
    "collapsed": false,
    "pycharm": {
     "name": "#%%\n"
    }
   }
  },
  {
   "cell_type": "code",
   "execution_count": 9,
   "outputs": [],
   "source": [
    "def build_model(m, data):\n",
    "    m.i = Set(initialize=data[\"i\"])\n",
    "    m.itech = Set(within=m.i, initialize=[\"R1A\", \"R2A\", \"R3A\", \"DT1A\", \"DT2A\", \"DT3A\", \"DT4A\"])\n",
    "\n",
    "    m.isource = Set(within=m.i, initialize=[\"FEED-LDPE\", \"FEED-HDPE\", \"FEED-PP\", \"FEED-H2\",\"R1A\", \"R2A\", \"R3A\", \"DT1A\", \"DT2A\", \"DT3A\", \"DT4A\"])\n",
    "    m.isink = Set(within=m.i, initialize=[\"R1A-1\", \"R2A-1\", \"R3A-1\", \"DT1A-1\", \"DT2A-1\", \"DT3A-1\", \"DT4A-1\",\"R1A-2\", \"R2A-2\", \"R3A-2\", \"DT1A-2\",\n",
    "                                          \"DT2A-2\", \"DT3A-2\", \"DT4A-2\",\"PROD-WASTE\",\"PROD-ELEC\",\"PROD-GAS\",\"PROD-JTF\",\"PROD-DSL\", \"PROD-WAX\"])\n",
    "\n",
    "    irxn = [\"R1A\", \"R2A\", \"R3A\"]\n",
    "    isep = [\"DT1A\", \"DT2A\", \"DT3A\", \"DT4A\"]\n",
    "\n",
    "    m.irxn = Set(within=m.itech, initialize=irxn)\n",
    "    m.isep = Set(within=m.itech, initialize=isep)\n",
    "\n",
    "    irxnL = [\"R1A-1\", \"R2A-1\", \"R3A-1\"]\n",
    "    isepL = [\"DT1A-1\", \"DT2A-1\", \"DT3A-1\", \"DT4A-1\"]\n",
    "    irxnH = [\"R1A-2\", \"R2A-2\", \"R3A-2\"]\n",
    "    isepH = [\"DT1A-2\", \"DT2A-2\", \"DT3A-2\", \"DT4A-2\"]\n",
    "\n",
    "    m.irxnL = Set(within=m.i, initialize=irxnL)\n",
    "    m.isepL = Set(within=m.i, initialize=isepL)\n",
    "    m.irxnH = Set(within=m.i, initialize=irxnH)\n",
    "    m.isepH = Set(within=m.i, initialize=isepH)\n",
    "\n",
    "    m.ifeed = Set(within=m.i, initialize=[\"FEED-LDPE\", \"FEED-HDPE\", \"FEED-PP\", \"FEED-H2\"])\n",
    "    m.iprod = Set(within=m.i, initialize=[\"PROD-WASTE\", \"PROD-ELEC\",\"PROD-GAS\",\"PROD-JTF\",\"PROD-DSL\", \"PROD-WAX\"])\n",
    "    m.ifuel = Set(within=m.iprod, initialize=[\"PROD-GAS\",\"PROD-JTF\",\"PROD-DSL\"])\n",
    "\n",
    "    m.k = Set(initialize=data[\"k\"])\n",
    "    m.kfeed = Set(within=m.k, initialize=[\"LDPE\",\"HDPE\",\"PP\",\"H2\"])\n",
    "    kfuel = [key for key, value in properties[\"trace\"].to_dict().items() if value == 0]\n",
    "    m.kfuel = Set(within=m.k, initialize=kfuel)\n",
    "    kegen = [key for key, value in properties[\"egen\"].to_dict().items() if value == 1]\n",
    "    m.kegen = Set(within=m.k, initialize = kegen)\n",
    "\n",
    "    m.productive_links = Set(dimen=2, within=m.i * m.i, initialize = productive_links)\n",
    "\n",
    "    port_match = {}\n",
    "    for item in irxnL + isepL + irxnH + isepH:\n",
    "        base, suffix = item.rsplit('-', 1)\n",
    "        match_suffix = '2' if suffix == '1' else '1'\n",
    "        port_match[item] = f\"{base}-{match_suffix}\"\n",
    "\n",
    "    heavy_match = {}\n",
    "\n",
    "    # Map -2 to no suffix\n",
    "    for item in irxnH + isepH:\n",
    "        base, _ = item.rsplit('-', 1)\n",
    "        heavy_match[item] = f\"{base}\"\n",
    "\n",
    "    # Map no suffix to -2\n",
    "    for item in irxn + isep:\n",
    "        heavy_match[item] = f\"{item}-2\"\n",
    "\n",
    "    light_match = {}\n",
    "\n",
    "    # Map -1 to no suffix\n",
    "    for item in irxnL + isepL:\n",
    "        base, _ = item.rsplit('-', 1)\n",
    "        light_match[item] = base\n",
    "\n",
    "    # Map no suffix to -1\n",
    "    for item in irxn + isep:\n",
    "        light_match[item] = f\"{item}-1\"\n",
    "\n",
    "    m.port_match = port_match # match xxx-1  and xxx-2: that is, m.port_match[xxx-1] gives xxx-2 and vice versa\n",
    "    m.heavy_match = heavy_match\n",
    "    m.light_match = light_match\n",
    "\n",
    "    m.inlets = {}\n",
    "    m.outlets = {}\n",
    "\n",
    "    for i in m.i:\n",
    "        m.inlets[i] = OrderedSet()\n",
    "        m.outlets[i] = OrderedSet()\n",
    "\n",
    "    for (a,b) in productive_links:\n",
    "        m.inlets[b].append(a)\n",
    "        m.outlets[a].append(b)\n",
    "\n",
    "    m.rxn_species = {}\n",
    "    hdc_list = [f'C{n}A' for n in range(1, 20)]\n",
    "    hdc_list.append(\"H2\")\n",
    "    r1a_list = [i for i in hdc_list]\n",
    "    r1a_list.append(\"LDPE\")\n",
    "    m.rxn_species[\"R1A\"] =  OrderedSet(r1a_list)\n",
    "\n",
    "    r2a_list = [i for i in hdc_list]\n",
    "    r2a_list.append(\"HDPE\")\n",
    "    m.rxn_species[\"R2A\"] =  OrderedSet(r2a_list)\n",
    "\n",
    "    r3a_list = [i for i in hdc_list]\n",
    "    r3a_list.append(\"PP\")\n",
    "    m.rxn_species[\"R3A\"] =  OrderedSet(r3a_list)\n",
    "\n",
    "    m.conversions = conversions\n",
    "\n",
    "    # ============================================\n",
    "\n",
    "    m.fload = Param(m.kfeed, initialize={\"LDPE\": 20000, \"HDPE\":80000, \"PP\":96000})\n",
    "\n",
    "    m.MW = Param(m.k, initialize=properties[\"MW\"].to_dict())\n",
    "\n",
    "    m.LHV = Param(m.kegen, initialize={kp : properties[\"LHV\"].to_dict()[kp] for kp in m.kegen})\n",
    "    m.rho = Param(m.kfuel, initialize={kp : properties[\"rho\"].to_dict()[kp] for kp in m.kfuel})\n",
    "    m.mu = Param(m.kfuel, initialize={kp :properties[\"mu\"].to_dict()[kp] for kp in m.kfuel})\n",
    "    m.TB = Param(m.k, initialize=properties[\"TB\"].to_dict())\n",
    "    m.bpLo = Param(m.ifuel, initialize={\"PROD-GAS\": 5, \"PROD-JTF\": 5, \"PROD-DSL\": 5} )\n",
    "    m.bpUp = Param(m.ifuel, initialize={\"PROD-GAS\": 98,\"PROD-JTF\": 98.5,\"PROD-DSL\": 95} )\n",
    "\n",
    "    m.sepCut = Param(m.isep, initialize={\"DT1A\": np.ceil(m.TB[\"C4A\"]), \"DT2A\": np.ceil(m.TB[\"C8A\"]), \"DT3A\": np.ceil(m.TB[\"C12A\"]), \"DT4A\": np.ceil(m.TB[\"C20A\"])})\n",
    "    # C4/C5; C8/C9; C12/C13;C20/C21\n",
    "\n",
    "    m.mat_price = Param(m.ifeed, initialize={\"FEED-LDPE\": 200, \"FEED-HDPE\": 200, \"FEED-PP\": 200, \"FEED-H2\":2100}, doc=\"$/per tonne\")\n",
    "    m.fuel_price = Param(m.ifuel, initialize={\"PROD-GAS\": 810,\"PROD-JTF\": 663,\"PROD-DSL\":975}, doc=\"$/per tonne\")\n",
    "    m.electric_price = Param(initialize=2.221e-8, doc=\"/J\")\n",
    "\n",
    "    # ============================================\n",
    "\n",
    "    m.F = Var(m.productive_links, m.k,domain=NonNegativeReals)\n",
    "    m.FRefT = Var(m.irxn, domain=NonNegativeReals)\n",
    "    m.FI = Var(m.itech, m.k, domain=NonNegativeReals)\n",
    "\n",
    "    m.capex = Var(domain=NonNegativeReals)\n",
    "    m.opex = Var(domain=NonNegativeReals)\n",
    "    m.cc = Var(m.itech, domain=NonNegativeReals)\n",
    "    m.oc = Var(m.itech, domain=NonNegativeReals)\n",
    "    m.feedCost = Var(m.ifeed, domain=NonNegativeReals)\n",
    "    m.revenue = Var(m.iprod, domain=NonNegativeReals)"
   ],
   "metadata": {
    "collapsed": false,
    "pycharm": {
     "name": "#%%\n"
    }
   }
  },
  {
   "cell_type": "code",
   "execution_count": 9,
   "outputs": [],
   "source": [],
   "metadata": {
    "collapsed": false,
    "pycharm": {
     "name": "#%%\n"
    }
   }
  },
  {
   "cell_type": "code",
   "execution_count": 10,
   "outputs": [],
   "source": [
    "def build_feed_cons(m):\n",
    "    # Load constriants for feed\n",
    "    def eq_fd1(m ,kfeed):\n",
    "        if kfeed == \"LDPE\":\n",
    "            return  sum(m.F[\"FEED-LDPE\",i, kfeed] for i in m.outlets[\"FEED-LDPE\"]) == m.fload[kfeed]\n",
    "        elif kfeed == \"HDPE\":\n",
    "            return  sum(m.F[\"FEED-HDPE\",i, kfeed] for i in m.outlets[\"FEED-HDPE\"]) == m.fload[kfeed]\n",
    "        elif kfeed == \"PP\":\n",
    "            return  sum(m.F[\"FEED-PP\",i, kfeed] for i in m.outlets[\"FEED-PP\"])== m.fload[kfeed]\n",
    "        return Constraint.Skip\n",
    "    m.eq_fd1 = Constraint(m.kfeed, rule=eq_fd1)\n",
    "\n",
    "    # pure feed only\n",
    "    def eq_fd2(m, kfeed):\n",
    "        if kfeed == \"LDPE\":\n",
    "            return  sum(m.F[\"FEED-LDPE\",\"R1A\",k] for k in m.k if k != \"LDPE\") == 0\n",
    "        elif kfeed == \"HDPE\":\n",
    "            return  sum(m.F[\"FEED-HDPE\",\"R2A\",k] for k in m.k if k != \"HDPE\") == 0\n",
    "        elif kfeed == \"PP\":\n",
    "            return  sum(m.F[\"FEED-PP\",\"R3A\",k] for k in m.k if k != \"PP\") == 0\n",
    "        elif kfeed == \"H2\":\n",
    "            return  sum(m.F[\"FEED-H2\",\"R1A\",k] + m.F[\"FEED-H2\",\"R2A\",k] + m.F[\"FEED-H2\",\"R3A\",k] for k in m.k if k != \"H2\" ) == 0\n",
    "        return Constraint.Skip\n",
    "    m.eq_fd2 = Constraint(m.kfeed, rule=eq_fd2)\n",
    "    return\n"
   ],
   "metadata": {
    "collapsed": false,
    "pycharm": {
     "name": "#%%\n"
    }
   }
  },
  {
   "cell_type": "code",
   "execution_count": 11,
   "outputs": [],
   "source": [
    "def build_rxn(m):\n",
    "    # find the basis of yield\n",
    "    def eq_rxn1(m, irxn):\n",
    "        if irxn == \"R1A\":\n",
    "            return m.FRefT[irxn] == sum(m.F[ip ,irxn, \"LDPE\"] for ip in m.inlets[irxn])\n",
    "        elif irxn == \"R2A\":\n",
    "            return m.FRefT[irxn] == sum(m.F[ip ,irxn, \"HDPE\"] for ip in m.inlets[irxn])\n",
    "        elif irxn == \"R3A\":\n",
    "            return m.FRefT[irxn] == sum(m.F[ip ,irxn, \"PP\"] for ip in m.inlets[irxn])\n",
    "        return Constraint.Skip\n",
    "    m.eq_rxn1 = Constraint(m.irxn, rule=eq_rxn1)\n",
    "\n",
    "    # conversion\n",
    "    def eq_rxn2(m, irxn, k):\n",
    "        if k in m.rxn_species[irxn]:\n",
    "            return sum(m.F[ip, irxn, k] for ip in m.inlets[irxn]) + m.conversions[irxn][k] * m.FRefT[irxn] == m.FI[irxn,k]\n",
    "        return Constraint.Skip\n",
    "    m.eq_rxn2 = Constraint(m.irxn, m.k, rule=eq_rxn2)\n",
    "\n",
    "    # other species\n",
    "    def eq_rxn3(m, irxn, k):\n",
    "        if (not k in m.rxn_species[irxn]) and (not k == \"WASTE\"):\n",
    "            return sum(m.F[ip, irxn, k] for ip in m.inlets[irxn]) == m.FI[irxn,k]\n",
    "        return Constraint.Skip\n",
    "    m.eq_rxn3 = Constraint(m.irxn, m.k, rule=eq_rxn3)\n",
    "\n",
    "    # waste DOF, mass balance\n",
    "    def eq_rxn4(m, irxn):\n",
    "        return sum(sum(m.F[ip, irxn, k] for ip in m.inlets[irxn]) for k in m.k) == sum(m.FI[irxn,k] for k in m.k)\n",
    "    m.eq_rxn4 = Constraint(m.irxn, rule=eq_rxn4)\n",
    "\n",
    "    # Going out of the technology\n",
    "    # waste and only waste goes to waste stream\n",
    "    def eq_rxn5(m, irxnH, k):\n",
    "        if k == \"WASTE\":\n",
    "            return m.FI[m.heavy_match[irxnH],k] == m.F[irxnH,\"PROD-WASTE\",k]\n",
    "        return m.F[irxnH, \"PROD-WASTE\", k] == 0\n",
    "    m.eq_rxn5 = Constraint(m.irxnH, m.k, rule=eq_rxn5)\n",
    "\n",
    "    # outgoing port balance\n",
    "    def eq_rxn6(m, irxnH, k):\n",
    "        return m.FI[m.heavy_match[irxnH],k] == sum(m.F[irxnH,ip,k] for ip in m.outlets[irxnH]) + sum(m.F[m.port_match[irxnH], ip,k] for ip in m.outlets[m.port_match[irxnH]])\n",
    "    m.eq_rxn6 = Constraint(m.irxnH, m.k, rule=eq_rxn6)\n",
    "\n",
    "    # saturation constriant for HDC\n",
    "    def eq_rxn7a(m, irxn):\n",
    "        return sum(m.F[ip ,irxn,\"H2\"] for ip in m.inlets[irxn]) >= 2 * m.FI[irxn, \"H2\"]\n",
    "    m.eq_rxn7a = Constraint(m.irxn, rule=eq_rxn7a)\n",
    "\n",
    "    return"
   ],
   "metadata": {
    "collapsed": false,
    "pycharm": {
     "name": "#%%\n"
    }
   }
  },
  {
   "cell_type": "code",
   "execution_count": 12,
   "outputs": [],
   "source": [
    "def build_separation(m):\n",
    "    # Sharp binary separation\n",
    "    def eq_sep1(m, isep, k):\n",
    "        if m.TB[k] <= m.sepCut[isep]:\n",
    "            return sum(m.F[ip, isep, k] for ip in m.inlets[isep]) == sum(m.F[m.light_match[isep],ip,k] for ip in m.outlets[m.light_match[isep]])\n",
    "        return sum(m.F[ip, isep, k] for ip in m.inlets[isep]) == sum(m.F[m.heavy_match[isep],ip,k] for ip in m.outlets[m.heavy_match[isep]])\n",
    "    m.eq_sep1 = Constraint(m.isep, m.k, rule=eq_sep1)\n",
    "\n",
    "    def _MB(m, isep, k):\n",
    "        return sum(m.F[i,isep, k] for i in m.inlets[isep]) == sum(m.F[m.heavy_match[isep], i, k] for i in m.outlets[m.heavy_match[isep]]) + sum(m.F[m.light_match[isep], i, k] for i in m.outlets[m.light_match[isep]])\n",
    "    m.connect_c = Constraint(m.isep, m.k, rule=_MB)\n",
    "\n",
    "    return"
   ],
   "metadata": {
    "collapsed": false,
    "pycharm": {
     "name": "#%%\n"
    }
   }
  },
  {
   "cell_type": "code",
   "execution_count": 13,
   "outputs": [],
   "source": [
    "def blending(m):\n",
    "    # blending constraints\n",
    "    def trace_lim(m, ifuel):\n",
    "        return sum(sum(m.F[ip, ifuel, k] for k in m.k if not k in m.kfuel) for ip in m.inlets[ifuel]) <= 0.01 * sum(sum(m.F[ip, ifuel, k] for k in m.k) for ip in m.inlets[ifuel])\n",
    "    m.trace_lim = Constraint(m.iprod, rule=trace_lim)\n",
    "\n",
    "    def _BPlo(m, ifuel):\n",
    "        if ifuel == \"PROD-GAS\":\n",
    "            return sum(sum(m.F[ip, ifuel, k] for k in m.k if m.TB[k] <= 30) for ip in m.inlets[ifuel]) <= m.bpLo[ifuel]\n",
    "        elif ifuel == \"PROD-JTF\":\n",
    "            return sum(sum(m.F[ip, ifuel, k] for k in m.k if m.TB[k] <= 160) for ip in m.inlets[ifuel]) <= m.bpLo[ifuel]\n",
    "        elif ifuel == \"PROD-DSL\":\n",
    "            return sum(sum(m.F[ip, ifuel, k] for k in m.k if m.TB[k] <= 150) for ip in m.inlets[ifuel]) <= m.bpLo[ifuel]\n",
    "        return Constraint.Skip\n",
    "    m.fuel_bplo = Constraint(m.ifuel, rule=_BPlo)\n",
    "\n",
    "    def _BPup(m, ifuel):\n",
    "        if ifuel == \"PROD-GAS\":\n",
    "            return sum(sum(m.F[ip, ifuel, k] for k in m.k if m.TB[k] <= 215) for ip in m.inlets[ifuel]) >= m.bpUp[ifuel]\n",
    "        elif ifuel == \"PROD-JTF\":\n",
    "            return sum(sum(m.F[ip, ifuel, k] for k in m.k if m.TB[k] <= 300) for ip in m.inlets[ifuel]) >= m.bpUp[ifuel]\n",
    "        elif ifuel == \"PROD-DSL\":\n",
    "            return sum(sum(m.F[ip, ifuel, k] for k in m.k if m.TB[k] <= 360) for ip in m.inlets[ifuel]) >= m.bpUp[ifuel]\n",
    "        return Constraint.Skip\n",
    "    m.fuel_bpup = Constraint(m.ifuel, rule=_BPup)"
   ],
   "metadata": {
    "collapsed": false,
    "pycharm": {
     "name": "#%%\n"
    }
   }
  },
  {
   "cell_type": "code",
   "execution_count": 14,
   "outputs": [],
   "source": [
    "def economics(m):\n",
    "    # economics\n",
    "    def fuel_revenue(m, ifuel):\n",
    "        return m.revenue[ifuel] == m.fuel_price[ifuel] * sum(sum(m.F[i, ifuel, k] for k in m.k) for i in m.inlets[ifuel])\n",
    "    m.fuel_revenue = Constraint(m.ifuel, rule=fuel_revenue)\n",
    "\n",
    "    def mat_cost(m, ifeed):\n",
    "        return m.feedCost[ifeed] == m.mat_price[ifeed] * sum(sum(m.F[ifeed,i, k] for k in m.k) for i in m.outlets[ifeed])\n",
    "    m.mat_cost = Constraint(m.ifeed, rule=mat_cost)\n",
    "\n"
   ],
   "metadata": {
    "collapsed": false,
    "pycharm": {
     "name": "#%%\n"
    }
   }
  },
  {
   "cell_type": "code",
   "execution_count": 14,
   "outputs": [],
   "source": [],
   "metadata": {
    "collapsed": false,
    "pycharm": {
     "name": "#%%\n"
    }
   }
  },
  {
   "cell_type": "code",
   "execution_count": 15,
   "outputs": [
    {
     "name": "stdout",
     "output_type": "stream",
     "text": [
      "WARNING: DEPRECATED: Param 'MW' declared with an implicit domain of 'Any'. The\n",
      "default domain for Param objects is 'Any'.  However, we will be changing that\n",
      "default to 'Reals' in the future.  If you really intend the domain of this\n",
      "Paramto be 'Any', you can suppress this warning by explicitly specifying\n",
      "'within=Any' to the Param constructor. (deprecated in 5.6.9, will be removed\n",
      "in (or after) 6.0) (called from\n",
      "C:\\Users\\justi\\anaconda3\\envs\\optimization\\lib\\site-\n",
      "packages\\pyomo\\core\\base\\indexed_component.py:716)\n",
      "WARNING: DEPRECATED: Param 'rho' declared with an implicit domain of 'Any'.\n",
      "The default domain for Param objects is 'Any'.  However, we will be changing\n",
      "that default to 'Reals' in the future.  If you really intend the domain of\n",
      "this Paramto be 'Any', you can suppress this warning by explicitly specifying\n",
      "'within=Any' to the Param constructor. (deprecated in 5.6.9, will be removed\n",
      "in (or after) 6.0) (called from\n",
      "C:\\Users\\justi\\anaconda3\\envs\\optimization\\lib\\site-\n",
      "packages\\pyomo\\core\\base\\indexed_component.py:716)\n",
      "WARNING: DEPRECATED: Param 'mu' declared with an implicit domain of 'Any'. The\n",
      "default domain for Param objects is 'Any'.  However, we will be changing that\n",
      "default to 'Reals' in the future.  If you really intend the domain of this\n",
      "Paramto be 'Any', you can suppress this warning by explicitly specifying\n",
      "'within=Any' to the Param constructor. (deprecated in 5.6.9, will be removed\n",
      "in (or after) 6.0) (called from\n",
      "C:\\Users\\justi\\anaconda3\\envs\\optimization\\lib\\site-\n",
      "packages\\pyomo\\core\\base\\indexed_component.py:716)\n",
      "WARNING: DEPRECATED: Param 'TB' declared with an implicit domain of 'Any'. The\n",
      "default domain for Param objects is 'Any'.  However, we will be changing that\n",
      "default to 'Reals' in the future.  If you really intend the domain of this\n",
      "Paramto be 'Any', you can suppress this warning by explicitly specifying\n",
      "'within=Any' to the Param constructor. (deprecated in 5.6.9, will be removed\n",
      "in (or after) 6.0) (called from\n",
      "C:\\Users\\justi\\anaconda3\\envs\\optimization\\lib\\site-\n",
      "packages\\pyomo\\core\\base\\indexed_component.py:716)\n"
     ]
    }
   ],
   "source": [
    "m1 = ConcreteModel()\n",
    "build_model(m1, res)\n",
    "build_feed_cons(m1)\n",
    "build_rxn(m1)\n",
    "build_separation(m1)\n",
    "blending(m1)\n",
    "economics(m1)"
   ],
   "metadata": {
    "collapsed": false,
    "pycharm": {
     "name": "#%%\n"
    }
   }
  },
  {
   "cell_type": "code",
   "execution_count": 16,
   "outputs": [
    {
     "name": "stdout",
     "output_type": "stream",
     "text": [
      "--- Job model.gms Start 12/08/23 10:39:20 43.2.0 859d62d5 WEX-WEI x86 64bit/MS Windows\n",
      "--- Applying:\n",
      "    C:\\GAMS\\43\\gmsprmNT.txt\n",
      "    C:\\Users\\justi\\OneDrive\\Documents\\GAMS\\gamsconfig.yaml\n",
      "--- GAMS Parameters defined\n",
      "    Input C:\\Users\\justi\\AppData\\Local\\Temp\\tmp4bmpx4wu\\model.gms\n",
      "    Output C:\\Users\\justi\\AppData\\Local\\Temp\\tmp4bmpx4wu\\output.lst\n",
      "    ScrDir C:\\Users\\justi\\AppData\\Local\\Temp\\tmp4bmpx4wu\\225a\\\n",
      "    SysDir C:\\GAMS\\43\\\n",
      "    CurDir C:\\Users\\justi\\AppData\\Local\\Temp\\tmp4bmpx4wu\\\n",
      "    LogOption 3\n",
      "Licensee: Small MUD - 5 User License                     G221121|0002AP-GEN\n",
      "          University of Delaware, Chemical and Biomolecular EngineeriDC3967\n",
      "          C:\\GAMS\\43\\gamslice.txt\n",
      "          License Admin: Marianthi Ierapetritou, mgi@udel.edu              \n",
      "Processor information: 1 socket(s), 10 core(s), and 20 thread(s) available\n",
      "GAMS 43.2.0   Copyright (C) 1987-2023 GAMS Development. All rights reserved\n",
      "--- Starting compilation\n",
      "--- model.gms(3900) 2 Mb\n",
      "--- Starting execution: elapsed 0:00:00.017\n",
      "--- model.gms(2179) 3 Mb\n",
      "--- Generating LP model GAMS_MODEL\n",
      "--- model.gms(2183) 4 Mb\n",
      "---   492 rows  1,172 columns  4,399 non-zeroes\n",
      "--- Range statistics (absolute non-zero finite values)\n",
      "--- RHS       [min, max] : [ 5.000E+00, 9.600E+04] - Zero values observed as well\n",
      "--- Bound     [min, max] : [        NA,        NA] - Zero values observed as well\n",
      "--- Matrix    [min, max] : [ 2.858E-03, 2.100E+03]\n",
      "--- Executing CPLEX (Solvelink=5): elapsed 0:00:00.019\n",
      "\n",
      "IBM ILOG CPLEX   43.2.0 859d62d5 May 4, 2023           WEI x86 64bit/MS Window\n",
      "\n",
      "--- GAMS/CPLEX licensed for continuous and discrete problems.\n",
      "--- GMO setup time: 0.00s\n",
      "--- Space for names approximately 0.02 Mb\n",
      "--- Use option 'names no' to turn use of names off\n",
      "--- GMO memory 0.69 Mb (peak 0.70 Mb)\n",
      "--- Dictionary memory 0.00 Mb\n",
      "--- Cplex 22.1.1.0 link memory 0.03 Mb (peak 0.12 Mb)\n",
      "--- Starting Cplex\n",
      "\n",
      "Version identifier: 22.1.1.0 | 2022-11-27 | 9160aff4d\n",
      "CPXPARAM_Advance                                 0\n",
      "CPXPARAM_Threads                                 1\n",
      "CPXPARAM_MIP_Display                             4\n",
      "CPXPARAM_MIP_Pool_Capacity                       0\n",
      "CPXPARAM_TimeLimit                               1000\n",
      "CPXPARAM_MIP_Tolerances_AbsMIPGap                0\n",
      "CPXPARAM_MIP_Tolerances_MIPGap                   0\n",
      "Tried aggregator 1 time.\n",
      "LP Presolve eliminated 364 rows and 998 columns.\n",
      "Aggregator did 86 substitutions.\n",
      "Reduced LP has 41 rows, 88 columns, and 218 nonzeros.\n",
      "Presolve time = 0.00 sec. (0.82 ticks)\n",
      "Initializing dual steep norms . . .\n",
      "\n",
      "Iteration log . . .\n",
      "Iteration:     1   Dual infeasibility =         41853.000000\n",
      "Iteration:    25   Dual objective     =     -89428191.317760\n",
      "\n",
      "--- LP status (1): optimal.\n",
      "--- Cplex Time: 0.00sec (det. 1.20 ticks)\n",
      "\n",
      "\n",
      "Optimal solution found\n",
      "Objective:    -89398284.317760\n",
      "\n",
      "--- Reading solution for model GAMS_MODEL\n",
      "--- Executing after solve: elapsed 0:00:00.037\n",
      "--- model.gms(3900) 4 Mb\n",
      "--- Putfile results C:\\Users\\justi\\AppData\\Local\\Temp\\tmp4bmpx4wu\\results.dat\n",
      "--- Putfile statresults C:\\Users\\justi\\AppData\\Local\\Temp\\tmp4bmpx4wu\\resultsstat.dat\n",
      "*** Status: Normal completion\n",
      "--- Job model.gms Stop 12/08/23 10:39:20 elapsed 0:00:00.042\n"
     ]
    },
    {
     "data": {
      "text/plain": "{'Problem': [{'Name': 'C:\\\\Users\\\\justi\\\\AppData\\\\Local\\\\Temp\\\\tmp4bmpx4wu\\\\model.gms', 'Lower bound': nan, 'Upper bound': -89398284.31776011, 'Number of objectives': 1, 'Number of constraints': 492.0, 'Number of variables': 1172.0, 'Number of binary variables': None, 'Number of integer variables': 0.0, 'Number of continuous variables': 1172.0, 'Number of nonzeros': 4399.0, 'Sense': 'minimize'}], 'Solver': [{'Name': 'GAMS (43, 2, 0, 0)', 'Status': 'ok', 'Return code': 0, 'Message': None, 'User time': 0.020000268705189, 'System time': None, 'Wallclock time': None, 'Termination condition': 'optimal', 'Termination message': None}], 'Solution': [OrderedDict([('number of solutions', 0), ('number of solutions displayed', 0)])]}"
     },
     "execution_count": 16,
     "metadata": {},
     "output_type": "execute_result"
    }
   ],
   "source": [
    "def solve_model(m):\n",
    "    m.obj = Objective(expr=sum(m.feedCost[ifeed] for ifeed in m.ifeed)\n",
    "                           - sum(m.revenue[ifuel] for ifuel in m.ifuel), sense=minimize)\n",
    "\n",
    "    # def cdebug(m, ifuel):\n",
    "    #     return sum(sum(m.F[i, ifuel, k] for k in m.k) for i in m.inlets[ifuel]) <= 9000000\n",
    "    # m.cd = Constraint(m.ifuel, rule=cdebug)\n",
    "\n",
    "    #opt2 = SolverFactory('gurobi_persistent')\n",
    "    opt1 = SolverFactory('gams')\n",
    "    io_options = dict()\n",
    "\n",
    "    io_options['solver'] = \"cplex\"\n",
    "    res = opt1.solve(m,\n",
    "        tee=True,\n",
    "        add_options = ['option reslim=1000; option optcr=0.0;'],\n",
    "        io_options=io_options)\n",
    "\n",
    "    return res\n",
    "\n",
    "solve_model(m1)"
   ],
   "metadata": {
    "collapsed": false,
    "pycharm": {
     "name": "#%%\n"
    }
   }
  },
  {
   "cell_type": "code",
   "execution_count": 20,
   "outputs": [],
   "source": [],
   "metadata": {
    "collapsed": false,
    "pycharm": {
     "name": "#%%\n"
    }
   }
  },
  {
   "cell_type": "code",
   "execution_count": 21,
   "outputs": [
    {
     "data": {
      "text/plain": "[('R1A-1', 'DT1A'),\n ('R2A-1', 'DT1A'),\n ('R3A-1', 'DT1A'),\n ('DT1A-1', 'PROD-ELEC'),\n ('DT2A-1', 'PROD-ELEC'),\n ('DT2A-1', 'PROD-GAS'),\n ('DT2A-1', 'PROD-JTF'),\n ('DT3A-1', 'PROD-ELEC'),\n ('DT3A-1', 'PROD-GAS'),\n ('DT3A-1', 'PROD-JTF'),\n ('DT3A-1', 'PROD-DSL'),\n ('DT4A-1', 'PROD-ELEC'),\n ('DT4A-1', 'PROD-GAS'),\n ('DT4A-1', 'PROD-JTF'),\n ('DT4A-1', 'PROD-DSL'),\n ('FEED-LDPE', 'R1A'),\n ('FEED-HDPE', 'R2A'),\n ('FEED-PP', 'R3A'),\n ('FEED-H2', 'R1A'),\n ('FEED-H2', 'R2A'),\n ('FEED-H2', 'R3A'),\n ('R1A-2', 'PROD-WASTE'),\n ('R2A-2', 'PROD-WASTE'),\n ('R3A-2', 'PROD-WASTE'),\n ('DT1A-2', 'DT2A'),\n ('DT1A-2', 'PROD-ELEC'),\n ('DT1A-2', 'PROD-GAS'),\n ('DT1A-2', 'PROD-JTF'),\n ('DT1A-2', 'PROD-DSL'),\n ('DT2A-2', 'DT3A'),\n ('DT2A-2', 'PROD-ELEC'),\n ('DT2A-2', 'PROD-GAS'),\n ('DT2A-2', 'PROD-JTF'),\n ('DT2A-2', 'PROD-DSL'),\n ('DT3A-2', 'DT4A'),\n ('DT3A-2', 'PROD-ELEC'),\n ('DT3A-2', 'PROD-JTF'),\n ('DT3A-2', 'PROD-DSL'),\n ('DT4A-2', 'PROD-ELEC'),\n ('DT4A-2', 'PROD-WAX')]"
     },
     "execution_count": 21,
     "metadata": {},
     "output_type": "execute_result"
    }
   ],
   "source": [
    "productive_links"
   ],
   "metadata": {
    "collapsed": false,
    "pycharm": {
     "name": "#%%\n"
    }
   }
  },
  {
   "cell_type": "code",
   "execution_count": 22,
   "outputs": [
    {
     "data": {
      "text/plain": "OrderedSet(['DT1A-2'])"
     },
     "execution_count": 22,
     "metadata": {},
     "output_type": "execute_result"
    }
   ],
   "source": [
    "m1.inlets[\"DT2A\"]"
   ],
   "metadata": {
    "collapsed": false,
    "pycharm": {
     "name": "#%%\n"
    }
   }
  },
  {
   "cell_type": "code",
   "execution_count": 33,
   "outputs": [
    {
     "data": {
      "text/plain": "{'PROD-WASTE': 27461.151117515983,\n 'PROD-ELEC': 17040.261424152,\n 'PROD-GAS': 91527.68688584,\n 'PROD-JTF': 98.5,\n 'PROD-DSL': 63410.21223289199,\n 'PROD-WAX': 0.0}"
     },
     "execution_count": 33,
     "metadata": {},
     "output_type": "execute_result"
    }
   ],
   "source": [
    "res =  {iprod: value(sum(sum(m1.F[i, iprod, k] for k in m1.k) for i in m1.inlets[iprod])) for iprod in m1.iprod }\n",
    "res"
   ],
   "metadata": {
    "collapsed": false,
    "pycharm": {
     "name": "#%%\n"
    }
   }
  },
  {
   "cell_type": "code",
   "execution_count": 35,
   "outputs": [
    {
     "data": {
      "text/plain": "<BarContainer object of 6 artists>"
     },
     "execution_count": 35,
     "metadata": {},
     "output_type": "execute_result"
    },
    {
     "data": {
      "text/plain": "<Figure size 640x480 with 1 Axes>",
      "image/png": "[encoded data removed]"
     },
     "metadata": {},
     "output_type": "display_data"
    }
   ],
   "source": [
    "import matplotlib.pyplot as plt\n",
    "plt.bar([\"waste\", \"elec\", \"gasoline\", \"jet fuel\", \"diesel\", \"wax\"], list(res.values()))"
   ],
   "metadata": {
    "collapsed": false,
    "pycharm": {
     "name": "#%%\n"
    }
   }
  },
  {
   "cell_type": "code",
   "execution_count": 41,
   "outputs": [
    {
     "data": {
      "text/plain": "<BarContainer object of 4 artists>"
     },
     "execution_count": 41,
     "metadata": {},
     "output_type": "execute_result"
    },
    {
     "data": {
      "text/plain": "<Figure size 640x480 with 1 Axes>",
      "image/png": "[encoded data removed]"
     },
     "metadata": {},
     "output_type": "display_data"
    }
   ],
   "source": [
    "feedstock =  {ifeed: value(sum(sum(m1.F[ifeed, i, k] for k in m1.k) for i in m1.outlets[ifeed])) for ifeed in m1.ifeed}\n",
    "feedstock\n",
    "import matplotlib.pyplot as plt\n",
    "plt.bar([\"LDPE\", \"HDPE\", \"PP\", \"H2\"], list(feedstock.values()))"
   ],
   "metadata": {
    "collapsed": false,
    "pycharm": {
     "name": "#%%\n"
    }
   }
  },
  {
   "cell_type": "code",
   "execution_count": 42,
   "outputs": [
    {
     "data": {
      "text/plain": "<BarContainer object of 3 artists>"
     },
     "execution_count": 42,
     "metadata": {},
     "output_type": "execute_result"
    },
    {
     "data": {
      "text/plain": "<Figure size 640x480 with 1 Axes>",
      "image/png": "[encoded data removed]"
     },
     "metadata": {},
     "output_type": "display_data"
    }
   ],
   "source": [
    "rxns =  {irxn: value(sum(m1.FI[irxn, k] for k in m1.k)) for irxn in m1.irxn}\n",
    "rxns\n",
    "import matplotlib.pyplot as plt\n",
    "plt.bar([\"R1A\", \"R2A\", \"R3A\"], list(rxns.values()))"
   ],
   "metadata": {
    "collapsed": false,
    "pycharm": {
     "name": "#%%\n"
    }
   }
  },
  {
   "cell_type": "code",
   "execution_count": null,
   "outputs": [],
   "source": [],
   "metadata": {
    "collapsed": false,
    "pycharm": {
     "name": "#%%\n"
    }
   }
  }
 ],
 "metadata": {
  "kernelspec": {
   "display_name": "Python 3",
   "language": "python",
   "name": "python3"
  },
  "language_info": {
   "codemirror_mode": {
    "name": "ipython",
    "version": 2
   },
   "file_extension": ".py",
   "mimetype": "text/x-python",
   "name": "python",
   "nbconvert_exporter": "python",
   "pygments_lexer": "ipython2",
   "version": "2.7.6"
  }
 },
 "nbformat": 4,
 "nbformat_minor": 0
}