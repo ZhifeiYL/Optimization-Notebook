{
 "cells": [
  {
   "cell_type": "markdown",
   "source": [],
   "metadata": {
    "collapsed": false,
    "pycharm": {
     "name": "#%% md\n"
    }
   }
  },
  {
   "cell_type": "code",
   "execution_count": 23,
   "outputs": [],
   "source": [
    "import matplotlib.pyplot\n",
    "from pyomo.environ import *\n",
    "from util.util import get_root_dir\n",
    "import pandas as pd\n",
    "import numpy as np\n",
    "from ordered_set import OrderedSet"
   ],
   "metadata": {
    "collapsed": false,
    "pycharm": {
     "name": "#%%\n"
    }
   }
  },
  {
   "cell_type": "code",
   "execution_count": 24,
   "outputs": [],
   "source": [
    "proj_dir = get_root_dir() + \"/superstructure/\"\n",
    "# data_dir = proj_dir + \"plastic_case/\""
   ],
   "metadata": {
    "collapsed": false,
    "pycharm": {
     "name": "#%%\n"
    }
   }
  },
  {
   "cell_type": "code",
   "execution_count": 25,
   "outputs": [
    {
     "data": {
      "text/plain": "            R1A  R2A  R3A  DT1A  DT2A  DT3A  DT4A  FEED-LDPE  FEED-HDPE  \\\nR1A-1         0    0    0     1     0     0     0          0          0   \nR2A-1         0    0    0     1     0     0     0          0          0   \nR3A-1         0    0    0     1     0     0     0          0          0   \nDT1A-1        0    0    0     0     0     0     0          0          0   \nDT2A-1        0    0    0     0     0     0     0          0          0   \nDT3A-1        0    0    0     0     0     0     0          0          0   \nDT4A-1        0    0    0     0     0     0     0          0          0   \nFEED-LDPE     1    0    0     0     0     0     0          0          0   \nFEED-HDPE     0    1    0     0     0     0     0          0          0   \nFEED-PP       0    0    1     0     0     0     0          0          0   \nFEED-H2       1    1    1     0     0     0     0          0          0   \nPROD-WASTE    0    0    0     0     0     0     0          0          0   \nPROD-ELEC     0    0    0     0     0     0     0          0          0   \nPROD-GAS      0    0    0     0     0     0     0          0          0   \nPROD-JTF      0    0    0     0     0     0     0          0          0   \nPROD-DSL      0    0    0     0     0     0     0          0          0   \nPROD-WAX      0    0    0     0     0     0     0          0          0   \nR1A-2         0    0    0     0     0     0     0          0          0   \nR2A-2         0    0    0     0     0     0     0          0          0   \nR3A-2         0    0    0     0     0     0     0          0          0   \nDT1A-2        0    0    0     0     1     0     0          0          0   \nDT2A-2        0    0    0     0     0     1     0          0          0   \nDT3A-2        0    0    0     0     0     0     1          0          0   \nDT4A-2        0    0    0     0     0     0     0          0          0   \n\n            FEED-PP  FEED-H2  PROD-WASTE  PROD-ELEC  PROD-GAS  PROD-JTF  \\\nR1A-1             0        0           0          0         0         0   \nR2A-1             0        0           0          0         0         0   \nR3A-1             0        0           0          0         0         0   \nDT1A-1            0        0           0          1         0         0   \nDT2A-1            0        0           0          1         1         1   \nDT3A-1            0        0           0          1         1         1   \nDT4A-1            0        0           0          1         1         1   \nFEED-LDPE         0        0           0          0         0         0   \nFEED-HDPE         0        0           0          0         0         0   \nFEED-PP           0        0           0          0         0         0   \nFEED-H2           0        0           0          0         0         0   \nPROD-WASTE        0        0           0          0         0         0   \nPROD-ELEC         0        0           0          0         0         0   \nPROD-GAS          0        0           0          0         0         0   \nPROD-JTF          0        0           0          0         0         0   \nPROD-DSL          0        0           0          0         0         0   \nPROD-WAX          0        0           0          0         0         0   \nR1A-2             0        0           1          0         0         0   \nR2A-2             0        0           1          0         0         0   \nR3A-2             0        0           1          0         0         0   \nDT1A-2            0        0           0          1         1         1   \nDT2A-2            0        0           0          1         1         1   \nDT3A-2            0        0           0          1         0         1   \nDT4A-2            0        0           0          1         0         0   \n\n            PROD-DSL  PROD-WAX  \nR1A-1              0         0  \nR2A-1              0         0  \nR3A-1              0         0  \nDT1A-1             0         0  \nDT2A-1             0         0  \nDT3A-1             1         0  \nDT4A-1             1         0  \nFEED-LDPE          0         0  \nFEED-HDPE          0         0  \nFEED-PP            0         0  \nFEED-H2            0         0  \nPROD-WASTE         0         0  \nPROD-ELEC          0         0  \nPROD-GAS           0         0  \nPROD-JTF           0         0  \nPROD-DSL           0         0  \nPROD-WAX           0         0  \nR1A-2              0         0  \nR2A-2              0         0  \nR3A-2              0         0  \nDT1A-2             1         0  \nDT2A-2             1         0  \nDT3A-2             1         0  \nDT4A-2             0         1  ",
      "text/html": "<div>\n<style scoped>\n    .dataframe tbody tr th:only-of-type {\n        vertical-align: middle;\n    }\n\n    .dataframe tbody tr th {\n        vertical-align: top;\n    }\n\n    .dataframe thead th {\n        text-align: right;\n    }\n</style>\n<table border=\"1\" class=\"dataframe\">\n  <thead>\n    <tr style=\"text-align: right;\">\n      <th></th>\n      <th>R1A</th>\n      <th>R2A</th>\n      <th>R3A</th>\n      <th>DT1A</th>\n      <th>DT2A</th>\n      <th>DT3A</th>\n      <th>DT4A</th>\n      <th>FEED-LDPE</th>\n      <th>FEED-HDPE</th>\n      <th>FEED-PP</th>\n      <th>FEED-H2</th>\n      <th>PROD-WASTE</th>\n      <th>PROD-ELEC</th>\n      <th>PROD-GAS</th>\n      <th>PROD-JTF</th>\n      <th>PROD-DSL</th>\n      <th>PROD-WAX</th>\n    </tr>\n  </thead>\n  <tbody>\n    <tr>\n      <th>R1A-1</th>\n      <td>0</td>\n      <td>0</td>\n      <td>0</td>\n      <td>1</td>\n      <td>0</td>\n      <td>0</td>\n      <td>0</td>\n      <td>0</td>\n      <td>0</td>\n      <td>0</td>\n      <td>0</td>\n      <td>0</td>\n      <td>0</td>\n      <td>0</td>\n      <td>0</td>\n      <td>0</td>\n      <td>0</td>\n    </tr>\n    <tr>\n      <th>R2A-1</th>\n      <td>0</td>\n      <td>0</td>\n      <td>0</td>\n      <td>1</td>\n      <td>0</td>\n      <td>0</td>\n      <td>0</td>\n      <td>0</td>\n      <td>0</td>\n      <td>0</td>\n      <td>0</td>\n      <td>0</td>\n      <td>0</td>\n      <td>0</td>\n      <td>0</td>\n      <td>0</td>\n      <td>0</td>\n    </tr>\n    <tr>\n      <th>R3A-1</th>\n      <td>0</td>\n      <td>0</td>\n      <td>0</td>\n      <td>1</td>\n      <td>0</td>\n      <td>0</td>\n      <td>0</td>\n      <td>0</td>\n      <td>0</td>\n      <td>0</td>\n      <td>0</td>\n      <td>0</td>\n      <td>0</td>\n      <td>0</td>\n      <td>0</td>\n      <td>0</td>\n      <td>0</td>\n    </tr>\n    <tr>\n      <th>DT1A-1</th>\n      <td>0</td>\n      <td>0</td>\n      <td>0</td>\n      <td>0</td>\n      <td>0</td>\n      <td>0</td>\n      <td>0</td>\n      <td>0</td>\n      <td>0</td>\n      <td>0</td>\n      <td>0</td>\n      <td>0</td>\n      <td>1</td>\n      <td>0</td>\n      <td>0</td>\n      <td>0</td>\n      <td>0</td>\n    </tr>\n    <tr>\n      <th>DT2A-1</th>\n      <td>0</td>\n      <td>0</td>\n      <td>0</td>\n      <td>0</td>\n      <td>0</td>\n      <td>0</td>\n      <td>0</td>\n      <td>0</td>\n      <td>0</td>\n      <td>0</td>\n      <td>0</td>\n      <td>0</td>\n      <td>1</td>\n      <td>1</td>\n      <td>1</td>\n      <td>0</td>\n      <td>0</td>\n    </tr>\n    <tr>\n      <th>DT3A-1</th>\n      <td>0</td>\n      <td>0</td>\n      <td>0</td>\n      <td>0</td>\n      <td>0</td>\n      <td>0</td>\n      <td>0</td>\n      <td>0</td>\n      <td>0</td>\n      <td>0</td>\n      <td>0</td>\n      <td>0</td>\n      <td>1</td>\n      <td>1</td>\n      <td>1</td>\n      <td>1</td>\n      <td>0</td>\n    </tr>\n    <tr>\n      <th>DT4A-1</th>\n      <td>0</td>\n      <td>0</td>\n      <td>0</td>\n      <td>0</td>\n      <td>0</td>\n      <td>0</td>\n      <td>0</td>\n      <td>0</td>\n      <td>0</td>\n      <td>0</td>\n      <td>0</td>\n      <td>0</td>\n      <td>1</td>\n      <td>1</td>\n      <td>1</td>\n      <td>1</td>\n      <td>0</td>\n    </tr>\n    <tr>\n      <th>FEED-LDPE</th>\n      <td>1</td>\n      <td>0</td>\n      <td>0</td>\n      <td>0</td>\n      <td>0</td>\n      <td>0</td>\n      <td>0</td>\n      <td>0</td>\n      <td>0</td>\n      <td>0</td>\n      <td>0</td>\n      <td>0</td>\n      <td>0</td>\n      <td>0</td>\n      <td>0</td>\n      <td>0</td>\n      <td>0</td>\n    </tr>\n    <tr>\n      <th>FEED-HDPE</th>\n      <td>0</td>\n      <td>1</td>\n      <td>0</td>\n      <td>0</td>\n      <td>0</td>\n      <td>0</td>\n      <td>0</td>\n      <td>0</td>\n      <td>0</td>\n      <td>0</td>\n      <td>0</td>\n      <td>0</td>\n      <td>0</td>\n      <td>0</td>\n      <td>0</td>\n      <td>0</td>\n      <td>0</td>\n    </tr>\n    <tr>\n      <th>FEED-PP</th>\n      <td>0</td>\n      <td>0</td>\n      <td>1</td>\n      <td>0</td>\n      <td>0</td>\n      <td>0</td>\n      <td>0</td>\n      <td>0</td>\n      <td>0</td>\n      <td>0</td>\n      <td>0</td>\n      <td>0</td>\n      <td>0</td>\n      <td>0</td>\n      <td>0</td>\n      <td>0</td>\n      <td>0</td>\n    </tr>\n    <tr>\n      <th>FEED-H2</th>\n      <td>1</td>\n      <td>1</td>\n      <td>1</td>\n      <td>0</td>\n      <td>0</td>\n      <td>0</td>\n      <td>0</td>\n      <td>0</td>\n      <td>0</td>\n      <td>0</td>\n      <td>0</td>\n      <td>0</td>\n      <td>0</td>\n      <td>0</td>\n      <td>0</td>\n      <td>0</td>\n      <td>0</td>\n    </tr>\n    <tr>\n      <th>PROD-WASTE</th>\n      <td>0</td>\n      <td>0</td>\n      <td>0</td>\n      <td>0</td>\n      <td>0</td>\n      <td>0</td>\n      <td>0</td>\n      <td>0</td>\n      <td>0</td>\n      <td>0</td>\n      <td>0</td>\n      <td>0</td>\n      <td>0</td>\n      <td>0</td>\n      <td>0</td>\n      <td>0</td>\n      <td>0</td>\n    </tr>\n    <tr>\n      <th>PROD-ELEC</th>\n      <td>0</td>\n      <td>0</td>\n      <td>0</td>\n      <td>0</td>\n      <td>0</td>\n      <td>0</td>\n      <td>0</td>\n      <td>0</td>\n      <td>0</td>\n      <td>0</td>\n      <td>0</td>\n      <td>0</td>\n      <td>0</td>\n      <td>0</td>\n      <td>0</td>\n      <td>0</td>\n      <td>0</td>\n    </tr>\n    <tr>\n      <th>PROD-GAS</th>\n      <td>0</td>\n      <td>0</td>\n      <td>0</td>\n      <td>0</td>\n      <td>0</td>\n      <td>0</td>\n      <td>0</td>\n      <td>0</td>\n      <td>0</td>\n      <td>0</td>\n      <td>0</td>\n      <td>0</td>\n      <td>0</td>\n      <td>0</td>\n      <td>0</td>\n      <td>0</td>\n      <td>0</td>\n    </tr>\n    <tr>\n      <th>PROD-JTF</th>\n      <td>0</td>\n      <td>0</td>\n      <td>0</td>\n      <td>0</td>\n      <td>0</td>\n      <td>0</td>\n      <td>0</td>\n      <td>0</td>\n      <td>0</td>\n      <td>0</td>\n      <td>0</td>\n      <td>0</td>\n      <td>0</td>\n      <td>0</td>\n      <td>0</td>\n      <td>0</td>\n      <td>0</td>\n    </tr>\n    <tr>\n      <th>PROD-DSL</th>\n      <td>0</td>\n      <td>0</td>\n      <td>0</td>\n      <td>0</td>\n      <td>0</td>\n      <td>0</td>\n      <td>0</td>\n      <td>0</td>\n      <td>0</td>\n      <td>0</td>\n      <td>0</td>\n      <td>0</td>\n      <td>0</td>\n      <td>0</td>\n      <td>0</td>\n      <td>0</td>\n      <td>0</td>\n    </tr>\n    <tr>\n      <th>PROD-WAX</th>\n      <td>0</td>\n      <td>0</td>\n      <td>0</td>\n      <td>0</td>\n      <td>0</td>\n      <td>0</td>\n      <td>0</td>\n      <td>0</td>\n      <td>0</td>\n      <td>0</td>\n      <td>0</td>\n      <td>0</td>\n      <td>0</td>\n      <td>0</td>\n      <td>0</td>\n      <td>0</td>\n      <td>0</td>\n    </tr>\n    <tr>\n      <th>R1A-2</th>\n      <td>0</td>\n      <td>0</td>\n      <td>0</td>\n      <td>0</td>\n      <td>0</td>\n      <td>0</td>\n      <td>0</td>\n      <td>0</td>\n      <td>0</td>\n      <td>0</td>\n      <td>0</td>\n      <td>1</td>\n      <td>0</td>\n      <td>0</td>\n      <td>0</td>\n      <td>0</td>\n      <td>0</td>\n    </tr>\n    <tr>\n      <th>R2A-2</th>\n      <td>0</td>\n      <td>0</td>\n      <td>0</td>\n      <td>0</td>\n      <td>0</td>\n      <td>0</td>\n      <td>0</td>\n      <td>0</td>\n      <td>0</td>\n      <td>0</td>\n      <td>0</td>\n      <td>1</td>\n      <td>0</td>\n      <td>0</td>\n      <td>0</td>\n      <td>0</td>\n      <td>0</td>\n    </tr>\n    <tr>\n      <th>R3A-2</th>\n      <td>0</td>\n      <td>0</td>\n      <td>0</td>\n      <td>0</td>\n      <td>0</td>\n      <td>0</td>\n      <td>0</td>\n      <td>0</td>\n      <td>0</td>\n      <td>0</td>\n      <td>0</td>\n      <td>1</td>\n      <td>0</td>\n      <td>0</td>\n      <td>0</td>\n      <td>0</td>\n      <td>0</td>\n    </tr>\n    <tr>\n      <th>DT1A-2</th>\n      <td>0</td>\n      <td>0</td>\n      <td>0</td>\n      <td>0</td>\n      <td>1</td>\n      <td>0</td>\n      <td>0</td>\n      <td>0</td>\n      <td>0</td>\n      <td>0</td>\n      <td>0</td>\n      <td>0</td>\n      <td>1</td>\n      <td>1</td>\n      <td>1</td>\n      <td>1</td>\n      <td>0</td>\n    </tr>\n    <tr>\n      <th>DT2A-2</th>\n      <td>0</td>\n      <td>0</td>\n      <td>0</td>\n      <td>0</td>\n      <td>0</td>\n      <td>1</td>\n      <td>0</td>\n      <td>0</td>\n      <td>0</td>\n      <td>0</td>\n      <td>0</td>\n      <td>0</td>\n      <td>1</td>\n      <td>1</td>\n      <td>1</td>\n      <td>1</td>\n      <td>0</td>\n    </tr>\n    <tr>\n      <th>DT3A-2</th>\n      <td>0</td>\n      <td>0</td>\n      <td>0</td>\n      <td>0</td>\n      <td>0</td>\n      <td>0</td>\n      <td>1</td>\n      <td>0</td>\n      <td>0</td>\n      <td>0</td>\n      <td>0</td>\n      <td>0</td>\n      <td>1</td>\n      <td>0</td>\n      <td>1</td>\n      <td>1</td>\n      <td>0</td>\n    </tr>\n    <tr>\n      <th>DT4A-2</th>\n      <td>0</td>\n      <td>0</td>\n      <td>0</td>\n      <td>0</td>\n      <td>0</td>\n      <td>0</td>\n      <td>0</td>\n      <td>0</td>\n      <td>0</td>\n      <td>0</td>\n      <td>0</td>\n      <td>0</td>\n      <td>1</td>\n      <td>0</td>\n      <td>0</td>\n      <td>0</td>\n      <td>1</td>\n    </tr>\n  </tbody>\n</table>\n</div>"
     },
     "execution_count": 25,
     "metadata": {},
     "output_type": "execute_result"
    }
   ],
   "source": [
    "df = pd.read_csv(\"data/productive.csv\", index_col=0)\n",
    "df"
   ],
   "metadata": {
    "collapsed": false,
    "pycharm": {
     "name": "#%%\n"
    }
   }
  },
  {
   "cell_type": "code",
   "execution_count": 26,
   "outputs": [
    {
     "data": {
      "text/plain": "[('R1A-1', 'DT1A'),\n ('R2A-1', 'DT1A'),\n ('R3A-1', 'DT1A'),\n ('DT1A-1', 'PROD-ELEC'),\n ('DT2A-1', 'PROD-ELEC'),\n ('DT2A-1', 'PROD-GAS'),\n ('DT2A-1', 'PROD-JTF'),\n ('DT3A-1', 'PROD-ELEC'),\n ('DT3A-1', 'PROD-GAS'),\n ('DT3A-1', 'PROD-JTF'),\n ('DT3A-1', 'PROD-DSL'),\n ('DT4A-1', 'PROD-ELEC'),\n ('DT4A-1', 'PROD-GAS'),\n ('DT4A-1', 'PROD-JTF'),\n ('DT4A-1', 'PROD-DSL'),\n ('FEED-LDPE', 'R1A'),\n ('FEED-HDPE', 'R2A'),\n ('FEED-PP', 'R3A'),\n ('FEED-H2', 'R1A'),\n ('FEED-H2', 'R2A'),\n ('FEED-H2', 'R3A'),\n ('R1A-2', 'PROD-WASTE'),\n ('R2A-2', 'PROD-WASTE'),\n ('R3A-2', 'PROD-WASTE'),\n ('DT1A-2', 'DT2A'),\n ('DT1A-2', 'PROD-ELEC'),\n ('DT1A-2', 'PROD-GAS'),\n ('DT1A-2', 'PROD-JTF'),\n ('DT1A-2', 'PROD-DSL'),\n ('DT2A-2', 'DT3A'),\n ('DT2A-2', 'PROD-ELEC'),\n ('DT2A-2', 'PROD-GAS'),\n ('DT2A-2', 'PROD-JTF'),\n ('DT2A-2', 'PROD-DSL'),\n ('DT3A-2', 'DT4A'),\n ('DT3A-2', 'PROD-ELEC'),\n ('DT3A-2', 'PROD-JTF'),\n ('DT3A-2', 'PROD-DSL'),\n ('DT4A-2', 'PROD-ELEC'),\n ('DT4A-2', 'PROD-WAX')]"
     },
     "execution_count": 26,
     "metadata": {},
     "output_type": "execute_result"
    }
   ],
   "source": [
    "productive_links = []\n",
    "for index, row in df.iterrows():\n",
    "    for column in df.columns:\n",
    "        if row[column] == 1:\n",
    "            productive_links.append((index, column))\n",
    "\n",
    "\n",
    "productive_links"
   ],
   "metadata": {
    "collapsed": false,
    "pycharm": {
     "name": "#%%\n"
    }
   }
  },
  {
   "cell_type": "code",
   "execution_count": 27,
   "outputs": [],
   "source": [
    "conversions = {}\n",
    "conversions[\"R1A\"] = {}\n",
    "conversions[\"R2A\"] = {}\n",
    "conversions[\"R3A\"] = {}\n",
    "df_R1A = pd.read_excel(\"data/reaction_data.xlsx\", sheet_name=\"R1A\", header=0)\n",
    "df_R2A = pd.read_excel(\"data/reaction_data.xlsx\", sheet_name=\"R2A\", header=0)\n",
    "df_R3A = pd.read_excel(\"data/reaction_data.xlsx\", sheet_name=\"R3A\", header=0)\n",
    "\n",
    "for index, row in df_R1A.iterrows():\n",
    "    if not row[\"Code\"] in {\"Waste\", \"WASTE\", \"waste\"}:\n",
    "        conversions[\"R1A\"][row[\"Code\"]] = row[\"Yield\"]\n",
    "\n",
    "for index, row in df_R2A.iterrows():\n",
    "    if not row[\"Code\"] in {\"Waste\", \"WASTE\", \"waste\"}:\n",
    "        conversions[\"R2A\"][row[\"Code\"]] = row[\"Yield\"]\n",
    "\n",
    "for index, row in df_R3A.iterrows():\n",
    "    if not row[\"Code\"] in {\"Waste\", \"WASTE\", \"waste\"}:\n",
    "        conversions[\"R3A\"][row[\"Code\"]] = row[\"Yield\"]\n",
    "\n",
    "conversions;"
   ],
   "metadata": {
    "collapsed": false,
    "pycharm": {
     "name": "#%%\n"
    }
   }
  },
  {
   "cell_type": "code",
   "execution_count": 28,
   "outputs": [],
   "source": [
    "properties = pd.read_csv(\"filled_properties.csv\", index_col=0)"
   ],
   "metadata": {
    "collapsed": false,
    "pycharm": {
     "name": "#%%\n"
    }
   }
  },
  {
   "cell_type": "code",
   "execution_count": 29,
   "outputs": [],
   "source": [
    "def prepare_sets():\n",
    "    res = {}\n",
    "    elements = pd.read_csv(\"data/elements_case1.csv\", index_col=0)\n",
    "    res[\"i\"] = elements.index.tolist()\n",
    "\n",
    "    compounds = [f'C{n}A' for n in range(1, 23)] + ['H2', 'LDPE', 'HDPE', 'PP', 'WASTE']\n",
    "    res[\"k\"] =  compounds\n",
    "\n",
    "    return res"
   ],
   "metadata": {
    "collapsed": false,
    "pycharm": {
     "name": "#%%\n"
    }
   }
  },
  {
   "cell_type": "code",
   "execution_count": 30,
   "outputs": [],
   "source": [
    "res = prepare_sets()\n",
    "res[\"i\"];"
   ],
   "metadata": {
    "collapsed": false,
    "pycharm": {
     "name": "#%%\n"
    }
   }
  },
  {
   "cell_type": "code",
   "execution_count": 31,
   "outputs": [],
   "source": [
    "def build_model(m, data):\n",
    "    m.i = Set(initialize=data[\"i\"])\n",
    "    m.itech = Set(within=m.i, initialize=[\"R1A\", \"R2A\", \"R3A\", \"DT1A\", \"DT2A\", \"DT3A\", \"DT4A\"])\n",
    "\n",
    "    m.isource = Set(within=m.i, initialize=[\"FEED-LDPE\", \"FEED-HDPE\", \"FEED-PP\", \"FEED-H2\",\"R1A\", \"R2A\", \"R3A\", \"DT1A\", \"DT2A\", \"DT3A\", \"DT4A\"])\n",
    "    m.isink = Set(within=m.i, initialize=[\"R1A-1\", \"R2A-1\", \"R3A-1\", \"DT1A-1\", \"DT2A-1\", \"DT3A-1\", \"DT4A-1\",\"R1A-2\", \"R2A-2\", \"R3A-2\", \"DT1A-2\",\n",
    "                                          \"DT2A-2\", \"DT3A-2\", \"DT4A-2\",\"PROD-WASTE\",\"PROD-ELEC\",\"PROD-GAS\",\"PROD-JTF\",\"PROD-DSL\", \"PROD-WAX\"])\n",
    "\n",
    "    irxn = [\"R1A\", \"R2A\", \"R3A\"]\n",
    "    isep = [\"DT1A\", \"DT2A\", \"DT3A\", \"DT4A\"]\n",
    "\n",
    "    m.irxn = Set(within=m.itech, initialize=irxn)\n",
    "    m.isep = Set(within=m.itech, initialize=isep)\n",
    "\n",
    "    irxnL = [\"R1A-1\", \"R2A-1\", \"R3A-1\"]\n",
    "    isepL = [\"DT1A-1\", \"DT2A-1\", \"DT3A-1\", \"DT4A-1\"]\n",
    "    irxnH = [\"R1A-2\", \"R2A-2\", \"R3A-2\"]\n",
    "    isepH = [\"DT1A-2\", \"DT2A-2\", \"DT3A-2\", \"DT4A-2\"]\n",
    "\n",
    "    m.irxnL = Set(within=m.i, initialize=irxnL)\n",
    "    m.isepL = Set(within=m.i, initialize=isepL)\n",
    "    m.irxnH = Set(within=m.i, initialize=irxnH)\n",
    "    m.isepH = Set(within=m.i, initialize=isepH)\n",
    "\n",
    "    m.ifeed = Set(within=m.i, initialize=[\"FEED-LDPE\", \"FEED-HDPE\", \"FEED-PP\", \"FEED-H2\"])\n",
    "    m.iprod = Set(within=m.i, initialize=[\"PROD-WASTE\", \"PROD-ELEC\",\"PROD-GAS\",\"PROD-JTF\",\"PROD-DSL\", \"PROD-WAX\"])\n",
    "    m.ifuel = Set(within=m.iprod, initialize=[\"PROD-GAS\",\"PROD-JTF\",\"PROD-DSL\"])\n",
    "\n",
    "    m.k = Set(initialize=data[\"k\"])\n",
    "    m.kfeed = Set(within=m.k, initialize=[\"LDPE\",\"HDPE\",\"PP\",\"H2\"])\n",
    "    kfuel = [key for key, value in properties[\"trace\"].to_dict().items() if value == 0]\n",
    "    m.kfuel = Set(within=m.k, initialize=kfuel)\n",
    "    kegen = [key for key, value in properties[\"egen\"].to_dict().items() if value == 1]\n",
    "    m.kegen = Set(within=m.k, initialize = kegen)\n",
    "\n",
    "    m.productive_links = Set(dimen=2, within=m.i * m.i, initialize = productive_links)\n",
    "\n",
    "    port_match = {}\n",
    "    for item in irxnL + isepL + irxnH + isepH:\n",
    "        base, suffix = item.rsplit('-', 1)\n",
    "        match_suffix = '2' if suffix == '1' else '1'\n",
    "        port_match[item] = f\"{base}-{match_suffix}\"\n",
    "\n",
    "    heavy_match = {}\n",
    "\n",
    "    # Map -2 to no suffix\n",
    "    for item in irxnH + isepH:\n",
    "        base, _ = item.rsplit('-', 1)\n",
    "        heavy_match[item] = f\"{base}\"\n",
    "\n",
    "    # Map no suffix to -2\n",
    "    for item in irxn + isep:\n",
    "        heavy_match[item] = f\"{item}-2\"\n",
    "\n",
    "    light_match = {}\n",
    "\n",
    "    # Map -1 to no suffix\n",
    "    for item in irxnL + isepL:\n",
    "        base, _ = item.rsplit('-', 1)\n",
    "        light_match[item] = base\n",
    "\n",
    "    # Map no suffix to -1\n",
    "    for item in irxn + isep:\n",
    "        light_match[item] = f\"{item}-1\"\n",
    "\n",
    "    m.port_match = port_match # match xxx-1  and xxx-2: that is, m.port_match[xxx-1] gives xxx-2 and vice versa\n",
    "    m.heavy_match = heavy_match\n",
    "    m.light_match = light_match\n",
    "\n",
    "    m.inlets = {}\n",
    "    m.outlets = {}\n",
    "\n",
    "    for i in m.i:\n",
    "        m.inlets[i] = OrderedSet()\n",
    "        m.outlets[i] = OrderedSet()\n",
    "\n",
    "    for (a,b) in productive_links:\n",
    "        m.inlets[b].append(a)\n",
    "        m.outlets[a].append(b)\n",
    "\n",
    "    m.rxn_species = {}\n",
    "    hdc_list = [f'C{n}A' for n in range(1, 20)]\n",
    "    hdc_list.append(\"H2\")\n",
    "    r1a_list = [i for i in hdc_list]\n",
    "    r1a_list.append(\"LDPE\")\n",
    "    m.rxn_species[\"R1A\"] =  OrderedSet(r1a_list)\n",
    "\n",
    "    r2a_list = [i for i in hdc_list]\n",
    "    r2a_list.append(\"HDPE\")\n",
    "    m.rxn_species[\"R2A\"] =  OrderedSet(r2a_list)\n",
    "\n",
    "    r3a_list = [i for i in hdc_list]\n",
    "    r3a_list.append(\"PP\")\n",
    "    m.rxn_species[\"R3A\"] =  OrderedSet(r3a_list)\n",
    "\n",
    "    m.conversions = conversions\n",
    "\n",
    "    # ============================================\n",
    "\n",
    "    m.fload = Param(m.kfeed, initialize={\"LDPE\": 20000, \"HDPE\":80000, \"PP\":96000})\n",
    "\n",
    "    m.MW = Param(m.k, initialize=properties[\"MW\"].to_dict())\n",
    "\n",
    "    m.LHV = Param(m.kegen, initialize={kp : properties[\"LHV\"].to_dict()[kp] for kp in m.kegen})\n",
    "    m.rho = Param(m.kfuel, initialize={kp : properties[\"rho\"].to_dict()[kp] for kp in m.kfuel})\n",
    "    m.mu = Param(m.kfuel, initialize={kp :properties[\"mu\"].to_dict()[kp] for kp in m.kfuel})\n",
    "    m.TB = Param(m.k, initialize=properties[\"TB\"].to_dict())\n",
    "    m.bpLo = Param(m.ifuel, initialize={\"PROD-GAS\": 5, \"PROD-JTF\": 5, \"PROD-DSL\": 5} )\n",
    "    m.bpUp = Param(m.ifuel, initialize={\"PROD-GAS\": 98,\"PROD-JTF\": 98.5,\"PROD-DSL\": 95} )\n",
    "\n",
    "    m.sepCut = Param(m.isep, initialize={\"DT1A\": np.ceil(m.TB[\"C4A\"]), \"DT2A\": np.ceil(m.TB[\"C8A\"]), \"DT3A\": np.ceil(m.TB[\"C12A\"]), \"DT4A\": np.ceil(m.TB[\"C20A\"])})\n",
    "    # C4/C5; C8/C9; C12/C13;C20/C21\n",
    "\n",
    "    m.mat_price = Param(m.ifeed, initialize={\"FEED-LDPE\": 200, \"FEED-HDPE\": 200, \"FEED-PP\": 200, \"FEED-H2\":2100}, doc=\"$/per tonne\")\n",
    "    m.fuel_price = Param(m.ifuel, initialize={\"PROD-GAS\": 810,\"PROD-JTF\": 663,\"PROD-DSL\":975}, doc=\"$/per tonne\")\n",
    "    m.electric_price = Param(initialize=2.221e-8, doc=\"/J\")\n",
    "\n",
    "    # ============================================\n",
    "\n",
    "    m.F = Var(m.productive_links, m.k,domain=NonNegativeReals)\n",
    "    m.FRefT = Var(m.irxn, domain=NonNegativeReals)\n",
    "    m.FI = Var(m.itech, m.k, domain=NonNegativeReals)\n",
    "\n",
    "    m.capex = Var(domain=NonNegativeReals)\n",
    "    m.opex = Var(domain=NonNegativeReals)\n",
    "    m.cc = Var(m.itech, domain=NonNegativeReals)\n",
    "    m.oc = Var(m.itech, domain=NonNegativeReals)\n",
    "    m.feedCost = Var(m.ifeed, domain=NonNegativeReals)\n",
    "    m.revenue = Var(m.iprod, domain=NonNegativeReals)"
   ],
   "metadata": {
    "collapsed": false,
    "pycharm": {
     "name": "#%%\n"
    }
   }
  },
  {
   "cell_type": "code",
   "execution_count": 31,
   "outputs": [],
   "source": [],
   "metadata": {
    "collapsed": false,
    "pycharm": {
     "name": "#%%\n"
    }
   }
  },
  {
   "cell_type": "code",
   "execution_count": 32,
   "outputs": [],
   "source": [
    "def build_feed_cons(m):\n",
    "    # Load constriants for feed\n",
    "    def eq_fd1(m ,kfeed):\n",
    "        if kfeed == \"LDPE\":\n",
    "            return  sum(m.F[\"FEED-LDPE\",i, kfeed] for i in m.outlets[\"FEED-LDPE\"]) == m.fload[kfeed]\n",
    "        elif kfeed == \"HDPE\":\n",
    "            return  sum(m.F[\"FEED-HDPE\",i, kfeed] for i in m.outlets[\"FEED-HDPE\"]) == m.fload[kfeed]\n",
    "        elif kfeed == \"PP\":\n",
    "            return  sum(m.F[\"FEED-PP\",i, kfeed] for i in m.outlets[\"FEED-PP\"])== m.fload[kfeed]\n",
    "        return Constraint.Skip\n",
    "    m.eq_fd1 = Constraint(m.kfeed, rule=eq_fd1)\n",
    "\n",
    "    # pure feed only\n",
    "    def eq_fd2(m, kfeed):\n",
    "        if kfeed == \"LDPE\":\n",
    "            return  sum(m.F[\"FEED-LDPE\",\"R1A\",k] for k in m.k if k != \"LDPE\") == 0\n",
    "        elif kfeed == \"HDPE\":\n",
    "            return  sum(m.F[\"FEED-HDPE\",\"R2A\",k] for k in m.k if k != \"HDPE\") == 0\n",
    "        elif kfeed == \"PP\":\n",
    "            return  sum(m.F[\"FEED-PP\",\"R3A\",k] for k in m.k if k != \"PP\") == 0\n",
    "        elif kfeed == \"H2\":\n",
    "            return  sum(m.F[\"FEED-H2\",\"R1A\",k] + m.F[\"FEED-H2\",\"R2A\",k] + m.F[\"FEED-H2\",\"R3A\",k] for k in m.k if k != \"H2\" ) == 0\n",
    "        return Constraint.Skip\n",
    "    m.eq_fd2 = Constraint(m.kfeed, rule=eq_fd2)\n",
    "    return\n"
   ],
   "metadata": {
    "collapsed": false,
    "pycharm": {
     "name": "#%%\n"
    }
   }
  },
  {
   "cell_type": "code",
   "execution_count": 33,
   "outputs": [],
   "source": [
    "def build_rxn(m):\n",
    "    # find the basis of yield\n",
    "    def eq_rxn1(m, irxn):\n",
    "        if irxn == \"R1A\":\n",
    "            return m.FRefT[irxn] == sum(m.F[ip ,irxn, \"LDPE\"] for ip in m.inlets[irxn])\n",
    "        elif irxn == \"R2A\":\n",
    "            return m.FRefT[irxn] == sum(m.F[ip ,irxn, \"HDPE\"] for ip in m.inlets[irxn])\n",
    "        elif irxn == \"R3A\":\n",
    "            return m.FRefT[irxn] == sum(m.F[ip ,irxn, \"PP\"] for ip in m.inlets[irxn])\n",
    "        return Constraint.Skip\n",
    "    m.eq_rxn1 = Constraint(m.irxn, rule=eq_rxn1)\n",
    "\n",
    "    # conversion\n",
    "    def eq_rxn2(m, irxn, k):\n",
    "        if k in m.rxn_species[irxn]:\n",
    "            return sum(m.F[ip, irxn, k] for ip in m.inlets[irxn]) + m.conversions[irxn][k] * m.FRefT[irxn] == m.FI[irxn,k]\n",
    "        return Constraint.Skip\n",
    "    m.eq_rxn2 = Constraint(m.irxn, m.k, rule=eq_rxn2)\n",
    "\n",
    "    # other species\n",
    "    def eq_rxn3(m, irxn, k):\n",
    "        if (not k in m.rxn_species[irxn]) and (not k == \"WASTE\"):\n",
    "            return sum(m.F[ip, irxn, k] for ip in m.inlets[irxn]) == m.FI[irxn,k]\n",
    "        return Constraint.Skip\n",
    "    m.eq_rxn3 = Constraint(m.irxn, m.k, rule=eq_rxn3)\n",
    "\n",
    "    # waste DOF, mass balance\n",
    "    def eq_rxn4(m, irxn):\n",
    "        return sum(sum(m.F[ip, irxn, k] for ip in m.inlets[irxn]) for k in m.k) == sum(m.FI[irxn,k] for k in m.k)\n",
    "    m.eq_rxn4 = Constraint(m.irxn, rule=eq_rxn4)\n",
    "\n",
    "    # Going out of the technology\n",
    "    # waste and only waste goes to waste stream\n",
    "    def eq_rxn5(m, irxnH, k):\n",
    "        if k == \"WASTE\":\n",
    "            return m.FI[m.heavy_match[irxnH],k] == m.F[irxnH,\"PROD-WASTE\",k]\n",
    "        return m.F[irxnH, \"PROD-WASTE\", k] == 0\n",
    "    m.eq_rxn5 = Constraint(m.irxnH, m.k, rule=eq_rxn5)\n",
    "\n",
    "    # outgoing port balance\n",
    "    def eq_rxn6(m, irxnH, k):\n",
    "        return m.FI[m.heavy_match[irxnH],k] == sum(m.F[irxnH,ip,k] for ip in m.outlets[irxnH]) + sum(m.F[m.port_match[irxnH], ip,k] for ip in m.outlets[m.port_match[irxnH]])\n",
    "    m.eq_rxn6 = Constraint(m.irxnH, m.k, rule=eq_rxn6)\n",
    "\n",
    "    # saturation constriant for HDC\n",
    "    def eq_rxn7a(m, irxn):\n",
    "        return sum(m.F[ip ,irxn,\"H2\"] for ip in m.inlets[irxn]) >= 2 * m.FI[irxn, \"H2\"]\n",
    "    m.eq_rxn7a = Constraint(m.irxn, rule=eq_rxn7a)\n",
    "\n",
    "    return"
   ],
   "metadata": {
    "collapsed": false,
    "pycharm": {
     "name": "#%%\n"
    }
   }
  },
  {
   "cell_type": "code",
   "execution_count": 34,
   "outputs": [],
   "source": [
    "def build_separation(m):\n",
    "    # Sharp binary separation\n",
    "    def eq_sep1(m, isep, k):\n",
    "        if m.TB[k] <= m.sepCut[isep]:\n",
    "            return sum(m.F[ip, isep, k] for ip in m.inlets[isep]) == sum(m.F[m.light_match[isep],ip,k] for ip in m.outlets[m.light_match[isep]])\n",
    "        return sum(m.F[ip, isep, k] for ip in m.inlets[isep]) == sum(m.F[m.heavy_match[isep],ip,k] for ip in m.outlets[m.heavy_match[isep]])\n",
    "    m.eq_sep1 = Constraint(m.isep, m.k, rule=eq_sep1)\n",
    "\n",
    "    def _MB(m, isep, k):\n",
    "        return sum(m.F[i,isep, k] for i in m.inlets[isep]) == sum(m.F[m.heavy_match[isep], i, k] for i in m.outlets[m.heavy_match[isep]]) + sum(m.F[m.light_match[isep], i, k] for i in m.outlets[m.light_match[isep]])\n",
    "    m.connect_c = Constraint(m.isep, m.k, rule=_MB)\n",
    "\n",
    "    return"
   ],
   "metadata": {
    "collapsed": false,
    "pycharm": {
     "name": "#%%\n"
    }
   }
  },
  {
   "cell_type": "code",
   "execution_count": 35,
   "outputs": [],
   "source": [
    "def blending(m):\n",
    "    # blending constraints\n",
    "    def trace_lim(m, ifuel):\n",
    "        return sum(sum(m.F[ip, ifuel, k] for k in m.k if not k in m.kfuel) for ip in m.inlets[ifuel]) <= 0.01 * sum(sum(m.F[ip, ifuel, k] for k in m.k) for ip in m.inlets[ifuel])\n",
    "    m.trace_lim = Constraint(m.iprod, rule=trace_lim)\n",
    "\n",
    "    def _BPlo(m, ifuel):\n",
    "        if ifuel == \"PROD-GAS\":\n",
    "            return sum(sum(m.F[ip, ifuel, k] for k in m.k if m.TB[k] <= 30) for ip in m.inlets[ifuel]) <= m.bpLo[ifuel]\n",
    "        elif ifuel == \"PROD-JTF\":\n",
    "            return sum(sum(m.F[ip, ifuel, k] for k in m.k if m.TB[k] <= 160) for ip in m.inlets[ifuel]) <= m.bpLo[ifuel]\n",
    "        elif ifuel == \"PROD-DSL\":\n",
    "            return sum(sum(m.F[ip, ifuel, k] for k in m.k if m.TB[k] <= 150) for ip in m.inlets[ifuel]) <= m.bpLo[ifuel]\n",
    "        return Constraint.Skip\n",
    "    m.fuel_bplo = Constraint(m.ifuel, rule=_BPlo)\n",
    "\n",
    "    def _BPup(m, ifuel):\n",
    "        if ifuel == \"PROD-GAS\":\n",
    "            return sum(sum(m.F[ip, ifuel, k] for k in m.k if m.TB[k] <= 215) for ip in m.inlets[ifuel]) >= m.bpUp[ifuel]\n",
    "        elif ifuel == \"PROD-JTF\":\n",
    "            return sum(sum(m.F[ip, ifuel, k] for k in m.k if m.TB[k] <= 300) for ip in m.inlets[ifuel]) >= m.bpUp[ifuel]\n",
    "        elif ifuel == \"PROD-DSL\":\n",
    "            return sum(sum(m.F[ip, ifuel, k] for k in m.k if m.TB[k] <= 360) for ip in m.inlets[ifuel]) >= m.bpUp[ifuel]\n",
    "        return Constraint.Skip\n",
    "    m.fuel_bpup = Constraint(m.ifuel, rule=_BPup)"
   ],
   "metadata": {
    "collapsed": false,
    "pycharm": {
     "name": "#%%\n"
    }
   }
  },
  {
   "cell_type": "code",
   "execution_count": 36,
   "outputs": [],
   "source": [
    "def economics(m):\n",
    "    # economics\n",
    "    def fuel_revenue(m, ifuel):\n",
    "        return m.revenue[ifuel] == m.fuel_price[ifuel] * sum(sum(m.F[i, ifuel, k] for k in m.k) for i in m.inlets[ifuel])\n",
    "    m.fuel_revenue = Constraint(m.ifuel, rule=fuel_revenue)\n",
    "\n",
    "    def mat_cost(m, ifeed):\n",
    "        return m.feedCost[ifeed] == m.mat_price[ifeed] * sum(sum(m.F[ifeed,i, k] for k in m.k) for i in m.outlets[ifeed])\n",
    "    m.mat_cost = Constraint(m.ifeed, rule=mat_cost)\n",
    "\n"
   ],
   "metadata": {
    "collapsed": false,
    "pycharm": {
     "name": "#%%\n"
    }
   }
  },
  {
   "cell_type": "code",
   "execution_count": 36,
   "outputs": [],
   "source": [],
   "metadata": {
    "collapsed": false,
    "pycharm": {
     "name": "#%%\n"
    }
   }
  },
  {
   "cell_type": "code",
   "execution_count": 37,
   "outputs": [],
   "source": [
    "m1 = ConcreteModel()\n",
    "build_model(m1, res)\n",
    "build_feed_cons(m1)\n",
    "build_rxn(m1)\n",
    "build_separation(m1)\n",
    "blending(m1)\n",
    "economics(m1)"
   ],
   "metadata": {
    "collapsed": false,
    "pycharm": {
     "name": "#%%\n"
    }
   }
  },
  {
   "cell_type": "code",
   "execution_count": 38,
   "outputs": [
    {
     "name": "stdout",
     "output_type": "stream",
     "text": [
      "--- Job model.gms Start 11/30/23 07:39:34 43.2.0 859d62d5 WEX-WEI x86 64bit/MS Windows\n",
      "--- Applying:\n",
      "    C:\\GAMS\\43\\gmsprmNT.txt\n",
      "    C:\\Users\\justi\\OneDrive\\Documents\\GAMS\\gamsconfig.yaml\n",
      "--- GAMS Parameters defined\n",
      "    Input C:\\Users\\justi\\AppData\\Local\\Temp\\tmpmr3d8w89\\model.gms\n",
      "    Output C:\\Users\\justi\\AppData\\Local\\Temp\\tmpmr3d8w89\\output.lst\n",
      "    ScrDir C:\\Users\\justi\\AppData\\Local\\Temp\\tmpmr3d8w89\\225a\\\n",
      "    SysDir C:\\GAMS\\43\\\n",
      "    CurDir C:\\Users\\justi\\AppData\\Local\\Temp\\tmpmr3d8w89\\\n",
      "    LogOption 3\n",
      "Licensee: Small MUD - 5 User License                     G221121|0002AP-GEN\n",
      "          University of Delaware, Chemical and Biomolecular EngineeriDC3967\n",
      "          C:\\GAMS\\43\\gamslice.txt\n",
      "          License Admin: Marianthi Ierapetritou, mgi@udel.edu              \n",
      "Processor information: 1 socket(s), 10 core(s), and 20 thread(s) available\n",
      "GAMS 43.2.0   Copyright (C) 1987-2023 GAMS Development. All rights reserved\n",
      "--- Starting compilation\n",
      "--- model.gms(3900) 2 Mb\n",
      "--- Starting execution: elapsed 0:00:00.019\n",
      "--- model.gms(2179) 3 Mb\n",
      "--- Generating LP model GAMS_MODEL\n",
      "--- model.gms(2183) 4 Mb\n",
      "---   492 rows  1,172 columns  4,399 non-zeroes\n",
      "--- Range statistics (absolute non-zero finite values)\n",
      "--- RHS       [min, max] : [ 5.000E+00, 9.600E+04] - Zero values observed as well\n",
      "--- Bound     [min, max] : [        NA,        NA] - Zero values observed as well\n",
      "--- Matrix    [min, max] : [ 2.858E-03, 2.100E+03]\n",
      "--- Executing CPLEX (Solvelink=5): elapsed 0:00:00.024\n",
      "\n",
      "IBM ILOG CPLEX   43.2.0 859d62d5 May 4, 2023           WEI x86 64bit/MS Window\n",
      "\n",
      "--- GAMS/CPLEX licensed for continuous and discrete problems.\n",
      "--- GMO setup time: 0.00s\n",
      "--- Space for names approximately 0.02 Mb\n",
      "--- Use option 'names no' to turn use of names off\n",
      "--- GMO memory 0.69 Mb (peak 0.70 Mb)\n",
      "--- Dictionary memory 0.00 Mb\n",
      "--- Cplex 22.1.1.0 link memory 0.03 Mb (peak 0.12 Mb)\n",
      "--- Starting Cplex\n",
      "\n",
      "Version identifier: 22.1.1.0 | 2022-11-27 | 9160aff4d\n",
      "CPXPARAM_Advance                                 0\n",
      "CPXPARAM_Threads                                 1\n",
      "CPXPARAM_MIP_Display                             4\n",
      "CPXPARAM_MIP_Pool_Capacity                       0\n",
      "CPXPARAM_TimeLimit                               1000\n",
      "CPXPARAM_MIP_Tolerances_AbsMIPGap                0\n",
      "CPXPARAM_MIP_Tolerances_MIPGap                   0\n",
      "Tried aggregator 1 time.\n",
      "LP Presolve eliminated 364 rows and 998 columns.\n",
      "Aggregator did 86 substitutions.\n",
      "Reduced LP has 41 rows, 88 columns, and 218 nonzeros.\n",
      "Presolve time = 0.00 sec. (0.82 ticks)\n",
      "Initializing dual steep norms . . .\n",
      "\n",
      "Iteration log . . .\n",
      "Iteration:     1   Dual infeasibility =         41853.000000\n",
      "Iteration:    25   Dual objective     =     -89428191.317760\n",
      "\n",
      "--- LP status (1): optimal.\n",
      "--- Cplex Time: 0.00sec (det. 1.20 ticks)\n",
      "\n",
      "\n",
      "Optimal solution found\n",
      "Objective:    -89398284.317760\n",
      "\n",
      "--- Reading solution for model GAMS_MODEL\n",
      "--- Executing after solve: elapsed 0:00:00.032\n",
      "--- model.gms(3900) 4 Mb\n",
      "--- Putfile results C:\\Users\\justi\\AppData\\Local\\Temp\\tmpmr3d8w89\\results.dat\n",
      "--- Putfile statresults C:\\Users\\justi\\AppData\\Local\\Temp\\tmpmr3d8w89\\resultsstat.dat\n",
      "*** Status: Normal completion\n",
      "--- Job model.gms Stop 11/30/23 07:39:34 elapsed 0:00:00.037\n"
     ]
    },
    {
     "data": {
      "text/plain": "{'Problem': [{'Name': 'C:\\\\Users\\\\justi\\\\AppData\\\\Local\\\\Temp\\\\tmpmr3d8w89\\\\model.gms', 'Lower bound': nan, 'Upper bound': -89398284.31776011, 'Number of objectives': 1, 'Number of constraints': 492.0, 'Number of variables': 1172.0, 'Number of binary variables': None, 'Number of integer variables': 0.0, 'Number of continuous variables': 1172.0, 'Number of nonzeros': 4399.0, 'Sense': 'minimize'}], 'Solver': [{'Name': 'GAMS (43, 2, 0, 0)', 'Status': 'ok', 'Return code': 0, 'Message': None, 'User time': 0.01299970317632, 'System time': None, 'Wallclock time': None, 'Termination condition': 'optimal', 'Termination message': None}], 'Solution': [OrderedDict([('number of solutions', 0), ('number of solutions displayed', 0)])]}"
     },
     "execution_count": 38,
     "metadata": {},
     "output_type": "execute_result"
    }
   ],
   "source": [
    "def solve_model(m):\n",
    "    m.obj = Objective(expr=sum(m.feedCost[ifeed] for ifeed in m.ifeed)\n",
    "                           - sum(m.revenue[ifuel] for ifuel in m.ifuel), sense=minimize)\n",
    "\n",
    "    # def cdebug(m, ifuel):\n",
    "    #     return sum(sum(m.F[i, ifuel, k] for k in m.k) for i in m.inlets[ifuel]) <= 9000000\n",
    "    # m.cd = Constraint(m.ifuel, rule=cdebug)\n",
    "\n",
    "    #opt2 = SolverFactory('gurobi_persistent')\n",
    "    opt1 = SolverFactory('gams')\n",
    "    io_options = dict()\n",
    "\n",
    "    io_options['solver'] = \"cplex\"\n",
    "    res = opt1.solve(m,\n",
    "        tee=True,\n",
    "        add_options = ['option reslim=1000; option optcr=0.0;'],\n",
    "        io_options=io_options)\n",
    "\n",
    "    return res\n",
    "\n",
    "solve_model(m1)"
   ],
   "metadata": {
    "collapsed": false,
    "pycharm": {
     "name": "#%%\n"
    }
   }
  },
  {
   "cell_type": "code",
   "execution_count": 39,
   "outputs": [
    {
     "name": "stdout",
     "output_type": "stream",
     "text": [
      "obj : Size=1, Index=None, Active=True\n",
      "    Key  : Active : Sense    : Expression\n",
      "    None :   True : minimize : feedCost[FEED-LDPE] + feedCost[FEED-HDPE] + feedCost[FEED-PP] + feedCost[FEED-H2] - (revenue[PROD-GAS] + revenue[PROD-JTF] + revenue[PROD-DSL])\n"
     ]
    }
   ],
   "source": [
    "m1.obj.pprint();"
   ],
   "metadata": {
    "collapsed": false,
    "pycharm": {
     "name": "#%%\n"
    }
   }
  },
  {
   "cell_type": "code",
   "execution_count": 40,
   "outputs": [
    {
     "data": {
      "text/plain": "(OrderedSet(['PROD-ELEC']),\n OrderedSet(['DT2A', 'PROD-ELEC', 'PROD-GAS', 'PROD-JTF', 'PROD-DSL']))"
     },
     "execution_count": 40,
     "metadata": {},
     "output_type": "execute_result"
    }
   ],
   "source": [
    "m1.outlets[\"DT1A-1\"], m1.outlets[\"DT1A-2\"]"
   ],
   "metadata": {
    "collapsed": false,
    "pycharm": {
     "name": "#%%\n"
    }
   }
  },
  {
   "cell_type": "code",
   "execution_count": 41,
   "outputs": [
    {
     "name": "stdout",
     "output_type": "stream",
     "text": [
      "{Member of F} : Size=1080, Index=F_index\n",
      "    Key                      : Lower : Value        : Upper : Fixed : Stale : Domain\n",
      "    ('R2A-1', 'DT1A', 'C3A') :     0 : 2018.6275128 :  None : False : False : NonNegativeReals\n",
      "{Member of F} : Size=1080, Index=F_index\n",
      "    Key                            : Lower : Value              : Upper : Fixed : Stale : Domain\n",
      "    ('DT1A-1', 'PROD-ELEC', 'C3A') :     0 : 2833.3933544720003 :  None : False : False : NonNegativeReals\n"
     ]
    },
    {
     "data": {
      "text/plain": "(None, None)"
     },
     "execution_count": 41,
     "metadata": {},
     "output_type": "execute_result"
    }
   ],
   "source": [
    "m1.F[\"R2A-1\", \"DT1A\", 'C3A'].pprint(), m1.F[\"DT1A-1\", 'PROD-ELEC', 'C3A'].pprint()"
   ],
   "metadata": {
    "collapsed": false,
    "pycharm": {
     "name": "#%%\n"
    }
   }
  },
  {
   "cell_type": "code",
   "execution_count": 41,
   "outputs": [],
   "source": [],
   "metadata": {
    "collapsed": false,
    "pycharm": {
     "name": "#%%\n"
    }
   }
  },
  {
   "cell_type": "code",
   "execution_count": 42,
   "outputs": [
    {
     "name": "stdout",
     "output_type": "stream",
     "text": [
      "eq_sep1 : Size=108, Index=eq_sep1_index, Active=True\n",
      "    Key               : Lower : Body                                                                                                                                                                                                  : Upper : Active\n",
      "     ('DT1A', 'C10A') :   0.0 :         F[R1A-1,DT1A,C10A] + F[R2A-1,DT1A,C10A] + F[R3A-1,DT1A,C10A] - (F[DT1A-2,DT2A,C10A] + F[DT1A-2,PROD-ELEC,C10A] + F[DT1A-2,PROD-GAS,C10A] + F[DT1A-2,PROD-JTF,C10A] + F[DT1A-2,PROD-DSL,C10A]) :   0.0 :   True\n",
      "     ('DT1A', 'C11A') :   0.0 :         F[R1A-1,DT1A,C11A] + F[R2A-1,DT1A,C11A] + F[R3A-1,DT1A,C11A] - (F[DT1A-2,DT2A,C11A] + F[DT1A-2,PROD-ELEC,C11A] + F[DT1A-2,PROD-GAS,C11A] + F[DT1A-2,PROD-JTF,C11A] + F[DT1A-2,PROD-DSL,C11A]) :   0.0 :   True\n",
      "     ('DT1A', 'C12A') :   0.0 :         F[R1A-1,DT1A,C12A] + F[R2A-1,DT1A,C12A] + F[R3A-1,DT1A,C12A] - (F[DT1A-2,DT2A,C12A] + F[DT1A-2,PROD-ELEC,C12A] + F[DT1A-2,PROD-GAS,C12A] + F[DT1A-2,PROD-JTF,C12A] + F[DT1A-2,PROD-DSL,C12A]) :   0.0 :   True\n",
      "     ('DT1A', 'C13A') :   0.0 :         F[R1A-1,DT1A,C13A] + F[R2A-1,DT1A,C13A] + F[R3A-1,DT1A,C13A] - (F[DT1A-2,DT2A,C13A] + F[DT1A-2,PROD-ELEC,C13A] + F[DT1A-2,PROD-GAS,C13A] + F[DT1A-2,PROD-JTF,C13A] + F[DT1A-2,PROD-DSL,C13A]) :   0.0 :   True\n",
      "     ('DT1A', 'C14A') :   0.0 :         F[R1A-1,DT1A,C14A] + F[R2A-1,DT1A,C14A] + F[R3A-1,DT1A,C14A] - (F[DT1A-2,DT2A,C14A] + F[DT1A-2,PROD-ELEC,C14A] + F[DT1A-2,PROD-GAS,C14A] + F[DT1A-2,PROD-JTF,C14A] + F[DT1A-2,PROD-DSL,C14A]) :   0.0 :   True\n",
      "     ('DT1A', 'C15A') :   0.0 :         F[R1A-1,DT1A,C15A] + F[R2A-1,DT1A,C15A] + F[R3A-1,DT1A,C15A] - (F[DT1A-2,DT2A,C15A] + F[DT1A-2,PROD-ELEC,C15A] + F[DT1A-2,PROD-GAS,C15A] + F[DT1A-2,PROD-JTF,C15A] + F[DT1A-2,PROD-DSL,C15A]) :   0.0 :   True\n",
      "     ('DT1A', 'C16A') :   0.0 :         F[R1A-1,DT1A,C16A] + F[R2A-1,DT1A,C16A] + F[R3A-1,DT1A,C16A] - (F[DT1A-2,DT2A,C16A] + F[DT1A-2,PROD-ELEC,C16A] + F[DT1A-2,PROD-GAS,C16A] + F[DT1A-2,PROD-JTF,C16A] + F[DT1A-2,PROD-DSL,C16A]) :   0.0 :   True\n",
      "     ('DT1A', 'C17A') :   0.0 :         F[R1A-1,DT1A,C17A] + F[R2A-1,DT1A,C17A] + F[R3A-1,DT1A,C17A] - (F[DT1A-2,DT2A,C17A] + F[DT1A-2,PROD-ELEC,C17A] + F[DT1A-2,PROD-GAS,C17A] + F[DT1A-2,PROD-JTF,C17A] + F[DT1A-2,PROD-DSL,C17A]) :   0.0 :   True\n",
      "     ('DT1A', 'C18A') :   0.0 :         F[R1A-1,DT1A,C18A] + F[R2A-1,DT1A,C18A] + F[R3A-1,DT1A,C18A] - (F[DT1A-2,DT2A,C18A] + F[DT1A-2,PROD-ELEC,C18A] + F[DT1A-2,PROD-GAS,C18A] + F[DT1A-2,PROD-JTF,C18A] + F[DT1A-2,PROD-DSL,C18A]) :   0.0 :   True\n",
      "     ('DT1A', 'C19A') :   0.0 :         F[R1A-1,DT1A,C19A] + F[R2A-1,DT1A,C19A] + F[R3A-1,DT1A,C19A] - (F[DT1A-2,DT2A,C19A] + F[DT1A-2,PROD-ELEC,C19A] + F[DT1A-2,PROD-GAS,C19A] + F[DT1A-2,PROD-JTF,C19A] + F[DT1A-2,PROD-DSL,C19A]) :   0.0 :   True\n",
      "      ('DT1A', 'C1A') :   0.0 :                                                                                                                   F[R1A-1,DT1A,C1A] + F[R2A-1,DT1A,C1A] + F[R3A-1,DT1A,C1A] - F[DT1A-1,PROD-ELEC,C1A] :   0.0 :   True\n",
      "     ('DT1A', 'C20A') :   0.0 :         F[R1A-1,DT1A,C20A] + F[R2A-1,DT1A,C20A] + F[R3A-1,DT1A,C20A] - (F[DT1A-2,DT2A,C20A] + F[DT1A-2,PROD-ELEC,C20A] + F[DT1A-2,PROD-GAS,C20A] + F[DT1A-2,PROD-JTF,C20A] + F[DT1A-2,PROD-DSL,C20A]) :   0.0 :   True\n",
      "     ('DT1A', 'C21A') :   0.0 :         F[R1A-1,DT1A,C21A] + F[R2A-1,DT1A,C21A] + F[R3A-1,DT1A,C21A] - (F[DT1A-2,DT2A,C21A] + F[DT1A-2,PROD-ELEC,C21A] + F[DT1A-2,PROD-GAS,C21A] + F[DT1A-2,PROD-JTF,C21A] + F[DT1A-2,PROD-DSL,C21A]) :   0.0 :   True\n",
      "     ('DT1A', 'C22A') :   0.0 :         F[R1A-1,DT1A,C22A] + F[R2A-1,DT1A,C22A] + F[R3A-1,DT1A,C22A] - (F[DT1A-2,DT2A,C22A] + F[DT1A-2,PROD-ELEC,C22A] + F[DT1A-2,PROD-GAS,C22A] + F[DT1A-2,PROD-JTF,C22A] + F[DT1A-2,PROD-DSL,C22A]) :   0.0 :   True\n",
      "      ('DT1A', 'C2A') :   0.0 :                                                                                                                   F[R1A-1,DT1A,C2A] + F[R2A-1,DT1A,C2A] + F[R3A-1,DT1A,C2A] - F[DT1A-1,PROD-ELEC,C2A] :   0.0 :   True\n",
      "      ('DT1A', 'C3A') :   0.0 :                                                                                                                   F[R1A-1,DT1A,C3A] + F[R2A-1,DT1A,C3A] + F[R3A-1,DT1A,C3A] - F[DT1A-1,PROD-ELEC,C3A] :   0.0 :   True\n",
      "      ('DT1A', 'C4A') :   0.0 :                                                                                                                   F[R1A-1,DT1A,C4A] + F[R2A-1,DT1A,C4A] + F[R3A-1,DT1A,C4A] - F[DT1A-1,PROD-ELEC,C4A] :   0.0 :   True\n",
      "      ('DT1A', 'C5A') :   0.0 :                 F[R1A-1,DT1A,C5A] + F[R2A-1,DT1A,C5A] + F[R3A-1,DT1A,C5A] - (F[DT1A-2,DT2A,C5A] + F[DT1A-2,PROD-ELEC,C5A] + F[DT1A-2,PROD-GAS,C5A] + F[DT1A-2,PROD-JTF,C5A] + F[DT1A-2,PROD-DSL,C5A]) :   0.0 :   True\n",
      "      ('DT1A', 'C6A') :   0.0 :                 F[R1A-1,DT1A,C6A] + F[R2A-1,DT1A,C6A] + F[R3A-1,DT1A,C6A] - (F[DT1A-2,DT2A,C6A] + F[DT1A-2,PROD-ELEC,C6A] + F[DT1A-2,PROD-GAS,C6A] + F[DT1A-2,PROD-JTF,C6A] + F[DT1A-2,PROD-DSL,C6A]) :   0.0 :   True\n",
      "      ('DT1A', 'C7A') :   0.0 :                 F[R1A-1,DT1A,C7A] + F[R2A-1,DT1A,C7A] + F[R3A-1,DT1A,C7A] - (F[DT1A-2,DT2A,C7A] + F[DT1A-2,PROD-ELEC,C7A] + F[DT1A-2,PROD-GAS,C7A] + F[DT1A-2,PROD-JTF,C7A] + F[DT1A-2,PROD-DSL,C7A]) :   0.0 :   True\n",
      "      ('DT1A', 'C8A') :   0.0 :                 F[R1A-1,DT1A,C8A] + F[R2A-1,DT1A,C8A] + F[R3A-1,DT1A,C8A] - (F[DT1A-2,DT2A,C8A] + F[DT1A-2,PROD-ELEC,C8A] + F[DT1A-2,PROD-GAS,C8A] + F[DT1A-2,PROD-JTF,C8A] + F[DT1A-2,PROD-DSL,C8A]) :   0.0 :   True\n",
      "      ('DT1A', 'C9A') :   0.0 :                 F[R1A-1,DT1A,C9A] + F[R2A-1,DT1A,C9A] + F[R3A-1,DT1A,C9A] - (F[DT1A-2,DT2A,C9A] + F[DT1A-2,PROD-ELEC,C9A] + F[DT1A-2,PROD-GAS,C9A] + F[DT1A-2,PROD-JTF,C9A] + F[DT1A-2,PROD-DSL,C9A]) :   0.0 :   True\n",
      "       ('DT1A', 'H2') :   0.0 :                                                                                                                       F[R1A-1,DT1A,H2] + F[R2A-1,DT1A,H2] + F[R3A-1,DT1A,H2] - F[DT1A-1,PROD-ELEC,H2] :   0.0 :   True\n",
      "     ('DT1A', 'HDPE') :   0.0 :         F[R1A-1,DT1A,HDPE] + F[R2A-1,DT1A,HDPE] + F[R3A-1,DT1A,HDPE] - (F[DT1A-2,DT2A,HDPE] + F[DT1A-2,PROD-ELEC,HDPE] + F[DT1A-2,PROD-GAS,HDPE] + F[DT1A-2,PROD-JTF,HDPE] + F[DT1A-2,PROD-DSL,HDPE]) :   0.0 :   True\n",
      "     ('DT1A', 'LDPE') :   0.0 :         F[R1A-1,DT1A,LDPE] + F[R2A-1,DT1A,LDPE] + F[R3A-1,DT1A,LDPE] - (F[DT1A-2,DT2A,LDPE] + F[DT1A-2,PROD-ELEC,LDPE] + F[DT1A-2,PROD-GAS,LDPE] + F[DT1A-2,PROD-JTF,LDPE] + F[DT1A-2,PROD-DSL,LDPE]) :   0.0 :   True\n",
      "       ('DT1A', 'PP') :   0.0 :                         F[R1A-1,DT1A,PP] + F[R2A-1,DT1A,PP] + F[R3A-1,DT1A,PP] - (F[DT1A-2,DT2A,PP] + F[DT1A-2,PROD-ELEC,PP] + F[DT1A-2,PROD-GAS,PP] + F[DT1A-2,PROD-JTF,PP] + F[DT1A-2,PROD-DSL,PP]) :   0.0 :   True\n",
      "    ('DT1A', 'WASTE') :   0.0 : F[R1A-1,DT1A,WASTE] + F[R2A-1,DT1A,WASTE] + F[R3A-1,DT1A,WASTE] - (F[DT1A-2,DT2A,WASTE] + F[DT1A-2,PROD-ELEC,WASTE] + F[DT1A-2,PROD-GAS,WASTE] + F[DT1A-2,PROD-JTF,WASTE] + F[DT1A-2,PROD-DSL,WASTE]) :   0.0 :   True\n",
      "     ('DT2A', 'C10A') :   0.0 :                                                  F[DT1A-2,DT2A,C10A] - (F[DT2A-2,DT3A,C10A] + F[DT2A-2,PROD-ELEC,C10A] + F[DT2A-2,PROD-GAS,C10A] + F[DT2A-2,PROD-JTF,C10A] + F[DT2A-2,PROD-DSL,C10A]) :   0.0 :   True\n",
      "     ('DT2A', 'C11A') :   0.0 :                                                  F[DT1A-2,DT2A,C11A] - (F[DT2A-2,DT3A,C11A] + F[DT2A-2,PROD-ELEC,C11A] + F[DT2A-2,PROD-GAS,C11A] + F[DT2A-2,PROD-JTF,C11A] + F[DT2A-2,PROD-DSL,C11A]) :   0.0 :   True\n",
      "     ('DT2A', 'C12A') :   0.0 :                                                  F[DT1A-2,DT2A,C12A] - (F[DT2A-2,DT3A,C12A] + F[DT2A-2,PROD-ELEC,C12A] + F[DT2A-2,PROD-GAS,C12A] + F[DT2A-2,PROD-JTF,C12A] + F[DT2A-2,PROD-DSL,C12A]) :   0.0 :   True\n",
      "     ('DT2A', 'C13A') :   0.0 :                                                  F[DT1A-2,DT2A,C13A] - (F[DT2A-2,DT3A,C13A] + F[DT2A-2,PROD-ELEC,C13A] + F[DT2A-2,PROD-GAS,C13A] + F[DT2A-2,PROD-JTF,C13A] + F[DT2A-2,PROD-DSL,C13A]) :   0.0 :   True\n",
      "     ('DT2A', 'C14A') :   0.0 :                                                  F[DT1A-2,DT2A,C14A] - (F[DT2A-2,DT3A,C14A] + F[DT2A-2,PROD-ELEC,C14A] + F[DT2A-2,PROD-GAS,C14A] + F[DT2A-2,PROD-JTF,C14A] + F[DT2A-2,PROD-DSL,C14A]) :   0.0 :   True\n",
      "     ('DT2A', 'C15A') :   0.0 :                                                  F[DT1A-2,DT2A,C15A] - (F[DT2A-2,DT3A,C15A] + F[DT2A-2,PROD-ELEC,C15A] + F[DT2A-2,PROD-GAS,C15A] + F[DT2A-2,PROD-JTF,C15A] + F[DT2A-2,PROD-DSL,C15A]) :   0.0 :   True\n",
      "     ('DT2A', 'C16A') :   0.0 :                                                  F[DT1A-2,DT2A,C16A] - (F[DT2A-2,DT3A,C16A] + F[DT2A-2,PROD-ELEC,C16A] + F[DT2A-2,PROD-GAS,C16A] + F[DT2A-2,PROD-JTF,C16A] + F[DT2A-2,PROD-DSL,C16A]) :   0.0 :   True\n",
      "     ('DT2A', 'C17A') :   0.0 :                                                  F[DT1A-2,DT2A,C17A] - (F[DT2A-2,DT3A,C17A] + F[DT2A-2,PROD-ELEC,C17A] + F[DT2A-2,PROD-GAS,C17A] + F[DT2A-2,PROD-JTF,C17A] + F[DT2A-2,PROD-DSL,C17A]) :   0.0 :   True\n",
      "     ('DT2A', 'C18A') :   0.0 :                                                  F[DT1A-2,DT2A,C18A] - (F[DT2A-2,DT3A,C18A] + F[DT2A-2,PROD-ELEC,C18A] + F[DT2A-2,PROD-GAS,C18A] + F[DT2A-2,PROD-JTF,C18A] + F[DT2A-2,PROD-DSL,C18A]) :   0.0 :   True\n",
      "     ('DT2A', 'C19A') :   0.0 :                                                  F[DT1A-2,DT2A,C19A] - (F[DT2A-2,DT3A,C19A] + F[DT2A-2,PROD-ELEC,C19A] + F[DT2A-2,PROD-GAS,C19A] + F[DT2A-2,PROD-JTF,C19A] + F[DT2A-2,PROD-DSL,C19A]) :   0.0 :   True\n",
      "      ('DT2A', 'C1A') :   0.0 :                                                                                                      F[DT1A-2,DT2A,C1A] - (F[DT2A-1,PROD-ELEC,C1A] + F[DT2A-1,PROD-GAS,C1A] + F[DT2A-1,PROD-JTF,C1A]) :   0.0 :   True\n",
      "     ('DT2A', 'C20A') :   0.0 :                                                  F[DT1A-2,DT2A,C20A] - (F[DT2A-2,DT3A,C20A] + F[DT2A-2,PROD-ELEC,C20A] + F[DT2A-2,PROD-GAS,C20A] + F[DT2A-2,PROD-JTF,C20A] + F[DT2A-2,PROD-DSL,C20A]) :   0.0 :   True\n",
      "     ('DT2A', 'C21A') :   0.0 :                                                  F[DT1A-2,DT2A,C21A] - (F[DT2A-2,DT3A,C21A] + F[DT2A-2,PROD-ELEC,C21A] + F[DT2A-2,PROD-GAS,C21A] + F[DT2A-2,PROD-JTF,C21A] + F[DT2A-2,PROD-DSL,C21A]) :   0.0 :   True\n",
      "     ('DT2A', 'C22A') :   0.0 :                                                  F[DT1A-2,DT2A,C22A] - (F[DT2A-2,DT3A,C22A] + F[DT2A-2,PROD-ELEC,C22A] + F[DT2A-2,PROD-GAS,C22A] + F[DT2A-2,PROD-JTF,C22A] + F[DT2A-2,PROD-DSL,C22A]) :   0.0 :   True\n",
      "      ('DT2A', 'C2A') :   0.0 :                                                                                                      F[DT1A-2,DT2A,C2A] - (F[DT2A-1,PROD-ELEC,C2A] + F[DT2A-1,PROD-GAS,C2A] + F[DT2A-1,PROD-JTF,C2A]) :   0.0 :   True\n",
      "      ('DT2A', 'C3A') :   0.0 :                                                                                                      F[DT1A-2,DT2A,C3A] - (F[DT2A-1,PROD-ELEC,C3A] + F[DT2A-1,PROD-GAS,C3A] + F[DT2A-1,PROD-JTF,C3A]) :   0.0 :   True\n",
      "      ('DT2A', 'C4A') :   0.0 :                                                                                                      F[DT1A-2,DT2A,C4A] - (F[DT2A-1,PROD-ELEC,C4A] + F[DT2A-1,PROD-GAS,C4A] + F[DT2A-1,PROD-JTF,C4A]) :   0.0 :   True\n",
      "      ('DT2A', 'C5A') :   0.0 :                                                                                                      F[DT1A-2,DT2A,C5A] - (F[DT2A-1,PROD-ELEC,C5A] + F[DT2A-1,PROD-GAS,C5A] + F[DT2A-1,PROD-JTF,C5A]) :   0.0 :   True\n",
      "      ('DT2A', 'C6A') :   0.0 :                                                                                                      F[DT1A-2,DT2A,C6A] - (F[DT2A-1,PROD-ELEC,C6A] + F[DT2A-1,PROD-GAS,C6A] + F[DT2A-1,PROD-JTF,C6A]) :   0.0 :   True\n",
      "      ('DT2A', 'C7A') :   0.0 :                                                                                                      F[DT1A-2,DT2A,C7A] - (F[DT2A-1,PROD-ELEC,C7A] + F[DT2A-1,PROD-GAS,C7A] + F[DT2A-1,PROD-JTF,C7A]) :   0.0 :   True\n",
      "      ('DT2A', 'C8A') :   0.0 :                                                                                                      F[DT1A-2,DT2A,C8A] - (F[DT2A-1,PROD-ELEC,C8A] + F[DT2A-1,PROD-GAS,C8A] + F[DT2A-1,PROD-JTF,C8A]) :   0.0 :   True\n",
      "      ('DT2A', 'C9A') :   0.0 :                                                        F[DT1A-2,DT2A,C9A] - (F[DT2A-2,DT3A,C9A] + F[DT2A-2,PROD-ELEC,C9A] + F[DT2A-2,PROD-GAS,C9A] + F[DT2A-2,PROD-JTF,C9A] + F[DT2A-2,PROD-DSL,C9A]) :   0.0 :   True\n",
      "       ('DT2A', 'H2') :   0.0 :                                                                                                          F[DT1A-2,DT2A,H2] - (F[DT2A-1,PROD-ELEC,H2] + F[DT2A-1,PROD-GAS,H2] + F[DT2A-1,PROD-JTF,H2]) :   0.0 :   True\n",
      "     ('DT2A', 'HDPE') :   0.0 :                                                                                                  F[DT1A-2,DT2A,HDPE] - (F[DT2A-1,PROD-ELEC,HDPE] + F[DT2A-1,PROD-GAS,HDPE] + F[DT2A-1,PROD-JTF,HDPE]) :   0.0 :   True\n",
      "     ('DT2A', 'LDPE') :   0.0 :                                                                                                  F[DT1A-2,DT2A,LDPE] - (F[DT2A-1,PROD-ELEC,LDPE] + F[DT2A-1,PROD-GAS,LDPE] + F[DT2A-1,PROD-JTF,LDPE]) :   0.0 :   True\n",
      "       ('DT2A', 'PP') :   0.0 :                                                                                                          F[DT1A-2,DT2A,PP] - (F[DT2A-1,PROD-ELEC,PP] + F[DT2A-1,PROD-GAS,PP] + F[DT2A-1,PROD-JTF,PP]) :   0.0 :   True\n",
      "    ('DT2A', 'WASTE') :   0.0 :                                            F[DT1A-2,DT2A,WASTE] - (F[DT2A-2,DT3A,WASTE] + F[DT2A-2,PROD-ELEC,WASTE] + F[DT2A-2,PROD-GAS,WASTE] + F[DT2A-2,PROD-JTF,WASTE] + F[DT2A-2,PROD-DSL,WASTE]) :   0.0 :   True\n",
      "     ('DT3A', 'C10A') :   0.0 :                                                                        F[DT2A-2,DT3A,C10A] - (F[DT3A-1,PROD-ELEC,C10A] + F[DT3A-1,PROD-GAS,C10A] + F[DT3A-1,PROD-JTF,C10A] + F[DT3A-1,PROD-DSL,C10A]) :   0.0 :   True\n",
      "     ('DT3A', 'C11A') :   0.0 :                                                                        F[DT2A-2,DT3A,C11A] - (F[DT3A-1,PROD-ELEC,C11A] + F[DT3A-1,PROD-GAS,C11A] + F[DT3A-1,PROD-JTF,C11A] + F[DT3A-1,PROD-DSL,C11A]) :   0.0 :   True\n",
      "     ('DT3A', 'C12A') :   0.0 :                                                                        F[DT2A-2,DT3A,C12A] - (F[DT3A-1,PROD-ELEC,C12A] + F[DT3A-1,PROD-GAS,C12A] + F[DT3A-1,PROD-JTF,C12A] + F[DT3A-1,PROD-DSL,C12A]) :   0.0 :   True\n",
      "     ('DT3A', 'C13A') :   0.0 :                                                                            F[DT2A-2,DT3A,C13A] - (F[DT3A-2,DT4A,C13A] + F[DT3A-2,PROD-ELEC,C13A] + F[DT3A-2,PROD-JTF,C13A] + F[DT3A-2,PROD-DSL,C13A]) :   0.0 :   True\n",
      "     ('DT3A', 'C14A') :   0.0 :                                                                            F[DT2A-2,DT3A,C14A] - (F[DT3A-2,DT4A,C14A] + F[DT3A-2,PROD-ELEC,C14A] + F[DT3A-2,PROD-JTF,C14A] + F[DT3A-2,PROD-DSL,C14A]) :   0.0 :   True\n",
      "     ('DT3A', 'C15A') :   0.0 :                                                                            F[DT2A-2,DT3A,C15A] - (F[DT3A-2,DT4A,C15A] + F[DT3A-2,PROD-ELEC,C15A] + F[DT3A-2,PROD-JTF,C15A] + F[DT3A-2,PROD-DSL,C15A]) :   0.0 :   True\n",
      "     ('DT3A', 'C16A') :   0.0 :                                                                            F[DT2A-2,DT3A,C16A] - (F[DT3A-2,DT4A,C16A] + F[DT3A-2,PROD-ELEC,C16A] + F[DT3A-2,PROD-JTF,C16A] + F[DT3A-2,PROD-DSL,C16A]) :   0.0 :   True\n",
      "     ('DT3A', 'C17A') :   0.0 :                                                                            F[DT2A-2,DT3A,C17A] - (F[DT3A-2,DT4A,C17A] + F[DT3A-2,PROD-ELEC,C17A] + F[DT3A-2,PROD-JTF,C17A] + F[DT3A-2,PROD-DSL,C17A]) :   0.0 :   True\n",
      "     ('DT3A', 'C18A') :   0.0 :                                                                            F[DT2A-2,DT3A,C18A] - (F[DT3A-2,DT4A,C18A] + F[DT3A-2,PROD-ELEC,C18A] + F[DT3A-2,PROD-JTF,C18A] + F[DT3A-2,PROD-DSL,C18A]) :   0.0 :   True\n",
      "     ('DT3A', 'C19A') :   0.0 :                                                                            F[DT2A-2,DT3A,C19A] - (F[DT3A-2,DT4A,C19A] + F[DT3A-2,PROD-ELEC,C19A] + F[DT3A-2,PROD-JTF,C19A] + F[DT3A-2,PROD-DSL,C19A]) :   0.0 :   True\n",
      "      ('DT3A', 'C1A') :   0.0 :                                                                             F[DT2A-2,DT3A,C1A] - (F[DT3A-1,PROD-ELEC,C1A] + F[DT3A-1,PROD-GAS,C1A] + F[DT3A-1,PROD-JTF,C1A] + F[DT3A-1,PROD-DSL,C1A]) :   0.0 :   True\n",
      "     ('DT3A', 'C20A') :   0.0 :                                                                            F[DT2A-2,DT3A,C20A] - (F[DT3A-2,DT4A,C20A] + F[DT3A-2,PROD-ELEC,C20A] + F[DT3A-2,PROD-JTF,C20A] + F[DT3A-2,PROD-DSL,C20A]) :   0.0 :   True\n",
      "     ('DT3A', 'C21A') :   0.0 :                                                                            F[DT2A-2,DT3A,C21A] - (F[DT3A-2,DT4A,C21A] + F[DT3A-2,PROD-ELEC,C21A] + F[DT3A-2,PROD-JTF,C21A] + F[DT3A-2,PROD-DSL,C21A]) :   0.0 :   True\n",
      "     ('DT3A', 'C22A') :   0.0 :                                                                            F[DT2A-2,DT3A,C22A] - (F[DT3A-2,DT4A,C22A] + F[DT3A-2,PROD-ELEC,C22A] + F[DT3A-2,PROD-JTF,C22A] + F[DT3A-2,PROD-DSL,C22A]) :   0.0 :   True\n",
      "      ('DT3A', 'C2A') :   0.0 :                                                                             F[DT2A-2,DT3A,C2A] - (F[DT3A-1,PROD-ELEC,C2A] + F[DT3A-1,PROD-GAS,C2A] + F[DT3A-1,PROD-JTF,C2A] + F[DT3A-1,PROD-DSL,C2A]) :   0.0 :   True\n",
      "      ('DT3A', 'C3A') :   0.0 :                                                                             F[DT2A-2,DT3A,C3A] - (F[DT3A-1,PROD-ELEC,C3A] + F[DT3A-1,PROD-GAS,C3A] + F[DT3A-1,PROD-JTF,C3A] + F[DT3A-1,PROD-DSL,C3A]) :   0.0 :   True\n",
      "      ('DT3A', 'C4A') :   0.0 :                                                                             F[DT2A-2,DT3A,C4A] - (F[DT3A-1,PROD-ELEC,C4A] + F[DT3A-1,PROD-GAS,C4A] + F[DT3A-1,PROD-JTF,C4A] + F[DT3A-1,PROD-DSL,C4A]) :   0.0 :   True\n",
      "      ('DT3A', 'C5A') :   0.0 :                                                                             F[DT2A-2,DT3A,C5A] - (F[DT3A-1,PROD-ELEC,C5A] + F[DT3A-1,PROD-GAS,C5A] + F[DT3A-1,PROD-JTF,C5A] + F[DT3A-1,PROD-DSL,C5A]) :   0.0 :   True\n",
      "      ('DT3A', 'C6A') :   0.0 :                                                                             F[DT2A-2,DT3A,C6A] - (F[DT3A-1,PROD-ELEC,C6A] + F[DT3A-1,PROD-GAS,C6A] + F[DT3A-1,PROD-JTF,C6A] + F[DT3A-1,PROD-DSL,C6A]) :   0.0 :   True\n",
      "      ('DT3A', 'C7A') :   0.0 :                                                                             F[DT2A-2,DT3A,C7A] - (F[DT3A-1,PROD-ELEC,C7A] + F[DT3A-1,PROD-GAS,C7A] + F[DT3A-1,PROD-JTF,C7A] + F[DT3A-1,PROD-DSL,C7A]) :   0.0 :   True\n",
      "      ('DT3A', 'C8A') :   0.0 :                                                                             F[DT2A-2,DT3A,C8A] - (F[DT3A-1,PROD-ELEC,C8A] + F[DT3A-1,PROD-GAS,C8A] + F[DT3A-1,PROD-JTF,C8A] + F[DT3A-1,PROD-DSL,C8A]) :   0.0 :   True\n",
      "      ('DT3A', 'C9A') :   0.0 :                                                                             F[DT2A-2,DT3A,C9A] - (F[DT3A-1,PROD-ELEC,C9A] + F[DT3A-1,PROD-GAS,C9A] + F[DT3A-1,PROD-JTF,C9A] + F[DT3A-1,PROD-DSL,C9A]) :   0.0 :   True\n",
      "       ('DT3A', 'H2') :   0.0 :                                                                                  F[DT2A-2,DT3A,H2] - (F[DT3A-1,PROD-ELEC,H2] + F[DT3A-1,PROD-GAS,H2] + F[DT3A-1,PROD-JTF,H2] + F[DT3A-1,PROD-DSL,H2]) :   0.0 :   True\n",
      "     ('DT3A', 'HDPE') :   0.0 :                                                                        F[DT2A-2,DT3A,HDPE] - (F[DT3A-1,PROD-ELEC,HDPE] + F[DT3A-1,PROD-GAS,HDPE] + F[DT3A-1,PROD-JTF,HDPE] + F[DT3A-1,PROD-DSL,HDPE]) :   0.0 :   True\n",
      "     ('DT3A', 'LDPE') :   0.0 :                                                                        F[DT2A-2,DT3A,LDPE] - (F[DT3A-1,PROD-ELEC,LDPE] + F[DT3A-1,PROD-GAS,LDPE] + F[DT3A-1,PROD-JTF,LDPE] + F[DT3A-1,PROD-DSL,LDPE]) :   0.0 :   True\n",
      "       ('DT3A', 'PP') :   0.0 :                                                                                  F[DT2A-2,DT3A,PP] - (F[DT3A-1,PROD-ELEC,PP] + F[DT3A-1,PROD-GAS,PP] + F[DT3A-1,PROD-JTF,PP] + F[DT3A-1,PROD-DSL,PP]) :   0.0 :   True\n",
      "    ('DT3A', 'WASTE') :   0.0 :                                                                       F[DT2A-2,DT3A,WASTE] - (F[DT3A-2,DT4A,WASTE] + F[DT3A-2,PROD-ELEC,WASTE] + F[DT3A-2,PROD-JTF,WASTE] + F[DT3A-2,PROD-DSL,WASTE]) :   0.0 :   True\n",
      "     ('DT4A', 'C10A') :   0.0 :                                                                        F[DT3A-2,DT4A,C10A] - (F[DT4A-1,PROD-ELEC,C10A] + F[DT4A-1,PROD-GAS,C10A] + F[DT4A-1,PROD-JTF,C10A] + F[DT4A-1,PROD-DSL,C10A]) :   0.0 :   True\n",
      "     ('DT4A', 'C11A') :   0.0 :                                                                        F[DT3A-2,DT4A,C11A] - (F[DT4A-1,PROD-ELEC,C11A] + F[DT4A-1,PROD-GAS,C11A] + F[DT4A-1,PROD-JTF,C11A] + F[DT4A-1,PROD-DSL,C11A]) :   0.0 :   True\n",
      "     ('DT4A', 'C12A') :   0.0 :                                                                        F[DT3A-2,DT4A,C12A] - (F[DT4A-1,PROD-ELEC,C12A] + F[DT4A-1,PROD-GAS,C12A] + F[DT4A-1,PROD-JTF,C12A] + F[DT4A-1,PROD-DSL,C12A]) :   0.0 :   True\n",
      "     ('DT4A', 'C13A') :   0.0 :                                                                        F[DT3A-2,DT4A,C13A] - (F[DT4A-1,PROD-ELEC,C13A] + F[DT4A-1,PROD-GAS,C13A] + F[DT4A-1,PROD-JTF,C13A] + F[DT4A-1,PROD-DSL,C13A]) :   0.0 :   True\n",
      "     ('DT4A', 'C14A') :   0.0 :                                                                        F[DT3A-2,DT4A,C14A] - (F[DT4A-1,PROD-ELEC,C14A] + F[DT4A-1,PROD-GAS,C14A] + F[DT4A-1,PROD-JTF,C14A] + F[DT4A-1,PROD-DSL,C14A]) :   0.0 :   True\n",
      "     ('DT4A', 'C15A') :   0.0 :                                                                        F[DT3A-2,DT4A,C15A] - (F[DT4A-1,PROD-ELEC,C15A] + F[DT4A-1,PROD-GAS,C15A] + F[DT4A-1,PROD-JTF,C15A] + F[DT4A-1,PROD-DSL,C15A]) :   0.0 :   True\n",
      "     ('DT4A', 'C16A') :   0.0 :                                                                        F[DT3A-2,DT4A,C16A] - (F[DT4A-1,PROD-ELEC,C16A] + F[DT4A-1,PROD-GAS,C16A] + F[DT4A-1,PROD-JTF,C16A] + F[DT4A-1,PROD-DSL,C16A]) :   0.0 :   True\n",
      "     ('DT4A', 'C17A') :   0.0 :                                                                        F[DT3A-2,DT4A,C17A] - (F[DT4A-1,PROD-ELEC,C17A] + F[DT4A-1,PROD-GAS,C17A] + F[DT4A-1,PROD-JTF,C17A] + F[DT4A-1,PROD-DSL,C17A]) :   0.0 :   True\n",
      "     ('DT4A', 'C18A') :   0.0 :                                                                        F[DT3A-2,DT4A,C18A] - (F[DT4A-1,PROD-ELEC,C18A] + F[DT4A-1,PROD-GAS,C18A] + F[DT4A-1,PROD-JTF,C18A] + F[DT4A-1,PROD-DSL,C18A]) :   0.0 :   True\n",
      "     ('DT4A', 'C19A') :   0.0 :                                                                        F[DT3A-2,DT4A,C19A] - (F[DT4A-1,PROD-ELEC,C19A] + F[DT4A-1,PROD-GAS,C19A] + F[DT4A-1,PROD-JTF,C19A] + F[DT4A-1,PROD-DSL,C19A]) :   0.0 :   True\n",
      "      ('DT4A', 'C1A') :   0.0 :                                                                             F[DT3A-2,DT4A,C1A] - (F[DT4A-1,PROD-ELEC,C1A] + F[DT4A-1,PROD-GAS,C1A] + F[DT4A-1,PROD-JTF,C1A] + F[DT4A-1,PROD-DSL,C1A]) :   0.0 :   True\n",
      "     ('DT4A', 'C20A') :   0.0 :                                                                        F[DT3A-2,DT4A,C20A] - (F[DT4A-1,PROD-ELEC,C20A] + F[DT4A-1,PROD-GAS,C20A] + F[DT4A-1,PROD-JTF,C20A] + F[DT4A-1,PROD-DSL,C20A]) :   0.0 :   True\n",
      "     ('DT4A', 'C21A') :   0.0 :                                                                                                                            F[DT3A-2,DT4A,C21A] - (F[DT4A-2,PROD-ELEC,C21A] + F[DT4A-2,PROD-WAX,C21A]) :   0.0 :   True\n",
      "     ('DT4A', 'C22A') :   0.0 :                                                                                                                            F[DT3A-2,DT4A,C22A] - (F[DT4A-2,PROD-ELEC,C22A] + F[DT4A-2,PROD-WAX,C22A]) :   0.0 :   True\n",
      "      ('DT4A', 'C2A') :   0.0 :                                                                             F[DT3A-2,DT4A,C2A] - (F[DT4A-1,PROD-ELEC,C2A] + F[DT4A-1,PROD-GAS,C2A] + F[DT4A-1,PROD-JTF,C2A] + F[DT4A-1,PROD-DSL,C2A]) :   0.0 :   True\n",
      "      ('DT4A', 'C3A') :   0.0 :                                                                             F[DT3A-2,DT4A,C3A] - (F[DT4A-1,PROD-ELEC,C3A] + F[DT4A-1,PROD-GAS,C3A] + F[DT4A-1,PROD-JTF,C3A] + F[DT4A-1,PROD-DSL,C3A]) :   0.0 :   True\n",
      "      ('DT4A', 'C4A') :   0.0 :                                                                             F[DT3A-2,DT4A,C4A] - (F[DT4A-1,PROD-ELEC,C4A] + F[DT4A-1,PROD-GAS,C4A] + F[DT4A-1,PROD-JTF,C4A] + F[DT4A-1,PROD-DSL,C4A]) :   0.0 :   True\n",
      "      ('DT4A', 'C5A') :   0.0 :                                                                             F[DT3A-2,DT4A,C5A] - (F[DT4A-1,PROD-ELEC,C5A] + F[DT4A-1,PROD-GAS,C5A] + F[DT4A-1,PROD-JTF,C5A] + F[DT4A-1,PROD-DSL,C5A]) :   0.0 :   True\n",
      "      ('DT4A', 'C6A') :   0.0 :                                                                             F[DT3A-2,DT4A,C6A] - (F[DT4A-1,PROD-ELEC,C6A] + F[DT4A-1,PROD-GAS,C6A] + F[DT4A-1,PROD-JTF,C6A] + F[DT4A-1,PROD-DSL,C6A]) :   0.0 :   True\n",
      "      ('DT4A', 'C7A') :   0.0 :                                                                             F[DT3A-2,DT4A,C7A] - (F[DT4A-1,PROD-ELEC,C7A] + F[DT4A-1,PROD-GAS,C7A] + F[DT4A-1,PROD-JTF,C7A] + F[DT4A-1,PROD-DSL,C7A]) :   0.0 :   True\n",
      "      ('DT4A', 'C8A') :   0.0 :                                                                             F[DT3A-2,DT4A,C8A] - (F[DT4A-1,PROD-ELEC,C8A] + F[DT4A-1,PROD-GAS,C8A] + F[DT4A-1,PROD-JTF,C8A] + F[DT4A-1,PROD-DSL,C8A]) :   0.0 :   True\n",
      "      ('DT4A', 'C9A') :   0.0 :                                                                             F[DT3A-2,DT4A,C9A] - (F[DT4A-1,PROD-ELEC,C9A] + F[DT4A-1,PROD-GAS,C9A] + F[DT4A-1,PROD-JTF,C9A] + F[DT4A-1,PROD-DSL,C9A]) :   0.0 :   True\n",
      "       ('DT4A', 'H2') :   0.0 :                                                                                  F[DT3A-2,DT4A,H2] - (F[DT4A-1,PROD-ELEC,H2] + F[DT4A-1,PROD-GAS,H2] + F[DT4A-1,PROD-JTF,H2] + F[DT4A-1,PROD-DSL,H2]) :   0.0 :   True\n",
      "     ('DT4A', 'HDPE') :   0.0 :                                                                        F[DT3A-2,DT4A,HDPE] - (F[DT4A-1,PROD-ELEC,HDPE] + F[DT4A-1,PROD-GAS,HDPE] + F[DT4A-1,PROD-JTF,HDPE] + F[DT4A-1,PROD-DSL,HDPE]) :   0.0 :   True\n",
      "     ('DT4A', 'LDPE') :   0.0 :                                                                        F[DT3A-2,DT4A,LDPE] - (F[DT4A-1,PROD-ELEC,LDPE] + F[DT4A-1,PROD-GAS,LDPE] + F[DT4A-1,PROD-JTF,LDPE] + F[DT4A-1,PROD-DSL,LDPE]) :   0.0 :   True\n",
      "       ('DT4A', 'PP') :   0.0 :                                                                                  F[DT3A-2,DT4A,PP] - (F[DT4A-1,PROD-ELEC,PP] + F[DT4A-1,PROD-GAS,PP] + F[DT4A-1,PROD-JTF,PP] + F[DT4A-1,PROD-DSL,PP]) :   0.0 :   True\n",
      "    ('DT4A', 'WASTE') :   0.0 :                                                                                                                         F[DT3A-2,DT4A,WASTE] - (F[DT4A-2,PROD-ELEC,WASTE] + F[DT4A-2,PROD-WAX,WASTE]) :   0.0 :   True\n"
     ]
    }
   ],
   "source": [
    "m1.eq_sep1.pprint()"
   ],
   "metadata": {
    "collapsed": false,
    "pycharm": {
     "name": "#%%\n"
    }
   }
  },
  {
   "cell_type": "code",
   "execution_count": 42,
   "outputs": [],
   "source": [],
   "metadata": {
    "collapsed": false,
    "pycharm": {
     "name": "#%%\n"
    }
   }
  },
  {
   "cell_type": "code",
   "execution_count": 43,
   "outputs": [
    {
     "data": {
      "text/plain": "[('R1A-1', 'DT1A'),\n ('R2A-1', 'DT1A'),\n ('R3A-1', 'DT1A'),\n ('DT1A-1', 'PROD-ELEC'),\n ('DT2A-1', 'PROD-ELEC'),\n ('DT2A-1', 'PROD-GAS'),\n ('DT2A-1', 'PROD-JTF'),\n ('DT3A-1', 'PROD-ELEC'),\n ('DT3A-1', 'PROD-GAS'),\n ('DT3A-1', 'PROD-JTF'),\n ('DT3A-1', 'PROD-DSL'),\n ('DT4A-1', 'PROD-ELEC'),\n ('DT4A-1', 'PROD-GAS'),\n ('DT4A-1', 'PROD-JTF'),\n ('DT4A-1', 'PROD-DSL'),\n ('FEED-LDPE', 'R1A'),\n ('FEED-HDPE', 'R2A'),\n ('FEED-PP', 'R3A'),\n ('FEED-H2', 'R1A'),\n ('FEED-H2', 'R2A'),\n ('FEED-H2', 'R3A'),\n ('R1A-2', 'PROD-WASTE'),\n ('R2A-2', 'PROD-WASTE'),\n ('R3A-2', 'PROD-WASTE'),\n ('DT1A-2', 'DT2A'),\n ('DT1A-2', 'PROD-ELEC'),\n ('DT1A-2', 'PROD-GAS'),\n ('DT1A-2', 'PROD-JTF'),\n ('DT1A-2', 'PROD-DSL'),\n ('DT2A-2', 'DT3A'),\n ('DT2A-2', 'PROD-ELEC'),\n ('DT2A-2', 'PROD-GAS'),\n ('DT2A-2', 'PROD-JTF'),\n ('DT2A-2', 'PROD-DSL'),\n ('DT3A-2', 'DT4A'),\n ('DT3A-2', 'PROD-ELEC'),\n ('DT3A-2', 'PROD-JTF'),\n ('DT3A-2', 'PROD-DSL'),\n ('DT4A-2', 'PROD-ELEC'),\n ('DT4A-2', 'PROD-WAX')]"
     },
     "execution_count": 43,
     "metadata": {},
     "output_type": "execute_result"
    }
   ],
   "source": [
    "productive_links"
   ],
   "metadata": {
    "collapsed": false,
    "pycharm": {
     "name": "#%%\n"
    }
   }
  },
  {
   "cell_type": "code",
   "execution_count": 44,
   "outputs": [
    {
     "data": {
      "text/plain": "OrderedSet(['DT1A-2'])"
     },
     "execution_count": 44,
     "metadata": {},
     "output_type": "execute_result"
    }
   ],
   "source": [
    "m1.inlets[\"DT2A\"]"
   ],
   "metadata": {
    "collapsed": false,
    "pycharm": {
     "name": "#%%\n"
    }
   }
  },
  {
   "cell_type": "code",
   "execution_count": 44,
   "outputs": [],
   "source": [],
   "metadata": {
    "collapsed": false,
    "pycharm": {
     "name": "#%%\n"
    }
   }
  }
 ],
 "metadata": {
  "kernelspec": {
   "display_name": "Python 3",
   "language": "python",
   "name": "python3"
  },
  "language_info": {
   "codemirror_mode": {
    "name": "ipython",
    "version": 2
   },
   "file_extension": ".py",
   "mimetype": "text/x-python",
   "name": "python",
   "nbconvert_exporter": "python",
   "pygments_lexer": "ipython2",
   "version": "2.7.6"
  }
 },
 "nbformat": 4,
 "nbformat_minor": 0
}