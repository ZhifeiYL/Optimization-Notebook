{
 "cells": [
  {
   "cell_type": "code",
   "execution_count": 27,
   "metadata": {
    "collapsed": true,
    "pycharm": {
     "name": "#%%\n"
    }
   },
   "outputs": [],
   "source": [
    "import pandas as pd\n",
    "from util.util import get_root_dir"
   ]
  },
  {
   "cell_type": "code",
   "execution_count": 28,
   "outputs": [
    {
     "data": {
      "text/plain": "   Unnamed: 0         #2         #9        #3      #4         #1         #6\n0         NaN        NaN        NaN       NaN     NaN        NaN        NaN\n1          H2   0.026000   0.022000   0.01100   0.029   0.015000   0.008100\n2         C1A   0.190000   0.190000   0.33000   0.340   0.420000   0.340000\n3         C2A   0.340000   0.310000   0.58000   0.670   0.900000   0.960000\n4         C3A   0.440000   0.360000   0.41000   0.450   0.450000   0.430000\n5         C4A   0.223900   0.173900   0.14500   0.124   0.082000   0.074000\n6         C2E   0.460000   0.440000   0.54000   0.390   0.310000   0.260000\n7         C3E   0.530000   0.530000   1.80000   2.300   3.500000   3.800000\n8         C4E   0.417000   0.381000   0.71700   0.808   1.168100   1.106400\n9       Total   2.600000   2.400000   4.50000   5.100   6.800000   6.900000\n10        NaN        NaN        NaN       NaN     NaN        NaN        NaN\n11         C5   0.650000   0.570000   1.70000   2.300   3.500000   3.200000\n12         C6   1.200000   1.200000   1.90000   2.000   3.000000   3.000000\n13         C7   1.000000   1.100000   1.00000   0.860   1.100000   1.100000\n14         C8   0.670000   0.660000   0.88000   0.770   0.990000   0.860000\n15         C9   0.650000   0.700000   3.80000   5.100  10.000000  10.700000\n16        C10   0.840000   0.840000   1.00000   0.910   1.000000   1.100000\n17        C11   0.770000   0.770000   0.73000   0.630   0.630000   0.640000\n18        C12   0.680000   0.680000   0.94000   0.980   1.500000   1.600000\n19        C13   0.630000   0.630000   0.69000   0.710   0.800000   0.780000\n20    C14-C20   3.300000   3.400000   4.30000   2.600   5.600000   5.700000\n21       %A:E   0.454545   0.455882   0.29661   0.300   0.209091   0.189427\n22      Total  13.200000  13.700000  19.40000  23.200  36.700000  35.400000\n23        NaN        NaN        NaN       NaN     NaN        NaN        NaN\n24       C21A   2.100000   2.500000   2.10000   2.100   2.200000   2.500000\n25       C22A        NaN        NaN       NaN     NaN        NaN        NaN\n26      Total  84.000000  83.700000  76.00000  71.500  56.200000  57.500000",
      "text/html": "<div>\n<style scoped>\n    .dataframe tbody tr th:only-of-type {\n        vertical-align: middle;\n    }\n\n    .dataframe tbody tr th {\n        vertical-align: top;\n    }\n\n    .dataframe thead th {\n        text-align: right;\n    }\n</style>\n<table border=\"1\" class=\"dataframe\">\n  <thead>\n    <tr style=\"text-align: right;\">\n      <th></th>\n      <th>Unnamed: 0</th>\n      <th>#2</th>\n      <th>#9</th>\n      <th>#3</th>\n      <th>#4</th>\n      <th>#1</th>\n      <th>#6</th>\n    </tr>\n  </thead>\n  <tbody>\n    <tr>\n      <th>0</th>\n      <td>NaN</td>\n      <td>NaN</td>\n      <td>NaN</td>\n      <td>NaN</td>\n      <td>NaN</td>\n      <td>NaN</td>\n      <td>NaN</td>\n    </tr>\n    <tr>\n      <th>1</th>\n      <td>H2</td>\n      <td>0.026000</td>\n      <td>0.022000</td>\n      <td>0.01100</td>\n      <td>0.029</td>\n      <td>0.015000</td>\n      <td>0.008100</td>\n    </tr>\n    <tr>\n      <th>2</th>\n      <td>C1A</td>\n      <td>0.190000</td>\n      <td>0.190000</td>\n      <td>0.33000</td>\n      <td>0.340</td>\n      <td>0.420000</td>\n      <td>0.340000</td>\n    </tr>\n    <tr>\n      <th>3</th>\n      <td>C2A</td>\n      <td>0.340000</td>\n      <td>0.310000</td>\n      <td>0.58000</td>\n      <td>0.670</td>\n      <td>0.900000</td>\n      <td>0.960000</td>\n    </tr>\n    <tr>\n      <th>4</th>\n      <td>C3A</td>\n      <td>0.440000</td>\n      <td>0.360000</td>\n      <td>0.41000</td>\n      <td>0.450</td>\n      <td>0.450000</td>\n      <td>0.430000</td>\n    </tr>\n    <tr>\n      <th>5</th>\n      <td>C4A</td>\n      <td>0.223900</td>\n      <td>0.173900</td>\n      <td>0.14500</td>\n      <td>0.124</td>\n      <td>0.082000</td>\n      <td>0.074000</td>\n    </tr>\n    <tr>\n      <th>6</th>\n      <td>C2E</td>\n      <td>0.460000</td>\n      <td>0.440000</td>\n      <td>0.54000</td>\n      <td>0.390</td>\n      <td>0.310000</td>\n      <td>0.260000</td>\n    </tr>\n    <tr>\n      <th>7</th>\n      <td>C3E</td>\n      <td>0.530000</td>\n      <td>0.530000</td>\n      <td>1.80000</td>\n      <td>2.300</td>\n      <td>3.500000</td>\n      <td>3.800000</td>\n    </tr>\n    <tr>\n      <th>8</th>\n      <td>C4E</td>\n      <td>0.417000</td>\n      <td>0.381000</td>\n      <td>0.71700</td>\n      <td>0.808</td>\n      <td>1.168100</td>\n      <td>1.106400</td>\n    </tr>\n    <tr>\n      <th>9</th>\n      <td>Total</td>\n      <td>2.600000</td>\n      <td>2.400000</td>\n      <td>4.50000</td>\n      <td>5.100</td>\n      <td>6.800000</td>\n      <td>6.900000</td>\n    </tr>\n    <tr>\n      <th>10</th>\n      <td>NaN</td>\n      <td>NaN</td>\n      <td>NaN</td>\n      <td>NaN</td>\n      <td>NaN</td>\n      <td>NaN</td>\n      <td>NaN</td>\n    </tr>\n    <tr>\n      <th>11</th>\n      <td>C5</td>\n      <td>0.650000</td>\n      <td>0.570000</td>\n      <td>1.70000</td>\n      <td>2.300</td>\n      <td>3.500000</td>\n      <td>3.200000</td>\n    </tr>\n    <tr>\n      <th>12</th>\n      <td>C6</td>\n      <td>1.200000</td>\n      <td>1.200000</td>\n      <td>1.90000</td>\n      <td>2.000</td>\n      <td>3.000000</td>\n      <td>3.000000</td>\n    </tr>\n    <tr>\n      <th>13</th>\n      <td>C7</td>\n      <td>1.000000</td>\n      <td>1.100000</td>\n      <td>1.00000</td>\n      <td>0.860</td>\n      <td>1.100000</td>\n      <td>1.100000</td>\n    </tr>\n    <tr>\n      <th>14</th>\n      <td>C8</td>\n      <td>0.670000</td>\n      <td>0.660000</td>\n      <td>0.88000</td>\n      <td>0.770</td>\n      <td>0.990000</td>\n      <td>0.860000</td>\n    </tr>\n    <tr>\n      <th>15</th>\n      <td>C9</td>\n      <td>0.650000</td>\n      <td>0.700000</td>\n      <td>3.80000</td>\n      <td>5.100</td>\n      <td>10.000000</td>\n      <td>10.700000</td>\n    </tr>\n    <tr>\n      <th>16</th>\n      <td>C10</td>\n      <td>0.840000</td>\n      <td>0.840000</td>\n      <td>1.00000</td>\n      <td>0.910</td>\n      <td>1.000000</td>\n      <td>1.100000</td>\n    </tr>\n    <tr>\n      <th>17</th>\n      <td>C11</td>\n      <td>0.770000</td>\n      <td>0.770000</td>\n      <td>0.73000</td>\n      <td>0.630</td>\n      <td>0.630000</td>\n      <td>0.640000</td>\n    </tr>\n    <tr>\n      <th>18</th>\n      <td>C12</td>\n      <td>0.680000</td>\n      <td>0.680000</td>\n      <td>0.94000</td>\n      <td>0.980</td>\n      <td>1.500000</td>\n      <td>1.600000</td>\n    </tr>\n    <tr>\n      <th>19</th>\n      <td>C13</td>\n      <td>0.630000</td>\n      <td>0.630000</td>\n      <td>0.69000</td>\n      <td>0.710</td>\n      <td>0.800000</td>\n      <td>0.780000</td>\n    </tr>\n    <tr>\n      <th>20</th>\n      <td>C14-C20</td>\n      <td>3.300000</td>\n      <td>3.400000</td>\n      <td>4.30000</td>\n      <td>2.600</td>\n      <td>5.600000</td>\n      <td>5.700000</td>\n    </tr>\n    <tr>\n      <th>21</th>\n      <td>%A:E</td>\n      <td>0.454545</td>\n      <td>0.455882</td>\n      <td>0.29661</td>\n      <td>0.300</td>\n      <td>0.209091</td>\n      <td>0.189427</td>\n    </tr>\n    <tr>\n      <th>22</th>\n      <td>Total</td>\n      <td>13.200000</td>\n      <td>13.700000</td>\n      <td>19.40000</td>\n      <td>23.200</td>\n      <td>36.700000</td>\n      <td>35.400000</td>\n    </tr>\n    <tr>\n      <th>23</th>\n      <td>NaN</td>\n      <td>NaN</td>\n      <td>NaN</td>\n      <td>NaN</td>\n      <td>NaN</td>\n      <td>NaN</td>\n      <td>NaN</td>\n    </tr>\n    <tr>\n      <th>24</th>\n      <td>C21A</td>\n      <td>2.100000</td>\n      <td>2.500000</td>\n      <td>2.10000</td>\n      <td>2.100</td>\n      <td>2.200000</td>\n      <td>2.500000</td>\n    </tr>\n    <tr>\n      <th>25</th>\n      <td>C22A</td>\n      <td>NaN</td>\n      <td>NaN</td>\n      <td>NaN</td>\n      <td>NaN</td>\n      <td>NaN</td>\n      <td>NaN</td>\n    </tr>\n    <tr>\n      <th>26</th>\n      <td>Total</td>\n      <td>84.000000</td>\n      <td>83.700000</td>\n      <td>76.00000</td>\n      <td>71.500</td>\n      <td>56.200000</td>\n      <td>57.500000</td>\n    </tr>\n  </tbody>\n</table>\n</div>"
     },
     "execution_count": 28,
     "metadata": {},
     "output_type": "execute_result"
    }
   ],
   "source": [
    "proj_dir = get_root_dir() + \"/superstructure/case_study/\"\n",
    "df_raw = pd.read_csv(proj_dir + \"data/pyro_raw.csv\")\n",
    "df_raw"
   ],
   "metadata": {
    "collapsed": false,
    "pycharm": {
     "name": "#%%\n"
    }
   }
  },
  {
   "cell_type": "code",
   "execution_count": 29,
   "outputs": [
    {
     "data": {
      "text/plain": "                   #9        #3      #4         #1\nUnnamed: 0                                        \nNaN               NaN       NaN     NaN        NaN\nH2           0.022000   0.01100   0.029   0.015000\nC1A          0.190000   0.33000   0.340   0.420000\nC2A          0.310000   0.58000   0.670   0.900000\nC3A          0.360000   0.41000   0.450   0.450000\nC4A          0.173900   0.14500   0.124   0.082000\nC2E          0.440000   0.54000   0.390   0.310000\nC3E          0.530000   1.80000   2.300   3.500000\nC4E          0.381000   0.71700   0.808   1.168100\nTotal        2.400000   4.50000   5.100   6.800000\nNaN               NaN       NaN     NaN        NaN\nC5           0.570000   1.70000   2.300   3.500000\nC6           1.200000   1.90000   2.000   3.000000\nC7           1.100000   1.00000   0.860   1.100000\nC8           0.660000   0.88000   0.770   0.990000\nC9           0.700000   3.80000   5.100  10.000000\nC10          0.840000   1.00000   0.910   1.000000\nC11          0.770000   0.73000   0.630   0.630000\nC12          0.680000   0.94000   0.980   1.500000\nC13          0.630000   0.69000   0.710   0.800000\nC14-C20      3.400000   4.30000   2.600   5.600000\n%A:E         0.455882   0.29661   0.300   0.209091\nTotal       13.700000  19.40000  23.200  36.700000\nNaN               NaN       NaN     NaN        NaN\nC21A         2.500000   2.10000   2.100   2.200000\nC22A              NaN       NaN     NaN        NaN\nTotal       83.700000  76.00000  71.500  56.200000",
      "text/html": "<div>\n<style scoped>\n    .dataframe tbody tr th:only-of-type {\n        vertical-align: middle;\n    }\n\n    .dataframe tbody tr th {\n        vertical-align: top;\n    }\n\n    .dataframe thead th {\n        text-align: right;\n    }\n</style>\n<table border=\"1\" class=\"dataframe\">\n  <thead>\n    <tr style=\"text-align: right;\">\n      <th></th>\n      <th>#9</th>\n      <th>#3</th>\n      <th>#4</th>\n      <th>#1</th>\n    </tr>\n    <tr>\n      <th>Unnamed: 0</th>\n      <th></th>\n      <th></th>\n      <th></th>\n      <th></th>\n    </tr>\n  </thead>\n  <tbody>\n    <tr>\n      <th>NaN</th>\n      <td>NaN</td>\n      <td>NaN</td>\n      <td>NaN</td>\n      <td>NaN</td>\n    </tr>\n    <tr>\n      <th>H2</th>\n      <td>0.022000</td>\n      <td>0.01100</td>\n      <td>0.029</td>\n      <td>0.015000</td>\n    </tr>\n    <tr>\n      <th>C1A</th>\n      <td>0.190000</td>\n      <td>0.33000</td>\n      <td>0.340</td>\n      <td>0.420000</td>\n    </tr>\n    <tr>\n      <th>C2A</th>\n      <td>0.310000</td>\n      <td>0.58000</td>\n      <td>0.670</td>\n      <td>0.900000</td>\n    </tr>\n    <tr>\n      <th>C3A</th>\n      <td>0.360000</td>\n      <td>0.41000</td>\n      <td>0.450</td>\n      <td>0.450000</td>\n    </tr>\n    <tr>\n      <th>C4A</th>\n      <td>0.173900</td>\n      <td>0.14500</td>\n      <td>0.124</td>\n      <td>0.082000</td>\n    </tr>\n    <tr>\n      <th>C2E</th>\n      <td>0.440000</td>\n      <td>0.54000</td>\n      <td>0.390</td>\n      <td>0.310000</td>\n    </tr>\n    <tr>\n      <th>C3E</th>\n      <td>0.530000</td>\n      <td>1.80000</td>\n      <td>2.300</td>\n      <td>3.500000</td>\n    </tr>\n    <tr>\n      <th>C4E</th>\n      <td>0.381000</td>\n      <td>0.71700</td>\n      <td>0.808</td>\n      <td>1.168100</td>\n    </tr>\n    <tr>\n      <th>Total</th>\n      <td>2.400000</td>\n      <td>4.50000</td>\n      <td>5.100</td>\n      <td>6.800000</td>\n    </tr>\n    <tr>\n      <th>NaN</th>\n      <td>NaN</td>\n      <td>NaN</td>\n      <td>NaN</td>\n      <td>NaN</td>\n    </tr>\n    <tr>\n      <th>C5</th>\n      <td>0.570000</td>\n      <td>1.70000</td>\n      <td>2.300</td>\n      <td>3.500000</td>\n    </tr>\n    <tr>\n      <th>C6</th>\n      <td>1.200000</td>\n      <td>1.90000</td>\n      <td>2.000</td>\n      <td>3.000000</td>\n    </tr>\n    <tr>\n      <th>C7</th>\n      <td>1.100000</td>\n      <td>1.00000</td>\n      <td>0.860</td>\n      <td>1.100000</td>\n    </tr>\n    <tr>\n      <th>C8</th>\n      <td>0.660000</td>\n      <td>0.88000</td>\n      <td>0.770</td>\n      <td>0.990000</td>\n    </tr>\n    <tr>\n      <th>C9</th>\n      <td>0.700000</td>\n      <td>3.80000</td>\n      <td>5.100</td>\n      <td>10.000000</td>\n    </tr>\n    <tr>\n      <th>C10</th>\n      <td>0.840000</td>\n      <td>1.00000</td>\n      <td>0.910</td>\n      <td>1.000000</td>\n    </tr>\n    <tr>\n      <th>C11</th>\n      <td>0.770000</td>\n      <td>0.73000</td>\n      <td>0.630</td>\n      <td>0.630000</td>\n    </tr>\n    <tr>\n      <th>C12</th>\n      <td>0.680000</td>\n      <td>0.94000</td>\n      <td>0.980</td>\n      <td>1.500000</td>\n    </tr>\n    <tr>\n      <th>C13</th>\n      <td>0.630000</td>\n      <td>0.69000</td>\n      <td>0.710</td>\n      <td>0.800000</td>\n    </tr>\n    <tr>\n      <th>C14-C20</th>\n      <td>3.400000</td>\n      <td>4.30000</td>\n      <td>2.600</td>\n      <td>5.600000</td>\n    </tr>\n    <tr>\n      <th>%A:E</th>\n      <td>0.455882</td>\n      <td>0.29661</td>\n      <td>0.300</td>\n      <td>0.209091</td>\n    </tr>\n    <tr>\n      <th>Total</th>\n      <td>13.700000</td>\n      <td>19.40000</td>\n      <td>23.200</td>\n      <td>36.700000</td>\n    </tr>\n    <tr>\n      <th>NaN</th>\n      <td>NaN</td>\n      <td>NaN</td>\n      <td>NaN</td>\n      <td>NaN</td>\n    </tr>\n    <tr>\n      <th>C21A</th>\n      <td>2.500000</td>\n      <td>2.10000</td>\n      <td>2.100</td>\n      <td>2.200000</td>\n    </tr>\n    <tr>\n      <th>C22A</th>\n      <td>NaN</td>\n      <td>NaN</td>\n      <td>NaN</td>\n      <td>NaN</td>\n    </tr>\n    <tr>\n      <th>Total</th>\n      <td>83.700000</td>\n      <td>76.00000</td>\n      <td>71.500</td>\n      <td>56.200000</td>\n    </tr>\n  </tbody>\n</table>\n</div>"
     },
     "execution_count": 29,
     "metadata": {},
     "output_type": "execute_result"
    }
   ],
   "source": [
    "df_raw.set_index(df_raw.columns[0], inplace=True)\n",
    "df_raw = df_raw.drop(columns=[\"#2\", \"#6\"])\n",
    "df_raw"
   ],
   "metadata": {
    "collapsed": false,
    "pycharm": {
     "name": "#%%\n"
    }
   }
  },
  {
   "cell_type": "code",
   "execution_count": 30,
   "outputs": [
    {
     "data": {
      "text/plain": "                #9     #3     #4      #1\nUnnamed: 0                              \nH2          0.0220  0.011  0.029  0.0150\nC1A         0.1900  0.330  0.340  0.4200\nC2A         0.3100  0.580  0.670  0.9000\nC3A         0.3600  0.410  0.450  0.4500\nC4A         0.1739  0.145  0.124  0.0820\nC2E         0.4400  0.540  0.390  0.3100\nC3E         0.5300  1.800  2.300  3.5000\nC4E         0.3810  0.717  0.808  1.1681\nTotal       2.4000  4.500  5.100  6.8000",
      "text/html": "<div>\n<style scoped>\n    .dataframe tbody tr th:only-of-type {\n        vertical-align: middle;\n    }\n\n    .dataframe tbody tr th {\n        vertical-align: top;\n    }\n\n    .dataframe thead th {\n        text-align: right;\n    }\n</style>\n<table border=\"1\" class=\"dataframe\">\n  <thead>\n    <tr style=\"text-align: right;\">\n      <th></th>\n      <th>#9</th>\n      <th>#3</th>\n      <th>#4</th>\n      <th>#1</th>\n    </tr>\n    <tr>\n      <th>Unnamed: 0</th>\n      <th></th>\n      <th></th>\n      <th></th>\n      <th></th>\n    </tr>\n  </thead>\n  <tbody>\n    <tr>\n      <th>H2</th>\n      <td>0.0220</td>\n      <td>0.011</td>\n      <td>0.029</td>\n      <td>0.0150</td>\n    </tr>\n    <tr>\n      <th>C1A</th>\n      <td>0.1900</td>\n      <td>0.330</td>\n      <td>0.340</td>\n      <td>0.4200</td>\n    </tr>\n    <tr>\n      <th>C2A</th>\n      <td>0.3100</td>\n      <td>0.580</td>\n      <td>0.670</td>\n      <td>0.9000</td>\n    </tr>\n    <tr>\n      <th>C3A</th>\n      <td>0.3600</td>\n      <td>0.410</td>\n      <td>0.450</td>\n      <td>0.4500</td>\n    </tr>\n    <tr>\n      <th>C4A</th>\n      <td>0.1739</td>\n      <td>0.145</td>\n      <td>0.124</td>\n      <td>0.0820</td>\n    </tr>\n    <tr>\n      <th>C2E</th>\n      <td>0.4400</td>\n      <td>0.540</td>\n      <td>0.390</td>\n      <td>0.3100</td>\n    </tr>\n    <tr>\n      <th>C3E</th>\n      <td>0.5300</td>\n      <td>1.800</td>\n      <td>2.300</td>\n      <td>3.5000</td>\n    </tr>\n    <tr>\n      <th>C4E</th>\n      <td>0.3810</td>\n      <td>0.717</td>\n      <td>0.808</td>\n      <td>1.1681</td>\n    </tr>\n    <tr>\n      <th>Total</th>\n      <td>2.4000</td>\n      <td>4.500</td>\n      <td>5.100</td>\n      <td>6.8000</td>\n    </tr>\n  </tbody>\n</table>\n</div>"
     },
     "execution_count": 30,
     "metadata": {},
     "output_type": "execute_result"
    }
   ],
   "source": [
    "df_gas = df_raw.iloc[1:10]\n",
    "df_gas"
   ],
   "metadata": {
    "collapsed": false,
    "pycharm": {
     "name": "#%%\n"
    }
   }
  },
  {
   "cell_type": "code",
   "execution_count": 31,
   "outputs": [],
   "source": [
    "df_gas_processed = df_gas.drop([\"Total\"])"
   ],
   "metadata": {
    "collapsed": false,
    "pycharm": {
     "name": "#%%\n"
    }
   }
  },
  {
   "cell_type": "code",
   "execution_count": 32,
   "outputs": [
    {
     "data": {
      "text/plain": "                   #9        #3     #4         #1\nUnnamed: 0                                       \nC5           0.570000   1.70000   2.30   3.500000\nC6           1.200000   1.90000   2.00   3.000000\nC7           1.100000   1.00000   0.86   1.100000\nC8           0.660000   0.88000   0.77   0.990000\nC9           0.700000   3.80000   5.10  10.000000\nC10          0.840000   1.00000   0.91   1.000000\nC11          0.770000   0.73000   0.63   0.630000\nC12          0.680000   0.94000   0.98   1.500000\nC13          0.630000   0.69000   0.71   0.800000\nC14-C20      3.400000   4.30000   2.60   5.600000\n%A:E         0.455882   0.29661   0.30   0.209091\nTotal       13.700000  19.40000  23.20  36.700000",
      "text/html": "<div>\n<style scoped>\n    .dataframe tbody tr th:only-of-type {\n        vertical-align: middle;\n    }\n\n    .dataframe tbody tr th {\n        vertical-align: top;\n    }\n\n    .dataframe thead th {\n        text-align: right;\n    }\n</style>\n<table border=\"1\" class=\"dataframe\">\n  <thead>\n    <tr style=\"text-align: right;\">\n      <th></th>\n      <th>#9</th>\n      <th>#3</th>\n      <th>#4</th>\n      <th>#1</th>\n    </tr>\n    <tr>\n      <th>Unnamed: 0</th>\n      <th></th>\n      <th></th>\n      <th></th>\n      <th></th>\n    </tr>\n  </thead>\n  <tbody>\n    <tr>\n      <th>C5</th>\n      <td>0.570000</td>\n      <td>1.70000</td>\n      <td>2.30</td>\n      <td>3.500000</td>\n    </tr>\n    <tr>\n      <th>C6</th>\n      <td>1.200000</td>\n      <td>1.90000</td>\n      <td>2.00</td>\n      <td>3.000000</td>\n    </tr>\n    <tr>\n      <th>C7</th>\n      <td>1.100000</td>\n      <td>1.00000</td>\n      <td>0.86</td>\n      <td>1.100000</td>\n    </tr>\n    <tr>\n      <th>C8</th>\n      <td>0.660000</td>\n      <td>0.88000</td>\n      <td>0.77</td>\n      <td>0.990000</td>\n    </tr>\n    <tr>\n      <th>C9</th>\n      <td>0.700000</td>\n      <td>3.80000</td>\n      <td>5.10</td>\n      <td>10.000000</td>\n    </tr>\n    <tr>\n      <th>C10</th>\n      <td>0.840000</td>\n      <td>1.00000</td>\n      <td>0.91</td>\n      <td>1.000000</td>\n    </tr>\n    <tr>\n      <th>C11</th>\n      <td>0.770000</td>\n      <td>0.73000</td>\n      <td>0.63</td>\n      <td>0.630000</td>\n    </tr>\n    <tr>\n      <th>C12</th>\n      <td>0.680000</td>\n      <td>0.94000</td>\n      <td>0.98</td>\n      <td>1.500000</td>\n    </tr>\n    <tr>\n      <th>C13</th>\n      <td>0.630000</td>\n      <td>0.69000</td>\n      <td>0.71</td>\n      <td>0.800000</td>\n    </tr>\n    <tr>\n      <th>C14-C20</th>\n      <td>3.400000</td>\n      <td>4.30000</td>\n      <td>2.60</td>\n      <td>5.600000</td>\n    </tr>\n    <tr>\n      <th>%A:E</th>\n      <td>0.455882</td>\n      <td>0.29661</td>\n      <td>0.30</td>\n      <td>0.209091</td>\n    </tr>\n    <tr>\n      <th>Total</th>\n      <td>13.700000</td>\n      <td>19.40000</td>\n      <td>23.20</td>\n      <td>36.700000</td>\n    </tr>\n  </tbody>\n</table>\n</div>"
     },
     "execution_count": 32,
     "metadata": {},
     "output_type": "execute_result"
    }
   ],
   "source": [
    "df_oil = df_raw.iloc[11:23]\n",
    "df_oil"
   ],
   "metadata": {
    "collapsed": false,
    "pycharm": {
     "name": "#%%\n"
    }
   }
  },
  {
   "cell_type": "code",
   "execution_count": 33,
   "outputs": [],
   "source": [
    "df_wax = df_raw.iloc[24:27]\n",
    "df_wax_processed = df_wax.copy()\n",
    "\n",
    "for column in df_wax_processed.columns:\n",
    "    df_wax_processed.loc[\"C22A\", column] = df_wax.loc[\"Total\", column] - df_wax.loc[\"C21A\", column]\n",
    "df_wax_processed = df_wax_processed.drop([\"Total\"])"
   ],
   "metadata": {
    "collapsed": false,
    "pycharm": {
     "name": "#%%\n"
    }
   }
  },
  {
   "cell_type": "code",
   "execution_count": 34,
   "outputs": [
    {
     "name": "stdout",
     "output_type": "stream",
     "text": [
      "                   #9         #3         #4         #1\n",
      "Unnamed: 0                                            \n",
      "C5           0.570000   1.700000   2.300000   3.500000\n",
      "C6           1.200000   1.900000   2.000000   3.000000\n",
      "C7           1.100000   1.000000   0.860000   1.100000\n",
      "C8           0.660000   0.880000   0.770000   0.990000\n",
      "C9           0.700000   3.800000   5.100000  10.000000\n",
      "C10          0.840000   1.000000   0.910000   1.000000\n",
      "C11          0.770000   0.730000   0.630000   0.630000\n",
      "C12          0.680000   0.940000   0.980000   1.500000\n",
      "C13          0.630000   0.690000   0.710000   0.800000\n",
      "C14          0.485714   0.614286   0.371429   0.800000\n",
      "C15          0.485714   0.614286   0.371429   0.800000\n",
      "C16          0.485714   0.614286   0.371429   0.800000\n",
      "C17          0.485714   0.614286   0.371429   0.800000\n",
      "C18          0.485714   0.614286   0.371429   0.800000\n",
      "C19          0.485714   0.614286   0.371429   0.800000\n",
      "C20          0.485714   0.614286   0.371429   0.800000\n",
      "%A:E         0.455882   0.296610   0.300000   0.209091\n",
      "Total       13.700000  19.400000  23.200000  36.700000\n"
     ]
    }
   ],
   "source": [
    "# Create a copy of the DataFrame\n",
    "df_oil_copy = df_oil.copy()\n",
    "\n",
    "# Equal distribution of C14-C20 values\n",
    "for component in range(14, 21):  # From C14 to C20\n",
    "    df_oil_copy.loc[f'C{component}'] = df_oil_copy.loc['C14-C20'] / 7\n",
    "\n",
    "# Reorder the DataFrame and remove the 'C14-C20' row\n",
    "df_oil_reordered = df_oil_copy.reindex(['C5', 'C6', 'C7', 'C8', 'C9', 'C10', 'C11', 'C12', 'C13',\n",
    "                                        'C14', 'C15', 'C16', 'C17', 'C18', 'C19', 'C20',\n",
    "                                        '%A:E', 'Total', 'C14-C20'])\n",
    "df_oil_reordered = df_oil_reordered.drop('C14-C20')\n",
    "\n",
    "print(df_oil_reordered)\n"
   ],
   "metadata": {
    "collapsed": false,
    "pycharm": {
     "name": "#%%\n"
    }
   }
  },
  {
   "cell_type": "code",
   "execution_count": 35,
   "outputs": [
    {
     "data": {
      "text/plain": "                  #9        #3        #4         #1\nUnnamed: 0                                         \nC5A         0.231777  0.445363  0.730359   0.789942\nC5E         0.508413  1.501509  2.434529   3.777982\nC6A         0.487951  0.497758  0.635094   0.677093\nC6E         1.070343  1.678157  2.116981   3.238270\nC7A         0.447288  0.261978  0.273091   0.248267\nC7E         0.981148  0.883240  0.910302   1.187366\nC8A         0.268373  0.230541  0.244511   0.223441\nC8E         0.588689  0.777252  0.815038   1.068629\nC9A         0.284638  0.995517  1.619491   2.256976\nC9E         0.624367  3.356313  5.398303  10.794233\nC10A        0.341565  0.261978  0.288968   0.225698\nC10E        0.749240  0.883240  0.963227   1.079423\nC11A        0.313102  0.191244  0.200055   0.142189\nC11E        0.686804  0.644765  0.666849   0.680037\nC12A        0.276505  0.246259  0.311196   0.338546\nC12E        0.606528  0.830246  1.037321   1.619135\nC13A        0.256174  0.180765  0.225459   0.180558\nC13E        0.561930  0.609436  0.751528   0.863539\nC14A        0.197504  0.160929  0.117946   0.180558\nC14E        0.433234  0.542562  0.393154   0.863539\nC15A        0.197504  0.160929  0.117946   0.180558\nC15E        0.433234  0.542562  0.393154   0.863539\nC16A        0.197504  0.160929  0.117946   0.180558\nC16E        0.433234  0.542562  0.393154   0.863539\nC17A        0.197504  0.160929  0.117946   0.180558\nC17E        0.433234  0.542562  0.393154   0.863539\nC18A        0.197504  0.160929  0.117946   0.180558\nC18E        0.433234  0.542562  0.393154   0.863539\nC19A        0.197504  0.160929  0.117946   0.180558\nC19E        0.433234  0.542562  0.393154   0.863539\nC20A        0.197504  0.160929  0.117946   0.180558\nC20E        0.433234  0.542562  0.393154   0.863539",
      "text/html": "<div>\n<style scoped>\n    .dataframe tbody tr th:only-of-type {\n        vertical-align: middle;\n    }\n\n    .dataframe tbody tr th {\n        vertical-align: top;\n    }\n\n    .dataframe thead th {\n        text-align: right;\n    }\n</style>\n<table border=\"1\" class=\"dataframe\">\n  <thead>\n    <tr style=\"text-align: right;\">\n      <th></th>\n      <th>#9</th>\n      <th>#3</th>\n      <th>#4</th>\n      <th>#1</th>\n    </tr>\n    <tr>\n      <th>Unnamed: 0</th>\n      <th></th>\n      <th></th>\n      <th></th>\n      <th></th>\n    </tr>\n  </thead>\n  <tbody>\n    <tr>\n      <th>C5A</th>\n      <td>0.231777</td>\n      <td>0.445363</td>\n      <td>0.730359</td>\n      <td>0.789942</td>\n    </tr>\n    <tr>\n      <th>C5E</th>\n      <td>0.508413</td>\n      <td>1.501509</td>\n      <td>2.434529</td>\n      <td>3.777982</td>\n    </tr>\n    <tr>\n      <th>C6A</th>\n      <td>0.487951</td>\n      <td>0.497758</td>\n      <td>0.635094</td>\n      <td>0.677093</td>\n    </tr>\n    <tr>\n      <th>C6E</th>\n      <td>1.070343</td>\n      <td>1.678157</td>\n      <td>2.116981</td>\n      <td>3.238270</td>\n    </tr>\n    <tr>\n      <th>C7A</th>\n      <td>0.447288</td>\n      <td>0.261978</td>\n      <td>0.273091</td>\n      <td>0.248267</td>\n    </tr>\n    <tr>\n      <th>C7E</th>\n      <td>0.981148</td>\n      <td>0.883240</td>\n      <td>0.910302</td>\n      <td>1.187366</td>\n    </tr>\n    <tr>\n      <th>C8A</th>\n      <td>0.268373</td>\n      <td>0.230541</td>\n      <td>0.244511</td>\n      <td>0.223441</td>\n    </tr>\n    <tr>\n      <th>C8E</th>\n      <td>0.588689</td>\n      <td>0.777252</td>\n      <td>0.815038</td>\n      <td>1.068629</td>\n    </tr>\n    <tr>\n      <th>C9A</th>\n      <td>0.284638</td>\n      <td>0.995517</td>\n      <td>1.619491</td>\n      <td>2.256976</td>\n    </tr>\n    <tr>\n      <th>C9E</th>\n      <td>0.624367</td>\n      <td>3.356313</td>\n      <td>5.398303</td>\n      <td>10.794233</td>\n    </tr>\n    <tr>\n      <th>C10A</th>\n      <td>0.341565</td>\n      <td>0.261978</td>\n      <td>0.288968</td>\n      <td>0.225698</td>\n    </tr>\n    <tr>\n      <th>C10E</th>\n      <td>0.749240</td>\n      <td>0.883240</td>\n      <td>0.963227</td>\n      <td>1.079423</td>\n    </tr>\n    <tr>\n      <th>C11A</th>\n      <td>0.313102</td>\n      <td>0.191244</td>\n      <td>0.200055</td>\n      <td>0.142189</td>\n    </tr>\n    <tr>\n      <th>C11E</th>\n      <td>0.686804</td>\n      <td>0.644765</td>\n      <td>0.666849</td>\n      <td>0.680037</td>\n    </tr>\n    <tr>\n      <th>C12A</th>\n      <td>0.276505</td>\n      <td>0.246259</td>\n      <td>0.311196</td>\n      <td>0.338546</td>\n    </tr>\n    <tr>\n      <th>C12E</th>\n      <td>0.606528</td>\n      <td>0.830246</td>\n      <td>1.037321</td>\n      <td>1.619135</td>\n    </tr>\n    <tr>\n      <th>C13A</th>\n      <td>0.256174</td>\n      <td>0.180765</td>\n      <td>0.225459</td>\n      <td>0.180558</td>\n    </tr>\n    <tr>\n      <th>C13E</th>\n      <td>0.561930</td>\n      <td>0.609436</td>\n      <td>0.751528</td>\n      <td>0.863539</td>\n    </tr>\n    <tr>\n      <th>C14A</th>\n      <td>0.197504</td>\n      <td>0.160929</td>\n      <td>0.117946</td>\n      <td>0.180558</td>\n    </tr>\n    <tr>\n      <th>C14E</th>\n      <td>0.433234</td>\n      <td>0.542562</td>\n      <td>0.393154</td>\n      <td>0.863539</td>\n    </tr>\n    <tr>\n      <th>C15A</th>\n      <td>0.197504</td>\n      <td>0.160929</td>\n      <td>0.117946</td>\n      <td>0.180558</td>\n    </tr>\n    <tr>\n      <th>C15E</th>\n      <td>0.433234</td>\n      <td>0.542562</td>\n      <td>0.393154</td>\n      <td>0.863539</td>\n    </tr>\n    <tr>\n      <th>C16A</th>\n      <td>0.197504</td>\n      <td>0.160929</td>\n      <td>0.117946</td>\n      <td>0.180558</td>\n    </tr>\n    <tr>\n      <th>C16E</th>\n      <td>0.433234</td>\n      <td>0.542562</td>\n      <td>0.393154</td>\n      <td>0.863539</td>\n    </tr>\n    <tr>\n      <th>C17A</th>\n      <td>0.197504</td>\n      <td>0.160929</td>\n      <td>0.117946</td>\n      <td>0.180558</td>\n    </tr>\n    <tr>\n      <th>C17E</th>\n      <td>0.433234</td>\n      <td>0.542562</td>\n      <td>0.393154</td>\n      <td>0.863539</td>\n    </tr>\n    <tr>\n      <th>C18A</th>\n      <td>0.197504</td>\n      <td>0.160929</td>\n      <td>0.117946</td>\n      <td>0.180558</td>\n    </tr>\n    <tr>\n      <th>C18E</th>\n      <td>0.433234</td>\n      <td>0.542562</td>\n      <td>0.393154</td>\n      <td>0.863539</td>\n    </tr>\n    <tr>\n      <th>C19A</th>\n      <td>0.197504</td>\n      <td>0.160929</td>\n      <td>0.117946</td>\n      <td>0.180558</td>\n    </tr>\n    <tr>\n      <th>C19E</th>\n      <td>0.433234</td>\n      <td>0.542562</td>\n      <td>0.393154</td>\n      <td>0.863539</td>\n    </tr>\n    <tr>\n      <th>C20A</th>\n      <td>0.197504</td>\n      <td>0.160929</td>\n      <td>0.117946</td>\n      <td>0.180558</td>\n    </tr>\n    <tr>\n      <th>C20E</th>\n      <td>0.433234</td>\n      <td>0.542562</td>\n      <td>0.393154</td>\n      <td>0.863539</td>\n    </tr>\n  </tbody>\n</table>\n</div>"
     },
     "execution_count": 35,
     "metadata": {},
     "output_type": "execute_result"
    }
   ],
   "source": [
    "df_oil_processed = df_oil_reordered.copy()\n",
    "\n",
    "# Normalize C5 to C20 based on 'Total'\n",
    "for component in ['C5', 'C6', 'C7', 'C8', 'C9', 'C10', 'C11', 'C12', 'C13', 'C14', 'C15', 'C16', 'C17', 'C18', 'C19', 'C20']:\n",
    "    df_oil_processed.loc[component] = df_oil_reordered.loc[component] / df_oil_reordered.loc['C5':'C20'].sum() * df_oil_reordered.loc['Total']\n",
    "\n",
    "# Distribute components into A and E categories based on %A:E\n",
    "for column in df_oil_processed.columns:\n",
    "    a_ratio = df_oil_reordered.loc['%A:E', column] / (df_oil_reordered.loc['%A:E', column] + 1)\n",
    "    e_ratio = 1 / (df_oil_reordered.loc['%A:E', column] + 1)\n",
    "    for component in range(5, 21):  # C5 to C20\n",
    "        total_value = df_oil_reordered.loc[f'C{component}', column]\n",
    "        df_oil_processed.loc[f'C{component}A', column] = df_oil_processed.loc[f'C{component}', column] * a_ratio\n",
    "        df_oil_processed.loc[f'C{component}E', column] = df_oil_processed.loc[f'C{component}', column] * e_ratio\n",
    "\n",
    "# Drop the original C5 to C20 rows and the 'Total' row, as they are no longer needed\n",
    "df_oil_processed = df_oil_processed.drop(['%A:E','C5', 'C6', 'C7', 'C8', 'C9', 'C10', 'C11', 'C12', 'C13', 'C14', 'C15', 'C16', 'C17', 'C18', 'C19', 'C20', 'Total'])\n",
    "\n",
    "df_oil_processed"
   ],
   "metadata": {
    "collapsed": false,
    "pycharm": {
     "name": "#%%\n"
    }
   }
  },
  {
   "cell_type": "code",
   "execution_count": 36,
   "outputs": [
    {
     "data": {
      "text/plain": "#9    13.7\n#3    19.4\n#4    23.2\n#1    36.7\ndtype: float64"
     },
     "execution_count": 36,
     "metadata": {},
     "output_type": "execute_result"
    }
   ],
   "source": [
    "# df_oil_reordered.loc['C5A':'C20E'].sum()\n",
    "df_oil_processed.loc[\"C5A\":\"C20E\"].sum()"
   ],
   "metadata": {
    "collapsed": false,
    "pycharm": {
     "name": "#%%\n"
    }
   }
  },
  {
   "cell_type": "code",
   "execution_count": 37,
   "outputs": [],
   "source": [
    "reaction_data = pd.concat([df_gas_processed, df_oil_processed, df_wax_processed], axis=0)"
   ],
   "metadata": {
    "collapsed": false,
    "pycharm": {
     "name": "#%%\n"
    }
   }
  },
  {
   "cell_type": "code",
   "execution_count": 38,
   "outputs": [],
   "source": [
    "reaction_data =  reaction_data/100"
   ],
   "metadata": {
    "collapsed": false,
    "pycharm": {
     "name": "#%%\n"
    }
   }
  },
  {
   "cell_type": "code",
   "execution_count": 39,
   "outputs": [],
   "source": [
    "reaction_data.to_csv('data/pyro_dat.csv')"
   ],
   "metadata": {
    "collapsed": false,
    "pycharm": {
     "name": "#%%\n"
    }
   }
  },
  {
   "cell_type": "code",
   "execution_count": 39,
   "outputs": [],
   "source": [],
   "metadata": {
    "collapsed": false,
    "pycharm": {
     "name": "#%%\n"
    }
   }
  }
 ],
 "metadata": {
  "kernelspec": {
   "display_name": "Python 3",
   "language": "python",
   "name": "python3"
  },
  "language_info": {
   "codemirror_mode": {
    "name": "ipython",
    "version": 2
   },
   "file_extension": ".py",
   "mimetype": "text/x-python",
   "name": "python",
   "nbconvert_exporter": "python",
   "pygments_lexer": "ipython2",
   "version": "2.7.6"
  }
 },
 "nbformat": 4,
 "nbformat_minor": 0
}