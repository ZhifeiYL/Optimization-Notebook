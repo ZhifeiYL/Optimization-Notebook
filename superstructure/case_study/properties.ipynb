{
 "cells": [
  {
   "cell_type": "code",
   "execution_count": 1,
   "outputs": [],
   "source": [
    "import numpy as np\n",
    "import pandas as pd\n"
   ],
   "metadata": {
    "collapsed": false,
    "pycharm": {
     "name": "#%%\n"
    }
   }
  },
  {
   "cell_type": "code",
   "execution_count": 2,
   "outputs": [],
   "source": [
    "df = pd.read_csv(\"data/components.csv\", index_col=0)\n",
    "code_list = df.index.to_list()"
   ],
   "metadata": {
    "collapsed": false,
    "pycharm": {
     "name": "#%%\n"
    }
   }
  },
  {
   "cell_type": "code",
   "execution_count": 3,
   "outputs": [
    {
     "name": "stdout",
     "output_type": "stream",
     "text": [
      "       MW  LHV     CN    RON  rho  mu  TB  trace  egen\n",
      "C1A   NaN  NaN    0.0  127.0  NaN NaN NaN      1     1\n",
      "C2A   NaN  NaN  -20.0  111.0  NaN NaN NaN      1     1\n",
      "C3A   NaN  NaN  -20.0  111.0  NaN NaN NaN      0     1\n",
      "C4A   NaN  NaN   21.0   94.0  NaN NaN NaN      0     1\n",
      "C5A   NaN  NaN   30.0   62.0  NaN NaN NaN      0     1\n",
      "C6A   NaN  NaN   45.0   19.0  NaN NaN NaN      0     1\n",
      "C7A   NaN  NaN   56.0    0.0  NaN NaN NaN      0     1\n",
      "C8A   NaN  NaN   58.0    0.0  NaN NaN NaN      0     1\n",
      "C9A   NaN  NaN   61.0    0.0  NaN NaN NaN      0     1\n",
      "C10A  NaN  NaN   66.0    0.0  NaN NaN NaN      0     1\n",
      "C11A  NaN  NaN   79.0    0.0  NaN NaN NaN      0     1\n",
      "C12A  NaN  NaN   73.0    0.0  NaN NaN NaN      0     1\n",
      "C13A  NaN  NaN   88.0    0.0  NaN NaN NaN      0     1\n",
      "C14A  NaN  NaN   95.0    0.0  NaN NaN NaN      0     1\n",
      "C15A  NaN  NaN   98.0    0.0  NaN NaN NaN      0     1\n",
      "C16A  NaN  NaN  100.0    0.0  NaN NaN NaN      0     1\n",
      "C17A  NaN  NaN  100.0    0.0  NaN NaN NaN      0     1\n",
      "C18A  NaN  NaN  110.0    0.0  NaN NaN NaN      0     1\n",
      "C19A  NaN  NaN  110.0    0.0  NaN NaN NaN      0     1\n",
      "C20A  NaN  NaN  112.0    0.0  NaN NaN NaN      0     1\n",
      "C21A  NaN  NaN   83.0    0.0  NaN NaN NaN      0     1\n",
      "C22A  NaN  NaN   83.0    0.0  NaN NaN NaN      1     1\n",
      "H2    NaN  NaN    NaN    NaN  NaN NaN NaN      1     1\n",
      "LDPE  NaN  NaN    NaN    NaN  NaN NaN NaN      1     0\n",
      "HDPE  NaN  NaN    NaN    NaN  NaN NaN NaN      1     0\n",
      "PP    NaN  NaN    NaN    NaN  NaN NaN NaN      1     0\n",
      "WASTE NaN  NaN    NaN    NaN  NaN NaN NaN      1     0\n",
      "C2E   NaN  NaN   13.0   97.0  NaN NaN NaN      0     1\n",
      "C3E   NaN  NaN   11.0  102.0  NaN NaN NaN      0     1\n",
      "C4E   NaN  NaN   17.0   92.9  NaN NaN NaN      0     1\n",
      "C5E   NaN  NaN   20.0   88.0  NaN NaN NaN      0     1\n",
      "C6E   NaN  NaN   27.0   76.0  NaN NaN NaN      0     1\n",
      "C7E   NaN  NaN   32.0   55.0  NaN NaN NaN      0     1\n",
      "C8E   NaN  NaN   41.0   29.0  NaN NaN NaN      0     1\n",
      "C9E   NaN  NaN   51.0   11.0  NaN NaN NaN      0     1\n",
      "C10E  NaN  NaN   49.0   18.0  NaN NaN NaN      0     1\n",
      "C11E  NaN  NaN   65.0    0.0  NaN NaN NaN      0     1\n",
      "C12E  NaN  NaN   57.0    0.0  NaN NaN NaN      0     1\n",
      "C13E  NaN  NaN   57.0    0.0  NaN NaN NaN      0     1\n",
      "C14E  NaN  NaN   83.0    0.0  NaN NaN NaN      0     1\n",
      "C15E  NaN  NaN   76.0    0.0  NaN NaN NaN      0     1\n",
      "C16E  NaN  NaN   76.0    0.0  NaN NaN NaN      0     1\n",
      "C17E  NaN  NaN   76.0    0.0  NaN NaN NaN      0     1\n",
      "C18E  NaN  NaN   90.0    0.0  NaN NaN NaN      0     1\n",
      "C19E  NaN  NaN   90.0    0.0  NaN NaN NaN      0     1\n",
      "C20E  NaN  NaN   90.0    0.0  NaN NaN NaN      0     1\n"
     ]
    }
   ],
   "source": [
    "print(df)"
   ],
   "metadata": {
    "collapsed": false,
    "pycharm": {
     "name": "#%%\n"
    }
   }
  },
  {
   "cell_type": "code",
   "execution_count": 4,
   "outputs": [
    {
     "name": "stdout",
     "output_type": "stream",
     "text": [
      "                 0       1          2         3         4         5   \\\n",
      "Parameters      API  CHARGE      DCPLS    DGFORM    DGSFRM    DHAQFM   \n",
      "Units           NaN     NaN  CAL/MOL-K  KCAL/MOL  KCAL/MOL  KCAL/MOL   \n",
      "Data set          1       1          1         1         1         1   \n",
      "C1A           340.0     0.0    2.33042  -12.0593       0.0  -21.2668   \n",
      "C2A           265.5     0.0    1.77345  -7.62396       0.0  -24.3838   \n",
      "C3A           147.2     0.0     7.6161  -5.82545       0.0       0.0   \n",
      "C4A           110.6     0.0     6.2988  -3.98873       0.0       0.0   \n",
      "C5A            92.8     0.0    9.63022  -2.10495       0.0       0.0   \n",
      "C6A            81.6     0.0    10.3988 -0.015845       0.0       0.0   \n",
      "C7A            74.1     0.0    12.7346   1.95018       0.0       0.0   \n",
      "C8A            68.7     0.0    11.9442   3.82153       0.0       0.0   \n",
      "C9A            64.6     NaN    13.0775   5.96637       0.0       0.0   \n",
      "C10A           61.2     NaN    12.5089   7.92491       0.0       0.0   \n",
      "C11A           58.6     NaN    14.3271    9.8309       0.0       0.0   \n",
      "C12A           56.5     NaN    15.0223   11.8969       0.0       0.0   \n",
      "C13A           54.6     0.0    6.42278   13.7838       0.0       0.0   \n",
      "C14A           53.0     0.0    16.3604   15.7614       0.0       0.0   \n",
      "C15A           51.8     0.0     2.9641   17.7367       0.0       0.0   \n",
      "C16A           50.6     0.0    17.0385   19.6236       0.0       0.0   \n",
      "C17A           49.5     0.0    12.2806   21.6944       0.0       0.0   \n",
      "C18A           48.6     0.0    17.3027   23.6696    14.369       0.0   \n",
      "C19A           47.8     0.0    11.3713    25.652   15.4696       0.0   \n",
      "C20A           47.1     0.0    1.17252   27.6345   16.9688       0.0   \n",
      "C21A        46.4084     0.0    8.48137   29.3542   17.8862       0.0   \n",
      "C22A        45.7935     0.0    21.0526   31.2172   19.0941       0.0   \n",
      "H2            340.0     0.0    1.64617       0.0       0.0  -1.00315   \n",
      "LDPE            NaN     0.0        0.0       0.0       0.0       0.0   \n",
      "HDPE            NaN     0.0        0.0       0.0       0.0       0.0   \n",
      "PP              NaN     0.0        0.0       0.0       0.0       0.0   \n",
      "H2O            10.0     NaN    9.08288  -54.5935  -56.5492       0.0   \n",
      "O2            340.0     0.0        NaN       0.0       0.0   -2.7945   \n",
      "CO2           340.0     0.0    3.40556  -94.1937       0.0  -98.8344   \n",
      "N2            340.0     0.0     2.1353       0.0       0.0       0.0   \n",
      "C2E           265.5     0.0        NaN   16.3466       0.0   8.68444   \n",
      "C3E           139.6     0.0    6.99864   14.9613       0.0       0.0   \n",
      "C4E           103.8     0.0    11.3684   16.8171       0.0       0.0   \n",
      "C5E            87.6     0.0    11.8137   18.7184       0.0       0.0   \n",
      "C6E            77.2     0.0    12.3181   20.7796       0.0       0.0   \n",
      "C7E            70.2     0.0    12.5569   22.6474       0.0       0.0   \n",
      "C8E            65.2     0.0    14.8535    25.246       0.0       0.0   \n",
      "C9E            61.4     0.0    14.4384   26.8224       0.0       0.0   \n",
      "C10E           58.4     0.0    76.2861   29.3064       0.0       0.0   \n",
      "C11E           56.1     0.0    94.0711   30.6439       0.0       0.0   \n",
      "C12E           54.1     0.0    79.7631   32.5069       0.0       0.0   \n",
      "C13E           52.4     0.0    14.4949   35.1103       0.0       0.0   \n",
      "C14E           51.0     0.0     14.093   36.9972       0.0       0.0   \n",
      "C15E           49.8     0.0    13.0811   37.9765       0.0       0.0   \n",
      "C16E           48.8     0.0    6.91402   40.0186       0.0       0.0   \n",
      "C17E        47.6289     0.0    12.1092   42.4429       0.0       0.0   \n",
      "C18E        47.4474     0.0    12.3041   44.4015       0.0       0.0   \n",
      "C19E        46.7294     0.0     11.648     46.36       0.0       0.0   \n",
      "C20E        46.1403     0.0    11.5787   48.3185   48.0319       0.0   \n",
      "\n",
      "                  6         7         8     9   ...       36      37       38  \\\n",
      "Parameters    DHFORM    DHSFRM     DHVLB  DLWC  ...      TPT  TREFHS       VB   \n",
      "Units       KCAL/MOL  KCAL/MOL  KCAL/MOL   NaN  ...        C       C   CC/MOL   \n",
      "Data set           1         1         1     1  ...        1       1        1   \n",
      "C1A         -17.7988       0.0   1.95168   1.0  ... -182.456    25.0  37.9694   \n",
      "C2A         -20.0201       0.0   3.50568   1.0  ... -182.798    25.0  55.2291   \n",
      "C3A         -25.0024       0.0   4.47662   1.0  ...  -187.68    25.0     75.7   \n",
      "C4A         -30.0444 -0.002388   5.35098   1.0  ...  -138.29    25.0  96.4836   \n",
      "C5A          -35.053 -0.002388   6.15164   1.0  ...  -129.73    25.0   118.19   \n",
      "C6A         -39.8729 -0.002388   6.87919   1.0  ...   -95.32    25.0  140.207   \n",
      "C7A         -44.8194 -0.002388   7.58109   1.0  ...   -90.58    25.0  163.028   \n",
      "C8A         -49.8591 -0.002388   8.25771   1.0  ...   -56.77    25.0  186.401   \n",
      "C9A         -54.6336 -0.002388    8.8983   1.0  ...   -53.49    25.0  210.726   \n",
      "C10A        -59.5825 -0.002388   9.41755   1.0  ...   -29.64    25.0  235.875   \n",
      "C11A        -64.5911       0.0   10.0066   1.0  ...  -25.579    25.0  261.356   \n",
      "C12A        -69.4373       0.0   10.5391   1.0  ...   -9.582    25.0  287.144   \n",
      "C13A         -74.465       0.0   11.0603   1.0  ...    -5.39    25.0  315.168   \n",
      "C14A        -79.4019       0.0   11.5017   1.0  ...     5.86    25.0  341.089   \n",
      "C15A        -84.3389       0.0    11.691   1.0  ...    9.922    25.0  368.713   \n",
      "C16A         -89.369       0.0   12.3836   1.0  ...   18.158    25.0  396.135   \n",
      "C17A        -94.2128       0.0   12.9012   1.0  ...   21.984    25.0  424.435   \n",
      "C18A        -99.1497  -135.459   13.2794   1.0  ...    28.16    25.0  453.686   \n",
      "C19A        -104.087  -142.402   13.6433   1.0  ...    31.89    25.0  482.233   \n",
      "C20A        -109.024  -148.947   13.7055   1.0  ...    36.43    25.0  515.334   \n",
      "C21A        -114.121  -156.074   13.9703   1.0  ...     40.2    25.0  542.428   \n",
      "C22A        -119.065   -162.91   14.2282   1.0  ...     44.0    25.0  573.063   \n",
      "H2               0.0       0.0  0.214136   1.0  ...   -259.2    25.0  28.5681   \n",
      "LDPE             0.0  -6.92653       NaN   1.0  ...      NaN    25.0  140.903   \n",
      "HDPE             0.0  -6.92653       NaN   1.0  ...      NaN    25.0  140.903   \n",
      "PP               0.0       0.0       NaN   1.0  ...      NaN    25.0  140.903   \n",
      "H2O         -57.7572  -69.9627   9.71952   1.0  ...     0.01    25.0  18.8311   \n",
      "O2               0.0       0.0   1.62063   1.0  ... -218.789    25.0  28.0225   \n",
      "CO2         -93.9882       0.0   3.90998   1.0  ...   -56.57    25.0  35.0189   \n",
      "N2               0.0       0.0   1.32997   1.0  ... -210.001    25.0  34.6723   \n",
      "C2E          12.5418       0.0   3.22134   1.0  ...  -169.15    25.0  49.3214   \n",
      "C3E          4.83185       0.0   4.47399   1.0  ...  -185.26    25.0  68.8009   \n",
      "C4E        -0.119423 -0.002388   5.26674   1.0  ...  -185.35    25.0  89.6971   \n",
      "C5E         -5.16385 -0.002388   5.99711   1.0  ... -165.134    25.0  111.301   \n",
      "C6E         -9.95271       0.0   6.96484   1.0  ...  -139.76    25.0   133.34   \n",
      "C7E          -15.021       0.0   7.49766   1.0  ...  -119.03    25.0  155.762   \n",
      "C8E          -19.571       0.0   8.12112   1.0  ...   -101.7    25.0  179.176   \n",
      "C9E         -24.7206 -0.002388   8.85404   1.0  ...   -81.24    25.0  203.401   \n",
      "C10E        -29.7841       0.0   9.45746   1.0  ...   -66.25    25.0  228.171   \n",
      "C11E        -34.6088 -0.002388   10.0136   1.0  ...   -49.16    25.0  253.437   \n",
      "C12E        -39.5051 -0.002388   10.5571   1.0  ...    -35.2    25.0  279.118   \n",
      "C13E        -44.4731 -0.002388   11.0618   1.0  ...   -23.07    25.0  306.115   \n",
      "C14E        -49.3933 -0.002388   11.5774   1.0  ...   -12.85    25.0  333.069   \n",
      "C15E        -54.4569 -0.002388   11.8276   1.0  ...    -3.73    25.0  360.698   \n",
      "C16E        -59.6135 -0.002388   12.0995   1.0  ...     4.36    25.0  388.468   \n",
      "C17E        -64.3212       0.0   12.3906   1.0  ...    11.25    25.0  417.688   \n",
      "C18E        -69.2653 -0.002388   12.7919   1.0  ...    17.61    25.0  447.721   \n",
      "C19E        -74.2094       0.0   13.1665   1.0  ...     23.4    25.0  476.516   \n",
      "C20E        -79.1296   -111.35    13.592   1.0  ...    28.61    25.0  506.738   \n",
      "\n",
      "                 39       40       41       42     43      44       45  \n",
      "Parameters       VC    VCRKT   VCTRAP    VLSTD     ZC  ZCTRAP  ZWITTER  \n",
      "Units        CC/MOL   CC/MOL   CC/MOL   CC/MOL    NaN     NaN      NaN  \n",
      "Data set          1        1        1        1      1       1        1  \n",
      "C1A            98.6     98.6     98.6  53.5578  0.286   0.286      0.0  \n",
      "C2A           145.5    145.5    145.5  84.7116  0.279   0.279      0.0  \n",
      "C3A           200.0    200.0    200.0  87.1442  0.276   0.276      0.0  \n",
      "C4A           255.0    255.0    255.0  99.7132  0.274   0.274      0.0  \n",
      "C5A           313.0    313.0    313.0   114.67   0.27    0.27      0.0  \n",
      "C6A           371.0    371.0    371.0  130.138  0.266   0.266      0.0  \n",
      "C7A           428.0    428.0    428.0  145.988  0.261   0.261      0.0  \n",
      "C8A           486.0    486.0    486.0  162.038  0.256   0.256      0.0  \n",
      "C9A           551.0    551.0    551.0   178.17  0.255   0.255      0.0  \n",
      "C10A          617.0    617.0    617.0  194.283  0.254   0.254      0.0  \n",
      "C11A          685.0    685.0    685.0  210.518  0.252   0.252      0.0  \n",
      "C12A          755.0    755.0    755.0  226.869  0.251   0.251      0.0  \n",
      "C13A          826.0    826.0    826.0  243.105  0.247   0.247      0.0  \n",
      "C14A          897.0    897.0    897.0   259.36  0.244   0.244      0.0  \n",
      "C15A          969.0    969.0    969.0  275.797  0.244   0.244      0.0  \n",
      "C16A         1040.0   1040.0   1040.0  291.997  0.243   0.243      0.0  \n",
      "C17A         1110.0   1110.0   1110.0   308.37  0.244   0.244      0.0  \n",
      "C18A         1190.0   1190.0   1190.0  324.748  0.243   0.243      0.0  \n",
      "C19A         1260.0   1260.0   1260.0  341.048  0.242   0.242      0.0  \n",
      "C20A         1340.0   1340.0   1340.0  357.414  0.243   0.243      0.0  \n",
      "C21A         1410.0   1410.0   1410.0  374.583  0.242   0.242      0.0  \n",
      "C22A         1480.0   1480.0   1480.0   390.74   0.24    0.24      0.0  \n",
      "H2           64.147   64.147   64.147  53.5578  0.305   0.305      0.0  \n",
      "LDPE          100.0  369.445    100.0  298.906    0.2     0.2      0.0  \n",
      "HDPE          100.0  369.445    100.0  298.906    0.2     0.2      0.0  \n",
      "PP            100.0  369.445    100.0  298.906    0.2     0.2      0.0  \n",
      "H2O         55.9472  55.9472  55.9472    18.05  0.229   0.229      0.0  \n",
      "O2             73.4     73.4     73.4  53.5578  0.288   0.288      0.0  \n",
      "CO2            94.0     94.0     94.0  53.5578  0.274   0.274      0.0  \n",
      "N2            89.21    89.21    89.21  53.5578  0.289   0.289      0.0  \n",
      "C2E           131.0    131.0    131.0  84.7116  0.281   0.281      0.0  \n",
      "C3E           185.0    185.0    185.0  80.8566  0.281   0.281      0.0  \n",
      "C4E           241.0    241.0    241.0  93.5802  0.278   0.278      0.0  \n",
      "C5E           293.4    293.4    293.4  108.915   0.27    0.27      0.0  \n",
      "C6E           348.0    348.0    348.0  124.474  0.267   0.267      0.0  \n",
      "C7E           402.0    402.0    402.0  140.333  0.263   0.263      0.0  \n",
      "C8E           464.0    464.0    464.0  156.406  0.262   0.262      0.0  \n",
      "C9E           524.0    524.0    524.0  172.566  0.258   0.258      0.0  \n",
      "C10E          584.0    584.0    584.0  188.733  0.253   0.253      0.0  \n",
      "C11E          657.0    657.0    657.0  205.024  0.253   0.253      0.0  \n",
      "C12E          725.0    725.0    725.0  221.298  0.251   0.251      0.0  \n",
      "C13E          795.0    795.0    795.0  237.643  0.248   0.248      0.0  \n",
      "C14E          865.0    865.0    865.0  253.901  0.245   0.245      0.0  \n",
      "C15E          936.0    936.0    936.0  270.251   0.25    0.25      0.0  \n",
      "C16E         1008.0   1008.0   1008.0  286.563  0.249   0.249      0.0  \n",
      "C17E         1080.0   1080.0   1080.0  305.137  0.249   0.249      0.0  \n",
      "C18E         1153.0   1153.0   1153.0  322.151  0.248   0.248      0.0  \n",
      "C19E         1226.0   1226.0   1226.0  338.082  0.248   0.248      0.0  \n",
      "C20E         1300.0   1300.0   1300.0  352.463  0.247   0.247      0.0  \n",
      "\n",
      "[52 rows x 46 columns]\n"
     ]
    }
   ],
   "source": [
    "df_aspen1 = pd.read_excel(\"data/aspen_data1.xlsx\", sheet_name=0).T\n",
    "df_aspen1.index = [index if i < 2 else index.replace(\"Component \", \"\") for i, index in enumerate(df_aspen1.index)]\n",
    "print(df_aspen1)"
   ],
   "metadata": {
    "collapsed": false,
    "pycharm": {
     "name": "#%%\n"
    }
   }
  },
  {
   "cell_type": "code",
   "execution_count": 5,
   "outputs": [
    {
     "name": "stdout",
     "output_type": "stream",
     "text": [
      "Parameters         TB\n",
      "Units               C\n",
      "Data set            1\n",
      "C1A           -161.49\n",
      "C2A             -88.6\n",
      "C3A            -42.04\n",
      "C4A              -0.5\n",
      "C5A             36.07\n",
      "C6A             68.73\n",
      "C7A             98.43\n",
      "C8A            125.68\n",
      "C9A            150.82\n",
      "C10A          174.155\n",
      "C11A          195.928\n",
      "C12A          216.323\n",
      "C13A          235.466\n",
      "C14A          253.577\n",
      "C15A          270.685\n",
      "C16A          286.864\n",
      "C17A           302.15\n",
      "C18A           316.71\n",
      "C19A            329.9\n",
      "C20A           343.78\n",
      "C21A            356.5\n",
      "C22A            368.6\n",
      "H2            -252.76\n",
      "LDPE            68.75\n",
      "HDPE            68.75\n",
      "PP              68.75\n",
      "H2O             100.0\n",
      "O2           -182.962\n",
      "CO2            -78.45\n",
      "N2           -195.806\n",
      "C2E           -103.74\n",
      "C3E             -47.7\n",
      "C4E             -6.24\n",
      "C5E             30.07\n",
      "C6E             63.48\n",
      "C7E             93.64\n",
      "C8E            121.26\n",
      "C9E           146.868\n",
      "C10E            170.6\n",
      "C11E           192.67\n",
      "C12E            213.0\n",
      "C13E           232.84\n",
      "C14E            251.1\n",
      "C15E           268.46\n",
      "C16E           284.87\n",
      "C17E           300.33\n",
      "C18E           314.82\n",
      "C19E           329.02\n",
      "C20E           342.39\n",
      "Name: 31, dtype: object\n"
     ]
    }
   ],
   "source": [
    "print(df_aspen1[31])"
   ],
   "metadata": {
    "collapsed": false,
    "pycharm": {
     "name": "#%%\n"
    }
   }
  },
  {
   "cell_type": "code",
   "execution_count": 6,
   "outputs": [
    {
     "data": {
      "text/plain": "{'C1A': 16.0428,\n 'C2A': 30.0696,\n 'C3A': 44.0965,\n 'C4A': 58.1234,\n 'C5A': 72.1503,\n 'C6A': 86.1772,\n 'C7A': 100.204,\n 'C8A': 114.231,\n 'C9A': 128.258,\n 'C10A': 142.285,\n 'C11A': 156.312,\n 'C12A': 170.338,\n 'C13A': 184.365,\n 'C14A': 198.392,\n 'C15A': 212.419,\n 'C16A': 226.446,\n 'C17A': 240.473,\n 'C18A': 254.5,\n 'C19A': 268.527,\n 'C20A': 282.553,\n 'C21A': 296.58,\n 'C22A': 310.607,\n 'H2': 2.01588,\n 'LDPE': 28.0538,\n 'HDPE': 28.0538,\n 'PP': 42.0806,\n 'H2O': 18.0153,\n 'O2': 31.9988,\n 'CO2': 44.0098,\n 'N2': 28.0135,\n 'C2E': 28.0538,\n 'C3E': 42.0806,\n 'C4E': 56.1075,\n 'C5E': 70.1344,\n 'C6E': 84.1613,\n 'C7E': 98.1882,\n 'C8E': 112.215,\n 'C9E': 126.242,\n 'C10E': 140.269,\n 'C11E': 154.296,\n 'C12E': 168.323,\n 'C13E': 182.349,\n 'C14E': 196.376,\n 'C15E': 210.403,\n 'C16E': 224.43,\n 'C17E': 238.457,\n 'C18E': 252.484,\n 'C19E': 266.511,\n 'C20E': 280.538}"
     },
     "execution_count": 6,
     "metadata": {},
     "output_type": "execute_result"
    }
   ],
   "source": [
    "MW = df_aspen1.iloc[3:,16:17]\n",
    "MW = MW.to_dict()[16]\n",
    "MW # g/mol"
   ],
   "metadata": {
    "collapsed": false,
    "pycharm": {
     "name": "#%%\n"
    }
   }
  },
  {
   "cell_type": "code",
   "execution_count": 7,
   "outputs": [
    {
     "data": {
      "text/plain": "{'C1A': -74.4701792,\n 'C2A': -83.7640984,\n 'C3A': -104.61004160000002,\n 'C4A': -125.7057696,\n 'C5A': -146.661752,\n 'C6A': -166.8282136,\n 'C7A': -187.52436960000003,\n 'C8A': -208.6104744,\n 'C9A': -228.5869824,\n 'C10A': -249.29318000000004,\n 'C11A': -270.2491624,\n 'C12A': -290.5256632,\n 'C13A': -311.56156000000004,\n 'C14A': -332.2175496,\n 'C15A': -352.8739576,\n 'C16A': -373.919896,\n 'C17A': -394.18635520000004,\n 'C18A': -414.8423448,\n 'C19A': -435.50000800000004,\n 'C20A': -456.15641600000004,\n 'C21A': -477.482264,\n 'C22A': -498.16796,\n 'H2': 0.0,\n 'LDPE': 0.0,\n 'HDPE': 0.0,\n 'PP': 0.0,\n 'H2O': -241.6561248,\n 'O2': 0.0,\n 'CO2': -393.24662880000005,\n 'N2': 0.0,\n 'C2E': 52.4748912,\n 'C3E': 20.216460400000003,\n 'C4E': -0.49966583200000003,\n 'C5E': -21.6055484,\n 'C6E': -41.64213864,\n 'C7E': -62.84786400000001,\n 'C8E': -81.88506400000001,\n 'C9E': -103.43099040000001,\n 'C10E': -124.6166744,\n 'C11E': -144.8032192,\n 'C12E': -165.2893384,\n 'C13E': -186.07545040000002,\n 'C14E': -206.66156720000004,\n 'C15E': -227.8476696,\n 'C16E': -249.422884,\n 'C17E': -269.11990080000004,\n 'C18E': -289.8060152,\n 'C19E': -310.4921296,\n 'C20E': -331.0782464}"
     },
     "execution_count": 7,
     "metadata": {},
     "output_type": "execute_result"
    }
   ],
   "source": [
    "dH = df_aspen1.iloc[3:,6:7] * 4.184 # convert from kcal/mol to kj/mol\n",
    "dH = dH.to_dict()[6]\n",
    "dH # kcal/mol"
   ],
   "metadata": {
    "collapsed": false,
    "pycharm": {
     "name": "#%%\n"
    }
   }
  },
  {
   "cell_type": "code",
   "execution_count": 8,
   "outputs": [
    {
     "data": {
      "text/plain": "{'C1A': -161.49,\n 'C2A': -88.6,\n 'C3A': -42.04,\n 'C4A': -0.5,\n 'C5A': 36.07,\n 'C6A': 68.73,\n 'C7A': 98.43,\n 'C8A': 125.68,\n 'C9A': 150.82,\n 'C10A': 174.155,\n 'C11A': 195.928,\n 'C12A': 216.323,\n 'C13A': 235.466,\n 'C14A': 253.577,\n 'C15A': 270.685,\n 'C16A': 286.864,\n 'C17A': 302.15,\n 'C18A': 316.71,\n 'C19A': 329.9,\n 'C20A': 343.78,\n 'C21A': 356.5,\n 'C22A': 368.6,\n 'H2': -252.76,\n 'LDPE': 68.75,\n 'HDPE': 68.75,\n 'PP': 68.75,\n 'H2O': 100.0,\n 'O2': -182.962,\n 'CO2': -78.45,\n 'N2': -195.806,\n 'C2E': -103.74,\n 'C3E': -47.7,\n 'C4E': -6.24,\n 'C5E': 30.07,\n 'C6E': 63.48,\n 'C7E': 93.64,\n 'C8E': 121.26,\n 'C9E': 146.868,\n 'C10E': 170.6,\n 'C11E': 192.67,\n 'C12E': 213.0,\n 'C13E': 232.84,\n 'C14E': 251.1,\n 'C15E': 268.46,\n 'C16E': 284.87,\n 'C17E': 300.33,\n 'C18E': 314.82,\n 'C19E': 329.02,\n 'C20E': 342.39}"
     },
     "execution_count": 8,
     "metadata": {},
     "output_type": "execute_result"
    }
   ],
   "source": [
    "TB = df_aspen1.iloc[3:,31:32]\n",
    "TB = TB.to_dict()[31]\n",
    "TB # C"
   ],
   "metadata": {
    "collapsed": false,
    "pycharm": {
     "name": "#%%\n"
    }
   }
  },
  {
   "cell_type": "code",
   "execution_count": 9,
   "outputs": [
    {
     "name": "stdout",
     "output_type": "stream",
     "text": [
      "           0        1\n",
      "TEMP       C       25\n",
      "PRES     bar  1.01325\n",
      "C1A   kg/cum  116.809\n",
      "C2A   kg/cum  148.171\n",
      "C3A   kg/cum  507.475\n",
      "C4A   kg/cum  601.466\n",
      "C5A   kg/cum  640.857\n",
      "C6A   kg/cum  661.502\n",
      "C7A   kg/cum  672.361\n",
      "C8A   kg/cum  674.769\n",
      "C9A   kg/cum  676.357\n",
      "C10A  kg/cum  673.583\n",
      "C11A  kg/cum  667.209\n",
      "C12A  kg/cum  664.365\n",
      "C13A  kg/cum   651.25\n",
      "C14A  kg/cum  641.278\n",
      "C15A  kg/cum  636.785\n",
      "C16A  kg/cum   631.42\n",
      "C17A  kg/cum   633.21\n",
      "C18A  kg/cum  627.852\n",
      "C19A  kg/cum  623.894\n",
      "C20A  kg/cum  623.113\n",
      "C21A  kg/cum  619.252\n",
      "C22A  kg/cum  613.434\n",
      "H2    kg/cum  24.1002\n",
      "LDPE  kg/cum      NaN\n",
      "HDPE  kg/cum      NaN\n",
      "PP    kg/cum      NaN\n",
      "H2O   kg/cum   848.65\n",
      "O2    kg/cum  315.174\n",
      "CO2   kg/cum  328.782\n",
      "N2    kg/cum  227.975\n",
      "C2E   kg/cum  150.948\n",
      "C3E   kg/cum  519.064\n",
      "C4E   kg/cum  615.347\n",
      "C5E   kg/cum  660.126\n",
      "C6E   kg/cum  687.114\n",
      "C7E   kg/cum  704.146\n",
      "C8E   kg/cum  710.058\n",
      "C9E   kg/cum  706.808\n",
      "C10E  kg/cum  699.958\n",
      "C11E  kg/cum  691.036\n",
      "C12E  kg/cum  681.196\n",
      "C13E  kg/cum  670.371\n",
      "C14E  kg/cum  659.686\n",
      "C15E  kg/cum  668.942\n",
      "C16E  kg/cum  662.556\n",
      "C17E  kg/cum  660.182\n",
      "C18E  kg/cum  656.009\n",
      "C19E  kg/cum  653.041\n",
      "C20E  kg/cum  647.843\n"
     ]
    },
    {
     "data": {
      "text/plain": "{'C2A': 148.171,\n 'C3A': 507.475,\n 'C4A': 601.466,\n 'C5A': 640.857,\n 'C6A': 661.502,\n 'C7A': 672.361,\n 'C8A': 674.769,\n 'C9A': 676.357,\n 'C10A': 673.583,\n 'C11A': 667.209,\n 'C12A': 664.365,\n 'C13A': 651.25,\n 'C14A': 641.278,\n 'C15A': 636.785,\n 'C16A': 631.42,\n 'C17A': 633.21,\n 'C18A': 627.852,\n 'C19A': 623.894,\n 'C20A': 623.113,\n 'C21A': 619.252,\n 'C22A': 613.434,\n 'H2': 24.1002,\n 'LDPE': nan,\n 'HDPE': nan,\n 'PP': nan,\n 'H2O': 848.65,\n 'O2': 315.174,\n 'CO2': 328.782,\n 'N2': 227.975,\n 'C2E': 150.948,\n 'C3E': 519.064,\n 'C4E': 615.347,\n 'C5E': 660.126,\n 'C6E': 687.114,\n 'C7E': 704.146,\n 'C8E': 710.058,\n 'C9E': 706.808,\n 'C10E': 699.958,\n 'C11E': 691.036,\n 'C12E': 681.196,\n 'C13E': 670.371,\n 'C14E': 659.686,\n 'C15E': 668.942,\n 'C16E': 662.556,\n 'C17E': 660.182,\n 'C18E': 656.009,\n 'C19E': 653.041,\n 'C20E': 647.843}"
     },
     "execution_count": 9,
     "metadata": {},
     "output_type": "execute_result"
    }
   ],
   "source": [
    "df_aspen2 = pd.read_excel(\"data/aspen_data2.xlsx\", sheet_name=0).T\n",
    "df_aspen2.index = [index if i < 2 else index.replace(\"LIQUID RHO \", \"\") for i, index in enumerate(df_aspen2.index)]\n",
    "print(df_aspen2)\n",
    "\n",
    "rho = df_aspen2.iloc[3:,1:2]\n",
    "rho = rho.to_dict()[1]\n",
    "rho # kg/cm^3"
   ],
   "metadata": {
    "collapsed": false,
    "pycharm": {
     "name": "#%%\n"
    }
   }
  },
  {
   "cell_type": "code",
   "execution_count": 10,
   "outputs": [
    {
     "name": "stdout",
     "output_type": "stream",
     "text": [
      "           0         1\n",
      "TEMP       C        25\n",
      "PRES     bar   1.01325\n",
      "C1A   Pa-sec  0.000016\n",
      "C2A   Pa-sec  0.000016\n",
      "C3A   Pa-sec  0.000089\n",
      "C4A   Pa-sec  0.000152\n",
      "C5A   Pa-sec  0.000222\n",
      "C6A   Pa-sec  0.000306\n",
      "C7A   Pa-sec  0.000405\n",
      "C8A   Pa-sec  0.000528\n",
      "C9A   Pa-sec  0.000679\n",
      "C10A  Pa-sec  0.000875\n",
      "C11A  Pa-sec  0.001092\n",
      "C12A  Pa-sec  0.001386\n",
      "C13A  Pa-sec  0.001704\n",
      "C14A  Pa-sec  0.002057\n",
      "C15A  Pa-sec  0.002606\n",
      "C16A  Pa-sec  0.003207\n",
      "C17A  Pa-sec  0.004224\n",
      "C18A  Pa-sec  0.005262\n",
      "C19A  Pa-sec  0.006645\n",
      "C20A  Pa-sec  0.008846\n",
      "C21A  Pa-sec   0.01108\n",
      "C22A  Pa-sec  0.013527\n",
      "H2    Pa-sec   0.00001\n",
      "LDPE  Pa-sec       NaN\n",
      "HDPE  Pa-sec       NaN\n",
      "PP    Pa-sec       NaN\n",
      "H2O   Pa-sec   0.00116\n",
      "O2    Pa-sec  0.000029\n",
      "CO2   Pa-sec  0.000026\n",
      "N2    Pa-sec  0.000024\n",
      "C2E   Pa-sec  0.000016\n",
      "C3E   Pa-sec  0.000087\n",
      "C4E   Pa-sec  0.000147\n",
      "C5E   Pa-sec  0.000215\n",
      "C6E   Pa-sec  0.000299\n",
      "C7E   Pa-sec  0.000409\n",
      "C8E   Pa-sec  0.000538\n",
      "C9E   Pa-sec  0.000688\n",
      "C10E  Pa-sec  0.000866\n",
      "C11E  Pa-sec  0.001089\n",
      "C12E  Pa-sec  0.001354\n",
      "C13E  Pa-sec  0.001697\n",
      "C14E  Pa-sec  0.002113\n",
      "C15E  Pa-sec  0.002692\n",
      "C16E  Pa-sec  0.003392\n",
      "C17E  Pa-sec  0.004127\n",
      "C18E  Pa-sec  0.005237\n",
      "C19E  Pa-sec  0.006627\n",
      "C20E  Pa-sec  0.008638\n"
     ]
    },
    {
     "data": {
      "text/plain": "{'C2A': 1.64248e-05,\n 'C3A': 8.92037e-05,\n 'C4A': 0.000151739,\n 'C5A': 0.000221717,\n 'C6A': 0.000305628,\n 'C7A': 0.000405255,\n 'C8A': 0.000527694,\n 'C9A': 0.000678796,\n 'C10A': 0.000875499,\n 'C11A': 0.00109191,\n 'C12A': 0.00138564,\n 'C13A': 0.00170364,\n 'C14A': 0.00205668,\n 'C15A': 0.00260551,\n 'C16A': 0.00320705,\n 'C17A': 0.0042244,\n 'C18A': 0.0052618,\n 'C19A': 0.00664516,\n 'C20A': 0.00884557,\n 'C21A': 0.0110799,\n 'C22A': 0.0135275,\n 'H2': 9.70976e-06,\n 'LDPE': nan,\n 'HDPE': nan,\n 'PP': nan,\n 'H2O': 0.00116013,\n 'O2': 2.92201e-05,\n 'CO2': 2.59653e-05,\n 'N2': 2.4497e-05,\n 'C2E': 1.6473e-05,\n 'C3E': 8.69034e-05,\n 'C4E': 0.000146594,\n 'C5E': 0.000214598,\n 'C6E': 0.000299108,\n 'C7E': 0.000408502,\n 'C8E': 0.000538396,\n 'C9E': 0.000687704,\n 'C10E': 0.000865505,\n 'C11E': 0.00108894,\n 'C12E': 0.0013537,\n 'C13E': 0.00169692,\n 'C14E': 0.00211349,\n 'C15E': 0.00269171,\n 'C16E': 0.0033924,\n 'C17E': 0.00412719,\n 'C18E': 0.00523676,\n 'C19E': 0.00662728,\n 'C20E': 0.00863757}"
     },
     "execution_count": 10,
     "metadata": {},
     "output_type": "execute_result"
    }
   ],
   "source": [
    "df_aspen3 = pd.read_excel(\"data/aspen_data2.xlsx\", sheet_name=1).T\n",
    "df_aspen3.index = [index if i < 2 else index.replace(\"LIQUID MU \", \"\") for i, index in enumerate(df_aspen3.index)]\n",
    "print(df_aspen3)\n",
    "\n",
    "mu = df_aspen3.iloc[3:,1:2]\n",
    "mu = mu.to_dict()[1]\n",
    "mu # Pa-sec"
   ],
   "metadata": {
    "collapsed": false,
    "pycharm": {
     "name": "#%%\n"
    }
   }
  },
  {
   "cell_type": "code",
   "execution_count": 11,
   "outputs": [
    {
     "data": {
      "text/plain": "{'C1A': 802915.8208,\n 'C2A': 1429090.9016,\n 'C3A': 2043713.9584000001,\n 'C4A': 2658087.2304,\n 'C5A': 3272600.248,\n 'C6A': 3887902.7864,\n 'C7A': 4502675.6304,\n 'C8A': 5117058.525599999,\n 'C9A': 5732551.017600001,\n 'C10A': 6347313.82,\n 'C11A': 6961826.837599999,\n 'C12A': 7577019.3368,\n 'C13A': 8191452.440000001,\n 'C14A': 8806265.4504,\n 'C15A': 9421078.0424,\n 'C16A': 10035501.104,\n 'C17A': 10650703.6448,\n 'C18A': 11265516.6552,\n 'C19A': 11880327.992,\n 'C20A': 12495140.584,\n 'C21A': 13109283.736,\n 'C22A': 13724067.04,\n 'C2E': 1565329.8912,\n 'C3E': 2168540.4604,\n 'C4E': 2783293.334168,\n 'C5E': 3397656.4516000003,\n 'C6E': 4013088.8613599995,\n 'C7E': 4627352.136,\n 'C8E': 5243783.936,\n 'C9E': 5857707.0096,\n 'C10E': 6471990.3256,\n 'C11E': 7087272.7808,\n 'C12E': 7702255.6616,\n 'C13E': 8316938.549600001,\n 'C14E': 8931821.432799999,\n 'C15E': 9546104.330400001,\n 'C16E': 10159998.116,\n 'C17E': 10775770.0992,\n 'C18E': 11390552.9848,\n 'C19E': 12005335.870400002,\n 'C20E': 12620218.7536,\n 'H2': 241722}"
     },
     "execution_count": 11,
     "metadata": {},
     "output_type": "execute_result"
    }
   ],
   "source": [
    "# calculate LHV\n",
    "\n",
    "Hf = {\"H2O\": -241.917, \"O2\":0, \"CO2\":-393.552} # liquid H2O, vapor for O2, CO2 # kj/mol\n",
    "\n",
    "def calculate_lhv_alkane(fuel, dH, Hf):\n",
    "    # Parse the number of carbon (C) and hydrogen (H) atoms from the fuel name\n",
    "    carbon_atoms = int(fuel[1: fuel.find('A')])\n",
    "    hydrogen_atoms = (carbon_atoms * 2) + 2  # General formula for alkanes is CnH(2n+2)\n",
    "\n",
    "    # Balance the combustion reaction (assuming complete combustion)\n",
    "    # Stoichiometry of oxygen required for complete combustion:\n",
    "    # Each C requires 1 mole of O2 for CO2 and each H2 requires 0.5 mole of O2 for H2O\n",
    "    o2_moles = carbon_atoms + hydrogen_atoms / 4\n",
    "    co2_moles = carbon_atoms\n",
    "    h2o_moles = hydrogen_atoms / 2\n",
    "\n",
    "    # Calculate the heat of the reaction based on stoichiometry and heats of formation\n",
    "    # ΔH_reaction = Σ(ΔHf_products) - Σ(ΔHf_reactants)\n",
    "    # For reactants, we consider the fuel and O2; for products, CO2 and H2O\n",
    "    # Note: O2 is the reference with ΔHf = 0, so it's not included in the calculation\n",
    "    heat_of_reaction = (co2_moles * Hf['CO2'] + h2o_moles * Hf['H2O']) - o2_moles * Hf['O2'] - dH[fuel]\n",
    "\n",
    "    # LHV calculation: Since the reaction is exothermic, heat of reaction will be negative, so we take the negative of it\n",
    "    # to represent the energy released\n",
    "    LHV = -heat_of_reaction\n",
    "\n",
    "    return LHV  # This will be the LHV in kJ/mol assuming ΔHf values are also in kJ/mol\n",
    "\n",
    "lhv_data = {key: 1e3 * calculate_lhv_alkane(key, dH, Hf)\n",
    "            for key in dH.keys()\n",
    "            if (key.startswith('C') and key.endswith('A'))\n",
    "            or (key.startswith('C') and key.endswith('E'))}\n",
    "\n",
    "lhv_data[\"H2\"] = 241722\n",
    "lhv_data #J/mol"
   ],
   "metadata": {
    "collapsed": false,
    "pycharm": {
     "name": "#%%\n"
    }
   }
  },
  {
   "cell_type": "code",
   "execution_count": 12,
   "outputs": [],
   "source": [
    "df[\"MW\"] =  df.index.map(MW)\n",
    "df[\"LHV\"] =  df.index.map(lhv_data)\n",
    "df[\"rho\"] =  df.index.map(rho)\n",
    "df[\"mu\"] =  df.index.map(mu)\n",
    "df[\"TB\"] =  df.index.map(TB)\n",
    "df.to_csv(\"filled_properties.csv\")"
   ],
   "metadata": {
    "collapsed": false,
    "pycharm": {
     "name": "#%%\n"
    }
   }
  },
  {
   "cell_type": "code",
   "execution_count": 12,
   "outputs": [],
   "source": [],
   "metadata": {
    "collapsed": false,
    "pycharm": {
     "name": "#%%\n"
    }
   }
  },
  {
   "cell_type": "code",
   "execution_count": 12,
   "outputs": [],
   "source": [],
   "metadata": {
    "collapsed": false,
    "pycharm": {
     "name": "#%%\n"
    }
   }
  }
 ],
 "metadata": {
  "kernelspec": {
   "display_name": "Python 3",
   "language": "python",
   "name": "python3"
  },
  "language_info": {
   "codemirror_mode": {
    "name": "ipython",
    "version": 2
   },
   "file_extension": ".py",
   "mimetype": "text/x-python",
   "name": "python",
   "nbconvert_exporter": "python",
   "pygments_lexer": "ipython2",
   "version": "2.7.6"
  }
 },
 "nbformat": 4,
 "nbformat_minor": 0
}