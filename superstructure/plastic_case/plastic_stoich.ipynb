{
 "cells": [
  {
   "cell_type": "markdown",
   "source": [
    "## Stoichiometry balancing for Rstoich\n",
    "\n",
    "For LDPE/HDPE\n",
    "$$ a C_2H_4 + b H_2 \\longrightarrow c C_nH_{2n+2}  $$\n",
    "\n",
    "For PP\n",
    "$$ a C_3H_6+ b H_2 \\longrightarrow c C_nH_{2n+2}  $$"
   ],
   "metadata": {
    "collapsed": false,
    "pycharm": {
     "name": "#%% md\n"
    }
   }
  },
  {
   "cell_type": "code",
   "execution_count": 224,
   "outputs": [],
   "source": [
    "import pandas as pd\n",
    "import numpy  as np"
   ],
   "metadata": {
    "collapsed": false,
    "pycharm": {
     "name": "#%%\n"
    }
   }
  },
  {
   "cell_type": "code",
   "execution_count": 225,
   "outputs": [
    {
     "data": {
      "text/plain": "{'C1A': (1, 2, 2),\n 'C2A': (1, 1, 1),\n 'C3A': (3, 2, 2),\n 'C4A': (2, 1, 1),\n 'C5A': (5, 2, 2),\n 'C6A': (3, 1, 1),\n 'C7A': (7, 2, 2),\n 'C8A': (4, 1, 1),\n 'C9A': (9, 2, 2),\n 'C10A': (5, 1, 1),\n 'C11A': (11, 2, 2),\n 'C12A': (6, 1, 1),\n 'C13A': (13, 2, 2),\n 'C14A': (7, 1, 1),\n 'C15A': (15, 2, 2),\n 'C16A': (8, 1, 1),\n 'C17A': (17, 2, 2),\n 'C18A': (9, 1, 1),\n 'C19A': (19, 2, 2),\n 'C20A': (10, 1, 1),\n 'C21A': (21, 2, 2),\n 'C22A': (11, 1, 1),\n 'C23A': (23, 2, 2),\n 'C24A': (12, 1, 1),\n 'C25A': (25, 2, 2),\n 'C26A': (13, 1, 1),\n 'C27A': (27, 2, 2),\n 'C28A': (14, 1, 1),\n 'C29A': (29, 2, 2),\n 'C30A': (15, 1, 1),\n 'C31A': (31, 2, 2)}"
     },
     "execution_count": 225,
     "metadata": {},
     "output_type": "execute_result"
    }
   ],
   "source": [
    "def calculate_stoichiometry_PE(alkane_carbon_atoms):\n",
    "    \"\"\"\n",
    "    Calculate the stoichiometry for the reaction:\n",
    "    For odd number carbon alkanes: nC2H4 + 2H2 -> 2 alkane\n",
    "    For even number carbon alkanes: n/2 C2H4 + H2 -> alkane\n",
    "    for alkanes ranging from CH4 (n=1) to C31H64 (n=31).\n",
    "    \"\"\"\n",
    "    stoichiometries = {}\n",
    "\n",
    "    for n in range(1, alkane_carbon_atoms + 1):\n",
    "        if n % 2 == 0:  # Even number of carbon atoms\n",
    "            a = n // 2  # n/2 molecules of C2H4\n",
    "            b = 1       # 1 molecule of H2\n",
    "            c = 1       # 1 molecule of the alkane is produced\n",
    "        else:  # Odd number of carbon atoms\n",
    "            a = n       # n molecules of C2H4\n",
    "            b = 2       # 2 molecules of H2\n",
    "            c = 2       # 2 molecules of the alkane are produced\n",
    "\n",
    "        stoichiometries[\"C\"+str(n)+\"A\"] = (a, b, c)\n",
    "\n",
    "    return stoichiometries\n",
    "\n",
    "# Calculate stoichiometry for alkanes from CH4 to C31H64\n",
    "stoichiometry_results_PE = calculate_stoichiometry_PE(31)\n",
    "stoichiometry_results_PE"
   ],
   "metadata": {
    "collapsed": false,
    "pycharm": {
     "name": "#%%\n"
    }
   }
  },
  {
   "cell_type": "code",
   "execution_count": 226,
   "outputs": [
    {
     "data": {
      "text/plain": "{'C1A': (1, 3, 3),\n 'C2A': (2, 3, 3),\n 'C3A': (1, 1, 1),\n 'C4A': (4, 3, 3),\n 'C5A': (5, 3, 3),\n 'C6A': (2, 1, 1),\n 'C7A': (7, 3, 3),\n 'C8A': (8, 3, 3),\n 'C9A': (3, 1, 1),\n 'C10A': (10, 3, 3),\n 'C11A': (11, 3, 3),\n 'C12A': (4, 1, 1),\n 'C13A': (13, 3, 3),\n 'C14A': (14, 3, 3),\n 'C15A': (5, 1, 1),\n 'C16A': (16, 3, 3),\n 'C17A': (17, 3, 3),\n 'C18A': (6, 1, 1),\n 'C19A': (19, 3, 3),\n 'C20A': (20, 3, 3),\n 'C21A': (7, 1, 1),\n 'C22A': (22, 3, 3),\n 'C23A': (23, 3, 3),\n 'C24A': (8, 1, 1),\n 'C25A': (25, 3, 3),\n 'C26A': (26, 3, 3),\n 'C27A': (9, 1, 1),\n 'C28A': (28, 3, 3),\n 'C29A': (29, 3, 3),\n 'C30A': (10, 1, 1),\n 'C31A': (31, 3, 3)}"
     },
     "execution_count": 226,
     "metadata": {},
     "output_type": "execute_result"
    }
   ],
   "source": [
    "def calculate_stoichiometry_PP(alkane_carbon_atoms):\n",
    "    \"\"\"\n",
    "    Calculate the stoichiometry for the reaction:\n",
    "    For n % 3 != 0 carbon alkanes: nC3H6 + 3H2 -> 3 alkane\n",
    "    For n % 3 == 0 carbon alkanes: n/3 C3H6 + H2 -> alkane\n",
    "    for alkanes ranging from CH4 (n=1) to C31H64 (n=31).\n",
    "    \"\"\"\n",
    "    stoichiometries = {}\n",
    "\n",
    "    for n in range(1, alkane_carbon_atoms + 1):\n",
    "        if n % 3 == 0:  # Even number of carbon atoms\n",
    "            a = n // 3  # n/3 molecules of C3H6\n",
    "            b = 1       # 1 molecule of H2\n",
    "            c = 1       # 1 molecule of the alkane is produced\n",
    "        else:  # Odd number of carbon atoms\n",
    "            a = n       # n molecules of C3H6\n",
    "            b = 3       # 2 molecules of H2\n",
    "            c = 3       # 2 molecules of the alkane are produced\n",
    "\n",
    "        stoichiometries[\"C\"+str(n)+\"A\"] = (a, b, c)\n",
    "\n",
    "    return stoichiometries\n",
    "\n",
    "# Calculate stoichiometry for alkanes from CH4 to C31H64\n",
    "stoichiometry_results_PP = calculate_stoichiometry_PP(31)\n",
    "stoichiometry_results_PP"
   ],
   "metadata": {
    "collapsed": false,
    "pycharm": {
     "name": "#%%\n"
    }
   }
  },
  {
   "cell_type": "code",
   "execution_count": 227,
   "outputs": [],
   "source": [
    "dfPE = pd.DataFrame.from_dict(stoichiometry_results_PE, orient='index', columns=['LDPE', 'H2', 'alkane'])\n",
    "dfPP = pd.DataFrame.from_dict(stoichiometry_results_PP, orient='index', columns=['PP', 'H2', 'alkane'])\n",
    "dfPE.index.name = 'Code'\n",
    "dfPP.index.name = 'Code'\n",
    "csvPE = \"parameters/PEstoich.csv\"\n",
    "csvPP = \"parameters/PPstoich.csv\""
   ],
   "metadata": {
    "collapsed": false,
    "pycharm": {
     "name": "#%%\n"
    }
   }
  },
  {
   "cell_type": "code",
   "execution_count": 228,
   "outputs": [],
   "source": [
    "dfPE.to_csv(csvPE)\n",
    "dfPP.to_csv(csvPP)"
   ],
   "metadata": {
    "collapsed": false,
    "pycharm": {
     "name": "#%%\n"
    }
   }
  },
  {
   "cell_type": "markdown",
   "source": [
    "### Now generate the gams set needed\n",
    "\n",
    "$\\xi_{i,k,w}$: conversion to reaction w at tech i of reference component k\n",
    "$\\nu_{i,k,w}$: stoich of reation w at tech i"
   ],
   "metadata": {
    "collapsed": false,
    "pycharm": {
     "name": "#%% md\n"
    }
   }
  },
  {
   "cell_type": "code",
   "execution_count": 229,
   "outputs": [
    {
     "data": {
      "text/plain": "    Code        R1A        R3A\n0    C1A   0.335320   0.000000\n1    C2A   0.335320   0.000000\n2    C3A   1.304024   0.538244\n3    C4A   8.159463   4.504249\n4    C5A  20.491800   8.328612\n5    C6A  17.436660   9.801700\n6    C7A  14.195230  10.736544\n7    C8A  11.140090  10.934844\n8    C9A   7.675112  12.237960\n9   C10A   4.769001   9.405099\n10  C11A   3.017884   7.422096\n11  C12A   1.751118   5.467422\n12  C13A   1.080477   3.456091\n13  C14A   0.633383   2.691218\n14  C15A   0.298063   1.076487\n15  C16A   0.298063   0.991501\n16  C17A   0.335320   0.396601\n17  C18A   0.298063   0.000000\n18  C19A   0.335320   0.000000\n19  C20A   0.000000   0.000000\n20  C21A   0.000000   0.000000\n21  C22A   0.000000   0.000000\n22  C23A   0.000000   0.000000\n23  C24A   0.000000   0.000000\n24  C25A   0.000000   0.000000\n25  C26A   0.000000   0.000000\n26  C27A   0.000000   0.000000\n27  C28A   0.000000   0.000000\n28  C29A   0.000000   0.000000\n29  C30A   0.000000   0.000000\n30  C31A   0.000000   0.000000",
      "text/html": "<div>\n<style scoped>\n    .dataframe tbody tr th:only-of-type {\n        vertical-align: middle;\n    }\n\n    .dataframe tbody tr th {\n        vertical-align: top;\n    }\n\n    .dataframe thead th {\n        text-align: right;\n    }\n</style>\n<table border=\"1\" class=\"dataframe\">\n  <thead>\n    <tr style=\"text-align: right;\">\n      <th></th>\n      <th>Code</th>\n      <th>R1A</th>\n      <th>R3A</th>\n    </tr>\n  </thead>\n  <tbody>\n    <tr>\n      <th>0</th>\n      <td>C1A</td>\n      <td>0.335320</td>\n      <td>0.000000</td>\n    </tr>\n    <tr>\n      <th>1</th>\n      <td>C2A</td>\n      <td>0.335320</td>\n      <td>0.000000</td>\n    </tr>\n    <tr>\n      <th>2</th>\n      <td>C3A</td>\n      <td>1.304024</td>\n      <td>0.538244</td>\n    </tr>\n    <tr>\n      <th>3</th>\n      <td>C4A</td>\n      <td>8.159463</td>\n      <td>4.504249</td>\n    </tr>\n    <tr>\n      <th>4</th>\n      <td>C5A</td>\n      <td>20.491800</td>\n      <td>8.328612</td>\n    </tr>\n    <tr>\n      <th>5</th>\n      <td>C6A</td>\n      <td>17.436660</td>\n      <td>9.801700</td>\n    </tr>\n    <tr>\n      <th>6</th>\n      <td>C7A</td>\n      <td>14.195230</td>\n      <td>10.736544</td>\n    </tr>\n    <tr>\n      <th>7</th>\n      <td>C8A</td>\n      <td>11.140090</td>\n      <td>10.934844</td>\n    </tr>\n    <tr>\n      <th>8</th>\n      <td>C9A</td>\n      <td>7.675112</td>\n      <td>12.237960</td>\n    </tr>\n    <tr>\n      <th>9</th>\n      <td>C10A</td>\n      <td>4.769001</td>\n      <td>9.405099</td>\n    </tr>\n    <tr>\n      <th>10</th>\n      <td>C11A</td>\n      <td>3.017884</td>\n      <td>7.422096</td>\n    </tr>\n    <tr>\n      <th>11</th>\n      <td>C12A</td>\n      <td>1.751118</td>\n      <td>5.467422</td>\n    </tr>\n    <tr>\n      <th>12</th>\n      <td>C13A</td>\n      <td>1.080477</td>\n      <td>3.456091</td>\n    </tr>\n    <tr>\n      <th>13</th>\n      <td>C14A</td>\n      <td>0.633383</td>\n      <td>2.691218</td>\n    </tr>\n    <tr>\n      <th>14</th>\n      <td>C15A</td>\n      <td>0.298063</td>\n      <td>1.076487</td>\n    </tr>\n    <tr>\n      <th>15</th>\n      <td>C16A</td>\n      <td>0.298063</td>\n      <td>0.991501</td>\n    </tr>\n    <tr>\n      <th>16</th>\n      <td>C17A</td>\n      <td>0.335320</td>\n      <td>0.396601</td>\n    </tr>\n    <tr>\n      <th>17</th>\n      <td>C18A</td>\n      <td>0.298063</td>\n      <td>0.000000</td>\n    </tr>\n    <tr>\n      <th>18</th>\n      <td>C19A</td>\n      <td>0.335320</td>\n      <td>0.000000</td>\n    </tr>\n    <tr>\n      <th>19</th>\n      <td>C20A</td>\n      <td>0.000000</td>\n      <td>0.000000</td>\n    </tr>\n    <tr>\n      <th>20</th>\n      <td>C21A</td>\n      <td>0.000000</td>\n      <td>0.000000</td>\n    </tr>\n    <tr>\n      <th>21</th>\n      <td>C22A</td>\n      <td>0.000000</td>\n      <td>0.000000</td>\n    </tr>\n    <tr>\n      <th>22</th>\n      <td>C23A</td>\n      <td>0.000000</td>\n      <td>0.000000</td>\n    </tr>\n    <tr>\n      <th>23</th>\n      <td>C24A</td>\n      <td>0.000000</td>\n      <td>0.000000</td>\n    </tr>\n    <tr>\n      <th>24</th>\n      <td>C25A</td>\n      <td>0.000000</td>\n      <td>0.000000</td>\n    </tr>\n    <tr>\n      <th>25</th>\n      <td>C26A</td>\n      <td>0.000000</td>\n      <td>0.000000</td>\n    </tr>\n    <tr>\n      <th>26</th>\n      <td>C27A</td>\n      <td>0.000000</td>\n      <td>0.000000</td>\n    </tr>\n    <tr>\n      <th>27</th>\n      <td>C28A</td>\n      <td>0.000000</td>\n      <td>0.000000</td>\n    </tr>\n    <tr>\n      <th>28</th>\n      <td>C29A</td>\n      <td>0.000000</td>\n      <td>0.000000</td>\n    </tr>\n    <tr>\n      <th>29</th>\n      <td>C30A</td>\n      <td>0.000000</td>\n      <td>0.000000</td>\n    </tr>\n    <tr>\n      <th>30</th>\n      <td>C31A</td>\n      <td>0.000000</td>\n      <td>0.000000</td>\n    </tr>\n  </tbody>\n</table>\n</div>"
     },
     "execution_count": 229,
     "metadata": {},
     "output_type": "execute_result"
    }
   ],
   "source": [
    "conversions = pd.read_csv(\"parameters/conversions_hdc.csv\")\n",
    "conversions"
   ],
   "metadata": {
    "collapsed": false,
    "pycharm": {
     "name": "#%%\n"
    }
   }
  },
  {
   "cell_type": "code",
   "execution_count": 230,
   "outputs": [],
   "source": [
    "def write_dict_to_gams(data, filename, scale=1, dec=6):\n",
    "    indent = f\"\\t\"\n",
    "    with open(filename, 'w') as file:\n",
    "        file.write(f\"/\\n\")\n",
    "        for index, value in data.items():\n",
    "            # Writing the index and value in the required GAMS format\n",
    "            # Assuming GAMS format is something like \"i / value /\"\n",
    "            if not np.isnan(value):\n",
    "                file.write(f\"{indent}{index}  {round(float(value)*scale, dec)} \\n\")\n",
    "        file.write(f\"/\\n\")"
   ],
   "metadata": {
    "collapsed": false,
    "pycharm": {
     "name": "#%%\n"
    }
   }
  },
  {
   "cell_type": "code",
   "execution_count": 231,
   "outputs": [
    {
     "data": {
      "text/plain": "{'R1A.LDPE.1': 0.33532,\n 'R3A.PP.1': 0.0,\n 'R1A.LDPE.2': 0.33532,\n 'R3A.PP.2': 0.0,\n 'R1A.LDPE.3': 1.304024,\n 'R3A.PP.3': 0.538243626,\n 'R1A.LDPE.4': 8.159463,\n 'R3A.PP.4': 4.504249292,\n 'R1A.LDPE.5': 20.4918,\n 'R3A.PP.5': 8.328611898,\n 'R1A.LDPE.6': 17.43666,\n 'R3A.PP.6': 9.8017,\n 'R1A.LDPE.7': 14.19523,\n 'R3A.PP.7': 10.73654391,\n 'R1A.LDPE.8': 11.14009,\n 'R3A.PP.8': 10.93484419,\n 'R1A.LDPE.9': 7.675112,\n 'R3A.PP.9': 12.23796034,\n 'R1A.LDPE.10': 4.769001,\n 'R3A.PP.10': 9.40509915,\n 'R1A.LDPE.11': 3.017884,\n 'R3A.PP.11': 7.422096317,\n 'R1A.LDPE.12': 1.751118,\n 'R3A.PP.12': 5.467422,\n 'R1A.LDPE.13': 1.080477,\n 'R3A.PP.13': 3.456090652,\n 'R1A.LDPE.14': 0.633383,\n 'R3A.PP.14': 2.69121813,\n 'R1A.LDPE.15': 0.298063,\n 'R3A.PP.15': 1.076487252,\n 'R1A.LDPE.16': 0.298063,\n 'R3A.PP.16': 0.991501416,\n 'R1A.LDPE.17': 0.33532,\n 'R3A.PP.17': 0.396600567,\n 'R1A.LDPE.18': 0.298063,\n 'R3A.PP.18': 0.0,\n 'R1A.LDPE.19': 0.33532,\n 'R3A.PP.19': 0.0,\n 'R1A.LDPE.20': 0.0,\n 'R3A.PP.20': 0.0,\n 'R1A.LDPE.21': 0.0,\n 'R3A.PP.21': 0.0,\n 'R1A.LDPE.22': 0.0,\n 'R3A.PP.22': 0.0,\n 'R1A.LDPE.23': 0.0,\n 'R3A.PP.23': 0.0,\n 'R1A.LDPE.24': 0.0,\n 'R3A.PP.24': 0.0,\n 'R1A.LDPE.25': 0.0,\n 'R3A.PP.25': 0.0,\n 'R1A.LDPE.26': 0.0,\n 'R3A.PP.26': 0.0,\n 'R1A.LDPE.27': 0.0,\n 'R3A.PP.27': 0.0,\n 'R1A.LDPE.28': 0.0,\n 'R3A.PP.28': 0.0,\n 'R1A.LDPE.29': 0.0,\n 'R3A.PP.29': 0.0,\n 'R1A.LDPE.30': 0.0,\n 'R3A.PP.30': 0.0,\n 'R1A.LDPE.31': 0.0,\n 'R3A.PP.31': 0.0}"
     },
     "execution_count": 231,
     "metadata": {},
     "output_type": "execute_result"
    }
   ],
   "source": [
    "xi_data = {}\n",
    "\n",
    "for index, row in conversions.iterrows():\n",
    "    xi_data[\"R1A.LDPE.\"+str(index+1)] = row['R1A']\n",
    "    xi_data[\"R3A.PP.\"+str(index+1)] = row['R3A']\n",
    "xi_data"
   ],
   "metadata": {
    "collapsed": false,
    "pycharm": {
     "name": "#%%\n"
    }
   }
  },
  {
   "cell_type": "code",
   "execution_count": 232,
   "outputs": [
    {
     "data": {
      "text/plain": "    Code  LDPE  H2  alkane\n0    C1A     1   2       2\n1    C2A     1   1       1\n2    C3A     3   2       2\n3    C4A     2   1       1\n4    C5A     5   2       2\n5    C6A     3   1       1\n6    C7A     7   2       2\n7    C8A     4   1       1\n8    C9A     9   2       2\n9   C10A     5   1       1\n10  C11A    11   2       2\n11  C12A     6   1       1\n12  C13A    13   2       2\n13  C14A     7   1       1\n14  C15A    15   2       2\n15  C16A     8   1       1\n16  C17A    17   2       2\n17  C18A     9   1       1\n18  C19A    19   2       2\n19  C20A    10   1       1\n20  C21A    21   2       2\n21  C22A    11   1       1\n22  C23A    23   2       2\n23  C24A    12   1       1\n24  C25A    25   2       2\n25  C26A    13   1       1\n26  C27A    27   2       2\n27  C28A    14   1       1\n28  C29A    29   2       2\n29  C30A    15   1       1\n30  C31A    31   2       2",
      "text/html": "<div>\n<style scoped>\n    .dataframe tbody tr th:only-of-type {\n        vertical-align: middle;\n    }\n\n    .dataframe tbody tr th {\n        vertical-align: top;\n    }\n\n    .dataframe thead th {\n        text-align: right;\n    }\n</style>\n<table border=\"1\" class=\"dataframe\">\n  <thead>\n    <tr style=\"text-align: right;\">\n      <th></th>\n      <th>Code</th>\n      <th>LDPE</th>\n      <th>H2</th>\n      <th>alkane</th>\n    </tr>\n  </thead>\n  <tbody>\n    <tr>\n      <th>0</th>\n      <td>C1A</td>\n      <td>1</td>\n      <td>2</td>\n      <td>2</td>\n    </tr>\n    <tr>\n      <th>1</th>\n      <td>C2A</td>\n      <td>1</td>\n      <td>1</td>\n      <td>1</td>\n    </tr>\n    <tr>\n      <th>2</th>\n      <td>C3A</td>\n      <td>3</td>\n      <td>2</td>\n      <td>2</td>\n    </tr>\n    <tr>\n      <th>3</th>\n      <td>C4A</td>\n      <td>2</td>\n      <td>1</td>\n      <td>1</td>\n    </tr>\n    <tr>\n      <th>4</th>\n      <td>C5A</td>\n      <td>5</td>\n      <td>2</td>\n      <td>2</td>\n    </tr>\n    <tr>\n      <th>5</th>\n      <td>C6A</td>\n      <td>3</td>\n      <td>1</td>\n      <td>1</td>\n    </tr>\n    <tr>\n      <th>6</th>\n      <td>C7A</td>\n      <td>7</td>\n      <td>2</td>\n      <td>2</td>\n    </tr>\n    <tr>\n      <th>7</th>\n      <td>C8A</td>\n      <td>4</td>\n      <td>1</td>\n      <td>1</td>\n    </tr>\n    <tr>\n      <th>8</th>\n      <td>C9A</td>\n      <td>9</td>\n      <td>2</td>\n      <td>2</td>\n    </tr>\n    <tr>\n      <th>9</th>\n      <td>C10A</td>\n      <td>5</td>\n      <td>1</td>\n      <td>1</td>\n    </tr>\n    <tr>\n      <th>10</th>\n      <td>C11A</td>\n      <td>11</td>\n      <td>2</td>\n      <td>2</td>\n    </tr>\n    <tr>\n      <th>11</th>\n      <td>C12A</td>\n      <td>6</td>\n      <td>1</td>\n      <td>1</td>\n    </tr>\n    <tr>\n      <th>12</th>\n      <td>C13A</td>\n      <td>13</td>\n      <td>2</td>\n      <td>2</td>\n    </tr>\n    <tr>\n      <th>13</th>\n      <td>C14A</td>\n      <td>7</td>\n      <td>1</td>\n      <td>1</td>\n    </tr>\n    <tr>\n      <th>14</th>\n      <td>C15A</td>\n      <td>15</td>\n      <td>2</td>\n      <td>2</td>\n    </tr>\n    <tr>\n      <th>15</th>\n      <td>C16A</td>\n      <td>8</td>\n      <td>1</td>\n      <td>1</td>\n    </tr>\n    <tr>\n      <th>16</th>\n      <td>C17A</td>\n      <td>17</td>\n      <td>2</td>\n      <td>2</td>\n    </tr>\n    <tr>\n      <th>17</th>\n      <td>C18A</td>\n      <td>9</td>\n      <td>1</td>\n      <td>1</td>\n    </tr>\n    <tr>\n      <th>18</th>\n      <td>C19A</td>\n      <td>19</td>\n      <td>2</td>\n      <td>2</td>\n    </tr>\n    <tr>\n      <th>19</th>\n      <td>C20A</td>\n      <td>10</td>\n      <td>1</td>\n      <td>1</td>\n    </tr>\n    <tr>\n      <th>20</th>\n      <td>C21A</td>\n      <td>21</td>\n      <td>2</td>\n      <td>2</td>\n    </tr>\n    <tr>\n      <th>21</th>\n      <td>C22A</td>\n      <td>11</td>\n      <td>1</td>\n      <td>1</td>\n    </tr>\n    <tr>\n      <th>22</th>\n      <td>C23A</td>\n      <td>23</td>\n      <td>2</td>\n      <td>2</td>\n    </tr>\n    <tr>\n      <th>23</th>\n      <td>C24A</td>\n      <td>12</td>\n      <td>1</td>\n      <td>1</td>\n    </tr>\n    <tr>\n      <th>24</th>\n      <td>C25A</td>\n      <td>25</td>\n      <td>2</td>\n      <td>2</td>\n    </tr>\n    <tr>\n      <th>25</th>\n      <td>C26A</td>\n      <td>13</td>\n      <td>1</td>\n      <td>1</td>\n    </tr>\n    <tr>\n      <th>26</th>\n      <td>C27A</td>\n      <td>27</td>\n      <td>2</td>\n      <td>2</td>\n    </tr>\n    <tr>\n      <th>27</th>\n      <td>C28A</td>\n      <td>14</td>\n      <td>1</td>\n      <td>1</td>\n    </tr>\n    <tr>\n      <th>28</th>\n      <td>C29A</td>\n      <td>29</td>\n      <td>2</td>\n      <td>2</td>\n    </tr>\n    <tr>\n      <th>29</th>\n      <td>C30A</td>\n      <td>15</td>\n      <td>1</td>\n      <td>1</td>\n    </tr>\n    <tr>\n      <th>30</th>\n      <td>C31A</td>\n      <td>31</td>\n      <td>2</td>\n      <td>2</td>\n    </tr>\n  </tbody>\n</table>\n</div>"
     },
     "execution_count": 232,
     "metadata": {},
     "output_type": "execute_result"
    }
   ],
   "source": [
    "nu_data = {}\n",
    "PEstoichs = pd.read_csv(\"parameters/PEstoich.csv\")\n",
    "PPstoichs = pd.read_csv(\"parameters/PPstoich.csv\")\n",
    "PEstoichs"
   ],
   "metadata": {
    "collapsed": false,
    "pycharm": {
     "name": "#%%\n"
    }
   }
  },
  {
   "cell_type": "code",
   "execution_count": 233,
   "outputs": [
    {
     "data": {
      "text/plain": "{'R1A.LDPE.1': 1,\n 'R1A.H2.1': 2,\n 'R1A.C1A.1': 2,\n 'R1A.LDPE.2': 1,\n 'R1A.H2.2': 1,\n 'R1A.C2A.2': 1,\n 'R1A.LDPE.3': 3,\n 'R1A.H2.3': 2,\n 'R1A.C3A.3': 2,\n 'R1A.LDPE.4': 2,\n 'R1A.H2.4': 1,\n 'R1A.C4A.4': 1,\n 'R1A.LDPE.5': 5,\n 'R1A.H2.5': 2,\n 'R1A.C5A.5': 2,\n 'R1A.LDPE.6': 3,\n 'R1A.H2.6': 1,\n 'R1A.C6A.6': 1,\n 'R1A.LDPE.7': 7,\n 'R1A.H2.7': 2,\n 'R1A.C7A.7': 2,\n 'R1A.LDPE.8': 4,\n 'R1A.H2.8': 1,\n 'R1A.C8A.8': 1,\n 'R1A.LDPE.9': 9,\n 'R1A.H2.9': 2,\n 'R1A.C9A.9': 2,\n 'R1A.LDPE.10': 5,\n 'R1A.H2.10': 1,\n 'R1A.C10A.10': 1,\n 'R1A.LDPE.11': 11,\n 'R1A.H2.11': 2,\n 'R1A.C11A.11': 2,\n 'R1A.LDPE.12': 6,\n 'R1A.H2.12': 1,\n 'R1A.C12A.12': 1,\n 'R1A.LDPE.13': 13,\n 'R1A.H2.13': 2,\n 'R1A.C13A.13': 2,\n 'R1A.LDPE.14': 7,\n 'R1A.H2.14': 1,\n 'R1A.C14A.14': 1,\n 'R1A.LDPE.15': 15,\n 'R1A.H2.15': 2,\n 'R1A.C15A.15': 2,\n 'R1A.LDPE.16': 8,\n 'R1A.H2.16': 1,\n 'R1A.C16A.16': 1,\n 'R1A.LDPE.17': 17,\n 'R1A.H2.17': 2,\n 'R1A.C17A.17': 2,\n 'R1A.LDPE.18': 9,\n 'R1A.H2.18': 1,\n 'R1A.C18A.18': 1,\n 'R1A.LDPE.19': 19,\n 'R1A.H2.19': 2,\n 'R1A.C19A.19': 2,\n 'R1A.LDPE.20': 10,\n 'R1A.H2.20': 1,\n 'R1A.C20A.20': 1,\n 'R1A.LDPE.21': 21,\n 'R1A.H2.21': 2,\n 'R1A.C21A.21': 2,\n 'R1A.LDPE.22': 11,\n 'R1A.H2.22': 1,\n 'R1A.C22A.22': 1,\n 'R1A.LDPE.23': 23,\n 'R1A.H2.23': 2,\n 'R1A.C23A.23': 2,\n 'R1A.LDPE.24': 12,\n 'R1A.H2.24': 1,\n 'R1A.C24A.24': 1,\n 'R1A.LDPE.25': 25,\n 'R1A.H2.25': 2,\n 'R1A.C25A.25': 2,\n 'R1A.LDPE.26': 13,\n 'R1A.H2.26': 1,\n 'R1A.C26A.26': 1,\n 'R1A.LDPE.27': 27,\n 'R1A.H2.27': 2,\n 'R1A.C27A.27': 2,\n 'R1A.LDPE.28': 14,\n 'R1A.H2.28': 1,\n 'R1A.C28A.28': 1,\n 'R1A.LDPE.29': 29,\n 'R1A.H2.29': 2,\n 'R1A.C29A.29': 2,\n 'R1A.LDPE.30': 15,\n 'R1A.H2.30': 1,\n 'R1A.C30A.30': 1,\n 'R1A.LDPE.31': 31,\n 'R1A.H2.31': 2,\n 'R1A.C31A.31': 2,\n 'R3A.PP.1': 1,\n 'R3A.H2.1': 3,\n 'R3A.C1A.1': 3,\n 'R3A.PP.2': 2,\n 'R3A.H2.2': 3,\n 'R3A.C2A.2': 3,\n 'R3A.PP.3': 1,\n 'R3A.H2.3': 1,\n 'R3A.C3A.3': 1,\n 'R3A.PP.4': 4,\n 'R3A.H2.4': 3,\n 'R3A.C4A.4': 3,\n 'R3A.PP.5': 5,\n 'R3A.H2.5': 3,\n 'R3A.C5A.5': 3,\n 'R3A.PP.6': 2,\n 'R3A.H2.6': 1,\n 'R3A.C6A.6': 1,\n 'R3A.PP.7': 7,\n 'R3A.H2.7': 3,\n 'R3A.C7A.7': 3,\n 'R3A.PP.8': 8,\n 'R3A.H2.8': 3,\n 'R3A.C8A.8': 3,\n 'R3A.PP.9': 3,\n 'R3A.H2.9': 1,\n 'R3A.C9A.9': 1,\n 'R3A.PP.10': 10,\n 'R3A.H2.10': 3,\n 'R3A.C10A.10': 3,\n 'R3A.PP.11': 11,\n 'R3A.H2.11': 3,\n 'R3A.C11A.11': 3,\n 'R3A.PP.12': 4,\n 'R3A.H2.12': 1,\n 'R3A.C12A.12': 1,\n 'R3A.PP.13': 13,\n 'R3A.H2.13': 3,\n 'R3A.C13A.13': 3,\n 'R3A.PP.14': 14,\n 'R3A.H2.14': 3,\n 'R3A.C14A.14': 3,\n 'R3A.PP.15': 5,\n 'R3A.H2.15': 1,\n 'R3A.C15A.15': 1,\n 'R3A.PP.16': 16,\n 'R3A.H2.16': 3,\n 'R3A.C16A.16': 3,\n 'R3A.PP.17': 17,\n 'R3A.H2.17': 3,\n 'R3A.C17A.17': 3,\n 'R3A.PP.18': 6,\n 'R3A.H2.18': 1,\n 'R3A.C18A.18': 1,\n 'R3A.PP.19': 19,\n 'R3A.H2.19': 3,\n 'R3A.C19A.19': 3,\n 'R3A.PP.20': 20,\n 'R3A.H2.20': 3,\n 'R3A.C20A.20': 3,\n 'R3A.PP.21': 7,\n 'R3A.H2.21': 1,\n 'R3A.C21A.21': 1,\n 'R3A.PP.22': 22,\n 'R3A.H2.22': 3,\n 'R3A.C22A.22': 3,\n 'R3A.PP.23': 23,\n 'R3A.H2.23': 3,\n 'R3A.C23A.23': 3,\n 'R3A.PP.24': 8,\n 'R3A.H2.24': 1,\n 'R3A.C24A.24': 1,\n 'R3A.PP.25': 25,\n 'R3A.H2.25': 3,\n 'R3A.C25A.25': 3,\n 'R3A.PP.26': 26,\n 'R3A.H2.26': 3,\n 'R3A.C26A.26': 3,\n 'R3A.PP.27': 9,\n 'R3A.H2.27': 1,\n 'R3A.C27A.27': 1,\n 'R3A.PP.28': 28,\n 'R3A.H2.28': 3,\n 'R3A.C28A.28': 3,\n 'R3A.PP.29': 29,\n 'R3A.H2.29': 3,\n 'R3A.C29A.29': 3,\n 'R3A.PP.30': 10,\n 'R3A.H2.30': 1,\n 'R3A.C30A.30': 1,\n 'R3A.PP.31': 31,\n 'R3A.H2.31': 3,\n 'R3A.C31A.31': 3}"
     },
     "execution_count": 233,
     "metadata": {},
     "output_type": "execute_result"
    }
   ],
   "source": [
    "for index, row in PEstoichs.iterrows():\n",
    "    nu_data[\"R1A.LDPE.\"+str(index+1)] = row['LDPE']\n",
    "    nu_data[\"R1A.H2.\"+str(index+1)] = row['H2']\n",
    "    nu_data[\"R1A.\"+row['Code']+\".\"+str(index+1)] = row['alkane']\n",
    "\n",
    "for index, row in PPstoichs.iterrows():\n",
    "    nu_data[\"R3A.PP.\"+str(index+1)] = row['PP']\n",
    "    nu_data[\"R3A.H2.\"+str(index+1)] = row['H2']\n",
    "    nu_data[\"R3A.\"+row['Code']+\".\"+str(index+1)] = row['alkane']\n",
    "\n",
    "nu_data"
   ],
   "metadata": {
    "collapsed": false,
    "pycharm": {
     "name": "#%%\n"
    }
   }
  },
  {
   "cell_type": "code",
   "execution_count": 234,
   "outputs": [],
   "source": [
    "# write_dict_to_gams(xi_data, \"xi_pars.txt\", scale=1, dec=6)\n",
    "# write_dict_to_gams(nu_data, \"nu_pars.txt\", scale=1, dec=6)"
   ],
   "metadata": {
    "collapsed": false,
    "pycharm": {
     "name": "#%%\n"
    }
   }
  },
  {
   "cell_type": "markdown",
   "source": [
    "## Yield Based Reaction\n",
    "\n",
    "Eq26a:\n",
    "    $$ F^{RefT}_{i} = \\sum_{k} \\theta_{i,k} F_{j', k} \\quad \\forall i \\in I^{Yield} \\quad j'=TechMap(i) $$\n",
    "\n",
    "Eq27a:\n",
    "    $$ F_{j', k} + \\epsilon_{i,k} \\cdot F^{RefT}_{i} = F^{I}_{i,k} \\quad \\forall i \\in  I^{Yield} \\quad \\forall k \\in K \\text{ if } (i,k) \\in RxnFeed \\quad j'=TechMap(i) $$\n",
    "Eq27c:\n",
    "    $$ F_{j', k} = F^{I}_{i,k} \\quad \\forall i \\in  I^{RXN} \\quad \\forall k \\in K \\text{ if } (i,k) \\notin RxnFeed \\quad j'=TechMap(i) $$\n",
    "\n",
    "Here we want to generate the set for RxnFeed. We then want to have $\\theta_{i,k}$ and $\\epsilon_{i,k}$"
   ],
   "metadata": {
    "collapsed": false,
    "pycharm": {
     "name": "#%% md\n"
    }
   }
  },
  {
   "cell_type": "code",
   "execution_count": 235,
   "outputs": [],
   "source": [
    "def write_list_to_file(strings, filename, n, separator=\", \"):\n",
    "    with open(filename, \"w\") as f:\n",
    "        f.write(\"/\\n\")\n",
    "        for i in range(0, len(strings), n):\n",
    "            # Check if it's the last line\n",
    "            last_line = i + n >= len(strings)\n",
    "            if not last_line:\n",
    "                separator_with_newline = f\"{separator}\\n\"\n",
    "            else:\n",
    "                separator_with_newline = \"\\n\"\n",
    "            f.write(separator.join(strings[i:i+n]) + separator_with_newline)\n",
    "        f.write(\"/\")"
   ],
   "metadata": {
    "collapsed": false,
    "pycharm": {
     "name": "#%%\n"
    }
   }
  },
  {
   "cell_type": "code",
   "execution_count": 236,
   "outputs": [],
   "source": [
    "# Hydrocracking:\n",
    "rxn_feed_data = {}\n",
    "\n",
    "HDC_species = [\"C1A\", \"C2A\", \"C3A\", \"C4A\", \"C5A\", \"C6A\", \"C7A\", \"C8A\", \"C9A\", \"C10A\", \"C11A\", \"C12A\", \"C13A\", \"C14A\", \"C15A\",\n",
    "               \"C16A\", \"C17A\", \"C18A\", \"C19A\", \"H2\"]\n",
    "\n",
    "# LDPE, R1A\n",
    "for k in HDC_species:\n",
    "    rxn_feed_data[\"R1A.\"+k] = 1\n",
    "rxn_feed_data[\"R1A.\"+\"LDPE\"] = 1\n",
    "\n",
    "# HDPE, R2A\n",
    "for k in HDC_species:\n",
    "    rxn_feed_data[\"R2A.\"+k] = 1\n",
    "rxn_feed_data[\"R2A.\"+\"HDPE\"] = 1\n",
    "\n",
    "# PP, R3A\n",
    "for k in HDC_species:\n",
    "    rxn_feed_data[\"R3A.\"+k] = 1\n",
    "rxn_feed_data[\"R3A.\"+\"PP\"] = 1\n",
    "write_dict_to_gams(rxn_feed_data, \"rxn_feed.txt\")"
   ],
   "metadata": {
    "collapsed": false,
    "pycharm": {
     "name": "#%%\n"
    }
   }
  },
  {
   "cell_type": "code",
   "execution_count": 237,
   "outputs": [],
   "source": [
    "theta_data = {}\n",
    "theta_data[\"R1A.LDPE\"] = 1\n",
    "theta_data[\"R2A.HDPE\"] = 1\n",
    "theta_data[\"R3A.PP\"] = 1"
   ],
   "metadata": {
    "collapsed": false,
    "pycharm": {
     "name": "#%%\n"
    }
   }
  },
  {
   "cell_type": "code",
   "execution_count": 238,
   "outputs": [],
   "source": [
    "epsilon_data = {}\n",
    "df_R1A = pd.read_excel(\"parameters/reaction_data.xlsx\", sheet_name=\"R1A\", header=0)\n",
    "df_R2A = pd.read_excel(\"parameters/reaction_data.xlsx\", sheet_name=\"R2A\", header=0)\n",
    "df_R3A = pd.read_excel(\"parameters/reaction_data.xlsx\", sheet_name=\"R3A\", header=0)"
   ],
   "metadata": {
    "collapsed": false,
    "pycharm": {
     "name": "#%%\n"
    }
   }
  },
  {
   "cell_type": "code",
   "execution_count": 239,
   "outputs": [],
   "source": [
    "for index, row in df_R1A.iterrows():\n",
    "    if not row[\"Code\"] in {\"Waste\", \"WASTE\", \"waste\"}:\n",
    "        epsilon_data[\"R1A.\"+row[\"Code\"]] = row[\"Yield\"]\n",
    "\n",
    "for index, row in df_R2A.iterrows():\n",
    "    if not row[\"Code\"] in {\"Waste\", \"WASTE\", \"waste\"}:\n",
    "        epsilon_data[\"R2A.\"+row[\"Code\"]] = row[\"Yield\"]\n",
    "\n",
    "for index, row in df_R3A.iterrows():\n",
    "    if not row[\"Code\"] in {\"Waste\", \"WASTE\", \"waste\"}:\n",
    "        epsilon_data[\"R3A.\"+row[\"Code\"]] = row[\"Yield\"]"
   ],
   "metadata": {
    "collapsed": false,
    "pycharm": {
     "name": "#%%\n"
    }
   }
  },
  {
   "cell_type": "code",
   "execution_count": 240,
   "outputs": [],
   "source": [
    "write_dict_to_gams(theta_data,  \"theta.txt\")\n",
    "write_dict_to_gams(epsilon_data,  \"epsilon.txt\")"
   ],
   "metadata": {
    "collapsed": false,
    "pycharm": {
     "name": "#%%\n"
    }
   }
  },
  {
   "cell_type": "code",
   "execution_count": 240,
   "outputs": [],
   "source": [],
   "metadata": {
    "collapsed": false,
    "pycharm": {
     "name": "#%%\n"
    }
   }
  }
 ],
 "metadata": {
  "kernelspec": {
   "display_name": "Python 3",
   "language": "python",
   "name": "python3"
  },
  "language_info": {
   "codemirror_mode": {
    "name": "ipython",
    "version": 2
   },
   "file_extension": ".py",
   "mimetype": "text/x-python",
   "name": "python",
   "nbconvert_exporter": "python",
   "pygments_lexer": "ipython2",
   "version": "2.7.6"
  }
 },
 "nbformat": 4,
 "nbformat_minor": 0
}