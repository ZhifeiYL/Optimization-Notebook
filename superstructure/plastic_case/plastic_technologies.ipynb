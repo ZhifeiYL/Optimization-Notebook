{
 "cells": [
  {
   "cell_type": "raw",
   "source": [
    "# Plastic Waste Recycling Technologies\n",
    "\n",
    "In this case study, we aim to come up with the technology alternatives treating different types of waste plastic."
   ],
   "metadata": {
    "collapsed": false,
    "pycharm": {
     "name": ""
    }
   }
  },
  {
   "cell_type": "markdown",
   "source": [
    "The process is divided into four primarily stages, starting from sorted waste plastic to end products to be sold in the market."
   ],
   "metadata": {
    "collapsed": false,
    "pycharm": {
     "name": "#%% md\n"
    }
   }
  },
  {
   "cell_type": "markdown",
   "source": [
    "## A test case study\n",
    "\n",
    "In this study, we limit the size of our problem to first set up a system that works.\n",
    "\n",
    "The type of input of our waste plsatic is limited to only LDPE and PET."
   ],
   "metadata": {
    "collapsed": false,
    "pycharm": {
     "name": "#%% md\n"
    }
   }
  },
  {
   "cell_type": "markdown",
   "source": [
    "### Waste plastic reaction technologies"
   ],
   "metadata": {
    "collapsed": false,
    "pycharm": {
     "name": "#%% md\n"
    }
   }
  },
  {
   "cell_type": "markdown",
   "source": [
    "#### Technology 1 for LDPE: Hydrocracking\n",
    "\n",
    "DOI: 10.1126/sciadv.abf8283\n",
    "\n",
    "250$^{\\circ}C$, 30 bar\n"
   ],
   "metadata": {
    "collapsed": false,
    "pycharm": {
     "name": "#%% md\n"
    }
   }
  },
  {
   "cell_type": "markdown",
   "source": [
    "#### Technology 2 for LDPE: Pyrolysis\n",
    "\n",
    "550$^{\\circ}C$, 1 bar\n",
    "\n",
    "https://chemistry-europe.onlinelibrary.wiley.com/doi/full/10.1002/cssc.201903434"
   ],
   "metadata": {
    "collapsed": false,
    "pycharm": {
     "name": "#%% md\n"
    }
   }
  },
  {
   "cell_type": "markdown",
   "source": [
    "#### Technology 3 for LDPE:\n",
    "\n",
    "550$^{\\circ}C$, 1bar\n",
    "\n",
    "https://chemistry-europe.onlinelibrary.wiley.com/doi/full/10.1002/cssc.201903434"
   ],
   "metadata": {
    "collapsed": false,
    "pycharm": {
     "name": "#%% md\n"
    }
   }
  },
  {
   "cell_type": "markdown",
   "source": [
    "#### Technology 1 for PET: Microwave-assisted Glycolysis\n",
    "\n",
    "210$^{\\circ}C$, 1bar\n",
    "\n",
    "https://doi.org/10.1021/acssuschemeng.2c07203"
   ],
   "metadata": {
    "collapsed": false,
    "pycharm": {
     "name": "#%% md\n"
    }
   }
  },
  {
   "cell_type": "markdown",
   "source": [
    "#### Technology 2 for PET: Pyrolysis\n",
    "\n",
    "550$^{\\circ}C$, 1bar\n",
    "\n",
    "https://pubs.acs.org/doi/pdf/10.1021/ie900557c"
   ],
   "metadata": {
    "collapsed": false,
    "pycharm": {
     "name": "#%% md\n"
    }
   }
  },
  {
   "cell_type": "markdown",
   "source": [],
   "metadata": {
    "collapsed": false,
    "pycharm": {
     "name": "#%% md\n"
    }
   }
  }
 ],
 "metadata": {
  "kernelspec": {
   "display_name": "Python 3",
   "language": "python",
   "name": "python3"
  },
  "language_info": {
   "codemirror_mode": {
    "name": "ipython",
    "version": 2
   },
   "file_extension": ".py",
   "mimetype": "text/x-python",
   "name": "python",
   "nbconvert_exporter": "python",
   "pygments_lexer": "ipython2",
   "version": "2.7.6"
  }
 },
 "nbformat": 4,
 "nbformat_minor": 0
}