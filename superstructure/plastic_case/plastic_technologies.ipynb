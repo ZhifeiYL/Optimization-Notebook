{
 "cells": [
  {
   "cell_type": "markdown",
   "source": [
    "# Plastic Waste Recycling Technologies\n",
    "\n",
    "In this case study, we aim to come up with the technology alternatives treating different types of waste plastic."
   ],
   "metadata": {
    "collapsed": false
   }
  },
  {
   "cell_type": "markdown",
   "source": [
    "The process is divided into four primarily stages, starting from sorted waste plastic to end products to be sold in the market."
   ],
   "metadata": {
    "collapsed": false,
    "pycharm": {
     "name": "#%% md\n"
    }
   }
  },
  {
   "cell_type": "markdown",
   "source": [
    "## A test case study\n",
    "\n",
    "In this study, we limit the size of our problem to first set up a system that works.\n",
    "\n",
    "The type of input of our waste plsatic is limited to only LDPE and PET."
   ],
   "metadata": {
    "collapsed": false,
    "pycharm": {
     "name": "#%% md\n"
    }
   }
  },
  {
   "cell_type": "markdown",
   "source": [
    "### Waste plastic reaction technologies"
   ],
   "metadata": {
    "collapsed": false,
    "pycharm": {
     "name": "#%% md\n"
    }
   }
  },
  {
   "cell_type": "markdown",
   "source": [
    "#### Technology 1 for LDPE: Hydrocracking\n",
    "\n",
    "DOI: 10.1126/sciadv.abf8283\n",
    "\n",
    "250$^{\\circ}C$, 30 bar, 2hr\n",
    "\n",
    "Product Distribution taken from Table 1 HY(30)\n",
    "\n",
    "| Header 1 | Header 2 | Header 3 |\n",
    "|----------|----------|----------|\n",
    "| Row 1 Col 1 | Row 1 Col 2 | Row 1 Col 3 |\n",
    "| Row 2 Col 1 | Row 2 Col 2 | Row 2 Col 3 |\n",
    "| Row 3 Col 1 | Row 3 Col 2 | Row 3 Col 3 |\n"
   ],
   "metadata": {
    "collapsed": false,
    "pycharm": {
     "name": "#%% md\n"
    }
   }
  },
  {
   "cell_type": "markdown",
   "source": [
    "#### Technology 2 for LDPE: Pyrolysis\n",
    "\n",
    "550$^{\\circ}C$, 1 bar, 17.8s\n",
    "\n",
    "https://chemistry-europe.onlinelibrary.wiley.com/doi/full/10.1002/cssc.201903434\n",
    "\n"
   ],
   "metadata": {
    "collapsed": false,
    "pycharm": {
     "name": "#%% md\n"
    }
   }
  },
  {
   "cell_type": "markdown",
   "source": [
    "#### Technology 1 for PET: Microwave-assisted Glycolysis\n",
    "\n",
    "210$^{\\circ}C$, 1bar\n",
    "\n",
    "https://doi.org/10.1021/acssuschemeng.2c07203"
   ],
   "metadata": {
    "collapsed": false,
    "pycharm": {
     "name": "#%% md\n"
    }
   }
  },
  {
   "cell_type": "markdown",
   "source": [
    "#### Technology 2 for PET: Pyrolysis\n",
    "\n",
    "550$^{\\circ}C$, 1bar\n",
    "\n",
    "https://pubs.acs.org/doi/pdf/10.1021/ie900557c"
   ],
   "metadata": {
    "collapsed": false,
    "pycharm": {
     "name": "#%% md\n"
    }
   }
  },
  {
   "cell_type": "markdown",
   "source": [
    "#### Technology 1 for PP: Pyrolysis\n",
    "\n",
    "https://www.sciencedirect.com/science/article/pii/S004896972104986X\n",
    "\n"
   ],
   "metadata": {
    "collapsed": false,
    "pycharm": {
     "name": "#%% md\n"
    }
   }
  },
  {
   "cell_type": "markdown",
   "source": [
    "## Sets for Optimization\n",
    "\n",
    "1. Species: I"
   ],
   "metadata": {
    "collapsed": false
   }
  },
  {
   "cell_type": "code",
   "execution_count": 2,
   "outputs": [],
   "source": [
    "from orderedset import OrderedSet"
   ],
   "metadata": {
    "collapsed": false,
    "ExecuteTime": {
     "end_time": "2023-11-09T15:58:04.005522400Z",
     "start_time": "2023-11-09T15:58:03.994543500Z"
    }
   }
  },
  {
   "cell_type": "code",
   "execution_count": 3,
   "outputs": [
    {
     "data": {
      "text/plain": "OrderedSet(['CH4', 'C2H6', 'C3H8', 'C4H10', 'C5H12', 'C6H14', 'C7H16', 'C8H18', 'C9H20', 'C10H22', 'C11H24', 'C12H26', 'C13H28', 'C14H30', 'C15H32', 'C16H34', 'C17H36', 'C18H38', 'C19H40'])"
     },
     "execution_count": 3,
     "metadata": {},
     "output_type": "execute_result"
    }
   ],
   "source": [
    "alkanes = ['CH4', 'C2H6', 'C3H8', 'C4H10', 'C5H12', 'C6H14', 'C7H16', 'C8H18', 'C9H20', 'C10H22',\n",
    "           'C11H24', 'C12H26', 'C13H28', 'C14H30', 'C15H32', 'C16H34','C17H36', 'C18H38', 'C19H40']\n",
    "I = OrderedSet(alkanes)"
   ],
   "metadata": {
    "collapsed": false,
    "ExecuteTime": {
     "end_time": "2023-11-09T15:58:04.687214500Z",
     "start_time": "2023-11-09T15:58:04.663987300Z"
    }
   }
  },
  {
   "cell_type": "code",
   "execution_count": null,
   "outputs": [],
   "source": [],
   "metadata": {
    "collapsed": false
   }
  }
 ],
 "metadata": {
  "kernelspec": {
   "display_name": "Python 3",
   "language": "python",
   "name": "python3"
  },
  "language_info": {
   "codemirror_mode": {
    "name": "ipython",
    "version": 2
   },
   "file_extension": ".py",
   "mimetype": "text/x-python",
   "name": "python",
   "nbconvert_exporter": "python",
   "pygments_lexer": "ipython2",
   "version": "2.7.6"
  }
 },
 "nbformat": 4,
 "nbformat_minor": 0
}
