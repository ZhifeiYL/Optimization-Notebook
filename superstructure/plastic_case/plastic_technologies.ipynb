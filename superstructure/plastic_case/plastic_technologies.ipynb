{
 "cells": [
  {
   "cell_type": "markdown",
   "source": [
    "# Plastic Waste Recycling Technologies\n",
    "\n",
    "In this case study, we aim to come up with the technology alternatives treating different types of waste plastic."
   ],
   "metadata": {
    "collapsed": false,
    "pycharm": {
     "name": "#%% md\n"
    }
   }
  },
  {
   "cell_type": "code",
   "execution_count": 10,
   "outputs": [
    {
     "name": "stdout",
     "output_type": "stream",
     "text": [
      "Source list: ['SP-R1A-1', 'SP-R1A-2', 'SP-R2A-1', 'SP-R2A-2', 'SP-R3A-1', 'SP-R3A-2', 'SP-R4A-1', 'SP-R4A-2', 'SP-R5A-1', 'SP-R5A-2', 'SP-DT1A-1', 'SP-DT1A-2', 'SP-DT2A-1', 'SP-DT2A-2', 'SP-DT3A-1', 'SP-DT3A-2', 'SP-DT4A-1', 'SP-DT4A-2', 'SP-DT5A-1', 'SP-DT5A-2', 'SP-FRAC1A-1', 'SP-FRAC1A-2', 'SP-FRAC1A-3', 'SP-FRAC1A-4', 'SP-DT6A-1', 'SP-DT6A-2', 'SP-PSA1A-1', 'SP-PSA1A-2', 'SP-FEED-LDPE-1', 'SP-FEED-HDPE-1', 'SP-FEED-PP-1', 'SP-FEED-H2-1']\n",
      "Sink list: ['MX-R1A', 'MX-R2A', 'MX-R3A', 'MX-R4A', 'MX-R5A', 'MX-DT1A', 'MX-DT2A', 'MX-DT3A', 'MX-DT4A', 'MX-DT5A', 'MX-FRAC1A', 'MX-DT6A', 'MX-PSA1A', 'MX-PROD-WASTE', 'MX-PROD-ELEC', 'MX-PROD-ETHANE', 'MX-PROD-GAS', 'MX-PROD-JTF', 'MX-PROD-DSL']\n",
      "0\n"
     ]
    }
   ],
   "source": [
    "import pandas as pd\n",
    "import numpy as np\n",
    "\n",
    "# Read CSV file into a DataFrame\n",
    "connectivity = pd.read_csv(\"connectivity_case1.csv\", index_col=0)\n",
    "\n",
    "# Extract source and sink lists\n",
    "source_list = list(connectivity.index)\n",
    "sink_list = list(connectivity.columns)\n",
    "\n",
    "# Print extracted information\n",
    "print(\"Source list:\", source_list)\n",
    "print(\"Sink list:\", sink_list)\n",
    "# print(\"Connectivity:\")\n",
    "# print(connectivity)\n",
    "print(connectivity['MX-R1A']['SP-R1A-1'])"
   ],
   "metadata": {
    "collapsed": false,
    "ExecuteTime": {
     "end_time": "2023-11-09T15:58:04.005522400Z",
     "start_time": "2023-11-09T15:58:03.994543500Z"
    },
    "pycharm": {
     "name": "#%%\n"
    }
   }
  },
  {
   "cell_type": "code",
   "execution_count": 11,
   "outputs": [
    {
     "name": "stdout",
     "output_type": "stream",
     "text": [
      "['SP-R1A-1_TO_MX-DT1A', 'SP-R1A-1_TO_MX-PROD-ELEC', 'SP-R1A-2_TO_MX-PROD-WASTE', 'SP-R2A-1_TO_MX-DT1A', 'SP-R2A-1_TO_MX-PROD-ELEC', 'SP-R2A-2_TO_MX-PROD-WASTE', 'SP-R3A-1_TO_MX-DT1A', 'SP-R3A-1_TO_MX-PROD-ELEC', 'SP-R3A-2_TO_MX-PROD-WASTE', 'SP-R4A-1_TO_MX-DT1A', 'SP-R4A-1_TO_MX-PROD-ELEC', 'SP-R4A-2_TO_MX-PROD-WASTE', 'SP-R5A-1_TO_MX-DT1A', 'SP-R5A-1_TO_MX-PROD-ELEC', 'SP-R5A-2_TO_MX-PROD-WASTE', 'SP-DT1A-1_TO_MX-DT2A', 'SP-DT1A-1_TO_MX-DT4A', 'SP-DT1A-1_TO_MX-PROD-ELEC', 'SP-DT1A-2_TO_MX-FRAC1A', 'SP-DT1A-2_TO_MX-PROD-ELEC', 'SP-DT1A-2_TO_MX-PROD-GAS', 'SP-DT1A-2_TO_MX-PROD-JTF', 'SP-DT1A-2_TO_MX-PROD-DSL', 'SP-DT2A-1_TO_MX-PSA1A', 'SP-DT2A-1_TO_MX-PROD-ELEC', 'SP-DT2A-2_TO_MX-DT3A', 'SP-DT2A-2_TO_MX-PROD-WASTE', 'SP-DT2A-2_TO_MX-PROD-ELEC', 'SP-DT3A-1_TO_MX-PROD-ELEC', 'SP-DT3A-1_TO_MX-PROD-ETHANE', 'SP-DT3A-2_TO_MX-PROD-ELEC', 'SP-DT3A-2_TO_MX-PROD-GAS', 'SP-DT3A-2_TO_MX-PROD-JTF', 'SP-DT3A-2_TO_MX-PROD-DSL', 'SP-DT4A-1_TO_MX-DT5A', 'SP-DT4A-1_TO_MX-PROD-ELEC', 'SP-DT4A-2_TO_MX-PROD-ELEC', 'SP-DT4A-2_TO_MX-PROD-GAS', 'SP-DT4A-2_TO_MX-PROD-JTF', 'SP-DT4A-2_TO_MX-PROD-DSL', 'SP-DT5A-1_TO_MX-PSA1A', 'SP-DT5A-1_TO_MX-PROD-ELEC', 'SP-DT5A-2_TO_MX-PROD-ELEC', 'SP-DT5A-2_TO_MX-PROD-ETHANE', 'SP-FRAC1A-1_TO_MX-PROD-ELEC', 'SP-FRAC1A-1_TO_MX-PROD-GAS', 'SP-FRAC1A-1_TO_MX-PROD-JTF', 'SP-FRAC1A-1_TO_MX-PROD-DSL', 'SP-FRAC1A-2_TO_MX-PROD-ELEC', 'SP-FRAC1A-2_TO_MX-PROD-GAS', 'SP-FRAC1A-2_TO_MX-PROD-JTF', 'SP-FRAC1A-2_TO_MX-PROD-DSL', 'SP-FRAC1A-3_TO_MX-PROD-ELEC', 'SP-FRAC1A-3_TO_MX-PROD-GAS', 'SP-FRAC1A-3_TO_MX-PROD-JTF', 'SP-FRAC1A-3_TO_MX-PROD-DSL', 'SP-FRAC1A-4_TO_MX-DT6A', 'SP-FRAC1A-4_TO_MX-PROD-ELEC', 'SP-FRAC1A-4_TO_MX-PROD-GAS', 'SP-FRAC1A-4_TO_MX-PROD-JTF', 'SP-FRAC1A-4_TO_MX-PROD-DSL', 'SP-DT6A-1_TO_MX-PROD-ELEC', 'SP-DT6A-1_TO_MX-PROD-GAS', 'SP-DT6A-1_TO_MX-PROD-JTF', 'SP-DT6A-1_TO_MX-PROD-DSL', 'SP-DT6A-2_TO_MX-PROD-ELEC', 'SP-DT6A-2_TO_MX-PROD-GAS', 'SP-DT6A-2_TO_MX-PROD-JTF', 'SP-DT6A-2_TO_MX-PROD-DSL', 'SP-PSA1A-1_TO_MX-R1A', 'SP-PSA1A-1_TO_MX-R2A', 'SP-PSA1A-1_TO_MX-R3A', 'SP-PSA1A-1_TO_MX-R4A', 'SP-PSA1A-1_TO_MX-R5A', 'SP-PSA1A-1_TO_MX-PROD-ELEC', 'SP-PSA1A-2_TO_MX-PROD-ELEC', 'SP-FEED-LDPE-1_TO_MX-R1A', 'SP-FEED-HDPE-1_TO_MX-R2A', 'SP-FEED-HDPE-1_TO_MX-R5A', 'SP-FEED-PP-1_TO_MX-R3A', 'SP-FEED-PP-1_TO_MX-R4A', 'SP-FEED-PP-1_TO_MX-R5A', 'SP-FEED-H2-1_TO_MX-R1A', 'SP-FEED-H2-1_TO_MX-R2A', 'SP-FEED-H2-1_TO_MX-R3A', 'SP-FEED-H2-1_TO_MX-R4A', 'SP-FEED-H2-1_TO_MX-R5A']\n"
     ]
    }
   ],
   "source": [
    "stream_names_sup = []\n",
    "inlets = []\n",
    "outlets = []\n",
    "mxmap = {}\n",
    "techmap = {}\n",
    "sptmap = {}\n",
    "\n",
    "for index, row in connectivity.iterrows():\n",
    "    for column in connectivity:\n",
    "        value = row[column]\n",
    "        # print(f\"Source: {index}, Sink: {column}, Value: {value}\")\n",
    "        if not value == 0:\n",
    "            stream_name = index + \"_TO_\" + column\n",
    "            stream_names_sup.append(stream_name)\n",
    "            inlets.append(f'{column}.{stream_name}')  # Assuming column is the inlet\n",
    "            outlets.append(f'{index}.{stream_name}')  # Assuming index is the outlet\n",
    "\n",
    "print(stream_names_sup)"
   ],
   "metadata": {
    "collapsed": false,
    "ExecuteTime": {
     "end_time": "2023-11-09T15:58:04.687214500Z",
     "start_time": "2023-11-09T15:58:04.663987300Z"
    },
    "pycharm": {
     "name": "#%%\n"
    }
   }
  },
  {
   "cell_type": "code",
   "execution_count": 12,
   "outputs": [],
   "source": [
    "def write_list_to_file(strings, filename, n, separator=\", \"):\n",
    "    with open(filename, \"w\") as f:\n",
    "        for i in range(0, len(strings), n):\n",
    "            # Check if it's the last line\n",
    "            last_line = i + n >= len(strings)\n",
    "            if not last_line:\n",
    "                separator_with_newline = f\"{separator}\\n\"\n",
    "            else:\n",
    "                separator_with_newline = \"\\n\"\n",
    "            f.write(separator.join(strings[i:i+n]) + separator_with_newline)\n",
    "\n",
    "n = 5\n",
    "filename = \"stream_names_splitmix.txt\"\n",
    "separator = \",\"\n",
    "\n",
    "write_list_to_file(stream_names_sup, filename, n, separator)"
   ],
   "metadata": {
    "collapsed": false,
    "pycharm": {
     "name": "#%%\n"
    }
   }
  },
  {
   "cell_type": "code",
   "execution_count": 13,
   "outputs": [
    {
     "data": {
      "text/plain": "             Input  Output\nElements                  \nR1A            1.0     2.0\nR2A            1.0     2.0\nR3A            1.0     2.0\nR4A            1.0     2.0\nR5A            1.0     2.0\nDT1A           1.0     2.0\nDT2A           1.0     2.0\nDT3A           1.0     2.0\nDT4A           1.0     2.0\nDT5A           1.0     2.0\nFRAC1A         1.0     4.0\nDT6A           1.0     2.0\nPSA1A          1.0     2.0\nFEED-LDPE      NaN     1.0\nFEED-HDPE      NaN     1.0\nFEED-PP        NaN     1.0\nFEED-H2        NaN     1.0\nPROD-WASTE     1.0     NaN\nPROD-ELEC      1.0     NaN\nPROD-ETHANE    1.0     NaN\nPROD-GAS       1.0     NaN\nPROD-JTF       1.0     NaN\nPROD-DSL       1.0     NaN",
      "text/html": "<div>\n<style scoped>\n    .dataframe tbody tr th:only-of-type {\n        vertical-align: middle;\n    }\n\n    .dataframe tbody tr th {\n        vertical-align: top;\n    }\n\n    .dataframe thead th {\n        text-align: right;\n    }\n</style>\n<table border=\"1\" class=\"dataframe\">\n  <thead>\n    <tr style=\"text-align: right;\">\n      <th></th>\n      <th>Input</th>\n      <th>Output</th>\n    </tr>\n    <tr>\n      <th>Elements</th>\n      <th></th>\n      <th></th>\n    </tr>\n  </thead>\n  <tbody>\n    <tr>\n      <th>R1A</th>\n      <td>1.0</td>\n      <td>2.0</td>\n    </tr>\n    <tr>\n      <th>R2A</th>\n      <td>1.0</td>\n      <td>2.0</td>\n    </tr>\n    <tr>\n      <th>R3A</th>\n      <td>1.0</td>\n      <td>2.0</td>\n    </tr>\n    <tr>\n      <th>R4A</th>\n      <td>1.0</td>\n      <td>2.0</td>\n    </tr>\n    <tr>\n      <th>R5A</th>\n      <td>1.0</td>\n      <td>2.0</td>\n    </tr>\n    <tr>\n      <th>DT1A</th>\n      <td>1.0</td>\n      <td>2.0</td>\n    </tr>\n    <tr>\n      <th>DT2A</th>\n      <td>1.0</td>\n      <td>2.0</td>\n    </tr>\n    <tr>\n      <th>DT3A</th>\n      <td>1.0</td>\n      <td>2.0</td>\n    </tr>\n    <tr>\n      <th>DT4A</th>\n      <td>1.0</td>\n      <td>2.0</td>\n    </tr>\n    <tr>\n      <th>DT5A</th>\n      <td>1.0</td>\n      <td>2.0</td>\n    </tr>\n    <tr>\n      <th>FRAC1A</th>\n      <td>1.0</td>\n      <td>4.0</td>\n    </tr>\n    <tr>\n      <th>DT6A</th>\n      <td>1.0</td>\n      <td>2.0</td>\n    </tr>\n    <tr>\n      <th>PSA1A</th>\n      <td>1.0</td>\n      <td>2.0</td>\n    </tr>\n    <tr>\n      <th>FEED-LDPE</th>\n      <td>NaN</td>\n      <td>1.0</td>\n    </tr>\n    <tr>\n      <th>FEED-HDPE</th>\n      <td>NaN</td>\n      <td>1.0</td>\n    </tr>\n    <tr>\n      <th>FEED-PP</th>\n      <td>NaN</td>\n      <td>1.0</td>\n    </tr>\n    <tr>\n      <th>FEED-H2</th>\n      <td>NaN</td>\n      <td>1.0</td>\n    </tr>\n    <tr>\n      <th>PROD-WASTE</th>\n      <td>1.0</td>\n      <td>NaN</td>\n    </tr>\n    <tr>\n      <th>PROD-ELEC</th>\n      <td>1.0</td>\n      <td>NaN</td>\n    </tr>\n    <tr>\n      <th>PROD-ETHANE</th>\n      <td>1.0</td>\n      <td>NaN</td>\n    </tr>\n    <tr>\n      <th>PROD-GAS</th>\n      <td>1.0</td>\n      <td>NaN</td>\n    </tr>\n    <tr>\n      <th>PROD-JTF</th>\n      <td>1.0</td>\n      <td>NaN</td>\n    </tr>\n    <tr>\n      <th>PROD-DSL</th>\n      <td>1.0</td>\n      <td>NaN</td>\n    </tr>\n  </tbody>\n</table>\n</div>"
     },
     "execution_count": 13,
     "metadata": {},
     "output_type": "execute_result"
    }
   ],
   "source": [
    "elements = pd.read_csv(\"elements_case1.csv\", index_col=0)\n",
    "elements"
   ],
   "metadata": {
    "collapsed": false,
    "pycharm": {
     "name": "#%%\n"
    }
   }
  },
  {
   "cell_type": "code",
   "execution_count": 14,
   "outputs": [
    {
     "name": "stdout",
     "output_type": "stream",
     "text": [
      "['R1A_IN_1', 'R2A_IN_1', 'R3A_IN_1', 'R4A_IN_1', 'R5A_IN_1', 'DT1A_IN_1', 'DT2A_IN_1', 'DT3A_IN_1', 'DT4A_IN_1', 'DT5A_IN_1', 'FRAC1A_IN_1', 'DT6A_IN_1', 'PSA1A_IN_1', 'PROD-WASTE_IN_1', 'PROD-ELEC_IN_1', 'PROD-ETHANE_IN_1', 'PROD-GAS_IN_1', 'PROD-JTF_IN_1', 'PROD-DSL_IN_1']\n"
     ]
    }
   ],
   "source": [
    "stream_names_ele_in = []\n",
    "stream_names_ele_out = []\n",
    "\n",
    "for index, row in elements.iterrows():\n",
    "    for column in elements:\n",
    "        value = row[column]\n",
    "        # print(f\"Technology: {index}, Type: {column}, Value: {value}\")\n",
    "        if not np.isnan(value):\n",
    "            if column == \"Input\":\n",
    "                for i in range(int(value)):\n",
    "                    stream_name = f'{index}_IN_{i+1}'\n",
    "                    stream_names_ele_in.append(stream_name)\n",
    "                    inlets.append(f'{index}.{stream_name}')\n",
    "                    # The outlet of a mixer is an inlet of a task/element\n",
    "                    mxmap['MX-'+index] = stream_name\n",
    "                    if not index.startswith('PROD-'):\n",
    "                        techmap[index] = stream_name\n",
    "            elif column == \"Output\":\n",
    "                for i in range(int(value)):\n",
    "                    stream_name = f'{index}_OUT_{i+1}'\n",
    "                    stream_names_ele_out.append(stream_name)\n",
    "                    outlets.append(f'{index}.{stream_name}')\n",
    "                    # The inlet of a splitter is an outlet of a task/element\n",
    "                    sptmap[f'SP-{index}-{i+1}'] = stream_name\n",
    "\n",
    "\n",
    "print(stream_names_ele_in)"
   ],
   "metadata": {
    "collapsed": false,
    "pycharm": {
     "name": "#%%\n"
    }
   }
  },
  {
   "cell_type": "code",
   "execution_count": 15,
   "outputs": [],
   "source": [
    "n = 5\n",
    "separator = \",\"\n",
    "\n",
    "write_list_to_file(stream_names_ele_in, 'stream_names_ele_in.txt', n, separator)\n",
    "write_list_to_file(stream_names_ele_out, 'stream_names_ele_out.txt', n, separator)"
   ],
   "metadata": {
    "collapsed": false,
    "pycharm": {
     "name": "#%%\n"
    }
   }
  },
  {
   "cell_type": "code",
   "execution_count": 16,
   "outputs": [],
   "source": [
    "assert len(inlets) == len(set(inlets)), \"Duplicate found in inlets\"\n",
    "assert len(outlets) == len(set(outlets)), \"Duplicate found in outlets\""
   ],
   "metadata": {
    "collapsed": false,
    "pycharm": {
     "name": "#%%\n"
    }
   }
  },
  {
   "cell_type": "code",
   "execution_count": 17,
   "outputs": [],
   "source": [
    "with open('io_parameters.txt', 'w') as file:\n",
    "    file.write('inlets(i,j) /\\n')\n",
    "    for inlet in inlets:\n",
    "        file.write(f'    {inlet} 1\\n')  # Each entry followed by a 1\n",
    "    file.write('/;\\n\\n')\n",
    "\n",
    "    file.write('outlets(i,j) /\\n')\n",
    "    for outlet in outlets:\n",
    "        file.write(f'    {outlet} 1\\n')  # Each entry followed by a 1\n",
    "    file.write('/;\\n')"
   ],
   "metadata": {
    "collapsed": false,
    "pycharm": {
     "name": "#%%\n"
    }
   }
  },
  {
   "cell_type": "code",
   "execution_count": 18,
   "outputs": [],
   "source": [
    "# Write to a text file in GAMS format\n",
    "with open('mixsplit_maps.txt', 'w') as file:\n",
    "    file.write('MxMap(IMX,J) /\\n')\n",
    "    for mixer, outlet in mxmap.items():\n",
    "        file.write(f'    {mixer}.{outlet} 1\\n')\n",
    "    file.write('/;\\n\\n')\n",
    "\n",
    "    file.write('SptMap(ISPT,J) /\\n')\n",
    "    for splitter, inlet in sptmap.items():\n",
    "        file.write(f'    {splitter}.{inlet} 1\\n')\n",
    "    file.write('/;\\n')\n",
    "\n",
    "    file.write('TechMap(ITECH,J) /\\n')\n",
    "    for tech, inlet in techmap.items():\n",
    "        file.write(f'    {tech}.{inlet} 1\\n')\n",
    "    file.write('/;\\n')"
   ],
   "metadata": {
    "collapsed": false,
    "pycharm": {
     "name": "#%%\n"
    }
   }
  },
  {
   "cell_type": "code",
   "execution_count": 18,
   "outputs": [],
   "source": [],
   "metadata": {
    "collapsed": false,
    "pycharm": {
     "name": "#%%\n"
    }
   }
  }
 ],
 "metadata": {
  "kernelspec": {
   "display_name": "Python 3",
   "language": "python",
   "name": "python3"
  },
  "language_info": {
   "codemirror_mode": {
    "name": "ipython",
    "version": 2
   },
   "file_extension": ".py",
   "mimetype": "text/x-python",
   "name": "python",
   "nbconvert_exporter": "python",
   "pygments_lexer": "ipython2",
   "version": "2.7.6"
  }
 },
 "nbformat": 4,
 "nbformat_minor": 0
}