{
 "cells": [
  {
   "cell_type": "markdown",
   "source": [
    "## A module for data preparation of material properties for the case study"
   ],
   "metadata": {
    "collapsed": false,
    "pycharm": {
     "name": "#%% md\n"
    }
   }
  },
  {
   "cell_type": "code",
   "execution_count": 33,
   "outputs": [],
   "source": [
    "import numpy as np\n",
    "import requests\n",
    "from bs4 import BeautifulSoup\n",
    "import pandas as pd"
   ],
   "metadata": {
    "collapsed": false,
    "pycharm": {
     "name": "#%%\n"
    }
   }
  },
  {
   "cell_type": "markdown",
   "source": [
    "### Create a dataframe for parameters needed\n",
    "\n",
    "All components require molecular weight. If a component is burnable(EGEN=1), LHV is required. If a component is a trace component, the material property other than molecular weight is allowed to be empty. Otherwise, all properties are needed."
   ],
   "metadata": {
    "collapsed": false,
    "pycharm": {
     "name": "#%% md\n"
    }
   }
  },
  {
   "cell_type": "code",
   "execution_count": 34,
   "outputs": [],
   "source": [
    "compounds = [f'C{n}A' for n in range(1, 32)] + ['H2', 'LDPE', 'HDPE', 'PP', 'WASTE']\n",
    "\n",
    "# Create a DataFrame with empty values (NaN) and the compounds as the row index\n",
    "df = pd.DataFrame(index=compounds, columns=['MW', 'LHV', 'CN', 'RON', 'rho', 'mu', 'TB', 'trace', 'EGEN'])\n",
    "df;"
   ],
   "metadata": {
    "collapsed": false,
    "pycharm": {
     "name": "#%%\n"
    }
   }
  },
  {
   "cell_type": "code",
   "execution_count": 35,
   "outputs": [],
   "source": [
    "material = pd.read_csv(\"parameters/material.csv\")\n",
    "trace_dict = {}\n",
    "egen_dict = {}\n",
    "\n",
    "for index, row in material.iterrows():\n",
    "    trace_dict[row[\"Code\"]] = row[\"trace\"]\n",
    "    egen_dict[row[\"Code\"]] = row[\"Egen\"]\n",
    "\n",
    "trace_dict, egen_dict;"
   ],
   "metadata": {
    "collapsed": false,
    "pycharm": {
     "name": "#%%\n"
    }
   }
  },
  {
   "cell_type": "code",
   "execution_count": 36,
   "outputs": [
    {
     "data": {
      "text/plain": "        MW  LHV   CN  RON  rho   mu   TB trace EGEN\nC1A    NaN  NaN  NaN  NaN  NaN  NaN  NaN     1    1\nC2A    NaN  NaN  NaN  NaN  NaN  NaN  NaN     1    1\nC3A    NaN  NaN  NaN  NaN  NaN  NaN  NaN     0    1\nC4A    NaN  NaN  NaN  NaN  NaN  NaN  NaN     0    1\nC5A    NaN  NaN  NaN  NaN  NaN  NaN  NaN     0    1\nC6A    NaN  NaN  NaN  NaN  NaN  NaN  NaN     0    1\nC7A    NaN  NaN  NaN  NaN  NaN  NaN  NaN     0    1\nC8A    NaN  NaN  NaN  NaN  NaN  NaN  NaN     0    1\nC9A    NaN  NaN  NaN  NaN  NaN  NaN  NaN     0    1\nC10A   NaN  NaN  NaN  NaN  NaN  NaN  NaN     0    1\nC11A   NaN  NaN  NaN  NaN  NaN  NaN  NaN     0    1\nC12A   NaN  NaN  NaN  NaN  NaN  NaN  NaN     0    1\nC13A   NaN  NaN  NaN  NaN  NaN  NaN  NaN     0    1\nC14A   NaN  NaN  NaN  NaN  NaN  NaN  NaN     0    1\nC15A   NaN  NaN  NaN  NaN  NaN  NaN  NaN     0    1\nC16A   NaN  NaN  NaN  NaN  NaN  NaN  NaN     0    1\nC17A   NaN  NaN  NaN  NaN  NaN  NaN  NaN     0    1\nC18A   NaN  NaN  NaN  NaN  NaN  NaN  NaN     0    1\nC19A   NaN  NaN  NaN  NaN  NaN  NaN  NaN     0    1\nC20A   NaN  NaN  NaN  NaN  NaN  NaN  NaN     0    1\nC21A   NaN  NaN  NaN  NaN  NaN  NaN  NaN     0    1\nC22A   NaN  NaN  NaN  NaN  NaN  NaN  NaN     0    1\nC23A   NaN  NaN  NaN  NaN  NaN  NaN  NaN     0    1\nC24A   NaN  NaN  NaN  NaN  NaN  NaN  NaN     0    1\nC25A   NaN  NaN  NaN  NaN  NaN  NaN  NaN     0    1\nC26A   NaN  NaN  NaN  NaN  NaN  NaN  NaN     0    1\nC27A   NaN  NaN  NaN  NaN  NaN  NaN  NaN     0    1\nC28A   NaN  NaN  NaN  NaN  NaN  NaN  NaN     0    1\nC29A   NaN  NaN  NaN  NaN  NaN  NaN  NaN     0    1\nC30A   NaN  NaN  NaN  NaN  NaN  NaN  NaN     0    1\nC31A   NaN  NaN  NaN  NaN  NaN  NaN  NaN     0    1\nH2     NaN  NaN  NaN  NaN  NaN  NaN  NaN     1    1\nLDPE   NaN  NaN  NaN  NaN  NaN  NaN  NaN     1    0\nHDPE   NaN  NaN  NaN  NaN  NaN  NaN  NaN     1    0\nPP     NaN  NaN  NaN  NaN  NaN  NaN  NaN     1    0\nWASTE  NaN  NaN  NaN  NaN  NaN  NaN  NaN     1    0",
      "text/html": "<div>\n<style scoped>\n    .dataframe tbody tr th:only-of-type {\n        vertical-align: middle;\n    }\n\n    .dataframe tbody tr th {\n        vertical-align: top;\n    }\n\n    .dataframe thead th {\n        text-align: right;\n    }\n</style>\n<table border=\"1\" class=\"dataframe\">\n  <thead>\n    <tr style=\"text-align: right;\">\n      <th></th>\n      <th>MW</th>\n      <th>LHV</th>\n      <th>CN</th>\n      <th>RON</th>\n      <th>rho</th>\n      <th>mu</th>\n      <th>TB</th>\n      <th>trace</th>\n      <th>EGEN</th>\n    </tr>\n  </thead>\n  <tbody>\n    <tr>\n      <th>C1A</th>\n      <td>NaN</td>\n      <td>NaN</td>\n      <td>NaN</td>\n      <td>NaN</td>\n      <td>NaN</td>\n      <td>NaN</td>\n      <td>NaN</td>\n      <td>1</td>\n      <td>1</td>\n    </tr>\n    <tr>\n      <th>C2A</th>\n      <td>NaN</td>\n      <td>NaN</td>\n      <td>NaN</td>\n      <td>NaN</td>\n      <td>NaN</td>\n      <td>NaN</td>\n      <td>NaN</td>\n      <td>1</td>\n      <td>1</td>\n    </tr>\n    <tr>\n      <th>C3A</th>\n      <td>NaN</td>\n      <td>NaN</td>\n      <td>NaN</td>\n      <td>NaN</td>\n      <td>NaN</td>\n      <td>NaN</td>\n      <td>NaN</td>\n      <td>0</td>\n      <td>1</td>\n    </tr>\n    <tr>\n      <th>C4A</th>\n      <td>NaN</td>\n      <td>NaN</td>\n      <td>NaN</td>\n      <td>NaN</td>\n      <td>NaN</td>\n      <td>NaN</td>\n      <td>NaN</td>\n      <td>0</td>\n      <td>1</td>\n    </tr>\n    <tr>\n      <th>C5A</th>\n      <td>NaN</td>\n      <td>NaN</td>\n      <td>NaN</td>\n      <td>NaN</td>\n      <td>NaN</td>\n      <td>NaN</td>\n      <td>NaN</td>\n      <td>0</td>\n      <td>1</td>\n    </tr>\n    <tr>\n      <th>C6A</th>\n      <td>NaN</td>\n      <td>NaN</td>\n      <td>NaN</td>\n      <td>NaN</td>\n      <td>NaN</td>\n      <td>NaN</td>\n      <td>NaN</td>\n      <td>0</td>\n      <td>1</td>\n    </tr>\n    <tr>\n      <th>C7A</th>\n      <td>NaN</td>\n      <td>NaN</td>\n      <td>NaN</td>\n      <td>NaN</td>\n      <td>NaN</td>\n      <td>NaN</td>\n      <td>NaN</td>\n      <td>0</td>\n      <td>1</td>\n    </tr>\n    <tr>\n      <th>C8A</th>\n      <td>NaN</td>\n      <td>NaN</td>\n      <td>NaN</td>\n      <td>NaN</td>\n      <td>NaN</td>\n      <td>NaN</td>\n      <td>NaN</td>\n      <td>0</td>\n      <td>1</td>\n    </tr>\n    <tr>\n      <th>C9A</th>\n      <td>NaN</td>\n      <td>NaN</td>\n      <td>NaN</td>\n      <td>NaN</td>\n      <td>NaN</td>\n      <td>NaN</td>\n      <td>NaN</td>\n      <td>0</td>\n      <td>1</td>\n    </tr>\n    <tr>\n      <th>C10A</th>\n      <td>NaN</td>\n      <td>NaN</td>\n      <td>NaN</td>\n      <td>NaN</td>\n      <td>NaN</td>\n      <td>NaN</td>\n      <td>NaN</td>\n      <td>0</td>\n      <td>1</td>\n    </tr>\n    <tr>\n      <th>C11A</th>\n      <td>NaN</td>\n      <td>NaN</td>\n      <td>NaN</td>\n      <td>NaN</td>\n      <td>NaN</td>\n      <td>NaN</td>\n      <td>NaN</td>\n      <td>0</td>\n      <td>1</td>\n    </tr>\n    <tr>\n      <th>C12A</th>\n      <td>NaN</td>\n      <td>NaN</td>\n      <td>NaN</td>\n      <td>NaN</td>\n      <td>NaN</td>\n      <td>NaN</td>\n      <td>NaN</td>\n      <td>0</td>\n      <td>1</td>\n    </tr>\n    <tr>\n      <th>C13A</th>\n      <td>NaN</td>\n      <td>NaN</td>\n      <td>NaN</td>\n      <td>NaN</td>\n      <td>NaN</td>\n      <td>NaN</td>\n      <td>NaN</td>\n      <td>0</td>\n      <td>1</td>\n    </tr>\n    <tr>\n      <th>C14A</th>\n      <td>NaN</td>\n      <td>NaN</td>\n      <td>NaN</td>\n      <td>NaN</td>\n      <td>NaN</td>\n      <td>NaN</td>\n      <td>NaN</td>\n      <td>0</td>\n      <td>1</td>\n    </tr>\n    <tr>\n      <th>C15A</th>\n      <td>NaN</td>\n      <td>NaN</td>\n      <td>NaN</td>\n      <td>NaN</td>\n      <td>NaN</td>\n      <td>NaN</td>\n      <td>NaN</td>\n      <td>0</td>\n      <td>1</td>\n    </tr>\n    <tr>\n      <th>C16A</th>\n      <td>NaN</td>\n      <td>NaN</td>\n      <td>NaN</td>\n      <td>NaN</td>\n      <td>NaN</td>\n      <td>NaN</td>\n      <td>NaN</td>\n      <td>0</td>\n      <td>1</td>\n    </tr>\n    <tr>\n      <th>C17A</th>\n      <td>NaN</td>\n      <td>NaN</td>\n      <td>NaN</td>\n      <td>NaN</td>\n      <td>NaN</td>\n      <td>NaN</td>\n      <td>NaN</td>\n      <td>0</td>\n      <td>1</td>\n    </tr>\n    <tr>\n      <th>C18A</th>\n      <td>NaN</td>\n      <td>NaN</td>\n      <td>NaN</td>\n      <td>NaN</td>\n      <td>NaN</td>\n      <td>NaN</td>\n      <td>NaN</td>\n      <td>0</td>\n      <td>1</td>\n    </tr>\n    <tr>\n      <th>C19A</th>\n      <td>NaN</td>\n      <td>NaN</td>\n      <td>NaN</td>\n      <td>NaN</td>\n      <td>NaN</td>\n      <td>NaN</td>\n      <td>NaN</td>\n      <td>0</td>\n      <td>1</td>\n    </tr>\n    <tr>\n      <th>C20A</th>\n      <td>NaN</td>\n      <td>NaN</td>\n      <td>NaN</td>\n      <td>NaN</td>\n      <td>NaN</td>\n      <td>NaN</td>\n      <td>NaN</td>\n      <td>0</td>\n      <td>1</td>\n    </tr>\n    <tr>\n      <th>C21A</th>\n      <td>NaN</td>\n      <td>NaN</td>\n      <td>NaN</td>\n      <td>NaN</td>\n      <td>NaN</td>\n      <td>NaN</td>\n      <td>NaN</td>\n      <td>0</td>\n      <td>1</td>\n    </tr>\n    <tr>\n      <th>C22A</th>\n      <td>NaN</td>\n      <td>NaN</td>\n      <td>NaN</td>\n      <td>NaN</td>\n      <td>NaN</td>\n      <td>NaN</td>\n      <td>NaN</td>\n      <td>0</td>\n      <td>1</td>\n    </tr>\n    <tr>\n      <th>C23A</th>\n      <td>NaN</td>\n      <td>NaN</td>\n      <td>NaN</td>\n      <td>NaN</td>\n      <td>NaN</td>\n      <td>NaN</td>\n      <td>NaN</td>\n      <td>0</td>\n      <td>1</td>\n    </tr>\n    <tr>\n      <th>C24A</th>\n      <td>NaN</td>\n      <td>NaN</td>\n      <td>NaN</td>\n      <td>NaN</td>\n      <td>NaN</td>\n      <td>NaN</td>\n      <td>NaN</td>\n      <td>0</td>\n      <td>1</td>\n    </tr>\n    <tr>\n      <th>C25A</th>\n      <td>NaN</td>\n      <td>NaN</td>\n      <td>NaN</td>\n      <td>NaN</td>\n      <td>NaN</td>\n      <td>NaN</td>\n      <td>NaN</td>\n      <td>0</td>\n      <td>1</td>\n    </tr>\n    <tr>\n      <th>C26A</th>\n      <td>NaN</td>\n      <td>NaN</td>\n      <td>NaN</td>\n      <td>NaN</td>\n      <td>NaN</td>\n      <td>NaN</td>\n      <td>NaN</td>\n      <td>0</td>\n      <td>1</td>\n    </tr>\n    <tr>\n      <th>C27A</th>\n      <td>NaN</td>\n      <td>NaN</td>\n      <td>NaN</td>\n      <td>NaN</td>\n      <td>NaN</td>\n      <td>NaN</td>\n      <td>NaN</td>\n      <td>0</td>\n      <td>1</td>\n    </tr>\n    <tr>\n      <th>C28A</th>\n      <td>NaN</td>\n      <td>NaN</td>\n      <td>NaN</td>\n      <td>NaN</td>\n      <td>NaN</td>\n      <td>NaN</td>\n      <td>NaN</td>\n      <td>0</td>\n      <td>1</td>\n    </tr>\n    <tr>\n      <th>C29A</th>\n      <td>NaN</td>\n      <td>NaN</td>\n      <td>NaN</td>\n      <td>NaN</td>\n      <td>NaN</td>\n      <td>NaN</td>\n      <td>NaN</td>\n      <td>0</td>\n      <td>1</td>\n    </tr>\n    <tr>\n      <th>C30A</th>\n      <td>NaN</td>\n      <td>NaN</td>\n      <td>NaN</td>\n      <td>NaN</td>\n      <td>NaN</td>\n      <td>NaN</td>\n      <td>NaN</td>\n      <td>0</td>\n      <td>1</td>\n    </tr>\n    <tr>\n      <th>C31A</th>\n      <td>NaN</td>\n      <td>NaN</td>\n      <td>NaN</td>\n      <td>NaN</td>\n      <td>NaN</td>\n      <td>NaN</td>\n      <td>NaN</td>\n      <td>0</td>\n      <td>1</td>\n    </tr>\n    <tr>\n      <th>H2</th>\n      <td>NaN</td>\n      <td>NaN</td>\n      <td>NaN</td>\n      <td>NaN</td>\n      <td>NaN</td>\n      <td>NaN</td>\n      <td>NaN</td>\n      <td>1</td>\n      <td>1</td>\n    </tr>\n    <tr>\n      <th>LDPE</th>\n      <td>NaN</td>\n      <td>NaN</td>\n      <td>NaN</td>\n      <td>NaN</td>\n      <td>NaN</td>\n      <td>NaN</td>\n      <td>NaN</td>\n      <td>1</td>\n      <td>0</td>\n    </tr>\n    <tr>\n      <th>HDPE</th>\n      <td>NaN</td>\n      <td>NaN</td>\n      <td>NaN</td>\n      <td>NaN</td>\n      <td>NaN</td>\n      <td>NaN</td>\n      <td>NaN</td>\n      <td>1</td>\n      <td>0</td>\n    </tr>\n    <tr>\n      <th>PP</th>\n      <td>NaN</td>\n      <td>NaN</td>\n      <td>NaN</td>\n      <td>NaN</td>\n      <td>NaN</td>\n      <td>NaN</td>\n      <td>NaN</td>\n      <td>1</td>\n      <td>0</td>\n    </tr>\n    <tr>\n      <th>WASTE</th>\n      <td>NaN</td>\n      <td>NaN</td>\n      <td>NaN</td>\n      <td>NaN</td>\n      <td>NaN</td>\n      <td>NaN</td>\n      <td>NaN</td>\n      <td>1</td>\n      <td>0</td>\n    </tr>\n  </tbody>\n</table>\n</div>"
     },
     "execution_count": 36,
     "metadata": {},
     "output_type": "execute_result"
    }
   ],
   "source": [
    "for key, val in trace_dict.items():\n",
    "    df.loc[key][\"trace\"] = val\n",
    "    df.loc[key][\"EGEN\"] = egen_dict[key]\n",
    "\n",
    "df.loc[\"WASTE\", \"trace\"] = 1\n",
    "df.loc[\"WASTE\", \"EGEN\"] = 0\n",
    "df"
   ],
   "metadata": {
    "collapsed": false,
    "pycharm": {
     "name": "#%%\n"
    }
   }
  },
  {
   "cell_type": "markdown",
   "source": [
    "### The density, boiling point, and molecular weight are mostly obtained from [Engineering toolbox](https://www.engineeringtoolbox.com/hydrocarbon-boiling-melting-flash-autoignition-point-density-gravity-molweight-d_1966.html.)"
   ],
   "metadata": {
    "collapsed": false,
    "pycharm": {
     "name": "#%% md\n"
    }
   }
  },
  {
   "cell_type": "code",
   "execution_count": 37,
   "outputs": [],
   "source": [
    "def fetch_hydrocarbon_data(url):\n",
    "    # Send a request to the URL\n",
    "    response = requests.get(url)\n",
    "    if response.status_code == 200:\n",
    "        # Parse the HTML content\n",
    "        soup = BeautifulSoup(response.text, 'html.parser')\n",
    "        # Extract data - this part depends on the structure of the webpage\n",
    "        # You'll need to inspect the page to determine how the data is structured\n",
    "        # and how best to extract it\n",
    "        data = []\n",
    "        for table in soup.find_all(\"table\"):\n",
    "            # Extract data from each table row\n",
    "            for row in table.find_all(\"tr\"):\n",
    "                cells = row.find_all(\"td\")\n",
    "                row_data = [cell.text.strip() for cell in cells]\n",
    "                data.append(row_data)\n",
    "        return data\n",
    "    else:\n",
    "        return \"Failed to retrieve data\"\n",
    "\n",
    "# URL of the page to scrape\n",
    "url = \"https://www.engineeringtoolbox.com/hydrocarbon-boiling-melting-flash-autoignition-point-density-gravity-molweight-d_1966.html\"\n",
    "hydrocarbon_raw_data = fetch_hydrocarbon_data(url)\n",
    "# print(hydrocarbon_raw_data)"
   ],
   "metadata": {
    "collapsed": false,
    "pycharm": {
     "name": "#%%\n"
    }
   }
  },
  {
   "cell_type": "code",
   "execution_count": 38,
   "outputs": [
    {
     "data": {
      "text/plain": "              class         IUPAC name  \\\n0          N-alkane            Methane   \n1          N-alkane             Ethane   \n2          N-alkane            Propane   \n3          N-alkane           N-butane   \n4          N-alkane          N-pentane   \n..              ...                ...   \n217                                      \n218  Tetraaromatics  Benzophenanthrene   \n219  Tetraaromatics           Chrysene   \n220  Tetraaromatics       Triphenylene   \n221  Tetraaromatics             Pyrene   \n\n                                 Common name  #C  #H      MW  \\\n0                                              1   4   16.04   \n1                                              2   6   30.07   \n2                                              3   8   44.09   \n3                                     Butane   4  10   58.12   \n4                                    Pentane   5  12   72.15   \n..                                       ...  ..  ..     ...   \n217                                                            \n218                                           18  12  228.28   \n219                    1,2-Benzophenanthrene  18  12  228.28   \n220  IsoChrysene, 1,2,3,4-Dibenzonaphthalene  18  12  228.28   \n221                   Benzo(def)phenanthrene  18  12  228.28   \n\n    melting   pooint(C) boiling point(C) rho(20C)[g/ml] flash point(C)  \\\n0                  -183             -162              -           -135   \n1                  -183              -89              -           -135   \n2                  -188              -42          0.498           -104   \n3                  -138               -1          0.577            -60   \n4                  -130               36          0.630            -49   \n..                  ...              ...            ...            ...   \n217                                                                      \n218                 256              448          1.274                  \n219                 255              448          1.274                  \n220                 196              438          1.302                  \n221                 156              404           1.21            200   \n\n    autoignition temp(C)  \n0                    595  \n1                    515  \n2                    470  \n3                    365  \n4                    260  \n..                   ...  \n217                       \n218                       \n219                       \n220                       \n221                       \n\n[222 rows x 11 columns]",
      "text/html": "<div>\n<style scoped>\n    .dataframe tbody tr th:only-of-type {\n        vertical-align: middle;\n    }\n\n    .dataframe tbody tr th {\n        vertical-align: top;\n    }\n\n    .dataframe thead th {\n        text-align: right;\n    }\n</style>\n<table border=\"1\" class=\"dataframe\">\n  <thead>\n    <tr style=\"text-align: right;\">\n      <th></th>\n      <th>class</th>\n      <th>IUPAC name</th>\n      <th>Common name</th>\n      <th>#C</th>\n      <th>#H</th>\n      <th>MW</th>\n      <th>melting   pooint(C)</th>\n      <th>boiling point(C)</th>\n      <th>rho(20C)[g/ml]</th>\n      <th>flash point(C)</th>\n      <th>autoignition temp(C)</th>\n    </tr>\n  </thead>\n  <tbody>\n    <tr>\n      <th>0</th>\n      <td>N-alkane</td>\n      <td>Methane</td>\n      <td></td>\n      <td>1</td>\n      <td>4</td>\n      <td>16.04</td>\n      <td>-183</td>\n      <td>-162</td>\n      <td>-</td>\n      <td>-135</td>\n      <td>595</td>\n    </tr>\n    <tr>\n      <th>1</th>\n      <td>N-alkane</td>\n      <td>Ethane</td>\n      <td></td>\n      <td>2</td>\n      <td>6</td>\n      <td>30.07</td>\n      <td>-183</td>\n      <td>-89</td>\n      <td>-</td>\n      <td>-135</td>\n      <td>515</td>\n    </tr>\n    <tr>\n      <th>2</th>\n      <td>N-alkane</td>\n      <td>Propane</td>\n      <td></td>\n      <td>3</td>\n      <td>8</td>\n      <td>44.09</td>\n      <td>-188</td>\n      <td>-42</td>\n      <td>0.498</td>\n      <td>-104</td>\n      <td>470</td>\n    </tr>\n    <tr>\n      <th>3</th>\n      <td>N-alkane</td>\n      <td>N-butane</td>\n      <td>Butane</td>\n      <td>4</td>\n      <td>10</td>\n      <td>58.12</td>\n      <td>-138</td>\n      <td>-1</td>\n      <td>0.577</td>\n      <td>-60</td>\n      <td>365</td>\n    </tr>\n    <tr>\n      <th>4</th>\n      <td>N-alkane</td>\n      <td>N-pentane</td>\n      <td>Pentane</td>\n      <td>5</td>\n      <td>12</td>\n      <td>72.15</td>\n      <td>-130</td>\n      <td>36</td>\n      <td>0.630</td>\n      <td>-49</td>\n      <td>260</td>\n    </tr>\n    <tr>\n      <th>...</th>\n      <td>...</td>\n      <td>...</td>\n      <td>...</td>\n      <td>...</td>\n      <td>...</td>\n      <td>...</td>\n      <td>...</td>\n      <td>...</td>\n      <td>...</td>\n      <td>...</td>\n      <td>...</td>\n    </tr>\n    <tr>\n      <th>217</th>\n      <td></td>\n      <td></td>\n      <td></td>\n      <td></td>\n      <td></td>\n      <td></td>\n      <td></td>\n      <td></td>\n      <td></td>\n      <td></td>\n      <td></td>\n    </tr>\n    <tr>\n      <th>218</th>\n      <td>Tetraaromatics</td>\n      <td>Benzophenanthrene</td>\n      <td></td>\n      <td>18</td>\n      <td>12</td>\n      <td>228.28</td>\n      <td>256</td>\n      <td>448</td>\n      <td>1.274</td>\n      <td></td>\n      <td></td>\n    </tr>\n    <tr>\n      <th>219</th>\n      <td>Tetraaromatics</td>\n      <td>Chrysene</td>\n      <td>1,2-Benzophenanthrene</td>\n      <td>18</td>\n      <td>12</td>\n      <td>228.28</td>\n      <td>255</td>\n      <td>448</td>\n      <td>1.274</td>\n      <td></td>\n      <td></td>\n    </tr>\n    <tr>\n      <th>220</th>\n      <td>Tetraaromatics</td>\n      <td>Triphenylene</td>\n      <td>IsoChrysene, 1,2,3,4-Dibenzonaphthalene</td>\n      <td>18</td>\n      <td>12</td>\n      <td>228.28</td>\n      <td>196</td>\n      <td>438</td>\n      <td>1.302</td>\n      <td></td>\n      <td></td>\n    </tr>\n    <tr>\n      <th>221</th>\n      <td>Tetraaromatics</td>\n      <td>Pyrene</td>\n      <td>Benzo(def)phenanthrene</td>\n      <td>18</td>\n      <td>12</td>\n      <td>228.28</td>\n      <td>156</td>\n      <td>404</td>\n      <td>1.21</td>\n      <td>200</td>\n      <td></td>\n    </tr>\n  </tbody>\n</table>\n<p>222 rows × 11 columns</p>\n</div>"
     },
     "execution_count": 38,
     "metadata": {},
     "output_type": "execute_result"
    }
   ],
   "source": [
    "hydrocarbon = pd.DataFrame(hydrocarbon_raw_data[1:-1],  columns=[\"class\",\"IUPAC name\",\"Common name\", \"#C\", \"#H\",\"MW\", \"melting   pooint(C)\", \"boiling point(C)\", \"rho(20C)[g/ml]\",\n",
    "                                                                 \"flash point(C)\", \"autoignition temp(C)\"])\n",
    "hydrocarbon"
   ],
   "metadata": {
    "collapsed": false,
    "pycharm": {
     "name": "#%%\n"
    }
   }
  },
  {
   "cell_type": "code",
   "execution_count": 39,
   "outputs": [
    {
     "data": {
      "text/plain": "         class        IUPAC name    Common name  #C  #H      MW  \\\nC1A   N-alkane           Methane                  1   4   16.04   \nC2A   N-alkane            Ethane                  2   6   30.07   \nC3A   N-alkane           Propane                  3   8   44.09   \nC4A   N-alkane          N-butane         Butane   4  10   58.12   \nC5A   N-alkane         N-pentane        Pentane   5  12   72.15   \nC6A   N-alkane          N-hexane         Hexane   6  14   86.17   \nC7A   N-alkane         N-heptane        Heptane   7  16  100.20   \nC8A   N-alkane          N-octane         Octane   8  18  114.22   \nC9A   N-alkane          N-nonane         Nonane   9  20  128.25   \nC10A  N-alkane          N-decane         Decane  10  22  142.28   \nC11A  N-alkane        N-undecane                 11  24  156.30   \nC12A  N-alkane        N-dodecane                 12  26  170.33   \nC13A  N-alkane       N-tridecane                 13  28  184.35   \nC14A  N-alkane     N-tetradecane                 14  30  198.38   \nC15A  N-alkane     N-pentadecane                 15  32  212.41   \nC16A  N-alkane      N-hexadecane                 16  34  226.43   \nC17A  N-alkane     N-heptadecane                 17  36  240.46   \nC18A  N-alkane      N-octadecane                 18  38  254.48   \nC19A  N-alkane      N-nonadecane                 19  40  268.51   \nC20A  N-alkane        N-eicosane                 20  42  282.54   \nC21A  N-alkane     N-heneicosane                 21  44  296.56   \nC22A  N-alkane        N-docosane                 22  46  310.59   \nC23A  N-alkane       N-tricosane                 23  48  324.61   \nC24A  N-alkane     N-tetracosane                 24  50  338.64   \nC25A  N-alkane     N-pentacosane                 25  52  352.67   \nC26A  N-alkane      N-hexacosane                 26  54  366.69   \nC27A  N-alkane     N-heptacosane                 27  56  380.72   \nC28A  N-alkane      N-octacosane                 28  58  394.74   \nC29A  N-alkane      N-nonacosane                 29  60  408.77   \nC30A  N-alkane     N-triacontane                 30  62  422.80   \nC31A  N-alkane  N-hentriacontane  Untriacontane  31  64  436.82   \n\n     melting   pooint(C) boiling point(C) rho(20C)[g/ml] flash point(C)  \\\nC1A                 -183             -162              -           -135   \nC2A                 -183              -89              -           -135   \nC3A                 -188              -42          0.498           -104   \nC4A                 -138               -1          0.577            -60   \nC5A                 -130               36          0.630            -49   \nC6A                  -95               69          0.664           <-20   \nC7A                  -91               98          0.683             -7   \nC8A                  -57              126          0.702             12   \nC9A                  -53              151          0.719             31   \nC10A                 -30              174          0.730             46   \nC11A                 -26              196          0.740             61   \nC12A                 -10              216          0.750             80   \nC13A                  -5              235          0.756                  \nC14A                   6              254          0.760                  \nC15A                  15              270          0.769                  \nC16A                  18              287          0.773                  \nC17A                  22              303          0.778                  \nC18A                  28              316        0.77728                  \nC19A                  32              330          0.785                  \nC20A                  37              344          0.789            187   \nC21A                  40              359          0.792                  \nC22A                  44              369          0.794            211   \nC23A                  47              381        0.77948                  \nC24A                  50              391          0.799                  \nC25A                  53              402          0.801                  \nC26A                  56              415        0.77860                  \nC27A                  59              422        0.78060            269   \nC28A                  61              435          0.806                  \nC29A                  64              443          0.808                  \nC30A                  66              451          0.810                  \nC31A                  68              458        0.78168                  \n\n     autoignition temp(C)  \nC1A                   595  \nC2A                   515  \nC3A                   470  \nC4A                   365  \nC5A                   260  \nC6A                   230  \nC7A                   220  \nC8A                   205  \nC9A                   205  \nC10A                  200  \nC11A                  195  \nC12A                  200  \nC13A                       \nC14A                       \nC15A                       \nC16A                       \nC17A                       \nC18A                       \nC19A                       \nC20A                       \nC21A                       \nC22A                       \nC23A                       \nC24A                       \nC25A                       \nC26A                       \nC27A                       \nC28A                       \nC29A                       \nC30A                       \nC31A                       ",
      "text/html": "<div>\n<style scoped>\n    .dataframe tbody tr th:only-of-type {\n        vertical-align: middle;\n    }\n\n    .dataframe tbody tr th {\n        vertical-align: top;\n    }\n\n    .dataframe thead th {\n        text-align: right;\n    }\n</style>\n<table border=\"1\" class=\"dataframe\">\n  <thead>\n    <tr style=\"text-align: right;\">\n      <th></th>\n      <th>class</th>\n      <th>IUPAC name</th>\n      <th>Common name</th>\n      <th>#C</th>\n      <th>#H</th>\n      <th>MW</th>\n      <th>melting   pooint(C)</th>\n      <th>boiling point(C)</th>\n      <th>rho(20C)[g/ml]</th>\n      <th>flash point(C)</th>\n      <th>autoignition temp(C)</th>\n    </tr>\n  </thead>\n  <tbody>\n    <tr>\n      <th>C1A</th>\n      <td>N-alkane</td>\n      <td>Methane</td>\n      <td></td>\n      <td>1</td>\n      <td>4</td>\n      <td>16.04</td>\n      <td>-183</td>\n      <td>-162</td>\n      <td>-</td>\n      <td>-135</td>\n      <td>595</td>\n    </tr>\n    <tr>\n      <th>C2A</th>\n      <td>N-alkane</td>\n      <td>Ethane</td>\n      <td></td>\n      <td>2</td>\n      <td>6</td>\n      <td>30.07</td>\n      <td>-183</td>\n      <td>-89</td>\n      <td>-</td>\n      <td>-135</td>\n      <td>515</td>\n    </tr>\n    <tr>\n      <th>C3A</th>\n      <td>N-alkane</td>\n      <td>Propane</td>\n      <td></td>\n      <td>3</td>\n      <td>8</td>\n      <td>44.09</td>\n      <td>-188</td>\n      <td>-42</td>\n      <td>0.498</td>\n      <td>-104</td>\n      <td>470</td>\n    </tr>\n    <tr>\n      <th>C4A</th>\n      <td>N-alkane</td>\n      <td>N-butane</td>\n      <td>Butane</td>\n      <td>4</td>\n      <td>10</td>\n      <td>58.12</td>\n      <td>-138</td>\n      <td>-1</td>\n      <td>0.577</td>\n      <td>-60</td>\n      <td>365</td>\n    </tr>\n    <tr>\n      <th>C5A</th>\n      <td>N-alkane</td>\n      <td>N-pentane</td>\n      <td>Pentane</td>\n      <td>5</td>\n      <td>12</td>\n      <td>72.15</td>\n      <td>-130</td>\n      <td>36</td>\n      <td>0.630</td>\n      <td>-49</td>\n      <td>260</td>\n    </tr>\n    <tr>\n      <th>C6A</th>\n      <td>N-alkane</td>\n      <td>N-hexane</td>\n      <td>Hexane</td>\n      <td>6</td>\n      <td>14</td>\n      <td>86.17</td>\n      <td>-95</td>\n      <td>69</td>\n      <td>0.664</td>\n      <td>&lt;-20</td>\n      <td>230</td>\n    </tr>\n    <tr>\n      <th>C7A</th>\n      <td>N-alkane</td>\n      <td>N-heptane</td>\n      <td>Heptane</td>\n      <td>7</td>\n      <td>16</td>\n      <td>100.20</td>\n      <td>-91</td>\n      <td>98</td>\n      <td>0.683</td>\n      <td>-7</td>\n      <td>220</td>\n    </tr>\n    <tr>\n      <th>C8A</th>\n      <td>N-alkane</td>\n      <td>N-octane</td>\n      <td>Octane</td>\n      <td>8</td>\n      <td>18</td>\n      <td>114.22</td>\n      <td>-57</td>\n      <td>126</td>\n      <td>0.702</td>\n      <td>12</td>\n      <td>205</td>\n    </tr>\n    <tr>\n      <th>C9A</th>\n      <td>N-alkane</td>\n      <td>N-nonane</td>\n      <td>Nonane</td>\n      <td>9</td>\n      <td>20</td>\n      <td>128.25</td>\n      <td>-53</td>\n      <td>151</td>\n      <td>0.719</td>\n      <td>31</td>\n      <td>205</td>\n    </tr>\n    <tr>\n      <th>C10A</th>\n      <td>N-alkane</td>\n      <td>N-decane</td>\n      <td>Decane</td>\n      <td>10</td>\n      <td>22</td>\n      <td>142.28</td>\n      <td>-30</td>\n      <td>174</td>\n      <td>0.730</td>\n      <td>46</td>\n      <td>200</td>\n    </tr>\n    <tr>\n      <th>C11A</th>\n      <td>N-alkane</td>\n      <td>N-undecane</td>\n      <td></td>\n      <td>11</td>\n      <td>24</td>\n      <td>156.30</td>\n      <td>-26</td>\n      <td>196</td>\n      <td>0.740</td>\n      <td>61</td>\n      <td>195</td>\n    </tr>\n    <tr>\n      <th>C12A</th>\n      <td>N-alkane</td>\n      <td>N-dodecane</td>\n      <td></td>\n      <td>12</td>\n      <td>26</td>\n      <td>170.33</td>\n      <td>-10</td>\n      <td>216</td>\n      <td>0.750</td>\n      <td>80</td>\n      <td>200</td>\n    </tr>\n    <tr>\n      <th>C13A</th>\n      <td>N-alkane</td>\n      <td>N-tridecane</td>\n      <td></td>\n      <td>13</td>\n      <td>28</td>\n      <td>184.35</td>\n      <td>-5</td>\n      <td>235</td>\n      <td>0.756</td>\n      <td></td>\n      <td></td>\n    </tr>\n    <tr>\n      <th>C14A</th>\n      <td>N-alkane</td>\n      <td>N-tetradecane</td>\n      <td></td>\n      <td>14</td>\n      <td>30</td>\n      <td>198.38</td>\n      <td>6</td>\n      <td>254</td>\n      <td>0.760</td>\n      <td></td>\n      <td></td>\n    </tr>\n    <tr>\n      <th>C15A</th>\n      <td>N-alkane</td>\n      <td>N-pentadecane</td>\n      <td></td>\n      <td>15</td>\n      <td>32</td>\n      <td>212.41</td>\n      <td>15</td>\n      <td>270</td>\n      <td>0.769</td>\n      <td></td>\n      <td></td>\n    </tr>\n    <tr>\n      <th>C16A</th>\n      <td>N-alkane</td>\n      <td>N-hexadecane</td>\n      <td></td>\n      <td>16</td>\n      <td>34</td>\n      <td>226.43</td>\n      <td>18</td>\n      <td>287</td>\n      <td>0.773</td>\n      <td></td>\n      <td></td>\n    </tr>\n    <tr>\n      <th>C17A</th>\n      <td>N-alkane</td>\n      <td>N-heptadecane</td>\n      <td></td>\n      <td>17</td>\n      <td>36</td>\n      <td>240.46</td>\n      <td>22</td>\n      <td>303</td>\n      <td>0.778</td>\n      <td></td>\n      <td></td>\n    </tr>\n    <tr>\n      <th>C18A</th>\n      <td>N-alkane</td>\n      <td>N-octadecane</td>\n      <td></td>\n      <td>18</td>\n      <td>38</td>\n      <td>254.48</td>\n      <td>28</td>\n      <td>316</td>\n      <td>0.77728</td>\n      <td></td>\n      <td></td>\n    </tr>\n    <tr>\n      <th>C19A</th>\n      <td>N-alkane</td>\n      <td>N-nonadecane</td>\n      <td></td>\n      <td>19</td>\n      <td>40</td>\n      <td>268.51</td>\n      <td>32</td>\n      <td>330</td>\n      <td>0.785</td>\n      <td></td>\n      <td></td>\n    </tr>\n    <tr>\n      <th>C20A</th>\n      <td>N-alkane</td>\n      <td>N-eicosane</td>\n      <td></td>\n      <td>20</td>\n      <td>42</td>\n      <td>282.54</td>\n      <td>37</td>\n      <td>344</td>\n      <td>0.789</td>\n      <td>187</td>\n      <td></td>\n    </tr>\n    <tr>\n      <th>C21A</th>\n      <td>N-alkane</td>\n      <td>N-heneicosane</td>\n      <td></td>\n      <td>21</td>\n      <td>44</td>\n      <td>296.56</td>\n      <td>40</td>\n      <td>359</td>\n      <td>0.792</td>\n      <td></td>\n      <td></td>\n    </tr>\n    <tr>\n      <th>C22A</th>\n      <td>N-alkane</td>\n      <td>N-docosane</td>\n      <td></td>\n      <td>22</td>\n      <td>46</td>\n      <td>310.59</td>\n      <td>44</td>\n      <td>369</td>\n      <td>0.794</td>\n      <td>211</td>\n      <td></td>\n    </tr>\n    <tr>\n      <th>C23A</th>\n      <td>N-alkane</td>\n      <td>N-tricosane</td>\n      <td></td>\n      <td>23</td>\n      <td>48</td>\n      <td>324.61</td>\n      <td>47</td>\n      <td>381</td>\n      <td>0.77948</td>\n      <td></td>\n      <td></td>\n    </tr>\n    <tr>\n      <th>C24A</th>\n      <td>N-alkane</td>\n      <td>N-tetracosane</td>\n      <td></td>\n      <td>24</td>\n      <td>50</td>\n      <td>338.64</td>\n      <td>50</td>\n      <td>391</td>\n      <td>0.799</td>\n      <td></td>\n      <td></td>\n    </tr>\n    <tr>\n      <th>C25A</th>\n      <td>N-alkane</td>\n      <td>N-pentacosane</td>\n      <td></td>\n      <td>25</td>\n      <td>52</td>\n      <td>352.67</td>\n      <td>53</td>\n      <td>402</td>\n      <td>0.801</td>\n      <td></td>\n      <td></td>\n    </tr>\n    <tr>\n      <th>C26A</th>\n      <td>N-alkane</td>\n      <td>N-hexacosane</td>\n      <td></td>\n      <td>26</td>\n      <td>54</td>\n      <td>366.69</td>\n      <td>56</td>\n      <td>415</td>\n      <td>0.77860</td>\n      <td></td>\n      <td></td>\n    </tr>\n    <tr>\n      <th>C27A</th>\n      <td>N-alkane</td>\n      <td>N-heptacosane</td>\n      <td></td>\n      <td>27</td>\n      <td>56</td>\n      <td>380.72</td>\n      <td>59</td>\n      <td>422</td>\n      <td>0.78060</td>\n      <td>269</td>\n      <td></td>\n    </tr>\n    <tr>\n      <th>C28A</th>\n      <td>N-alkane</td>\n      <td>N-octacosane</td>\n      <td></td>\n      <td>28</td>\n      <td>58</td>\n      <td>394.74</td>\n      <td>61</td>\n      <td>435</td>\n      <td>0.806</td>\n      <td></td>\n      <td></td>\n    </tr>\n    <tr>\n      <th>C29A</th>\n      <td>N-alkane</td>\n      <td>N-nonacosane</td>\n      <td></td>\n      <td>29</td>\n      <td>60</td>\n      <td>408.77</td>\n      <td>64</td>\n      <td>443</td>\n      <td>0.808</td>\n      <td></td>\n      <td></td>\n    </tr>\n    <tr>\n      <th>C30A</th>\n      <td>N-alkane</td>\n      <td>N-triacontane</td>\n      <td></td>\n      <td>30</td>\n      <td>62</td>\n      <td>422.80</td>\n      <td>66</td>\n      <td>451</td>\n      <td>0.810</td>\n      <td></td>\n      <td></td>\n    </tr>\n    <tr>\n      <th>C31A</th>\n      <td>N-alkane</td>\n      <td>N-hentriacontane</td>\n      <td>Untriacontane</td>\n      <td>31</td>\n      <td>64</td>\n      <td>436.82</td>\n      <td>68</td>\n      <td>458</td>\n      <td>0.78168</td>\n      <td></td>\n      <td></td>\n    </tr>\n  </tbody>\n</table>\n</div>"
     },
     "execution_count": 39,
     "metadata": {},
     "output_type": "execute_result"
    }
   ],
   "source": [
    "alkane_prop1 = hydrocarbon[0:31]\n",
    "alkane_indices = [f\"C{i}A\" for i in range(1, 32)]\n",
    "alkane_prop1.index = alkane_indices\n",
    "alkane_prop1"
   ],
   "metadata": {
    "collapsed": false,
    "pycharm": {
     "name": "#%%\n"
    }
   }
  },
  {
   "cell_type": "code",
   "execution_count": 40,
   "outputs": [],
   "source": [
    "alkanes_mw = alkane_prop1[\"MW\"]\n",
    "alkanes_bp = alkane_prop1[\"boiling point(C)\"]\n",
    "alkanes_rho = alkane_prop1[\"rho(20C)[g/ml]\"]\n",
    "alkanes_mw_dict = {index: float(value) for index, value in alkanes_mw.items()}\n",
    "alkanes_mw_dict[\"H2\"] = 2.016\n",
    "alkanes_mw_dict[\"LDPE\"] = 28.05\n",
    "alkanes_mw_dict[\"HDPE\"] = 28.05\n",
    "alkanes_mw_dict[\"PP\"] = 42.081"
   ],
   "metadata": {
    "collapsed": false,
    "pycharm": {
     "name": "#%%\n"
    }
   }
  },
  {
   "cell_type": "code",
   "execution_count": 41,
   "outputs": [],
   "source": [
    "alkanes_bp_dict = {index: float(value) for index, value in alkanes_bp.items()}\n",
    "alkanes_bp_dict[\"H2\"] = -252.8"
   ],
   "metadata": {
    "collapsed": false,
    "pycharm": {
     "name": "#%%\n"
    }
   }
  },
  {
   "cell_type": "code",
   "execution_count": 42,
   "outputs": [],
   "source": [
    "alkanes_rho_dict = {index: float(value) for index, value in alkanes_rho.items() if not index in{\"C1A\", \"C2A\"}}"
   ],
   "metadata": {
    "collapsed": false,
    "pycharm": {
     "name": "#%%\n"
    }
   }
  },
  {
   "cell_type": "code",
   "execution_count": 43,
   "outputs": [],
   "source": [
    "def write_series_to_gams(series, filename, scale=1, dec=6):\n",
    "    indent = f\"\\t\"\n",
    "    with open(filename, 'w') as file:\n",
    "        file.write(f\"/\\n\")\n",
    "        for index, value in series.items():\n",
    "            # Writing the index and value in the required GAMS format\n",
    "            # Assuming GAMS format is something like \"i / value /\"\n",
    "            if not np.isnan(value):\n",
    "                file.write(f\"{indent}{index}  {round(float(value)*scale, dec)} \\n\")\n",
    "        file.write(f\"/\\n\")\n",
    "\n",
    "# rite_series_to_gams(alkanes_mw_dict, \"mw_pars.txt\", scale=1e-3)"
   ],
   "metadata": {
    "collapsed": false,
    "pycharm": {
     "name": "#%%\n"
    }
   }
  },
  {
   "cell_type": "markdown",
   "source": [],
   "metadata": {
    "collapsed": false,
    "pycharm": {
     "name": "#%% md\n"
    }
   }
  },
  {
   "cell_type": "code",
   "execution_count": 44,
   "outputs": [],
   "source": [
    "# write_series_to_gams(alkanes_bp_dict, \"bp_pars.txt\", scale=1)"
   ],
   "metadata": {
    "collapsed": false,
    "pycharm": {
     "name": "#%%\n"
    }
   }
  },
  {
   "cell_type": "code",
   "execution_count": 45,
   "outputs": [],
   "source": [
    "# write_series_to_gams(alkanes_rho_dict, \"rho_pars.txt\", scale=1e3)"
   ],
   "metadata": {
    "collapsed": false,
    "pycharm": {
     "name": "#%%\n"
    }
   }
  },
  {
   "cell_type": "code",
   "execution_count": 46,
   "outputs": [
    {
     "data": {
      "text/plain": "           MW  LHV   CN  RON      rho   mu     TB trace EGEN\nC1A     16.04  NaN  NaN  NaN      NaN  NaN -162.0     1    1\nC2A     30.07  NaN  NaN  NaN      NaN  NaN  -89.0     1    1\nC3A     44.09  NaN  NaN  NaN    0.498  NaN  -42.0     0    1\nC4A     58.12  NaN  NaN  NaN    0.577  NaN   -1.0     0    1\nC5A     72.15  NaN  NaN  NaN     0.63  NaN   36.0     0    1\nC6A     86.17  NaN  NaN  NaN    0.664  NaN   69.0     0    1\nC7A     100.2  NaN  NaN  NaN    0.683  NaN   98.0     0    1\nC8A    114.22  NaN  NaN  NaN    0.702  NaN  126.0     0    1\nC9A    128.25  NaN  NaN  NaN    0.719  NaN  151.0     0    1\nC10A   142.28  NaN  NaN  NaN     0.73  NaN  174.0     0    1\nC11A    156.3  NaN  NaN  NaN     0.74  NaN  196.0     0    1\nC12A   170.33  NaN  NaN  NaN     0.75  NaN  216.0     0    1\nC13A   184.35  NaN  NaN  NaN    0.756  NaN  235.0     0    1\nC14A   198.38  NaN  NaN  NaN     0.76  NaN  254.0     0    1\nC15A   212.41  NaN  NaN  NaN    0.769  NaN  270.0     0    1\nC16A   226.43  NaN  NaN  NaN    0.773  NaN  287.0     0    1\nC17A   240.46  NaN  NaN  NaN    0.778  NaN  303.0     0    1\nC18A   254.48  NaN  NaN  NaN  0.77728  NaN  316.0     0    1\nC19A   268.51  NaN  NaN  NaN    0.785  NaN  330.0     0    1\nC20A   282.54  NaN  NaN  NaN    0.789  NaN  344.0     0    1\nC21A   296.56  NaN  NaN  NaN    0.792  NaN  359.0     0    1\nC22A   310.59  NaN  NaN  NaN    0.794  NaN  369.0     0    1\nC23A   324.61  NaN  NaN  NaN  0.77948  NaN  381.0     0    1\nC24A   338.64  NaN  NaN  NaN    0.799  NaN  391.0     0    1\nC25A   352.67  NaN  NaN  NaN    0.801  NaN  402.0     0    1\nC26A   366.69  NaN  NaN  NaN   0.7786  NaN  415.0     0    1\nC27A   380.72  NaN  NaN  NaN   0.7806  NaN  422.0     0    1\nC28A   394.74  NaN  NaN  NaN    0.806  NaN  435.0     0    1\nC29A   408.77  NaN  NaN  NaN    0.808  NaN  443.0     0    1\nC30A    422.8  NaN  NaN  NaN     0.81  NaN  451.0     0    1\nC31A   436.82  NaN  NaN  NaN  0.78168  NaN  458.0     0    1\nH2      2.016  NaN  NaN  NaN      NaN  NaN -252.8     1    1\nLDPE    28.05  NaN  NaN  NaN      NaN  NaN    NaN     1    0\nHDPE    28.05  NaN  NaN  NaN      NaN  NaN    NaN     1    0\nPP     42.081  NaN  NaN  NaN      NaN  NaN    NaN     1    0\nWASTE     NaN  NaN  NaN  NaN      NaN  NaN    NaN     1    0",
      "text/html": "<div>\n<style scoped>\n    .dataframe tbody tr th:only-of-type {\n        vertical-align: middle;\n    }\n\n    .dataframe tbody tr th {\n        vertical-align: top;\n    }\n\n    .dataframe thead th {\n        text-align: right;\n    }\n</style>\n<table border=\"1\" class=\"dataframe\">\n  <thead>\n    <tr style=\"text-align: right;\">\n      <th></th>\n      <th>MW</th>\n      <th>LHV</th>\n      <th>CN</th>\n      <th>RON</th>\n      <th>rho</th>\n      <th>mu</th>\n      <th>TB</th>\n      <th>trace</th>\n      <th>EGEN</th>\n    </tr>\n  </thead>\n  <tbody>\n    <tr>\n      <th>C1A</th>\n      <td>16.04</td>\n      <td>NaN</td>\n      <td>NaN</td>\n      <td>NaN</td>\n      <td>NaN</td>\n      <td>NaN</td>\n      <td>-162.0</td>\n      <td>1</td>\n      <td>1</td>\n    </tr>\n    <tr>\n      <th>C2A</th>\n      <td>30.07</td>\n      <td>NaN</td>\n      <td>NaN</td>\n      <td>NaN</td>\n      <td>NaN</td>\n      <td>NaN</td>\n      <td>-89.0</td>\n      <td>1</td>\n      <td>1</td>\n    </tr>\n    <tr>\n      <th>C3A</th>\n      <td>44.09</td>\n      <td>NaN</td>\n      <td>NaN</td>\n      <td>NaN</td>\n      <td>0.498</td>\n      <td>NaN</td>\n      <td>-42.0</td>\n      <td>0</td>\n      <td>1</td>\n    </tr>\n    <tr>\n      <th>C4A</th>\n      <td>58.12</td>\n      <td>NaN</td>\n      <td>NaN</td>\n      <td>NaN</td>\n      <td>0.577</td>\n      <td>NaN</td>\n      <td>-1.0</td>\n      <td>0</td>\n      <td>1</td>\n    </tr>\n    <tr>\n      <th>C5A</th>\n      <td>72.15</td>\n      <td>NaN</td>\n      <td>NaN</td>\n      <td>NaN</td>\n      <td>0.63</td>\n      <td>NaN</td>\n      <td>36.0</td>\n      <td>0</td>\n      <td>1</td>\n    </tr>\n    <tr>\n      <th>C6A</th>\n      <td>86.17</td>\n      <td>NaN</td>\n      <td>NaN</td>\n      <td>NaN</td>\n      <td>0.664</td>\n      <td>NaN</td>\n      <td>69.0</td>\n      <td>0</td>\n      <td>1</td>\n    </tr>\n    <tr>\n      <th>C7A</th>\n      <td>100.2</td>\n      <td>NaN</td>\n      <td>NaN</td>\n      <td>NaN</td>\n      <td>0.683</td>\n      <td>NaN</td>\n      <td>98.0</td>\n      <td>0</td>\n      <td>1</td>\n    </tr>\n    <tr>\n      <th>C8A</th>\n      <td>114.22</td>\n      <td>NaN</td>\n      <td>NaN</td>\n      <td>NaN</td>\n      <td>0.702</td>\n      <td>NaN</td>\n      <td>126.0</td>\n      <td>0</td>\n      <td>1</td>\n    </tr>\n    <tr>\n      <th>C9A</th>\n      <td>128.25</td>\n      <td>NaN</td>\n      <td>NaN</td>\n      <td>NaN</td>\n      <td>0.719</td>\n      <td>NaN</td>\n      <td>151.0</td>\n      <td>0</td>\n      <td>1</td>\n    </tr>\n    <tr>\n      <th>C10A</th>\n      <td>142.28</td>\n      <td>NaN</td>\n      <td>NaN</td>\n      <td>NaN</td>\n      <td>0.73</td>\n      <td>NaN</td>\n      <td>174.0</td>\n      <td>0</td>\n      <td>1</td>\n    </tr>\n    <tr>\n      <th>C11A</th>\n      <td>156.3</td>\n      <td>NaN</td>\n      <td>NaN</td>\n      <td>NaN</td>\n      <td>0.74</td>\n      <td>NaN</td>\n      <td>196.0</td>\n      <td>0</td>\n      <td>1</td>\n    </tr>\n    <tr>\n      <th>C12A</th>\n      <td>170.33</td>\n      <td>NaN</td>\n      <td>NaN</td>\n      <td>NaN</td>\n      <td>0.75</td>\n      <td>NaN</td>\n      <td>216.0</td>\n      <td>0</td>\n      <td>1</td>\n    </tr>\n    <tr>\n      <th>C13A</th>\n      <td>184.35</td>\n      <td>NaN</td>\n      <td>NaN</td>\n      <td>NaN</td>\n      <td>0.756</td>\n      <td>NaN</td>\n      <td>235.0</td>\n      <td>0</td>\n      <td>1</td>\n    </tr>\n    <tr>\n      <th>C14A</th>\n      <td>198.38</td>\n      <td>NaN</td>\n      <td>NaN</td>\n      <td>NaN</td>\n      <td>0.76</td>\n      <td>NaN</td>\n      <td>254.0</td>\n      <td>0</td>\n      <td>1</td>\n    </tr>\n    <tr>\n      <th>C15A</th>\n      <td>212.41</td>\n      <td>NaN</td>\n      <td>NaN</td>\n      <td>NaN</td>\n      <td>0.769</td>\n      <td>NaN</td>\n      <td>270.0</td>\n      <td>0</td>\n      <td>1</td>\n    </tr>\n    <tr>\n      <th>C16A</th>\n      <td>226.43</td>\n      <td>NaN</td>\n      <td>NaN</td>\n      <td>NaN</td>\n      <td>0.773</td>\n      <td>NaN</td>\n      <td>287.0</td>\n      <td>0</td>\n      <td>1</td>\n    </tr>\n    <tr>\n      <th>C17A</th>\n      <td>240.46</td>\n      <td>NaN</td>\n      <td>NaN</td>\n      <td>NaN</td>\n      <td>0.778</td>\n      <td>NaN</td>\n      <td>303.0</td>\n      <td>0</td>\n      <td>1</td>\n    </tr>\n    <tr>\n      <th>C18A</th>\n      <td>254.48</td>\n      <td>NaN</td>\n      <td>NaN</td>\n      <td>NaN</td>\n      <td>0.77728</td>\n      <td>NaN</td>\n      <td>316.0</td>\n      <td>0</td>\n      <td>1</td>\n    </tr>\n    <tr>\n      <th>C19A</th>\n      <td>268.51</td>\n      <td>NaN</td>\n      <td>NaN</td>\n      <td>NaN</td>\n      <td>0.785</td>\n      <td>NaN</td>\n      <td>330.0</td>\n      <td>0</td>\n      <td>1</td>\n    </tr>\n    <tr>\n      <th>C20A</th>\n      <td>282.54</td>\n      <td>NaN</td>\n      <td>NaN</td>\n      <td>NaN</td>\n      <td>0.789</td>\n      <td>NaN</td>\n      <td>344.0</td>\n      <td>0</td>\n      <td>1</td>\n    </tr>\n    <tr>\n      <th>C21A</th>\n      <td>296.56</td>\n      <td>NaN</td>\n      <td>NaN</td>\n      <td>NaN</td>\n      <td>0.792</td>\n      <td>NaN</td>\n      <td>359.0</td>\n      <td>0</td>\n      <td>1</td>\n    </tr>\n    <tr>\n      <th>C22A</th>\n      <td>310.59</td>\n      <td>NaN</td>\n      <td>NaN</td>\n      <td>NaN</td>\n      <td>0.794</td>\n      <td>NaN</td>\n      <td>369.0</td>\n      <td>0</td>\n      <td>1</td>\n    </tr>\n    <tr>\n      <th>C23A</th>\n      <td>324.61</td>\n      <td>NaN</td>\n      <td>NaN</td>\n      <td>NaN</td>\n      <td>0.77948</td>\n      <td>NaN</td>\n      <td>381.0</td>\n      <td>0</td>\n      <td>1</td>\n    </tr>\n    <tr>\n      <th>C24A</th>\n      <td>338.64</td>\n      <td>NaN</td>\n      <td>NaN</td>\n      <td>NaN</td>\n      <td>0.799</td>\n      <td>NaN</td>\n      <td>391.0</td>\n      <td>0</td>\n      <td>1</td>\n    </tr>\n    <tr>\n      <th>C25A</th>\n      <td>352.67</td>\n      <td>NaN</td>\n      <td>NaN</td>\n      <td>NaN</td>\n      <td>0.801</td>\n      <td>NaN</td>\n      <td>402.0</td>\n      <td>0</td>\n      <td>1</td>\n    </tr>\n    <tr>\n      <th>C26A</th>\n      <td>366.69</td>\n      <td>NaN</td>\n      <td>NaN</td>\n      <td>NaN</td>\n      <td>0.7786</td>\n      <td>NaN</td>\n      <td>415.0</td>\n      <td>0</td>\n      <td>1</td>\n    </tr>\n    <tr>\n      <th>C27A</th>\n      <td>380.72</td>\n      <td>NaN</td>\n      <td>NaN</td>\n      <td>NaN</td>\n      <td>0.7806</td>\n      <td>NaN</td>\n      <td>422.0</td>\n      <td>0</td>\n      <td>1</td>\n    </tr>\n    <tr>\n      <th>C28A</th>\n      <td>394.74</td>\n      <td>NaN</td>\n      <td>NaN</td>\n      <td>NaN</td>\n      <td>0.806</td>\n      <td>NaN</td>\n      <td>435.0</td>\n      <td>0</td>\n      <td>1</td>\n    </tr>\n    <tr>\n      <th>C29A</th>\n      <td>408.77</td>\n      <td>NaN</td>\n      <td>NaN</td>\n      <td>NaN</td>\n      <td>0.808</td>\n      <td>NaN</td>\n      <td>443.0</td>\n      <td>0</td>\n      <td>1</td>\n    </tr>\n    <tr>\n      <th>C30A</th>\n      <td>422.8</td>\n      <td>NaN</td>\n      <td>NaN</td>\n      <td>NaN</td>\n      <td>0.81</td>\n      <td>NaN</td>\n      <td>451.0</td>\n      <td>0</td>\n      <td>1</td>\n    </tr>\n    <tr>\n      <th>C31A</th>\n      <td>436.82</td>\n      <td>NaN</td>\n      <td>NaN</td>\n      <td>NaN</td>\n      <td>0.78168</td>\n      <td>NaN</td>\n      <td>458.0</td>\n      <td>0</td>\n      <td>1</td>\n    </tr>\n    <tr>\n      <th>H2</th>\n      <td>2.016</td>\n      <td>NaN</td>\n      <td>NaN</td>\n      <td>NaN</td>\n      <td>NaN</td>\n      <td>NaN</td>\n      <td>-252.8</td>\n      <td>1</td>\n      <td>1</td>\n    </tr>\n    <tr>\n      <th>LDPE</th>\n      <td>28.05</td>\n      <td>NaN</td>\n      <td>NaN</td>\n      <td>NaN</td>\n      <td>NaN</td>\n      <td>NaN</td>\n      <td>NaN</td>\n      <td>1</td>\n      <td>0</td>\n    </tr>\n    <tr>\n      <th>HDPE</th>\n      <td>28.05</td>\n      <td>NaN</td>\n      <td>NaN</td>\n      <td>NaN</td>\n      <td>NaN</td>\n      <td>NaN</td>\n      <td>NaN</td>\n      <td>1</td>\n      <td>0</td>\n    </tr>\n    <tr>\n      <th>PP</th>\n      <td>42.081</td>\n      <td>NaN</td>\n      <td>NaN</td>\n      <td>NaN</td>\n      <td>NaN</td>\n      <td>NaN</td>\n      <td>NaN</td>\n      <td>1</td>\n      <td>0</td>\n    </tr>\n    <tr>\n      <th>WASTE</th>\n      <td>NaN</td>\n      <td>NaN</td>\n      <td>NaN</td>\n      <td>NaN</td>\n      <td>NaN</td>\n      <td>NaN</td>\n      <td>NaN</td>\n      <td>1</td>\n      <td>0</td>\n    </tr>\n  </tbody>\n</table>\n</div>"
     },
     "execution_count": 46,
     "metadata": {},
     "output_type": "execute_result"
    }
   ],
   "source": [
    "for key, val in alkanes_mw_dict.items():\n",
    "    df.loc[key][\"MW\"] = val\n",
    "\n",
    "for key, val in alkanes_bp_dict.items():\n",
    "    df.loc[key][\"TB\"] = val\n",
    "\n",
    "for key, val in alkanes_rho_dict.items():\n",
    "    df.loc[key][\"rho\"] = val\n",
    "\n",
    "df"
   ],
   "metadata": {
    "collapsed": false,
    "pycharm": {
     "name": "#%%\n"
    }
   }
  },
  {
   "cell_type": "markdown",
   "source": [
    "### The data for viscosity and LHV are obtained from Aspen Plus\n",
    "\n",
    "The LHV is calculated by considering the heat of reaction."
   ],
   "metadata": {
    "collapsed": false,
    "pycharm": {
     "name": "#%% md\n"
    }
   }
  },
  {
   "cell_type": "code",
   "execution_count": 47,
   "outputs": [],
   "source": [
    "aspen_data = pd.read_csv(\"parameters/viscosity.csv\", index_col=0)\n",
    "aspen_data.loc[\"mu\"],  aspen_data.loc[\"vapor\"], aspen_data.loc[\"liquid\"];"
   ],
   "metadata": {
    "collapsed": false,
    "pycharm": {
     "name": "#%%\n"
    }
   }
  },
  {
   "cell_type": "code",
   "execution_count": 48,
   "outputs": [],
   "source": [
    "viscosity_dict = {index: float(value) for index, value in aspen_data.loc[\"mu\"].items()}\n",
    "# convert Pa*S to mm^2/s, multiply by 1000\n",
    "write_series_to_gams(viscosity_dict, \"mu_pars.txt\", scale=1e3)\n",
    "viscosity_dict;"
   ],
   "metadata": {
    "collapsed": false,
    "pycharm": {
     "name": "#%%\n"
    }
   }
  },
  {
   "cell_type": "code",
   "execution_count": 49,
   "outputs": [],
   "source": [
    "vapor_dict = {index: float(value) for index, value in aspen_data.loc[\"vapor\"].items()}\n",
    "liquid_dict = {index: float(value) for index, value in aspen_data.loc[\"liquid\"].items()}\n",
    "keys = liquid_dict.keys()\n",
    "dH = {}\n",
    "for key in keys:\n",
    "    if key == \"H2\":\n",
    "        pass\n",
    "    elif key in {\"C1A\", \"C2A\", \"C3A\", \"C4A\"}:\n",
    "        dH[key] = vapor_dict[key]\n",
    "    else:\n",
    "        dH[key] = liquid_dict[key]\n",
    "dH;"
   ],
   "metadata": {
    "collapsed": false,
    "pycharm": {
     "name": "#%%\n"
    }
   }
  },
  {
   "cell_type": "code",
   "execution_count": 50,
   "outputs": [],
   "source": [
    "Hf = {\"H2O\": -241.917, \"O2\":0, \"CO2\":-393.552} # liquid H2O, vapor for O2, CO2 # kj/mol"
   ],
   "metadata": {
    "collapsed": false,
    "pycharm": {
     "name": "#%%\n"
    }
   }
  },
  {
   "cell_type": "code",
   "execution_count": 51,
   "outputs": [],
   "source": [
    "def calculate_lhv(fuel, dH, Hf):\n",
    "    # Parse the number of carbon (C) and hydrogen (H) atoms from the fuel name\n",
    "    carbon_atoms = int(fuel[1: fuel.find('A')])\n",
    "    hydrogen_atoms = (carbon_atoms * 2) + 2  # General formula for alkanes is CnH(2n+2)\n",
    "\n",
    "    # Balance the combustion reaction (assuming complete combustion)\n",
    "    # Stoichiometry of oxygen required for complete combustion:\n",
    "    # Each C requires 1 mole of O2 for CO2 and each H2 requires 0.5 mole of O2 for H2O\n",
    "    o2_moles = carbon_atoms + hydrogen_atoms / 4\n",
    "    co2_moles = carbon_atoms\n",
    "    h2o_moles = hydrogen_atoms / 2\n",
    "\n",
    "    # Calculate the heat of the reaction based on stoichiometry and heats of formation\n",
    "    # ΔH_reaction = Σ(ΔHf_products) - Σ(ΔHf_reactants)\n",
    "    # For reactants, we consider the fuel and O2; for products, CO2 and H2O\n",
    "    # Note: O2 is the reference with ΔHf = 0, so it's not included in the calculation\n",
    "    heat_of_reaction = (co2_moles * Hf['CO2'] + h2o_moles * Hf['H2O']) - o2_moles * Hf['O2'] - dH[fuel]\n",
    "\n",
    "    # LHV calculation: Since the reaction is exothermic, heat of reaction will be negative, so we take the negative of it\n",
    "    # to represent the energy released\n",
    "    LHV = -heat_of_reaction\n",
    "\n",
    "    return LHV  # This will be the LHV in kJ/mol assuming ΔHf values are also in kJ/mol"
   ],
   "metadata": {
    "collapsed": false,
    "pycharm": {
     "name": "#%%\n"
    }
   }
  },
  {
   "cell_type": "code",
   "execution_count": 52,
   "outputs": [],
   "source": [
    "dfHG = {\"H2O\": -242.00, \"O2\":-447.78, \"CO2\":-393.80} # liquid H2O, vapor for O2, CO2\n",
    "lhv_data = {key: calculate_lhv(key, dH, Hf) for key in dH.keys()}\n",
    "lhv_data[\"H2\"] = 241722\n",
    "# write_series_to_gams(lhv_data, \"lhv_pars.txt\", scale=1e3)\n",
    "lhv_data;"
   ],
   "metadata": {
    "collapsed": false,
    "pycharm": {
     "name": "#%%\n"
    }
   }
  },
  {
   "cell_type": "code",
   "execution_count": 53,
   "outputs": [
    {
     "data": {
      "text/plain": "           MW        LHV   CN  RON      rho        mu     TB trace EGEN\nC1A     16.04   802.8471  NaN  NaN      NaN  0.000016 -162.0     1    1\nC2A     30.07  1428.9758  NaN  NaN      NaN  0.000016  -89.0     1    1\nC3A     44.09    2043.53  NaN  NaN    0.498  0.000089  -42.0     0    1\nC4A     58.12   2657.816  NaN  NaN    0.577  0.000152   -1.0     0    1\nC5A     72.15    3245.91  NaN  NaN     0.63  0.000222   36.0     0    1\nC6A     86.17   3856.423  NaN  NaN    0.664  0.000306   69.0     0    1\nC7A     100.2   4466.551  NaN  NaN    0.683  0.000405   98.0     0    1\nC8A    114.22    5076.26  NaN  NaN    0.702  0.000528  126.0     0    1\nC9A    128.25   5687.282  NaN  NaN    0.719  0.000679  151.0     0    1\nC10A   142.28   6297.381  NaN  NaN     0.73  0.000875  174.0     0    1\nC11A    156.3   6907.692  NaN  NaN     0.74  0.001092  196.0     0    1\nC12A   170.33   7518.351  NaN  NaN     0.75  0.001386  216.0     0    1\nC13A   184.35   8128.556  NaN  NaN    0.756  0.001704  235.0     0    1\nC14A   198.38   8739.685  NaN  NaN     0.76  0.002057  254.0     0    1\nC15A   212.41   9350.095  NaN  NaN    0.769  0.002606  270.0     0    1\nC16A   226.43   9960.673  NaN  NaN    0.773  0.003207  287.0     0    1\nC17A   240.46  10570.939  NaN  NaN    0.778  0.004224  303.0     0    1\nC18A   254.48  11181.611  NaN  NaN  0.77728  0.005262  316.0     0    1\nC19A   268.51  11792.231  NaN  NaN    0.785  0.006645  330.0     0    1\nC20A   282.54   12402.06  NaN  NaN    0.789  0.008846  344.0     0    1\nC21A   296.56  13012.343  NaN  NaN    0.792   0.01108  359.0     0    1\nC22A   310.59  13623.681  NaN  NaN    0.794  0.013527  369.0     0    1\nC23A   324.61   14233.44  NaN  NaN  0.77948  0.018354  381.0     0    1\nC24A   338.64  14843.795  NaN  NaN    0.799  0.024037  391.0     0    1\nC25A   352.67   15454.88  NaN  NaN    0.801  0.030666  402.0     0    1\nC26A   366.69  16065.152  NaN  NaN   0.7786  0.041058  415.0     0    1\nC27A   380.72  16674.755  NaN  NaN   0.7806  0.058861  422.0     0    1\nC28A   394.74  17286.783  NaN  NaN    0.806  0.071042  435.0     0    1\nC29A   408.77  17898.544  NaN  NaN    0.808  0.088825  443.0     0    1\nC30A    422.8  18509.388  NaN  NaN     0.81  0.118956  451.0     0    1\nC31A   436.82  19125.992  NaN  NaN  0.78168  0.107392  458.0     0    1\nH2      2.016     241722  NaN  NaN      NaN   0.00001 -252.8     1    1\nLDPE    28.05        NaN  NaN  NaN      NaN       NaN    NaN     1    0\nHDPE    28.05        NaN  NaN  NaN      NaN       NaN    NaN     1    0\nPP     42.081        NaN  NaN  NaN      NaN       NaN    NaN     1    0\nWASTE     NaN        NaN  NaN  NaN      NaN       NaN    NaN     1    0",
      "text/html": "<div>\n<style scoped>\n    .dataframe tbody tr th:only-of-type {\n        vertical-align: middle;\n    }\n\n    .dataframe tbody tr th {\n        vertical-align: top;\n    }\n\n    .dataframe thead th {\n        text-align: right;\n    }\n</style>\n<table border=\"1\" class=\"dataframe\">\n  <thead>\n    <tr style=\"text-align: right;\">\n      <th></th>\n      <th>MW</th>\n      <th>LHV</th>\n      <th>CN</th>\n      <th>RON</th>\n      <th>rho</th>\n      <th>mu</th>\n      <th>TB</th>\n      <th>trace</th>\n      <th>EGEN</th>\n    </tr>\n  </thead>\n  <tbody>\n    <tr>\n      <th>C1A</th>\n      <td>16.04</td>\n      <td>802.8471</td>\n      <td>NaN</td>\n      <td>NaN</td>\n      <td>NaN</td>\n      <td>0.000016</td>\n      <td>-162.0</td>\n      <td>1</td>\n      <td>1</td>\n    </tr>\n    <tr>\n      <th>C2A</th>\n      <td>30.07</td>\n      <td>1428.9758</td>\n      <td>NaN</td>\n      <td>NaN</td>\n      <td>NaN</td>\n      <td>0.000016</td>\n      <td>-89.0</td>\n      <td>1</td>\n      <td>1</td>\n    </tr>\n    <tr>\n      <th>C3A</th>\n      <td>44.09</td>\n      <td>2043.53</td>\n      <td>NaN</td>\n      <td>NaN</td>\n      <td>0.498</td>\n      <td>0.000089</td>\n      <td>-42.0</td>\n      <td>0</td>\n      <td>1</td>\n    </tr>\n    <tr>\n      <th>C4A</th>\n      <td>58.12</td>\n      <td>2657.816</td>\n      <td>NaN</td>\n      <td>NaN</td>\n      <td>0.577</td>\n      <td>0.000152</td>\n      <td>-1.0</td>\n      <td>0</td>\n      <td>1</td>\n    </tr>\n    <tr>\n      <th>C5A</th>\n      <td>72.15</td>\n      <td>3245.91</td>\n      <td>NaN</td>\n      <td>NaN</td>\n      <td>0.63</td>\n      <td>0.000222</td>\n      <td>36.0</td>\n      <td>0</td>\n      <td>1</td>\n    </tr>\n    <tr>\n      <th>C6A</th>\n      <td>86.17</td>\n      <td>3856.423</td>\n      <td>NaN</td>\n      <td>NaN</td>\n      <td>0.664</td>\n      <td>0.000306</td>\n      <td>69.0</td>\n      <td>0</td>\n      <td>1</td>\n    </tr>\n    <tr>\n      <th>C7A</th>\n      <td>100.2</td>\n      <td>4466.551</td>\n      <td>NaN</td>\n      <td>NaN</td>\n      <td>0.683</td>\n      <td>0.000405</td>\n      <td>98.0</td>\n      <td>0</td>\n      <td>1</td>\n    </tr>\n    <tr>\n      <th>C8A</th>\n      <td>114.22</td>\n      <td>5076.26</td>\n      <td>NaN</td>\n      <td>NaN</td>\n      <td>0.702</td>\n      <td>0.000528</td>\n      <td>126.0</td>\n      <td>0</td>\n      <td>1</td>\n    </tr>\n    <tr>\n      <th>C9A</th>\n      <td>128.25</td>\n      <td>5687.282</td>\n      <td>NaN</td>\n      <td>NaN</td>\n      <td>0.719</td>\n      <td>0.000679</td>\n      <td>151.0</td>\n      <td>0</td>\n      <td>1</td>\n    </tr>\n    <tr>\n      <th>C10A</th>\n      <td>142.28</td>\n      <td>6297.381</td>\n      <td>NaN</td>\n      <td>NaN</td>\n      <td>0.73</td>\n      <td>0.000875</td>\n      <td>174.0</td>\n      <td>0</td>\n      <td>1</td>\n    </tr>\n    <tr>\n      <th>C11A</th>\n      <td>156.3</td>\n      <td>6907.692</td>\n      <td>NaN</td>\n      <td>NaN</td>\n      <td>0.74</td>\n      <td>0.001092</td>\n      <td>196.0</td>\n      <td>0</td>\n      <td>1</td>\n    </tr>\n    <tr>\n      <th>C12A</th>\n      <td>170.33</td>\n      <td>7518.351</td>\n      <td>NaN</td>\n      <td>NaN</td>\n      <td>0.75</td>\n      <td>0.001386</td>\n      <td>216.0</td>\n      <td>0</td>\n      <td>1</td>\n    </tr>\n    <tr>\n      <th>C13A</th>\n      <td>184.35</td>\n      <td>8128.556</td>\n      <td>NaN</td>\n      <td>NaN</td>\n      <td>0.756</td>\n      <td>0.001704</td>\n      <td>235.0</td>\n      <td>0</td>\n      <td>1</td>\n    </tr>\n    <tr>\n      <th>C14A</th>\n      <td>198.38</td>\n      <td>8739.685</td>\n      <td>NaN</td>\n      <td>NaN</td>\n      <td>0.76</td>\n      <td>0.002057</td>\n      <td>254.0</td>\n      <td>0</td>\n      <td>1</td>\n    </tr>\n    <tr>\n      <th>C15A</th>\n      <td>212.41</td>\n      <td>9350.095</td>\n      <td>NaN</td>\n      <td>NaN</td>\n      <td>0.769</td>\n      <td>0.002606</td>\n      <td>270.0</td>\n      <td>0</td>\n      <td>1</td>\n    </tr>\n    <tr>\n      <th>C16A</th>\n      <td>226.43</td>\n      <td>9960.673</td>\n      <td>NaN</td>\n      <td>NaN</td>\n      <td>0.773</td>\n      <td>0.003207</td>\n      <td>287.0</td>\n      <td>0</td>\n      <td>1</td>\n    </tr>\n    <tr>\n      <th>C17A</th>\n      <td>240.46</td>\n      <td>10570.939</td>\n      <td>NaN</td>\n      <td>NaN</td>\n      <td>0.778</td>\n      <td>0.004224</td>\n      <td>303.0</td>\n      <td>0</td>\n      <td>1</td>\n    </tr>\n    <tr>\n      <th>C18A</th>\n      <td>254.48</td>\n      <td>11181.611</td>\n      <td>NaN</td>\n      <td>NaN</td>\n      <td>0.77728</td>\n      <td>0.005262</td>\n      <td>316.0</td>\n      <td>0</td>\n      <td>1</td>\n    </tr>\n    <tr>\n      <th>C19A</th>\n      <td>268.51</td>\n      <td>11792.231</td>\n      <td>NaN</td>\n      <td>NaN</td>\n      <td>0.785</td>\n      <td>0.006645</td>\n      <td>330.0</td>\n      <td>0</td>\n      <td>1</td>\n    </tr>\n    <tr>\n      <th>C20A</th>\n      <td>282.54</td>\n      <td>12402.06</td>\n      <td>NaN</td>\n      <td>NaN</td>\n      <td>0.789</td>\n      <td>0.008846</td>\n      <td>344.0</td>\n      <td>0</td>\n      <td>1</td>\n    </tr>\n    <tr>\n      <th>C21A</th>\n      <td>296.56</td>\n      <td>13012.343</td>\n      <td>NaN</td>\n      <td>NaN</td>\n      <td>0.792</td>\n      <td>0.01108</td>\n      <td>359.0</td>\n      <td>0</td>\n      <td>1</td>\n    </tr>\n    <tr>\n      <th>C22A</th>\n      <td>310.59</td>\n      <td>13623.681</td>\n      <td>NaN</td>\n      <td>NaN</td>\n      <td>0.794</td>\n      <td>0.013527</td>\n      <td>369.0</td>\n      <td>0</td>\n      <td>1</td>\n    </tr>\n    <tr>\n      <th>C23A</th>\n      <td>324.61</td>\n      <td>14233.44</td>\n      <td>NaN</td>\n      <td>NaN</td>\n      <td>0.77948</td>\n      <td>0.018354</td>\n      <td>381.0</td>\n      <td>0</td>\n      <td>1</td>\n    </tr>\n    <tr>\n      <th>C24A</th>\n      <td>338.64</td>\n      <td>14843.795</td>\n      <td>NaN</td>\n      <td>NaN</td>\n      <td>0.799</td>\n      <td>0.024037</td>\n      <td>391.0</td>\n      <td>0</td>\n      <td>1</td>\n    </tr>\n    <tr>\n      <th>C25A</th>\n      <td>352.67</td>\n      <td>15454.88</td>\n      <td>NaN</td>\n      <td>NaN</td>\n      <td>0.801</td>\n      <td>0.030666</td>\n      <td>402.0</td>\n      <td>0</td>\n      <td>1</td>\n    </tr>\n    <tr>\n      <th>C26A</th>\n      <td>366.69</td>\n      <td>16065.152</td>\n      <td>NaN</td>\n      <td>NaN</td>\n      <td>0.7786</td>\n      <td>0.041058</td>\n      <td>415.0</td>\n      <td>0</td>\n      <td>1</td>\n    </tr>\n    <tr>\n      <th>C27A</th>\n      <td>380.72</td>\n      <td>16674.755</td>\n      <td>NaN</td>\n      <td>NaN</td>\n      <td>0.7806</td>\n      <td>0.058861</td>\n      <td>422.0</td>\n      <td>0</td>\n      <td>1</td>\n    </tr>\n    <tr>\n      <th>C28A</th>\n      <td>394.74</td>\n      <td>17286.783</td>\n      <td>NaN</td>\n      <td>NaN</td>\n      <td>0.806</td>\n      <td>0.071042</td>\n      <td>435.0</td>\n      <td>0</td>\n      <td>1</td>\n    </tr>\n    <tr>\n      <th>C29A</th>\n      <td>408.77</td>\n      <td>17898.544</td>\n      <td>NaN</td>\n      <td>NaN</td>\n      <td>0.808</td>\n      <td>0.088825</td>\n      <td>443.0</td>\n      <td>0</td>\n      <td>1</td>\n    </tr>\n    <tr>\n      <th>C30A</th>\n      <td>422.8</td>\n      <td>18509.388</td>\n      <td>NaN</td>\n      <td>NaN</td>\n      <td>0.81</td>\n      <td>0.118956</td>\n      <td>451.0</td>\n      <td>0</td>\n      <td>1</td>\n    </tr>\n    <tr>\n      <th>C31A</th>\n      <td>436.82</td>\n      <td>19125.992</td>\n      <td>NaN</td>\n      <td>NaN</td>\n      <td>0.78168</td>\n      <td>0.107392</td>\n      <td>458.0</td>\n      <td>0</td>\n      <td>1</td>\n    </tr>\n    <tr>\n      <th>H2</th>\n      <td>2.016</td>\n      <td>241722</td>\n      <td>NaN</td>\n      <td>NaN</td>\n      <td>NaN</td>\n      <td>0.00001</td>\n      <td>-252.8</td>\n      <td>1</td>\n      <td>1</td>\n    </tr>\n    <tr>\n      <th>LDPE</th>\n      <td>28.05</td>\n      <td>NaN</td>\n      <td>NaN</td>\n      <td>NaN</td>\n      <td>NaN</td>\n      <td>NaN</td>\n      <td>NaN</td>\n      <td>1</td>\n      <td>0</td>\n    </tr>\n    <tr>\n      <th>HDPE</th>\n      <td>28.05</td>\n      <td>NaN</td>\n      <td>NaN</td>\n      <td>NaN</td>\n      <td>NaN</td>\n      <td>NaN</td>\n      <td>NaN</td>\n      <td>1</td>\n      <td>0</td>\n    </tr>\n    <tr>\n      <th>PP</th>\n      <td>42.081</td>\n      <td>NaN</td>\n      <td>NaN</td>\n      <td>NaN</td>\n      <td>NaN</td>\n      <td>NaN</td>\n      <td>NaN</td>\n      <td>1</td>\n      <td>0</td>\n    </tr>\n    <tr>\n      <th>WASTE</th>\n      <td>NaN</td>\n      <td>NaN</td>\n      <td>NaN</td>\n      <td>NaN</td>\n      <td>NaN</td>\n      <td>NaN</td>\n      <td>NaN</td>\n      <td>1</td>\n      <td>0</td>\n    </tr>\n  </tbody>\n</table>\n</div>"
     },
     "execution_count": 53,
     "metadata": {},
     "output_type": "execute_result"
    }
   ],
   "source": [
    "for key, val in lhv_data.items():\n",
    "    df.loc[key][\"LHV\"] = val\n",
    "\n",
    "for key, val in viscosity_dict.items():\n",
    "    df.loc[key][\"mu\"] = val\n",
    "\n",
    "df"
   ],
   "metadata": {
    "collapsed": false,
    "pycharm": {
     "name": "#%%\n"
    }
   }
  },
  {
   "cell_type": "markdown",
   "source": [
    "### Lastly, RON and CN are provided."
   ],
   "metadata": {
    "collapsed": false,
    "pycharm": {
     "name": "#%% md\n"
    }
   }
  },
  {
   "cell_type": "code",
   "execution_count": 54,
   "outputs": [
    {
     "data": {
      "text/plain": "           MW        LHV   CN  RON      rho        mu     TB trace EGEN\nC1A     16.04   802.8471    0  127      NaN  0.000016 -162.0     1    1\nC2A     30.07  1428.9758  -20  111      NaN  0.000016  -89.0     1    1\nC3A     44.09    2043.53  -20  111    0.498  0.000089  -42.0     0    1\nC4A     58.12   2657.816   21   94    0.577  0.000152   -1.0     0    1\nC5A     72.15    3245.91   30   62     0.63  0.000222   36.0     0    1\nC6A     86.17   3856.423   45   19    0.664  0.000306   69.0     0    1\nC7A     100.2   4466.551   56    0    0.683  0.000405   98.0     0    1\nC8A    114.22    5076.26   58    0    0.702  0.000528  126.0     0    1\nC9A    128.25   5687.282   61    0    0.719  0.000679  151.0     0    1\nC10A   142.28   6297.381   66    0     0.73  0.000875  174.0     0    1\nC11A    156.3   6907.692   79    0     0.74  0.001092  196.0     0    1\nC12A   170.33   7518.351   73    0     0.75  0.001386  216.0     0    1\nC13A   184.35   8128.556   88    0    0.756  0.001704  235.0     0    1\nC14A   198.38   8739.685   95    0     0.76  0.002057  254.0     0    1\nC15A   212.41   9350.095   98    0    0.769  0.002606  270.0     0    1\nC16A   226.43   9960.673  100    0    0.773  0.003207  287.0     0    1\nC17A   240.46  10570.939  105    0    0.778  0.004224  303.0     0    1\nC18A   254.48  11181.611  110    0  0.77728  0.005262  316.0     0    1\nC19A   268.51  11792.231  110    0    0.785  0.006645  330.0     0    1\nC20A   282.54   12402.06  110    0    0.789  0.008846  344.0     0    1\nC21A   296.56  13012.343   83    0    0.792   0.01108  359.0     0    1\nC22A   310.59  13623.681   88    0    0.794  0.013527  369.0     0    1\nC23A   324.61   14233.44   88    0  0.77948  0.018354  381.0     0    1\nC24A   338.64  14843.795   88    0    0.799  0.024037  391.0     0    1\nC25A   352.67   15454.88   88    0    0.801  0.030666  402.0     0    1\nC26A   366.69  16065.152   88    0   0.7786  0.041058  415.0     0    1\nC27A   380.72  16674.755   88    0   0.7806  0.058861  422.0     0    1\nC28A   394.74  17286.783   88    0    0.806  0.071042  435.0     0    1\nC29A   408.77  17898.544   88    0    0.808  0.088825  443.0     0    1\nC30A    422.8  18509.388   88    0     0.81  0.118956  451.0     0    1\nC31A   436.82  19125.992   88    0  0.78168  0.107392  458.0     0    1\nH2      2.016     241722    0    0      NaN   0.00001 -252.8     1    1\nLDPE    28.05        NaN  NaN  NaN      NaN       NaN    NaN     1    0\nHDPE    28.05        NaN  NaN  NaN      NaN       NaN    NaN     1    0\nPP     42.081        NaN  NaN  NaN      NaN       NaN    NaN     1    0\nWASTE     NaN        NaN  NaN  NaN      NaN       NaN    NaN     1    0",
      "text/html": "<div>\n<style scoped>\n    .dataframe tbody tr th:only-of-type {\n        vertical-align: middle;\n    }\n\n    .dataframe tbody tr th {\n        vertical-align: top;\n    }\n\n    .dataframe thead th {\n        text-align: right;\n    }\n</style>\n<table border=\"1\" class=\"dataframe\">\n  <thead>\n    <tr style=\"text-align: right;\">\n      <th></th>\n      <th>MW</th>\n      <th>LHV</th>\n      <th>CN</th>\n      <th>RON</th>\n      <th>rho</th>\n      <th>mu</th>\n      <th>TB</th>\n      <th>trace</th>\n      <th>EGEN</th>\n    </tr>\n  </thead>\n  <tbody>\n    <tr>\n      <th>C1A</th>\n      <td>16.04</td>\n      <td>802.8471</td>\n      <td>0</td>\n      <td>127</td>\n      <td>NaN</td>\n      <td>0.000016</td>\n      <td>-162.0</td>\n      <td>1</td>\n      <td>1</td>\n    </tr>\n    <tr>\n      <th>C2A</th>\n      <td>30.07</td>\n      <td>1428.9758</td>\n      <td>-20</td>\n      <td>111</td>\n      <td>NaN</td>\n      <td>0.000016</td>\n      <td>-89.0</td>\n      <td>1</td>\n      <td>1</td>\n    </tr>\n    <tr>\n      <th>C3A</th>\n      <td>44.09</td>\n      <td>2043.53</td>\n      <td>-20</td>\n      <td>111</td>\n      <td>0.498</td>\n      <td>0.000089</td>\n      <td>-42.0</td>\n      <td>0</td>\n      <td>1</td>\n    </tr>\n    <tr>\n      <th>C4A</th>\n      <td>58.12</td>\n      <td>2657.816</td>\n      <td>21</td>\n      <td>94</td>\n      <td>0.577</td>\n      <td>0.000152</td>\n      <td>-1.0</td>\n      <td>0</td>\n      <td>1</td>\n    </tr>\n    <tr>\n      <th>C5A</th>\n      <td>72.15</td>\n      <td>3245.91</td>\n      <td>30</td>\n      <td>62</td>\n      <td>0.63</td>\n      <td>0.000222</td>\n      <td>36.0</td>\n      <td>0</td>\n      <td>1</td>\n    </tr>\n    <tr>\n      <th>C6A</th>\n      <td>86.17</td>\n      <td>3856.423</td>\n      <td>45</td>\n      <td>19</td>\n      <td>0.664</td>\n      <td>0.000306</td>\n      <td>69.0</td>\n      <td>0</td>\n      <td>1</td>\n    </tr>\n    <tr>\n      <th>C7A</th>\n      <td>100.2</td>\n      <td>4466.551</td>\n      <td>56</td>\n      <td>0</td>\n      <td>0.683</td>\n      <td>0.000405</td>\n      <td>98.0</td>\n      <td>0</td>\n      <td>1</td>\n    </tr>\n    <tr>\n      <th>C8A</th>\n      <td>114.22</td>\n      <td>5076.26</td>\n      <td>58</td>\n      <td>0</td>\n      <td>0.702</td>\n      <td>0.000528</td>\n      <td>126.0</td>\n      <td>0</td>\n      <td>1</td>\n    </tr>\n    <tr>\n      <th>C9A</th>\n      <td>128.25</td>\n      <td>5687.282</td>\n      <td>61</td>\n      <td>0</td>\n      <td>0.719</td>\n      <td>0.000679</td>\n      <td>151.0</td>\n      <td>0</td>\n      <td>1</td>\n    </tr>\n    <tr>\n      <th>C10A</th>\n      <td>142.28</td>\n      <td>6297.381</td>\n      <td>66</td>\n      <td>0</td>\n      <td>0.73</td>\n      <td>0.000875</td>\n      <td>174.0</td>\n      <td>0</td>\n      <td>1</td>\n    </tr>\n    <tr>\n      <th>C11A</th>\n      <td>156.3</td>\n      <td>6907.692</td>\n      <td>79</td>\n      <td>0</td>\n      <td>0.74</td>\n      <td>0.001092</td>\n      <td>196.0</td>\n      <td>0</td>\n      <td>1</td>\n    </tr>\n    <tr>\n      <th>C12A</th>\n      <td>170.33</td>\n      <td>7518.351</td>\n      <td>73</td>\n      <td>0</td>\n      <td>0.75</td>\n      <td>0.001386</td>\n      <td>216.0</td>\n      <td>0</td>\n      <td>1</td>\n    </tr>\n    <tr>\n      <th>C13A</th>\n      <td>184.35</td>\n      <td>8128.556</td>\n      <td>88</td>\n      <td>0</td>\n      <td>0.756</td>\n      <td>0.001704</td>\n      <td>235.0</td>\n      <td>0</td>\n      <td>1</td>\n    </tr>\n    <tr>\n      <th>C14A</th>\n      <td>198.38</td>\n      <td>8739.685</td>\n      <td>95</td>\n      <td>0</td>\n      <td>0.76</td>\n      <td>0.002057</td>\n      <td>254.0</td>\n      <td>0</td>\n      <td>1</td>\n    </tr>\n    <tr>\n      <th>C15A</th>\n      <td>212.41</td>\n      <td>9350.095</td>\n      <td>98</td>\n      <td>0</td>\n      <td>0.769</td>\n      <td>0.002606</td>\n      <td>270.0</td>\n      <td>0</td>\n      <td>1</td>\n    </tr>\n    <tr>\n      <th>C16A</th>\n      <td>226.43</td>\n      <td>9960.673</td>\n      <td>100</td>\n      <td>0</td>\n      <td>0.773</td>\n      <td>0.003207</td>\n      <td>287.0</td>\n      <td>0</td>\n      <td>1</td>\n    </tr>\n    <tr>\n      <th>C17A</th>\n      <td>240.46</td>\n      <td>10570.939</td>\n      <td>105</td>\n      <td>0</td>\n      <td>0.778</td>\n      <td>0.004224</td>\n      <td>303.0</td>\n      <td>0</td>\n      <td>1</td>\n    </tr>\n    <tr>\n      <th>C18A</th>\n      <td>254.48</td>\n      <td>11181.611</td>\n      <td>110</td>\n      <td>0</td>\n      <td>0.77728</td>\n      <td>0.005262</td>\n      <td>316.0</td>\n      <td>0</td>\n      <td>1</td>\n    </tr>\n    <tr>\n      <th>C19A</th>\n      <td>268.51</td>\n      <td>11792.231</td>\n      <td>110</td>\n      <td>0</td>\n      <td>0.785</td>\n      <td>0.006645</td>\n      <td>330.0</td>\n      <td>0</td>\n      <td>1</td>\n    </tr>\n    <tr>\n      <th>C20A</th>\n      <td>282.54</td>\n      <td>12402.06</td>\n      <td>110</td>\n      <td>0</td>\n      <td>0.789</td>\n      <td>0.008846</td>\n      <td>344.0</td>\n      <td>0</td>\n      <td>1</td>\n    </tr>\n    <tr>\n      <th>C21A</th>\n      <td>296.56</td>\n      <td>13012.343</td>\n      <td>83</td>\n      <td>0</td>\n      <td>0.792</td>\n      <td>0.01108</td>\n      <td>359.0</td>\n      <td>0</td>\n      <td>1</td>\n    </tr>\n    <tr>\n      <th>C22A</th>\n      <td>310.59</td>\n      <td>13623.681</td>\n      <td>88</td>\n      <td>0</td>\n      <td>0.794</td>\n      <td>0.013527</td>\n      <td>369.0</td>\n      <td>0</td>\n      <td>1</td>\n    </tr>\n    <tr>\n      <th>C23A</th>\n      <td>324.61</td>\n      <td>14233.44</td>\n      <td>88</td>\n      <td>0</td>\n      <td>0.77948</td>\n      <td>0.018354</td>\n      <td>381.0</td>\n      <td>0</td>\n      <td>1</td>\n    </tr>\n    <tr>\n      <th>C24A</th>\n      <td>338.64</td>\n      <td>14843.795</td>\n      <td>88</td>\n      <td>0</td>\n      <td>0.799</td>\n      <td>0.024037</td>\n      <td>391.0</td>\n      <td>0</td>\n      <td>1</td>\n    </tr>\n    <tr>\n      <th>C25A</th>\n      <td>352.67</td>\n      <td>15454.88</td>\n      <td>88</td>\n      <td>0</td>\n      <td>0.801</td>\n      <td>0.030666</td>\n      <td>402.0</td>\n      <td>0</td>\n      <td>1</td>\n    </tr>\n    <tr>\n      <th>C26A</th>\n      <td>366.69</td>\n      <td>16065.152</td>\n      <td>88</td>\n      <td>0</td>\n      <td>0.7786</td>\n      <td>0.041058</td>\n      <td>415.0</td>\n      <td>0</td>\n      <td>1</td>\n    </tr>\n    <tr>\n      <th>C27A</th>\n      <td>380.72</td>\n      <td>16674.755</td>\n      <td>88</td>\n      <td>0</td>\n      <td>0.7806</td>\n      <td>0.058861</td>\n      <td>422.0</td>\n      <td>0</td>\n      <td>1</td>\n    </tr>\n    <tr>\n      <th>C28A</th>\n      <td>394.74</td>\n      <td>17286.783</td>\n      <td>88</td>\n      <td>0</td>\n      <td>0.806</td>\n      <td>0.071042</td>\n      <td>435.0</td>\n      <td>0</td>\n      <td>1</td>\n    </tr>\n    <tr>\n      <th>C29A</th>\n      <td>408.77</td>\n      <td>17898.544</td>\n      <td>88</td>\n      <td>0</td>\n      <td>0.808</td>\n      <td>0.088825</td>\n      <td>443.0</td>\n      <td>0</td>\n      <td>1</td>\n    </tr>\n    <tr>\n      <th>C30A</th>\n      <td>422.8</td>\n      <td>18509.388</td>\n      <td>88</td>\n      <td>0</td>\n      <td>0.81</td>\n      <td>0.118956</td>\n      <td>451.0</td>\n      <td>0</td>\n      <td>1</td>\n    </tr>\n    <tr>\n      <th>C31A</th>\n      <td>436.82</td>\n      <td>19125.992</td>\n      <td>88</td>\n      <td>0</td>\n      <td>0.78168</td>\n      <td>0.107392</td>\n      <td>458.0</td>\n      <td>0</td>\n      <td>1</td>\n    </tr>\n    <tr>\n      <th>H2</th>\n      <td>2.016</td>\n      <td>241722</td>\n      <td>0</td>\n      <td>0</td>\n      <td>NaN</td>\n      <td>0.00001</td>\n      <td>-252.8</td>\n      <td>1</td>\n      <td>1</td>\n    </tr>\n    <tr>\n      <th>LDPE</th>\n      <td>28.05</td>\n      <td>NaN</td>\n      <td>NaN</td>\n      <td>NaN</td>\n      <td>NaN</td>\n      <td>NaN</td>\n      <td>NaN</td>\n      <td>1</td>\n      <td>0</td>\n    </tr>\n    <tr>\n      <th>HDPE</th>\n      <td>28.05</td>\n      <td>NaN</td>\n      <td>NaN</td>\n      <td>NaN</td>\n      <td>NaN</td>\n      <td>NaN</td>\n      <td>NaN</td>\n      <td>1</td>\n      <td>0</td>\n    </tr>\n    <tr>\n      <th>PP</th>\n      <td>42.081</td>\n      <td>NaN</td>\n      <td>NaN</td>\n      <td>NaN</td>\n      <td>NaN</td>\n      <td>NaN</td>\n      <td>NaN</td>\n      <td>1</td>\n      <td>0</td>\n    </tr>\n    <tr>\n      <th>WASTE</th>\n      <td>NaN</td>\n      <td>NaN</td>\n      <td>NaN</td>\n      <td>NaN</td>\n      <td>NaN</td>\n      <td>NaN</td>\n      <td>NaN</td>\n      <td>1</td>\n      <td>0</td>\n    </tr>\n  </tbody>\n</table>\n</div>"
     },
     "execution_count": 54,
     "metadata": {},
     "output_type": "execute_result"
    }
   ],
   "source": [
    "# RON, CN\n",
    "fuel_cn_dict = dict()\n",
    "fuel_ron_dict = dict()\n",
    "fuel_prop = pd.read_csv(\"parameters/fuel_prop.csv\")\n",
    "for index, row in fuel_prop.iterrows():\n",
    "    fuel_cn_dict[row[\"Code\"]] = row[\"CN\"]\n",
    "    fuel_ron_dict[row[\"Code\"]] = row[\"RON\"]\n",
    "\n",
    "# write_series_to_gams(fuel_cn_dict, \"fuel_cn_dict.txt\", scale=1)\n",
    "# write_series_to_gams(fuel_ron_dict, \"fuel_ron_dict.txt\", scale=1)\n",
    "\n",
    "for key, val in fuel_cn_dict.items():\n",
    "    df.loc[key][\"CN\"] = val\n",
    "\n",
    "for key, val in fuel_ron_dict.items():\n",
    "    df.loc[key][\"RON\"] = val\n",
    "\n",
    "df"
   ],
   "metadata": {
    "collapsed": false,
    "pycharm": {
     "name": "#%%\n"
    }
   }
  },
  {
   "cell_type": "markdown",
   "source": [
    "### Now write data to gams."
   ],
   "metadata": {
    "collapsed": false,
    "pycharm": {
     "name": "#%% md\n"
    }
   }
  },
  {
   "cell_type": "code",
   "execution_count": 55,
   "outputs": [],
   "source": [
    "write_series_to_gams(df[\"MW\"].to_dict(), \"mw_pars.txt\", scale=1e-3)\n",
    "write_series_to_gams(df[\"LHV\"].to_dict(), \"lhv_pars.txt\", scale=1e3)\n",
    "write_series_to_gams(df[\"CN\"].to_dict(), \"cn_pars.txt\", scale=1)\n",
    "write_series_to_gams(df[\"RON\"].to_dict(), \"ron_pars.txt\", scale=1)\n",
    "write_series_to_gams(df[\"rho\"].to_dict(), \"rho_pars.txt\", scale=1e3)\n",
    "write_series_to_gams(df[\"mu\"].to_dict(), \"mu_pars.txt\", scale=1e3)\n",
    "write_series_to_gams(df[\"TB\"].to_dict(), \"bp_pars.txt\", scale=1)\n",
    "write_series_to_gams(df[\"trace\"].to_dict(), \"trace_pars.txt\", scale=1)\n",
    "write_series_to_gams(df[\"EGEN\"].to_dict(), \"egen_pars.txt\", scale=1)"
   ],
   "metadata": {
    "collapsed": false,
    "pycharm": {
     "name": "#%%\n"
    }
   }
  },
  {
   "cell_type": "code",
   "execution_count": 56,
   "outputs": [],
   "source": [
    "def write_list_to_file(strings, filename, n, separator=\", \"):\n",
    "    with open(filename, \"w\") as f:\n",
    "        f.write(f\"/\\n\")\n",
    "        for i in range(0, len(strings), n):\n",
    "            # Check if it's the last line\n",
    "            last_line = i + n >= len(strings)\n",
    "            if not last_line:\n",
    "                separator_with_newline = f\"{separator}\\n\"\n",
    "            else:\n",
    "                separator_with_newline = \"\\n\"\n",
    "            f.write(f\"\\t\")\n",
    "            f.write(separator.join(strings[i:i+n]) + separator_with_newline)\n",
    "        f.write(f\"/\")\n",
    "\n",
    "n = 8\n",
    "filename = \"subsets.txt\"\n",
    "separator = \",\""
   ],
   "metadata": {
    "collapsed": false,
    "pycharm": {
     "name": "#%%\n"
    }
   }
  },
  {
   "cell_type": "code",
   "execution_count": 57,
   "outputs": [],
   "source": [
    "bp30 = []\n",
    "bp150 = []\n",
    "bp160 = []\n",
    "bp215 = []\n",
    "bp300 = []\n",
    "bp360 = []\n",
    "kegen = []\n",
    "kfuel = []\n",
    "ktrace =[]\n",
    "\n",
    "lambda_tb = {}\n",
    "\n",
    "for key, val in df[\"TB\"].to_dict().items():\n",
    "    lambda_tb[key] = val\n",
    "    if val < 30:\n",
    "        bp30.append(key)\n",
    "    if val < 150:\n",
    "        bp150.append(key)\n",
    "    if val < 160:\n",
    "        bp160.append(key)\n",
    "    if val < 215:\n",
    "        bp215.append(key)\n",
    "    if val < 300:\n",
    "        bp300.append(key)\n",
    "    if val < 360:\n",
    "        bp360.append(key)\n",
    "\n",
    "for key, val in df[\"EGEN\"].to_dict().items():\n",
    "    if val == 0:\n",
    "        kegen.append(key)\n",
    "\n",
    "for key, val in df[\"trace\"].to_dict().items():\n",
    "    if val == 0:\n",
    "        kfuel.append(key)\n",
    "    else:\n",
    "        ktrace.append(key)"
   ],
   "metadata": {
    "collapsed": false,
    "pycharm": {
     "name": "#%%\n"
    }
   }
  },
  {
   "cell_type": "code",
   "execution_count": 58,
   "outputs": [],
   "source": [
    "def write_dict_to_gams(data, filename, scale=1, dec=6):\n",
    "    indent = f\"\\t\"\n",
    "    with open(filename, 'w') as file:\n",
    "        file.write(f\"/\\n\")\n",
    "        for index, value in data.items():\n",
    "            # Writing the index and value in the required GAMS format\n",
    "            # Assuming GAMS format is something like \"i / value /\"\n",
    "            if not np.isnan(value):\n",
    "                file.write(f\"{indent}{index}  {round(float(value)*scale, dec)} \\n\")\n",
    "        file.write(f\"/\\n\")"
   ],
   "metadata": {
    "collapsed": false,
    "pycharm": {
     "name": "#%%\n"
    }
   }
  },
  {
   "cell_type": "code",
   "execution_count": 59,
   "outputs": [],
   "source": [
    "write_list_to_file(bp30, \"bp30.txt\", 8, \",\")\n",
    "write_list_to_file(bp150, \"bp150.txt\", 8, \",\")\n",
    "write_list_to_file(bp160, \"bp160.txt\", 8, \",\")\n",
    "write_list_to_file(bp215, \"bp215.txt\", 8, \",\")\n",
    "write_list_to_file(bp300, \"bp300.txt\", 8, \",\")\n",
    "write_list_to_file(bp360, \"bp360.txt\", 8, \",\")\n",
    "write_list_to_file(kegen, \"kegen.txt\", 8, \",\")\n",
    "write_list_to_file(kfuel, \"kfuel.txt\", 8, \",\")\n",
    "write_list_to_file(ktrace, \"ktrace.txt\", 8, \",\")"
   ],
   "metadata": {
    "collapsed": false,
    "pycharm": {
     "name": "#%%\n"
    }
   }
  },
  {
   "cell_type": "markdown",
   "source": [
    "### The chemeo data collector, currently not used."
   ],
   "metadata": {
    "collapsed": false,
    "pycharm": {
     "name": "#%% md\n"
    }
   }
  },
  {
   "cell_type": "code",
   "execution_count": 60,
   "outputs": [],
   "source": [
    "# chemeo_df = pd.read_csv(\"parameters/chemeo.csv\")\n",
    "# chemeo_urls = {}\n",
    "# for index, row in chemeo_df.iterrows():\n",
    "#     chemeo_urls[row[\"code\"]] = row[\"source\"]\n",
    "# # chemeo_urls"
   ],
   "metadata": {
    "collapsed": false,
    "pycharm": {
     "name": "#%%\n"
    }
   }
  },
  {
   "cell_type": "code",
   "execution_count": 61,
   "outputs": [],
   "source": [
    "# # The URLs\n",
    "#\n",
    "# prop_data = {}\n",
    "# for k, val in chemeo_urls.items():\n",
    "#     properties_dict = {}\n",
    "#     url = val\n",
    "#\n",
    "#     response = requests.get(url)\n",
    "#     # Check if the request was successful\n",
    "#     if response.status_code == 200:\n",
    "#         # Parse the HTML content of the page\n",
    "#         soup = BeautifulSoup(response.content, 'html.parser')\n",
    "#\n",
    "#         # Find and extract the desired data\n",
    "#         properties_table = soup.find('table', class_='props details')\n",
    "#         # Iterate over each row in the table\n",
    "#         print(f\"retrieving data {k}...\")\n",
    "#         for row in properties_table.find_all('tr'):\n",
    "#             # Find all columns in the row\n",
    "#             cols = row.find_all('td')\n",
    "#\n",
    "#             # Extract text and assign to dictionary (assuming two columns per row)\n",
    "#             if len(cols) == 4:\n",
    "#                 key = cols[0].text.strip()\n",
    "#                 value = cols[1].text.strip()\n",
    "#                 properties_dict[key] = value\n",
    "#\n",
    "#         prop_data[k] = properties_dict[\"ΔfH°gas\"]\n",
    "#     else:\n",
    "#         print('Failed to retrieve the webpage')\n",
    "#         prop_data[k] = None\n",
    "#\n",
    "# # prop_data"
   ],
   "metadata": {
    "collapsed": false,
    "pycharm": {
     "name": "#%%\n"
    }
   }
  },
  {
   "cell_type": "code",
   "execution_count": 62,
   "outputs": [],
   "source": [
    "# prop_data\n",
    "# # Processing the values to cast them to float and drop the \"±\" part\n",
    "# processed_data = {key: float(value.split(' ± ')[0]) for key, value in prop_data.items()}\n",
    "# processed_data"
   ],
   "metadata": {
    "collapsed": false,
    "pycharm": {
     "name": "#%%\n"
    }
   }
  },
  {
   "cell_type": "code",
   "execution_count": 63,
   "outputs": [],
   "source": [
    "# dfHG = {\"H2O\": -242.00, \"O2\":-447.78, \"CO2\":-393.80} # liquid H2O, vapor for O2, CO2\n",
    "# lhv_data = {key: calculate_lhv(key, processed_data, Hf) for key in processed_data.keys()}\n",
    "# lhv_data"
   ],
   "metadata": {
    "collapsed": false,
    "pycharm": {
     "name": "#%%\n"
    }
   }
  }
 ],
 "metadata": {
  "kernelspec": {
   "display_name": "Python 3",
   "language": "python",
   "name": "python3"
  },
  "language_info": {
   "codemirror_mode": {
    "name": "ipython",
    "version": 2
   },
   "file_extension": ".py",
   "mimetype": "text/x-python",
   "name": "python",
   "nbconvert_exporter": "python",
   "pygments_lexer": "ipython2",
   "version": "2.7.6"
  }
 },
 "nbformat": 4,
 "nbformat_minor": 0
}