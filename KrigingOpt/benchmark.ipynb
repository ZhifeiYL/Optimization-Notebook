{
 "cells": [
  {
   "cell_type": "markdown",
   "source": [
    "https://doi.org/10.1016/j.compchemeng.2018.07.016\n"
   ],
   "metadata": {
    "collapsed": false
   }
  },
  {
   "cell_type": "code",
   "execution_count": 38,
   "outputs": [],
   "source": [
    "from pyomo.environ import *\n",
    "import numpy as np\n",
    "\n",
    "from util.util import get_root_dir\n",
    "\n",
    "proj_dir = get_root_dir() + \"/KrigingOpt/\""
   ],
   "metadata": {
    "collapsed": false,
    "ExecuteTime": {
     "end_time": "2024-02-29T18:32:08.548725600Z",
     "start_time": "2024-02-29T18:32:08.475933800Z"
    }
   }
  },
  {
   "cell_type": "code",
   "execution_count": 39,
   "outputs": [],
   "source": [
    "def bp1():\n",
    "    # Appendix Gomez and levy, 1982\n",
    "    model = ConcreteModel()\n",
    "\n",
    "    model.x1 = Var(domain=Reals, bounds=(-1,1))\n",
    "    model.x2 = Var(domain=Reals, bounds=(-1,1))\n",
    "\n",
    "    def constr_rule(m):\n",
    "        return - sin(4*np.pi*m.x1) + 2 * (sin(2*np.pi*m.x2))**2 <= 0\n",
    "    model.constr = Constraint(rule=constr_rule)\n",
    "\n",
    "    def obj_exp(m):\n",
    "        return (4-2.1*m.x1**2 + 1/3*m.x1**4)*m.x1**2 + m.x1*m.x2 + (-4+4*m.x2**2) * m.x2**2\n",
    "\n",
    "    model.obj = Objective(rule=obj_exp, sense=minimize)\n",
    "\n",
    "    return model"
   ],
   "metadata": {
    "collapsed": false,
    "ExecuteTime": {
     "end_time": "2024-02-29T18:32:08.548725600Z",
     "start_time": "2024-02-29T18:32:08.497863100Z"
    }
   }
  },
  {
   "cell_type": "code",
   "execution_count": 40,
   "outputs": [
    {
     "name": "stdout",
     "output_type": "stream",
     "text": [
      "--- Job model.gms Start 02/29/24 13:32:08 42.5.0 cf11b917 WEX-WEI x86 64bit/MS Windows\n",
      "--- Applying:\n",
      "    C:\\GAMS\\42\\gmsprmNT.txt\n",
      "    C:\\Users\\zyuliu\\Documents\\GAMS\\gamsconfig.yaml\n",
      "--- GAMS Parameters defined\n",
      "    Input C:\\Users\\zyuliu\\PycharmProjects\\Optimization-Notebook\\KrigingOpt\\output\\model.gms\n",
      "    Output C:\\Users\\zyuliu\\PycharmProjects\\Optimization-Notebook\\KrigingOpt\\output\\output.lst\n",
      "    ScrDir C:\\Users\\zyuliu\\PycharmProjects\\Optimization-Notebook\\KrigingOpt\\output\\225a\\\n",
      "    SysDir C:\\GAMS\\42\\\n",
      "    CurDir C:\\Users\\zyuliu\\PycharmProjects\\Optimization-Notebook\\KrigingOpt\\output\\\n",
      "    LogOption 3\n",
      "Licensee: Small MUD - 5 User License                     G221121|0002AP-GEN\n",
      "          University of Delaware, Chemical and Biomolecular EngineeriDC3967\n",
      "          C:\\Users\\zyuliu\\Documents\\GAMS\\gamslice.txt\n",
      "          License Admin: Marianthi Ierapetritou, mgi@udel.edu              \n",
      "Processor information: 1 socket(s), 4 core(s), and 8 thread(s) available\n",
      "GAMS 42.5.0   Copyright (C) 1987-2023 GAMS Development. All rights reserved\n",
      "--- Starting compilation\n",
      "--- model.gms(93) 2 Mb\n",
      "--- Starting execution: elapsed 0:00:00.015\n",
      "--- model.gms(31) 3 Mb\n",
      "--- Generating NLP model GAMS_MODEL\n",
      "--- model.gms(35) 5 Mb\n",
      "---   2 rows  3 columns  5 non-zeroes\n",
      "---   38 nl-code  4 nl-non-zeroes\n",
      "--- Range statistics (absolute non-zero finite values)\n",
      "--- RHS       [min, max] : [        NA,        NA] - Zero values observed as well\n",
      "--- Bound     [min, max] : [ 1.000E+00, 1.000E+00]\n",
      "--- Matrix    [min, max] : [ 1.000E+00, 1.257E+01] - Zero values observed as well\n",
      "--- model.gms(35) 3 Mb\n",
      "--- Executing IPOPT (Solvelink=5): elapsed 0:00:00.020\n",
      "\n",
      "COIN-OR Ipopt    42.5.0 cf11b917 Mar 30, 2023          WEI x86 64bit/MS Window\n",
      "\n",
      "COIN-OR Interior Point Optimizer (Ipopt Library 3.14.10)\n",
      "written by A. Waechter.\n",
      "\n",
      "******************************************************************************\n",
      "This program contains Ipopt, a library for large-scale nonlinear optimization.\n",
      " Ipopt is released as open source code under the Eclipse Public License (EPL).\n",
      "         For more information visit https://github.com/coin-or/Ipopt\n",
      "******************************************************************************\n",
      "\n",
      "This is Ipopt version 3.14.10, running with linear solver MUMPS 5.5.1.\n",
      "\n",
      "Number of nonzeros in equality constraint Jacobian...:        0\n",
      "Number of nonzeros in inequality constraint Jacobian.:        2\n",
      "Number of nonzeros in Lagrangian Hessian.............:        3\n",
      "\n",
      "Total number of variables............................:        2\n",
      "                     variables with only lower bounds:        0\n",
      "                variables with lower and upper bounds:        2\n",
      "                     variables with only upper bounds:        0\n",
      "Total number of equality constraints.................:        0\n",
      "Total number of inequality constraints...............:        1\n",
      "        inequality constraints with only lower bounds:        0\n",
      "   inequality constraints with lower and upper bounds:        0\n",
      "        inequality constraints with only upper bounds:        1\n",
      "\n",
      "iter    objective    inf_pr   inf_du lg(mu)  ||d||  lg(rg) alpha_du alpha_pr  ls\n",
      "   0  0.0000000e+00 0.00e+00 9.94e-01   0.0 0.00e+00    -  0.00e+00 0.00e+00   0\n",
      "   1  4.3896234e-06 0.00e+00 3.21e-01  -2.2 3.18e-03   2.0 9.95e-01 1.00e+00h  1\n",
      "   2  4.4354316e-06 0.00e+00 5.07e-03  -3.9 1.52e-04   1.5 1.00e+00 1.00e+00h  1\n",
      "   3  2.8729457e-06 0.00e+00 5.12e-03  -6.0 4.60e-04   1.0 1.00e+00 1.00e+00h  1\n",
      "   4  1.4409401e-06 0.00e+00 6.99e-03  -8.1 2.36e-04   1.5 1.00e+00 1.00e+00h  1\n",
      "   5 -7.4555803e-05 0.00e+00 3.54e-02  -9.9 3.57e-03   1.0 1.00e+00 1.00e+00h  1\n",
      "   6 -1.5720195e-04 0.00e+00 5.05e-02 -11.0 1.92e-03   1.4 1.00e+00 1.00e+00h  1\n",
      "   7 -1.8157616e-02 2.59e-01 5.20e-01 -11.0 6.08e-02   0.9 1.00e+00 1.00e+00h  1\n",
      "   8 -1.7669187e-02 0.00e+00 4.96e-01 -11.0 2.31e-02   1.4 1.00e+00 1.00e+00h  1\n",
      "   9 -3.0667004e-02 4.19e-02 2.55e-01 -11.0 2.63e-02   0.9 1.00e+00 1.00e+00h  1\n",
      "iter    objective    inf_pr   inf_du lg(mu)  ||d||  lg(rg) alpha_du alpha_pr  ls\n",
      "  10 -3.2412575e-02 4.10e-02 2.25e-01  -9.0 3.28e-02   0.4 1.00e+00 1.56e-01h  1\n",
      "  11 -3.2420013e-02 4.10e-02 2.25e-01  -7.1 9.52e-02  -0.1 1.00e+00 4.80e-04h  1\n",
      "  12 -3.9898801e-02 9.42e-02 1.99e-01  -7.4 3.73e-02    -  1.00e+00 1.00e+00h  1\n",
      "  13 -3.4398766e-02 1.13e-02 1.82e-02  -9.0 1.24e-02    -  1.00e+00 1.00e+00h  1\n",
      "  14 -3.3536852e-02 9.60e-05 1.54e-04 -10.7 1.46e-03    -  1.00e+00 1.00e+00h  1\n",
      "  15 -3.3529450e-02 6.65e-10 4.75e-09 -11.0 6.71e-06    -  1.00e+00 1.00e+00h  1\n",
      "\n",
      "Number of Iterations....: 15\n",
      "\n",
      "                                   (scaled)                 (unscaled)\n",
      "Objective...............:  -3.3529449632743104e-02   -3.3529449632743104e-02\n",
      "Dual infeasibility......:   4.7536009329188619e-09    4.7536009329188619e-09\n",
      "Constraint violation....:   6.6533235304765416e-10    6.6533235304765416e-10\n",
      "Variable bound violation:   0.0000000000000000e+00    0.0000000000000000e+00\n",
      "Complementarity.........:   1.0000060013388190e-11    1.0000060013388190e-11\n",
      "Overall NLP error.......:   4.7536009329188619e-09    4.7536009329188619e-09\n",
      "\n",
      "\n",
      "Number of objective function evaluations             = 16\n",
      "Number of objective gradient evaluations             = 16\n",
      "Number of equality constraint evaluations            = 0\n",
      "Number of inequality constraint evaluations          = 16\n",
      "Number of equality constraint Jacobian evaluations   = 0\n",
      "Number of inequality constraint Jacobian evaluations = 16\n",
      "Number of Lagrangian Hessian evaluations             = 15\n",
      "Total seconds in IPOPT                               = 0.023\n",
      "\n",
      "EXIT: Optimal Solution Found.\n",
      "--- Reading solution for model GAMS_MODEL\n",
      "--- Executing after solve: elapsed 0:00:00.064\n",
      "--- model.gms(93) 3 Mb\n",
      "--- Putfile results C:\\Users\\zyuliu\\PycharmProjects\\Optimization-Notebook\\KrigingOpt\\output\\results.dat\n",
      "--- Putfile statresults C:\\Users\\zyuliu\\PycharmProjects\\Optimization-Notebook\\KrigingOpt\\output\\resultsstat.dat\n",
      "*** Status: Normal completion\n",
      "--- Job model.gms Stop 02/29/24 13:32:08 elapsed 0:00:00.066\n",
      "\n",
      "GAMS WORKING DIRECTORY: C:\\Users\\zyuliu\\PycharmProjects\\Optimization-Notebook/KrigingOpt//output\n",
      "\n",
      "2 Var Declarations\n",
      "    x1 : Size=1, Index=None\n",
      "        Key  : Lower : Value             : Upper : Fixed : Stale : Domain\n",
      "        None :    -1 : 0.079762061434466 :     1 : False : False :  Reals\n",
      "    x2 : Size=1, Index=None\n",
      "        Key  : Lower : Value              : Upper : Fixed : Stale : Domain\n",
      "        None :    -1 : -0.112432033833715 :     1 : False : False :  Reals\n",
      "\n",
      "1 Objective Declarations\n",
      "    obj : Size=1, Index=None, Active=True\n",
      "        Key  : Active : Sense    : Expression\n",
      "        None :   True : minimize : (4 - 2.1*x1**2 + 0.3333333333333333*x1**4)*x1**2 + x1*x2 + (-4 + 4*x2**2)*x2**2\n",
      "\n",
      "1 Constraint Declarations\n",
      "    constr : Size=1, Index=None, Active=True\n",
      "        Key  : Lower : Body                                                          : Upper : Active\n",
      "        None :  -Inf : - sin(12.566370614359172*x1) + 2*sin(6.283185307179586*x2)**2 :   0.0 :   True\n",
      "\n",
      "4 Declarations: x1 x2 constr obj\n"
     ]
    }
   ],
   "source": [
    "m1 = bp1()\n",
    "\n",
    "opt1 = SolverFactory('gams')\n",
    "io_options = dict()\n",
    "\n",
    "io_options['solver'] = \"ipopt\"\n",
    "io_options['warmstart'] = True\n",
    "res = opt1.solve(m1,\n",
    "    tee=True,\n",
    "    keepfiles=True,\n",
    "    add_options = ['option reslim=7200; option optcr=0.0; option limrow=5000'],\n",
    "    tmpdir=proj_dir+\"/output\",\n",
    "    io_options=io_options)\n",
    "\n",
    "m1.pprint()"
   ],
   "metadata": {
    "collapsed": false,
    "ExecuteTime": {
     "end_time": "2024-02-29T18:32:08.953567100Z",
     "start_time": "2024-02-29T18:32:08.511826900Z"
    }
   }
  },
  {
   "cell_type": "code",
   "execution_count": 40,
   "outputs": [],
   "source": [],
   "metadata": {
    "collapsed": false,
    "ExecuteTime": {
     "end_time": "2024-02-29T18:32:09.015401800Z",
     "start_time": "2024-02-29T18:32:08.956559Z"
    }
   }
  }
 ],
 "metadata": {
  "kernelspec": {
   "display_name": "Python 3",
   "language": "python",
   "name": "python3"
  },
  "language_info": {
   "codemirror_mode": {
    "name": "ipython",
    "version": 2
   },
   "file_extension": ".py",
   "mimetype": "text/x-python",
   "name": "python",
   "nbconvert_exporter": "python",
   "pygments_lexer": "ipython2",
   "version": "2.7.6"
  }
 },
 "nbformat": 4,
 "nbformat_minor": 0
}
