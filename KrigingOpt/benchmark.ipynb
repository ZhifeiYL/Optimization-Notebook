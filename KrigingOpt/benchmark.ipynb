{
 "cells": [
  {
   "cell_type": "markdown",
   "source": [
    "https://doi.org/10.1016/j.compchemeng.2018.07.016\n"
   ],
   "metadata": {
    "collapsed": false
   }
  },
  {
   "cell_type": "code",
   "execution_count": 7,
   "outputs": [],
   "source": [
    "from pyomo.environ import *\n",
    "import numpy as np\n",
    "\n",
    "from util.util import get_root_dir\n",
    "\n",
    "proj_dir = get_root_dir() + \"/KrigingOpt/\""
   ],
   "metadata": {
    "collapsed": false,
    "ExecuteTime": {
     "end_time": "2024-02-29T19:12:42.230421300Z",
     "start_time": "2024-02-29T19:12:42.191525800Z"
    }
   }
  },
  {
   "cell_type": "code",
   "execution_count": 8,
   "outputs": [],
   "source": [
    "def bp1():\n",
    "    # Appendix Gomez and levy, 1982\n",
    "    model = ConcreteModel()\n",
    "\n",
    "    model.x1 = Var(domain=Reals, bounds=(-1,1))\n",
    "    model.x2 = Var(domain=Reals, bounds=(-1,1))\n",
    "\n",
    "    def constr_rule(m):\n",
    "        return - sin(4*np.pi*m.x1) + 2 * (sin(2*np.pi*m.x2))**2 <= 0\n",
    "    model.constr = Constraint(rule=constr_rule)\n",
    "\n",
    "    def obj_exp(m):\n",
    "        return (4-2.1*m.x1**2 + 1/3*m.x1**4)*m.x1**2 + m.x1*m.x2 + (-4+4*m.x2**2) * m.x2**2\n",
    "\n",
    "    model.obj = Objective(rule=obj_exp, sense=minimize)\n",
    "\n",
    "    return model"
   ],
   "metadata": {
    "collapsed": false,
    "ExecuteTime": {
     "end_time": "2024-02-29T19:12:42.239397Z",
     "start_time": "2024-02-29T19:12:42.204492300Z"
    }
   }
  },
  {
   "cell_type": "code",
   "execution_count": 9,
   "outputs": [
    {
     "name": "stdout",
     "output_type": "stream",
     "text": [
      "--- Job model.gms Start 02/29/24 14:12:42 42.5.0 cf11b917 WEX-WEI x86 64bit/MS Windows\n",
      "--- Applying:\n",
      "    C:\\GAMS\\42\\gmsprmNT.txt\n",
      "    C:\\Users\\zyuliu\\Documents\\GAMS\\gamsconfig.yaml\n",
      "--- GAMS Parameters defined\n",
      "    Input C:\\Users\\zyuliu\\PycharmProjects\\Optimization-Notebook\\KrigingOpt\\output\\model.gms\n",
      "    Output C:\\Users\\zyuliu\\PycharmProjects\\Optimization-Notebook\\KrigingOpt\\output\\output.lst\n",
      "    ScrDir C:\\Users\\zyuliu\\PycharmProjects\\Optimization-Notebook\\KrigingOpt\\output\\225a\\\n",
      "    SysDir C:\\GAMS\\42\\\n",
      "    CurDir C:\\Users\\zyuliu\\PycharmProjects\\Optimization-Notebook\\KrigingOpt\\output\\\n",
      "    LogOption 3\n",
      "Licensee: Small MUD - 5 User License                     G221121|0002AP-GEN\n",
      "          University of Delaware, Chemical and Biomolecular EngineeriDC3967\n",
      "          C:\\Users\\zyuliu\\Documents\\GAMS\\gamslice.txt\n",
      "          License Admin: Marianthi Ierapetritou, mgi@udel.edu              \n",
      "Processor information: 1 socket(s), 4 core(s), and 8 thread(s) available\n",
      "GAMS 42.5.0   Copyright (C) 1987-2023 GAMS Development. All rights reserved\n",
      "--- Starting compilation\n",
      "--- model.gms(95) 2 Mb\n",
      "--- Starting execution: elapsed 0:00:00.019\n",
      "--- model.gms(33) 3 Mb\n",
      "--- Generating NLP model GAMS_MODEL\n",
      "--- model.gms(37) 5 Mb\n",
      "---   2 rows  3 columns  5 non-zeroes\n",
      "---   38 nl-code  4 nl-non-zeroes\n",
      "--- Range statistics (absolute non-zero finite values)\n",
      "--- RHS       [min, max] : [        NA,        NA] - Zero values observed as well\n",
      "--- Bound     [min, max] : [ 1.000E+00, 1.000E+00]\n",
      "--- Matrix    [min, max] : [ 2.401E-01, 1.256E+01]\n",
      "--- model.gms(37) 3 Mb\n",
      "--- Executing IPOPT (Solvelink=5): elapsed 0:00:00.054\n",
      "\n",
      "COIN-OR Ipopt    42.5.0 cf11b917 Mar 30, 2023          WEI x86 64bit/MS Window\n",
      "\n",
      "COIN-OR Interior Point Optimizer (Ipopt Library 3.14.10)\n",
      "written by A. Waechter.\n",
      "\n",
      "******************************************************************************\n",
      "This program contains Ipopt, a library for large-scale nonlinear optimization.\n",
      " Ipopt is released as open source code under the Eclipse Public License (EPL).\n",
      "         For more information visit https://github.com/coin-or/Ipopt\n",
      "******************************************************************************\n",
      "\n",
      "This is Ipopt version 3.14.10, running with linear solver MUMPS 5.5.1.\n",
      "\n",
      "Number of nonzeros in equality constraint Jacobian...:        0\n",
      "Number of nonzeros in inequality constraint Jacobian.:        2\n",
      "Number of nonzeros in Lagrangian Hessian.............:        3\n",
      "\n",
      "Total number of variables............................:        2\n",
      "                     variables with only lower bounds:        0\n",
      "                variables with lower and upper bounds:        2\n",
      "                     variables with only upper bounds:        0\n",
      "Total number of equality constraints.................:        0\n",
      "Total number of inequality constraints...............:        1\n",
      "        inequality constraints with only lower bounds:        0\n",
      "   inequality constraints with lower and upper bounds:        0\n",
      "        inequality constraints with only upper bounds:        1\n",
      "\n",
      "iter    objective    inf_pr   inf_du lg(mu)  ||d||  lg(rg) alpha_du alpha_pr  ls\n",
      "   0 -9.7103552e-01 0.00e+00 8.97e-01   0.0 0.00e+00    -  0.00e+00 0.00e+00   0\n",
      "   1 -9.6959303e-01 0.00e+00 4.79e-03  -2.2 5.48e-03    -  9.95e-01 1.00e+00h  1\n",
      "   2 -9.7102941e-01 0.00e+00 5.47e-05  -8.0 1.47e-02    -  9.89e-01 1.00e+00h  1\n",
      "   3 -9.7110399e-01 0.00e+00 2.21e-07  -9.9 7.72e-04    -  1.00e+00 1.00e+00h  1\n",
      "   4 -9.7110407e-01 0.00e+00 2.41e-13 -11.0 7.56e-07    -  1.00e+00 1.00e+00h  1\n",
      "\n",
      "Number of Iterations....: 4\n",
      "\n",
      "                                   (scaled)                 (unscaled)\n",
      "Objective...............:  -9.7110406728207621e-01   -9.7110406728207621e-01\n",
      "Dual infeasibility......:   2.4065285485981314e-13    2.4065285485981314e-13\n",
      "Constraint violation....:   0.0000000000000000e+00    0.0000000000000000e+00\n",
      "Variable bound violation:   0.0000000000000000e+00    0.0000000000000000e+00\n",
      "Complementarity.........:   1.0035504741378152e-11    1.0035504741378152e-11\n",
      "Overall NLP error.......:   1.0035504741378152e-11    1.0035504741378152e-11\n",
      "\n",
      "\n",
      "Number of objective function evaluations             = 5\n",
      "Number of objective gradient evaluations             = 5\n",
      "Number of equality constraint evaluations            = 0\n",
      "Number of inequality constraint evaluations          = 5\n",
      "Number of equality constraint Jacobian evaluations   = 0\n",
      "Number of inequality constraint Jacobian evaluations = 5\n",
      "Number of Lagrangian Hessian evaluations             = 4\n",
      "Total seconds in IPOPT                               = 0.013\n",
      "\n",
      "EXIT: Optimal Solution Found.\n",
      "--- Reading solution for model GAMS_MODEL\n",
      "--- Executing after solve: elapsed 0:00:00.121\n",
      "--- model.gms(95) 3 Mb\n",
      "--- Putfile results C:\\Users\\zyuliu\\PycharmProjects\\Optimization-Notebook\\KrigingOpt\\output\\results.dat\n",
      "--- Putfile statresults C:\\Users\\zyuliu\\PycharmProjects\\Optimization-Notebook\\KrigingOpt\\output\\resultsstat.dat\n",
      "*** Status: Normal completion\n",
      "--- Job model.gms Stop 02/29/24 14:12:42 elapsed 0:00:00.124\n",
      "\n",
      "GAMS WORKING DIRECTORY: C:\\Users\\zyuliu\\PycharmProjects\\Optimization-Notebook/KrigingOpt//output\n",
      "\n",
      "2 Var Declarations\n",
      "    x1 : Size=1, Index=None\n",
      "        Key  : Lower : Value             : Upper : Fixed : Stale : Domain\n",
      "        None :    -1 : 0.109260138547123 :     1 : False : False :  Reals\n",
      "    x2 : Size=1, Index=None\n",
      "        Key  : Lower : Value              : Upper : Fixed : Stale : Domain\n",
      "        None :    -1 : -0.623448353226192 :     1 : False : False :  Reals\n",
      "\n",
      "1 Objective Declarations\n",
      "    obj : Size=1, Index=None, Active=True\n",
      "        Key  : Active : Sense    : Expression\n",
      "        None :   True : minimize : (4 - 2.1*x1**2 + 0.3333333333333333*x1**4)*x1**2 + x1*x2 + (-4 + 4*x2**2)*x2**2\n",
      "\n",
      "1 Constraint Declarations\n",
      "    constr : Size=1, Index=None, Active=True\n",
      "        Key  : Lower : Body                                                          : Upper : Active\n",
      "        None :  -Inf : - sin(12.566370614359172*x1) + 2*sin(6.283185307179586*x2)**2 :   0.0 :   True\n",
      "\n",
      "4 Declarations: x1 x2 constr obj\n"
     ]
    }
   ],
   "source": [
    "m1 = bp1()\n",
    "m1.x1 = 0.1093\n",
    "m1.x2 = -0.6234\n",
    "\n",
    "opt1 = SolverFactory('gams')\n",
    "io_options = dict()\n",
    "\n",
    "io_options['solver'] = \"ipopt\"\n",
    "io_options['warmstart'] = True\n",
    "res = opt1.solve(m1,\n",
    "    tee=True,\n",
    "    keepfiles=True,\n",
    "    add_options = ['option reslim=7200; option optcr=0.0; option limrow=5000'],\n",
    "    tmpdir=proj_dir+\"/output\",\n",
    "    io_options=io_options)\n",
    "\n",
    "m1.pprint()"
   ],
   "metadata": {
    "collapsed": false,
    "ExecuteTime": {
     "end_time": "2024-02-29T19:12:42.745046600Z",
     "start_time": "2024-02-29T19:12:42.218453700Z"
    }
   }
  },
  {
   "cell_type": "code",
   "execution_count": 9,
   "outputs": [],
   "source": [],
   "metadata": {
    "collapsed": false,
    "ExecuteTime": {
     "end_time": "2024-02-29T19:12:42.783941900Z",
     "start_time": "2024-02-29T19:12:42.740061700Z"
    }
   }
  }
 ],
 "metadata": {
  "kernelspec": {
   "display_name": "Python 3",
   "language": "python",
   "name": "python3"
  },
  "language_info": {
   "codemirror_mode": {
    "name": "ipython",
    "version": 2
   },
   "file_extension": ".py",
   "mimetype": "text/x-python",
   "name": "python",
   "nbconvert_exporter": "python",
   "pygments_lexer": "ipython2",
   "version": "2.7.6"
  }
 },
 "nbformat": 4,
 "nbformat_minor": 0
}
