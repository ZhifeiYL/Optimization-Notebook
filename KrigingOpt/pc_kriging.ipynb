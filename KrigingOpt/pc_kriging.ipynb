{
 "cells": [
  {
   "cell_type": "code",
   "execution_count": 32,
   "metadata": {
    "collapsed": true,
    "pycharm": {
     "name": "#%%\n"
    }
   },
   "outputs": [],
   "source": [
    "import numpy as np\n",
    "import chaospy as cp\n",
    "import GPy\n",
    "\n",
    "class SequentialPCKriging:\n",
    "    def __init__(self, input_dist, order=3):\n",
    "        self.input_dist = input_dist\n",
    "        self.expansion = cp.generate_expansion(order, input_dist)\n",
    "        self.gp_model = None\n",
    "\n",
    "    def fit_pce(self, x, y):\n",
    "        if x.ndim == 2 and x.shape[1] == 1:\n",
    "            x = x.flatten()\n",
    "        if y.ndim == 2 and y.shape[1] == 1:\n",
    "            y = y.flatten()\n",
    "        self.pce_model = cp.fit_regression(self.expansion, x, y)\n",
    "\n",
    "    def fit_kriging(self, x, y):\n",
    "        discrepancy = y - self.pce_model(x)\n",
    "        kernel = GPy.kern.RBF(input_dim=1, variance=1., lengthscale=1.)\n",
    "        self.gp_model = GPy.models.GPRegression(x, discrepancy, kernel)\n",
    "        self.gp_model.optimize()\n",
    "\n",
    "    def fit(self, x, y):\n",
    "        self.fit_pce(x, y)\n",
    "        self.fit_kriging(x, y)\n",
    "\n",
    "    def predict(self, x_new):\n",
    "        pce_pred = self.pce_model(x_new)\n",
    "        gp_pred, gp_var = self.gp_model.predict(x_new)\n",
    "        return pce_pred + gp_pred, np.sqrt(gp_var)"
   ]
  },
  {
   "cell_type": "code",
   "execution_count": 33,
   "outputs": [],
   "source": [
    "from scipy.stats import norm\n",
    "\n",
    "def expected_improvement(X, X_sample, Y_sample, gp, xi=0.01):\n",
    "    '''\n",
    "    Computes the EI at points X based on existing samples X_sample\n",
    "    and Y_sample using a Gaussian process surrogate model.\n",
    "\n",
    "    Args:\n",
    "    X: Points at which EI shall be computed (m x d).\n",
    "    X_sample: Sample locations (n x d).\n",
    "    Y_sample: Sample values (n x 1).\n",
    "    gp: A Gaussian process fitted to samples.\n",
    "    xi: Exploitation-exploration trade-off parameter.\n",
    "\n",
    "    Returns:\n",
    "    Expected improvements at points X.\n",
    "    '''\n",
    "    # Making a prediction at point X\n",
    "    mu, sigma = gp.predict(X)\n",
    "\n",
    "    # Calculating the improvement\n",
    "    mu_sample_opt = np.max(Y_sample)\n",
    "    imp = mu - mu_sample_opt - xi\n",
    "    Z = imp / sigma\n",
    "    ei = imp * norm.cdf(Z) + sigma * norm.pdf(Z)\n",
    "    ei[sigma == 0.0] = 0.0  # If sigma is 0, the expected improvement is 0\n",
    "\n",
    "    return ei\n"
   ],
   "metadata": {
    "collapsed": false,
    "pycharm": {
     "name": "#%%\n"
    }
   }
  },
  {
   "cell_type": "code",
   "execution_count": 34,
   "outputs": [],
   "source": [
    "from scipy.optimize import minimize\n",
    "\n",
    "def propose_location(acquisition, X_sample, Y_sample, kriging_model, bounds, n_restarts=25):\n",
    "    \"\"\"\n",
    "    Proposes the next sampling point by optimizing the acquisition function.\n",
    "\n",
    "    Args:\n",
    "        acquisition: Acquisition function.\n",
    "        X_sample: Sample locations (n x d).\n",
    "        Y_sample: Sample values (n x 1).\n",
    "        kriging_model: A Gaussian process model.\n",
    "        bounds: Bounds of the design space.\n",
    "        n_restarts: Number of restarts for the optimizer.\n",
    "\n",
    "    Returns:\n",
    "        Location of the next sampling point.\n",
    "    \"\"\"\n",
    "    dim = X_sample.shape[1]\n",
    "    min_val = 1\n",
    "    min_x = None\n",
    "\n",
    "    def min_obj(X):\n",
    "        # Minimization objective is the negative acquisition function\n",
    "        return -acquisition(X.reshape(-1, dim), X_sample, Y_sample, kriging_model)\n",
    "\n",
    "    # Start with n_restart different random choices for the starting point\n",
    "    for x0 in np.random.uniform(bounds[:, 0], bounds[:, 1], size=(n_restarts, dim)):\n",
    "        res = minimize(min_obj, x0=x0, bounds=bounds, method='L-BFGS-B')\n",
    "        if res.fun < min_val:\n",
    "            min_val = res.fun\n",
    "            min_x = res.x\n",
    "\n",
    "    return min_x.reshape(-1, 1)\n"
   ],
   "metadata": {
    "collapsed": false,
    "pycharm": {
     "name": "#%%\n"
    }
   }
  },
  {
   "cell_type": "code",
   "execution_count": 35,
   "outputs": [],
   "source": [
    "from scipy.optimize import minimize\n",
    "\n",
    "def optimize(f, bounds, input_dist,  n_iter=25, initial_samples=5, xi=0.01):\n",
    "    \"\"\"\n",
    "    Main optimization loop.\n",
    "\n",
    "    Args:\n",
    "        f: Objective function.\n",
    "        bounds: Bounds of the design space (2d array).\n",
    "        n_iter: Number of iterations.\n",
    "        initial_samples: Number of initial random samples.\n",
    "        xi: Exploration-exploitation trade-off parameter.\n",
    "\n",
    "    Returns:\n",
    "        Optimal value and corresponding point.\n",
    "    \"\"\"\n",
    "    # Randomly sample the initial design space\n",
    "    X_sample = np.random.uniform(bounds[:, 0], bounds[:, 1], size=(initial_samples, len(bounds)))\n",
    "    Y_sample = f(X_sample)\n",
    "\n",
    "    # Initialize Kriging model\n",
    "    kriging_model = SequentialPCKriging(input_dist, order=5)\n",
    "\n",
    "    kriging_model.fit(X_sample, Y_sample)\n",
    "\n",
    "    for i in range(n_iter):\n",
    "        # Update the model\n",
    "        kriging_model.fit(X_sample, Y_sample)\n",
    "        # Obtain next sampling point from the acquisition function (expected_improvement)\n",
    "        X_next = propose_location(expected_improvement, X_sample, Y_sample, kriging_model, bounds=bounds)\n",
    "\n",
    "        # Obtain next noisy sample from the objective function\n",
    "        Y_next = f(X_next)\n",
    "\n",
    "        # Add the new sample point to the existing set of samples\n",
    "        X_sample = np.vstack((X_sample, X_next))\n",
    "        Y_sample = np.vstack((Y_sample, Y_next))\n",
    "\n",
    "    return np.max(Y_sample), X_sample[np.argmax(Y_sample)]\n"
   ],
   "metadata": {
    "collapsed": false,
    "pycharm": {
     "name": "#%%\n"
    }
   }
  },
  {
   "cell_type": "code",
   "execution_count": 36,
   "outputs": [
    {
     "name": "stdout",
     "output_type": "stream",
     "text": [
      "Optimal Value: 5.0\n",
      "Optimal Point: [2.]\n"
     ]
    }
   ],
   "source": [
    "def f_simple_test(x):\n",
    "    return -1 * (x - 2)**2 + 5\n",
    "\n",
    "# Test the optimization function\n",
    "bounds = np.array([[0, 4]])  # Bounds of the design space\n",
    "opt_val, opt_point = optimize(f_simple_test, bounds, cp.Uniform(0,4), n_iter=25, initial_samples=5, xi=0.01)\n",
    "\n",
    "print(\"Optimal Value:\", opt_val)\n",
    "print(\"Optimal Point:\", opt_point)"
   ],
   "metadata": {
    "collapsed": false,
    "pycharm": {
     "name": "#%%\n"
    }
   }
  }
 ],
 "metadata": {
  "kernelspec": {
   "display_name": "Python 3",
   "language": "python",
   "name": "python3"
  },
  "language_info": {
   "codemirror_mode": {
    "name": "ipython",
    "version": 2
   },
   "file_extension": ".py",
   "mimetype": "text/x-python",
   "name": "python",
   "nbconvert_exporter": "python",
   "pygments_lexer": "ipython2",
   "version": "2.7.6"
  }
 },
 "nbformat": 4,
 "nbformat_minor": 0
}