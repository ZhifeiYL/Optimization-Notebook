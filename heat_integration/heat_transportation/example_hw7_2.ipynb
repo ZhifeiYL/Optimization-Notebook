{
 "cells": [
  {
   "cell_type": "code",
   "execution_count": 6,
   "metadata": {
    "collapsed": true,
    "ExecuteTime": {
     "end_time": "2023-10-26T22:12:16.060797800Z",
     "start_time": "2023-10-26T22:12:16.033375Z"
    }
   },
   "outputs": [],
   "source": [
    "import os\n",
    "from gams import *\n",
    "\n",
    "from heat_integration.heat_transportation.heat_transportation_milp_integrate import *\n",
    "from util.util import get_root_dir"
   ]
  },
  {
   "cell_type": "code",
   "execution_count": 7,
   "outputs": [],
   "source": [
    "# read data into standard dictionary form\n",
    "\n",
    "root_dir =get_root_dir()\n",
    "case_dir = \"/heat_integration/heat_transportation/example_hw7_2/\"\n",
    "directory = root_dir + case_dir\n",
    "\n",
    "data = {\n",
    "    \"streams\": directory + 'streams.csv',\n",
    "    \"utility_interval\": directory + 'utility_interval.csv',\n",
    "    \"tabH\": directory + 'tabH.csv',\n",
    "    \"tabC\": directory + 'tabC.csv',\n",
    "    \"utility_cost\": directory + 'utility_cost.csv'\n",
    "}"
   ],
   "metadata": {
    "collapsed": false,
    "ExecuteTime": {
     "end_time": "2023-10-26T22:12:16.091715700Z",
     "start_time": "2023-10-26T22:12:16.049332400Z"
    }
   }
  },
  {
   "cell_type": "code",
   "execution_count": 8,
   "outputs": [
    {
     "name": "stdout",
     "output_type": "stream",
     "text": [
      "--- Warning: The GAMS version (42.5.0) differs from the API version (45.1.0).\n"
     ]
    }
   ],
   "source": [
    "# Initialize workspace\n",
    "case_name = \"hw7_2_milp_integrated\"\n",
    "\n",
    "build_gams_file(case_name, data, case_dir, 'model_body.txt')\n",
    "ws = GamsWorkspace(system_directory=\"C:\\GAMS\\\\42\", working_directory=root_dir+case_dir)\n",
    "# print(str(case_dir) + str(case_name) + '.gms')\n",
    "job = ws.add_job_from_file(directory + case_name)\n",
    "job.run()"
   ],
   "metadata": {
    "collapsed": false,
    "ExecuteTime": {
     "end_time": "2023-10-26T22:12:16.550740100Z",
     "start_time": "2023-10-26T22:12:16.062795Z"
    }
   }
  },
  {
   "cell_type": "code",
   "execution_count": 14,
   "outputs": [
    {
     "data": {
      "text/plain": "array([1., 0., 0., 1., 1., 0., 1., 1., 1., 0., 0., 1., 1., 0., 0., 0., 0.,\n       0., 0., 1., 0.])"
     },
     "execution_count": 14,
     "metadata": {},
     "output_type": "execute_result"
    }
   ],
   "source": [
    "import numpy as np\n",
    "import pandas as pd\n",
    "\n",
    "x = job.out_db.get_variable(\"x\")\n",
    "x_values = [rec.level for rec in x]\n",
    "x_res = np.array(x_values)\n",
    "x_res"
   ],
   "metadata": {
    "collapsed": false,
    "ExecuteTime": {
     "end_time": "2023-10-26T22:18:52.864052900Z",
     "start_time": "2023-10-26T22:18:52.798436500Z"
    }
   }
  },
  {
   "cell_type": "code",
   "execution_count": 17,
   "outputs": [
    {
     "data": {
      "text/plain": "      h      c   i  Value\n0     1      1   1    1.0\n1     1      1   2    1.0\n2     1      1   3    1.0\n3     1      1   4    1.0\n4     1      1   5    1.0\n..   ..    ...  ..    ...\n205  lp  water   6    0.0\n206  lp  water   7    0.0\n207  lp  water   8    0.0\n208  lp  water   9    0.0\n209  lp  water  10    0.0\n\n[210 rows x 4 columns]",
      "text/html": "<div>\n<style scoped>\n    .dataframe tbody tr th:only-of-type {\n        vertical-align: middle;\n    }\n\n    .dataframe tbody tr th {\n        vertical-align: top;\n    }\n\n    .dataframe thead th {\n        text-align: right;\n    }\n</style>\n<table border=\"1\" class=\"dataframe\">\n  <thead>\n    <tr style=\"text-align: right;\">\n      <th></th>\n      <th>h</th>\n      <th>c</th>\n      <th>i</th>\n      <th>Value</th>\n    </tr>\n  </thead>\n  <tbody>\n    <tr>\n      <th>0</th>\n      <td>1</td>\n      <td>1</td>\n      <td>1</td>\n      <td>1.0</td>\n    </tr>\n    <tr>\n      <th>1</th>\n      <td>1</td>\n      <td>1</td>\n      <td>2</td>\n      <td>1.0</td>\n    </tr>\n    <tr>\n      <th>2</th>\n      <td>1</td>\n      <td>1</td>\n      <td>3</td>\n      <td>1.0</td>\n    </tr>\n    <tr>\n      <th>3</th>\n      <td>1</td>\n      <td>1</td>\n      <td>4</td>\n      <td>1.0</td>\n    </tr>\n    <tr>\n      <th>4</th>\n      <td>1</td>\n      <td>1</td>\n      <td>5</td>\n      <td>1.0</td>\n    </tr>\n    <tr>\n      <th>...</th>\n      <td>...</td>\n      <td>...</td>\n      <td>...</td>\n      <td>...</td>\n    </tr>\n    <tr>\n      <th>205</th>\n      <td>lp</td>\n      <td>water</td>\n      <td>6</td>\n      <td>0.0</td>\n    </tr>\n    <tr>\n      <th>206</th>\n      <td>lp</td>\n      <td>water</td>\n      <td>7</td>\n      <td>0.0</td>\n    </tr>\n    <tr>\n      <th>207</th>\n      <td>lp</td>\n      <td>water</td>\n      <td>8</td>\n      <td>0.0</td>\n    </tr>\n    <tr>\n      <th>208</th>\n      <td>lp</td>\n      <td>water</td>\n      <td>9</td>\n      <td>0.0</td>\n    </tr>\n    <tr>\n      <th>209</th>\n      <td>lp</td>\n      <td>water</td>\n      <td>10</td>\n      <td>0.0</td>\n    </tr>\n  </tbody>\n</table>\n<p>210 rows × 4 columns</p>\n</div>"
     },
     "execution_count": 17,
     "metadata": {},
     "output_type": "execute_result"
    }
   ],
   "source": [
    "y = job.out_db.get_variable(\"y\")\n",
    "index1 = [rec.key(0) for rec in y]\n",
    "index2 = [rec.key(1) for rec in y]\n",
    "index3 = [rec.key(2) for rec in y]\n",
    "values = [rec.level for rec in y]\n",
    "y_df = pd.DataFrame({'h': index1, 'c': index2, 'i': index3, 'Value': values})\n",
    "y_df"
   ],
   "metadata": {
    "collapsed": false,
    "ExecuteTime": {
     "end_time": "2023-10-26T22:19:31.192534200Z",
     "start_time": "2023-10-26T22:19:31.131696800Z"
    }
   }
  },
  {
   "cell_type": "code",
   "execution_count": null,
   "outputs": [],
   "source": [],
   "metadata": {
    "collapsed": false
   }
  }
 ],
 "metadata": {
  "kernelspec": {
   "display_name": "Python 3",
   "language": "python",
   "name": "python3"
  },
  "language_info": {
   "codemirror_mode": {
    "name": "ipython",
    "version": 2
   },
   "file_extension": ".py",
   "mimetype": "text/x-python",
   "name": "python",
   "nbconvert_exporter": "python",
   "pygments_lexer": "ipython2",
   "version": "2.7.6"
  }
 },
 "nbformat": 4,
 "nbformat_minor": 0
}
