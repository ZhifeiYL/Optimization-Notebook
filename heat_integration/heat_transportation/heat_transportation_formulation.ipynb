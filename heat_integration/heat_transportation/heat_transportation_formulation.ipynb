{
 "cells": [
  {
   "cell_type": "markdown",
   "source": [
    "## A heat integration formulation\n",
    "Primary Reference: Papoulias, S. A., &amp; Grossmann, I. E. (1983). A structural optimization approach in process synthesis—II. Computers &amp;amp; Chemical Engineering, 7(6), 707–721. https://doi.org/10.1016/0098-1354(83)85023-6"
   ],
   "metadata": {
    "collapsed": false
   }
  },
  {
   "cell_type": "markdown",
   "source": [
    "### Example Problem\n",
    "\n",
    "| Stream | Fcp(KW/K) | $T_{in}$(K) | $T_{out}$(K) |\n",
    "|--------|-----------|-------------|--------------|\n",
    "| H1     | 20        | 700         | 420          |\n",
    "| H2     | 40        | 620         | 330          |\n",
    "| H3     | 70        | 480         | 330          |\n",
    "| H4     | 94        | 380         | 330          |\n",
    "| C1     | 50        | 300         | 650          |\n",
    "| C2     | 720       | 375         | 400          |\n",
    "\n",
    "The following utilities are available for heating and cooling. At base case, we don't consider regeneration.\n",
    "\n",
    "| Utilities       | Temperature(K) | Temperature-Regeneration(K) | Price($/kw) | Regeneration |\n",
    "|-----------------|----------------|-----------------------------|-------------|--------------|\n",
    "| Fuel            | 750            | None                        | 150         | False        |\n",
    "| HP stream       | 510            | 509                         | 120         | True         |\n",
    "| LP stream       | 410            | 409                         | 80          | True         |\n",
    "| Cooling water   | 300-325        | None                        | 20          | False        |\n"
   ],
   "metadata": {
    "collapsed": false
   }
  },
  {
   "cell_type": "code",
   "execution_count": 2,
   "outputs": [],
   "source": [
    "import numpy as np\n",
    "\n",
    "# Data input\n",
    "\n",
    "Hs = np.array([\n",
    "    [20, 700, 420],\n",
    "    [40, 620, 330],\n",
    "    [70, 480, 330],\n",
    "    [94, 380, 330]\n",
    "])\n",
    "\n",
    "Cs = np.array([\n",
    "    [50, 300, 650],\n",
    "    [720, 375, 400]\n",
    "])\n",
    "\n",
    "Ht = np.array([\n",
    "    [750, 750, 150, 0]\n",
    "])"
   ],
   "metadata": {
    "collapsed": false,
    "ExecuteTime": {
     "end_time": "2023-10-26T23:38:29.614821200Z",
     "start_time": "2023-10-26T23:38:29.599839Z"
    }
   }
  },
  {
   "cell_type": "markdown",
   "source": [
    "### HEN network\n",
    "\n"
   ],
   "metadata": {
    "collapsed": false
   }
  },
  {
   "cell_type": "code",
   "execution_count": null,
   "outputs": [],
   "source": [],
   "metadata": {
    "collapsed": false
   }
  }
 ],
 "metadata": {
  "kernelspec": {
   "display_name": "Python 3",
   "language": "python",
   "name": "python3"
  },
  "language_info": {
   "codemirror_mode": {
    "name": "ipython",
    "version": 2
   },
   "file_extension": ".py",
   "mimetype": "text/x-python",
   "name": "python",
   "nbconvert_exporter": "python",
   "pygments_lexer": "ipython2",
   "version": "2.7.6"
  }
 },
 "nbformat": 4,
 "nbformat_minor": 0
}
