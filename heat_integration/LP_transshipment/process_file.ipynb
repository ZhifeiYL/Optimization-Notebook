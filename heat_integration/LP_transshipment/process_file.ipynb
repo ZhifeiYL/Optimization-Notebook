{
 "cells": [
  {
   "cell_type": "code",
   "execution_count": 40,
   "outputs": [],
   "source": [
    "import pandas as pd\n",
    "import numpy as np"
   ],
   "metadata": {
    "collapsed": false,
    "pycharm": {
     "name": "#%%\n"
    }
   }
  },
  {
   "cell_type": "code",
   "execution_count": 41,
   "outputs": [],
   "source": [
    "filename = 'example_data.xlsx'\n",
    "xls = pd.ExcelFile(filename)\n",
    "\n",
    "sheets = {}\n",
    "for sheet_name in xls.sheet_names:\n",
    "    sheets[sheet_name] = pd.read_excel(xls, sheet_name, engine='openpyxl')\n",
    "\n",
    "heaters = sheets['Heaters']\n",
    "coolers = sheets['Coolers']\n",
    "HU = sheets['Hot Utilities']\n",
    "CU = sheets['Cold Utilities']"
   ],
   "metadata": {
    "collapsed": false,
    "pycharm": {
     "name": "#%%\n"
    }
   }
  },
  {
   "cell_type": "code",
   "execution_count": 42,
   "outputs": [
    {
     "data": {
      "text/plain": "  Name   Duty  Tin  Tout  Fcp\n0   H1   5600  700   420   20\n1   H2  11600  620   330   40\n2   H3  10500  480   330   70\n3   H4   4700  380   330   94",
      "text/html": "<div>\n<style scoped>\n    .dataframe tbody tr th:only-of-type {\n        vertical-align: middle;\n    }\n\n    .dataframe tbody tr th {\n        vertical-align: top;\n    }\n\n    .dataframe thead th {\n        text-align: right;\n    }\n</style>\n<table border=\"1\" class=\"dataframe\">\n  <thead>\n    <tr style=\"text-align: right;\">\n      <th></th>\n      <th>Name</th>\n      <th>Duty</th>\n      <th>Tin</th>\n      <th>Tout</th>\n      <th>Fcp</th>\n    </tr>\n  </thead>\n  <tbody>\n    <tr>\n      <th>0</th>\n      <td>H1</td>\n      <td>5600</td>\n      <td>700</td>\n      <td>420</td>\n      <td>20</td>\n    </tr>\n    <tr>\n      <th>1</th>\n      <td>H2</td>\n      <td>11600</td>\n      <td>620</td>\n      <td>330</td>\n      <td>40</td>\n    </tr>\n    <tr>\n      <th>2</th>\n      <td>H3</td>\n      <td>10500</td>\n      <td>480</td>\n      <td>330</td>\n      <td>70</td>\n    </tr>\n    <tr>\n      <th>3</th>\n      <td>H4</td>\n      <td>4700</td>\n      <td>380</td>\n      <td>330</td>\n      <td>94</td>\n    </tr>\n  </tbody>\n</table>\n</div>"
     },
     "execution_count": 42,
     "metadata": {},
     "output_type": "execute_result"
    }
   ],
   "source": [
    "heaters"
   ],
   "metadata": {
    "collapsed": false,
    "pycharm": {
     "name": "#%%\n"
    }
   }
  },
  {
   "cell_type": "code",
   "execution_count": 43,
   "outputs": [
    {
     "name": "stdout",
     "output_type": "stream",
     "text": [
      "(700, 420)\n",
      "(620, 330)\n",
      "(480, 330)\n",
      "(380, 330)\n"
     ]
    }
   ],
   "source": [
    "for index, row in heaters.iterrows():\n",
    "    print((row['Tin'], row['Tout']))"
   ],
   "metadata": {
    "collapsed": false,
    "pycharm": {
     "name": "#%%\n"
    }
   }
  },
  {
   "cell_type": "code",
   "execution_count": 44,
   "outputs": [],
   "source": [
    "def generate_table(heaters, coolers, HU, CU, HRAT=10):\n",
    "    hlines = set()\n",
    "    clines = set()\n",
    "    for index, row in heaters.iterrows():\n",
    "        Thot = row['Tin']\n",
    "        hlines.add(Thot)\n",
    "\n",
    "        clines.add(Thot-HRAT)\n",
    "        Thot = row['Tout']\n",
    "        hlines.add(Thot)\n",
    "        clines.add(Thot-HRAT)\n",
    "\n",
    "    for index, row in coolers.iterrows():\n",
    "        Tcold = row['Tin']\n",
    "        clines.add(Tcold)\n",
    "        hlines.add(Tcold+HRAT)\n",
    "\n",
    "        Tcold = row['Tout']\n",
    "        clines.add(Tcold)\n",
    "        hlines.add(Tcold+HRAT)\n",
    "\n",
    "    max_ht = max(hlines)\n",
    "    min_ct = min(clines)\n",
    "\n",
    "    for index, row in HU.iterrows():\n",
    "        if row['TEMP'] < max_ht:\n",
    "            Thot = row['TEMP']\n",
    "            hlines.add(Thot)\n",
    "            clines.add(Thot-HRAT)\n",
    "\n",
    "    for index, row in CU.iterrows():\n",
    "        if row['TEMP'] > min_ct:\n",
    "            Tcold = row['TEMP']\n",
    "            clines.add(Tcold)\n",
    "            hlines.add(Tcold+HRAT)\n",
    "\n",
    "    hlines = sorted(hlines)\n",
    "    clines = sorted(clines)\n",
    "    interval = np.zeros((len(hlines), 2))\n",
    "    for i in range(len(hlines)):\n",
    "        assert(hlines[i] == clines[i] + HRAT)\n",
    "        interval[i][0] = hlines[i]\n",
    "        interval[i][1] = clines[i]\n",
    "    return interval"
   ],
   "metadata": {
    "collapsed": false,
    "pycharm": {
     "name": "#%%\n"
    }
   }
  },
  {
   "cell_type": "code",
   "execution_count": 45,
   "outputs": [
    {
     "data": {
      "text/plain": "array([[310., 300.],\n       [330., 320.],\n       [380., 370.],\n       [385., 375.],\n       [410., 400.],\n       [420., 410.],\n       [480., 470.],\n       [510., 500.],\n       [620., 610.],\n       [660., 650.],\n       [700., 690.]])"
     },
     "execution_count": 45,
     "metadata": {},
     "output_type": "execute_result"
    }
   ],
   "source": [
    "interval_table = generate_table(heaters, coolers, HU, CU, HRAT=10)\n",
    "interval_table"
   ],
   "metadata": {
    "collapsed": false,
    "pycharm": {
     "name": "#%%\n"
    }
   }
  },
  {
   "cell_type": "code",
   "execution_count": 46,
   "outputs": [],
   "source": [
    "def fill_table(interval_table, heaters, coolers):\n",
    "    heat_tab = np.zeros(((len(interval_table)-1), len(heaters)))\n",
    "    for index, row in heaters.iterrows():\n",
    "        Tout = row['Tout']\n",
    "        Tin = row['Tin']\n",
    "        Tlo = Tout\n",
    "        Tup = Tin\n",
    "        for i in range(1, len(interval_table[1:])+1):\n",
    "            value = 0\n",
    "            int_up = interval_table[i][0]\n",
    "            int_lo = interval_table[i-1][0]\n",
    "            if Tlo > int_up:\n",
    "                value = 0\n",
    "            elif Tup < int_lo:\n",
    "                value = 0\n",
    "            else:\n",
    "                # upper = min(Tup, int_up)\n",
    "                # lower = max(Tlo, int_lo)\n",
    "                # value = (upper - lower) * row['Fcp']\n",
    "                value = (int_up - int_lo) * row['Fcp']\n",
    "            heat_tab[i-1][index] = value\n",
    "\n",
    "    cool_tab = np.zeros(((len(interval_table)-1), len(coolers)))\n",
    "    for index, row in coolers.iterrows():\n",
    "        Tout = row['Tout']\n",
    "        Tin = row['Tin']\n",
    "        Tlo = Tin\n",
    "        Tup = Tout\n",
    "        for i in range(1, len(interval_table[1:])+1):\n",
    "            value = 0\n",
    "            int_up = interval_table[i][1]\n",
    "            int_lo = interval_table[i-1][1]\n",
    "            if Tup < int_lo:\n",
    "                value = 0\n",
    "            elif Tlo > int_up:\n",
    "                value = 0\n",
    "            else:\n",
    "                upper = min(Tup, int_up)\n",
    "                lower = max(Tlo, int_lo)\n",
    "                value = (upper - lower) * row['Fcp']\n",
    "            cool_tab[i-1][index] = value\n",
    "\n",
    "    return heat_tab, cool_tab\n"
   ],
   "metadata": {
    "collapsed": false,
    "pycharm": {
     "name": "#%%\n"
    }
   }
  },
  {
   "cell_type": "code",
   "execution_count": 47,
   "outputs": [],
   "source": [
    "heat_tab, cool_tab = fill_table(interval_table, heaters, coolers)"
   ],
   "metadata": {
    "collapsed": false,
    "pycharm": {
     "name": "#%%\n"
    }
   }
  },
  {
   "cell_type": "code",
   "execution_count": 48,
   "outputs": [
    {
     "data": {
      "text/plain": "array([[   0.,  800., 1400., 1880.],\n       [   0., 2000., 3500., 4700.],\n       [   0.,  200.,  350.,  470.],\n       [   0., 1000., 1750.,    0.],\n       [ 200.,  400.,  700.,    0.],\n       [1200., 2400., 4200.,    0.],\n       [ 600., 1200., 2100.,    0.],\n       [2200., 4400.,    0.,    0.],\n       [ 800., 1600.,    0.,    0.],\n       [ 800.,    0.,    0.,    0.]])"
     },
     "execution_count": 48,
     "metadata": {},
     "output_type": "execute_result"
    }
   ],
   "source": [
    "heat_tab"
   ],
   "metadata": {
    "collapsed": false,
    "pycharm": {
     "name": "#%%\n"
    }
   }
  },
  {
   "cell_type": "code",
   "execution_count": 49,
   "outputs": [
    {
     "data": {
      "text/plain": "array([[ 1000.,     0.],\n       [ 2500.,     0.],\n       [  250.,     0.],\n       [ 1250., 18000.],\n       [  500.,     0.],\n       [ 3000.,     0.],\n       [ 1500.,     0.],\n       [ 5500.,     0.],\n       [ 2000.,     0.],\n       [    0.,     0.]])"
     },
     "execution_count": 49,
     "metadata": {},
     "output_type": "execute_result"
    }
   ],
   "source": [
    "cool_tab"
   ],
   "metadata": {
    "collapsed": false,
    "pycharm": {
     "name": "#%%\n"
    }
   }
  },
  {
   "cell_type": "code",
   "execution_count": 49,
   "outputs": [],
   "source": [],
   "metadata": {
    "collapsed": false,
    "pycharm": {
     "name": "#%%\n"
    }
   }
  },
  {
   "cell_type": "code",
   "execution_count": 49,
   "outputs": [],
   "source": [],
   "metadata": {
    "collapsed": false,
    "pycharm": {
     "name": "#%%\n"
    }
   }
  },
  {
   "cell_type": "markdown",
   "source": [],
   "metadata": {
    "collapsed": false,
    "pycharm": {
     "name": "#%% md\n"
    }
   }
  }
 ],
 "metadata": {
  "kernelspec": {
   "display_name": "Python 3",
   "language": "python",
   "name": "python3"
  },
  "language_info": {
   "codemirror_mode": {
    "name": "ipython",
    "version": 2
   },
   "file_extension": ".py",
   "mimetype": "text/x-python",
   "name": "python",
   "nbconvert_exporter": "python",
   "pygments_lexer": "ipython2",
   "version": "2.7.6"
  }
 },
 "nbformat": 4,
 "nbformat_minor": 0
}