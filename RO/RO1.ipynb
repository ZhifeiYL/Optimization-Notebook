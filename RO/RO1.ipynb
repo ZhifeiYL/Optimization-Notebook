{
 "cells": [
  {
   "cell_type": "markdown",
   "source": [
    "# A paper study(Motivation example 1-LP)\n",
    "Li, Z., Ding, R., & Floudas, C. A. (2011). A comparative theoretical and computational study on robust counterpart optimization: I. Robust linear optimization and robust mixed integer linear optimization. Industrial &amp; Engineering Chemistry Research, 50(18), 10567–10603. https://doi.org/10.1021/ie200150p\n"
   ],
   "metadata": {
    "collapsed": false,
    "pycharm": {
     "name": "#%% md\n"
    }
   }
  },
  {
   "cell_type": "markdown",
   "source": [
    "## A generic formulation:\n",
    "\n",
    "\\begin{align*}\n",
    "    \\textbf{max} & \\sum_{j} c_{j}x_{j} \\\\\n",
    "    s.t. & \\sum_{j} a_{i,j} x_{j} \\le b_{i} \\quad \\forall i \\in I\\\\\n",
    "    & x_j \\ge 0 \\\\\n",
    "\\end{align*}\n"
   ],
   "metadata": {
    "collapsed": false,
    "pycharm": {
     "name": "#%% md\n"
    }
   }
  },
  {
   "cell_type": "markdown",
   "source": [
    "## Motivating example 1\n",
    "\n",
    "\\begin{align*}\n",
    "    \\textbf{max} & 8x_1 + 12x_2 \\\\\n",
    "    s.t. & \\tilde {a}_{11} x_1 + \\tilde {a}_{12} x_2 \\le 140 \\\\\n",
    "    & \\tilde {a}_{21} x_1 + \\tilde {a}_{22} x_2 \\le 72 \\\\\n",
    "    & x_1, x_2 \\ge 0 \\\\\n",
    "\\end{align*}\n",
    "\n",
    "Where\n",
    "\n",
    "\\begin{align*}\n",
    "    &\\tilde{a}_{11} = 10 + \\xi_{11} , \\quad &&\\tilde{a}_{12} = 20 + 2\\xi_{12} \\\\\n",
    "    &\\tilde{a}_{11} = 6 + 0.6\\xi_{21} , \\quad &&\\tilde{a}_{22} = 8 + 0.8\\xi_{22} \\\\\n",
    "\\end{align*}\n",
    "\n",
    "for independent random varibales $\\xi_{11}$, $\\xi_{12}$, $\\xi_{21}$, $\\xi_{22}$ in [-1, 1\\] (10\\% perturbation)."
   ],
   "metadata": {
    "collapsed": false,
    "pycharm": {
     "name": "#%% md\n"
    }
   }
  },
  {
   "cell_type": "code",
   "execution_count": 1,
   "outputs": [],
   "source": [
    "from pyomo.environ import *\n",
    "import matplotlib.pyplot as plt\n",
    "import numpy as np\n",
    "from scipy.optimize import fsolve"
   ],
   "metadata": {
    "collapsed": false,
    "pycharm": {
     "name": "#%%\n"
    }
   }
  },
  {
   "cell_type": "code",
   "execution_count": 2,
   "outputs": [
    {
     "name": "stdout",
     "output_type": "stream",
     "text": [
      "Restricted license - for non-production use only - expires 2024-10-28\n"
     ]
    }
   ],
   "source": [
    "# Implementation of the deterministic form without uncertainty\n",
    "\n",
    "m1 = ConcreteModel()\n",
    "m1.i = Set(initialize=[1,2], doc='Constraint index')\n",
    "m1.j = Set(initialize=[1,2], doc='Variable index')\n",
    "m1.a = Param(m1.i, m1.j, initialize={(1,1): 10, (1,2):20, (2,1):6, (2,2):8}, doc='Variable coef')\n",
    "m1.b = Param(m1.i, initialize={1: 140, 2: 72}, doc='Variable coef')\n",
    "m1.c = Param(m1.j, initialize={1: 8, 2: 12}, doc='Objective coef')\n",
    "\n",
    "m1.x = Var(m1.j, domain=NonNegativeReals)\n",
    "\n",
    "def c_rule(model, i):\n",
    "    return sum(model.a[i,j] * model.x[j] for j in model.j) <= model.b[i]\n",
    "\n",
    "m1.constraints = Constraint(m1.i, rule=c_rule)\n",
    "\n",
    "\n",
    "m1.obj = Objective(expr = sum(m1.c[j] * m1.x[j] for j in m1.j), sense=maximize)\n",
    "\n",
    "opt1 = SolverFactory(\"gurobi_persistent\")\n",
    "opt1.set_instance(m1)\n",
    "res1 = opt1.solve()"
   ],
   "metadata": {
    "collapsed": false,
    "pycharm": {
     "name": "#%%\n"
    }
   }
  },
  {
   "cell_type": "code",
   "execution_count": 3,
   "outputs": [
    {
     "name": "stdout",
     "output_type": "stream",
     "text": [
      "constraints : Size=2, Index=i, Active=True\n",
      "    Key : Lower : Body              : Upper : Active\n",
      "      1 :  -Inf : 10*x[1] + 20*x[2] : 140.0 :   True\n",
      "      2 :  -Inf :   6*x[1] + 8*x[2] :  72.0 :   True\n"
     ]
    }
   ],
   "source": [
    "m1.constraints.pprint()"
   ],
   "metadata": {
    "collapsed": false,
    "pycharm": {
     "name": "#%%\n"
    }
   }
  },
  {
   "cell_type": "code",
   "execution_count": 4,
   "outputs": [
    {
     "data": {
      "text/plain": "100.0"
     },
     "execution_count": 4,
     "metadata": {},
     "output_type": "execute_result"
    },
    {
     "data": {
      "text/plain": "<Figure size 640x480 with 1 Axes>",
      "image/png": "[encoded data removed]"
     },
     "metadata": {},
     "output_type": "display_data"
    }
   ],
   "source": [
    "x1opt = value(m1.x[1])\n",
    "x2opt = value(m1.x[2])\n",
    "\n",
    "## Drawing the boundary\n",
    "Xs = np.linspace(0, 15, 200)\n",
    "\n",
    "# Calculate the values from both constraints\n",
    "y1 = [(140-10*xs)/20 for xs in Xs]\n",
    "y2 = [(72-6*xs)/8 for xs in Xs]\n",
    "\n",
    "# Choose the minimum value for each xs\n",
    "ymins = [min(y1_val, y2_val) for y1_val, y2_val in zip(y1, y2)]\n",
    "\n",
    "plt.plot(Xs, ymins, label=\"Feasibility frontier\")\n",
    "plt.scatter(x1opt, x2opt, label=\"optimum\")\n",
    "plt.legend()\n",
    "plt.ylim(0,10)\n",
    "plt.xlim(0,12)\n",
    "value(m1.obj)"
   ],
   "metadata": {
    "collapsed": false,
    "pycharm": {
     "name": "#%%\n"
    }
   }
  },
  {
   "cell_type": "markdown",
   "source": [
    "## A generic robust version with uncertainty in $a_{ij}$\n",
    "\n",
    "Notation:\n",
    "\n",
    "\\begin{align*}\n",
    "    &\\tilde {a}_{ij} = a_{i,j} + \\xi_{i,j} \\hat a_{i,j} \\quad \\forall j \\in J \\\\\n",
    "    &\\tilde {b}_{i} = b_i + \\xi_{i,0} \\hat b_{i}\n",
    "\\end{align*}\n",
    "\n",
    "For a generic LP with no objective uncertainty\n",
    "\n",
    "\\begin{align*}\n",
    "    \\textbf{max} & \\sum_{j} c_{j}x_{j} \\\\\n",
    "    s.t. & \\sum_{j} a_{i,j} x_{j} + \\underset{{\\xi \\in U}}{\\textbf{max}}\\{ -\\xi_{i,0} \\hat{b_i} + \\sum_{j \\in J} \\xi_{i,j} \\hat a_{i,j} x_{j} \\}  \\le b_{i} \\quad \\forall i \\in I\\\\\n",
    "    & x_j \\ge 0 \\\\\n",
    "\\end{align*}\n"
   ],
   "metadata": {
    "collapsed": false,
    "pycharm": {
     "name": "#%% md\n"
    }
   }
  },
  {
   "cell_type": "markdown",
   "source": [
    "## Box uncertainty set\n",
    "\n",
    "$$ U_{\\infty} = \\{ |\\xi_j| \\le \\Psi, \\forall j \\in J \\} $$"
   ],
   "metadata": {
    "collapsed": false,
    "pycharm": {
     "name": "#%% md\n"
    }
   }
  },
  {
   "cell_type": "markdown",
   "source": [
    "## A naive way using epsilon constraint\n",
    "\n",
    "\\begin{align*}\n",
    "    \\textbf{max} & \\sum_{j} c_{j}x_{j} \\\\\n",
    "    s.t. & \\sum_{j} a_{i,j} x_{j} + \\epsilon_i \\le b_{i} \\quad \\forall i \\in I\\\\\n",
    "    & -\\xi_{i,0} \\hat{b_i} + \\sum_{j \\in J} \\xi_{i,j} \\hat a_{i,j} x_{j} \\le \\epsilon_i \\quad \\forall i \\in I \\\\\n",
    "    & x_j \\ge 0 \\\\\n",
    "\\end{align*}"
   ],
   "metadata": {
    "collapsed": false,
    "pycharm": {
     "name": "#%% md\n"
    }
   }
  },
  {
   "cell_type": "code",
   "execution_count": 5,
   "outputs": [
    {
     "data": {
      "text/plain": "83.33333333333333"
     },
     "execution_count": 5,
     "metadata": {},
     "output_type": "execute_result"
    }
   ],
   "source": [
    "# An implementation of the LHS box uncertainty\n",
    "# A naive way using epsilon constraint(Not the one derived from the paper)\n",
    "\n",
    "m2 = ConcreteModel()\n",
    "m2.i = Set(initialize=[1,2], doc='Constraint index')\n",
    "m2.j = Set(initialize=[1,2], doc='Variable index')\n",
    "m2.a = Param(m2.i, m2.j, initialize={(1,1): 10, (1,2):20, (2,1):6, (2,2):8}, doc='Variable coef')\n",
    "m2.b = Param(m2.i, initialize={1: 140, 2: 72}, doc='Variable coef')\n",
    "m2.c = Param(m2.j, initialize={1: 8, 2: 12}, doc='Objective coef')\n",
    "\n",
    "m2.xi = Param(m2.i, m2.j, initialize=1, within=(0,1), doc='random variables bounded from -1 to 1')\n",
    "m2.ahat = Param(m2.i, m2.j, initialize={(1,1): 1, (1,2):2, (2,1):0.6, (2,2):0.8}, doc='maximum perturbation for a')\n",
    "\n",
    "m2.x = Var(m2.j, domain=NonNegativeReals)\n",
    "\n",
    "m2.eps = Var(m2.i, domain=Reals, doc='auxilary variables for the nested max')\n",
    "\n",
    "def c_rule(model, i):\n",
    "    return sum(model.a[i,j] * model.x[j] + model.eps[i] for j in model.j) <= model.b[i]\n",
    "m2.constraints = Constraint(m2.i, rule=c_rule)\n",
    "\n",
    "def aux_rule(model, i):\n",
    "    return sum(model.xi[i,j] * model.ahat[i,j] * model.x[j] for j in model.j) <= model.eps[i]\n",
    "m2.aux_constraints = Constraint(m2.i, rule=aux_rule)\n",
    "\n",
    "m2.obj = Objective(expr = sum(m2.c[j] * m2.x[j] for j in m2.j), sense=maximize)\n",
    "\n",
    "opt2 = SolverFactory(\"gurobi_persistent\")\n",
    "opt2.set_instance(m2)\n",
    "res2 = opt2.solve()\n",
    "value(m2.obj)"
   ],
   "metadata": {
    "collapsed": false,
    "pycharm": {
     "name": "#%%\n"
    }
   }
  },
  {
   "cell_type": "code",
   "execution_count": 6,
   "outputs": [
    {
     "data": {
      "text/plain": "83.33333333333333"
     },
     "execution_count": 6,
     "metadata": {},
     "output_type": "execute_result"
    },
    {
     "data": {
      "text/plain": "<Figure size 640x480 with 1 Axes>",
      "image/png": "[encoded data removed]"
     },
     "metadata": {},
     "output_type": "display_data"
    }
   ],
   "source": [
    "x1opt = value(m2.x[1])\n",
    "x2opt = value(m2.x[2])\n",
    "\n",
    "## Drawing the boundary\n",
    "Xs = np.linspace(0, 15, 200)\n",
    "\n",
    "# Calculate the values from both constraints\n",
    "y1ref = [(140 - 10*xs) / 20 for xs in Xs]\n",
    "y2ref = [(72 - 6*xs) / 8 for xs in Xs]\n",
    "\n",
    "# Choose the minimum value for each xs\n",
    "ymins_ref = [min(y1_val, y2_val) for y1_val, y2_val in zip(y1ref, y2ref)]\n",
    "\n",
    "plt.plot(Xs, ymins_ref, label=\"Feasibility frontier(ref)\")\n",
    "plt.scatter(x1opt, x2opt, label=\"optimum\")\n",
    "plt.legend()\n",
    "plt.ylim(0,10)\n",
    "plt.xlim(0,12)\n",
    "value(m2.obj)"
   ],
   "metadata": {
    "collapsed": false,
    "pycharm": {
     "name": "#%%\n"
    }
   }
  },
  {
   "cell_type": "markdown",
   "source": [
    "## Using the derived RO counterpart (Eq 4.2)\n",
    "\n",
    "\\begin{align*}\n",
    "    \\textbf{max} & \\sum_{j} c_{j}x_{j} \\\\\n",
    "    s.t. & \\sum_{j} a_{i,j} x_{j} + [ \\Psi \\sum_{j \\in J} \\hat a_{i,j} |x_j| ] \\le b_{i} \\quad \\forall i \\in I\\\\\n",
    "    & x_j \\ge 0 \\\\\n",
    "\\end{align*}\n",
    "\n"
   ],
   "metadata": {
    "collapsed": false,
    "pycharm": {
     "name": "#%% md\n"
    }
   }
  },
  {
   "cell_type": "code",
   "execution_count": 7,
   "outputs": [
    {
     "data": {
      "text/plain": "83.33333333333334"
     },
     "execution_count": 7,
     "metadata": {},
     "output_type": "execute_result"
    }
   ],
   "source": [
    "# An implementation of the LHS box uncertainty using Eq 4.2\n",
    "\n",
    "m3 = ConcreteModel()\n",
    "m3.i = Set(initialize=[1,2], doc='Constraint index')\n",
    "m3.j = Set(initialize=[1,2], doc='Variable index')\n",
    "m3.a = Param(m3.i, m3.j, initialize={(1,1): 10, (1,2):20, (2,1):6, (2,2):8}, doc='Variable coef')\n",
    "m3.b = Param(m3.i, initialize={1: 140, 2: 72}, doc='Variable coef')\n",
    "m3.c = Param(m3.j, initialize={1: 8, 2: 12}, doc='Objective coef')\n",
    "\n",
    "m3.ahat = Param(m3.i, m3.j, initialize={(1,1): 1, (1,2):2, (2,1):0.6, (2,2):0.8}, doc='maximum perturbation for a')\n",
    "m3.Psi = Param(initialize=1)\n",
    "\n",
    "m3.x = Var(m3.j, domain=NonNegativeReals)\n",
    "\n",
    "def c_rule(model, i):\n",
    "    return sum(model.a[i,j] * model.x[j] + (model.Psi * sum(model.ahat[i,j] * model.x[j] for j in model.j)) for j in model.j)<= model.b[i]\n",
    "m3.constraints = Constraint(m3.i, rule=c_rule)\n",
    "\n",
    "m3.obj = Objective(expr = sum(m3.c[j] * m3.x[j] for j in m3.j), sense=maximize)\n",
    "\n",
    "opt3 = SolverFactory(\"gurobi_persistent\")\n",
    "opt3.set_instance(m3)\n",
    "res3 = opt3.solve()\n",
    "value(m3.obj)"
   ],
   "metadata": {
    "collapsed": false,
    "pycharm": {
     "name": "#%%\n"
    }
   }
  },
  {
   "cell_type": "markdown",
   "source": [
    "To draw the boundary, consider:\n",
    "\n",
    "\\begin{align*}\n",
    "    \\textbf{max} & 8x_1 + 12x_2 \\\\\n",
    "    s.t. & 10 x_1 + 20 x_2 + \\Psi (x_1 + 2x_2) \\le 140 \\\\\n",
    "    & 6 x_1 + 8 x_2 + \\Psi (0.6x_1 + 0.8x_2) \\le 72 \\\\\n",
    "    & x_1, x_2 \\ge 0 \\\\\n",
    "\\end{align*}\n",
    "\n",
    "For generality, use scipy to solve at each x.\n",
    "\n"
   ],
   "metadata": {
    "collapsed": false,
    "pycharm": {
     "name": "#%% md\n"
    }
   }
  },
  {
   "cell_type": "code",
   "execution_count": 8,
   "outputs": [
    {
     "data": {
      "text/plain": "83.33333333333334"
     },
     "execution_count": 8,
     "metadata": {},
     "output_type": "execute_result"
    },
    {
     "data": {
      "text/plain": "<Figure size 640x480 with 1 Axes>",
      "image/png": "[encoded data removed]"
     },
     "metadata": {},
     "output_type": "display_data"
    }
   ],
   "source": [
    "x1opt = value(m3.x[1])\n",
    "x2opt = value(m3.x[2])\n",
    "\n",
    "Psi = 1\n",
    "Xs = np.linspace(0, 15, 200)\n",
    "\n",
    "# Define the constraints' functions\n",
    "def f_c1(x2, x1):\n",
    "    return 10*x1 + 20*x2 + Psi * (x1 + 2*x2) - 140\n",
    "\n",
    "def f_c2(x2, x1):\n",
    "    return 6*x1 + 8*x2 + Psi * (0.6*x1 + 0.8*x2) - 72\n",
    "\n",
    "y1 = [fsolve(f_c1, 0, args=(x,))[0] for x in Xs]\n",
    "y2 = [fsolve(f_c2, 0, args=(x,))[0] for x in Xs]\n",
    "\n",
    "# Calculate the values from both constraints\n",
    "y1ref = [(140 - 10*xs) / 20 for xs in Xs]\n",
    "y2ref = [(72 - 6*xs) / 8 for xs in Xs]\n",
    "#\n",
    "# Choose the minimum value for each xs\n",
    "ymins_ref = [min(y1_val, y2_val) for y1_val, y2_val in zip(y1ref, y2ref)]\n",
    "ymins = [min(y1_val, y2_val) for y1_val, y2_val in zip(y1, y2)]\n",
    "\n",
    "plt.plot(Xs, ymins, label=\"Feasibility frontier\")\n",
    "plt.plot(Xs, ymins_ref, label=\"Feasibility frontier(ref)\")\n",
    "plt.scatter(x1opt, x2opt, label=\"optimum\")\n",
    "plt.legend()\n",
    "plt.ylim(0,10)\n",
    "plt.xlim(0,12)\n",
    "value(m3.obj)"
   ],
   "metadata": {
    "collapsed": false,
    "pycharm": {
     "name": "#%%\n"
    }
   }
  },
  {
   "cell_type": "code",
   "execution_count": null,
   "outputs": [],
   "source": [],
   "metadata": {
    "collapsed": false,
    "pycharm": {
     "name": "#%%\n"
    }
   }
  }
 ],
 "metadata": {
  "kernelspec": {
   "display_name": "Python 3",
   "language": "python",
   "name": "python3"
  },
  "language_info": {
   "codemirror_mode": {
    "name": "ipython",
    "version": 2
   },
   "file_extension": ".py",
   "mimetype": "text/x-python",
   "name": "python",
   "nbconvert_exporter": "python",
   "pygments_lexer": "ipython2",
   "version": "2.7.6"
  }
 },
 "nbformat": 4,
 "nbformat_minor": 0
}