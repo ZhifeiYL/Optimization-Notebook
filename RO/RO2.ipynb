{
 "cells": [
  {
   "cell_type": "markdown",
   "source": [
    "# A paper study(Motivation example 2-MILP)\n",
    "Li, Z., Ding, R., & Floudas, C. A. (2011). A comparative theoretical and computational study on robust counterpart optimization: I. Robust linear optimization and robust mixed integer linear optimization. Industrial &amp; Engineering Chemistry Research, 50(18), 10567–10603. https://doi.org/10.1021/ie200150p"
   ],
   "metadata": {
    "collapsed": false,
    "pycharm": {
     "name": "#%% md\n"
    }
   }
  },
  {
   "cell_type": "markdown",
   "source": [
    "## A generic formulation:\n",
    "\n",
    "\\begin{align*}\n",
    "    \\textbf{max} & \\sum_{m} c_{m}x_{m} + \\sum_{k} d_k y_k \\\\\n",
    "    s.t. & \\sum_{m} \\tilde a_{im}x_{m} + \\sum_{k} \\tilde b_{ik} y_k \\le \\tilde p_i \\quad \\forall i \\in I\\\\\n",
    "    & x_j \\ge 0 \\\\\n",
    "\\end{align*}"
   ],
   "metadata": {
    "collapsed": false,
    "pycharm": {
     "name": "#%% md\n"
    }
   }
  },
  {
   "cell_type": "markdown",
   "source": [
    "## Motivating example 2\n",
    "\n",
    "\\begin{align*}\n",
    "    \\textbf{max} & 3x_1 + 2x_2 - 10y_1 - 5y_2 \\\\\n",
    "    s.t. & x_1 + x_2 \\le 20 \\\\\n",
    "    & x_1 + 2x_2 \\le 12 \\\\\n",
    "    & a_{31}x_1 + b_{31}y_1 \\le 0 \\\\\n",
    "    & a_{42}x_2 + b_{42}y_2 \\le 0 \\\\\n",
    "    & x_1 - x_2 \\le -4 \\\\\n",
    "    & 0 \\le x_1, x_2 \\le 10, y_1,y_2 \\in \\{0,1\\}\\\\\n",
    "\\end{align*}\n",
    "\n",
    "Where\n",
    "\n",
    "\\begin{align*}\n",
    "    &\\tilde{a}_{31} = 1 + 0.1\\xi_{31} , \\quad &&\\tilde{b}_{31} = -20 + 2\\xi_{33} \\\\\n",
    "    &\\tilde{a}_{42} = 1 + 0.1\\xi_{42} , \\quad &&\\tilde{b}_{42} = -20 + 2\\xi_{44} \\\\\n",
    "\\end{align*}\n",
    "\n",
    "for independent random varibales $\\xi_{11}$, $\\xi_{12}$, $\\xi_{21}$, $\\xi_{22}$ in [-1, 1\\] (10\\% perturbation)."
   ],
   "metadata": {
    "collapsed": false,
    "pycharm": {
     "name": "#%% md\n"
    }
   }
  },
  {
   "cell_type": "markdown",
   "source": [
    "## A determinisitc implementation"
   ],
   "metadata": {
    "collapsed": false,
    "pycharm": {
     "name": "#%% md\n"
    }
   }
  },
  {
   "cell_type": "code",
   "execution_count": 38,
   "outputs": [],
   "source": [
    "import csv\n",
    "\n",
    "from pyomo.environ import *\n",
    "import matplotlib.pyplot as plt\n",
    "import numpy as np\n",
    "from scipy.optimize import fsolve"
   ],
   "metadata": {
    "collapsed": false,
    "pycharm": {
     "name": "#%%\n"
    }
   }
  },
  {
   "cell_type": "code",
   "execution_count": 39,
   "outputs": [
    {
     "data": {
      "text/plain": "{'': ['obj', '1', '2', '3', '4', '5'],\n 'x1': ['3', '1', '1', '1', '0', '1'],\n 'x2': ['2', '1', '2', '0', '1', '-1'],\n 'y1': ['-10', '0', '0', '-20', '0', '0'],\n 'y2': ['-5', '0', '0', '0', '-20', '0'],\n 'p': ['', '20', '12', '0', '0', '-4']}"
     },
     "execution_count": 39,
     "metadata": {},
     "output_type": "execute_result"
    }
   ],
   "source": [
    "data = {}\n",
    "with open('ro2_pars.csv', 'r') as csvfile:\n",
    "    reader = csv.DictReader(csvfile)\n",
    "    for row in reader:\n",
    "        for key, val in row.items():\n",
    "            if key not in data:\n",
    "                data[key] = []\n",
    "            data[key].append(val)\n",
    "data"
   ],
   "metadata": {
    "collapsed": false,
    "pycharm": {
     "name": "#%%\n"
    }
   }
  },
  {
   "cell_type": "code",
   "execution_count": 40,
   "outputs": [],
   "source": [
    "# Extract obj values\n",
    "c_values = {i: float(data[\"x\"+str(i)][0]) for i in range(1, 3)}\n",
    "d_values = {i: float(data[\"y\"+str(i)][0]) for i in range(1, 3)}\n",
    "\n",
    "# Extract coefficient values\n",
    "a_values = {(i, j): float(data[\"x\"+str(j)][i]) for i in range(1, 6) for j in range(1, 3)}\n",
    "b_values = {(i, j): float(data[\"y\"+str(j)][i]) for i in range(1, 6) for j in range(1, 3)}\n",
    "p_values = {i: float(data[\"p\"][i]) for i in range(1, 6)}"
   ],
   "metadata": {
    "collapsed": false,
    "pycharm": {
     "name": "#%%\n"
    }
   }
  },
  {
   "cell_type": "code",
   "execution_count": 40,
   "outputs": [],
   "source": [],
   "metadata": {
    "collapsed": false,
    "pycharm": {
     "name": "#%%\n"
    }
   }
  },
  {
   "cell_type": "code",
   "execution_count": 41,
   "outputs": [
    {
     "name": "stdout",
     "output_type": "stream",
     "text": [
      "x : Size=2, Index=m\n",
      "    Key : Lower : Value : Upper : Fixed : Stale : Domain\n",
      "      1 :     0 :   0.0 :  None : False : False : NonNegativeReals\n",
      "      2 :     0 :   6.0 :  None : False : False : NonNegativeReals\n",
      "y : Size=2, Index=k\n",
      "    Key : Lower : Value : Upper : Fixed : Stale : Domain\n",
      "      1 :     0 :   0.0 :     1 : False : False : Binary\n",
      "      2 :     0 :   1.0 :     1 : False : False : Binary\n",
      "7.0\n"
     ]
    }
   ],
   "source": [
    "# Implementation of the deterministic form without uncertainty\n",
    "\n",
    "m1 = ConcreteModel()\n",
    "m1.i = Set(initialize=range(1,6), doc='Constraint index')\n",
    "m1.m = Set(initialize=[1,2], doc='Variable index(continuous)')\n",
    "m1.k = Set(initialize=[1,2], doc='Variable index(discrete)')\n",
    "\n",
    "m1.a = Param(m1.i, m1.m, initialize=a_values, doc='Variable coef(continuous)')\n",
    "m1.b = Param(m1.i, m1.k, initialize=b_values, doc='Variable coef(discrete)')\n",
    "m1.c = Param(m1.m, initialize=c_values, doc='Objective coef(continuous)')\n",
    "m1.d = Param(m1.k, initialize=d_values, doc='Objective coef(discrete)')\n",
    "m1.p = Param(m1.i, initialize=p_values, doc='Constraint constant')\n",
    "\n",
    "m1.x = Var(m1.m,  domain=NonNegativeReals)\n",
    "m1.y = Var(m1.k,  domain=Binary)\n",
    "\n",
    "def constraints_rule(model, i):\n",
    "    return sum(model.a[i, m] * model.x[m] for m in model.m) + sum(model.b[i, k] * model.y[k] for k in model.k) <= model.p[i]\n",
    "\n",
    "m1.constraints = Constraint(m1.i, rule=constraints_rule)\n",
    "\n",
    "m1.obj = Objective(expr = sum(m1.c[m] * m1.x[m] + m1.d[k] * m1.y[k] for (m, k) in zip(m1.m, m1.k)), sense=maximize)\n",
    "\n",
    "opt1 = SolverFactory(\"gurobi_persistent\")\n",
    "opt1.set_instance(m1)\n",
    "res1 = opt1.solve()\n",
    "m1.x.pprint()\n",
    "m1.y.pprint()\n",
    "print(value(m1.obj))"
   ],
   "metadata": {
    "collapsed": false,
    "pycharm": {
     "name": "#%%\n"
    }
   }
  },
  {
   "cell_type": "code",
   "execution_count": 41,
   "outputs": [],
   "source": [],
   "metadata": {
    "collapsed": false,
    "pycharm": {
     "name": "#%%\n"
    }
   }
  },
  {
   "cell_type": "code",
   "execution_count": null,
   "outputs": [],
   "source": [],
   "metadata": {
    "collapsed": false,
    "pycharm": {
     "name": "#%%\n"
    }
   }
  }
 ],
 "metadata": {
  "kernelspec": {
   "display_name": "Python 3",
   "language": "python",
   "name": "python3"
  },
  "language_info": {
   "codemirror_mode": {
    "name": "ipython",
    "version": 2
   },
   "file_extension": ".py",
   "mimetype": "text/x-python",
   "name": "python",
   "nbconvert_exporter": "python",
   "pygments_lexer": "ipython2",
   "version": "2.7.6"
  }
 },
 "nbformat": 4,
 "nbformat_minor": 0
}