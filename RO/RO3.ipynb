{
 "cells": [
  {
   "cell_type": "markdown",
   "source": [
    "# A paper study\n",
    "\n",
    "Gorissen, B. L., Yanıkoğlu, İ., &amp; den Hertog, D. (2015). A practical guide to robust optimization. Omega, 53, 124–137. https://doi.org/10.1016/j.omega.2014.12.006"
   ],
   "metadata": {
    "collapsed": false,
    "pycharm": {
     "name": "#%% md\n"
    }
   }
  },
  {
   "cell_type": "markdown",
   "source": [
    "## Dealing with equality constraints with uncertain parameters"
   ],
   "metadata": {
    "collapsed": false,
    "pycharm": {
     "name": "#%% md\n"
    }
   }
  },
  {
   "cell_type": "markdown",
   "source": [
    "#### Deterministic\n",
    "\n",
    "\\begin{align*}\n",
    "    \\textbf{max} & x_1^2 - 5x_2 + x_3  \\\\\n",
    "    & x_1 + x_2 + x_3 = 1 \\\\\n",
    "    & x_1 + x_2 + x_3 \\le 5 \\\\\n",
    "    & 0.8 \\le x_1 \\le 1.2 \\\\\n",
    "    & 4 \\le x_2 \\le 6 \\\\\n",
    "    & 0.5 \\le x_3 \\le 1.5 \\\\\n",
    "\\end{align*}"
   ],
   "metadata": {
    "collapsed": false,
    "pycharm": {
     "name": "#%% md\n"
    }
   }
  },
  {
   "cell_type": "markdown",
   "source": [],
   "metadata": {
    "collapsed": false,
    "pycharm": {
     "name": "#%% md\n"
    }
   }
  },
  {
   "cell_type": "markdown",
   "source": [
    "#### Uncertain parameters $\\zeta_1 \\in [0.8, 1.1]$, $\\zeta_3 \\in [0.9, 1.2]$\n",
    "\n",
    "\\begin{align*}\n",
    "    \\textbf{max} & x_1^2 - 5x_2 + x_3  \\\\\n",
    "    & \\zeta_1 x_1 + x_2 + \\zeta_3 x_3 \\le 5 \\\\\n",
    "    & 0.8 \\le x_1 \\le 1.2 \\\\\n",
    "    & 4 \\le x_2 \\le 6 \\\\\n",
    "    & 0.5 \\le x_3 \\le 1.5 \\\\\n",
    "\\end{align*}"
   ],
   "metadata": {
    "collapsed": false,
    "pycharm": {
     "name": "#%% md\n"
    }
   }
  },
  {
   "cell_type": "markdown",
   "source": [
    "\\begin{align*}\n",
    "\\textbf{maximize} & \\quad x_1^2 - 5x_2 + x_3 \\\\\n",
    "\\textbf{subject to} & \\quad 1.1 x_1 + x_2 + 1.2 x_3 \\le 5 \\\\\n",
    "& \\quad 0.8 \\le x_1 \\le 1.2 \\\\\n",
    "& \\quad 4 \\le x_2 \\le 6 \\\\\n",
    "& \\quad 0.5 \\le x_3 \\le 1.5 \\\\\n",
    "\\end{align*}\\]"
   ],
   "metadata": {
    "collapsed": false,
    "pycharm": {
     "name": "#%% md\n"
    }
   }
  },
  {
   "cell_type": "code",
   "execution_count": null,
   "outputs": [],
   "source": [],
   "metadata": {
    "collapsed": false,
    "pycharm": {
     "name": "#%%\n"
    }
   }
  }
 ],
 "metadata": {
  "kernelspec": {
   "display_name": "Python 3",
   "language": "python",
   "name": "python3"
  },
  "language_info": {
   "codemirror_mode": {
    "name": "ipython",
    "version": 2
   },
   "file_extension": ".py",
   "mimetype": "text/x-python",
   "name": "python",
   "nbconvert_exporter": "python",
   "pygments_lexer": "ipython2",
   "version": "2.7.6"
  }
 },
 "nbformat": 4,
 "nbformat_minor": 0
}