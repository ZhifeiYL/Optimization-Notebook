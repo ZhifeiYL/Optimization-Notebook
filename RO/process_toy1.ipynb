{
 "cells": [
  {
   "cell_type": "markdown",
   "source": [
    "## A  Simple Cast Study to Understand about Robust Optimization in Process Optimzation"
   ],
   "metadata": {
    "collapsed": false,
    "pycharm": {
     "name": "#%% md\n"
    }
   }
  },
  {
   "cell_type": "code",
   "execution_count": 271,
   "outputs": [],
   "source": [
    "from pyomo.environ import *\n",
    "import os"
   ],
   "metadata": {
    "collapsed": false,
    "pycharm": {
     "name": "#%%\n"
    }
   }
  },
  {
   "cell_type": "markdown",
   "source": [
    "### Problem Description\n",
    "\n",
    "Imagine a process with two reactions when written in Mass Balance:\n",
    "\n",
    "$$ A \\longrightarrow 0.4 C + 0.6 D \\quad \\quad \\text{RXN1}$$\n",
    "$$ B \\longrightarrow 0.7 C + 0.3 D \\quad \\quad \\text{RXN2}$$\n",
    "\n",
    "The two reactions happen together in the reactor, and the product stream goes to a separator that performs a complete binary separation."
   ],
   "metadata": {
    "collapsed": false,
    "pycharm": {
     "name": "#%% md\n"
    }
   }
  },
  {
   "cell_type": "markdown",
   "source": [
    "![Optional Alt Text](illustrations/toy.png)"
   ],
   "metadata": {
    "collapsed": false,
    "pycharm": {
     "name": "#%% md\n"
    }
   }
  },
  {
   "cell_type": "markdown",
   "source": [
    "Nomenclature\n",
    "\n",
    "Sets\n",
    "\n",
    "\\begin{align*}\n",
    "    & I && \\quad \\text{Set of Streams: \\{1,2,3,4,5,6\\}} \\\\\n",
    "    & J && \\quad \\text{Set of Species: \\{A,B,C,D\\}} \\\\\n",
    "    & T && \\quad \\text{Set of Technologies: \\{R1, R2, SEP1\\}} \\\\\n",
    "\\end{align*}\n",
    "\n",
    "Parameters\n",
    "\n",
    "\\begin{align*}\n",
    "    & Q^{Load}_{j} && \\quad \\text{Mass flow rate of stream i for species j} \\\\\n",
    "    & \\theta_{t,j} \\quad  t \\in \\{R1, R2\\} && \\quad \\text{Conversion of technology t for species j} \\\\\n",
    "    & \\alpha_{t} && \\quad \\text{Cost coefficient of technology t} \\\\\n",
    "    & \\beta_{j} && \\quad \\text{Price of species j}\n",
    "\\end{align*}\n",
    "\n",
    "Variables\n",
    "\n",
    "\\begin{align*}\n",
    "    & F_{i,j} \\quad \\text{Mass flow rate of stream i for species j} \\\\\n",
    "    & W_{t} \\quad \\text{Capacity of technology t} \\\\\n",
    "    & A_{t} \\quad \\text{Cost of technology t} \\\\\n",
    "    & B_{j} \\quad \\text{Cost of species, Negative for products}\n",
    "\\end{align*}\n"
   ],
   "metadata": {
    "collapsed": false,
    "pycharm": {
     "name": "#%% md\n"
    }
   }
  },
  {
   "cell_type": "markdown",
   "source": [
    "### Feed & Demand Constraints\n",
    "\n",
    "First we begin with total supply of each feedstock we have.\n",
    "\n",
    "\\begin{align*}\n",
    "    & F_{1, A} \\le Q^{Sup}_{A} \\\\\n",
    "    & F_{2, B} \\le Q^{Sup}_{B} \\\\\n",
    "\\end{align*}\n",
    "\n",
    "\\begin{align*}\n",
    "    & F_{5, C} \\ge Q^{Dem}_{C} \\\\\n",
    "    & F_{6, D} \\ge Q^{Dem}_{D} \\\\\n",
    "\\end{align*}\n",
    "\n",
    "We also requires the feed to be pure streams:\n",
    "\n",
    "\\begin{align*}\n",
    "    & F_{1, j} = 0 \\text{   if } j \\neq A \\\\\n",
    "    & F_{2, j} = 0 \\text{   if } j \\neq B \\\\\n",
    "\\end{align*}\n"
   ],
   "metadata": {
    "collapsed": false,
    "pycharm": {
     "name": "#%% md\n"
    }
   }
  },
  {
   "cell_type": "markdown",
   "source": [
    "### Mass Balances\n",
    "\n",
    "For the reactions, we have\n",
    "\n",
    "\\begin{align*}\n",
    "    & F_{3, j} - F_{1,j} = \\theta_{R1,j} F_{1,j} \\\\\n",
    "\\end{align*}\n",
    "\n",
    "\\begin{align*}\n",
    "    & F_{4, j} - F_{2,j} = \\theta_{R2,j} F_{2,j} \\\\\n",
    "\\end{align*}\n",
    "\n",
    "For the Separation:\n",
    "\n",
    "\\begin{align*}\n",
    "    & F_{3, j} + F_{4,j} = F_{5,j} \\text{   if } j \\neq D \\\\\n",
    "\\end{align*}\n",
    "\n",
    "\\begin{align*}\n",
    "    & F_{3, j} + F_{4,j} = F_{6,j} \\text{   if } j = D \\\\\n",
    "\\end{align*}\n",
    "\n",
    "\\begin{align*}\n",
    "    & F_{3, j} + F_{4,j} = F_{5,j} + F_{6,j}  \\\\\n",
    "\\end{align*}\n",
    "\n",
    "This completes our mass balance."
   ],
   "metadata": {
    "collapsed": false,
    "pycharm": {
     "name": "#%% md\n"
    }
   }
  },
  {
   "cell_type": "markdown",
   "source": [
    "### Design Feasibility\n",
    "\n",
    "For the capacities:\n",
    "\n",
    "\\begin{align*}\n",
    "    & F_{1, A} \\le W_{R1} \\\\\n",
    "    & F_{2, B} \\le W_{R2} \\\\\n",
    "    & \\sum_{j} (F_{3, j} + F_{4, j}) \\le W_{R3} \\\\\n",
    "\\end{align*}\n",
    "\n",
    "This completes the design feasibility  constraints if we only consider the capacity."
   ],
   "metadata": {
    "collapsed": false,
    "pycharm": {
     "name": "#%% md\n"
    }
   }
  },
  {
   "cell_type": "markdown",
   "source": [
    "### Economics\n",
    "\n",
    "In this case, we assume a linear relationship between both capital and operating cost associated with technologies.\n",
    "\n",
    "\\begin{align*}\n",
    "    & A_{t} = \\alpha_{t} W_{t}  \\\\\n",
    "\\end{align*}\n",
    "\n",
    "As for the material cost/sales:\n",
    "\n",
    "\\begin{align*}\n",
    "    & B_{A} = \\beta_{A} F_{1,A}  \\\\\n",
    "    & B_{B} = \\beta_{B} F_{2,B}  \\\\\n",
    "    & B_{C} = \\beta_{C} F_{5,C}  \\\\\n",
    "    & B_{D} = \\beta_{D} F_{6,D}  \\\\\n",
    "\\end{align*}\n"
   ],
   "metadata": {
    "collapsed": false,
    "pycharm": {
     "name": "#%% md\n"
    }
   }
  },
  {
   "cell_type": "markdown",
   "source": [
    "### Deterministic Model\n",
    "\n",
    "\n",
    "$$  Min_{\\{F_{1,A}, F_{2,B}\\}} \\sum_{t \\in T} W_{t} + \\sum_{j \\in J} P_{j}  $$\n",
    "\n",
    "subject to\n",
    "\n",
    "\\begin{align*}\n",
    "    & F_{1, A} \\le Q^{Load}_{A} \\\\\n",
    "    & F_{2, B} \\le Q^{Load}_{B} \\\\\n",
    "    & F_{5, C} \\ge Q^{Dem}_{C} \\\\\n",
    "    & F_{6, D} \\ge Q^{Dem}_{D} \\\\\n",
    "    & F_{1, j} = 0 \\text{   if } j \\neq A \\\\\n",
    "    & F_{2, j} = 0 \\text{   if } j \\neq B \\\\\n",
    "    & F_{3, j} - F_{1,j} = \\theta_{R1,j} F_{1,j} \\\\\n",
    "    & F_{4, j} - F_{2,j} = \\theta_{R2,j} F_{2,j} \\\\\n",
    "    & F_{3, j} + F_{4,j} = F_{5,j} \\text{   if } j \\neq D \\\\\n",
    "    & F_{3, j} + F_{4,j} = F_{6,j} \\text{   if } j = D \\\\\n",
    "    & F_{3, j} + F_{4,j} = F_{5,j} + F_{6,j}  \\\\\n",
    "    & F_{1, A} \\le W_{R1} \\\\\n",
    "    & F_{2, B} \\le W_{R2} \\\\\n",
    "    & \\sum_{j} (F_{3, j} + F_{4, j}) \\le W_{R3} \\\\\n",
    "    & W_{R1} = \\alpha_{R1} F_{1,A}  \\\\\n",
    "    & W_{R2} = \\alpha_{R2} F_{2,B}  \\\\\n",
    "    & W_{SEP1} = \\alpha_{R3} \\sum_{j}(F_{3,j} + F_{4,j}) \\\\\n",
    "    & P_{A} = \\beta_{A} F_{1,A}  \\\\\n",
    "    & P_{B} = \\beta_{B} F_{2,B}  \\\\\n",
    "    & P_{C} = \\beta_{C} F_{5,C}  \\\\\n",
    "    & P_{D} = \\beta_{D} F_{6,D}  \\\\\n",
    "\\end{align*}\n"
   ],
   "metadata": {
    "collapsed": false,
    "pycharm": {
     "name": "#%% md\n"
    }
   }
  },
  {
   "cell_type": "code",
   "execution_count": 272,
   "outputs": [],
   "source": [
    "def build_DM():\n",
    "    m = ConcreteModel()\n",
    "\n",
    "    m.i = Set(initialize=[1,2,3,4,5,6], doc=\"streams\")\n",
    "    m.j = Set(initialize=[\"A\",\"B\",\"C\",\"D\"])\n",
    "    m.t = Set(initialize=[\"R1\",\"R2\",\"SEP1\"])\n",
    "\n",
    "    m.Qsup = Param(m.j,initialize={\"A\": 100, \"B\": 100})\n",
    "    m.Qdem = Param(m.j,initialize={\"C\": 50, \"D\": 50})\n",
    "    m.theta = Param(m.t,m.j,initialize={(\"R1\",\"A\"): -1, (\"R1\",\"B\"): 0, (\"R1\",\"C\"): 0.4, (\"R1\",\"D\"): 0.6,\n",
    "                                        (\"R2\",\"A\"): 0, (\"R2\",\"B\"): -1, (\"R2\",\"C\"): 0.7, (\"R2\",\"D\"): 0.3,\n",
    "                                        })\n",
    "    m.alpha = Param(m.t,initialize={\"R1\": 1.5, \"R2\": 1, \"SEP1\": 2})\n",
    "    m.beta = Param(m.j,initialize={\"A\": 5, \"B\": 6, \"C\": -7, \"D\": -8})\n",
    "\n",
    "    m.F = Var(m.i, m.j, domain=NonNegativeReals, doc=\"Flow rate of stream i speices j\")\n",
    "    m.W = Var(m.t, domain=NonNegativeReals, doc=\"Technology Capacity\")\n",
    "    m.A = Var(m.t, domain=NonNegativeReals, doc=\"Technology Cost\")\n",
    "    m.B = Var(m.j, domain=Reals, doc=\"Material Cost\")\n",
    "\n",
    "    def _csupply(m, j):\n",
    "        if not j in {\"A\",\"B\"}:\n",
    "            return Constraint.Skip\n",
    "        if j == \"A\":\n",
    "            return m.F[1,j] <= m.Qsup[j]\n",
    "        elif j == \"B\":\n",
    "            return m.F[2,j] <= m.Qsup[j]\n",
    "        raise IndexError\n",
    "    m.csupply = Constraint(m.j, rule=_csupply)\n",
    "\n",
    "    def _cdemand(m, j):\n",
    "        if not j in {\"C\",\"D\"}:\n",
    "            return Constraint.Skip\n",
    "        if j == \"C\":\n",
    "            return m.F[5,j] >= m.Qdem[j]\n",
    "        elif j == \"D\":\n",
    "            return m.F[6,j] >= m.Qdem[j]\n",
    "        raise IndexError\n",
    "    m.cdemand = Constraint(m.j, rule=_cdemand)\n",
    "\n",
    "    def _cfeed(m, i, j):\n",
    "        if not i in {1,2}:\n",
    "            return Constraint.Skip\n",
    "        if not (i,j) in {(1,\"A\"), (2,\"B\")}:\n",
    "            return m.F[i,j] == 0\n",
    "        return Constraint.Skip\n",
    "    m.cfeed = Constraint(m.i, m.j, rule=_cfeed)\n",
    "\n",
    "    def _cR1(m, j):\n",
    "        return m.F[3,j] - m.F[1,j] == m.theta[\"R1\",j] * m.F[1,\"A\"]\n",
    "    m.cR1 = Constraint(m.j, rule=_cR1)\n",
    "\n",
    "    def _cR2(m, j):\n",
    "        return m.F[4,j] - m.F[2,j] == m.theta[\"R2\",j] * m.F[2,\"B\"]\n",
    "    m.cR2 = Constraint(m.j, rule=_cR2)\n",
    "\n",
    "    def _csep(m, j):\n",
    "        if j != \"D\":\n",
    "            return m.F[3,j] + m.F[4,j] == m.F[5,j]\n",
    "        return m.F[3,j] + m.F[4,j] ==  m.F[6,j]\n",
    "    m.csep = Constraint(m.j, rule=_csep)\n",
    "\n",
    "    def _csep2(m, j):\n",
    "        return m.F[3,j] + m.F[4,j] == m.F[5,j] + m.F[6,j]\n",
    "    m.csep2 = Constraint(m.j, rule=_csep2)\n",
    "\n",
    "    def _ccap(m, t):\n",
    "        if t == \"R1\":\n",
    "            return m.W[t] >= m.F[1,\"A\"]\n",
    "        elif t == \"R2\":\n",
    "            return m.W[t] >= m.F[2,\"B\"]\n",
    "        elif t == \"SEP1\":\n",
    "            return m.W[t] >= sum(m.F[3,j] + m.F[4,j] for j in m.j)\n",
    "        raise IndexError\n",
    "    m.ccap = Constraint(m.t, rule=_ccap)\n",
    "\n",
    "    def _techcost(m, t):\n",
    "        return m.alpha[t] * m.W[t] == m.A[t]\n",
    "    m.techcost = Constraint(m.t, rule=_techcost)\n",
    "\n",
    "    def _matcost(m, j):\n",
    "        if j == \"A\":\n",
    "            return m.beta[j] * m.F[1, j] == m.B[j]\n",
    "        elif j == \"B\":\n",
    "            return m.beta[j] * m.F[2, j] == m.B[j]\n",
    "        elif j == \"C\":\n",
    "            return m.beta[j] * m.F[5, j] == m.B[j]\n",
    "        elif j == \"D\":\n",
    "            return m.beta[j] * m.F[6, j] == m.B[j]\n",
    "        raise IndexError\n",
    "    m.matcost = Constraint(m.j, rule=_matcost)\n",
    "\n",
    "    m.obj = Objective(expr=sum(m.A[t] for t in m.t) + sum(m.B[j] for j in m.j),  sense=minimize)\n",
    "\n",
    "    return m\n",
    "\n",
    "m1 = build_DM()"
   ],
   "metadata": {
    "collapsed": false,
    "pycharm": {
     "name": "#%%\n"
    }
   }
  },
  {
   "cell_type": "code",
   "execution_count": 273,
   "outputs": [],
   "source": [
    "def solve_with_gams(m):\n",
    "    opt1 = SolverFactory('gams')\n",
    "    io_options = dict()\n",
    "\n",
    "    io_options['solver'] = \"cplex\"\n",
    "    res1 = opt1.solve(m,\n",
    "        tee=True,\n",
    "        keepfiles=True,\n",
    "        add_options = ['option reslim=1000; option optcr=0.0;  option limrow=5000'],\n",
    "        tmpdir=os.getcwd()+\"/output\",\n",
    "        io_options=io_options)\n",
    "    return res1\n",
    "\n",
    "def solve_with_gurobi(m):\n",
    "    opt1 = SolverFactory(\"gurobi_persistent\")\n",
    "    opt1.set_instance(m)\n",
    "    res1 = opt1.solve()\n",
    "    return res1"
   ],
   "metadata": {
    "collapsed": false,
    "pycharm": {
     "name": "#%%\n"
    }
   }
  },
  {
   "cell_type": "code",
   "execution_count": 274,
   "outputs": [
    {
     "name": "stdout",
     "output_type": "stream",
     "text": [
      "--- Job model.gms Start 12/01/23 21:04:04 43.2.0 859d62d5 WEX-WEI x86 64bit/MS Windows\n",
      "--- Applying:\n",
      "    C:\\GAMS\\43\\gmsprmNT.txt\n",
      "    C:\\Users\\justi\\OneDrive\\Documents\\GAMS\\gamsconfig.yaml\n",
      "--- GAMS Parameters defined\n",
      "    Input D:\\Optimization-Notebook\\RO\\output\\model.gms\n",
      "    Output D:\\Optimization-Notebook\\RO\\output\\output.lst\n",
      "    ScrDir D:\\Optimization-Notebook\\RO\\output\\225a\\\n",
      "    SysDir C:\\GAMS\\43\\\n",
      "    CurDir D:\\Optimization-Notebook\\RO\\output\\\n",
      "    LogOption 3\n",
      "Licensee: Small MUD - 5 User License                     G221121|0002AP-GEN\n",
      "          University of Delaware, Chemical and Biomolecular EngineeriDC3967\n",
      "          C:\\GAMS\\43\\gamslice.txt\n",
      "          License Admin: Marianthi Ierapetritou, mgi@udel.edu              \n",
      "Processor information: 1 socket(s), 10 core(s), and 20 thread(s) available\n",
      "GAMS 43.2.0   Copyright (C) 1987-2023 GAMS Development. All rights reserved\n",
      "--- Starting compilation\n",
      "--- model.gms(260) 2 Mb\n",
      "--- Starting execution: elapsed 0:00:00.007\n",
      "--- model.gms(131) 3 Mb\n",
      "--- Generating LP model GAMS_MODEL\n",
      "--- model.gms(135) 3 Mb\n",
      "---   37 rows  35 columns  91 non-zeroes\n",
      "--- Range statistics (absolute non-zero finite values)\n",
      "--- RHS       [min, max] : [ 5.000E+01, 1.000E+02] - Zero values observed as well\n",
      "--- Bound     [min, max] : [        NA,        NA] - Zero values observed as well\n",
      "--- Matrix    [min, max] : [ 3.000E-01, 8.000E+00]\n",
      "--- Executing CPLEX (Solvelink=5): elapsed 0:00:00.009\n",
      "\n",
      "IBM ILOG CPLEX   43.2.0 859d62d5 May 4, 2023           WEI x86 64bit/MS Window\n",
      "\n",
      "--- GAMS/CPLEX licensed for continuous and discrete problems.\n",
      "--- GMO setup time: 0.00s\n",
      "--- GMO memory 0.51 Mb (peak 0.51 Mb)\n",
      "--- Dictionary memory 0.00 Mb\n",
      "--- Cplex 22.1.1.0 link memory 0.00 Mb (peak 0.00 Mb)\n",
      "--- Starting Cplex\n",
      "\n",
      "Version identifier: 22.1.1.0 | 2022-11-27 | 9160aff4d\n",
      "CPXPARAM_Advance                                 0\n",
      "CPXPARAM_Threads                                 1\n",
      "CPXPARAM_MIP_Display                             4\n",
      "CPXPARAM_MIP_Pool_Capacity                       0\n",
      "CPXPARAM_TimeLimit                               1000\n",
      "CPXPARAM_MIP_Tolerances_AbsMIPGap                0\n",
      "CPXPARAM_MIP_Tolerances_MIPGap                   0\n",
      "Tried aggregator 1 time.\n",
      "LP Presolve eliminated 28 rows and 25 columns.\n",
      "Aggregator did 4 substitutions.\n",
      "Reduced LP has 4 rows, 6 columns, and 14 nonzeros.\n",
      "Presolve time = 0.00 sec. (0.02 ticks)\n",
      "Initializing dual steep norms . . .\n",
      "\n",
      "Iteration log . . .\n",
      "Iteration:     1   Dual infeasibility =             8.000000\n",
      "Iteration:     3   Dual objective     =           114.285714\n",
      "\n",
      "--- LP status (1): optimal.\n",
      "--- Cplex Time: 0.00sec (det. 0.04 ticks)\n",
      "\n",
      "\n",
      "Optimal solution found\n",
      "Objective:          114.285714\n",
      "\n",
      "--- Reading solution for model GAMS_MODEL\n",
      "--- Executing after solve: elapsed 0:00:00.015\n",
      "--- model.gms(260) 3 Mb\n",
      "--- Putfile results D:\\Optimization-Notebook\\RO\\output\\results.dat\n",
      "--- Putfile statresults D:\\Optimization-Notebook\\RO\\output\\resultsstat.dat\n",
      "*** Status: Normal completion\n",
      "--- Job model.gms Stop 12/01/23 21:04:04 elapsed 0:00:00.016\n",
      "\n",
      "GAMS WORKING DIRECTORY: D:\\Optimization-Notebook\\RO/output\n",
      "\n"
     ]
    },
    {
     "data": {
      "text/plain": "{'Problem': [{'Name': 'D:\\\\Optimization-Notebook\\\\RO/output\\\\model.gms', 'Lower bound': nan, 'Upper bound': 114.28571428571433, 'Number of objectives': 1, 'Number of constraints': 37.0, 'Number of variables': 35.0, 'Number of binary variables': None, 'Number of integer variables': 0.0, 'Number of continuous variables': 35.0, 'Number of nonzeros': 91.0, 'Sense': 'minimize'}], 'Solver': [{'Name': 'GAMS (43, 2, 0, 0)', 'Status': 'ok', 'Return code': 0, 'Message': None, 'User time': 0.007999478839338, 'System time': None, 'Wallclock time': None, 'Termination condition': 'optimal', 'Termination message': None}], 'Solution': [OrderedDict([('number of solutions', 0), ('number of solutions displayed', 0)])]}"
     },
     "execution_count": 274,
     "metadata": {},
     "output_type": "execute_result"
    }
   ],
   "source": [
    "solve_with_gams(m1)\n",
    "# m1.write(\"m1.lp\", io_options={'symbolic_solver_labels': True})"
   ],
   "metadata": {
    "collapsed": false,
    "pycharm": {
     "name": "#%%\n"
    }
   }
  },
  {
   "cell_type": "code",
   "execution_count": 275,
   "outputs": [
    {
     "name": "stdout",
     "output_type": "stream",
     "text": [
      "A : Technology Cost\n",
      "    Size=3, Index=t\n",
      "    Key  : Lower : Value              : Upper : Fixed : Stale : Domain\n",
      "      R1 :     0 :              150.0 :  None : False : False : NonNegativeReals\n",
      "      R2 :     0 : 14.285714285714286 :  None : False : False : NonNegativeReals\n",
      "    SEP1 :     0 : 228.57142857142858 :  None : False : False : NonNegativeReals\n",
      "B : Material Cost\n",
      "    Size=4, Index=j\n",
      "    Key : Lower : Value              : Upper : Fixed : Stale : Domain\n",
      "      A :  None :              500.0 :  None : False : False :  Reals\n",
      "      B :  None :  85.71428571428572 :  None : False : False :  Reals\n",
      "      C :  None :             -350.0 :  None : False : False :  Reals\n",
      "      D :  None : -514.2857142857143 :  None : False : False :  Reals\n",
      "{Member of F} : Flow rate of stream i speices j\n",
      "    Size=24, Index=F_index\n",
      "    Key      : Lower : Value : Upper : Fixed : Stale : Domain\n",
      "    (1, 'A') :     0 : 100.0 :  None : False : False : NonNegativeReals\n",
      "{Member of F} : Flow rate of stream i speices j\n",
      "    Size=24, Index=F_index\n",
      "    Key      : Lower : Value              : Upper : Fixed : Stale : Domain\n",
      "    (2, 'B') :     0 : 14.285714285714286 :  None : False : False : NonNegativeReals\n",
      "{Member of F} : Flow rate of stream i speices j\n",
      "    Size=24, Index=F_index\n",
      "    Key      : Lower : Value : Upper : Fixed : Stale : Domain\n",
      "    (5, 'C') :     0 :  50.0 :  None : False : False : NonNegativeReals\n",
      "{Member of F} : Flow rate of stream i speices j\n",
      "    Size=24, Index=F_index\n",
      "    Key      : Lower : Value             : Upper : Fixed : Stale : Domain\n",
      "    (6, 'D') :     0 : 64.28571428571429 :  None : False : False : NonNegativeReals\n"
     ]
    },
    {
     "data": {
      "text/plain": "(None, None, None, None)"
     },
     "execution_count": 275,
     "metadata": {},
     "output_type": "execute_result"
    }
   ],
   "source": [
    "m1.A.pprint(), m1.B.pprint()\n",
    "m1.F[1,\"A\"].pprint(), m1.F[2,\"B\"].pprint(), m1.F[5,\"C\"].pprint(), m1.F[6,\"D\"].pprint()"
   ],
   "metadata": {
    "collapsed": false,
    "pycharm": {
     "name": "#%%\n"
    }
   }
  },
  {
   "cell_type": "code",
   "execution_count": 276,
   "outputs": [
    {
     "name": "stdout",
     "output_type": "stream",
     "text": [
      "Constraint csupply: F[1,A]  <=  100\n",
      "Constraint csupply: F[2,B]  <=  100\n",
      "Constraint cdemand: 50  <=  F[5,C]\n",
      "Constraint cdemand: 50  <=  F[6,D]\n",
      "Constraint cfeed: F[1,B]  ==  0\n",
      "Constraint cfeed: F[1,C]  ==  0\n",
      "Constraint cfeed: F[1,D]  ==  0\n",
      "Constraint cfeed: F[2,A]  ==  0\n",
      "Constraint cfeed: F[2,C]  ==  0\n",
      "Constraint cfeed: F[2,D]  ==  0\n",
      "Constraint cR1: F[3,A] - F[1,A]  ==  - F[1,A]\n",
      "Constraint cR1: F[3,B] - F[1,B]  ==  0*F[1,A]\n",
      "Constraint cR1: F[3,C] - F[1,C]  ==  0.4*F[1,A]\n",
      "Constraint cR1: F[3,D] - F[1,D]  ==  0.6*F[1,A]\n",
      "Constraint cR2: F[4,A] - F[2,A]  ==  0*F[2,B]\n",
      "Constraint cR2: F[4,B] - F[2,B]  ==  - F[2,B]\n",
      "Constraint cR2: F[4,C] - F[2,C]  ==  0.7*F[2,B]\n",
      "Constraint cR2: F[4,D] - F[2,D]  ==  0.3*F[2,B]\n",
      "Constraint csep: F[3,A] + F[4,A]  ==  F[5,A]\n",
      "Constraint csep: F[3,B] + F[4,B]  ==  F[5,B]\n",
      "Constraint csep: F[3,C] + F[4,C]  ==  F[5,C]\n",
      "Constraint csep: F[3,D] + F[4,D]  ==  F[6,D]\n",
      "Constraint csep2: F[3,A] + F[4,A]  ==  F[5,A] + F[6,A]\n",
      "Constraint csep2: F[3,B] + F[4,B]  ==  F[5,B] + F[6,B]\n",
      "Constraint csep2: F[3,C] + F[4,C]  ==  F[5,C] + F[6,C]\n",
      "Constraint csep2: F[3,D] + F[4,D]  ==  F[5,D] + F[6,D]\n",
      "Constraint ccap: F[1,A]  <=  W[R1]\n",
      "Constraint ccap: F[2,B]  <=  W[R2]\n",
      "Constraint ccap: F[3,A] + F[4,A] + F[3,B] + F[4,B] + F[3,C] + F[4,C] + F[3,D] + F[4,D]  <=  W[SEP1]\n",
      "Constraint techcost: 1.5*W[R1]  ==  A[R1]\n",
      "Constraint techcost: W[R2]  ==  A[R2]\n",
      "Constraint techcost: 2*W[SEP1]  ==  A[SEP1]\n",
      "Constraint matcost: 5*F[1,A]  ==  B[A]\n",
      "Constraint matcost: 6*F[2,B]  ==  B[B]\n",
      "Constraint matcost: -7*F[5,C]  ==  B[C]\n",
      "Constraint matcost: -8*F[6,D]  ==  B[D]\n"
     ]
    }
   ],
   "source": [
    "for constraint in m1.component_objects(Constraint, active=True):\n",
    "    constraint_object = getattr(m1, str(constraint))\n",
    "    for index in constraint_object:\n",
    "        print(f\"Constraint {constraint}: {constraint_object[index].expr}\")"
   ],
   "metadata": {
    "collapsed": false,
    "pycharm": {
     "name": "#%%\n"
    }
   }
  },
  {
   "cell_type": "markdown",
   "source": [
    "As we can see, in the nominal condition, the system is trying select rxn A  while doing minimum rxn B for demand constraints. Now, we do an experiment to formulate a robust version that considers a 20% uncertainty in Feed A and B."
   ],
   "metadata": {
    "collapsed": false,
    "pycharm": {
     "name": "#%% md\n"
    }
   }
  },
  {
   "cell_type": "markdown",
   "source": [
    "### Robust Formulation\n",
    "\n",
    "We first try to incorporate the constraint only at the variable directly associated with the uncertainty parameters.\n",
    "\n",
    "\\begin{align*}\n",
    "    & F_{1, A} + max\\{\\epsilon_A F_{1, A} \\}  \\le Q^{Load}_{A} \\\\\n",
    "    & F_{2, B} + max\\{\\epsilon_B F_{2, B} \\} \\le Q^{Load}_{B} \\\\\n",
    "    & -0.2 \\le \\epsilon_A \\le 0.2 \\\\\n",
    "    & -0.1 \\le \\epsilon_B \\le 0.1 \\\\\n",
    "\\end{align*}\n",
    "\n",
    "Given that it is a box uncertainty set and the subproblem is linear with nonnegative variables, we can apply properties. However, to preserve the problem in more general way, we do below\n",
    "\n",
    "\\begin{align*}\n",
    "    & F_{1, A} + u_A  \\le Q^{Load}_{A} \\\\\n",
    "    & F_{2, B} + u_B F_{2, B} \\le Q^{Load}_{B} \\\\\n",
    "    & \\epsilon_A F_{1, A} \\le u_A \\\\\n",
    "    & \\epsilon_A F_{2, A} \\le \\epsilon_B \\le 0.1 \\\\\n",
    "\\end{align*}\n",
    "\n",
    "We try to leave everything else intact"
   ],
   "metadata": {
    "collapsed": false,
    "pycharm": {
     "name": "#%% md\n"
    }
   }
  },
  {
   "cell_type": "code",
   "execution_count": 277,
   "outputs": [],
   "source": [
    "def build_DM():\n",
    "    m = ConcreteModel()\n",
    "\n",
    "    m.i = Set(initialize=[1,2,3,4,5,6], doc=\"streams\")\n",
    "    m.j = Set(initialize=[\"A\",\"B\",\"C\",\"D\"])\n",
    "    m.t = Set(initialize=[\"R1\",\"R2\",\"SEP1\"])\n",
    "\n",
    "    m.Qsup = Param(m.j,initialize={\"A\": 100, \"B\": 100})\n",
    "    m.Qdem = Param(m.j,initialize={\"C\": 50, \"D\": 50})\n",
    "    m.theta = Param(m.t,m.j,initialize={(\"R1\",\"A\"): -1, (\"R1\",\"B\"): 0, (\"R1\",\"C\"): 0.4, (\"R1\",\"D\"): 0.6,\n",
    "                                        (\"R2\",\"A\"): 0, (\"R2\",\"B\"): -1, (\"R2\",\"C\"): 0.7, (\"R2\",\"D\"): 0.3,\n",
    "                                        })\n",
    "    m.alpha = Param(m.t,initialize={\"R1\": 1.5, \"R2\": 1, \"SEP1\": 2})\n",
    "    m.beta = Param(m.j,initialize={\"A\": 5, \"B\": 6, \"C\": -7, \"D\": -8})\n",
    "\n",
    "    m.F = Var(m.i, m.j, domain=NonNegativeReals, doc=\"Flow rate of stream i speices j\")\n",
    "    m.eps = Var(m.j, domain=Reals, doc=\"uncertainty\")\n",
    "    for j in m.j:\n",
    "        if j == \"A\":\n",
    "            m.eps[j].setlb(-0.2)\n",
    "            m.eps[j].setub(0.2)\n",
    "        elif j == \"B\":\n",
    "            m.eps[j].setlb(-0.1)\n",
    "            m.eps[j].setub(0.1)\n",
    "        else:\n",
    "            pass\n",
    "\n",
    "    m.W = Var(m.t, domain=NonNegativeReals, doc=\"Technology Capacity\")\n",
    "    m.A = Var(m.t, domain=NonNegativeReals, doc=\"Technology Cost\")\n",
    "    m.B = Var(m.j, domain=Reals, doc=\"Material Cost\")\n",
    "\n",
    "    def _csupply(m, j):\n",
    "        if not j in {\"A\",\"B\"}:\n",
    "            return Constraint.Skip\n",
    "        if j == \"A\":\n",
    "            return m.F[1,j] + m.eps[j] <= m.Qsup[j]\n",
    "        elif j == \"B\":\n",
    "            return m.F[2,j] + m.eps[j] <= m.Qsup[j]\n",
    "        raise IndexError\n",
    "    m.csupply = Constraint(m.j, rule=_csupply)\n",
    "\n",
    "    def _cdemand(m, j):\n",
    "        if not j in {\"C\",\"D\"}:\n",
    "            return Constraint.Skip\n",
    "        if j == \"C\":\n",
    "            return m.F[5,j] >= m.Qdem[j]\n",
    "        elif j == \"D\":\n",
    "            return m.F[6,j] >= m.Qdem[j]\n",
    "        raise IndexError\n",
    "    m.cdemand = Constraint(m.j, rule=_cdemand)\n",
    "\n",
    "    def _cfeed(m, i, j):\n",
    "        if not i in {1,2}:\n",
    "            return Constraint.Skip\n",
    "        if not (i,j) in {(1,\"A\"), (2,\"B\")}:\n",
    "            return m.F[i,j] == 0\n",
    "        return Constraint.Skip\n",
    "    m.cfeed = Constraint(m.i, m.j, rule=_cfeed)\n",
    "\n",
    "    def _cR1(m, j):\n",
    "        return m.F[3,j] - m.F[1,j] == m.theta[\"R1\",j] * m.F[1,\"A\"]\n",
    "    m.cR1 = Constraint(m.j, rule=_cR1)\n",
    "\n",
    "    def _cR2(m, j):\n",
    "        return m.F[4,j] - m.F[2,j] == m.theta[\"R2\",j] * m.F[2,\"B\"]\n",
    "    m.cR2 = Constraint(m.j, rule=_cR2)\n",
    "\n",
    "    def _csep(m, j):\n",
    "        if j != \"D\":\n",
    "            return m.F[3,j] + m.F[4,j] == m.F[5,j]\n",
    "        return m.F[3,j] + m.F[4,j] ==  m.F[6,j]\n",
    "    m.csep = Constraint(m.j, rule=_csep)\n",
    "\n",
    "    def _csep2(m, j):\n",
    "        return m.F[3,j] + m.F[4,j] == m.F[5,j] + m.F[6,j]\n",
    "    m.csep2 = Constraint(m.j, rule=_csep2)\n",
    "\n",
    "    def _ccap(m, t):\n",
    "        if t == \"R1\":\n",
    "            return m.W[t] >= m.F[1,\"A\"]\n",
    "        elif t == \"R2\":\n",
    "            return m.W[t] >= m.F[2,\"B\"]\n",
    "        elif t == \"SEP1\":\n",
    "            return m.W[t] >= sum(m.F[3,j] + m.F[4,j] for j in m.j)\n",
    "        raise IndexError\n",
    "    m.ccap = Constraint(m.t, rule=_ccap)\n",
    "\n",
    "    def _techcost(m, t):\n",
    "        return m.alpha[t] * m.W[t] == m.A[t]\n",
    "    m.techcost = Constraint(m.t, rule=_techcost)\n",
    "\n",
    "    def _matcost(m, j):\n",
    "        if j == \"A\":\n",
    "            return m.beta[j] * m.F[1, j] == m.B[j]\n",
    "        elif j == \"B\":\n",
    "            return m.beta[j] * m.F[2, j] == m.B[j]\n",
    "        elif j == \"C\":\n",
    "            return m.beta[j] * m.F[5, j] == m.B[j]\n",
    "        elif j == \"D\":\n",
    "            return m.beta[j] * m.F[6, j] == m.B[j]\n",
    "        raise IndexError\n",
    "    m.matcost = Constraint(m.j, rule=_matcost)\n",
    "\n",
    "    m.obj = Objective(expr=sum(m.A[t] for t in m.t) + sum(m.B[j] for j in m.j),  sense=minimize)\n",
    "\n",
    "    return m\n",
    "\n",
    "m2 = build_DM()"
   ],
   "metadata": {
    "collapsed": false,
    "pycharm": {
     "name": "#%%\n"
    }
   }
  },
  {
   "cell_type": "code",
   "execution_count": 278,
   "outputs": [
    {
     "name": "stdout",
     "output_type": "stream",
     "text": [
      "--- Job model.gms Start 12/01/23 21:04:04 43.2.0 859d62d5 WEX-WEI x86 64bit/MS Windows\n",
      "--- Applying:\n",
      "    C:\\GAMS\\43\\gmsprmNT.txt\n",
      "    C:\\Users\\justi\\OneDrive\\Documents\\GAMS\\gamsconfig.yaml\n",
      "--- GAMS Parameters defined\n",
      "    Input D:\\Optimization-Notebook\\RO\\output\\model.gms\n",
      "    Output D:\\Optimization-Notebook\\RO\\output\\output.lst\n",
      "    ScrDir D:\\Optimization-Notebook\\RO\\output\\225a\\\n",
      "    SysDir C:\\GAMS\\43\\\n",
      "    CurDir D:\\Optimization-Notebook\\RO\\output\\\n",
      "    LogOption 3\n",
      "Licensee: Small MUD - 5 User License                     G221121|0002AP-GEN\n",
      "          University of Delaware, Chemical and Biomolecular EngineeriDC3967\n",
      "          C:\\GAMS\\43\\gamslice.txt\n",
      "          License Admin: Marianthi Ierapetritou, mgi@udel.edu              \n",
      "Processor information: 1 socket(s), 10 core(s), and 20 thread(s) available\n",
      "GAMS 43.2.0   Copyright (C) 1987-2023 GAMS Development. All rights reserved\n",
      "--- Starting compilation\n",
      "--- model.gms(268) 2 Mb\n",
      "--- Starting execution: elapsed 0:00:00.010\n",
      "--- model.gms(137) 3 Mb\n",
      "--- Generating LP model GAMS_MODEL\n",
      "--- model.gms(141) 3 Mb\n",
      "---   37 rows  37 columns  93 non-zeroes\n",
      "--- Range statistics (absolute non-zero finite values)\n",
      "--- RHS       [min, max] : [ 5.000E+01, 1.000E+02] - Zero values observed as well\n",
      "--- Bound     [min, max] : [ 1.000E-01, 2.000E-01] - Zero values observed as well\n",
      "--- Matrix    [min, max] : [ 3.000E-01, 8.000E+00]\n",
      "--- Executing CPLEX (Solvelink=5): elapsed 0:00:00.013\n",
      "\n",
      "IBM ILOG CPLEX   43.2.0 859d62d5 May 4, 2023           WEI x86 64bit/MS Window\n",
      "\n",
      "--- GAMS/CPLEX licensed for continuous and discrete problems.\n",
      "--- GMO setup time: 0.00s\n",
      "--- GMO memory 0.51 Mb (peak 0.51 Mb)\n",
      "--- Dictionary memory 0.00 Mb\n",
      "--- Cplex 22.1.1.0 link memory 0.00 Mb (peak 0.00 Mb)\n",
      "--- Starting Cplex\n",
      "\n",
      "Version identifier: 22.1.1.0 | 2022-11-27 | 9160aff4d\n",
      "CPXPARAM_Advance                                 0\n",
      "CPXPARAM_Threads                                 1\n",
      "CPXPARAM_MIP_Display                             4\n",
      "CPXPARAM_MIP_Pool_Capacity                       0\n",
      "CPXPARAM_TimeLimit                               1000\n",
      "CPXPARAM_MIP_Tolerances_AbsMIPGap                0\n",
      "CPXPARAM_MIP_Tolerances_MIPGap                   0\n",
      "Tried aggregator 1 time.\n",
      "LP Presolve eliminated 28 rows and 27 columns.\n",
      "Aggregator did 4 substitutions.\n",
      "Reduced LP has 4 rows, 6 columns, and 14 nonzeros.\n",
      "Presolve time = 0.00 sec. (0.02 ticks)\n",
      "Initializing dual steep norms . . .\n",
      "\n",
      "Iteration log . . .\n",
      "Iteration:     1   Dual infeasibility =             8.000000\n",
      "Iteration:     3   Dual objective     =           114.271429\n",
      "\n",
      "--- LP status (1): optimal.\n",
      "--- Cplex Time: 0.00sec (det. 0.04 ticks)\n",
      "\n",
      "\n",
      "Optimal solution found\n",
      "Objective:          114.271429\n",
      "\n",
      "--- Reading solution for model GAMS_MODEL\n",
      "--- Executing after solve: elapsed 0:00:00.024\n",
      "--- model.gms(268) 3 Mb\n",
      "--- Putfile results D:\\Optimization-Notebook\\RO\\output\\results.dat\n",
      "--- Putfile statresults D:\\Optimization-Notebook\\RO\\output\\resultsstat.dat\n",
      "*** Status: Normal completion\n",
      "--- Job model.gms Stop 12/01/23 21:04:04 elapsed 0:00:00.024\n",
      "\n",
      "GAMS WORKING DIRECTORY: D:\\Optimization-Notebook\\RO/output\n",
      "\n"
     ]
    },
    {
     "data": {
      "text/plain": "{'Problem': [{'Name': 'D:\\\\Optimization-Notebook\\\\RO/output\\\\model.gms', 'Lower bound': nan, 'Upper bound': 114.27142857142861, 'Number of objectives': 1, 'Number of constraints': 37.0, 'Number of variables': 37.0, 'Number of binary variables': None, 'Number of integer variables': 0.0, 'Number of continuous variables': 37.0, 'Number of nonzeros': 93.0, 'Sense': 'minimize'}], 'Solver': [{'Name': 'GAMS (43, 2, 0, 0)', 'Status': 'ok', 'Return code': 0, 'Message': None, 'User time': 0.013999873772264, 'System time': None, 'Wallclock time': None, 'Termination condition': 'optimal', 'Termination message': None}], 'Solution': [OrderedDict([('number of solutions', 0), ('number of solutions displayed', 0)])]}"
     },
     "execution_count": 278,
     "metadata": {},
     "output_type": "execute_result"
    }
   ],
   "source": [
    "solve_with_gams(m2)"
   ],
   "metadata": {
    "collapsed": false,
    "pycharm": {
     "name": "#%%\n"
    }
   }
  },
  {
   "cell_type": "code",
   "execution_count": 279,
   "outputs": [
    {
     "name": "stdout",
     "output_type": "stream",
     "text": [
      "A : Technology Cost\n",
      "    Size=3, Index=t\n",
      "    Key  : Lower : Value              : Upper : Fixed : Stale : Domain\n",
      "      R1 :     0 :              150.3 :  None : False : False : NonNegativeReals\n",
      "      R2 :     0 : 14.171428571428564 :  None : False : False : NonNegativeReals\n",
      "    SEP1 :     0 : 228.74285714285713 :  None : False : False : NonNegativeReals\n",
      "B : Material Cost\n",
      "    Size=4, Index=j\n",
      "    Key : Lower : Value              : Upper : Fixed : Stale : Domain\n",
      "      A :  None :              501.0 :  None : False : False :  Reals\n",
      "      B :  None :  85.02857142857138 :  None : False : False :  Reals\n",
      "      C :  None :             -350.0 :  None : False : False :  Reals\n",
      "      D :  None : -514.9714285714285 :  None : False : False :  Reals\n",
      "{Member of F} : Flow rate of stream i speices j\n",
      "    Size=24, Index=F_index\n",
      "    Key      : Lower : Value : Upper : Fixed : Stale : Domain\n",
      "    (1, 'A') :     0 : 100.2 :  None : False : False : NonNegativeReals\n",
      "{Member of F} : Flow rate of stream i speices j\n",
      "    Size=24, Index=F_index\n",
      "    Key      : Lower : Value              : Upper : Fixed : Stale : Domain\n",
      "    (2, 'B') :     0 : 14.171428571428564 :  None : False : False : NonNegativeReals\n",
      "{Member of F} : Flow rate of stream i speices j\n",
      "    Size=24, Index=F_index\n",
      "    Key      : Lower : Value : Upper : Fixed : Stale : Domain\n",
      "    (5, 'C') :     0 :  50.0 :  None : False : False : NonNegativeReals\n",
      "{Member of F} : Flow rate of stream i speices j\n",
      "    Size=24, Index=F_index\n",
      "    Key      : Lower : Value             : Upper : Fixed : Stale : Domain\n",
      "    (6, 'D') :     0 : 64.37142857142857 :  None : False : False : NonNegativeReals\n"
     ]
    },
    {
     "data": {
      "text/plain": "(None, None, None, None)"
     },
     "execution_count": 279,
     "metadata": {},
     "output_type": "execute_result"
    }
   ],
   "source": [
    "m2.A.pprint(), m2.B.pprint()\n",
    "m2.F[1,\"A\"].pprint(), m2.F[2,\"B\"].pprint(), m2.F[5,\"C\"].pprint(), m2.F[6,\"D\"].pprint()"
   ],
   "metadata": {
    "collapsed": false,
    "pycharm": {
     "name": "#%%\n"
    }
   }
  },
  {
   "cell_type": "code",
   "execution_count": 279,
   "outputs": [],
   "source": [],
   "metadata": {
    "collapsed": false,
    "pycharm": {
     "name": "#%%\n"
    }
   }
  }
 ],
 "metadata": {
  "kernelspec": {
   "display_name": "Python 3",
   "language": "python",
   "name": "python3"
  },
  "language_info": {
   "codemirror_mode": {
    "name": "ipython",
    "version": 2
   },
   "file_extension": ".py",
   "mimetype": "text/x-python",
   "name": "python",
   "nbconvert_exporter": "python",
   "pygments_lexer": "ipython2",
   "version": "2.7.6"
  }
 },
 "nbformat": 4,
 "nbformat_minor": 0
}