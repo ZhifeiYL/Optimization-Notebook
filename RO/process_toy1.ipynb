{
 "cells": [
  {
   "cell_type": "markdown",
   "source": [
    "## A  Simple Cast Study to Understand about Robust Optimization in Process Optimzation"
   ],
   "metadata": {
    "collapsed": false,
    "pycharm": {
     "name": "#%% md\n"
    }
   }
  },
  {
   "cell_type": "code",
   "execution_count": 59,
   "outputs": [],
   "source": [
    "from pyomo.environ import *\n",
    "import os"
   ],
   "metadata": {
    "collapsed": false,
    "pycharm": {
     "name": "#%%\n"
    }
   }
  },
  {
   "cell_type": "markdown",
   "source": [
    "### Problem Description\n",
    "\n",
    "Imagine a process with two reactions when written in Mass Balance:\n",
    "\n",
    "$$ A \\longrightarrow 0.4 C + 0.6 D \\quad \\quad \\text{RXN1}$$\n",
    "$$ B \\longrightarrow 0.7 C + 0.3 D \\quad \\quad \\text{RXN2}$$\n",
    "\n",
    "The two reactions happen together in the reactor, and the product stream goes to a separator that performs a complete binary separation."
   ],
   "metadata": {
    "collapsed": false,
    "pycharm": {
     "name": "#%% md\n"
    }
   }
  },
  {
   "cell_type": "markdown",
   "source": [
    "![Optional Alt Text](illustrations/toy.png)"
   ],
   "metadata": {
    "collapsed": false,
    "pycharm": {
     "name": "#%% md\n"
    }
   }
  },
  {
   "cell_type": "markdown",
   "source": [
    "Nomenclature\n",
    "\n",
    "Sets\n",
    "\n",
    "\\begin{align*}\n",
    "    & I && \\quad \\text{Set of Streams: \\{1,2,3,4,5,6\\}} \\\\\n",
    "    & J && \\quad \\text{Set of Species: \\{A,B,C,D\\}} \\\\\n",
    "    & T && \\quad \\text{Set of Technologies: \\{R1, R2, SEP1\\}} \\\\\n",
    "\\end{align*}\n",
    "\n",
    "Parameters\n",
    "\n",
    "\\begin{align*}\n",
    "    & Q^{Load}_{j} && \\quad \\text{Mass flow rate of stream i for species j} \\\\\n",
    "    & \\theta_{t,j} \\quad  t \\in \\{R1, R2\\} && \\quad \\text{Conversion of technology t for species j} \\\\\n",
    "    & \\alpha_{t} && \\quad \\text{Cost coefficient of technology t} \\\\\n",
    "    & \\beta_{j} && \\quad \\text{Price of species j}\n",
    "\\end{align*}\n",
    "\n",
    "Variables\n",
    "\n",
    "\\begin{align*}\n",
    "    & F_{i,j} \\quad \\text{Mass flow rate of stream i for species j} \\\\\n",
    "    & W_{t} \\quad \\text{Capacity of technology t} \\\\\n",
    "    & A_{t} \\quad \\text{Cost of technology t} \\\\\n",
    "    & B_{j} \\quad \\text{Cost of species, Negative for products}\n",
    "\\end{align*}\n"
   ],
   "metadata": {
    "collapsed": false,
    "pycharm": {
     "name": "#%% md\n"
    }
   }
  },
  {
   "cell_type": "markdown",
   "source": [
    "### Feed & Demand Constraints\n",
    "\n",
    "First we begin with total supply of each feedstock we have.\n",
    "\n",
    "\\begin{align*}\n",
    "    & F_{1, A} \\le Q^{Sup}_{A} \\\\\n",
    "    & F_{2, B} \\le Q^{Sup}_{B} \\\\\n",
    "\\end{align*}\n",
    "\n",
    "\\begin{align*}\n",
    "    & F_{5, C} \\ge Q^{Dem}_{C} \\\\\n",
    "    & F_{6, D} \\ge Q^{Dem}_{D} \\\\\n",
    "\\end{align*}\n",
    "\n",
    "We also requires the feed to be pure streams:\n",
    "\n",
    "\\begin{align*}\n",
    "    & F_{1, j} = 0 \\text{   if } j \\neq A \\\\\n",
    "    & F_{2, j} = 0 \\text{   if } j \\neq B \\\\\n",
    "\\end{align*}\n"
   ],
   "metadata": {
    "collapsed": false,
    "pycharm": {
     "name": "#%% md\n"
    }
   }
  },
  {
   "cell_type": "markdown",
   "source": [
    "### Mass Balances\n",
    "\n",
    "For the reactions, we have\n",
    "\n",
    "\\begin{align*}\n",
    "    & F_{3, j} - F_{1,j} = \\theta_{R1,j} F_{1,j} \\\\\n",
    "\\end{align*}\n",
    "\n",
    "\\begin{align*}\n",
    "    & F_{4, j} - F_{2,j} = \\theta_{R2,j} F_{2,j} \\\\\n",
    "\\end{align*}\n",
    "\n",
    "For the Separation:\n",
    "\n",
    "\\begin{align*}\n",
    "    & F_{3, j} + F_{4,j} = F_{5,j} \\text{   if } j \\neq D \\\\\n",
    "\\end{align*}\n",
    "\n",
    "\\begin{align*}\n",
    "    & F_{3, j} + F_{4,j} = F_{6,j} \\text{   if } j = D \\\\\n",
    "\\end{align*}\n",
    "\n",
    "\\begin{align*}\n",
    "    & F_{3, j} + F_{4,j} = F_{5,j} + F_{6,j}  \\\\\n",
    "\\end{align*}\n",
    "\n",
    "This completes our mass balance."
   ],
   "metadata": {
    "collapsed": false,
    "pycharm": {
     "name": "#%% md\n"
    }
   }
  },
  {
   "cell_type": "markdown",
   "source": [
    "### Design Feasibility\n",
    "\n",
    "For the capacities:\n",
    "\n",
    "\\begin{align*}\n",
    "    & F_{1, A} \\le W_{R1} \\\\\n",
    "    & F_{2, B} \\le W_{R2} \\\\\n",
    "    & \\sum_{j} (F_{3, j} + F_{4, j}) \\le W_{R3} \\\\\n",
    "\\end{align*}\n",
    "\n",
    "This completes the design feasibility  constraints if we only consider the capacity."
   ],
   "metadata": {
    "collapsed": false,
    "pycharm": {
     "name": "#%% md\n"
    }
   }
  },
  {
   "cell_type": "markdown",
   "source": [
    "### Economics\n",
    "\n",
    "In this case, we assume a linear relationship between both capital and operating cost associated with technologies.\n",
    "\n",
    "\\begin{align*}\n",
    "    & A_{t} = \\alpha_{t} W_{t}  \\\\\n",
    "\\end{align*}\n",
    "\n",
    "As for the material cost/sales:\n",
    "\n",
    "\\begin{align*}\n",
    "    & B_{A} = \\beta_{A} F_{1,A}  \\\\\n",
    "    & B_{B} = \\beta_{B} F_{2,B}  \\\\\n",
    "    & B_{C} = \\beta_{C} F_{5,C}  \\\\\n",
    "    & B_{D} = \\beta_{D} F_{6,D}  \\\\\n",
    "\\end{align*}\n"
   ],
   "metadata": {
    "collapsed": false,
    "pycharm": {
     "name": "#%% md\n"
    }
   }
  },
  {
   "cell_type": "markdown",
   "source": [
    "### Deterministic Model\n",
    "\n",
    "\n",
    "$$  Min_{\\{F_{1,A}, F_{2,B}\\}} \\sum_{t \\in T} W_{t} + \\sum_{j \\in J} P_{j}  $$\n",
    "\n",
    "subject to\n",
    "\n",
    "\\begin{align*}\n",
    "    & F_{1, A} \\le Q^{Load}_{A} \\\\\n",
    "    & F_{2, B} \\le Q^{Load}_{B} \\\\\n",
    "    & F_{5, C} \\ge Q^{Dem}_{C} \\\\\n",
    "    & F_{6, D} \\ge Q^{Dem}_{D} \\\\\n",
    "    & F_{1, j} = 0 \\text{   if } j \\neq A \\\\\n",
    "    & F_{2, j} = 0 \\text{   if } j \\neq B \\\\\n",
    "    & F_{3, j} - F_{1,j} = \\theta_{R1,j} F_{1,j} \\\\\n",
    "    & F_{4, j} - F_{2,j} = \\theta_{R2,j} F_{2,j} \\\\\n",
    "    & F_{3, j} + F_{4,j} = F_{5,j} \\text{   if } j \\neq D \\\\\n",
    "    & F_{3, j} + F_{4,j} = F_{6,j} \\text{   if } j = D \\\\\n",
    "    & F_{3, j} + F_{4,j} = F_{5,j} + F_{6,j}  \\\\\n",
    "    & F_{1, A} \\le W_{R1} \\\\\n",
    "    & F_{2, B} \\le W_{R2} \\\\\n",
    "    & \\sum_{j} (F_{3, j} + F_{4, j}) \\le W_{R3} \\\\\n",
    "    & W_{R1} = \\alpha_{R1} F_{1,A}  \\\\\n",
    "    & W_{R2} = \\alpha_{R2} F_{2,B}  \\\\\n",
    "    & W_{SEP1} = \\alpha_{R3} \\sum_{j}(F_{3,j} + F_{4,j}) \\\\\n",
    "    & P_{A} = \\beta_{A} F_{1,A}  \\\\\n",
    "    & P_{B} = \\beta_{B} F_{2,B}  \\\\\n",
    "    & P_{C} = \\beta_{C} F_{5,C}  \\\\\n",
    "    & P_{D} = \\beta_{D} F_{6,D}  \\\\\n",
    "\\end{align*}\n"
   ],
   "metadata": {
    "collapsed": false,
    "pycharm": {
     "name": "#%% md\n"
    }
   }
  },
  {
   "cell_type": "code",
   "execution_count": 60,
   "outputs": [],
   "source": [
    "def build_DM():\n",
    "    m = ConcreteModel()\n",
    "\n",
    "    m.i = Set(initialize=[1,2,3,4,5,6], doc=\"streams\")\n",
    "    m.j = Set(initialize=[\"A\",\"B\",\"C\",\"D\"])\n",
    "    m.t = Set(initialize=[\"R1\",\"R2\",\"SEP1\"])\n",
    "\n",
    "    m.Qsup = Param(m.j,initialize={\"A\": 100, \"B\": 100})\n",
    "    m.Qdem = Param(m.j,initialize={\"C\": 50, \"D\": 50})\n",
    "    m.theta = Param(m.t,m.j,initialize={(\"R1\",\"A\"): -1, (\"R1\",\"B\"): 0, (\"R1\",\"C\"): 0.4, (\"R1\",\"D\"): 0.6,\n",
    "                                        (\"R2\",\"A\"): 0, (\"R2\",\"B\"): -1, (\"R2\",\"C\"): 0.7, (\"R2\",\"D\"): 0.3,\n",
    "                                        })\n",
    "    m.alpha = Param(m.t,initialize={\"R1\": 1.5, \"R2\": 1, \"SEP1\": 2})\n",
    "    m.beta = Param(m.j,initialize={\"A\": 5, \"B\": 6, \"C\": -7, \"D\": -8})\n",
    "\n",
    "    m.F = Var(m.i, m.j, domain=NonNegativeReals, doc=\"Flow rate of stream i speices j\")\n",
    "    m.W = Var(m.t, domain=NonNegativeReals, doc=\"Technology Capacity\")\n",
    "    m.A = Var(m.t, domain=NonNegativeReals, doc=\"Technology Cost\")\n",
    "    m.B = Var(m.j, domain=Reals, doc=\"Material Cost\")\n",
    "\n",
    "    def _csupply(m, j):\n",
    "        if not j in {\"A\",\"B\"}:\n",
    "            return Constraint.Skip\n",
    "        if j == \"A\":\n",
    "            return m.F[1,j] <= m.Qsup[j]\n",
    "        elif j == \"B\":\n",
    "            return m.F[2,j] <= m.Qsup[j]\n",
    "        raise IndexError\n",
    "    m.csupply = Constraint(m.j, rule=_csupply)\n",
    "\n",
    "    def _cdemand(m, j):\n",
    "        if not j in {\"C\",\"D\"}:\n",
    "            return Constraint.Skip\n",
    "        if j == \"C\":\n",
    "            return m.F[5,j] >= m.Qdem[j]\n",
    "        elif j == \"D\":\n",
    "            return m.F[6,j] >= m.Qdem[j]\n",
    "        raise IndexError\n",
    "    m.cdemand = Constraint(m.j, rule=_cdemand)\n",
    "\n",
    "    def _cfeed(m, i, j):\n",
    "        if not i in {1,2}:\n",
    "            return Constraint.Skip\n",
    "        if not (i,j) in {(1,\"A\"), (2,\"B\")}:\n",
    "            return m.F[i,j] == 0\n",
    "        return Constraint.Skip\n",
    "    m.cfeed = Constraint(m.i, m.j, rule=_cfeed)\n",
    "\n",
    "    def _cR1(m, j):\n",
    "        return m.F[3,j] - m.F[1,j] == m.theta[\"R1\",j] * m.F[1,\"A\"]\n",
    "    m.cR1 = Constraint(m.j, rule=_cR1)\n",
    "\n",
    "    def _cR2(m, j):\n",
    "        return m.F[4,j] - m.F[2,j] == m.theta[\"R2\",j] * m.F[2,\"B\"]\n",
    "    m.cR2 = Constraint(m.j, rule=_cR2)\n",
    "\n",
    "    def _csep(m, j):\n",
    "        if j != \"D\":\n",
    "            return m.F[3,j] + m.F[4,j] == m.F[5,j]\n",
    "        return m.F[3,j] + m.F[4,j] ==  m.F[6,j]\n",
    "    m.csep = Constraint(m.j, rule=_csep)\n",
    "\n",
    "    def _csep2(m, j):\n",
    "        return m.F[3,j] + m.F[4,j] == m.F[5,j] + m.F[6,j]\n",
    "    m.csep2 = Constraint(m.j, rule=_csep2)\n",
    "\n",
    "    def _ccap(m, t):\n",
    "        if t == \"R1\":\n",
    "            return m.W[t] >= m.F[1,\"A\"]\n",
    "        elif t == \"R2\":\n",
    "            return m.W[t] >= m.F[2,\"B\"]\n",
    "        elif t == \"SEP1\":\n",
    "            return m.W[t] >= sum(m.F[3,j] + m.F[4,j] for j in m.j)\n",
    "        raise IndexError\n",
    "    m.ccap = Constraint(m.t, rule=_ccap)\n",
    "\n",
    "    def _techcost(m, t):\n",
    "        return m.alpha[t] * m.W[t] == m.A[t]\n",
    "    m.techcost = Constraint(m.t, rule=_techcost)\n",
    "\n",
    "    def _matcost(m, j):\n",
    "        if j == \"A\":\n",
    "            return m.beta[j] * m.F[1, j] == m.B[j]\n",
    "        elif j == \"B\":\n",
    "            return m.beta[j] * m.F[2, j] == m.B[j]\n",
    "        elif j == \"C\":\n",
    "            return m.beta[j] * m.F[5, j] == m.B[j]\n",
    "        elif j == \"D\":\n",
    "            return m.beta[j] * m.F[6, j] == m.B[j]\n",
    "        raise IndexError\n",
    "    m.matcost = Constraint(m.j, rule=_matcost)\n",
    "\n",
    "    m.obj = Objective(expr=sum(m.A[t] for t in m.t) + sum(m.B[j] for j in m.j),  sense=minimize)\n",
    "\n",
    "    return m\n",
    "\n",
    "m1 = build_DM()"
   ],
   "metadata": {
    "collapsed": false,
    "pycharm": {
     "name": "#%%\n"
    }
   }
  },
  {
   "cell_type": "code",
   "execution_count": 61,
   "outputs": [],
   "source": [
    "def solve_with_gams(m, solver=\"cplex\"):\n",
    "    opt1 = SolverFactory('gams')\n",
    "    io_options = dict()\n",
    "\n",
    "    io_options['solver'] = solver\n",
    "    res1 = opt1.solve(m,\n",
    "        tee=True,\n",
    "        keepfiles=True,\n",
    "        add_options = ['option reslim=1000; option optcr=0.0;  option limrow=5000'],\n",
    "        tmpdir=os.getcwd()+\"/output\",\n",
    "        io_options=io_options)\n",
    "    return res1\n",
    "\n",
    "def solve_with_gurobi(m):\n",
    "    opt1 = SolverFactory(\"gurobi_persistent\")\n",
    "    opt1.set_instance(m)\n",
    "    res1 = opt1.solve()\n",
    "    return res1"
   ],
   "metadata": {
    "collapsed": false,
    "pycharm": {
     "name": "#%%\n"
    }
   }
  },
  {
   "cell_type": "code",
   "execution_count": 62,
   "outputs": [
    {
     "name": "stdout",
     "output_type": "stream",
     "text": [
      "--- Job model.gms Start 12/03/23 01:08:20 43.2.0 859d62d5 WEX-WEI x86 64bit/MS Windows\n",
      "--- Applying:\n",
      "    C:\\GAMS\\43\\gmsprmNT.txt\n",
      "    C:\\Users\\justi\\OneDrive\\Documents\\GAMS\\gamsconfig.yaml\n",
      "--- GAMS Parameters defined\n",
      "    Input D:\\Optimization-Notebook\\RO\\output\\model.gms\n",
      "    Output D:\\Optimization-Notebook\\RO\\output\\output.lst\n",
      "    ScrDir D:\\Optimization-Notebook\\RO\\output\\225a\\\n",
      "    SysDir C:\\GAMS\\43\\\n",
      "    CurDir D:\\Optimization-Notebook\\RO\\output\\\n",
      "    LogOption 3\n",
      "Licensee: Small MUD - 5 User License                     G221121|0002AP-GEN\n",
      "          University of Delaware, Chemical and Biomolecular EngineeriDC3967\n",
      "          C:\\GAMS\\43\\gamslice.txt\n",
      "          License Admin: Marianthi Ierapetritou, mgi@udel.edu              \n",
      "Processor information: 1 socket(s), 10 core(s), and 20 thread(s) available\n",
      "GAMS 43.2.0   Copyright (C) 1987-2023 GAMS Development. All rights reserved\n",
      "--- Starting compilation\n",
      "--- model.gms(260) 2 Mb\n",
      "--- Starting execution: elapsed 0:00:00.004\n",
      "--- model.gms(131) 3 Mb\n",
      "--- Generating LP model GAMS_MODEL\n",
      "--- model.gms(135) 3 Mb\n",
      "---   37 rows  35 columns  91 non-zeroes\n",
      "--- Range statistics (absolute non-zero finite values)\n",
      "--- RHS       [min, max] : [ 5.000E+01, 1.000E+02] - Zero values observed as well\n",
      "--- Bound     [min, max] : [        NA,        NA] - Zero values observed as well\n",
      "--- Matrix    [min, max] : [ 3.000E-01, 8.000E+00]\n",
      "--- Executing CPLEX (Solvelink=5): elapsed 0:00:00.007\n",
      "\n",
      "IBM ILOG CPLEX   43.2.0 859d62d5 May 4, 2023           WEI x86 64bit/MS Window\n",
      "\n",
      "--- GAMS/CPLEX licensed for continuous and discrete problems.\n",
      "--- GMO setup time: 0.00s\n",
      "--- GMO memory 0.51 Mb (peak 0.51 Mb)\n",
      "--- Dictionary memory 0.00 Mb\n",
      "--- Cplex 22.1.1.0 link memory 0.00 Mb (peak 0.00 Mb)\n",
      "--- Starting Cplex\n",
      "\n",
      "Version identifier: 22.1.1.0 | 2022-11-27 | 9160aff4d\n",
      "CPXPARAM_Advance                                 0\n",
      "CPXPARAM_Threads                                 1\n",
      "CPXPARAM_MIP_Display                             4\n",
      "CPXPARAM_MIP_Pool_Capacity                       0\n",
      "CPXPARAM_TimeLimit                               1000\n",
      "CPXPARAM_MIP_Tolerances_AbsMIPGap                0\n",
      "CPXPARAM_MIP_Tolerances_MIPGap                   0\n",
      "Tried aggregator 1 time.\n",
      "LP Presolve eliminated 28 rows and 25 columns.\n",
      "Aggregator did 4 substitutions.\n",
      "Reduced LP has 4 rows, 6 columns, and 14 nonzeros.\n",
      "Presolve time = 0.00 sec. (0.02 ticks)\n",
      "Initializing dual steep norms . . .\n",
      "\n",
      "Iteration log . . .\n",
      "Iteration:     1   Dual infeasibility =             8.000000\n",
      "Iteration:     3   Dual objective     =           114.285714\n",
      "\n",
      "--- LP status (1): optimal.\n",
      "--- Cplex Time: 0.00sec (det. 0.04 ticks)\n",
      "\n",
      "\n",
      "Optimal solution found\n",
      "Objective:          114.285714\n",
      "\n",
      "--- Reading solution for model GAMS_MODEL\n",
      "--- Executing after solve: elapsed 0:00:00.012\n",
      "--- model.gms(260) 3 Mb\n",
      "--- Putfile results D:\\Optimization-Notebook\\RO\\output\\results.dat\n",
      "--- Putfile statresults D:\\Optimization-Notebook\\RO\\output\\resultsstat.dat\n",
      "*** Status: Normal completion\n",
      "--- Job model.gms Stop 12/03/23 01:08:20 elapsed 0:00:00.013\n",
      "\n",
      "GAMS WORKING DIRECTORY: D:\\Optimization-Notebook\\RO/output\n",
      "\n"
     ]
    },
    {
     "data": {
      "text/plain": "{'Problem': [{'Name': 'D:\\\\Optimization-Notebook\\\\RO/output\\\\model.gms', 'Lower bound': nan, 'Upper bound': 114.28571428571433, 'Number of objectives': 1, 'Number of constraints': 37.0, 'Number of variables': 35.0, 'Number of binary variables': None, 'Number of integer variables': 0.0, 'Number of continuous variables': 35.0, 'Number of nonzeros': 91.0, 'Sense': 'minimize'}], 'Solver': [{'Name': 'GAMS (43, 2, 0, 0)', 'Status': 'ok', 'Return code': 0, 'Message': None, 'User time': 0.008000107482076, 'System time': None, 'Wallclock time': None, 'Termination condition': 'optimal', 'Termination message': None}], 'Solution': [OrderedDict([('number of solutions', 0), ('number of solutions displayed', 0)])]}"
     },
     "execution_count": 62,
     "metadata": {},
     "output_type": "execute_result"
    }
   ],
   "source": [
    "solve_with_gams(m1)\n",
    "# m1.write(\"m1.lp\", io_options={'symbolic_solver_labels': True})"
   ],
   "metadata": {
    "collapsed": false,
    "pycharm": {
     "name": "#%%\n"
    }
   }
  },
  {
   "cell_type": "code",
   "execution_count": 63,
   "outputs": [
    {
     "name": "stdout",
     "output_type": "stream",
     "text": [
      "A : Technology Cost\n",
      "    Size=3, Index=t\n",
      "    Key  : Lower : Value              : Upper : Fixed : Stale : Domain\n",
      "      R1 :     0 :              150.0 :  None : False : False : NonNegativeReals\n",
      "      R2 :     0 : 14.285714285714286 :  None : False : False : NonNegativeReals\n",
      "    SEP1 :     0 : 228.57142857142858 :  None : False : False : NonNegativeReals\n",
      "B : Material Cost\n",
      "    Size=4, Index=j\n",
      "    Key : Lower : Value              : Upper : Fixed : Stale : Domain\n",
      "      A :  None :              500.0 :  None : False : False :  Reals\n",
      "      B :  None :  85.71428571428572 :  None : False : False :  Reals\n",
      "      C :  None :             -350.0 :  None : False : False :  Reals\n",
      "      D :  None : -514.2857142857143 :  None : False : False :  Reals\n"
     ]
    },
    {
     "data": {
      "text/plain": "(None, None)"
     },
     "execution_count": 63,
     "metadata": {},
     "output_type": "execute_result"
    }
   ],
   "source": [
    "m1.A.pprint(), m1.B.pprint()"
   ],
   "metadata": {
    "collapsed": false,
    "pycharm": {
     "name": "#%%\n"
    }
   }
  },
  {
   "cell_type": "code",
   "execution_count": 64,
   "outputs": [
    {
     "name": "stdout",
     "output_type": "stream",
     "text": [
      "{Member of F} : Flow rate of stream i speices j\n",
      "    Size=24, Index=F_index\n",
      "    Key      : Lower : Value : Upper : Fixed : Stale : Domain\n",
      "    (1, 'A') :     0 : 100.0 :  None : False : False : NonNegativeReals\n",
      "{Member of F} : Flow rate of stream i speices j\n",
      "    Size=24, Index=F_index\n",
      "    Key      : Lower : Value              : Upper : Fixed : Stale : Domain\n",
      "    (2, 'B') :     0 : 14.285714285714286 :  None : False : False : NonNegativeReals\n",
      "{Member of F} : Flow rate of stream i speices j\n",
      "    Size=24, Index=F_index\n",
      "    Key      : Lower : Value : Upper : Fixed : Stale : Domain\n",
      "    (5, 'C') :     0 :  50.0 :  None : False : False : NonNegativeReals\n",
      "{Member of F} : Flow rate of stream i speices j\n",
      "    Size=24, Index=F_index\n",
      "    Key      : Lower : Value             : Upper : Fixed : Stale : Domain\n",
      "    (6, 'D') :     0 : 64.28571428571429 :  None : False : False : NonNegativeReals\n"
     ]
    },
    {
     "data": {
      "text/plain": "(None, None, None, None)"
     },
     "execution_count": 64,
     "metadata": {},
     "output_type": "execute_result"
    }
   ],
   "source": [
    "m1.F[1,\"A\"].pprint(), m1.F[2,\"B\"].pprint(), m1.F[5,\"C\"].pprint(), m1.F[6,\"D\"].pprint()"
   ],
   "metadata": {
    "collapsed": false,
    "pycharm": {
     "name": "#%%\n"
    }
   }
  },
  {
   "cell_type": "code",
   "execution_count": 65,
   "outputs": [],
   "source": [
    "# for constraint in m1.component_objects(Constraint, active=True):\n",
    "#     constraint_object = getattr(m1, str(constraint))\n",
    "#     for index in constraint_object:\n",
    "#         print(f\"Constraint {constraint}: {constraint_object[index].expr}\")"
   ],
   "metadata": {
    "collapsed": false,
    "pycharm": {
     "name": "#%%\n"
    }
   }
  },
  {
   "cell_type": "markdown",
   "source": [
    "As we can see, in the nominal condition, the system is trying select rxn A  while doing minimum rxn B for demand constraints. Now, we do an experiment to formulate a robust version that considers a 20% uncertainty in Feed A and B."
   ],
   "metadata": {
    "collapsed": false,
    "pycharm": {
     "name": "#%% md\n"
    }
   }
  },
  {
   "cell_type": "markdown",
   "source": [
    "### Robust Formulation\n",
    "\n",
    "We first try to incorporate the constraint only at the variable directly associated with the uncertainty parameters.\n",
    "\n",
    "\\begin{align*}\n",
    "    & F_{1, A} + max\\{-\\epsilon_A Q^{Sup}_{A} \\} \\le Q^{Sup}_{A}  \\\\\n",
    "    & F_{2, B} + max\\{-\\epsilon_B Q^{Sup}_{B} \\} \\le Q^{Sup}_{B} \\\\\n",
    "    & -0.3 \\le \\epsilon_A \\le 0.1 \\\\\n",
    "    & -0.1 \\le \\epsilon_B \\le 0.2 \\\\\n",
    "\\end{align*}\n",
    "\n",
    "Given that it is a box uncertainty set and the subproblem is linear with nonnegative variables, we can apply properties. However, to preserve the problem in more general way, we do below so it applies to subproblems that we cannot apply properties to.\n",
    "\n",
    "\\begin{align*}\n",
    "    & F_{1, A} + u_A  \\le Q^{Sup}_{A} \\\\\n",
    "    & F_{2, B} + u_B  \\le Q^{Sup}_{B} \\\\\n",
    "    & -\\epsilon_A Q^{Sup}_{A} \\le u_A \\\\\n",
    "    & -\\epsilon_B Q^{Sup}_{B} \\le u_B \\\\\n",
    "    & -0.2 \\le \\epsilon_A \\le 0.2 \\\\\n",
    "    & -0.1 \\le \\epsilon_B \\le 0.1 \\\\\n",
    "\\end{align*}\n",
    "\n",
    "We leave everything else intact"
   ],
   "metadata": {
    "collapsed": false,
    "pycharm": {
     "name": "#%% md\n"
    }
   }
  },
  {
   "cell_type": "code",
   "execution_count": 66,
   "outputs": [],
   "source": [
    "def build_DM():\n",
    "    m = ConcreteModel()\n",
    "\n",
    "    m.i = Set(initialize=[1,2,3,4,5,6], doc=\"streams\")\n",
    "    m.j = Set(initialize=[\"A\",\"B\",\"C\",\"D\"])\n",
    "    m.t = Set(initialize=[\"R1\",\"R2\",\"SEP1\"])\n",
    "    m.jfeed = Set(initialize=[\"A\", \"B\"])\n",
    "\n",
    "    m.Qsup = Param(m.j,initialize={\"A\": 100, \"B\": 100})\n",
    "    m.Qdem = Param(m.j,initialize={\"C\": 50, \"D\": 50})\n",
    "    m.theta = Param(m.t,m.j,initialize={(\"R1\",\"A\"): -1, (\"R1\",\"B\"): 0, (\"R1\",\"C\"): 0.4, (\"R1\",\"D\"): 0.6,\n",
    "                                        (\"R2\",\"A\"): 0, (\"R2\",\"B\"): -1, (\"R2\",\"C\"): 0.7, (\"R2\",\"D\"): 0.3,\n",
    "                                        })\n",
    "    m.alpha = Param(m.t,initialize={\"R1\": 1.5, \"R2\": 1, \"SEP1\": 2})\n",
    "    m.beta = Param(m.j,initialize={\"A\": 5, \"B\": 6, \"C\": -7, \"D\": -8})\n",
    "\n",
    "    m.F = Var(m.i, m.j, domain=NonNegativeReals, doc=\"Flow rate of stream i speices j\")\n",
    "\n",
    "    m.eps = Var(m.jfeed, domain=Reals, doc=\"uncertainty(Phi: adjustable parameter)\")\n",
    "    m.u = Var(m.jfeed, domain=Reals, doc=\"aux var: maximum of uncertainty\")\n",
    "\n",
    "    for jf in m.jfeed:\n",
    "        if jf == \"A\":\n",
    "            m.eps[jf].setlb(-0.2)\n",
    "            m.eps[jf].setub(0.2)\n",
    "        elif jf == \"B\":\n",
    "            m.eps[jf].setlb(-0.1)\n",
    "            m.eps[jf].setub(0.1)\n",
    "        else:\n",
    "            pass\n",
    "\n",
    "    m.W = Var(m.t, domain=NonNegativeReals, doc=\"Technology Capacity\")\n",
    "    m.A = Var(m.t, domain=NonNegativeReals, doc=\"Technology Cost\")\n",
    "    m.B = Var(m.j, domain=Reals, doc=\"Material Cost\")\n",
    "\n",
    "    def _csupply(m, j):\n",
    "        if j == \"A\":\n",
    "            return m.F[1,j] + m.u[j] <= m.Qsup[j]\n",
    "        elif j == \"B\":\n",
    "            return m.F[2,j] + m.u[j] <= m.Qsup[j]\n",
    "        raise IndexError\n",
    "    m.csupply = Constraint(m.jfeed, rule=_csupply)\n",
    "\n",
    "    def _csupply_ro(m, j):\n",
    "        if j == \"A\":\n",
    "            return -m.Qsup[j] * m.eps[j] <= m.u[j]\n",
    "        elif j == \"B\":\n",
    "            return -m.Qsup[j] * m.eps[j] <= m.u[j]\n",
    "        raise IndexError\n",
    "    m.csupply_ro = Constraint(m.jfeed, rule=_csupply_ro)\n",
    "\n",
    "    def _cdemand(m, j):\n",
    "        if not j in {\"C\",\"D\"}:\n",
    "            return Constraint.Skip\n",
    "        if j == \"C\":\n",
    "            return m.F[5,j] >= m.Qdem[j]\n",
    "        elif j == \"D\":\n",
    "            return m.F[6,j] >= m.Qdem[j]\n",
    "        raise IndexError\n",
    "    m.cdemand = Constraint(m.j, rule=_cdemand)\n",
    "\n",
    "    def _cfeed(m, i, j):\n",
    "        if not i in {1,2}:\n",
    "            return Constraint.Skip\n",
    "        if not (i,j) in {(1,\"A\"), (2,\"B\")}:\n",
    "            return m.F[i,j] == 0\n",
    "        return Constraint.Skip\n",
    "    m.cfeed = Constraint(m.i, m.j, rule=_cfeed)\n",
    "\n",
    "    def _cR1(m, j):\n",
    "        return m.F[3,j] - m.F[1,j] == m.theta[\"R1\",j] * m.F[1,\"A\"]\n",
    "    m.cR1 = Constraint(m.j, rule=_cR1)\n",
    "\n",
    "    def _cR2(m, j):\n",
    "        return m.F[4,j] - m.F[2,j] == m.theta[\"R2\",j] * m.F[2,\"B\"]\n",
    "    m.cR2 = Constraint(m.j, rule=_cR2)\n",
    "\n",
    "    def _csep(m, j):\n",
    "        if j != \"D\":\n",
    "            return m.F[3,j] + m.F[4,j] == m.F[5,j]\n",
    "        return m.F[3,j] + m.F[4,j] ==  m.F[6,j]\n",
    "    m.csep = Constraint(m.j, rule=_csep)\n",
    "\n",
    "    def _csep2(m, j):\n",
    "        return m.F[3,j] + m.F[4,j] == m.F[5,j] + m.F[6,j]\n",
    "    m.csep2 = Constraint(m.j, rule=_csep2)\n",
    "\n",
    "    def _ccap(m, t):\n",
    "        if t == \"R1\":\n",
    "            return m.W[t] >= m.F[1,\"A\"]\n",
    "        elif t == \"R2\":\n",
    "            return m.W[t] >= m.F[2,\"B\"]\n",
    "        elif t == \"SEP1\":\n",
    "            return m.W[t] >= sum(m.F[3,j] + m.F[4,j] for j in m.j)\n",
    "        raise IndexError\n",
    "    m.ccap = Constraint(m.t, rule=_ccap)\n",
    "\n",
    "    def _techcost(m, t):\n",
    "        return m.alpha[t] * m.W[t] == m.A[t]\n",
    "    m.techcost = Constraint(m.t, rule=_techcost)\n",
    "\n",
    "    def _matcost(m, j):\n",
    "        if j == \"A\":\n",
    "            return m.beta[j] * m.F[1, j] == m.B[j]\n",
    "        elif j == \"B\":\n",
    "            return m.beta[j] * m.F[2, j] == m.B[j]\n",
    "        elif j == \"C\":\n",
    "            return m.beta[j] * m.F[5, j] == m.B[j]\n",
    "        elif j == \"D\":\n",
    "            return m.beta[j] * m.F[6, j] == m.B[j]\n",
    "        raise IndexError\n",
    "    m.matcost = Constraint(m.j, rule=_matcost)\n",
    "\n",
    "    m.obj = Objective(expr=sum(m.A[t] for t in m.t) + sum(m.B[j] for j in m.j),  sense=minimize)\n",
    "\n",
    "    return m\n",
    "\n",
    "m2 = build_DM()"
   ],
   "metadata": {
    "collapsed": false,
    "pycharm": {
     "name": "#%%\n"
    }
   }
  },
  {
   "cell_type": "code",
   "execution_count": 67,
   "outputs": [
    {
     "name": "stdout",
     "output_type": "stream",
     "text": [
      "--- Job model.gms Start 12/03/23 01:08:21 43.2.0 859d62d5 WEX-WEI x86 64bit/MS Windows\n",
      "--- Applying:\n",
      "    C:\\GAMS\\43\\gmsprmNT.txt\n",
      "    C:\\Users\\justi\\OneDrive\\Documents\\GAMS\\gamsconfig.yaml\n",
      "--- GAMS Parameters defined\n",
      "    Input D:\\Optimization-Notebook\\RO\\output\\model.gms\n",
      "    Output D:\\Optimization-Notebook\\RO\\output\\output.lst\n",
      "    ScrDir D:\\Optimization-Notebook\\RO\\output\\225a\\\n",
      "    SysDir C:\\GAMS\\43\\\n",
      "    CurDir D:\\Optimization-Notebook\\RO\\output\\\n",
      "    LogOption 3\n",
      "Licensee: Small MUD - 5 User License                     G221121|0002AP-GEN\n",
      "          University of Delaware, Chemical and Biomolecular EngineeriDC3967\n",
      "          C:\\GAMS\\43\\gamslice.txt\n",
      "          License Admin: Marianthi Ierapetritou, mgi@udel.edu              \n",
      "Processor information: 1 socket(s), 10 core(s), and 20 thread(s) available\n",
      "GAMS 43.2.0   Copyright (C) 1987-2023 GAMS Development. All rights reserved\n",
      "--- Starting compilation\n",
      "--- model.gms(278) 2 Mb\n",
      "--- Starting execution: elapsed 0:00:00.008\n",
      "--- model.gms(143) 3 Mb\n",
      "--- Generating LP model GAMS_MODEL\n",
      "--- model.gms(147) 3 Mb\n",
      "---   39 rows  39 columns  97 non-zeroes\n",
      "--- Range statistics (absolute non-zero finite values)\n",
      "--- RHS       [min, max] : [ 5.000E+01, 1.000E+02] - Zero values observed as well\n",
      "--- Bound     [min, max] : [ 1.000E-01, 2.000E-01] - Zero values observed as well\n",
      "--- Matrix    [min, max] : [ 3.000E-01, 1.000E+02]\n",
      "--- Executing IPOPTH (Solvelink=5): elapsed 0:00:00.011\n",
      "\n",
      "COIN-OR Ipopt    43.2.0 859d62d5 May 4, 2023           WEI x86 64bit/MS Window\n",
      "\n",
      "COIN-OR Interior Point Optimizer (Ipopt Library 3.14.12)\n",
      "written by A. Waechter, commercially supported by GAMS Development Corp.\n",
      "\n",
      "******************************************************************************\n",
      "This program contains Ipopt, a library for large-scale nonlinear optimization.\n",
      " Ipopt is released as open source code under the Eclipse Public License (EPL).\n",
      "         For more information visit https://github.com/coin-or/Ipopt\n",
      "******************************************************************************\n",
      "\n",
      "This is Ipopt version 3.14.12, running with linear solver ma27.\n",
      "\n",
      "Number of nonzeros in equality constraint Jacobian...:       66\n",
      "Number of nonzeros in inequality constraint Jacobian.:       23\n",
      "Number of nonzeros in Lagrangian Hessian.............:        0\n",
      "\n",
      "Total number of variables............................:       38\n",
      "                     variables with only lower bounds:       30\n",
      "                variables with lower and upper bounds:        2\n",
      "                     variables with only upper bounds:        0\n",
      "Total number of equality constraints.................:       29\n",
      "Total number of inequality constraints...............:        9\n",
      "        inequality constraints with only lower bounds:        0\n",
      "   inequality constraints with lower and upper bounds:        0\n",
      "        inequality constraints with only upper bounds:        9\n",
      "\n",
      "iter    objective    inf_pr   inf_du lg(mu)  ||d||  lg(rg) alpha_du alpha_pr  ls\n",
      "   0  3.0000000e-02 5.00e+01 1.00e+00   0.0 0.00e+00    -  0.00e+00 0.00e+00   0\n",
      "   1  2.5937416e-02 5.00e+01 3.86e+00  -1.2 5.03e+01    -  4.80e-02 9.84e-03h  1\n",
      "   2  5.0918116e-01 4.98e+01 1.82e+01   1.4 3.96e+02    -  1.58e-04 3.42e-03f  1\n",
      "   3  3.9672897e+01 3.35e+01 3.94e+02   0.6 4.03e+02    -  3.23e-03 3.24e-01f  1\n",
      "   4  6.6596799e+01 2.22e+01 2.62e+02   0.2 2.71e+02    -  3.78e-01 3.35e-01h  1\n",
      "   5  1.1869512e+02 3.55e-04 2.44e+01  -0.1 1.80e+02    -  8.50e-01 9.90e-01h  1\n",
      "   6  1.1768910e+02 3.55e-06 8.63e+02  -0.6 1.62e+01    -  8.26e-01 9.90e-01h  1\n",
      "   7  1.1560575e+02 2.33e-06 1.82e+05  -0.7 4.08e+02    -  7.07e-01 3.45e-01f  2\n",
      "   8  1.1497128e+02 1.79e-06 3.44e+05  -0.9 1.52e+02    -  7.20e-01 2.32e-01f  3\n",
      "   9  1.1262831e+02 1.30e-07 3.47e+04  -2.0 1.00e+02    -  8.99e-01 1.00e+00f  1\n",
      "iter    objective    inf_pr   inf_du lg(mu)  ||d||  lg(rg) alpha_du alpha_pr  ls\n",
      "  10  1.1250189e+02 1.37e-08 7.27e+02  -3.7 6.33e+00    -  9.79e-01 9.96e-01f  1\n",
      "  11  1.1250002e+02 6.96e-11 7.42e+00  -8.7 6.29e-02    -  9.90e-01 9.90e-01f  1\n",
      "  12  1.1250000e+02 3.29e-13 2.36e+00 -10.7 9.20e-04    -  9.95e-01 9.95e-01h  1\n",
      "  13  1.1250000e+02 4.49e-15 1.31e+02 -11.0 8.05e-02    -  9.96e-01 9.97e-01h  1\n",
      "  14  1.1250000e+02 1.14e-13 1.59e+02  -7.6 5.72e+04    -  8.55e-03 6.42e-02f  1\n",
      "  15  1.1250000e+02 1.14e-13 1.04e+02  -7.6 5.56e+04    -  1.07e-01 2.98e-02f  1\n",
      "  16  1.1250000e+02 2.84e-14 1.27e+02  -7.6 5.60e+04    -  1.56e-01 2.39e-01f  1\n",
      "  17  1.1250000e+02 1.64e-14 8.14e+01  -7.6 5.17e+04    -  4.73e-01 5.12e-01f  1\n",
      "  18  1.1250000e+02 5.25e-15 2.16e+01  -7.6 4.22e+04    -  9.16e-01 1.00e+00f  1\n",
      "  19  1.1250000e+02 7.11e-15 3.41e-13  -7.6 1.28e+04    -  1.00e+00 1.00e+00h  1\n",
      "iter    objective    inf_pr   inf_du lg(mu)  ||d||  lg(rg) alpha_du alpha_pr  ls\n",
      "  20  1.1250000e+02 7.11e-15 9.59e-14  -9.0 1.07e+01    -  1.00e+00 1.00e+00h  1\n",
      "\n",
      "Number of Iterations....: 20\n",
      "\n",
      "                                   (scaled)                 (unscaled)\n",
      "Objective...............:   1.1249999999646741e+02    1.1249999999646741e+02\n",
      "Dual infeasibility......:   9.5923269327613525e-14    9.5923269327613525e-14\n",
      "Constraint violation....:   7.1054273576010019e-15    7.1054273576010019e-15\n",
      "Variable bound violation:   9.8633226850236798e-32    9.8633226850236798e-32\n",
      "Complementarity.........:   9.2839920699361322e-10    9.2839920699361322e-10\n",
      "Overall NLP error.......:   9.2839920699361322e-10    9.2839920699361322e-10\n",
      "\n",
      "\n",
      "Number of objective function evaluations             = 24\n",
      "Number of objective gradient evaluations             = 1\n",
      "Number of equality constraint evaluations            = 24\n",
      "Number of inequality constraint evaluations          = 24\n",
      "Number of equality constraint Jacobian evaluations   = 1\n",
      "Number of inequality constraint Jacobian evaluations = 1\n",
      "Number of Lagrangian Hessian evaluations             = 20\n",
      "Total seconds in IPOPT                               = 0.005\n",
      "\n",
      "EXIT: Optimal Solution Found.\n",
      "--- Reading solution for model GAMS_MODEL\n",
      "--- Executing after solve: elapsed 0:00:00.035\n",
      "--- model.gms(278) 3 Mb\n",
      "--- Putfile results D:\\Optimization-Notebook\\RO\\output\\results.dat\n",
      "--- Putfile statresults D:\\Optimization-Notebook\\RO\\output\\resultsstat.dat\n",
      "*** Status: Normal completion\n",
      "--- Job model.gms Stop 12/03/23 01:08:21 elapsed 0:00:00.036\n",
      "\n",
      "GAMS WORKING DIRECTORY: D:\\Optimization-Notebook\\RO/output\n",
      "\n"
     ]
    },
    {
     "data": {
      "text/plain": "{'Problem': [{'Name': 'D:\\\\Optimization-Notebook\\\\RO/output\\\\model.gms', 'Lower bound': nan, 'Upper bound': 112.49999999646741, 'Number of objectives': 1, 'Number of constraints': 39.0, 'Number of variables': 39.0, 'Number of binary variables': None, 'Number of integer variables': 0.0, 'Number of continuous variables': 39.0, 'Number of nonzeros': 97.0, 'Sense': 'minimize'}], 'Solver': [{'Name': 'GAMS (43, 2, 0, 0)', 'Status': 'ok', 'Return code': 0, 'Message': None, 'User time': 0.027000205591321, 'System time': None, 'Wallclock time': None, 'Termination condition': 'optimal', 'Termination message': None}], 'Solution': [OrderedDict([('number of solutions', 0), ('number of solutions displayed', 0)])]}"
     },
     "execution_count": 67,
     "metadata": {},
     "output_type": "execute_result"
    }
   ],
   "source": [
    "solve_with_gams(m2, solver=\"ipopth\")"
   ],
   "metadata": {
    "collapsed": false,
    "pycharm": {
     "name": "#%%\n"
    }
   }
  },
  {
   "cell_type": "code",
   "execution_count": 68,
   "outputs": [
    {
     "name": "stdout",
     "output_type": "stream",
     "text": [
      "A : Technology Cost\n",
      "    Size=3, Index=t\n",
      "    Key  : Lower : Value              : Upper : Fixed : Stale : Domain\n",
      "      R1 :     0 : 187.49999988936673 :  None : False : False : NonNegativeReals\n",
      "      R2 :     0 :      3.6725835e-08 :  None : False : False : NonNegativeReals\n",
      "    SEP1 :     0 : 249.99999992392503 :  None : False : False : NonNegativeReals\n",
      "B : Material Cost\n",
      "    Size=4, Index=j\n",
      "    Key : Lower : Value               : Upper : Fixed : Stale : Domain\n",
      "      A :  None :   624.9999996286922 :  None : False : False :  Reals\n",
      "      B :  None :      2.15217179e-07 :  None : False : False :  Reals\n",
      "      C :  None : -349.99999996782833 :  None : False : False :  Reals\n",
      "      D :  None :  -599.9999997296313 :  None : False : False :  Reals\n"
     ]
    },
    {
     "data": {
      "text/plain": "(None, None)"
     },
     "execution_count": 68,
     "metadata": {},
     "output_type": "execute_result"
    }
   ],
   "source": [
    "m2.A.pprint(), m2.B.pprint()"
   ],
   "metadata": {
    "collapsed": false,
    "pycharm": {
     "name": "#%%\n"
    }
   }
  },
  {
   "cell_type": "code",
   "execution_count": 69,
   "outputs": [
    {
     "name": "stdout",
     "output_type": "stream",
     "text": [
      "{Member of F} : Flow rate of stream i speices j\n",
      "    Size=24, Index=F_index\n",
      "    Key      : Lower : Value              : Upper : Fixed : Stale : Domain\n",
      "    (1, 'A') :     0 : 124.99999992573844 :  None : False : False : NonNegativeReals\n",
      "{Member of F} : Flow rate of stream i speices j\n",
      "    Size=24, Index=F_index\n",
      "    Key      : Lower : Value        : Upper : Fixed : Stale : Domain\n",
      "    (2, 'B') :     0 : 3.586953e-08 :  None : False : False : NonNegativeReals\n",
      "{Member of F} : Flow rate of stream i speices j\n",
      "    Size=24, Index=F_index\n",
      "    Key      : Lower : Value              : Upper : Fixed : Stale : Domain\n",
      "    (5, 'C') :     0 : 49.999999995404046 :  None : False : False : NonNegativeReals\n",
      "{Member of F} : Flow rate of stream i speices j\n",
      "    Size=24, Index=F_index\n",
      "    Key      : Lower : Value             : Upper : Fixed : Stale : Domain\n",
      "    (6, 'D') :     0 : 74.99999996620392 :  None : False : False : NonNegativeReals\n"
     ]
    },
    {
     "data": {
      "text/plain": "(None, None, None, None)"
     },
     "execution_count": 69,
     "metadata": {},
     "output_type": "execute_result"
    }
   ],
   "source": [
    "m2.F[1,\"A\"].pprint(), m2.F[2,\"B\"].pprint(), m2.F[5,\"C\"].pprint(), m2.F[6,\"D\"].pprint()"
   ],
   "metadata": {
    "collapsed": false,
    "pycharm": {
     "name": "#%%\n"
    }
   }
  },
  {
   "cell_type": "code",
   "execution_count": 70,
   "outputs": [
    {
     "name": "stdout",
     "output_type": "stream",
     "text": [
      "eps : uncertainty(Phi: adjustable parameter)\n",
      "    Size=2, Index=jfeed\n",
      "    Key : Lower : Value              : Upper : Fixed : Stale : Domain\n",
      "      A :  -0.2 : -0.004247842147799 :   0.2 : False : False :  Reals\n",
      "      B :  -0.1 : -0.001082959026694 :   0.1 : False : False :  Reals\n"
     ]
    }
   ],
   "source": [
    "m2.eps.pprint()"
   ],
   "metadata": {
    "collapsed": false,
    "pycharm": {
     "name": "#%%\n"
    }
   }
  },
  {
   "cell_type": "markdown",
   "source": [
    "### Now we consider a case with coefficient uncertainty\n",
    "\n",
    "A very small example:\n",
    "\n",
    "$$ A \\longrightarrow C \\quad \\text{RXN1}$$\n",
    "$$ B \\longrightarrow C \\quad \\quad \\text{RXN2}$$\n",
    "\n",
    "\n"
   ],
   "metadata": {
    "collapsed": false,
    "pycharm": {
     "name": "#%% md\n"
    }
   }
  },
  {
   "cell_type": "code",
   "execution_count": 70,
   "outputs": [],
   "source": [],
   "metadata": {
    "collapsed": false,
    "pycharm": {
     "name": "#%%\n"
    }
   }
  },
  {
   "cell_type": "markdown",
   "source": [],
   "metadata": {
    "collapsed": false,
    "pycharm": {
     "name": "#%% md\n"
    }
   }
  }
 ],
 "metadata": {
  "kernelspec": {
   "display_name": "Python 3",
   "language": "python",
   "name": "python3"
  },
  "language_info": {
   "codemirror_mode": {
    "name": "ipython",
    "version": 2
   },
   "file_extension": ".py",
   "mimetype": "text/x-python",
   "name": "python",
   "nbconvert_exporter": "python",
   "pygments_lexer": "ipython2",
   "version": "2.7.6"
  }
 },
 "nbformat": 4,
 "nbformat_minor": 0
}