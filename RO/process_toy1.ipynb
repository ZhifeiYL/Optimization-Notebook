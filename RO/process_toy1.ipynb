{
 "cells": [
  {
   "cell_type": "markdown",
   "source": [
    "## A  Simple Cast Study to Understand about Robust Optimization in Process Optimzation"
   ],
   "metadata": {
    "collapsed": false,
    "pycharm": {
     "name": "#%% md\n"
    }
   }
  },
  {
   "cell_type": "code",
   "execution_count": 104,
   "outputs": [],
   "source": [
    "from pyomo.environ import *\n",
    "import os"
   ],
   "metadata": {
    "collapsed": false,
    "pycharm": {
     "name": "#%%\n"
    }
   }
  },
  {
   "cell_type": "markdown",
   "source": [
    "### Problem Description\n",
    "\n",
    "Imagine a process with two reactions when written in Mass Balance:\n",
    "\n",
    "$$ A \\longrightarrow 0.4 C + 0.6 D \\quad \\quad \\text{RXN1}$$\n",
    "$$ B \\longrightarrow 0.7 C + 0.3 D \\quad \\quad \\text{RXN2}$$\n",
    "\n",
    "The two reactions happen together in the reactor, and the product stream goes to a separator that performs a complete binary separation."
   ],
   "metadata": {
    "collapsed": false,
    "pycharm": {
     "name": "#%% md\n"
    }
   }
  },
  {
   "cell_type": "markdown",
   "source": [
    "![Optional Alt Text](illustrations/toy.png)"
   ],
   "metadata": {
    "collapsed": false,
    "pycharm": {
     "name": "#%% md\n"
    }
   }
  },
  {
   "cell_type": "markdown",
   "source": [
    "Nomenclature\n",
    "\n",
    "Sets\n",
    "\n",
    "\\begin{align*}\n",
    "    & I && \\quad \\text{Set of Streams: \\{1,2,3,4,5,6\\}} \\\\\n",
    "    & J && \\quad \\text{Set of Species: \\{A,B,C,D\\}} \\\\\n",
    "    & T && \\quad \\text{Set of Technologies: \\{R1, R2, SEP1\\}} \\\\\n",
    "\\end{align*}\n",
    "\n",
    "Parameters\n",
    "\n",
    "\\begin{align*}\n",
    "    & Q^{Load}_{j} && \\quad \\text{Mass flow rate of stream i for species j} \\\\\n",
    "    & \\theta_{t,j} \\quad  t \\in \\{R1, R2\\} && \\quad \\text{Conversion of technology t for species j} \\\\\n",
    "    & \\alpha_{t} && \\quad \\text{Cost coefficient of technology t} \\\\\n",
    "    & \\beta_{j} && \\quad \\text{Price of species j}\n",
    "\\end{align*}\n",
    "\n",
    "Variables\n",
    "\n",
    "\\begin{align*}\n",
    "    & F_{i,j} \\quad \\text{Mass flow rate of stream i for species j} \\\\\n",
    "    & W_{t} \\quad \\text{Capacity of technology t} \\\\\n",
    "    & A_{t} \\quad \\text{Cost of technology t} \\\\\n",
    "    & B_{j} \\quad \\text{Cost of species, Negative for products}\n",
    "\\end{align*}\n"
   ],
   "metadata": {
    "collapsed": false,
    "pycharm": {
     "name": "#%% md\n"
    }
   }
  },
  {
   "cell_type": "markdown",
   "source": [
    "### Feed Constraints\n",
    "\n",
    "First we begin with total supply of each feedstock we have.\n",
    "\n",
    "\\begin{align*}\n",
    "    & F_{1, A} \\le Q^{Load}_{A} \\\\\n",
    "    & F_{2, B} \\le Q^{Load}_{B} \\\\\n",
    "\\end{align*}\n",
    "\n",
    "We also requires the feed to be pure streams:\n",
    "\n",
    "\\begin{align*}\n",
    "    & F_{1, j} = 0 \\text{   if } j \\neq A \\\\\n",
    "    & F_{2, j} = 0 \\text{   if } j \\neq B \\\\\n",
    "\\end{align*}\n"
   ],
   "metadata": {
    "collapsed": false,
    "pycharm": {
     "name": "#%% md\n"
    }
   }
  },
  {
   "cell_type": "markdown",
   "source": [
    "### Mass Balances\n",
    "\n",
    "For the reactions, we have\n",
    "\n",
    "\\begin{align*}\n",
    "    & F_{3, j} - F_{1,j} = \\theta_{R1,j} F_{1,j} \\\\\n",
    "\\end{align*}\n",
    "\n",
    "\\begin{align*}\n",
    "    & F_{4, j} - F_{2,j} = \\theta_{R2,j} F_{2,j} \\\\\n",
    "\\end{align*}\n",
    "\n",
    "For the Separation:\n",
    "\n",
    "\\begin{align*}\n",
    "    & F_{3, j} + F_{4,j} = F_{5,j} \\text{   if } j = C \\\\\n",
    "\\end{align*}\n",
    "\n",
    "\\begin{align*}\n",
    "    & F_{3, j} + F_{4,j} = F_{6,j} \\text{   if } j \\neq C \\\\\n",
    "\\end{align*}\n",
    "\n",
    "This completes our mass balance."
   ],
   "metadata": {
    "collapsed": false,
    "pycharm": {
     "name": "#%% md\n"
    }
   }
  },
  {
   "cell_type": "markdown",
   "source": [
    "### Design Feasibility\n",
    "\n",
    "For the capacities:\n",
    "\n",
    "\\begin{align*}\n",
    "    & F_{1, A} \\le W_{R1} \\\\\n",
    "    & F_{2, B} \\le W_{R2} \\\\\n",
    "    & \\sum_{j} (F_{3, j} + F_{4, j}) \\le W_{R3} \\\\\n",
    "\\end{align*}\n",
    "\n",
    "This completes the design feasibility  constraints if we only consider the capacity."
   ],
   "metadata": {
    "collapsed": false,
    "pycharm": {
     "name": "#%% md\n"
    }
   }
  },
  {
   "cell_type": "markdown",
   "source": [
    "### Economics\n",
    "\n",
    "In this case, we assume a linear relationship between both capital and operating cost associated with technologies.\n",
    "\n",
    "\\begin{align*}\n",
    "    & A_{t} = \\alpha_{t} W_{t}  \\\\\n",
    "\\end{align*}\n",
    "\n",
    "As for the material cost/sales:\n",
    "\n",
    "\\begin{align*}\n",
    "    & B_{A} = \\beta_{A} F_{1,A}  \\\\\n",
    "    & B_{B} = \\beta_{B} F_{2,B}  \\\\\n",
    "    & B_{C} = \\beta_{C} F_{5,C}  \\\\\n",
    "    & B_{D} = \\beta_{D} F_{6,D}  \\\\\n",
    "\\end{align*}\n"
   ],
   "metadata": {
    "collapsed": false,
    "pycharm": {
     "name": "#%% md\n"
    }
   }
  },
  {
   "cell_type": "markdown",
   "source": [
    "### Deterministic Model\n",
    "\n",
    "\n",
    "$$  Min_{\\{F_{1,A}, F_{2,B}\\}} \\sum_{t \\in T} W_{t} + \\sum_{j \\in J} P_{j}  $$\n",
    "\n",
    "subject to\n",
    "\n",
    "\\begin{align*}\n",
    "    & F_{1, A} \\le Q^{Load}_{A} \\\\\n",
    "    & F_{2, B} \\le Q^{Load}_{B} \\\\\n",
    "    & F_{1, j} = 0 \\text{   if } j \\neq A \\\\\n",
    "    & F_{2, j} = 0 \\text{   if } j \\neq B \\\\\n",
    "    & F_{3, j} - F_{1,j} = \\theta_{R1,j} F_{1,j} \\\\\n",
    "    & F_{4, j} - F_{2,j} = \\theta_{R2,j} F_{2,j} \\\\\n",
    "    & F_{3, j} + F_{4,j} = F_{5,j} \\text{   if } j = C \\\\\n",
    "    & F_{3, j} + F_{4,j} = F_{6,j} \\text{   if } j \\neq C \\\\\n",
    "    & F_{1, A} \\le W_{R1} \\\\\n",
    "    & F_{2, B} \\le W_{R2} \\\\\n",
    "    & \\sum_{j} (F_{3, j} + F_{4, j}) \\le W_{R3} \\\\\n",
    "    & W_{R1} = \\alpha_{R1} F_{1,A}  \\\\\n",
    "    & W_{R2} = \\alpha_{R2} F_{2,B}  \\\\\n",
    "    & W_{SEP1} = \\alpha_{R3} \\sum_{j}(F_{3,j} + F_{4,j}) \\\\\n",
    "    & P_{A} = \\beta_{A} F_{1,A}  \\\\\n",
    "    & P_{B} = \\beta_{B} F_{2,B}  \\\\\n",
    "    & P_{C} = \\beta_{C} F_{5,C}  \\\\\n",
    "    & P_{D} = \\beta_{D} F_{6,D}  \\\\\n",
    "\\end{align*}\n"
   ],
   "metadata": {
    "collapsed": false,
    "pycharm": {
     "name": "#%% md\n"
    }
   }
  },
  {
   "cell_type": "code",
   "execution_count": 105,
   "outputs": [],
   "source": [
    "def build_DM():\n",
    "    m = ConcreteModel()\n",
    "\n",
    "    m.i = Set(initialize=[1,2,3,4,5,6], doc=\"streams\")\n",
    "    m.j = Set(initialize=[\"A\",\"B\",\"C\",\"D\"])\n",
    "    m.t = Set(initialize=[\"R1\",\"R2\",\"SEP1\"])\n",
    "\n",
    "    m.Qsup = Param(m.j,initialize={\"A\": 100, \"B\": 100})\n",
    "    m.theta = Param(m.t,m.j,initialize={(\"R1\",\"A\"): -1, (\"R1\",\"B\"): 0, (\"R1\",\"C\"): 0.4, (\"R1\",\"D\"): 0.6,\n",
    "                                        (\"R2\",\"A\"): 0, (\"R2\",\"B\"): -1, (\"R2\",\"C\"): 0.7, (\"R2\",\"D\"): 0.3,\n",
    "                                        })\n",
    "    m.alpha = Param(m.t,initialize={\"R1\": 1, \"R2\": 1.5, \"SEP1\": 2})\n",
    "    m.beta = Param(m.j,initialize={\"A\": 5, \"B\": 7, \"C\": -20, \"D\": -30})\n",
    "\n",
    "    m.F = Var(m.i, m.j, domain=NonNegativeReals, doc=\"Flow rate of stream i speices j\")\n",
    "    m.W = Var(m.t, domain=NonNegativeReals, doc=\"Technology Capacity\")\n",
    "    m.A = Var(m.t, domain=NonNegativeReals, doc=\"Technology Cost\")\n",
    "    m.B = Var(m.j, domain=NonNegativeReals, doc=\"Material Cost\")\n",
    "\n",
    "    def _csupply(m, j):\n",
    "        if not j in {\"A\",\"B\"}:\n",
    "            return Constraint.Skip\n",
    "        if j == \"A\":\n",
    "            return m.F[1,j] <= m.Qsup[j]\n",
    "        elif j == \"B\":\n",
    "            return m.F[2,j] <= m.Qsup[j]\n",
    "        raise IndexError\n",
    "    m.csupply = Constraint(m.j, rule=_csupply)\n",
    "\n",
    "    def _cfeed(m, i, j):\n",
    "        if not i in {1,2}:\n",
    "            return Constraint.Skip\n",
    "        if not (i,j) in {(1,\"A\"), (2,\"B\")}:\n",
    "            return m.F[i,j] == 0\n",
    "        return Constraint.Skip\n",
    "    m.cfeed = Constraint(m.i, m.j, rule=_cfeed)\n",
    "\n",
    "    def _cR1(m, j):\n",
    "        return m.F[3,j] - m.F[1,j] == m.theta[\"R1\",j] * m.F[1,\"A\"]\n",
    "    m.cR1 = Constraint(m.j, rule=_cR1)\n",
    "\n",
    "    def _cR2(m, j):\n",
    "        return m.F[4,j] - m.F[2,j] == m.theta[\"R2\",j] * m.F[2,\"B\"]\n",
    "    m.cR2 = Constraint(m.j, rule=_cR2)\n",
    "\n",
    "    def _csep(m, j):\n",
    "        if not j in {\"D\"} and j == 5:\n",
    "            return m.F[3,j] + m.F[4,j] == m.F[5,j]\n",
    "        return m.F[3,j] + m.F[4,j] ==  m.F[6,j]\n",
    "    m.csep = Constraint(m.j, rule=_csep)\n",
    "\n",
    "    def _csep2(m, j):\n",
    "        return m.F[3,j] + m.F[4,j] == m.F[5,j] + m.F[6,j]\n",
    "    m.csep2 = Constraint(m.j, rule=_csep2)\n",
    "\n",
    "    def _ccap(m, t):\n",
    "        if t == \"R1\":\n",
    "            return m.W[t] >= m.F[1,\"A\"]\n",
    "        elif t == \"R2\":\n",
    "            return m.W[t] >= m.F[2,\"B\"]\n",
    "        elif t == \"SEP1\":\n",
    "            return m.W[t] >= sum(m.F[3,j] + m.F[4,j] for j in m.j)\n",
    "        raise IndexError\n",
    "    m.ccap = Constraint(m.t, rule=_ccap)\n",
    "\n",
    "    def _techcost(m, t):\n",
    "        return m.alpha[t] * m.W[t] == m.A[t]\n",
    "    m.techcost = Constraint(m.t, rule=_techcost)\n",
    "\n",
    "    def _matcost(m, j):\n",
    "        if j == \"A\":\n",
    "            return m.beta[j] * m.F[1, j] == m.B[j]\n",
    "        elif j == \"B\":\n",
    "            return m.beta[j] * m.F[2, j] == m.B[j]\n",
    "        elif j == \"C\":\n",
    "            return m.beta[j] * m.F[5, j] == m.B[j]\n",
    "        elif j == \"D\":\n",
    "            return m.beta[j] * m.F[6, j] == m.B[j]\n",
    "        raise IndexError\n",
    "    m.matcost = Constraint(m.j, rule=_matcost)\n",
    "\n",
    "    m.obj = Objective(expr=sum(m.A[t] for t in m.t) + sum(m.B[j] for j in m.j),  sense=minimize)\n",
    "\n",
    "    return m\n",
    "\n",
    "m1 = build_DM()"
   ],
   "metadata": {
    "collapsed": false,
    "pycharm": {
     "name": "#%%\n"
    }
   }
  },
  {
   "cell_type": "code",
   "execution_count": 106,
   "outputs": [],
   "source": [
    "def solve_with_gams(m):\n",
    "    opt1 = SolverFactory('gams')\n",
    "    io_options = dict()\n",
    "\n",
    "    io_options['solver'] = \"cplex\"\n",
    "    res1 = opt1.solve(m,\n",
    "        tee=True,\n",
    "        add_options = ['option reslim=1000; option optcr=0.0;'],\n",
    "        io_options=io_options)\n",
    "    return res1\n",
    "\n",
    "def solve_with_gurobi(m):\n",
    "    opt1 = SolverFactory(\"gurobi_persistent\")\n",
    "    opt1.set_instance(m)\n",
    "    res1 = opt1.solve()\n",
    "    return res1"
   ],
   "metadata": {
    "collapsed": false,
    "pycharm": {
     "name": "#%%\n"
    }
   }
  },
  {
   "cell_type": "code",
   "execution_count": 107,
   "outputs": [
    {
     "name": "stdout",
     "output_type": "stream",
     "text": [
      "--- Job model.gms Start 12/01/23 19:42:32 43.2.0 859d62d5 WEX-WEI x86 64bit/MS Windows\n",
      "--- Applying:\n",
      "    C:\\GAMS\\43\\gmsprmNT.txt\n",
      "    C:\\Users\\justi\\OneDrive\\Documents\\GAMS\\gamsconfig.yaml\n",
      "--- GAMS Parameters defined\n",
      "    Input C:\\Users\\justi\\AppData\\Local\\Temp\\tmpf2xajqap\\model.gms\n",
      "    Output C:\\Users\\justi\\AppData\\Local\\Temp\\tmpf2xajqap\\output.lst\n",
      "    ScrDir C:\\Users\\justi\\AppData\\Local\\Temp\\tmpf2xajqap\\225a\\\n",
      "    SysDir C:\\GAMS\\43\\\n",
      "    CurDir C:\\Users\\justi\\AppData\\Local\\Temp\\tmpf2xajqap\\\n",
      "    LogOption 3\n",
      "Licensee: Small MUD - 5 User License                     G221121|0002AP-GEN\n",
      "          University of Delaware, Chemical and Biomolecular EngineeriDC3967\n",
      "          C:\\GAMS\\43\\gamslice.txt\n",
      "          License Admin: Marianthi Ierapetritou, mgi@udel.edu              \n",
      "Processor information: 1 socket(s), 10 core(s), and 20 thread(s) available\n",
      "GAMS 43.2.0   Copyright (C) 1987-2023 GAMS Development. All rights reserved\n",
      "--- Starting compilation\n",
      "--- model.gms(251) 2 Mb\n",
      "--- Starting execution: elapsed 0:00:00.011\n",
      "--- model.gms(126) 3 Mb\n",
      "--- Generating LP model GAMS_MODEL\n",
      "--- model.gms(130) 3 Mb\n",
      "---   33 rows  33 columns  79 non-zeroes\n",
      "--- Range statistics (absolute non-zero finite values)\n",
      "--- RHS       [min, max] : [ 1.500E+01, 3.500E+02] - Zero values observed as well\n",
      "--- Bound     [min, max] : [        NA,        NA] - Zero values observed as well\n",
      "--- Matrix    [min, max] : [ 1.000E+00, 3.000E+01]\n",
      "--- Executing CPLEX (Solvelink=5): elapsed 0:00:00.014\n",
      "\n",
      "IBM ILOG CPLEX   43.2.0 859d62d5 May 4, 2023           WEI x86 64bit/MS Window\n",
      "\n",
      "--- GAMS/CPLEX licensed for continuous and discrete problems.\n",
      "--- GMO setup time: 0.00s\n",
      "--- GMO memory 0.50 Mb (peak 0.51 Mb)\n",
      "--- Dictionary memory 0.00 Mb\n",
      "--- Cplex 22.1.1.0 link memory 0.00 Mb (peak 0.00 Mb)\n",
      "--- Starting Cplex\n",
      "\n",
      "Version identifier: 22.1.1.0 | 2022-11-27 | 9160aff4d\n",
      "CPXPARAM_Advance                                 0\n",
      "CPXPARAM_Threads                                 1\n",
      "CPXPARAM_MIP_Display                             4\n",
      "CPXPARAM_MIP_Pool_Capacity                       0\n",
      "CPXPARAM_TimeLimit                               1000\n",
      "CPXPARAM_MIP_Tolerances_AbsMIPGap                0\n",
      "CPXPARAM_MIP_Tolerances_MIPGap                   0\n",
      "Infeasible column 'x32'.\n",
      "Presolve time = 0.00 sec. (0.01 ticks)\n",
      "\n",
      "--- LP status (3): infeasible.\n",
      "--- Cplex Time: 0.00sec (det. 0.01 ticks)\n",
      "\n",
      "--- Model has been proven infeasible\n",
      "--- Reading solution for model GAMS_MODEL\n",
      "--- Executing after solve: elapsed 0:00:00.023\n",
      "--- model.gms(251) 3 Mb\n",
      "--- Putfile results C:\\Users\\justi\\AppData\\Local\\Temp\\tmpf2xajqap\\results.dat\n",
      "--- Putfile statresults C:\\Users\\justi\\AppData\\Local\\Temp\\tmpf2xajqap\\resultsstat.dat\n",
      "*** Status: Normal completion\n",
      "--- Job model.gms Stop 12/01/23 19:42:32 elapsed 0:00:00.025\n"
     ]
    },
    {
     "data": {
      "text/plain": "('m1.lp', 2414978276880)"
     },
     "execution_count": 107,
     "metadata": {},
     "output_type": "execute_result"
    }
   ],
   "source": [
    "m1.F[1, \"A\"].fix(50)\n",
    "m1.F[2, \"B\"].fix(50)\n",
    "solve_with_gams(m1)\n",
    "m1.write(\"m1.lp\", io_options={'symbolic_solver_labels': True})"
   ],
   "metadata": {
    "collapsed": false,
    "pycharm": {
     "name": "#%%\n"
    }
   }
  },
  {
   "cell_type": "code",
   "execution_count": 108,
   "outputs": [
    {
     "name": "stdout",
     "output_type": "stream",
     "text": [
      "A : Technology Cost\n",
      "    Size=3, Index=t\n",
      "    Key  : Lower : Value : Upper : Fixed : Stale : Domain\n",
      "      R1 :     0 :   0.0 :  None : False : False : NonNegativeReals\n",
      "      R2 :     0 :   0.0 :  None : False : False : NonNegativeReals\n",
      "    SEP1 :     0 :   0.0 :  None : False : False : NonNegativeReals\n",
      "B : Material Cost\n",
      "    Size=4, Index=j\n",
      "    Key : Lower : Value : Upper : Fixed : Stale : Domain\n",
      "      A :     0 :   0.0 :  None : False : False : NonNegativeReals\n",
      "      B :     0 :   0.0 :  None : False : False : NonNegativeReals\n",
      "      C :     0 :   0.0 :  None : False : False : NonNegativeReals\n",
      "      D :     0 :   0.0 :  None : False : False : NonNegativeReals\n"
     ]
    },
    {
     "data": {
      "text/plain": "(None, None)"
     },
     "execution_count": 108,
     "metadata": {},
     "output_type": "execute_result"
    }
   ],
   "source": [
    "m1.A.pprint(), m1.B.pprint()"
   ],
   "metadata": {
    "collapsed": false,
    "pycharm": {
     "name": "#%%\n"
    }
   }
  },
  {
   "cell_type": "code",
   "execution_count": 108,
   "outputs": [],
   "source": [],
   "metadata": {
    "collapsed": false,
    "pycharm": {
     "name": "#%%\n"
    }
   }
  }
 ],
 "metadata": {
  "kernelspec": {
   "display_name": "Python 3",
   "language": "python",
   "name": "python3"
  },
  "language_info": {
   "codemirror_mode": {
    "name": "ipython",
    "version": 2
   },
   "file_extension": ".py",
   "mimetype": "text/x-python",
   "name": "python",
   "nbconvert_exporter": "python",
   "pygments_lexer": "ipython2",
   "version": "2.7.6"
  }
 },
 "nbformat": 4,
 "nbformat_minor": 0
}