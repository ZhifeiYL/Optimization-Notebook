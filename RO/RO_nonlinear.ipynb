{
 "cells": [
  {
   "cell_type": "markdown",
   "source": [
    "## Reference Paper:\n",
    "\n",
    "Nonlinear robust optimization for process design\n",
    "\n",
    "DOI: 10.1002/aic.15950"
   ],
   "metadata": {
    "collapsed": false
   }
  },
  {
   "cell_type": "code",
   "execution_count": 16,
   "outputs": [],
   "source": [
    "from pyomo.environ import *\n",
    "import matplotlib.pyplot as plt\n",
    "import numpy as np\n",
    "import math\n",
    "from scipy.optimize import fsolve"
   ],
   "metadata": {
    "collapsed": false,
    "ExecuteTime": {
     "end_time": "2024-01-26T16:26:25.036103100Z",
     "start_time": "2024-01-26T16:26:25.006212Z"
    }
   }
  },
  {
   "cell_type": "code",
   "execution_count": 30,
   "outputs": [],
   "source": [
    "def solve_model(m):\n",
    "    opt1 = SolverFactory('gams')\n",
    "    io_options = dict()\n",
    "\n",
    "    io_options['solver'] = \"ipopth\"\n",
    "    res = opt1.solve(m,\n",
    "        tee=True,\n",
    "        add_options = ['option reslim=7200; option optcr=0.0; option limrow=5000'],\n",
    "        io_options=io_options)\n",
    "\n",
    "    return res"
   ],
   "metadata": {
    "collapsed": false,
    "pycharm": {
     "name": "#%%\n"
    },
    "ExecuteTime": {
     "end_time": "2024-01-26T16:51:48.011265800Z",
     "start_time": "2024-01-26T16:51:47.998276Z"
    }
   }
  },
  {
   "cell_type": "markdown",
   "source": [
    "### Illustrative example of the paper study\n",
    "\n",
    "\n",
    "\\begin{align*}\n",
    "    \\textbf{Min} & (x_1-2)^2 + (x_2-0.2)^2 \\\\\n",
    "    s.t. & \\frac{4.8-5sin(\\pi \\sqrt{t})}{1+t^2} x_1^2 - x_2 \\le 0 \\quad \\forall t \\in [0, 0.5]\\\\\n",
    "    & x_1 \\in [-1, 1], x_2 \\in [0, 0.2]\n",
    "\\end{align*}"
   ],
   "metadata": {
    "collapsed": false,
    "pycharm": {
     "name": "#%% md\n"
    }
   }
  },
  {
   "cell_type": "markdown",
   "source": [
    "#### An explicit way to write the uncertainty set as shown in equation (4):\n",
    "\n",
    "$$ S = \\{  s| \\quad ||M(s - s_1)|| \\le \\Delta \\} $$\n",
    "\n",
    "where M = 4, s_1 = 0.25, $\\Delta$ = 1"
   ],
   "metadata": {
    "collapsed": false
   }
  },
  {
   "cell_type": "code",
   "execution_count": 18,
   "outputs": [],
   "source": [
    "def det_ex1():\n",
    "    m = ConcreteModel()\n",
    "\n",
    "    m.x1 = Var(bounds=(-1,1))\n",
    "    m.x2 = Var(bounds=(0,0.2))\n",
    "\n",
    "    m.t = Param(initialize=0.25)\n",
    "\n",
    "    def det_constr(model):\n",
    "        return (4.8-5*math.sin(math.pi*math.sqrt(model.t))) / (1+model.t**2) * model.x1**2 - model.x2 <= 0\n",
    "    m.c1 = Constraint(rule=det_constr)\n",
    "\n",
    "    m.obj = Objective(expr=(m.x1-2)**2 + (m.x2-0.2)**2, sense=minimize)\n",
    "\n",
    "    return m"
   ],
   "metadata": {
    "collapsed": false,
    "pycharm": {
     "name": "#%%\n"
    },
    "ExecuteTime": {
     "end_time": "2024-01-26T16:26:25.096118500Z",
     "start_time": "2024-01-26T16:26:25.030091200Z"
    }
   }
  },
  {
   "cell_type": "code",
   "execution_count": 19,
   "outputs": [
    {
     "name": "stdout",
     "output_type": "stream",
     "text": [
      "--- Job model.gms Start 01/26/24 11:26:25 42.5.0 cf11b917 WEX-WEI x86 64bit/MS Windows\n",
      "--- Applying:\n",
      "    C:\\GAMS\\42\\gmsprmNT.txt\n",
      "    C:\\Users\\zyuliu\\Documents\\GAMS\\gamsconfig.yaml\n",
      "--- GAMS Parameters defined\n",
      "    Input C:\\Users\\zyuliu\\AppData\\Local\\Temp\\tmp3c0d3dep\\model.gms\n",
      "    Output C:\\Users\\zyuliu\\AppData\\Local\\Temp\\tmp3c0d3dep\\output.lst\n",
      "    ScrDir C:\\Users\\zyuliu\\AppData\\Local\\Temp\\tmp3c0d3dep\\225a\\\n",
      "    SysDir C:\\GAMS\\42\\\n",
      "    CurDir C:\\Users\\zyuliu\\AppData\\Local\\Temp\\tmp3c0d3dep\\\n",
      "    LogOption 3\n",
      "Licensee: Small MUD - 5 User License                     G221121|0002AP-GEN\n",
      "          University of Delaware, Chemical and Biomolecular EngineeriDC3967\n",
      "          C:\\Users\\zyuliu\\Documents\\GAMS\\gamslice.txt\n",
      "          License Admin: Marianthi Ierapetritou, mgi@udel.edu              \n",
      "Processor information: 1 socket(s), 4 core(s), and 8 thread(s) available\n",
      "GAMS 42.5.0   Copyright (C) 1987-2023 GAMS Development. All rights reserved\n",
      "--- Starting compilation\n",
      "--- model.gms(94) 2 Mb\n",
      "--- Starting execution: elapsed 0:00:00.016\n",
      "--- model.gms(32) 3 Mb\n",
      "--- Generating NLP model GAMS_MODEL\n",
      "--- model.gms(36) 5 Mb\n",
      "---   2 rows  3 columns  5 non-zeroes\n",
      "---   16 nl-code  3 nl-non-zeroes\n",
      "--- Range statistics (absolute non-zero finite values)\n",
      "--- RHS       [min, max] : [        NA,        NA] - Zero values observed as well\n",
      "--- Bound     [min, max] : [ 2.000E-01, 1.000E+00] - Zero values observed as well\n",
      "--- Matrix    [min, max] : [ 4.000E-01, 4.000E+00] - Zero values observed as well\n",
      "--- model.gms(36) 3 Mb\n",
      "--- Executing IPOPTH (Solvelink=5): elapsed 0:00:00.021\n",
      "\n",
      "COIN-OR Ipopt    42.5.0 cf11b917 Mar 30, 2023          WEI x86 64bit/MS Window\n",
      "\n",
      "COIN-OR Interior Point Optimizer (Ipopt Library 3.14.10)\n",
      "written by A. Waechter, commercially supported by GAMS Development Corp.\n",
      "\n",
      "******************************************************************************\n",
      "This program contains Ipopt, a library for large-scale nonlinear optimization.\n",
      " Ipopt is released as open source code under the Eclipse Public License (EPL).\n",
      "         For more information visit https://github.com/coin-or/Ipopt\n",
      "******************************************************************************\n",
      "\n",
      "This is Ipopt version 3.14.10, running with linear solver ma27.\n",
      "\n",
      "Number of nonzeros in equality constraint Jacobian...:        0\n",
      "Number of nonzeros in inequality constraint Jacobian.:        2\n",
      "Number of nonzeros in Lagrangian Hessian.............:        2\n",
      "\n",
      "Total number of variables............................:        2\n",
      "                     variables with only lower bounds:        0\n",
      "                variables with lower and upper bounds:        2\n",
      "                     variables with only upper bounds:        0\n",
      "Total number of equality constraints.................:        0\n",
      "Total number of inequality constraints...............:        1\n",
      "        inequality constraints with only lower bounds:        0\n",
      "   inequality constraints with lower and upper bounds:        0\n",
      "        inequality constraints with only upper bounds:        1\n",
      "\n",
      "iter    objective    inf_pr   inf_du lg(mu)  ||d||  lg(rg) alpha_du alpha_pr  ls\n",
      "   0  4.0392040e+00 0.00e+00 4.00e+00   0.0 0.00e+00    -  0.00e+00 0.00e+00   0\n",
      "   1  3.0366924e+00 0.00e+00 1.91e+00  -0.1 1.03e+00    -  8.04e-01 2.50e-01f  1\n",
      "   2  1.0152880e+00 0.00e+00 1.05e-01  -0.9 8.62e-01    -  9.97e-01 8.53e-01f  1\n",
      "   3  1.0036194e+00 0.00e+00 2.74e-04  -2.6 1.04e-01    -  1.00e+00 1.00e+00h  1\n",
      "   4  1.0001745e+00 0.00e+00 7.67e-04  -8.6 8.35e-03    -  9.55e-01 9.99e-01f  1\n",
      "   5  1.0000427e+00 0.00e+00 9.67e-11  -6.1 6.25e-03    -  1.00e+00 1.00e+00h  1\n",
      "   6  1.0000107e+00 0.00e+00 1.39e-12  -6.9 3.23e-03    -  1.00e+00 1.00e+00f  1\n",
      "   7  1.0000027e+00 0.00e+00 3.48e-13  -7.5 1.62e-03    -  1.00e+00 1.00e+00f  1\n",
      "   8  1.0000007e+00 0.00e+00 8.73e-14  -8.1 8.11e-04    -  1.00e+00 1.00e+00f  1\n",
      "   9  1.0000002e+00 0.00e+00 7.20e-07 -11.0 4.07e-04    -  9.99e-01 1.00e+00f  1\n",
      "iter    objective    inf_pr   inf_du lg(mu)  ||d||  lg(rg) alpha_du alpha_pr  ls\n",
      "  10  1.0000000e+00 0.00e+00 1.00e-16 -11.0 2.03e-04    -  1.00e+00 1.00e+00f  1\n",
      "  11  1.0000000e+00 0.00e+00 2.22e-16 -11.0 1.02e-04    -  1.00e+00 1.00e+00f  1\n",
      "  12  1.0000000e+00 0.00e+00 1.00e-16 -11.0 5.09e-05    -  1.00e+00 1.00e+00f  1\n",
      "\n",
      "Number of Iterations....: 12\n",
      "\n",
      "                                   (scaled)                 (unscaled)\n",
      "Objective...............:   1.0000000024028193e+00    1.0000000024028193e+00\n",
      "Dual infeasibility......:   9.9999999999565385e-17    9.9999999999565385e-17\n",
      "Constraint violation....:   0.0000000000000000e+00    0.0000000000000000e+00\n",
      "Variable bound violation:   9.5000007860335245e-11    9.5000007860335245e-11\n",
      "Complementarity.........:   5.1856528239780926e-09    5.1856528239780926e-09\n",
      "Overall NLP error.......:   5.1856528239780926e-09    5.1856528239780926e-09\n",
      "\n",
      "\n",
      "Number of objective function evaluations             = 13\n",
      "Number of objective gradient evaluations             = 13\n",
      "Number of equality constraint evaluations            = 0\n",
      "Number of inequality constraint evaluations          = 13\n",
      "Number of equality constraint Jacobian evaluations   = 0\n",
      "Number of inequality constraint Jacobian evaluations = 13\n",
      "Number of Lagrangian Hessian evaluations             = 12\n",
      "Total seconds in IPOPT                               = 0.010\n",
      "\n",
      "EXIT: Optimal Solution Found.\n",
      "--- Reading solution for model GAMS_MODEL\n",
      "--- Executing after solve: elapsed 0:00:00.082\n",
      "--- model.gms(94) 3 Mb\n",
      "--- Putfile results C:\\Users\\zyuliu\\AppData\\Local\\Temp\\tmp3c0d3dep\\results.dat\n",
      "--- Putfile statresults C:\\Users\\zyuliu\\AppData\\Local\\Temp\\tmp3c0d3dep\\resultsstat.dat\n",
      "*** Status: Normal completion\n",
      "--- Job model.gms Stop 01/26/24 11:26:25 elapsed 0:00:00.085\n",
      "1 Param Declarations\n",
      "    t : Size=1, Index=None, Domain=Any, Default=None, Mutable=False\n",
      "        Key  : Value\n",
      "        None :  0.25\n",
      "\n",
      "2 Var Declarations\n",
      "    x1 : Size=1, Index=None\n",
      "        Key  : Lower : Value          : Upper : Fixed : Stale : Domain\n",
      "        None :    -1 : 1.000000000095 :     1 : False : False :  Reals\n",
      "    x2 : Size=1, Index=None\n",
      "        Key  : Lower : Value             : Upper : Fixed : Stale : Domain\n",
      "        None :     0 : 0.199949080265213 :   0.2 : False : False :  Reals\n",
      "\n",
      "1 Objective Declarations\n",
      "    obj : Size=1, Index=None, Active=True\n",
      "        Key  : Active : Sense    : Expression\n",
      "        None :   True : minimize : (x1 - 2)**2 + (x2 - 0.2)**2\n",
      "\n",
      "1 Constraint Declarations\n",
      "    c1 : Size=1, Index=None, Active=True\n",
      "        Key  : Lower : Body                            : Upper : Active\n",
      "        None :  -Inf : -0.18823529411764722*x1**2 - x2 :   0.0 :   True\n",
      "\n",
      "5 Declarations: x1 x2 t c1 obj\n"
     ]
    }
   ],
   "source": [
    "m1 = det_ex1()\n",
    "solve_model(m1)\n",
    "m1.pprint()"
   ],
   "metadata": {
    "collapsed": false,
    "pycharm": {
     "name": "#%%\n"
    },
    "ExecuteTime": {
     "end_time": "2024-01-26T16:26:25.606736400Z",
     "start_time": "2024-01-26T16:26:25.045053Z"
    }
   }
  },
  {
   "cell_type": "code",
   "execution_count": 20,
   "outputs": [],
   "source": [
    "# Working robust model\n",
    "def rp_base():\n",
    "    m = ConcreteModel()\n",
    "\n",
    "    m.x1 = Var(bounds=(-1,1))\n",
    "    m.x2 = Var(bounds=(0,0.2))\n",
    "\n",
    "    m.t = Var()\n",
    "    m.t.fix()\n",
    "\n",
    "    m.cuts = ConstraintList()\n",
    "\n",
    "    m.obj = Objective(expr=(m.x1-2)**2 + (m.x2-0.2)**2, sense=minimize)\n",
    "\n",
    "    return m\n"
   ],
   "metadata": {
    "collapsed": false,
    "ExecuteTime": {
     "end_time": "2024-01-26T16:26:25.607736100Z",
     "start_time": "2024-01-26T16:26:25.568838200Z"
    }
   }
  },
  {
   "cell_type": "code",
   "execution_count": 21,
   "outputs": [
    {
     "name": "stdout",
     "output_type": "stream",
     "text": [
      "--- Job model.gms Start 01/26/24 11:26:25 42.5.0 cf11b917 WEX-WEI x86 64bit/MS Windows\n",
      "--- Applying:\n",
      "    C:\\GAMS\\42\\gmsprmNT.txt\n",
      "    C:\\Users\\zyuliu\\Documents\\GAMS\\gamsconfig.yaml\n",
      "--- GAMS Parameters defined\n",
      "    Input C:\\Users\\zyuliu\\AppData\\Local\\Temp\\tmppnv8k1_u\\model.gms\n",
      "    Output C:\\Users\\zyuliu\\AppData\\Local\\Temp\\tmppnv8k1_u\\output.lst\n",
      "    ScrDir C:\\Users\\zyuliu\\AppData\\Local\\Temp\\tmppnv8k1_u\\225a\\\n",
      "    SysDir C:\\GAMS\\42\\\n",
      "    CurDir C:\\Users\\zyuliu\\AppData\\Local\\Temp\\tmppnv8k1_u\\\n",
      "    LogOption 3\n",
      "Licensee: Small MUD - 5 User License                     G221121|0002AP-GEN\n",
      "          University of Delaware, Chemical and Biomolecular EngineeriDC3967\n",
      "          C:\\Users\\zyuliu\\Documents\\GAMS\\gamslice.txt\n",
      "          License Admin: Marianthi Ierapetritou, mgi@udel.edu              \n",
      "Processor information: 1 socket(s), 4 core(s), and 8 thread(s) available\n",
      "GAMS 42.5.0   Copyright (C) 1987-2023 GAMS Development. All rights reserved\n",
      "--- Starting compilation\n",
      "--- model.gms(94) 2 Mb\n",
      "--- Starting execution: elapsed 0:00:00.014\n",
      "--- model.gms(32) 3 Mb\n",
      "--- Generating NLP model GAMS_MODEL\n",
      "--- model.gms(36) 5 Mb\n",
      "---   2 rows  3 columns  5 non-zeroes\n",
      "---   16 nl-code  3 nl-non-zeroes\n",
      "--- Range statistics (absolute non-zero finite values)\n",
      "--- RHS       [min, max] : [        NA,        NA] - Zero values observed as well\n",
      "--- Bound     [min, max] : [ 2.000E-01, 1.000E+00] - Zero values observed as well\n",
      "--- Matrix    [min, max] : [ 4.000E-01, 4.000E+00] - Zero values observed as well\n",
      "--- model.gms(36) 3 Mb\n",
      "--- Executing IPOPTH (Solvelink=5): elapsed 0:00:00.019\n",
      "\n",
      "COIN-OR Ipopt    42.5.0 cf11b917 Mar 30, 2023          WEI x86 64bit/MS Window\n",
      "\n",
      "COIN-OR Interior Point Optimizer (Ipopt Library 3.14.10)\n",
      "written by A. Waechter, commercially supported by GAMS Development Corp.\n",
      "\n",
      "******************************************************************************\n",
      "This program contains Ipopt, a library for large-scale nonlinear optimization.\n",
      " Ipopt is released as open source code under the Eclipse Public License (EPL).\n",
      "         For more information visit https://github.com/coin-or/Ipopt\n",
      "******************************************************************************\n",
      "\n",
      "This is Ipopt version 3.14.10, running with linear solver ma27.\n",
      "\n",
      "Number of nonzeros in equality constraint Jacobian...:        0\n",
      "Number of nonzeros in inequality constraint Jacobian.:        2\n",
      "Number of nonzeros in Lagrangian Hessian.............:        2\n",
      "\n",
      "Total number of variables............................:        2\n",
      "                     variables with only lower bounds:        0\n",
      "                variables with lower and upper bounds:        2\n",
      "                     variables with only upper bounds:        0\n",
      "Total number of equality constraints.................:        0\n",
      "Total number of inequality constraints...............:        1\n",
      "        inequality constraints with only lower bounds:        0\n",
      "   inequality constraints with lower and upper bounds:        0\n",
      "        inequality constraints with only upper bounds:        1\n",
      "\n",
      "iter    objective    inf_pr   inf_du lg(mu)  ||d||  lg(rg) alpha_du alpha_pr  ls\n",
      "   0  4.0392040e+00 0.00e+00 4.00e+00   0.0 0.00e+00    -  0.00e+00 0.00e+00   0\n",
      "   1  3.0366924e+00 0.00e+00 1.91e+00  -0.1 1.03e+00    -  8.04e-01 2.50e-01f  1\n",
      "   2  1.0152880e+00 0.00e+00 1.05e-01  -0.9 8.62e-01    -  9.97e-01 8.53e-01f  1\n",
      "   3  1.0036194e+00 0.00e+00 2.74e-04  -2.6 1.04e-01    -  1.00e+00 1.00e+00h  1\n",
      "   4  1.0001745e+00 0.00e+00 7.67e-04  -8.6 8.35e-03    -  9.55e-01 9.99e-01f  1\n",
      "   5  1.0000427e+00 0.00e+00 9.67e-11  -6.1 6.25e-03    -  1.00e+00 1.00e+00h  1\n",
      "   6  1.0000107e+00 0.00e+00 1.39e-12  -6.9 3.23e-03    -  1.00e+00 1.00e+00f  1\n",
      "   7  1.0000027e+00 0.00e+00 3.48e-13  -7.5 1.62e-03    -  1.00e+00 1.00e+00f  1\n",
      "   8  1.0000007e+00 0.00e+00 8.73e-14  -8.1 8.11e-04    -  1.00e+00 1.00e+00f  1\n",
      "   9  1.0000002e+00 0.00e+00 7.20e-07 -11.0 4.07e-04    -  9.99e-01 1.00e+00f  1\n",
      "iter    objective    inf_pr   inf_du lg(mu)  ||d||  lg(rg) alpha_du alpha_pr  ls\n",
      "  10  1.0000000e+00 0.00e+00 1.00e-16 -11.0 2.03e-04    -  1.00e+00 1.00e+00f  1\n",
      "  11  1.0000000e+00 0.00e+00 2.22e-16 -11.0 1.02e-04    -  1.00e+00 1.00e+00f  1\n",
      "  12  1.0000000e+00 0.00e+00 1.00e-16 -11.0 5.09e-05    -  1.00e+00 1.00e+00f  1\n",
      "\n",
      "Number of Iterations....: 12\n",
      "\n",
      "                                   (scaled)                 (unscaled)\n",
      "Objective...............:   1.0000000024028193e+00    1.0000000024028193e+00\n",
      "Dual infeasibility......:   9.9999999999565385e-17    9.9999999999565385e-17\n",
      "Constraint violation....:   0.0000000000000000e+00    0.0000000000000000e+00\n",
      "Variable bound violation:   9.5000007860335245e-11    9.5000007860335245e-11\n",
      "Complementarity.........:   5.1856528239780926e-09    5.1856528239780926e-09\n",
      "Overall NLP error.......:   5.1856528239780926e-09    5.1856528239780926e-09\n",
      "\n",
      "\n",
      "Number of objective function evaluations             = 13\n",
      "Number of objective gradient evaluations             = 13\n",
      "Number of equality constraint evaluations            = 0\n",
      "Number of inequality constraint evaluations          = 13\n",
      "Number of equality constraint Jacobian evaluations   = 0\n",
      "Number of inequality constraint Jacobian evaluations = 13\n",
      "Number of Lagrangian Hessian evaluations             = 12\n",
      "Total seconds in IPOPT                               = 0.003\n",
      "\n",
      "EXIT: Optimal Solution Found.\n",
      "--- Reading solution for model GAMS_MODEL\n",
      "--- Executing after solve: elapsed 0:00:00.040\n",
      "--- model.gms(94) 3 Mb\n",
      "--- Putfile results C:\\Users\\zyuliu\\AppData\\Local\\Temp\\tmppnv8k1_u\\results.dat\n",
      "--- Putfile statresults C:\\Users\\zyuliu\\AppData\\Local\\Temp\\tmppnv8k1_u\\resultsstat.dat\n",
      "*** Status: Normal completion\n",
      "--- Job model.gms Stop 01/26/24 11:26:25 elapsed 0:00:00.042\n",
      "WARNING (W1002): Setting Var 'x1' to a numeric value `1.000000000095` outside\n",
      "the bounds (-1, 1).\n",
      "    See also https://pyomo.readthedocs.io/en/stable/errors.html#w1002\n"
     ]
    },
    {
     "data": {
      "text/plain": "False"
     },
     "execution_count": 21,
     "metadata": {},
     "output_type": "execute_result"
    }
   ],
   "source": [
    "# Initialization\n",
    "mdet = det_ex1()\n",
    "mrp = rp_base()\n",
    "solve_model(mdet)\n",
    "\n",
    "mrp.x1 = value(mdet.x1)\n",
    "mrp.x2 = value(mdet.x2)\n",
    "\n",
    "# Beginning of the algorithm\n",
    "mrp.t = 0.0266 # referenced from paper, 1st\n",
    "\n",
    "# feasibility test\n",
    "value(((4.8-5*math.sin(math.pi*math.sqrt(value(mrp.t)))) / (1+value(mrp.t)**2) * mrp.x1**2 - mrp.x2) <= 0)"
   ],
   "metadata": {
    "collapsed": false,
    "ExecuteTime": {
     "end_time": "2024-01-26T16:26:26.036797300Z",
     "start_time": "2024-01-26T16:26:25.579809600Z"
    }
   }
  },
  {
   "cell_type": "code",
   "execution_count": 22,
   "outputs": [
    {
     "name": "stdout",
     "output_type": "stream",
     "text": [
      "--- Job model.gms Start 01/26/24 11:26:26 42.5.0 cf11b917 WEX-WEI x86 64bit/MS Windows\n",
      "--- Applying:\n",
      "    C:\\GAMS\\42\\gmsprmNT.txt\n",
      "    C:\\Users\\zyuliu\\Documents\\GAMS\\gamsconfig.yaml\n",
      "--- GAMS Parameters defined\n",
      "    Input C:\\Users\\zyuliu\\AppData\\Local\\Temp\\tmpext2pz_u\\model.gms\n",
      "    Output C:\\Users\\zyuliu\\AppData\\Local\\Temp\\tmpext2pz_u\\output.lst\n",
      "    ScrDir C:\\Users\\zyuliu\\AppData\\Local\\Temp\\tmpext2pz_u\\225a\\\n",
      "    SysDir C:\\GAMS\\42\\\n",
      "    CurDir C:\\Users\\zyuliu\\AppData\\Local\\Temp\\tmpext2pz_u\\\n",
      "    LogOption 3\n",
      "Licensee: Small MUD - 5 User License                     G221121|0002AP-GEN\n",
      "          University of Delaware, Chemical and Biomolecular EngineeriDC3967\n",
      "          C:\\Users\\zyuliu\\Documents\\GAMS\\gamslice.txt\n",
      "          License Admin: Marianthi Ierapetritou, mgi@udel.edu              \n",
      "Processor information: 1 socket(s), 4 core(s), and 8 thread(s) available\n",
      "GAMS 42.5.0   Copyright (C) 1987-2023 GAMS Development. All rights reserved\n",
      "--- Starting compilation\n",
      "--- model.gms(96) 2 Mb\n",
      "--- Starting execution: elapsed 0:00:00.014\n",
      "--- model.gms(34) 3 Mb\n",
      "--- Generating NLP model GAMS_MODEL\n",
      "--- model.gms(38) 5 Mb\n",
      "---   2 rows  3 columns  5 non-zeroes\n",
      "---   16 nl-code  3 nl-non-zeroes\n",
      "--- Range statistics (absolute non-zero finite values)\n",
      "--- RHS       [min, max] : [        NA,        NA] - Zero values observed as well\n",
      "--- Bound     [min, max] : [ 2.000E-01, 1.000E+00] - Zero values observed as well\n",
      "--- Matrix    [min, max] : [ 1.018E-04, 4.694E+00]\n",
      "--- model.gms(38) 3 Mb\n",
      "--- Executing IPOPTH (Solvelink=5): elapsed 0:00:00.019\n",
      "\n",
      "COIN-OR Ipopt    42.5.0 cf11b917 Mar 30, 2023          WEI x86 64bit/MS Window\n",
      "\n",
      "COIN-OR Interior Point Optimizer (Ipopt Library 3.14.10)\n",
      "written by A. Waechter, commercially supported by GAMS Development Corp.\n",
      "\n",
      "******************************************************************************\n",
      "This program contains Ipopt, a library for large-scale nonlinear optimization.\n",
      " Ipopt is released as open source code under the Eclipse Public License (EPL).\n",
      "         For more information visit https://github.com/coin-or/Ipopt\n",
      "******************************************************************************\n",
      "\n",
      "This is Ipopt version 3.14.10, running with linear solver ma27.\n",
      "\n",
      "Number of nonzeros in equality constraint Jacobian...:        0\n",
      "Number of nonzeros in inequality constraint Jacobian.:        2\n",
      "Number of nonzeros in Lagrangian Hessian.............:        2\n",
      "\n",
      "Total number of variables............................:        2\n",
      "                     variables with only lower bounds:        0\n",
      "                variables with lower and upper bounds:        2\n",
      "                     variables with only upper bounds:        0\n",
      "Total number of equality constraints.................:        0\n",
      "Total number of inequality constraints...............:        1\n",
      "        inequality constraints with only lower bounds:        0\n",
      "   inequality constraints with lower and upper bounds:        0\n",
      "        inequality constraints with only upper bounds:        1\n",
      "\n",
      "iter    objective    inf_pr   inf_du lg(mu)  ||d||  lg(rg) alpha_du alpha_pr  ls\n",
      "   0  1.0201040e+00 2.10e+00 5.60e-01   0.0 0.00e+00    -  0.00e+00 0.00e+00   0\n",
      "   1  2.4002582e+00 5.02e-01 1.26e+01  -0.7 5.27e-01    -  3.09e-02 1.00e+00f  1\n",
      "   2  2.6114030e+00 1.48e-01 4.61e+00  -0.6 2.58e-01    -  1.00e+00 7.60e-01h  1\n",
      "   3  2.9448580e+00 6.25e-03 5.57e-01  -1.3 1.00e-01    -  9.97e-01 1.00e+00h  1\n",
      "   4  2.9397531e+00 0.00e+00 3.23e-03  -2.5 1.34e-02    -  9.98e-01 1.00e+00h  1\n",
      "   5  2.9179288e+00 0.00e+00 2.45e-03  -8.2 6.37e-03    -  9.66e-01 1.00e+00f  1\n",
      "   6  2.9175703e+00 0.00e+00 1.76e-07  -5.9 1.44e-04    -  1.00e+00 1.00e+00h  1\n",
      "   7  2.9175671e+00 0.00e+00 3.89e-11 -11.0 9.38e-07    -  1.00e+00 1.00e+00h  1\n",
      "\n",
      "Number of Iterations....: 7\n",
      "\n",
      "                                   (scaled)                 (unscaled)\n",
      "Objective...............:   2.9175670845958823e+00    2.9175670845958823e+00\n",
      "Dual infeasibility......:   3.8937255986592529e-11    3.8937255986592529e-11\n",
      "Constraint violation....:   0.0000000000000000e+00    0.0000000000000000e+00\n",
      "Variable bound violation:   9.1248258948795069e-11    9.1248258948795069e-11\n",
      "Complementarity.........:   2.1818564421052703e-11    2.1818564421052703e-11\n",
      "Overall NLP error.......:   3.8937255986592529e-11    3.8937255986592529e-11\n",
      "\n",
      "\n",
      "Number of objective function evaluations             = 8\n",
      "Number of objective gradient evaluations             = 8\n",
      "Number of equality constraint evaluations            = 0\n",
      "Number of inequality constraint evaluations          = 8\n",
      "Number of equality constraint Jacobian evaluations   = 0\n",
      "Number of inequality constraint Jacobian evaluations = 8\n",
      "Number of Lagrangian Hessian evaluations             = 7\n",
      "Total seconds in IPOPT                               = 0.003\n",
      "\n",
      "EXIT: Optimal Solution Found.\n",
      "--- Reading solution for model GAMS_MODEL\n",
      "--- Executing after solve: elapsed 0:00:00.039\n",
      "--- model.gms(96) 3 Mb\n",
      "--- Putfile results C:\\Users\\zyuliu\\AppData\\Local\\Temp\\tmpext2pz_u\\results.dat\n",
      "--- Putfile statresults C:\\Users\\zyuliu\\AppData\\Local\\Temp\\tmpext2pz_u\\resultsstat.dat\n",
      "*** Status: Normal completion\n",
      "--- Job model.gms Stop 01/26/24 11:26:26 elapsed 0:00:00.041\n",
      "x1 : Size=1, Index=None\n",
      "    Key  : Lower : Value             : Upper : Fixed : Stale : Domain\n",
      "    None :    -1 : 0.291911277305572 :     1 : False : False :  Reals\n",
      "x2 : Size=1, Index=None\n",
      "    Key  : Lower : Value             : Upper : Fixed : Stale : Domain\n",
      "    None :     0 : 0.200000000091248 :   0.2 : False : False :  Reals\n"
     ]
    }
   ],
   "source": [
    "# Feasibility test failed. Solving the RO at the current point\n",
    "mrp.cuts.add(expr = (4.8-5*math.sin(math.pi*math.sqrt(value(mrp.t)))) / (1+value(mrp.t**2)) * mrp.x1**2 - mrp.x2 <= 0)\n",
    "solve_model(mrp)\n",
    "mrp.x1.pprint(),mrp.x2.pprint();"
   ],
   "metadata": {
    "collapsed": false,
    "ExecuteTime": {
     "end_time": "2024-01-26T16:26:26.415816900Z",
     "start_time": "2024-01-26T16:26:26.039791500Z"
    }
   }
  },
  {
   "cell_type": "code",
   "execution_count": 23,
   "outputs": [
    {
     "data": {
      "text/plain": "False"
     },
     "execution_count": 23,
     "metadata": {},
     "output_type": "execute_result"
    }
   ],
   "source": [
    "mrp.t = 0.0122 # referenced from paper, 2nd\n",
    "\n",
    "# feasibility test\n",
    "value(((4.8-5*math.sin(math.pi*math.sqrt(value(mrp.t)))) / (1+value(mrp.t)**2) * mrp.x1**2 - mrp.x2) <= 0)"
   ],
   "metadata": {
    "collapsed": false,
    "ExecuteTime": {
     "end_time": "2024-01-26T16:26:26.477620500Z",
     "start_time": "2024-01-26T16:26:26.417781400Z"
    }
   }
  },
  {
   "cell_type": "code",
   "execution_count": 24,
   "outputs": [
    {
     "name": "stdout",
     "output_type": "stream",
     "text": [
      "--- Job model.gms Start 01/26/24 11:26:26 42.5.0 cf11b917 WEX-WEI x86 64bit/MS Windows\n",
      "--- Applying:\n",
      "    C:\\GAMS\\42\\gmsprmNT.txt\n",
      "    C:\\Users\\zyuliu\\Documents\\GAMS\\gamsconfig.yaml\n",
      "--- GAMS Parameters defined\n",
      "    Input C:\\Users\\zyuliu\\AppData\\Local\\Temp\\tmpapfrx13w\\model.gms\n",
      "    Output C:\\Users\\zyuliu\\AppData\\Local\\Temp\\tmpapfrx13w\\output.lst\n",
      "    ScrDir C:\\Users\\zyuliu\\AppData\\Local\\Temp\\tmpapfrx13w\\225a\\\n",
      "    SysDir C:\\GAMS\\42\\\n",
      "    CurDir C:\\Users\\zyuliu\\AppData\\Local\\Temp\\tmpapfrx13w\\\n",
      "    LogOption 3\n",
      "Licensee: Small MUD - 5 User License                     G221121|0002AP-GEN\n",
      "          University of Delaware, Chemical and Biomolecular EngineeriDC3967\n",
      "          C:\\Users\\zyuliu\\Documents\\GAMS\\gamslice.txt\n",
      "          License Admin: Marianthi Ierapetritou, mgi@udel.edu              \n",
      "Processor information: 1 socket(s), 4 core(s), and 8 thread(s) available\n",
      "GAMS 42.5.0   Copyright (C) 1987-2023 GAMS Development. All rights reserved\n",
      "--- Starting compilation\n",
      "--- model.gms(99) 2 Mb\n",
      "--- Starting execution: elapsed 0:00:00.014\n",
      "--- model.gms(36) 3 Mb\n",
      "--- Generating NLP model GAMS_MODEL\n",
      "--- model.gms(40) 5 Mb\n",
      "---   3 rows  3 columns  7 non-zeroes\n",
      "---   21 nl-code  4 nl-non-zeroes\n",
      "--- Range statistics (absolute non-zero finite values)\n",
      "--- RHS       [min, max] : [        NA,        NA] - Zero values observed as well\n",
      "--- Bound     [min, max] : [ 2.000E-01, 1.000E+00] - Zero values observed as well\n",
      "--- Matrix    [min, max] : [ 1.000E+00, 3.416E+00] - Zero values observed as well\n",
      "--- model.gms(40) 3 Mb\n",
      "--- Executing IPOPTH (Solvelink=5): elapsed 0:00:00.019\n",
      "\n",
      "COIN-OR Ipopt    42.5.0 cf11b917 Mar 30, 2023          WEI x86 64bit/MS Window\n",
      "\n",
      "COIN-OR Interior Point Optimizer (Ipopt Library 3.14.10)\n",
      "written by A. Waechter, commercially supported by GAMS Development Corp.\n",
      "\n",
      "******************************************************************************\n",
      "This program contains Ipopt, a library for large-scale nonlinear optimization.\n",
      " Ipopt is released as open source code under the Eclipse Public License (EPL).\n",
      "         For more information visit https://github.com/coin-or/Ipopt\n",
      "******************************************************************************\n",
      "\n",
      "This is Ipopt version 3.14.10, running with linear solver ma27.\n",
      "\n",
      "Number of nonzeros in equality constraint Jacobian...:        0\n",
      "Number of nonzeros in inequality constraint Jacobian.:        4\n",
      "Number of nonzeros in Lagrangian Hessian.............:        2\n",
      "\n",
      "Total number of variables............................:        2\n",
      "                     variables with only lower bounds:        0\n",
      "                variables with lower and upper bounds:        2\n",
      "                     variables with only upper bounds:        0\n",
      "Total number of equality constraints.................:        0\n",
      "Total number of inequality constraints...............:        2\n",
      "        inequality constraints with only lower bounds:        0\n",
      "   inequality constraints with lower and upper bounds:        0\n",
      "        inequality constraints with only upper bounds:        2\n",
      "\n",
      "iter    objective    inf_pr   inf_du lg(mu)  ||d||  lg(rg) alpha_du alpha_pr  ls\n",
      "   0  2.9175711e+00 6.61e-02 1.57e+00   0.0 0.00e+00    -  0.00e+00 0.00e+00   0\n",
      "   1  3.2328520e+00 0.00e+00 5.93e-01  -1.2 8.91e-02    -  9.49e-01 1.00e+00f  1\n",
      "   2  3.1118681e+00 0.00e+00 2.71e-02  -1.7 3.70e-02    -  9.88e-01 1.00e+00h  1\n",
      "   3  3.0514280e+00 8.05e-04 1.85e-02  -3.3 1.73e-02    -  1.00e+00 9.90e-01h  1\n",
      "   4  3.0484952e+00 0.00e+00 2.13e-05  -4.4 2.14e-03    -  1.00e+00 1.00e+00h  1\n",
      "   5  3.0483931e+00 1.68e-09 5.87e-08 -10.4 3.09e-05    -  1.00e+00 1.00e+00h  1\n",
      "   6  3.0483930e+00 0.00e+00 1.16e-15 -11.0 1.25e-08    -  1.00e+00 1.00e+00h  1\n",
      "\n",
      "Number of Iterations....: 6\n",
      "\n",
      "                                   (scaled)                 (unscaled)\n",
      "Objective...............:   3.0483930293752937e+00    3.0483930293752937e+00\n",
      "Dual infeasibility......:   1.1608944380453177e-15    1.1608944380453177e-15\n",
      "Constraint violation....:   0.0000000000000000e+00    0.0000000000000000e+00\n",
      "Variable bound violation:   9.5489921525526711e-11    9.5489921525526711e-11\n",
      "Complementarity.........:   1.0001941347770311e-11    1.0001941347770311e-11\n",
      "Overall NLP error.......:   1.0001941347770311e-11    1.0001941347770311e-11\n",
      "\n",
      "\n",
      "Number of objective function evaluations             = 7\n",
      "Number of objective gradient evaluations             = 7\n",
      "Number of equality constraint evaluations            = 0\n",
      "Number of inequality constraint evaluations          = 7\n",
      "Number of equality constraint Jacobian evaluations   = 0\n",
      "Number of inequality constraint Jacobian evaluations = 7\n",
      "Number of Lagrangian Hessian evaluations             = 6\n",
      "Total seconds in IPOPT                               = 0.002\n",
      "\n",
      "EXIT: Optimal Solution Found.\n",
      "--- Reading solution for model GAMS_MODEL\n",
      "--- Executing after solve: elapsed 0:00:00.041\n",
      "--- model.gms(99) 3 Mb\n",
      "--- Putfile results C:\\Users\\zyuliu\\AppData\\Local\\Temp\\tmpapfrx13w\\results.dat\n",
      "--- Putfile statresults C:\\Users\\zyuliu\\AppData\\Local\\Temp\\tmpapfrx13w\\resultsstat.dat\n",
      "*** Status: Normal completion\n",
      "--- Job model.gms Stop 01/26/24 11:26:26 elapsed 0:00:00.044\n",
      "x1 : Size=1, Index=None\n",
      "    Key  : Lower : Value            : Upper : Fixed : Stale : Domain\n",
      "    None :    -1 : 0.25403521531066 :     1 : False : False :  Reals\n",
      "x2 : Size=1, Index=None\n",
      "    Key  : Lower : Value            : Upper : Fixed : Stale : Domain\n",
      "    None :     0 : 0.20000000009549 :   0.2 : False : False :  Reals\n"
     ]
    }
   ],
   "source": [
    "# Feasibility test failed. Solving the RO at the current point\n",
    "mrp.cuts.add(expr = (4.8-5*math.sin(math.pi*math.sqrt(value(mrp.t)))) / (1+value(mrp.t**2)) * mrp.x1**2 - mrp.x2 <= 0)\n",
    "solve_model(mrp)\n",
    "mrp.x1.pprint(),mrp.x2.pprint();"
   ],
   "metadata": {
    "collapsed": false,
    "ExecuteTime": {
     "end_time": "2024-01-26T16:26:26.835166700Z",
     "start_time": "2024-01-26T16:26:26.434735500Z"
    }
   }
  },
  {
   "cell_type": "code",
   "execution_count": 25,
   "outputs": [
    {
     "data": {
      "text/plain": "False"
     },
     "execution_count": 25,
     "metadata": {},
     "output_type": "execute_result"
    }
   ],
   "source": [
    "mrp.t = 0.0036 # referenced from paper, 3rd\n",
    "\n",
    "# feasibility test\n",
    "value(((4.8-5*math.sin(math.pi*math.sqrt(value(mrp.t)))) / (1+value(mrp.t)**2) * mrp.x1**2 - mrp.x2) <= 0)"
   ],
   "metadata": {
    "collapsed": false,
    "ExecuteTime": {
     "end_time": "2024-01-26T16:26:26.875026800Z",
     "start_time": "2024-01-26T16:26:26.832142900Z"
    }
   }
  },
  {
   "cell_type": "code",
   "execution_count": 26,
   "outputs": [
    {
     "name": "stdout",
     "output_type": "stream",
     "text": [
      "--- Job model.gms Start 01/26/24 11:26:27 42.5.0 cf11b917 WEX-WEI x86 64bit/MS Windows\n",
      "--- Applying:\n",
      "    C:\\GAMS\\42\\gmsprmNT.txt\n",
      "    C:\\Users\\zyuliu\\Documents\\GAMS\\gamsconfig.yaml\n",
      "--- GAMS Parameters defined\n",
      "    Input C:\\Users\\zyuliu\\AppData\\Local\\Temp\\tmpfixern_6\\model.gms\n",
      "    Output C:\\Users\\zyuliu\\AppData\\Local\\Temp\\tmpfixern_6\\output.lst\n",
      "    ScrDir C:\\Users\\zyuliu\\AppData\\Local\\Temp\\tmpfixern_6\\225a\\\n",
      "    SysDir C:\\GAMS\\42\\\n",
      "    CurDir C:\\Users\\zyuliu\\AppData\\Local\\Temp\\tmpfixern_6\\\n",
      "    LogOption 3\n",
      "Licensee: Small MUD - 5 User License                     G221121|0002AP-GEN\n",
      "          University of Delaware, Chemical and Biomolecular EngineeriDC3967\n",
      "          C:\\Users\\zyuliu\\Documents\\GAMS\\gamslice.txt\n",
      "          License Admin: Marianthi Ierapetritou, mgi@udel.edu              \n",
      "Processor information: 1 socket(s), 4 core(s), and 8 thread(s) available\n",
      "GAMS 42.5.0   Copyright (C) 1987-2023 GAMS Development. All rights reserved\n",
      "--- Starting compilation\n",
      "--- model.gms(102) 2 Mb\n",
      "--- Starting execution: elapsed 0:00:00.015\n",
      "--- model.gms(38) 3 Mb\n",
      "--- Generating NLP model GAMS_MODEL\n",
      "--- model.gms(42) 5 Mb\n",
      "---   4 rows  3 columns  9 non-zeroes\n",
      "---   26 nl-code  5 nl-non-zeroes\n",
      "--- Range statistics (absolute non-zero finite values)\n",
      "--- RHS       [min, max] : [        NA,        NA] - Zero values observed as well\n",
      "--- Bound     [min, max] : [ 2.000E-01, 1.000E+00] - Zero values observed as well\n",
      "--- Matrix    [min, max] : [ 1.000E+00, 3.492E+00] - Zero values observed as well\n",
      "--- model.gms(42) 3 Mb\n",
      "--- Executing IPOPTH (Solvelink=5): elapsed 0:00:00.020\n",
      "\n",
      "COIN-OR Ipopt    42.5.0 cf11b917 Mar 30, 2023          WEI x86 64bit/MS Window\n",
      "\n",
      "COIN-OR Interior Point Optimizer (Ipopt Library 3.14.10)\n",
      "written by A. Waechter, commercially supported by GAMS Development Corp.\n",
      "\n",
      "******************************************************************************\n",
      "This program contains Ipopt, a library for large-scale nonlinear optimization.\n",
      " Ipopt is released as open source code under the Eclipse Public License (EPL).\n",
      "         For more information visit https://github.com/coin-or/Ipopt\n",
      "******************************************************************************\n",
      "\n",
      "This is Ipopt version 3.14.10, running with linear solver ma27.\n",
      "\n",
      "Number of nonzeros in equality constraint Jacobian...:        0\n",
      "Number of nonzeros in inequality constraint Jacobian.:        6\n",
      "Number of nonzeros in Lagrangian Hessian.............:        2\n",
      "\n",
      "Total number of variables............................:        2\n",
      "                     variables with only lower bounds:        0\n",
      "                variables with lower and upper bounds:        2\n",
      "                     variables with only upper bounds:        0\n",
      "Total number of equality constraints.................:        0\n",
      "Total number of inequality constraints...............:        3\n",
      "        inequality constraints with only lower bounds:        0\n",
      "   inequality constraints with lower and upper bounds:        0\n",
      "        inequality constraints with only upper bounds:        3\n",
      "\n",
      "iter    objective    inf_pr   inf_du lg(mu)  ||d||  lg(rg) alpha_du alpha_pr  ls\n",
      "   0  3.0483970e+00 5.13e-02 1.62e+00   0.0 0.00e+00    -  0.00e+00 0.00e+00   0\n",
      "   1  3.3071062e+00 0.00e+00 5.00e-01  -1.3 7.19e-02    -  9.66e-01 1.00e+00f  1\n",
      "   2  3.1984213e+00 0.00e+00 3.72e-02  -1.8 3.30e-02    -  9.85e-01 1.00e+00h  1\n",
      "   3  3.1464354e+00 8.93e-04 1.92e-02  -3.3 1.55e-02    -  1.00e+00 9.36e-01h  1\n",
      "   4  3.1417767e+00 0.00e+00 2.15e-05  -4.2 3.21e-03    -  1.00e+00 1.00e+00h  1\n",
      "   5  3.1416286e+00 6.14e-09 1.31e-07 -10.2 5.49e-05    -  1.00e+00 1.00e+00h  1\n",
      "   6  3.1416285e+00 0.00e+00 2.80e-14 -11.0 4.78e-08    -  1.00e+00 1.00e+00h  1\n",
      "\n",
      "Number of Iterations....: 6\n",
      "\n",
      "                                   (scaled)                 (unscaled)\n",
      "Objective...............:   3.1416284689129768e+00    3.1416284689129768e+00\n",
      "Dual infeasibility......:   2.8041428539268314e-14    2.8041428539268314e-14\n",
      "Constraint violation....:   0.0000000000000000e+00    0.0000000000000000e+00\n",
      "Variable bound violation:   9.5030316948907512e-11    9.5030316948907512e-11\n",
      "Complementarity.........:   1.0021368619149504e-11    1.0021368619149504e-11\n",
      "Overall NLP error.......:   1.0021368619149504e-11    1.0021368619149504e-11\n",
      "\n",
      "\n",
      "Number of objective function evaluations             = 7\n",
      "Number of objective gradient evaluations             = 7\n",
      "Number of equality constraint evaluations            = 0\n",
      "Number of inequality constraint evaluations          = 7\n",
      "Number of equality constraint Jacobian evaluations   = 0\n",
      "Number of inequality constraint Jacobian evaluations = 7\n",
      "Number of Lagrangian Hessian evaluations             = 6\n",
      "Total seconds in IPOPT                               = 0.002\n",
      "\n",
      "EXIT: Optimal Solution Found.\n",
      "--- Reading solution for model GAMS_MODEL\n",
      "--- Executing after solve: elapsed 0:00:00.042\n",
      "--- model.gms(102) 3 Mb\n",
      "--- Putfile results C:\\Users\\zyuliu\\AppData\\Local\\Temp\\tmpfixern_6\\results.dat\n",
      "--- Putfile statresults C:\\Users\\zyuliu\\AppData\\Local\\Temp\\tmpfixern_6\\resultsstat.dat\n",
      "*** Status: Normal completion\n",
      "--- Job model.gms Stop 01/26/24 11:26:27 elapsed 0:00:00.044\n",
      "x1 : Size=1, Index=None\n",
      "    Key  : Lower : Value             : Upper : Fixed : Stale : Domain\n",
      "    None :    -1 : 0.227536045807143 :     1 : False : False :  Reals\n",
      "x2 : Size=1, Index=None\n",
      "    Key  : Lower : Value            : Upper : Fixed : Stale : Domain\n",
      "    None :     0 : 0.20000000009503 :   0.2 : False : False :  Reals\n"
     ]
    }
   ],
   "source": [
    "# Feasibility test failed. Solving the RO at the current point\n",
    "mrp.cuts.add(expr = (4.8-5*math.sin(math.pi*math.sqrt(value(mrp.t)))) / (1+value(mrp.t**2)) * mrp.x1**2 - mrp.x2 <= 0)\n",
    "solve_model(mrp)\n",
    "mrp.x1.pprint(),mrp.x2.pprint();"
   ],
   "metadata": {
    "collapsed": false,
    "ExecuteTime": {
     "end_time": "2024-01-26T16:26:27.224235600Z",
     "start_time": "2024-01-26T16:26:26.848098700Z"
    }
   }
  },
  {
   "cell_type": "code",
   "execution_count": 27,
   "outputs": [
    {
     "name": "stdout",
     "output_type": "stream",
     "text": [
      "1 Set Declarations\n",
      "    cuts_index : Size=1, Index=None, Ordered=Insertion\n",
      "        Key  : Dimen : Domain : Size : Members\n",
      "        None :     1 :    Any :    3 : {1, 2, 3}\n",
      "\n",
      "3 Var Declarations\n",
      "    t : Size=1, Index=None\n",
      "        Key  : Lower : Value  : Upper : Fixed : Stale : Domain\n",
      "        None :  None : 0.0036 :  None :  True :  True :  Reals\n",
      "    x1 : Size=1, Index=None\n",
      "        Key  : Lower : Value             : Upper : Fixed : Stale : Domain\n",
      "        None :    -1 : 0.227536045807143 :     1 : False : False :  Reals\n",
      "    x2 : Size=1, Index=None\n",
      "        Key  : Lower : Value            : Upper : Fixed : Stale : Domain\n",
      "        None :     0 : 0.20000000009503 :   0.2 : False : False :  Reals\n",
      "\n",
      "1 Objective Declarations\n",
      "    obj : Size=1, Index=None, Active=True\n",
      "        Key  : Active : Sense    : Expression\n",
      "        None :   True : minimize : (x1 - 2)**2 + (x2 - 0.2)**2\n",
      "\n",
      "1 Constraint Declarations\n",
      "    cuts : Size=3, Index=cuts_index, Active=True\n",
      "        Key : Lower : Body                          : Upper : Active\n",
      "          1 :  -Inf : 2.3470819283666353*x1**2 - x2 :   0.0 :   True\n",
      "          2 :  -Inf : 3.0991467936601174*x1**2 - x2 :   0.0 :   True\n",
      "          3 :  -Inf : 3.8630433620294045*x1**2 - x2 :   0.0 :   True\n",
      "\n",
      "6 Declarations: x1 x2 t cuts_index cuts obj\n"
     ]
    }
   ],
   "source": [
    "mrp.pprint()"
   ],
   "metadata": {
    "collapsed": false,
    "ExecuteTime": {
     "end_time": "2024-01-26T16:26:27.270113Z",
     "start_time": "2024-01-26T16:26:27.227229100Z"
    }
   }
  },
  {
   "cell_type": "code",
   "execution_count": 28,
   "outputs": [
    {
     "data": {
      "text/plain": "True"
     },
     "execution_count": 28,
     "metadata": {},
     "output_type": "execute_result"
    }
   ],
   "source": [
    "mrp.t = 0.01 # referenced from paper, 3rd\n",
    "\n",
    "# feasibility test\n",
    "value(((4.8-5*math.sin(math.pi*math.sqrt(value(mrp.t)))) / (1+value(mrp.t)**2) * mrp.x1**2 - mrp.x2) <= 0)"
   ],
   "metadata": {
    "collapsed": false,
    "ExecuteTime": {
     "end_time": "2024-01-26T16:26:27.290060400Z",
     "start_time": "2024-01-26T16:26:27.244183200Z"
    }
   }
  },
  {
   "cell_type": "markdown",
   "source": [
    "### Plotting the problem"
   ],
   "metadata": {
    "collapsed": false
   }
  },
  {
   "cell_type": "code",
   "execution_count": 29,
   "outputs": [
    {
     "name": "stderr",
     "output_type": "stream",
     "text": [
      "C:\\Users\\zyuliu\\.conda\\envs\\optimization\\lib\\site-packages\\scipy\\optimize\\_minpack_py.py:177: RuntimeWarning: The iteration is not making good progress, as measured by the \n",
      "  improvement from the last ten iterations.\n",
      "  warnings.warn(msg, RuntimeWarning)\n"
     ]
    },
    {
     "data": {
      "text/plain": "<Figure size 800x600 with 2 Axes>",
      "image/png": "[encoded data removed]"
     },
     "metadata": {},
     "output_type": "display_data"
    }
   ],
   "source": [
    "def f(x1, x2):\n",
    "    return (x1 - 2)**2 + (x2 - 0.2)**2\n",
    "\n",
    "def constraint(x1, x2, t):\n",
    "    return (4.8 - 5 * math.sin(math.pi * math.sqrt(t))) / (1 + t**2) * x1**2 - x2\n",
    "\n",
    "t = 0.25  # deterministic\n",
    "x1_values = np.linspace(-1, 1, 400)\n",
    "x2_values = [fsolve(constraint, 0, args=(x1_val, t))[0] for x1_val in x1_values]\n",
    "\n",
    "# Generate a grid of x1, x2 values\n",
    "x1 = np.linspace(-1, 1, 400)\n",
    "x2 = np.linspace(0, 0.2, 400)\n",
    "x1, x2 = np.meshgrid(x1, x2)\n",
    "\n",
    "# Apply the constraint to the grid\n",
    "constraint_values = constraint(x1, x2, t)\n",
    "\n",
    "# Compute f(x1, x2) over the grid\n",
    "z = f(x1, x2)\n",
    "\n",
    "# Plot the contour\n",
    "plt.figure(figsize=(8, 6))\n",
    "plt.plot(x1_values, x2_values, 'r-', label='Constraint')\n",
    "\n",
    "contour = plt.contourf(x1, x2, z, levels=50, cmap='viridis')\n",
    "plt.colorbar(contour)\n",
    "plt.title('Contour Plot')\n",
    "plt.xlabel('x1')\n",
    "plt.ylabel('x2')\n",
    "\n",
    "plt.xlim(-1,1)\n",
    "plt.ylim(0,0.2)\n",
    "plt.show()\n"
   ],
   "metadata": {
    "collapsed": false,
    "pycharm": {
     "name": "#%%\n"
    },
    "ExecuteTime": {
     "end_time": "2024-01-26T16:26:27.621176400Z",
     "start_time": "2024-01-26T16:26:27.270113Z"
    }
   }
  },
  {
   "cell_type": "code",
   "execution_count": 29,
   "outputs": [],
   "source": [],
   "metadata": {
    "collapsed": false,
    "ExecuteTime": {
     "end_time": "2024-01-26T16:26:27.691987Z",
     "start_time": "2024-01-26T16:26:27.623172500Z"
    }
   }
  }
 ],
 "metadata": {
  "kernelspec": {
   "display_name": "Python 3",
   "language": "python",
   "name": "python3"
  },
  "language_info": {
   "codemirror_mode": {
    "name": "ipython",
    "version": 2
   },
   "file_extension": ".py",
   "mimetype": "text/x-python",
   "name": "python",
   "nbconvert_exporter": "python",
   "pygments_lexer": "ipython2",
   "version": "2.7.6"
  }
 },
 "nbformat": 4,
 "nbformat_minor": 0
}
