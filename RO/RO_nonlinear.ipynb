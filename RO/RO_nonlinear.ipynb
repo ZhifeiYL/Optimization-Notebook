{
 "cells": [
  {
   "cell_type": "code",
   "execution_count": 1,
   "metadata": {
    "collapsed": true,
    "ExecuteTime": {
     "end_time": "2024-01-25T16:20:49.369952Z",
     "start_time": "2024-01-25T16:20:48.070509200Z"
    }
   },
   "outputs": [],
   "source": [
    "from pyomo.environ import *\n",
    "import matplotlib.pyplot as plt\n",
    "import numpy as np"
   ]
  },
  {
   "cell_type": "markdown",
   "source": [
    "### Illustrative example of the paper study\n",
    "\n",
    "\n",
    "\\begin{align*}\n",
    "    \\textbf{Min} & (x_1-2)^2 + (x_2-0.2)^2 \\\\\n",
    "    s.t. & \\frac{4.8-5sin(\\pi \\sqrt{t})}{1+t^2} x_1^2 - x_2 \\le 0 \\quad \\forall \\in [0, 0.5]\\\\\n",
    "    & x_1 \\in [-1, 1], x_2 \\in [0, 0.2]\n",
    "\\end{align*}"
   ],
   "metadata": {
    "collapsed": false
   }
  },
  {
   "cell_type": "code",
   "execution_count": null,
   "outputs": [],
   "source": [],
   "metadata": {
    "collapsed": false
   }
  }
 ],
 "metadata": {
  "kernelspec": {
   "display_name": "Python 3",
   "language": "python",
   "name": "python3"
  },
  "language_info": {
   "codemirror_mode": {
    "name": "ipython",
    "version": 2
   },
   "file_extension": ".py",
   "mimetype": "text/x-python",
   "name": "python",
   "nbconvert_exporter": "python",
   "pygments_lexer": "ipython2",
   "version": "2.7.6"
  }
 },
 "nbformat": 4,
 "nbformat_minor": 0
}
