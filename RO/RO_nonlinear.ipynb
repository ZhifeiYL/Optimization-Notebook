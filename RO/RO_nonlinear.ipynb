{
 "cells": [
  {
   "cell_type": "code",
   "execution_count": 19,
   "metadata": {
    "collapsed": true,
    "ExecuteTime": {
     "end_time": "2024-01-25T16:20:49.369952Z",
     "start_time": "2024-01-25T16:20:48.070509200Z"
    },
    "pycharm": {
     "name": "#%%\n"
    }
   },
   "outputs": [],
   "source": [
    "from pyomo.environ import *\n",
    "import matplotlib.pyplot as plt\n",
    "import numpy as np\n",
    "import math"
   ]
  },
  {
   "cell_type": "code",
   "execution_count": 20,
   "outputs": [],
   "source": [
    "def solve_model(m):\n",
    "    opt1 = SolverFactory('gams')\n",
    "    io_options = dict()\n",
    "\n",
    "    io_options['solver'] = \"conopt\"\n",
    "    res = opt1.solve(m,\n",
    "        tee=True,\n",
    "        add_options = ['option reslim=7200; option optcr=0.0; option limrow=5000'],\n",
    "        io_options=io_options)\n",
    "\n",
    "    return res"
   ],
   "metadata": {
    "collapsed": false,
    "pycharm": {
     "name": "#%%\n"
    }
   }
  },
  {
   "cell_type": "markdown",
   "source": [
    "### Illustrative example of the paper study\n",
    "\n",
    "\n",
    "\\begin{align*}\n",
    "    \\textbf{Min} & (x_1-2)^2 + (x_2-0.2)^2 \\\\\n",
    "    s.t. & \\frac{4.8-5sin(\\pi \\sqrt{t})}{1+t^2} x_1^2 - x_2 \\le 0 \\quad \\forall t \\in [0, 0.5]\\\\\n",
    "    & x_1 \\in [-1, 1], x_2 \\in [0, 0.2]\n",
    "\\end{align*}"
   ],
   "metadata": {
    "collapsed": false,
    "pycharm": {
     "name": "#%% md\n"
    }
   }
  },
  {
   "cell_type": "code",
   "execution_count": 21,
   "outputs": [],
   "source": [
    "def det_ex1():\n",
    "    m = ConcreteModel()\n",
    "\n",
    "    m.x1 = Var(within=(-1,1))\n",
    "    m.x2 = Var(within=(0,0.2))\n",
    "\n",
    "    m.t = Param(initialize=0.25)\n",
    "\n",
    "    def det_constr(model):\n",
    "        return (4.8-5*math.sin(math.pi*math.sqrt(model.t))) / (1+model.t**2) * model.x1**2 - model.x2 <= 0\n",
    "    m.c1 = Constraint(rule=det_constr)\n",
    "\n",
    "    m.obj = Objective(expr=(m.x1-2)**2 + (m.x2-0.2)**2, sense=minimize)\n",
    "\n",
    "    return m"
   ],
   "metadata": {
    "collapsed": false,
    "pycharm": {
     "name": "#%%\n"
    }
   }
  },
  {
   "cell_type": "code",
   "execution_count": 22,
   "outputs": [
    {
     "ename": "NameError",
     "evalue": "'gams' command failed to solve a simple model - GAMS shell solver functionality is not available.",
     "output_type": "error",
     "traceback": [
      "\u001B[0;31m---------------------------------------------------------------------------\u001B[0m",
      "\u001B[0;31mNameError\u001B[0m                                 Traceback (most recent call last)",
      "Cell \u001B[0;32mIn[22], line 2\u001B[0m\n\u001B[1;32m      1\u001B[0m m \u001B[38;5;241m=\u001B[39m det_ex1()\n\u001B[0;32m----> 2\u001B[0m \u001B[43msolve_model\u001B[49m\u001B[43m(\u001B[49m\u001B[43mm\u001B[49m\u001B[43m)\u001B[49m\n",
      "Cell \u001B[0;32mIn[20], line 6\u001B[0m, in \u001B[0;36msolve_model\u001B[0;34m(m)\u001B[0m\n\u001B[1;32m      3\u001B[0m io_options \u001B[38;5;241m=\u001B[39m \u001B[38;5;28mdict\u001B[39m()\n\u001B[1;32m      5\u001B[0m io_options[\u001B[38;5;124m'\u001B[39m\u001B[38;5;124msolver\u001B[39m\u001B[38;5;124m'\u001B[39m] \u001B[38;5;241m=\u001B[39m \u001B[38;5;124m\"\u001B[39m\u001B[38;5;124mconopt\u001B[39m\u001B[38;5;124m\"\u001B[39m\n\u001B[0;32m----> 6\u001B[0m res \u001B[38;5;241m=\u001B[39m \u001B[43mopt1\u001B[49m\u001B[38;5;241;43m.\u001B[39;49m\u001B[43msolve\u001B[49m\u001B[43m(\u001B[49m\u001B[43mm\u001B[49m\u001B[43m,\u001B[49m\n\u001B[1;32m      7\u001B[0m \u001B[43m    \u001B[49m\u001B[43mtee\u001B[49m\u001B[38;5;241;43m=\u001B[39;49m\u001B[38;5;28;43;01mTrue\u001B[39;49;00m\u001B[43m,\u001B[49m\n\u001B[1;32m      8\u001B[0m \u001B[43m    \u001B[49m\u001B[43madd_options\u001B[49m\u001B[43m \u001B[49m\u001B[38;5;241;43m=\u001B[39;49m\u001B[43m \u001B[49m\u001B[43m[\u001B[49m\u001B[38;5;124;43m'\u001B[39;49m\u001B[38;5;124;43moption reslim=7200; option optcr=0.0; option limrow=5000\u001B[39;49m\u001B[38;5;124;43m'\u001B[39;49m\u001B[43m]\u001B[49m\u001B[43m,\u001B[49m\n\u001B[1;32m      9\u001B[0m \u001B[43m    \u001B[49m\u001B[43mio_options\u001B[49m\u001B[38;5;241;43m=\u001B[39;49m\u001B[43mio_options\u001B[49m\u001B[43m)\u001B[49m\n\u001B[1;32m     11\u001B[0m \u001B[38;5;28;01mreturn\u001B[39;00m res\n",
      "File \u001B[0;32m~/anaconda3/envs/optimization/lib/python3.10/site-packages/pyomo/solvers/plugins/solvers/GAMS.py:766\u001B[0m, in \u001B[0;36mGAMSShell.solve\u001B[0;34m(self, *args, **kwds)\u001B[0m\n\u001B[1;32m    737\u001B[0m \u001B[38;5;250m\u001B[39m\u001B[38;5;124;03m\"\"\"\u001B[39;00m\n\u001B[1;32m    738\u001B[0m \u001B[38;5;124;03mSolve a model via the GAMS executable.\u001B[39;00m\n\u001B[1;32m    739\u001B[0m \n\u001B[0;32m   (...)\u001B[0m\n\u001B[1;32m    762\u001B[0m \u001B[38;5;124;03m    GAMSShell solver.\u001B[39;00m\n\u001B[1;32m    763\u001B[0m \u001B[38;5;124;03m\"\"\"\u001B[39;00m\n\u001B[1;32m    765\u001B[0m \u001B[38;5;66;03m# Make sure available() doesn't crash\u001B[39;00m\n\u001B[0;32m--> 766\u001B[0m \u001B[38;5;28;43mself\u001B[39;49m\u001B[38;5;241;43m.\u001B[39;49m\u001B[43mavailable\u001B[49m\u001B[43m(\u001B[49m\u001B[43m)\u001B[49m\n\u001B[1;32m    768\u001B[0m \u001B[38;5;28;01mif\u001B[39;00m \u001B[38;5;28mlen\u001B[39m(args) \u001B[38;5;241m!=\u001B[39m \u001B[38;5;241m1\u001B[39m:\n\u001B[1;32m    769\u001B[0m     \u001B[38;5;28;01mraise\u001B[39;00m \u001B[38;5;167;01mValueError\u001B[39;00m(\n\u001B[1;32m    770\u001B[0m         \u001B[38;5;124m'\u001B[39m\u001B[38;5;124mExactly one model must be passed to solve method of GAMSSolver.\u001B[39m\u001B[38;5;124m'\u001B[39m\n\u001B[1;32m    771\u001B[0m     )\n",
      "File \u001B[0;32m~/anaconda3/envs/optimization/lib/python3.10/site-packages/pyomo/solvers/plugins/solvers/GAMS.py:663\u001B[0m, in \u001B[0;36mGAMSShell.available\u001B[0;34m(self, exception_flag)\u001B[0m\n\u001B[1;32m    661\u001B[0m avail \u001B[38;5;241m=\u001B[39m \u001B[38;5;28mself\u001B[39m\u001B[38;5;241m.\u001B[39m_run_simple_model(\u001B[38;5;241m1\u001B[39m)\n\u001B[1;32m    662\u001B[0m \u001B[38;5;28;01mif\u001B[39;00m \u001B[38;5;129;01mnot\u001B[39;00m avail \u001B[38;5;129;01mand\u001B[39;00m exception_flag:\n\u001B[0;32m--> 663\u001B[0m     \u001B[38;5;28;01mraise\u001B[39;00m \u001B[38;5;167;01mNameError\u001B[39;00m(\n\u001B[1;32m    664\u001B[0m         \u001B[38;5;124m\"\u001B[39m\u001B[38;5;124m'\u001B[39m\u001B[38;5;124mgams\u001B[39m\u001B[38;5;124m'\u001B[39m\u001B[38;5;124m command failed to solve a simple model - \u001B[39m\u001B[38;5;124m\"\u001B[39m\n\u001B[1;32m    665\u001B[0m         \u001B[38;5;124m\"\u001B[39m\u001B[38;5;124mGAMS shell solver functionality is not available.\u001B[39m\u001B[38;5;124m\"\u001B[39m\n\u001B[1;32m    666\u001B[0m     )\n\u001B[1;32m    667\u001B[0m \u001B[38;5;28;01mreturn\u001B[39;00m avail\n",
      "\u001B[0;31mNameError\u001B[0m: 'gams' command failed to solve a simple model - GAMS shell solver functionality is not available."
     ]
    }
   ],
   "source": [
    "m = det_ex1()\n",
    "solve_model(m)"
   ],
   "metadata": {
    "collapsed": false,
    "pycharm": {
     "name": "#%%\n"
    }
   }
  },
  {
   "cell_type": "code",
   "execution_count": null,
   "outputs": [],
   "source": [],
   "metadata": {
    "collapsed": false,
    "pycharm": {
     "name": "#%%\n"
    }
   }
  }
 ],
 "metadata": {
  "kernelspec": {
   "display_name": "Python 3",
   "language": "python",
   "name": "python3"
  },
  "language_info": {
   "codemirror_mode": {
    "name": "ipython",
    "version": 2
   },
   "file_extension": ".py",
   "mimetype": "text/x-python",
   "name": "python",
   "nbconvert_exporter": "python",
   "pygments_lexer": "ipython2",
   "version": "2.7.6"
  }
 },
 "nbformat": 4,
 "nbformat_minor": 0
}