{
 "cells": [
  {
   "cell_type": "code",
   "execution_count": 64,
   "outputs": [
    {
     "data": {
      "text/plain": "(4921, 24)"
     },
     "execution_count": 64,
     "metadata": {},
     "output_type": "execute_result"
    }
   ],
   "source": [
    "import pandas as pd\n",
    "import numpy as np\n",
    "\n",
    "from util.util import get_root_dir\n",
    "\n",
    "root_dir = get_root_dir()\n",
    "proj_dir = root_dir + \"/surrogate/plastic_train3/\"\n",
    "df_samples_all = pd.read_csv(proj_dir + \"data/split_1.csv\")\n",
    "df_samples = df_samples_all.head(4921)\n",
    "# df_samples = df_samples.drop(df_samples.index[0])\n",
    "# df_samples = df_samples.reset_index(drop=False)  # Resets the index, drop=True to not add the old index as a column\n",
    "df_samples.index += 1  # Shifts the index to start from 1 instead of 0\n",
    "len(df_samples), len(df_samples.columns)"
   ],
   "metadata": {
    "collapsed": false,
    "pycharm": {
     "name": "#%%\n"
    }
   }
  },
  {
   "cell_type": "code",
   "execution_count": 65,
   "outputs": [
    {
     "data": {
      "text/plain": "            RR        C1A        C2A        C3A        C4A        C5A  \\\n1     1.393198  11.684340   1.273130   5.305100   6.660414   7.948802   \n2     0.724215  16.813480   4.517268   9.999930   5.642393  17.605590   \n3     7.406379   3.415556   5.011022   0.596657   1.827907   3.171979   \n4     8.944211  18.913756  16.376394  11.607721   2.103287   5.227991   \n5     9.453259   2.241448  13.435875  14.679419  14.435804   7.672524   \n...        ...        ...        ...        ...        ...        ...   \n4917  1.142603   0.558378   9.417737  15.736525   2.912740  14.783382   \n4918  1.909409  15.841014   1.225876   5.822946   7.912030   1.308276   \n4919  5.012256   2.500662   8.836560   5.534823   7.180857   0.053168   \n4920  3.219167   4.201787  18.445358  18.520414   6.937092  15.501507   \n4921  7.687829   7.603072   6.233029   2.236421   5.790021   0.230031   \n\n            C6A        C7A        C8A        C9A  ...      C14A      C15A  \\\n1      6.726654  12.089276   1.865424   4.660741  ...  1.854641  0.251519   \n2      0.042730  12.568575  11.944991   2.334839  ...  2.239450  1.208740   \n3      1.635084   4.777516   3.171616  11.034399  ...  4.357271  4.798355   \n4     16.765075   8.914971  15.314472   0.207355  ...  0.360233  0.678363   \n5     15.539639   9.175160  12.891115   0.843655  ...  0.414512  0.219901   \n...         ...        ...        ...        ...  ...       ...       ...   \n4917   1.749328   6.147020   7.964188   0.773068  ...  7.333421  5.071334   \n4918   1.839985  13.083639  19.514307   3.548127  ...  2.554813  1.158216   \n4919   9.951217   3.406577   3.282413   7.803590  ...  2.859887  5.580861   \n4920  16.479216   0.942876   4.541228   1.592789  ...  0.560533  1.071296   \n4921   3.755946   3.172514   8.445061   5.492609  ...  4.399546  1.131030   \n\n           C16A      C17A      C18A      C19A      C20A      C21A      C22A  \\\n1      0.911600  1.489580  5.738935  6.173920  5.573396  1.191136  1.960878   \n2      0.397408  2.570099  2.449287  2.332307  0.862148  1.776700  1.409766   \n3     11.602182  9.625293  1.404583  1.467659  5.150667  0.773082  9.512836   \n4      0.175621  0.440324  0.349630  0.260839  0.182060  0.503139  0.322567   \n5      1.239687  1.126692  0.082818  1.251117  0.121132  1.104631  0.653354   \n...         ...       ...       ...       ...       ...       ...       ...   \n4917   7.410276  0.390071  2.082488  1.036831  2.253018  1.681553  2.474805   \n4918   0.603655  3.124322  2.914834  2.123980  3.767327  3.636673  3.249306   \n4919   3.281813  2.958619  3.654547  8.500412  1.113462  2.878739  7.715907   \n4920   0.420056  0.540224  1.291018  1.291093  1.280072  0.419822  0.409698   \n4921   5.254168  5.284433  3.274062  1.743096  7.292087  1.850281  6.032324   \n\n           D:F  \n1     0.535531  \n2     0.791350  \n3     0.236073  \n4     0.952237  \n5     0.900710  \n...        ...  \n4917  0.592693  \n4918  0.665481  \n4919  0.407463  \n4920  0.855695  \n4921  0.374661  \n\n[4921 rows x 24 columns]",
      "text/html": "<div>\n<style scoped>\n    .dataframe tbody tr th:only-of-type {\n        vertical-align: middle;\n    }\n\n    .dataframe tbody tr th {\n        vertical-align: top;\n    }\n\n    .dataframe thead th {\n        text-align: right;\n    }\n</style>\n<table border=\"1\" class=\"dataframe\">\n  <thead>\n    <tr style=\"text-align: right;\">\n      <th></th>\n      <th>RR</th>\n      <th>C1A</th>\n      <th>C2A</th>\n      <th>C3A</th>\n      <th>C4A</th>\n      <th>C5A</th>\n      <th>C6A</th>\n      <th>C7A</th>\n      <th>C8A</th>\n      <th>C9A</th>\n      <th>...</th>\n      <th>C14A</th>\n      <th>C15A</th>\n      <th>C16A</th>\n      <th>C17A</th>\n      <th>C18A</th>\n      <th>C19A</th>\n      <th>C20A</th>\n      <th>C21A</th>\n      <th>C22A</th>\n      <th>D:F</th>\n    </tr>\n  </thead>\n  <tbody>\n    <tr>\n      <th>1</th>\n      <td>1.393198</td>\n      <td>11.684340</td>\n      <td>1.273130</td>\n      <td>5.305100</td>\n      <td>6.660414</td>\n      <td>7.948802</td>\n      <td>6.726654</td>\n      <td>12.089276</td>\n      <td>1.865424</td>\n      <td>4.660741</td>\n      <td>...</td>\n      <td>1.854641</td>\n      <td>0.251519</td>\n      <td>0.911600</td>\n      <td>1.489580</td>\n      <td>5.738935</td>\n      <td>6.173920</td>\n      <td>5.573396</td>\n      <td>1.191136</td>\n      <td>1.960878</td>\n      <td>0.535531</td>\n    </tr>\n    <tr>\n      <th>2</th>\n      <td>0.724215</td>\n      <td>16.813480</td>\n      <td>4.517268</td>\n      <td>9.999930</td>\n      <td>5.642393</td>\n      <td>17.605590</td>\n      <td>0.042730</td>\n      <td>12.568575</td>\n      <td>11.944991</td>\n      <td>2.334839</td>\n      <td>...</td>\n      <td>2.239450</td>\n      <td>1.208740</td>\n      <td>0.397408</td>\n      <td>2.570099</td>\n      <td>2.449287</td>\n      <td>2.332307</td>\n      <td>0.862148</td>\n      <td>1.776700</td>\n      <td>1.409766</td>\n      <td>0.791350</td>\n    </tr>\n    <tr>\n      <th>3</th>\n      <td>7.406379</td>\n      <td>3.415556</td>\n      <td>5.011022</td>\n      <td>0.596657</td>\n      <td>1.827907</td>\n      <td>3.171979</td>\n      <td>1.635084</td>\n      <td>4.777516</td>\n      <td>3.171616</td>\n      <td>11.034399</td>\n      <td>...</td>\n      <td>4.357271</td>\n      <td>4.798355</td>\n      <td>11.602182</td>\n      <td>9.625293</td>\n      <td>1.404583</td>\n      <td>1.467659</td>\n      <td>5.150667</td>\n      <td>0.773082</td>\n      <td>9.512836</td>\n      <td>0.236073</td>\n    </tr>\n    <tr>\n      <th>4</th>\n      <td>8.944211</td>\n      <td>18.913756</td>\n      <td>16.376394</td>\n      <td>11.607721</td>\n      <td>2.103287</td>\n      <td>5.227991</td>\n      <td>16.765075</td>\n      <td>8.914971</td>\n      <td>15.314472</td>\n      <td>0.207355</td>\n      <td>...</td>\n      <td>0.360233</td>\n      <td>0.678363</td>\n      <td>0.175621</td>\n      <td>0.440324</td>\n      <td>0.349630</td>\n      <td>0.260839</td>\n      <td>0.182060</td>\n      <td>0.503139</td>\n      <td>0.322567</td>\n      <td>0.952237</td>\n    </tr>\n    <tr>\n      <th>5</th>\n      <td>9.453259</td>\n      <td>2.241448</td>\n      <td>13.435875</td>\n      <td>14.679419</td>\n      <td>14.435804</td>\n      <td>7.672524</td>\n      <td>15.539639</td>\n      <td>9.175160</td>\n      <td>12.891115</td>\n      <td>0.843655</td>\n      <td>...</td>\n      <td>0.414512</td>\n      <td>0.219901</td>\n      <td>1.239687</td>\n      <td>1.126692</td>\n      <td>0.082818</td>\n      <td>1.251117</td>\n      <td>0.121132</td>\n      <td>1.104631</td>\n      <td>0.653354</td>\n      <td>0.900710</td>\n    </tr>\n    <tr>\n      <th>...</th>\n      <td>...</td>\n      <td>...</td>\n      <td>...</td>\n      <td>...</td>\n      <td>...</td>\n      <td>...</td>\n      <td>...</td>\n      <td>...</td>\n      <td>...</td>\n      <td>...</td>\n      <td>...</td>\n      <td>...</td>\n      <td>...</td>\n      <td>...</td>\n      <td>...</td>\n      <td>...</td>\n      <td>...</td>\n      <td>...</td>\n      <td>...</td>\n      <td>...</td>\n      <td>...</td>\n    </tr>\n    <tr>\n      <th>4917</th>\n      <td>1.142603</td>\n      <td>0.558378</td>\n      <td>9.417737</td>\n      <td>15.736525</td>\n      <td>2.912740</td>\n      <td>14.783382</td>\n      <td>1.749328</td>\n      <td>6.147020</td>\n      <td>7.964188</td>\n      <td>0.773068</td>\n      <td>...</td>\n      <td>7.333421</td>\n      <td>5.071334</td>\n      <td>7.410276</td>\n      <td>0.390071</td>\n      <td>2.082488</td>\n      <td>1.036831</td>\n      <td>2.253018</td>\n      <td>1.681553</td>\n      <td>2.474805</td>\n      <td>0.592693</td>\n    </tr>\n    <tr>\n      <th>4918</th>\n      <td>1.909409</td>\n      <td>15.841014</td>\n      <td>1.225876</td>\n      <td>5.822946</td>\n      <td>7.912030</td>\n      <td>1.308276</td>\n      <td>1.839985</td>\n      <td>13.083639</td>\n      <td>19.514307</td>\n      <td>3.548127</td>\n      <td>...</td>\n      <td>2.554813</td>\n      <td>1.158216</td>\n      <td>0.603655</td>\n      <td>3.124322</td>\n      <td>2.914834</td>\n      <td>2.123980</td>\n      <td>3.767327</td>\n      <td>3.636673</td>\n      <td>3.249306</td>\n      <td>0.665481</td>\n    </tr>\n    <tr>\n      <th>4919</th>\n      <td>5.012256</td>\n      <td>2.500662</td>\n      <td>8.836560</td>\n      <td>5.534823</td>\n      <td>7.180857</td>\n      <td>0.053168</td>\n      <td>9.951217</td>\n      <td>3.406577</td>\n      <td>3.282413</td>\n      <td>7.803590</td>\n      <td>...</td>\n      <td>2.859887</td>\n      <td>5.580861</td>\n      <td>3.281813</td>\n      <td>2.958619</td>\n      <td>3.654547</td>\n      <td>8.500412</td>\n      <td>1.113462</td>\n      <td>2.878739</td>\n      <td>7.715907</td>\n      <td>0.407463</td>\n    </tr>\n    <tr>\n      <th>4920</th>\n      <td>3.219167</td>\n      <td>4.201787</td>\n      <td>18.445358</td>\n      <td>18.520414</td>\n      <td>6.937092</td>\n      <td>15.501507</td>\n      <td>16.479216</td>\n      <td>0.942876</td>\n      <td>4.541228</td>\n      <td>1.592789</td>\n      <td>...</td>\n      <td>0.560533</td>\n      <td>1.071296</td>\n      <td>0.420056</td>\n      <td>0.540224</td>\n      <td>1.291018</td>\n      <td>1.291093</td>\n      <td>1.280072</td>\n      <td>0.419822</td>\n      <td>0.409698</td>\n      <td>0.855695</td>\n    </tr>\n    <tr>\n      <th>4921</th>\n      <td>7.687829</td>\n      <td>7.603072</td>\n      <td>6.233029</td>\n      <td>2.236421</td>\n      <td>5.790021</td>\n      <td>0.230031</td>\n      <td>3.755946</td>\n      <td>3.172514</td>\n      <td>8.445061</td>\n      <td>5.492609</td>\n      <td>...</td>\n      <td>4.399546</td>\n      <td>1.131030</td>\n      <td>5.254168</td>\n      <td>5.284433</td>\n      <td>3.274062</td>\n      <td>1.743096</td>\n      <td>7.292087</td>\n      <td>1.850281</td>\n      <td>6.032324</td>\n      <td>0.374661</td>\n    </tr>\n  </tbody>\n</table>\n<p>4921 rows × 24 columns</p>\n</div>"
     },
     "execution_count": 65,
     "metadata": {},
     "output_type": "execute_result"
    }
   ],
   "source": [
    "df_samples"
   ],
   "metadata": {
    "collapsed": false,
    "pycharm": {
     "name": "#%%\n"
    }
   }
  },
  {
   "cell_type": "code",
   "execution_count": 66,
   "outputs": [
    {
     "data": {
      "text/plain": "(4921, 56)"
     },
     "execution_count": 66,
     "metadata": {},
     "output_type": "execute_result"
    }
   ],
   "source": [
    "df_outputs = pd.read_csv(proj_dir + \"data/result_space1.csv\")\n",
    "df_outputs.columns = df_outputs.iloc[0]\n",
    "df_outputs = df_outputs.drop(df_outputs.index[0])\n",
    "len(df_outputs), len(df_outputs.columns)"
   ],
   "metadata": {
    "collapsed": false,
    "pycharm": {
     "name": "#%%\n"
    }
   }
  },
  {
   "cell_type": "code",
   "execution_count": 67,
   "outputs": [
    {
     "data": {
      "text/plain": "             C1A_H         C2A_H         C3A_H         C4A_H         C5A_H  \\\n1              NaN           NaN           NaN           NaN           NaN   \n2     4.980695e-58  8.332516e-47  1.955321e-38  2.179682e-31  1.660714e-23   \n3     1.056911e-57  2.021144e-44  1.201740e-35  5.033652e-27  2.265823e-19   \n4     5.044016e-36  1.161409e-15  3.882590e-01  5.700532e+00  5.401813e+00   \n5              NaN           NaN           NaN           NaN           NaN   \n...            ...           ...           ...           ...           ...   \n4917  4.117101e-37  2.753973e-14  4.332732e+00  7.180857e+00  5.316800e-02   \n4918  3.643396e-55  4.065339e-39  1.478596e-29  1.449408e-19  5.353527e-10   \n4919           NaN           NaN           NaN           NaN           NaN   \n4920           NaN           NaN           NaN           NaN           NaN   \n4921           NaN           NaN           NaN           NaN           NaN   \n\n             C6A_H         C7A_H      C8A_H     C9A_H    C10A_H  ...  \\\n1              NaN           NaN        NaN       NaN       NaN  ...   \n2     1.079635e-15  8.879310e-09  11.206745  0.207355  0.521695  ...   \n3     8.942565e-10  7.845015e-01  12.891115  0.843655  0.854270  ...   \n4     2.190446e+00  2.215805e+00   5.130466  8.736231  7.291667  ...   \n5              NaN           NaN        NaN       NaN       NaN  ...   \n...            ...           ...        ...       ...       ...  ...   \n4917  9.951217e+00  3.406577e+00   3.282413  7.803590  5.643138  ...   \n4918  1.335832e+01  9.428760e-01   4.541228  1.592789  1.820069  ...   \n4919           NaN           NaN        NaN       NaN       NaN  ...   \n4920           NaN           NaN        NaN       NaN       NaN  ...   \n4921           NaN           NaN        NaN       NaN       NaN  ...   \n\n          TEMP_L  PRES_L    BU_RATIO  BOTTOM_TEMP  COND_DUTY  REB_DUTY  \\\n1            NaN     NaN         NaN          NaN        NaN       NaN   \n2    -192.471593    0.02  112.546403    28.832718  -0.153625  0.134642   \n3    -182.194683    0.02   70.433982    28.692351  -0.136379  0.119683   \n4    -185.247575    0.02    0.125697   -55.477194  -0.009356  0.001035   \n5            NaN     NaN         NaN          NaN        NaN       NaN   \n...          ...     ...         ...          ...        ...       ...   \n4917 -188.551482    0.02    0.215038   -81.512040  -0.011944  0.001077   \n4918 -184.946552    0.02   13.063060   -10.398295  -0.047118  0.030458   \n4919         NaN     NaN         NaN          NaN        NaN       NaN   \n4920         NaN     NaN         NaN          NaN        NaN       NaN   \n4921         NaN     NaN         NaN          NaN        NaN       NaN   \n\n       REB_TOUT  REB_POUT    TOP_TEMP  TOP_VFLOW  \n1           NaN       NaN         NaN        NaN  \n2     28.832718      0.02 -192.471593        0.0  \n3     28.692351      0.02 -182.194683        0.0  \n4    -55.477194      0.02 -185.247575        0.0  \n5           NaN       NaN         NaN        NaN  \n...         ...       ...         ...        ...  \n4917 -81.512040      0.02 -188.551482        0.0  \n4918 -10.398295      0.02 -184.946552        0.0  \n4919        NaN       NaN         NaN        NaN  \n4920        NaN       NaN         NaN        NaN  \n4921        NaN       NaN         NaN        NaN  \n\n[4921 rows x 56 columns]",
      "text/html": "<div>\n<style scoped>\n    .dataframe tbody tr th:only-of-type {\n        vertical-align: middle;\n    }\n\n    .dataframe tbody tr th {\n        vertical-align: top;\n    }\n\n    .dataframe thead th {\n        text-align: right;\n    }\n</style>\n<table border=\"1\" class=\"dataframe\">\n  <thead>\n    <tr style=\"text-align: right;\">\n      <th></th>\n      <th>C1A_H</th>\n      <th>C2A_H</th>\n      <th>C3A_H</th>\n      <th>C4A_H</th>\n      <th>C5A_H</th>\n      <th>C6A_H</th>\n      <th>C7A_H</th>\n      <th>C8A_H</th>\n      <th>C9A_H</th>\n      <th>C10A_H</th>\n      <th>...</th>\n      <th>TEMP_L</th>\n      <th>PRES_L</th>\n      <th>BU_RATIO</th>\n      <th>BOTTOM_TEMP</th>\n      <th>COND_DUTY</th>\n      <th>REB_DUTY</th>\n      <th>REB_TOUT</th>\n      <th>REB_POUT</th>\n      <th>TOP_TEMP</th>\n      <th>TOP_VFLOW</th>\n    </tr>\n  </thead>\n  <tbody>\n    <tr>\n      <th>1</th>\n      <td>NaN</td>\n      <td>NaN</td>\n      <td>NaN</td>\n      <td>NaN</td>\n      <td>NaN</td>\n      <td>NaN</td>\n      <td>NaN</td>\n      <td>NaN</td>\n      <td>NaN</td>\n      <td>NaN</td>\n      <td>...</td>\n      <td>NaN</td>\n      <td>NaN</td>\n      <td>NaN</td>\n      <td>NaN</td>\n      <td>NaN</td>\n      <td>NaN</td>\n      <td>NaN</td>\n      <td>NaN</td>\n      <td>NaN</td>\n      <td>NaN</td>\n    </tr>\n    <tr>\n      <th>2</th>\n      <td>4.980695e-58</td>\n      <td>8.332516e-47</td>\n      <td>1.955321e-38</td>\n      <td>2.179682e-31</td>\n      <td>1.660714e-23</td>\n      <td>1.079635e-15</td>\n      <td>8.879310e-09</td>\n      <td>11.206745</td>\n      <td>0.207355</td>\n      <td>0.521695</td>\n      <td>...</td>\n      <td>-192.471593</td>\n      <td>0.02</td>\n      <td>112.546403</td>\n      <td>28.832718</td>\n      <td>-0.153625</td>\n      <td>0.134642</td>\n      <td>28.832718</td>\n      <td>0.02</td>\n      <td>-192.471593</td>\n      <td>0.0</td>\n    </tr>\n    <tr>\n      <th>3</th>\n      <td>1.056911e-57</td>\n      <td>2.021144e-44</td>\n      <td>1.201740e-35</td>\n      <td>5.033652e-27</td>\n      <td>2.265823e-19</td>\n      <td>8.942565e-10</td>\n      <td>7.845015e-01</td>\n      <td>12.891115</td>\n      <td>0.843655</td>\n      <td>0.854270</td>\n      <td>...</td>\n      <td>-182.194683</td>\n      <td>0.02</td>\n      <td>70.433982</td>\n      <td>28.692351</td>\n      <td>-0.136379</td>\n      <td>0.119683</td>\n      <td>28.692351</td>\n      <td>0.02</td>\n      <td>-182.194683</td>\n      <td>0.0</td>\n    </tr>\n    <tr>\n      <th>4</th>\n      <td>5.044016e-36</td>\n      <td>1.161409e-15</td>\n      <td>3.882590e-01</td>\n      <td>5.700532e+00</td>\n      <td>5.401813e+00</td>\n      <td>2.190446e+00</td>\n      <td>2.215805e+00</td>\n      <td>5.130466</td>\n      <td>8.736231</td>\n      <td>7.291667</td>\n      <td>...</td>\n      <td>-185.247575</td>\n      <td>0.02</td>\n      <td>0.125697</td>\n      <td>-55.477194</td>\n      <td>-0.009356</td>\n      <td>0.001035</td>\n      <td>-55.477194</td>\n      <td>0.02</td>\n      <td>-185.247575</td>\n      <td>0.0</td>\n    </tr>\n    <tr>\n      <th>5</th>\n      <td>NaN</td>\n      <td>NaN</td>\n      <td>NaN</td>\n      <td>NaN</td>\n      <td>NaN</td>\n      <td>NaN</td>\n      <td>NaN</td>\n      <td>NaN</td>\n      <td>NaN</td>\n      <td>NaN</td>\n      <td>...</td>\n      <td>NaN</td>\n      <td>NaN</td>\n      <td>NaN</td>\n      <td>NaN</td>\n      <td>NaN</td>\n      <td>NaN</td>\n      <td>NaN</td>\n      <td>NaN</td>\n      <td>NaN</td>\n      <td>NaN</td>\n    </tr>\n    <tr>\n      <th>...</th>\n      <td>...</td>\n      <td>...</td>\n      <td>...</td>\n      <td>...</td>\n      <td>...</td>\n      <td>...</td>\n      <td>...</td>\n      <td>...</td>\n      <td>...</td>\n      <td>...</td>\n      <td>...</td>\n      <td>...</td>\n      <td>...</td>\n      <td>...</td>\n      <td>...</td>\n      <td>...</td>\n      <td>...</td>\n      <td>...</td>\n      <td>...</td>\n      <td>...</td>\n      <td>...</td>\n    </tr>\n    <tr>\n      <th>4917</th>\n      <td>4.117101e-37</td>\n      <td>2.753973e-14</td>\n      <td>4.332732e+00</td>\n      <td>7.180857e+00</td>\n      <td>5.316800e-02</td>\n      <td>9.951217e+00</td>\n      <td>3.406577e+00</td>\n      <td>3.282413</td>\n      <td>7.803590</td>\n      <td>5.643138</td>\n      <td>...</td>\n      <td>-188.551482</td>\n      <td>0.02</td>\n      <td>0.215038</td>\n      <td>-81.512040</td>\n      <td>-0.011944</td>\n      <td>0.001077</td>\n      <td>-81.512040</td>\n      <td>0.02</td>\n      <td>-188.551482</td>\n      <td>0.0</td>\n    </tr>\n    <tr>\n      <th>4918</th>\n      <td>3.643396e-55</td>\n      <td>4.065339e-39</td>\n      <td>1.478596e-29</td>\n      <td>1.449408e-19</td>\n      <td>5.353527e-10</td>\n      <td>1.335832e+01</td>\n      <td>9.428760e-01</td>\n      <td>4.541228</td>\n      <td>1.592789</td>\n      <td>1.820069</td>\n      <td>...</td>\n      <td>-184.946552</td>\n      <td>0.02</td>\n      <td>13.063060</td>\n      <td>-10.398295</td>\n      <td>-0.047118</td>\n      <td>0.030458</td>\n      <td>-10.398295</td>\n      <td>0.02</td>\n      <td>-184.946552</td>\n      <td>0.0</td>\n    </tr>\n    <tr>\n      <th>4919</th>\n      <td>NaN</td>\n      <td>NaN</td>\n      <td>NaN</td>\n      <td>NaN</td>\n      <td>NaN</td>\n      <td>NaN</td>\n      <td>NaN</td>\n      <td>NaN</td>\n      <td>NaN</td>\n      <td>NaN</td>\n      <td>...</td>\n      <td>NaN</td>\n      <td>NaN</td>\n      <td>NaN</td>\n      <td>NaN</td>\n      <td>NaN</td>\n      <td>NaN</td>\n      <td>NaN</td>\n      <td>NaN</td>\n      <td>NaN</td>\n      <td>NaN</td>\n    </tr>\n    <tr>\n      <th>4920</th>\n      <td>NaN</td>\n      <td>NaN</td>\n      <td>NaN</td>\n      <td>NaN</td>\n      <td>NaN</td>\n      <td>NaN</td>\n      <td>NaN</td>\n      <td>NaN</td>\n      <td>NaN</td>\n      <td>NaN</td>\n      <td>...</td>\n      <td>NaN</td>\n      <td>NaN</td>\n      <td>NaN</td>\n      <td>NaN</td>\n      <td>NaN</td>\n      <td>NaN</td>\n      <td>NaN</td>\n      <td>NaN</td>\n      <td>NaN</td>\n      <td>NaN</td>\n    </tr>\n    <tr>\n      <th>4921</th>\n      <td>NaN</td>\n      <td>NaN</td>\n      <td>NaN</td>\n      <td>NaN</td>\n      <td>NaN</td>\n      <td>NaN</td>\n      <td>NaN</td>\n      <td>NaN</td>\n      <td>NaN</td>\n      <td>NaN</td>\n      <td>...</td>\n      <td>NaN</td>\n      <td>NaN</td>\n      <td>NaN</td>\n      <td>NaN</td>\n      <td>NaN</td>\n      <td>NaN</td>\n      <td>NaN</td>\n      <td>NaN</td>\n      <td>NaN</td>\n      <td>NaN</td>\n    </tr>\n  </tbody>\n</table>\n<p>4921 rows × 56 columns</p>\n</div>"
     },
     "execution_count": 67,
     "metadata": {},
     "output_type": "execute_result"
    }
   ],
   "source": [
    "df_outputs.columns = [\"C1A_H\", \"C2A_H\", \"C3A_H\", \"C4A_H\", \"C5A_H\", \"C6A_H\", \"C7A_H\", \"C8A_H\", \"C9A_H\", \"C10A_H\", \"C11A_H\", \"C12A_H\", \"C13A_H\", \"C14A_H\", \"C15A_H\", \"C16A_H\", \"C17A_H\", \"C18A_H\", \"C19A_H\", \"C20A_H\", \"C21A_H\", \"C22A_H\",\n",
    "                      \"C1A_L\", \"C2A_L\", \"C3A_L\", \"C4A_L\", \"C5A_L\", \"C6A_L\", \"C7A_L\", \"C8A_L\", \"C9A_L\", \"C10A_L\", \"C11A_L\", \"C12A_L\", \"C13A_L\", \"C14A_L\", \"C15A_L\", \"C16A_L\", \"C17A_L\", \"C18A_L\", \"C19A_L\", \"C20A_L\", \"C21A_L\", \"C22A_L\",\n",
    "                      \"TEMP_H\", \"PRES_H\", \"TEMP_L\", \"PRES_L\", \"BU_RATIO\", \"BOTTOM_TEMP\", \"COND_DUTY\", \"REB_DUTY\", \"REB_TOUT\", \"REB_POUT\", \"TOP_TEMP\", \"TOP_VFLOW\"\n",
    "                      ]\n",
    "df_outputs"
   ],
   "metadata": {
    "collapsed": false,
    "pycharm": {
     "name": "#%%\n"
    }
   }
  },
  {
   "cell_type": "code",
   "execution_count": 68,
   "outputs": [
    {
     "data": {
      "text/plain": "1          NaN\n2       100.00\n3       100.00\n4        92.49\n5          NaN\n         ...  \n4917     85.94\n4918    100.00\n4919       NaN\n4920       NaN\n4921       NaN\nLength: 4921, dtype: float64"
     },
     "execution_count": 68,
     "metadata": {},
     "output_type": "execute_result"
    }
   ],
   "source": [
    "light_purity = df_outputs.loc[:, \"C1A_L\":\"C8A_L\"].sum(axis=1)/df_outputs.loc[:, \"C1A_L\":\"C22A_L\"].sum(axis=1) * 100\n",
    "heavy_purity = df_outputs.loc[:, \"C5A_H\":\"C22A_H\"].sum(axis=1)/df_outputs.loc[:, \"C1A_H\":\"C22A_H\"].sum(axis=1) * 100\n",
    "heavy_purity.round(2)\n",
    "# light_purity.round(2)"
   ],
   "metadata": {
    "collapsed": false,
    "pycharm": {
     "name": "#%%\n"
    }
   }
  },
  {
   "cell_type": "code",
   "execution_count": 69,
   "outputs": [
    {
     "name": "stdout",
     "output_type": "stream",
     "text": [
      "Number of 0s: 2407\n",
      "Number of 1s: 2514\n"
     ]
    },
    {
     "data": {
      "text/plain": "(4921,)"
     },
     "execution_count": 69,
     "metadata": {},
     "output_type": "execute_result"
    }
   ],
   "source": [
    "labels = np.where(df_outputs.iloc[:, 0].isna(), 0, 1)\n",
    "count_0s = np.sum(labels == 0)\n",
    "count_1s = np.sum(labels == 1)\n",
    "\n",
    "print(f\"Number of 0s: {count_0s}\")\n",
    "print(f\"Number of 1s: {count_1s}\")\n",
    "np.shape(labels)"
   ],
   "metadata": {
    "collapsed": false,
    "pycharm": {
     "name": "#%%\n"
    }
   }
  },
  {
   "cell_type": "code",
   "execution_count": 70,
   "outputs": [
    {
     "data": {
      "text/plain": "(4921, 24)"
     },
     "execution_count": 70,
     "metadata": {},
     "output_type": "execute_result"
    }
   ],
   "source": [
    "input_data = df_samples.to_numpy()\n",
    "\n",
    "np.shape(input_data)"
   ],
   "metadata": {
    "collapsed": false,
    "pycharm": {
     "name": "#%%\n"
    }
   }
  },
  {
   "cell_type": "code",
   "execution_count": 71,
   "outputs": [
    {
     "name": "stdout",
     "output_type": "stream",
     "text": [
      "1962351712\n",
      "Accuracy of SVM model with RBF kernel: 0.4949\n"
     ]
    }
   ],
   "source": [
    "from sklearn.model_selection import train_test_split\n",
    "from sklearn.svm import SVC\n",
    "from sklearn.metrics import accuracy_score\n",
    "\n",
    "# Generate a random state\n",
    "random_state = np.random.RandomState()  # Create a random state object\n",
    "random_seed = random_state.randint(0, 2**31 - 1 )  # Generate a random seed\n",
    "print(random_seed)\n",
    "\n",
    "# Splitting the data into training and testing datasets\n",
    "split_ratio = 0.7\n",
    "X_train, X_test, y_train, y_test = train_test_split(input_data, labels, train_size=split_ratio, random_state=random_seed)\n",
    "\n",
    "# Hyperparameters for the SVM\n",
    "C_value = 100      # Example value; adjust as needed.\n",
    "gamma_value = 'scale'  # You can also specify a float value or 'auto'.\n",
    "\n",
    "# Creating an SVM model with RBF kernel\n",
    "svm_model = SVC(kernel='rbf', C=C_value, gamma=gamma_value)\n",
    "\n",
    "# Training the SVM model\n",
    "svm_model.fit(X_train, y_train)\n",
    "\n",
    "# Predicting on the test data\n",
    "y_pred = svm_model.predict(X_test)\n",
    "\n",
    "# Calculating accuracy\n",
    "accuracy = accuracy_score(y_test, y_pred)\n",
    "print(f'Accuracy of SVM model with RBF kernel: {accuracy:.4f}')\n"
   ],
   "metadata": {
    "collapsed": false,
    "pycharm": {
     "name": "#%%\n"
    }
   }
  },
  {
   "cell_type": "markdown",
   "source": [
    "### Hyperparmeter optimization"
   ],
   "metadata": {
    "collapsed": false,
    "pycharm": {
     "name": "#%% md\n"
    }
   }
  },
  {
   "cell_type": "code",
   "execution_count": 72,
   "outputs": [
    {
     "name": "stderr",
     "output_type": "stream",
     "text": [
      "[I 2023-12-07 23:46:05,419] A new study created in memory with name: no-name-70f3b5eb-b07e-46a6-80d4-6e8baff86a1b\n",
      "[I 2023-12-07 23:46:06,231] Trial 0 finished with value: 0.5125253893026405 and parameters: {'kernel': 'rbf', 'gamma': 'auto', 'C': 0.0009239214371637634}. Best is trial 0 with value: 0.5125253893026405.\n",
      "[I 2023-12-07 23:46:07,108] Trial 1 finished with value: 0.5125253893026405 and parameters: {'kernel': 'rbf', 'gamma': 'auto', 'C': 0.13800609425833874}. Best is trial 0 with value: 0.5125253893026405.\n",
      "[I 2023-12-07 23:46:07,901] Trial 2 finished with value: 0.5125253893026405 and parameters: {'kernel': 'rbf', 'gamma': 'scale', 'C': 0.007250962027539528}. Best is trial 0 with value: 0.5125253893026405.\n",
      "[I 2023-12-07 23:46:08,795] Trial 3 finished with value: 0.4779959377115775 and parameters: {'kernel': 'rbf', 'gamma': 'scale', 'C': 5.846946052920447}. Best is trial 0 with value: 0.5125253893026405.\n",
      "[I 2023-12-07 23:46:09,565] Trial 4 finished with value: 0.5125253893026405 and parameters: {'kernel': 'rbf', 'gamma': 'auto', 'C': 1.4882746992193284e-05}. Best is trial 0 with value: 0.5125253893026405.\n",
      "[I 2023-12-07 23:46:10,386] Trial 5 finished with value: 0.4989844278943805 and parameters: {'kernel': 'rbf', 'gamma': 'auto', 'C': 7.284210432947722}. Best is trial 0 with value: 0.5125253893026405.\n",
      "[I 2023-12-07 23:46:11,141] Trial 6 finished with value: 0.5125253893026405 and parameters: {'kernel': 'rbf', 'gamma': 'auto', 'C': 1.7791002267382682e-05}. Best is trial 0 with value: 0.5125253893026405.\n",
      "[I 2023-12-07 23:46:11,919] Trial 7 finished with value: 0.5125253893026405 and parameters: {'kernel': 'rbf', 'gamma': 'scale', 'C': 0.00011222083829824211}. Best is trial 0 with value: 0.5125253893026405.\n",
      "[I 2023-12-07 23:46:12,772] Trial 8 finished with value: 0.5125253893026405 and parameters: {'kernel': 'rbf', 'gamma': 'auto', 'C': 0.006049040542849626}. Best is trial 0 with value: 0.5125253893026405.\n",
      "[I 2023-12-07 23:46:13,542] Trial 9 finished with value: 0.5077860528097495 and parameters: {'kernel': 'rbf', 'gamma': 'scale', 'C': 0.27582820047022255}. Best is trial 0 with value: 0.5125253893026405.\n",
      "[I 2023-12-07 23:46:14,312] Trial 10 finished with value: 0.5125253893026405 and parameters: {'kernel': 'rbf', 'gamma': 'auto', 'C': 0.000655736774446279}. Best is trial 0 with value: 0.5125253893026405.\n",
      "[I 2023-12-07 23:46:15,187] Trial 11 finished with value: 0.5125253893026405 and parameters: {'kernel': 'rbf', 'gamma': 'auto', 'C': 0.18168725321147708}. Best is trial 0 with value: 0.5125253893026405.\n",
      "[I 2023-12-07 23:46:15,957] Trial 12 finished with value: 0.5125253893026405 and parameters: {'kernel': 'rbf', 'gamma': 'auto', 'C': 0.0012816897959174879}. Best is trial 0 with value: 0.5125253893026405.\n",
      "[I 2023-12-07 23:46:16,831] Trial 13 finished with value: 0.5125253893026405 and parameters: {'kernel': 'rbf', 'gamma': 'auto', 'C': 0.06263785181060866}. Best is trial 0 with value: 0.5125253893026405.\n",
      "[I 2023-12-07 23:46:17,700] Trial 14 finished with value: 0.5125253893026405 and parameters: {'kernel': 'rbf', 'gamma': 'auto', 'C': 0.03439168067269166}. Best is trial 0 with value: 0.5125253893026405.\n",
      "[I 2023-12-07 23:46:18,473] Trial 15 finished with value: 0.5125253893026405 and parameters: {'kernel': 'rbf', 'gamma': 'auto', 'C': 0.00095000351427747}. Best is trial 0 with value: 0.5125253893026405.\n",
      "[I 2023-12-07 23:46:19,357] Trial 16 finished with value: 0.5118483412322274 and parameters: {'kernel': 'rbf', 'gamma': 'auto', 'C': 0.7961661632252666}. Best is trial 0 with value: 0.5125253893026405.\n",
      "[I 2023-12-07 23:46:20,237] Trial 17 finished with value: 0.5125253893026405 and parameters: {'kernel': 'rbf', 'gamma': 'auto', 'C': 0.011738432550210733}. Best is trial 0 with value: 0.5125253893026405.\n",
      "[I 2023-12-07 23:46:21,008] Trial 18 finished with value: 0.5125253893026405 and parameters: {'kernel': 'rbf', 'gamma': 'scale', 'C': 0.00017273677358235886}. Best is trial 0 with value: 0.5125253893026405.\n",
      "[I 2023-12-07 23:46:21,866] Trial 19 finished with value: 0.5125253893026405 and parameters: {'kernel': 'rbf', 'gamma': 'auto', 'C': 0.020360483089856638}. Best is trial 0 with value: 0.5125253893026405.\n",
      "[I 2023-12-07 23:46:22,640] Trial 20 finished with value: 0.5125253893026405 and parameters: {'kernel': 'rbf', 'gamma': 'auto', 'C': 0.00452642196155461}. Best is trial 0 with value: 0.5125253893026405.\n",
      "[I 2023-12-07 23:46:23,419] Trial 21 finished with value: 0.5125253893026405 and parameters: {'kernel': 'rbf', 'gamma': 'scale', 'C': 0.003863419258171591}. Best is trial 0 with value: 0.5125253893026405.\n",
      "[I 2023-12-07 23:46:24,203] Trial 22 finished with value: 0.5145565335138795 and parameters: {'kernel': 'rbf', 'gamma': 'scale', 'C': 0.05390795320659619}. Best is trial 22 with value: 0.5145565335138795.\n",
      "[I 2023-12-07 23:46:24,979] Trial 23 finished with value: 0.5098171970209885 and parameters: {'kernel': 'rbf', 'gamma': 'scale', 'C': 0.09302339008161802}. Best is trial 22 with value: 0.5145565335138795.\n",
      "[I 2023-12-07 23:46:25,757] Trial 24 finished with value: 0.5125253893026405 and parameters: {'kernel': 'rbf', 'gamma': 'scale', 'C': 0.0478597257792948}. Best is trial 22 with value: 0.5145565335138795.\n",
      "[I 2023-12-07 23:46:26,524] Trial 25 finished with value: 0.4922139471902505 and parameters: {'kernel': 'rbf', 'gamma': 'scale', 'C': 0.6238830886271531}. Best is trial 22 with value: 0.5145565335138795.\n",
      "[I 2023-12-07 23:46:27,306] Trial 26 finished with value: 0.5125253893026405 and parameters: {'kernel': 'rbf', 'gamma': 'scale', 'C': 0.024899409742248132}. Best is trial 22 with value: 0.5145565335138795.\n",
      "[I 2023-12-07 23:46:28,179] Trial 27 finished with value: 0.5125253893026405 and parameters: {'kernel': 'rbf', 'gamma': 'auto', 'C': 0.1352549643717524}. Best is trial 22 with value: 0.5145565335138795.\n",
      "[I 2023-12-07 23:46:28,985] Trial 28 finished with value: 0.5125253893026405 and parameters: {'kernel': 'rbf', 'gamma': 'scale', 'C': 0.01180848449387443}. Best is trial 22 with value: 0.5145565335138795.\n",
      "[I 2023-12-07 23:46:29,761] Trial 29 finished with value: 0.5125253893026405 and parameters: {'kernel': 'rbf', 'gamma': 'scale', 'C': 0.0034355643231825522}. Best is trial 22 with value: 0.5145565335138795.\n",
      "[I 2023-12-07 23:46:30,619] Trial 30 finished with value: 0.5125253893026405 and parameters: {'kernel': 'rbf', 'gamma': 'auto', 'C': 0.01813211860010557}. Best is trial 22 with value: 0.5145565335138795.\n",
      "[I 2023-12-07 23:46:31,462] Trial 31 finished with value: 0.4820582261340555 and parameters: {'kernel': 'rbf', 'gamma': 'scale', 'C': 2.9714765473221383}. Best is trial 22 with value: 0.5145565335138795.\n",
      "[I 2023-12-07 23:46:32,255] Trial 32 finished with value: 0.5132024373730535 and parameters: {'kernel': 'rbf', 'gamma': 'scale', 'C': 0.052293156830866196}. Best is trial 22 with value: 0.5145565335138795.\n",
      "[I 2023-12-07 23:46:33,031] Trial 33 finished with value: 0.5050778605280974 and parameters: {'kernel': 'rbf', 'gamma': 'scale', 'C': 0.05702440986547674}. Best is trial 22 with value: 0.5145565335138795.\n",
      "[I 2023-12-07 23:46:33,809] Trial 34 finished with value: 0.5057549085985105 and parameters: {'kernel': 'rbf', 'gamma': 'scale', 'C': 0.3248708608317122}. Best is trial 22 with value: 0.5145565335138795.\n",
      "[I 2023-12-07 23:46:34,585] Trial 35 finished with value: 0.5003385240352065 and parameters: {'kernel': 'rbf', 'gamma': 'scale', 'C': 0.08366217402637946}. Best is trial 22 with value: 0.5145565335138795.\n",
      "[I 2023-12-07 23:46:35,374] Trial 36 finished with value: 0.5125253893026405 and parameters: {'kernel': 'rbf', 'gamma': 'scale', 'C': 0.13115669486099277}. Best is trial 22 with value: 0.5145565335138795.\n",
      "[I 2023-12-07 23:46:36,232] Trial 37 finished with value: 0.5125253893026405 and parameters: {'kernel': 'rbf', 'gamma': 'auto', 'C': 0.011531542564037106}. Best is trial 22 with value: 0.5145565335138795.\n",
      "[I 2023-12-07 23:46:37,014] Trial 38 finished with value: 0.5125253893026405 and parameters: {'kernel': 'rbf', 'gamma': 'scale', 'C': 0.0295169323861123}. Best is trial 22 with value: 0.5145565335138795.\n",
      "[I 2023-12-07 23:46:37,889] Trial 39 finished with value: 0.5125253893026405 and parameters: {'kernel': 'rbf', 'gamma': 'auto', 'C': 0.3166740314965892}. Best is trial 22 with value: 0.5145565335138795.\n",
      "[I 2023-12-07 23:46:38,784] Trial 40 finished with value: 0.5125253893026405 and parameters: {'kernel': 'rbf', 'gamma': 'auto', 'C': 0.03996372006228251}. Best is trial 22 with value: 0.5145565335138795.\n",
      "[I 2023-12-07 23:46:39,581] Trial 41 finished with value: 0.5125253893026405 and parameters: {'kernel': 'rbf', 'gamma': 'scale', 'C': 0.006358571657051223}. Best is trial 22 with value: 0.5145565335138795.\n",
      "[I 2023-12-07 23:46:40,365] Trial 42 finished with value: 0.5125253893026405 and parameters: {'kernel': 'rbf', 'gamma': 'scale', 'C': 0.0015459281083740372}. Best is trial 22 with value: 0.5145565335138795.\n",
      "[I 2023-12-07 23:46:41,145] Trial 43 finished with value: 0.5125253893026405 and parameters: {'kernel': 'rbf', 'gamma': 'scale', 'C': 0.0004725818705443735}. Best is trial 22 with value: 0.5145565335138795.\n",
      "[I 2023-12-07 23:46:41,949] Trial 44 finished with value: 0.5125253893026405 and parameters: {'kernel': 'rbf', 'gamma': 'scale', 'C': 0.00724667405266941}. Best is trial 22 with value: 0.5145565335138795.\n",
      "[I 2023-12-07 23:46:42,726] Trial 45 finished with value: 0.5125253893026405 and parameters: {'kernel': 'rbf', 'gamma': 'auto', 'C': 0.002647030052515018}. Best is trial 22 with value: 0.5145565335138795.\n",
      "[I 2023-12-07 23:46:43,514] Trial 46 finished with value: 0.4983073798239675 and parameters: {'kernel': 'rbf', 'gamma': 'scale', 'C': 0.0628847245980446}. Best is trial 22 with value: 0.5145565335138795.\n",
      "[I 2023-12-07 23:46:44,366] Trial 47 finished with value: 0.5125253893026405 and parameters: {'kernel': 'rbf', 'gamma': 'auto', 'C': 0.011447719967252587}. Best is trial 22 with value: 0.5145565335138795.\n",
      "[I 2023-12-07 23:46:45,169] Trial 48 finished with value: 0.5125253893026405 and parameters: {'kernel': 'rbf', 'gamma': 'auto', 'C': 0.0021967884575514298}. Best is trial 22 with value: 0.5145565335138795.\n",
      "[I 2023-12-07 23:46:45,938] Trial 49 finished with value: 0.5037237643872715 and parameters: {'kernel': 'rbf', 'gamma': 'scale', 'C': 0.18613640753029023}. Best is trial 22 with value: 0.5145565335138795.\n",
      "[I 2023-12-07 23:46:46,799] Trial 50 finished with value: 0.5125253893026405 and parameters: {'kernel': 'rbf', 'gamma': 'auto', 'C': 0.04394988003165117}. Best is trial 22 with value: 0.5145565335138795.\n",
      "[I 2023-12-07 23:46:47,566] Trial 51 finished with value: 0.5125253893026405 and parameters: {'kernel': 'rbf', 'gamma': 'auto', 'C': 0.00016118194131782215}. Best is trial 22 with value: 0.5145565335138795.\n",
      "[I 2023-12-07 23:46:48,363] Trial 52 finished with value: 0.5125253893026405 and parameters: {'kernel': 'rbf', 'gamma': 'auto', 'C': 2.8993922971557498e-05}. Best is trial 22 with value: 0.5145565335138795.\n",
      "[I 2023-12-07 23:46:49,132] Trial 53 finished with value: 0.5125253893026405 and parameters: {'kernel': 'rbf', 'gamma': 'auto', 'C': 1.3198134319895585e-05}. Best is trial 22 with value: 0.5145565335138795.\n",
      "[I 2023-12-07 23:46:49,913] Trial 54 finished with value: 0.5125253893026405 and parameters: {'kernel': 'rbf', 'gamma': 'auto', 'C': 4.170264474081426e-05}. Best is trial 22 with value: 0.5145565335138795.\n",
      "[I 2023-12-07 23:46:50,675] Trial 55 finished with value: 0.5125253893026405 and parameters: {'kernel': 'rbf', 'gamma': 'auto', 'C': 0.0003713660660715028}. Best is trial 22 with value: 0.5145565335138795.\n",
      "[I 2023-12-07 23:46:51,432] Trial 56 finished with value: 0.5125253893026405 and parameters: {'kernel': 'rbf', 'gamma': 'auto', 'C': 6.245380735703582e-05}. Best is trial 22 with value: 0.5145565335138795.\n",
      "[I 2023-12-07 23:46:52,210] Trial 57 finished with value: 0.5125253893026405 and parameters: {'kernel': 'rbf', 'gamma': 'scale', 'C': 1.0702405189492326e-05}. Best is trial 22 with value: 0.5145565335138795.\n",
      "[I 2023-12-07 23:46:53,079] Trial 58 finished with value: 0.5125253893026405 and parameters: {'kernel': 'rbf', 'gamma': 'auto', 'C': 0.016643662637007704}. Best is trial 22 with value: 0.5145565335138795.\n",
      "[I 2023-12-07 23:46:53,859] Trial 59 finished with value: 0.5125253893026405 and parameters: {'kernel': 'rbf', 'gamma': 'scale', 'C': 0.0008696910955374855}. Best is trial 22 with value: 0.5145565335138795.\n",
      "[I 2023-12-07 23:46:54,632] Trial 60 finished with value: 0.5125253893026405 and parameters: {'kernel': 'rbf', 'gamma': 'scale', 'C': 2.0262756343244897e-05}. Best is trial 22 with value: 0.5145565335138795.\n",
      "[I 2023-12-07 23:46:55,432] Trial 61 finished with value: 0.5125253893026405 and parameters: {'kernel': 'rbf', 'gamma': 'auto', 'C': 6.148096067822347e-05}. Best is trial 22 with value: 0.5145565335138795.\n",
      "[I 2023-12-07 23:46:56,199] Trial 62 finished with value: 0.5125253893026405 and parameters: {'kernel': 'rbf', 'gamma': 'auto', 'C': 9.183731836627561e-05}. Best is trial 22 with value: 0.5145565335138795.\n",
      "[I 2023-12-07 23:46:56,975] Trial 63 finished with value: 0.5125253893026405 and parameters: {'kernel': 'rbf', 'gamma': 'auto', 'C': 2.3250415300251284e-05}. Best is trial 22 with value: 0.5145565335138795.\n",
      "[I 2023-12-07 23:46:57,845] Trial 64 finished with value: 0.5125253893026405 and parameters: {'kernel': 'rbf', 'gamma': 'auto', 'C': 0.023225289076752517}. Best is trial 22 with value: 0.5145565335138795.\n",
      "[I 2023-12-07 23:46:58,604] Trial 65 finished with value: 0.5125253893026405 and parameters: {'kernel': 'rbf', 'gamma': 'auto', 'C': 0.00027282970944061773}. Best is trial 22 with value: 0.5145565335138795.\n",
      "[I 2023-12-07 23:46:59,389] Trial 66 finished with value: 0.5125253893026405 and parameters: {'kernel': 'rbf', 'gamma': 'scale', 'C': 0.004907536298059246}. Best is trial 22 with value: 0.5145565335138795.\n",
      "[I 2023-12-07 23:47:00,161] Trial 67 finished with value: 0.5125253893026405 and parameters: {'kernel': 'rbf', 'gamma': 'auto', 'C': 0.0008443539220661055}. Best is trial 22 with value: 0.5145565335138795.\n",
      "[I 2023-12-07 23:47:00,950] Trial 68 finished with value: 0.5125253893026405 and parameters: {'kernel': 'rbf', 'gamma': 'scale', 'C': 0.03033951705613405}. Best is trial 22 with value: 0.5145565335138795.\n",
      "[I 2023-12-07 23:47:01,800] Trial 69 finished with value: 0.5125253893026405 and parameters: {'kernel': 'rbf', 'gamma': 'auto', 'C': 0.007994136498248663}. Best is trial 22 with value: 0.5145565335138795.\n",
      "[I 2023-12-07 23:47:02,579] Trial 70 finished with value: 0.5125253893026405 and parameters: {'kernel': 'rbf', 'gamma': 'scale', 'C': 1.5751092190129058e-05}. Best is trial 22 with value: 0.5145565335138795.\n",
      "[I 2023-12-07 23:47:03,359] Trial 71 finished with value: 0.5125253893026405 and parameters: {'kernel': 'rbf', 'gamma': 'scale', 'C': 3.610836741764435e-05}. Best is trial 22 with value: 0.5145565335138795.\n",
      "[I 2023-12-07 23:47:04,136] Trial 72 finished with value: 0.5125253893026405 and parameters: {'kernel': 'rbf', 'gamma': 'scale', 'C': 1.0049219464882936e-05}. Best is trial 22 with value: 0.5145565335138795.\n",
      "[I 2023-12-07 23:47:04,904] Trial 73 finished with value: 0.5125253893026405 and parameters: {'kernel': 'rbf', 'gamma': 'scale', 'C': 0.00012801310099498338}. Best is trial 22 with value: 0.5145565335138795.\n",
      "[I 2023-12-07 23:47:05,680] Trial 74 finished with value: 0.5125253893026405 and parameters: {'kernel': 'rbf', 'gamma': 'scale', 'C': 0.00023604673085117142}. Best is trial 22 with value: 0.5145565335138795.\n",
      "[I 2023-12-07 23:47:06,457] Trial 75 finished with value: 0.5125253893026405 and parameters: {'kernel': 'rbf', 'gamma': 'scale', 'C': 1.7899810530418372e-05}. Best is trial 22 with value: 0.5145565335138795.\n",
      "[I 2023-12-07 23:47:07,241] Trial 76 finished with value: 0.5125253893026405 and parameters: {'kernel': 'rbf', 'gamma': 'auto', 'C': 0.001302417444663565}. Best is trial 22 with value: 0.5145565335138795.\n",
      "[I 2023-12-07 23:47:08,020] Trial 77 finished with value: 0.5125253893026405 and parameters: {'kernel': 'rbf', 'gamma': 'scale', 'C': 0.0006090848721825781}. Best is trial 22 with value: 0.5145565335138795.\n",
      "[I 2023-12-07 23:47:08,904] Trial 78 finished with value: 0.5125253893026405 and parameters: {'kernel': 'rbf', 'gamma': 'auto', 'C': 0.07512730480164254}. Best is trial 22 with value: 0.5145565335138795.\n",
      "[I 2023-12-07 23:47:09,683] Trial 79 finished with value: 0.5125253893026405 and parameters: {'kernel': 'rbf', 'gamma': 'scale', 'C': 0.04429113719923717}. Best is trial 22 with value: 0.5145565335138795.\n",
      "[I 2023-12-07 23:47:10,454] Trial 80 finished with value: 0.5125253893026405 and parameters: {'kernel': 'rbf', 'gamma': 'auto', 'C': 2.911924192467894e-05}. Best is trial 22 with value: 0.5145565335138795.\n",
      "[I 2023-12-07 23:47:11,238] Trial 81 finished with value: 0.5125253893026405 and parameters: {'kernel': 'rbf', 'gamma': 'auto', 'C': 0.0033311125567475563}. Best is trial 22 with value: 0.5145565335138795.\n",
      "[I 2023-12-07 23:47:12,101] Trial 82 finished with value: 0.5125253893026405 and parameters: {'kernel': 'rbf', 'gamma': 'auto', 'C': 0.018363382161935872}. Best is trial 22 with value: 0.5145565335138795.\n",
      "[I 2023-12-07 23:47:12,880] Trial 83 finished with value: 0.5125253893026405 and parameters: {'kernel': 'rbf', 'gamma': 'auto', 'C': 0.0017432857058141042}. Best is trial 22 with value: 0.5145565335138795.\n",
      "[I 2023-12-07 23:47:13,740] Trial 84 finished with value: 0.5125253893026405 and parameters: {'kernel': 'rbf', 'gamma': 'auto', 'C': 0.014842444855265218}. Best is trial 22 with value: 0.5145565335138795.\n",
      "[I 2023-12-07 23:47:14,525] Trial 85 finished with value: 0.5152335815842924 and parameters: {'kernel': 'rbf', 'gamma': 'scale', 'C': 0.10581200291753035}. Best is trial 85 with value: 0.5152335815842924.\n",
      "[I 2023-12-07 23:47:15,301] Trial 86 finished with value: 0.5138794854434665 and parameters: {'kernel': 'rbf', 'gamma': 'scale', 'C': 0.09866999658496796}. Best is trial 85 with value: 0.5152335815842924.\n",
      "[I 2023-12-07 23:47:16,087] Trial 87 finished with value: 0.5125253893026405 and parameters: {'kernel': 'rbf', 'gamma': 'scale', 'C': 0.13407480358081758}. Best is trial 85 with value: 0.5152335815842924.\n",
      "[I 2023-12-07 23:47:16,864] Trial 88 finished with value: 0.5145565335138795 and parameters: {'kernel': 'rbf', 'gamma': 'scale', 'C': 0.09861278869125704}. Best is trial 85 with value: 0.5152335815842924.\n",
      "[I 2023-12-07 23:47:17,639] Trial 89 finished with value: 0.4942450914014895 and parameters: {'kernel': 'rbf', 'gamma': 'scale', 'C': 0.08214737222213421}. Best is trial 85 with value: 0.5152335815842924.\n",
      "[I 2023-12-07 23:47:18,420] Trial 90 finished with value: 0.5138794854434665 and parameters: {'kernel': 'rbf', 'gamma': 'scale', 'C': 0.09908628259548996}. Best is trial 85 with value: 0.5152335815842924.\n",
      "[I 2023-12-07 23:47:19,182] Trial 91 finished with value: 0.5057549085985105 and parameters: {'kernel': 'rbf', 'gamma': 'scale', 'C': 0.22702960663309127}. Best is trial 85 with value: 0.5152335815842924.\n",
      "[I 2023-12-07 23:47:19,953] Trial 92 finished with value: 0.5125253893026405 and parameters: {'kernel': 'rbf', 'gamma': 'scale', 'C': 0.10940570817740584}. Best is trial 85 with value: 0.5152335815842924.\n",
      "[I 2023-12-07 23:47:20,734] Trial 93 finished with value: 0.5057549085985105 and parameters: {'kernel': 'rbf', 'gamma': 'scale', 'C': 0.05642472628647551}. Best is trial 85 with value: 0.5152335815842924.\n",
      "[I 2023-12-07 23:47:21,519] Trial 94 finished with value: 0.5125253893026405 and parameters: {'kernel': 'rbf', 'gamma': 'scale', 'C': 0.03446464574495783}. Best is trial 85 with value: 0.5152335815842924.\n",
      "[I 2023-12-07 23:47:22,301] Trial 95 finished with value: 0.5098171970209885 and parameters: {'kernel': 'rbf', 'gamma': 'scale', 'C': 0.16060258895533325}. Best is trial 85 with value: 0.5152335815842924.\n",
      "[I 2023-12-07 23:47:23,086] Trial 96 finished with value: 0.5138794854434665 and parameters: {'kernel': 'rbf', 'gamma': 'scale', 'C': 0.1090592385371435}. Best is trial 85 with value: 0.5152335815842924.\n",
      "[I 2023-12-07 23:47:23,859] Trial 97 finished with value: 0.5132024373730535 and parameters: {'kernel': 'rbf', 'gamma': 'scale', 'C': 0.11633074218193415}. Best is trial 85 with value: 0.5152335815842924.\n",
      "[I 2023-12-07 23:47:24,645] Trial 98 finished with value: 0.5152335815842924 and parameters: {'kernel': 'rbf', 'gamma': 'scale', 'C': 0.10660404786541798}. Best is trial 85 with value: 0.5152335815842924.\n",
      "[I 2023-12-07 23:47:25,420] Trial 99 finished with value: 0.5084631008801624 and parameters: {'kernel': 'rbf', 'gamma': 'scale', 'C': 0.09030524877640068}. Best is trial 85 with value: 0.5152335815842924.\n"
     ]
    }
   ],
   "source": [
    "import logging\n",
    "import optuna\n",
    "\n",
    "# Set up the logging to save to a file\n",
    "log_format = '%(asctime)s - %(name)s - %(levelname)s - %(message)s'\n",
    "logging.basicConfig(filename=proj_dir+'optuna_log.txt', level=logging.INFO, format=log_format)\n",
    "\n",
    "# Objective function for SVM hyperparameter optimization\n",
    "def objective(trial):\n",
    "    # kernel = trial.suggest_categorical('kernel', ['linear', 'poly', 'rbf', 'sigmoid'])\n",
    "    kernel = trial.suggest_categorical('kernel', ['rbf'])\n",
    "\n",
    "    # Conditional hyperparameters based on chosen kernel\n",
    "    if kernel == 'poly':\n",
    "        degree = trial.suggest_int('degree', 1, 5)\n",
    "    gamma = 'scale'  # default value\n",
    "    if kernel in ['rbf', 'poly', 'sigmoid']:\n",
    "        gamma = trial.suggest_categorical('gamma', ['scale', 'auto'])\n",
    "\n",
    "    C = trial.suggest_float('C', 1e-5, 1e1, log=True)\n",
    "\n",
    "    # Setup SVM with the suggested hyperparameters\n",
    "    clf = SVC(kernel=kernel, degree=degree if kernel == 'poly' else 3, gamma=gamma, C=C)\n",
    "    clf.fit(X_train, y_train)\n",
    "\n",
    "    # Return accuracy or any other metric\n",
    "    accuracy = accuracy_score(y_test, clf.predict(X_test))\n",
    "    return accuracy\n",
    "\n",
    "study = optuna.create_study(direction='maximize')\n",
    "study.optimize(objective, n_trials=100)\n",
    "\n",
    "best_params = study.best_params\n",
    "best_accuracy = study.best_value"
   ],
   "metadata": {
    "collapsed": false,
    "pycharm": {
     "name": "#%%\n"
    }
   }
  },
  {
   "cell_type": "code",
   "execution_count": 72,
   "outputs": [],
   "source": [],
   "metadata": {
    "collapsed": false,
    "pycharm": {
     "name": "#%%\n"
    }
   }
  },
  {
   "cell_type": "code",
   "execution_count": 73,
   "outputs": [
    {
     "name": "stdout",
     "output_type": "stream",
     "text": [
      "\n",
      "All Trials:\n",
      "Trial 0: Accuracy = 0.4875\n",
      "Trial 1: Accuracy = 0.4875\n",
      "Trial 2: Accuracy = 0.4875\n",
      "Trial 3: Accuracy = 0.5220\n",
      "Trial 4: Accuracy = 0.4875\n",
      "Trial 5: Accuracy = 0.5010\n",
      "Trial 6: Accuracy = 0.4875\n",
      "Trial 7: Accuracy = 0.4875\n",
      "Trial 8: Accuracy = 0.4875\n",
      "Trial 9: Accuracy = 0.4922\n",
      "Trial 10: Accuracy = 0.4875\n",
      "Trial 11: Accuracy = 0.4875\n",
      "Trial 12: Accuracy = 0.4875\n",
      "Trial 13: Accuracy = 0.4875\n",
      "Trial 14: Accuracy = 0.4875\n",
      "Trial 15: Accuracy = 0.4875\n",
      "Trial 16: Accuracy = 0.4882\n",
      "Trial 17: Accuracy = 0.4875\n",
      "Trial 18: Accuracy = 0.4875\n",
      "Trial 19: Accuracy = 0.4875\n",
      "Trial 20: Accuracy = 0.4875\n",
      "Trial 21: Accuracy = 0.4875\n",
      "Trial 22: Accuracy = 0.4854\n",
      "Trial 23: Accuracy = 0.4902\n",
      "Trial 24: Accuracy = 0.4875\n",
      "Trial 25: Accuracy = 0.5078\n",
      "Trial 26: Accuracy = 0.4875\n",
      "Trial 27: Accuracy = 0.4875\n",
      "Trial 28: Accuracy = 0.4875\n",
      "Trial 29: Accuracy = 0.4875\n",
      "Trial 30: Accuracy = 0.4875\n",
      "Trial 31: Accuracy = 0.5179\n",
      "Trial 32: Accuracy = 0.4868\n",
      "Trial 33: Accuracy = 0.4949\n",
      "Trial 34: Accuracy = 0.4942\n",
      "Trial 35: Accuracy = 0.4997\n",
      "Trial 36: Accuracy = 0.4875\n",
      "Trial 37: Accuracy = 0.4875\n",
      "Trial 38: Accuracy = 0.4875\n",
      "Trial 39: Accuracy = 0.4875\n",
      "Trial 40: Accuracy = 0.4875\n",
      "Trial 41: Accuracy = 0.4875\n",
      "Trial 42: Accuracy = 0.4875\n",
      "Trial 43: Accuracy = 0.4875\n",
      "Trial 44: Accuracy = 0.4875\n",
      "Trial 45: Accuracy = 0.4875\n",
      "Trial 46: Accuracy = 0.5017\n",
      "Trial 47: Accuracy = 0.4875\n",
      "Trial 48: Accuracy = 0.4875\n",
      "Trial 49: Accuracy = 0.4963\n",
      "Trial 50: Accuracy = 0.4875\n",
      "Trial 51: Accuracy = 0.4875\n",
      "Trial 52: Accuracy = 0.4875\n",
      "Trial 53: Accuracy = 0.4875\n",
      "Trial 54: Accuracy = 0.4875\n",
      "Trial 55: Accuracy = 0.4875\n",
      "Trial 56: Accuracy = 0.4875\n",
      "Trial 57: Accuracy = 0.4875\n",
      "Trial 58: Accuracy = 0.4875\n",
      "Trial 59: Accuracy = 0.4875\n",
      "Trial 60: Accuracy = 0.4875\n",
      "Trial 61: Accuracy = 0.4875\n",
      "Trial 62: Accuracy = 0.4875\n",
      "Trial 63: Accuracy = 0.4875\n",
      "Trial 64: Accuracy = 0.4875\n",
      "Trial 65: Accuracy = 0.4875\n",
      "Trial 66: Accuracy = 0.4875\n",
      "Trial 67: Accuracy = 0.4875\n",
      "Trial 68: Accuracy = 0.4875\n",
      "Trial 69: Accuracy = 0.4875\n",
      "Trial 70: Accuracy = 0.4875\n",
      "Trial 71: Accuracy = 0.4875\n",
      "Trial 72: Accuracy = 0.4875\n",
      "Trial 73: Accuracy = 0.4875\n",
      "Trial 74: Accuracy = 0.4875\n",
      "Trial 75: Accuracy = 0.4875\n",
      "Trial 76: Accuracy = 0.4875\n",
      "Trial 77: Accuracy = 0.4875\n",
      "Trial 78: Accuracy = 0.4875\n",
      "Trial 79: Accuracy = 0.4875\n",
      "Trial 80: Accuracy = 0.4875\n",
      "Trial 81: Accuracy = 0.4875\n",
      "Trial 82: Accuracy = 0.4875\n",
      "Trial 83: Accuracy = 0.4875\n",
      "Trial 84: Accuracy = 0.4875\n",
      "Trial 85: Accuracy = 0.4848\n",
      "Trial 86: Accuracy = 0.4861\n",
      "Trial 87: Accuracy = 0.4875\n",
      "Trial 88: Accuracy = 0.4854\n",
      "Trial 89: Accuracy = 0.5058\n",
      "Trial 90: Accuracy = 0.4861\n",
      "Trial 91: Accuracy = 0.4942\n",
      "Trial 92: Accuracy = 0.4875\n",
      "Trial 93: Accuracy = 0.4942\n",
      "Trial 94: Accuracy = 0.4875\n",
      "Trial 95: Accuracy = 0.4902\n",
      "Trial 96: Accuracy = 0.4861\n",
      "Trial 97: Accuracy = 0.4868\n",
      "Trial 98: Accuracy = 0.4848\n",
      "Trial 99: Accuracy = 0.4915\n",
      "\n",
      "Best Accuracy: 51.52%\n",
      "Best Hyperparameters: {'kernel': 'rbf', 'gamma': 'scale', 'C': 0.10581200291753035}\n"
     ]
    }
   ],
   "source": [
    "# After the optimization\n",
    "print(\"\\nAll Trials:\")\n",
    "\n",
    "for trial in study.trials:\n",
    "    accuracy = 1.0 - trial.value  # We stored 1 - accuracy as value in objective function\n",
    "    print(f\"Trial {trial.number}: Accuracy = {accuracy:.4f}\")\n",
    "\n",
    "print(f\"\\nBest Accuracy: {best_accuracy*100:.2f}%\")\n",
    "print(f\"Best Hyperparameters: {best_params}\")\n"
   ],
   "metadata": {
    "collapsed": false,
    "pycharm": {
     "name": "#%%\n"
    }
   }
  }
 ],
 "metadata": {
  "kernelspec": {
   "display_name": "Python 3",
   "language": "python",
   "name": "python3"
  },
  "language_info": {
   "codemirror_mode": {
    "name": "ipython",
    "version": 2
   },
   "file_extension": ".py",
   "mimetype": "text/x-python",
   "name": "python",
   "nbconvert_exporter": "python",
   "pygments_lexer": "ipython2",
   "version": "2.7.6"
  }
 },
 "nbformat": 4,
 "nbformat_minor": 0
}