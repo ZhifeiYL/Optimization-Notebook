{
 "cells": [
  {
   "cell_type": "code",
   "execution_count": 1,
   "outputs": [],
   "source": [
    "import numpy as np\n",
    "\n",
    "def complex_simulator(x):\n",
    "    \"\"\"\n",
    "    Simulates a more complex product design.\n",
    "\n",
    "    Args:\n",
    "    - x (array-like): A 1D array representing the design parameters.\n",
    "\n",
    "    Returns:\n",
    "    - feasible (int): 0 if the design is infeasible, 1 otherwise.\n",
    "    - y (array-like): A 1D array representing the product properties. Meaningful only if feasible=1.\n",
    "    \"\"\"\n",
    "\n",
    "    assert len(x) == 10, \"Design parameter vector must have 10 elements.\"\n",
    "\n",
    "    # Complex non-convex feasibility condition\n",
    "    if (np.sum(x[:5]**2) - 10) < 0 or np.prod(x[5:]) < 0:\n",
    "        return 0, None\n",
    "\n",
    "    # If feasible, compute product properties using some non-linear function\n",
    "    y1 = np.sin(np.prod(x[:3])) + x[3]**2 - x[4]\n",
    "    y2 = x[5]**3 - np.cos(x[6]*x[7])\n",
    "    y3 = x[8]**2 * np.tan(x[9])\n",
    "    y4 = np.dot(x[:5], x[5:])\n",
    "    y5 = np.prod(x[:3]) - np.sum(x[7:])\n",
    "    y = np.array([y1, y2, y3, y4, y5])\n",
    "\n",
    "    return 1, y"
   ],
   "metadata": {
    "collapsed": false,
    "pycharm": {
     "name": "#%%\n"
    }
   }
  },
  {
   "cell_type": "code",
   "execution_count": 2,
   "outputs": [],
   "source": [
    "import torch\n",
    "import torch.nn as nn\n",
    "import torch.optim as optim\n",
    "\n",
    "# Generate data\n",
    "N = 10000\n",
    "x_data = np.random.rand(N, 10) * 2 - 1  # Random data in range [-1, 1]\n",
    "y_data = []\n",
    "feasibility = []\n",
    "\n",
    "for x in x_data:\n",
    "    f, y = complex_simulator(x)\n",
    "    feasibility.append(f)\n",
    "    if f == 1:\n",
    "        y_data.append(y)\n",
    "    else:\n",
    "        y_data.append(np.zeros(5))  # Filling in with zeros for infeasible solutions\n",
    "\n",
    "y_data = np.array(y_data)\n",
    "\n",
    "# Convert data to torch tensors\n",
    "x_tensor = torch.tensor(x_data, dtype=torch.float32)\n",
    "y_tensor = torch.tensor(y_data, dtype=torch.float32)\n",
    "\n",
    "def set_device(use_gpu):\n",
    "    if not use_gpu:\n",
    "        device = torch.device('cpu')\n",
    "    elif torch.cuda.is_available():\n",
    "        device = torch.device('cuda')\n",
    "    elif torch.backends.mps.is_available():\n",
    "        device = torch.device('mps')\n",
    "    elif not torch.backends.mps.is_available():\n",
    "        if not torch.backends.mps.is_built():\n",
    "            raise EnvironmentError(\"MPS not available because the current PyTorch install was not \"\n",
    "                                   \"built with MPS enabled.\")\n",
    "        else:\n",
    "            device = torch.device('cpu')\n",
    "            Warning(\"Cannot use GPU. Please check for CUDA/Mac OS version. Using CPU instead.\")\n",
    "    return device"
   ],
   "metadata": {
    "collapsed": false,
    "pycharm": {
     "name": "#%%\n"
    }
   }
  },
  {
   "cell_type": "code",
   "execution_count": 4,
   "outputs": [
    {
     "name": "stdout",
     "output_type": "stream",
     "text": [
      "The device is set to cuda\n",
      "Epoch [0/1200], Loss: 0.7687\n",
      "Epoch [400/1200], Loss: 0.0020\n",
      "Epoch [800/1200], Loss: 0.0005\n",
      "Classification Accuracy: 1.0000\n",
      "Final Mean Squared Error: 0.0001\n",
      "R^2 Score: 0.0000\n",
      "Manual R^2 Score: -inf\n"
     ]
    },
    {
     "name": "stderr",
     "output_type": "stream",
     "text": [
      "C:\\Users\\justi\\AppData\\Local\\Temp\\ipykernel_14968\\1244601412.py:73: RuntimeWarning: divide by zero encountered in scalar divide\n",
      "  r2_manual = 1 - (ss_res / ss_tot)\n"
     ]
    }
   ],
   "source": [
    "from sklearn.metrics import r2_score\n",
    "\n",
    "# Define a multi-task ANN\n",
    "class FeasibilityNet(nn.Module):\n",
    "    def __init__(self):\n",
    "        super(FeasibilityNet, self).__init__()\n",
    "        self.fc1 = nn.Linear(10, 20)\n",
    "        self.fc2 = nn.Linear(20, 20)\n",
    "        # Regression head\n",
    "        self.regression_head = nn.Linear(20, 5)\n",
    "        # Classification head\n",
    "        self.classification_head = nn.Linear(20, 1)\n",
    "        self.sigmoid = nn.Sigmoid()\n",
    "\n",
    "    def forward(self, x):\n",
    "        x = torch.relu(self.fc1(x))\n",
    "        x = torch.relu(self.fc2(x))\n",
    "        reg_out = self.regression_head(x)\n",
    "        class_out = self.sigmoid(self.classification_head(x))\n",
    "        return class_out, reg_out\n",
    "\n",
    "model = FeasibilityNet()\n",
    "regression_criterion = nn.MSELoss()\n",
    "classification_criterion = nn.BCELoss()\n",
    "optimizer = optim.Adam(model.parameters(), lr=0.001)\n",
    "\n",
    "feasibility_tensor = torch.tensor(feasibility, dtype=torch.float32).view(-1, 1)\n",
    "\n",
    "device = set_device(True)\n",
    "print(f\"The device is set to {device}\")\n",
    "\n",
    "model = model.to(device)\n",
    "x_tensor = x_tensor.to(device)\n",
    "y_tensor = y_tensor.to(device)\n",
    "feasibility_tensor = feasibility_tensor.to(device)\n",
    "\n",
    "# Train the model\n",
    "epochs = 1200\n",
    "for epoch in range(epochs):\n",
    "    class_out, reg_out = model(x_tensor)\n",
    "    reg_loss = regression_criterion(reg_out, y_tensor)\n",
    "    class_loss = classification_criterion(class_out, feasibility_tensor)\n",
    "    # Combine the losses. Weights can be adjusted as needed.\n",
    "    loss = reg_loss + class_loss\n",
    "    optimizer.zero_grad()\n",
    "    loss.backward()\n",
    "    optimizer.step()\n",
    "    if epoch % 400 == 0:\n",
    "        print(f\"Epoch [{epoch}/{epochs}], Loss: {loss.item():.4f}\")\n",
    "\n",
    "# Accuracy\n",
    "with torch.no_grad():\n",
    "    class_predictions, reg_predictions = model(x_tensor)\n",
    "    predicted_labels = (class_predictions > 0.5).float()\n",
    "    correct = (predicted_labels == feasibility_tensor).float().sum()\n",
    "    accuracy = correct / feasibility_tensor.size(0)\n",
    "\n",
    "    mse_loss = regression_criterion(reg_predictions, y_tensor).item()\n",
    "    r2 = r2_score(y_tensor.cpu().numpy(), reg_predictions.cpu().numpy())\n",
    "\n",
    "\n",
    "\n",
    "print(f\"Classification Accuracy: {accuracy:.4f}\")\n",
    "print(f\"Final Mean Squared Error: {mse_loss:.4f}\")\n",
    "print(f\"R^2 Score: {r2:.4f}\")\n",
    "\n",
    "\n",
    "y_true = y_tensor.cpu().numpy()\n",
    "y_pred = reg_predictions.cpu().numpy()\n",
    "\n",
    "ss_res = np.sum((y_true - y_pred) ** 2)\n",
    "ss_tot = np.sum((y_true - y_true.mean()) ** 2)\n",
    "r2_manual = 1 - (ss_res / ss_tot)\n",
    "\n",
    "print(f\"Manual R^2 Score: {r2_manual:.4f}\")\n"
   ],
   "metadata": {
    "collapsed": false,
    "pycharm": {
     "name": "#%%\n"
    }
   }
  },
  {
   "cell_type": "code",
   "execution_count": null,
   "outputs": [],
   "source": [],
   "metadata": {
    "collapsed": false,
    "pycharm": {
     "name": "#%%\n"
    }
   }
  }
 ],
 "metadata": {
  "kernelspec": {
   "display_name": "Python 3",
   "language": "python",
   "name": "python3"
  },
  "language_info": {
   "codemirror_mode": {
    "name": "ipython",
    "version": 2
   },
   "file_extension": ".py",
   "mimetype": "text/x-python",
   "name": "python",
   "nbconvert_exporter": "python",
   "pygments_lexer": "ipython2",
   "version": "2.7.6"
  }
 },
 "nbformat": 4,
 "nbformat_minor": 0
}