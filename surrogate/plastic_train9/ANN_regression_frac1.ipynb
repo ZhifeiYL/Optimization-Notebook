{
 "cells": [
  {
   "cell_type": "code",
   "execution_count": 14,
   "metadata": {
    "collapsed": true,
    "pycharm": {
     "name": "#%%\n"
    }
   },
   "outputs": [
    {
     "data": {
      "text/plain": "(1000, 3)"
     },
     "execution_count": 14,
     "metadata": {},
     "output_type": "execute_result"
    }
   ],
   "source": [
    "import pandas as pd\n",
    "import numpy as np\n",
    "from ordered_set import OrderedSet\n",
    "\n",
    "\n",
    "from util.util import get_root_dir\n",
    "\n",
    "root_dir = get_root_dir()\n",
    "proj_dir = root_dir + \"/surrogate/plastic_train9/\"\n",
    "df_samples1 = pd.read_csv(proj_dir + \"lhs_samples.csv\")\n",
    "df_samples1.index += 1  # Shifts the index to start from 1 instead of 0\n",
    "df_samples = pd.concat([df_samples1], axis=0)\n",
    "len(df_samples), len(df_samples.columns)"
   ]
  },
  {
   "cell_type": "code",
   "execution_count": 15,
   "outputs": [
    {
     "data": {
      "text/plain": "         Light     Heavy          Total\n1     0.742473  0.257527   80518.531719\n2     0.172589  0.827411  119382.800381\n3     0.413258  0.586742   91002.818480\n4     0.612487  0.387513   98887.560782\n5     0.679732  0.320268  103028.958086\n...        ...       ...            ...\n996   0.475841  0.524159  118817.668714\n997   0.442682  0.557318   68625.703466\n998   0.427833  0.572167   75712.965346\n999   0.320141  0.679859  100671.879140\n1000  0.437421  0.562579   66226.726245\n\n[1000 rows x 3 columns]",
      "text/html": "<div>\n<style scoped>\n    .dataframe tbody tr th:only-of-type {\n        vertical-align: middle;\n    }\n\n    .dataframe tbody tr th {\n        vertical-align: top;\n    }\n\n    .dataframe thead th {\n        text-align: right;\n    }\n</style>\n<table border=\"1\" class=\"dataframe\">\n  <thead>\n    <tr style=\"text-align: right;\">\n      <th></th>\n      <th>Light</th>\n      <th>Heavy</th>\n      <th>Total</th>\n    </tr>\n  </thead>\n  <tbody>\n    <tr>\n      <th>1</th>\n      <td>0.742473</td>\n      <td>0.257527</td>\n      <td>80518.531719</td>\n    </tr>\n    <tr>\n      <th>2</th>\n      <td>0.172589</td>\n      <td>0.827411</td>\n      <td>119382.800381</td>\n    </tr>\n    <tr>\n      <th>3</th>\n      <td>0.413258</td>\n      <td>0.586742</td>\n      <td>91002.818480</td>\n    </tr>\n    <tr>\n      <th>4</th>\n      <td>0.612487</td>\n      <td>0.387513</td>\n      <td>98887.560782</td>\n    </tr>\n    <tr>\n      <th>5</th>\n      <td>0.679732</td>\n      <td>0.320268</td>\n      <td>103028.958086</td>\n    </tr>\n    <tr>\n      <th>...</th>\n      <td>...</td>\n      <td>...</td>\n      <td>...</td>\n    </tr>\n    <tr>\n      <th>996</th>\n      <td>0.475841</td>\n      <td>0.524159</td>\n      <td>118817.668714</td>\n    </tr>\n    <tr>\n      <th>997</th>\n      <td>0.442682</td>\n      <td>0.557318</td>\n      <td>68625.703466</td>\n    </tr>\n    <tr>\n      <th>998</th>\n      <td>0.427833</td>\n      <td>0.572167</td>\n      <td>75712.965346</td>\n    </tr>\n    <tr>\n      <th>999</th>\n      <td>0.320141</td>\n      <td>0.679859</td>\n      <td>100671.879140</td>\n    </tr>\n    <tr>\n      <th>1000</th>\n      <td>0.437421</td>\n      <td>0.562579</td>\n      <td>66226.726245</td>\n    </tr>\n  </tbody>\n</table>\n<p>1000 rows × 3 columns</p>\n</div>"
     },
     "execution_count": 15,
     "metadata": {},
     "output_type": "execute_result"
    }
   ],
   "source": [
    "df_samples"
   ],
   "metadata": {
    "collapsed": false,
    "pycharm": {
     "name": "#%%\n"
    }
   }
  },
  {
   "cell_type": "code",
   "execution_count": 16,
   "outputs": [
    {
     "data": {
      "text/plain": "            RR  STAGES       COND       REB\n1     0.955149    20.0   5.305401  2.450192\n2     5.261083    20.0  10.781970  1.871937\n3     2.134036    20.0   7.554796  2.267329\n4     1.285358    20.0   7.249984  2.858808\n5     1.101214    20.0   7.171267  3.072835\n...        ...     ...        ...       ...\n996   1.799300    20.0   9.530421  3.137903\n997   1.966837    20.0   5.610736  1.762198\n998   2.049477    20.0   6.241341  1.918083\n999   2.852168    20.0   8.752392  2.259039\n1000  1.995473    20.0   5.430377  1.692428\n\n[1000 rows x 4 columns]",
      "text/html": "<div>\n<style scoped>\n    .dataframe tbody tr th:only-of-type {\n        vertical-align: middle;\n    }\n\n    .dataframe tbody tr th {\n        vertical-align: top;\n    }\n\n    .dataframe thead th {\n        text-align: right;\n    }\n</style>\n<table border=\"1\" class=\"dataframe\">\n  <thead>\n    <tr style=\"text-align: right;\">\n      <th></th>\n      <th>RR</th>\n      <th>STAGES</th>\n      <th>COND</th>\n      <th>REB</th>\n    </tr>\n  </thead>\n  <tbody>\n    <tr>\n      <th>1</th>\n      <td>0.955149</td>\n      <td>20.0</td>\n      <td>5.305401</td>\n      <td>2.450192</td>\n    </tr>\n    <tr>\n      <th>2</th>\n      <td>5.261083</td>\n      <td>20.0</td>\n      <td>10.781970</td>\n      <td>1.871937</td>\n    </tr>\n    <tr>\n      <th>3</th>\n      <td>2.134036</td>\n      <td>20.0</td>\n      <td>7.554796</td>\n      <td>2.267329</td>\n    </tr>\n    <tr>\n      <th>4</th>\n      <td>1.285358</td>\n      <td>20.0</td>\n      <td>7.249984</td>\n      <td>2.858808</td>\n    </tr>\n    <tr>\n      <th>5</th>\n      <td>1.101214</td>\n      <td>20.0</td>\n      <td>7.171267</td>\n      <td>3.072835</td>\n    </tr>\n    <tr>\n      <th>...</th>\n      <td>...</td>\n      <td>...</td>\n      <td>...</td>\n      <td>...</td>\n    </tr>\n    <tr>\n      <th>996</th>\n      <td>1.799300</td>\n      <td>20.0</td>\n      <td>9.530421</td>\n      <td>3.137903</td>\n    </tr>\n    <tr>\n      <th>997</th>\n      <td>1.966837</td>\n      <td>20.0</td>\n      <td>5.610736</td>\n      <td>1.762198</td>\n    </tr>\n    <tr>\n      <th>998</th>\n      <td>2.049477</td>\n      <td>20.0</td>\n      <td>6.241341</td>\n      <td>1.918083</td>\n    </tr>\n    <tr>\n      <th>999</th>\n      <td>2.852168</td>\n      <td>20.0</td>\n      <td>8.752392</td>\n      <td>2.259039</td>\n    </tr>\n    <tr>\n      <th>1000</th>\n      <td>1.995473</td>\n      <td>20.0</td>\n      <td>5.430377</td>\n      <td>1.692428</td>\n    </tr>\n  </tbody>\n</table>\n<p>1000 rows × 4 columns</p>\n</div>"
     },
     "execution_count": 16,
     "metadata": {},
     "output_type": "execute_result"
    }
   ],
   "source": [
    "columns_list = [\"RR\", \"STAGES\", \"COND\", \"REB\"]\n",
    "\n",
    "df_outputs1 = pd.read_csv(proj_dir + \"result1.csv\", header=None)\n",
    "df_outputs1.columns = columns_list\n",
    "df_outputs1.index += 1  # Shifts the index to start from 1 instead of 0\n",
    "\n",
    "df_outputs = pd.concat([df_outputs1], axis=0)\n",
    "# df_outputs.columns = df_outputs.iloc[0]\n",
    "# df_outputs = df_outputs.drop(df_outputs.index[0])\n",
    "len(df_outputs), len(df_outputs.columns)\n",
    "df_outputs"
   ],
   "metadata": {
    "collapsed": false,
    "pycharm": {
     "name": "#%%\n"
    }
   }
  },
  {
   "cell_type": "code",
   "execution_count": 17,
   "outputs": [
    {
     "data": {
      "text/plain": "array([[ 0.95514886,  5.30540114,  2.45019199],\n       [ 5.26108279, 10.7819698 ,  1.87193737],\n       [ 2.1340357 ,  7.55479599,  2.26732879],\n       ...,\n       [ 2.0494769 ,  6.24134063,  1.91808318],\n       [ 2.85216787,  8.75239167,  2.25903909],\n       [ 1.99547311,  5.43037684,  1.69242823]])"
     },
     "execution_count": 17,
     "metadata": {},
     "output_type": "execute_result"
    }
   ],
   "source": [
    "output_data = df_outputs.drop(['STAGES'], axis=1).to_numpy()\n",
    "output_data"
   ],
   "metadata": {
    "collapsed": false,
    "pycharm": {
     "name": "#%%\n"
    }
   }
  },
  {
   "cell_type": "code",
   "execution_count": 18,
   "outputs": [
    {
     "data": {
      "text/plain": "array([[59782.835801  , 20735.695918  ],\n       [20604.15813496, 98778.64224604],\n       [37607.64275941, 53395.17572059],\n       ...,\n       [32392.50510288, 43320.46024312],\n       [32229.19605976, 68442.68308024],\n       [28968.96082081, 37257.76542419]])"
     },
     "execution_count": 18,
     "metadata": {},
     "output_type": "execute_result"
    }
   ],
   "source": [
    "input_data_raw = df_samples.to_numpy().T\n",
    "\n",
    "input_data = np.array([input_data_raw[0] * input_data_raw[2], input_data_raw[1] * input_data_raw[2]]).T\n",
    "input_data"
   ],
   "metadata": {
    "collapsed": false,
    "pycharm": {
     "name": "#%%\n"
    }
   }
  },
  {
   "cell_type": "code",
   "execution_count": 19,
   "outputs": [
    {
     "data": {
      "text/plain": "((1000, 2), (1000, 3))"
     },
     "execution_count": 19,
     "metadata": {},
     "output_type": "execute_result"
    }
   ],
   "source": [
    "np.shape(input_data), np.shape(output_data)"
   ],
   "metadata": {
    "collapsed": false,
    "pycharm": {
     "name": "#%%\n"
    }
   }
  },
  {
   "cell_type": "code",
   "execution_count": 20,
   "outputs": [
    {
     "data": {
      "text/plain": "(numpy.float64, numpy.float64)"
     },
     "execution_count": 20,
     "metadata": {},
     "output_type": "execute_result"
    }
   ],
   "source": [
    "type(input_data[0][0]), type(output_data[0][0])"
   ],
   "metadata": {
    "collapsed": false,
    "pycharm": {
     "name": "#%%\n"
    }
   }
  },
  {
   "cell_type": "code",
   "execution_count": 21,
   "outputs": [
    {
     "name": "stdout",
     "output_type": "stream",
     "text": [
      "1055641024\n"
     ]
    }
   ],
   "source": [
    "import torch\n",
    "import torch.nn as nn\n",
    "import torch.optim as optim\n",
    "from sklearn.model_selection import train_test_split\n",
    "from sklearn.metrics import accuracy_score\n",
    "\n",
    "# R^2: 0.9546, Seed: 1703573223 ; Split:0.6; Archi: 4->20, 20_>20, 20->12, 12->3, epoch: 2.5e4, lr=1e-4\n",
    "\n",
    "random_state = np.random.RandomState()  # Create a random state object\n",
    "random_seed = random_state.randint(0, 2**31 - 1 )  # Generate a random seed\n",
    "# random_seed = 1703573223\n",
    "print(random_seed)\n",
    "\n",
    "# Splitting the data into training and testing datasets\n",
    "split_ratio = 0.7\n",
    "X_train, X_test, y_train, y_test = train_test_split(input_data, output_data, train_size=split_ratio, random_state=random_seed)\n",
    "\n",
    "# Setting the device\n",
    "# torch.backends.cudnn.deterministic = True\n",
    "# torch.backends.cudnn.benchmark = False\n",
    "\n",
    "# device = torch.device('cpu')\n",
    "device = torch.device('cuda' if torch.cuda.is_available() else 'cpu')\n",
    "\n",
    "# Convert data to PyTorch tensors\n",
    "X_train_tensor = torch.FloatTensor(X_train).to(device)\n",
    "y_train_tensor = torch.FloatTensor(y_train).to(device)\n",
    "X_test_tensor = torch.FloatTensor(X_test).to(device)\n",
    "y_test_tensor = torch.FloatTensor(y_test).to(device)\n",
    "\n",
    "# Neural Network Definition\n",
    "class SimpleNN(nn.Module):\n",
    "    def __init__(self):\n",
    "        super(SimpleNN, self).__init__()\n",
    "        self.fc1 = nn.Linear(2,24)\n",
    "        self.fc2 = nn.Linear(24,20)\n",
    "        self.fc3 = nn.Linear(20,15)\n",
    "        self.fc4 = nn.Linear(15,3)  # Outputting 2 since there are 2 classes\n",
    "\n",
    "    def forward(self, x):\n",
    "        x = torch.relu(self.fc1(x))\n",
    "        x = torch.relu(self.fc2(x))\n",
    "        x = torch.relu(self.fc3(x))\n",
    "        x = self.fc4(x)\n",
    "        return x"
   ],
   "metadata": {
    "collapsed": false,
    "pycharm": {
     "name": "#%%\n"
    }
   }
  },
  {
   "cell_type": "code",
   "execution_count": 22,
   "outputs": [
    {
     "name": "stdout",
     "output_type": "stream",
     "text": [
      "Epoch [1/50000], Loss: 18798778.0000\n",
      "Epoch [1001/50000], Loss: 552.6517\n",
      "Epoch [2001/50000], Loss: 236.2608\n",
      "Epoch [3001/50000], Loss: 99.8814\n",
      "Epoch [4001/50000], Loss: 40.0061\n",
      "Epoch [5001/50000], Loss: 17.6098\n",
      "Epoch [6001/50000], Loss: 7.3537\n",
      "Epoch [7001/50000], Loss: 2.8715\n",
      "Epoch [8001/50000], Loss: 2.1489\n",
      "Epoch [9001/50000], Loss: 1.7390\n",
      "Epoch [10001/50000], Loss: 1.4037\n",
      "Epoch [11001/50000], Loss: 59.1851\n",
      "Epoch [12001/50000], Loss: 0.6743\n",
      "Epoch [13001/50000], Loss: 0.5199\n",
      "Epoch [14001/50000], Loss: 0.6633\n",
      "Epoch [15001/50000], Loss: 3.6668\n",
      "Epoch [16001/50000], Loss: 0.6013\n",
      "Epoch [17001/50000], Loss: 1.1642\n",
      "Epoch [18001/50000], Loss: 1.9352\n",
      "Epoch [19001/50000], Loss: 4.3692\n",
      "Epoch [20001/50000], Loss: 0.7030\n",
      "Epoch [21001/50000], Loss: 0.3698\n",
      "Epoch [22001/50000], Loss: 0.3117\n",
      "Epoch [23001/50000], Loss: 24.2738\n",
      "Epoch [24001/50000], Loss: 0.3488\n",
      "Epoch [25001/50000], Loss: 0.7105\n",
      "Epoch [26001/50000], Loss: 0.7558\n",
      "Epoch [27001/50000], Loss: 0.2974\n",
      "Epoch [28001/50000], Loss: 0.2884\n",
      "Epoch [29001/50000], Loss: 0.2650\n",
      "Epoch [30001/50000], Loss: 0.2664\n",
      "Epoch [31001/50000], Loss: 0.8560\n",
      "Epoch [32001/50000], Loss: 0.5335\n",
      "Epoch [33001/50000], Loss: 0.4941\n",
      "Epoch [34001/50000], Loss: 0.4808\n",
      "Epoch [35001/50000], Loss: 0.4106\n",
      "Epoch [36001/50000], Loss: 5.5698\n",
      "Epoch [37001/50000], Loss: 0.2893\n",
      "Epoch [38001/50000], Loss: 8.1005\n",
      "Epoch [39001/50000], Loss: 0.3047\n",
      "Epoch [40001/50000], Loss: 0.2826\n",
      "Epoch [41001/50000], Loss: 0.7658\n",
      "Epoch [42001/50000], Loss: 0.6941\n",
      "Epoch [43001/50000], Loss: 0.4168\n",
      "Epoch [44001/50000], Loss: 0.3155\n",
      "Epoch [45001/50000], Loss: 0.5190\n",
      "Epoch [46001/50000], Loss: 2.2455\n",
      "Epoch [47001/50000], Loss: 0.2066\n",
      "Epoch [48001/50000], Loss: 2.5708\n",
      "Epoch [49001/50000], Loss: 0.2446\n"
     ]
    }
   ],
   "source": [
    "from sklearn.model_selection import KFold\n",
    "\n",
    "model = SimpleNN().to(device)\n",
    "criterion = nn.MSELoss()\n",
    "learning_rate = 5e-4\n",
    "optimizer = optim.Adam(model.parameters(), lr=learning_rate)\n",
    "\n",
    "loss_data = []\n",
    "\n",
    "# Training the model\n",
    "num_epochs = int(5e4)\n",
    "for epoch in range(num_epochs):\n",
    "    # Forward pass\n",
    "    outputs = model(X_train_tensor)\n",
    "    loss = criterion(outputs, y_train_tensor)\n",
    "\n",
    "    # Backward pass and optimization\n",
    "    optimizer.zero_grad()\n",
    "    loss.backward()\n",
    "    optimizer.step()\n",
    "    loss_data.append(loss.item())\n",
    "    if epoch % 1000 == 0:\n",
    "        print(f'Epoch [{epoch+1}/{num_epochs}], Loss: {loss.item():.4f}')\n"
   ],
   "metadata": {
    "collapsed": false,
    "pycharm": {
     "name": "#%%\n"
    }
   }
  },
  {
   "cell_type": "code",
   "execution_count": 23,
   "outputs": [
    {
     "name": "stdout",
     "output_type": "stream",
     "text": [
      "1055641024\n"
     ]
    }
   ],
   "source": [
    "print(random_seed)"
   ],
   "metadata": {
    "collapsed": false,
    "pycharm": {
     "name": "#%%\n"
    }
   }
  },
  {
   "cell_type": "code",
   "execution_count": 24,
   "outputs": [
    {
     "name": "stdout",
     "output_type": "stream",
     "text": [
      "MSE: 1.4757\n",
      "RMSE: 1.2148\n",
      "NMSE: 0.14237745106220245\n",
      "R-squared: 0.1788\n",
      "NRMSE: 0.033160559833049774\n"
     ]
    }
   ],
   "source": [
    "from sklearn.metrics import mean_squared_error, r2_score\n",
    "\n",
    "# Evaluating the model\n",
    "model.eval()  # Set the model to evaluation mode\n",
    "with torch.no_grad():\n",
    "    test_outputs = model(X_test_tensor)\n",
    "    y_true = y_test_tensor.cpu().numpy()\n",
    "    y_pred = test_outputs.cpu().numpy()\n",
    "\n",
    "    # Calculate MSE and RMSE\n",
    "    mse = mean_squared_error(y_true, y_pred)\n",
    "    rmse = np.sqrt(mse)  # Calculate the Root Mean Squared Error\n",
    "\n",
    "    # Calculate the Variance (for NMSE)\n",
    "    variance = np.var(y_true)\n",
    "\n",
    "    # Calculate NMSE\n",
    "    nmse = mse / variance if variance != 0 else 'undefined'\n",
    "\n",
    "    # Calculate R-squared\n",
    "    r_squared = r2_score(y_true, y_pred)\n",
    "\n",
    "    # Calculate NRMSE\n",
    "    range_of_data = y_true.max() - y_true.min()\n",
    "    nrmse = rmse / range_of_data if range_of_data != 0 else 'undefined'\n",
    "\n",
    "    # Print out the metrics\n",
    "    print(f'MSE: {mse:.4f}')\n",
    "    print(f'RMSE: {rmse:.4f}')\n",
    "    print(f'NMSE: {nmse}')\n",
    "    print(f'R-squared: {r_squared:.4f}')\n",
    "    print(f'NRMSE: {nrmse}')\n"
   ],
   "metadata": {
    "collapsed": false,
    "pycharm": {
     "name": "#%%\n"
    }
   }
  },
  {
   "cell_type": "code",
   "execution_count": 25,
   "outputs": [
    {
     "name": "stdout",
     "output_type": "stream",
     "text": [
      "Model parameters and details saved to ANN_parameters.txt\n"
     ]
    }
   ],
   "source": [
    "# Assuming the R-squared value and other details are calculated/stored in variables\n",
    "r_squared = r_squared\n",
    "architecture = \"2->15, 15->18, 18->12, 12->3\"\n",
    "\n",
    "# Open a text file to write the parameters\n",
    "with open('ANN_parameters_frac1.txt', 'w') as file:\n",
    "    # Write the additional information\n",
    "    file.write(f\" MSE: {mse:.4f}, RMSE: {rmse:.4f}, R^2: {r_squared:.4f}, Seed: {random_seed}; Split: {split_ratio}; Archi: {architecture}; Epoch: {num_epochs}; LR: {learning_rate}\\n\\n\")\n",
    "\n",
    "    # Write the model parameters\n",
    "    for name, param in model.named_parameters():\n",
    "        file.write(f\"{name}:\\n\")\n",
    "        param_values = param.data.cpu().numpy()\n",
    "        file.write(f\"{param_values}\\n\\n\")\n",
    "\n",
    "print(\"Model parameters and details saved to ANN_parameters.txt\")\n"
   ],
   "metadata": {
    "collapsed": false,
    "pycharm": {
     "name": "#%%\n"
    }
   }
  },
  {
   "cell_type": "code",
   "execution_count": 26,
   "outputs": [
    {
     "name": "stdout",
     "output_type": "stream",
     "text": [
      "X_test and y_test have been saved to X_test.csv and y_test.csv respectively.\n"
     ]
    }
   ],
   "source": [
    "# Save X_test to a CSV file\n",
    "np.savetxt(\"X_test_frac1.csv\", X_test, delimiter=\",\")\n",
    "np.savetxt(\"X_train_frac1.csv\", X_test, delimiter=\",\")\n",
    "\n",
    "# Save y_test to a CSV file\n",
    "np.savetxt(\"y_test_frac1.csv\", y_test, delimiter=\",\")\n",
    "np.savetxt(\"y_train_frac1.csv\", X_test, delimiter=\",\")\n",
    "\n",
    "print(\"X_test and y_test have been saved to X_test.csv and y_test.csv respectively.\")\n"
   ],
   "metadata": {
    "collapsed": false,
    "pycharm": {
     "name": "#%%\n"
    }
   }
  },
  {
   "cell_type": "code",
   "execution_count": 26,
   "outputs": [],
   "source": [],
   "metadata": {
    "collapsed": false,
    "pycharm": {
     "name": "#%%\n"
    }
   }
  }
 ],
 "metadata": {
  "kernelspec": {
   "display_name": "Python 3",
   "language": "python",
   "name": "python3"
  },
  "language_info": {
   "codemirror_mode": {
    "name": "ipython",
    "version": 2
   },
   "file_extension": ".py",
   "mimetype": "text/x-python",
   "name": "python",
   "nbconvert_exporter": "python",
   "pygments_lexer": "ipython2",
   "version": "2.7.6"
  }
 },
 "nbformat": 4,
 "nbformat_minor": 0
}