{
 "cells": [
  {
   "cell_type": "code",
   "execution_count": 23,
   "metadata": {
    "collapsed": true,
    "pycharm": {
     "name": "#%%\n"
    }
   },
   "outputs": [],
   "source": [
    "import pandas as pd\n",
    "import numpy as np\n",
    "\n",
    "from util.util import get_root_dir"
   ]
  },
  {
   "cell_type": "code",
   "execution_count": 24,
   "outputs": [
    {
     "data": {
      "text/plain": "                                1           2           3            4     \\\n0                                                                           \nH2                          6.074148   75.018603   97.918129     6.835941   \nC3H8                       86.146810   64.921035   83.703807    47.902184   \nC4H10                     407.485188  669.364339  659.726713   396.151664   \nC5H12                     600.765159  468.006914  324.358143     8.566960   \nC6H14                     396.380384  331.513425  216.925389  1119.631557   \nC7H16                     410.718045  288.709809  237.307636   652.535883   \nC8H18                     710.704905  168.336815   79.746676   576.669188   \nC9H20                     326.354851  479.270107   17.395490   233.707596   \nC10H22                    235.121978  140.434261  262.062495    76.270898   \nC11H24                     19.054259  104.273746   34.286282   114.561685   \nC12H26                     66.120286   49.905221   55.170953    26.699702   \nFeed Temperature          -15.992330  145.244312   93.503467    25.265366   \nFeed Pressure               5.869772   28.452269   19.810031     6.768607   \nReflux Ratio                1.761450    4.293078    3.338505     2.900749   \nDistillate to Feed Ratio    0.027777    0.915671    0.484624     0.156427   \n\n                                 5           6           7           8     \\\n0                                                                           \nH2                          94.237309   61.934750   92.378678    0.905326   \nC3H8                        45.776110   70.392364   65.521183  117.834106   \nC4H10                      730.073545  335.072207  309.942503  620.007735   \nC5H12                     1001.752570  927.257084  237.690027  350.066798   \nC6H14                      712.140352  580.802764  862.726333  444.375564   \nC7H16                      863.220181   30.882399  910.846510  524.999031   \nC8H18                      163.513594  395.313302  698.792686   11.443573   \nC9H20                       11.536544  443.289411  207.391354  265.424800   \nC10H22                      18.107904   36.746599  145.909720  306.775559   \nC11H24                      91.391799   85.345559   45.627210  144.854131   \nC12H26                      33.890991   81.687885   32.777588   77.152943   \nFeed Temperature            46.032432  129.121731   90.432165   -8.174624   \nFeed Pressure               17.618384   33.990118   15.355946   16.542336   \nReflux Ratio                 8.720948    1.773055    9.276836    0.863172   \nDistillate to Feed Ratio     0.205889    0.280128    0.458545    0.272108   \n\n                                9            10    ...        991   \\\n0                                                  ...               \nH2                         44.271954    23.918405  ...    4.938661   \nC3H8                      108.178308    30.171849  ...   28.119741   \nC4H10                      73.802013   683.726683  ...  360.605745   \nC5H12                     674.128714     5.243524  ...  595.608289   \nC6H14                     801.716323  1083.790179  ...  464.750851   \nC7H16                     746.728329   180.074304  ...  755.664404   \nC8H18                     263.324104   776.968529  ...   59.409182   \nC9H20                      41.061332    14.261537  ...  162.851464   \nC10H22                     35.003586   255.577177  ...  214.760074   \nC11H24                     15.943003    68.963683  ...   97.005308   \nC12H26                     39.508451    84.808554  ...   45.914236   \nFeed Temperature           95.324512    55.361785  ...  147.384827   \nFeed Pressure              19.557643     4.983275  ...    9.245170   \nReflux Ratio                8.468745     0.508267  ...    3.830497   \nDistillate to Feed Ratio    0.120405     0.091879  ...    0.697128   \n\n                                992         993         994          995   \\\n0                                                                           \nH2                         37.044081   45.128376   15.016118    39.501236   \nC3H8                       42.555866   92.389892   54.203682     3.909801   \nC4H10                     230.575745  499.239086  330.688999   319.640139   \nC5H12                     566.017456  949.377851    1.219512  1039.825378   \nC6H14                     409.495438  139.335641   83.401787   162.066549   \nC7H16                     274.010129  331.526882   66.770797   592.546123   \nC8H18                     131.261697  769.018090  662.619559   580.123446   \nC9H20                     333.066904   90.400363  521.106946    31.972960   \nC10H22                    165.663406  195.518396  267.874242   299.243289   \nC11H24                    165.699687   43.895442   19.795747    41.802674   \nC12H26                     50.922642   67.379364   61.501007    51.408697   \nFeed Temperature           45.707465   89.180500   25.941961   120.771604   \nFeed Pressure              22.034871    6.530526   20.935137     4.013425   \nReflux Ratio                1.214064    1.828109    2.931347     5.958781   \nDistillate to Feed Ratio    0.064146    0.311134    0.411748     0.366140   \n\n                                996         997         998         999   \\\n0                                                                          \nH2                         32.128403   27.432457   61.204733   93.878089   \nC3H8                      122.952173   83.612260   74.487643    9.130157   \nC4H10                       1.110039  578.284112  195.876565  533.350929   \nC5H12                     393.866942  591.843181   87.593925  816.021726   \nC6H14                     410.681371    5.077376  674.092351  845.214391   \nC7H16                     875.510886  347.990059  789.471097  607.708487   \nC8H18                     601.990968  606.960749  328.167426  232.780443   \nC9H20                     199.091646  358.159473  370.866451  265.683233   \nC10H22                    254.890696   64.163580   87.243465  292.321875   \nC11H24                    136.990693  160.187891  112.879563  136.838225   \nC12H26                     58.340147   37.831703    8.917337   24.516414   \nFeed Temperature           37.751319   85.063157   -9.024961  104.566488   \nFeed Pressure              27.719365   19.507897   24.988135    1.210034   \nReflux Ratio                3.376001    3.358154    9.463000    5.222378   \nDistillate to Feed Ratio    0.564029    0.199787    0.400507    0.992339   \n\n                                1000  \n0                                     \nH2                         69.354061  \nC3H8                       81.608444  \nC4H10                     558.028372  \nC5H12                     738.947751  \nC6H14                     421.773945  \nC7H16                     316.689488  \nC8H18                     293.704241  \nC9H20                     406.841717  \nC10H22                    121.739828  \nC11H24                    149.864978  \nC12H26                     58.158829  \nFeed Temperature          120.652357  \nFeed Pressure               1.028103  \nReflux Ratio                5.895732  \nDistillate to Feed Ratio    0.014991  \n\n[15 rows x 1000 columns]",
      "text/html": "<div>\n<style scoped>\n    .dataframe tbody tr th:only-of-type {\n        vertical-align: middle;\n    }\n\n    .dataframe tbody tr th {\n        vertical-align: top;\n    }\n\n    .dataframe thead th {\n        text-align: right;\n    }\n</style>\n<table border=\"1\" class=\"dataframe\">\n  <thead>\n    <tr style=\"text-align: right;\">\n      <th></th>\n      <th>1</th>\n      <th>2</th>\n      <th>3</th>\n      <th>4</th>\n      <th>5</th>\n      <th>6</th>\n      <th>7</th>\n      <th>8</th>\n      <th>9</th>\n      <th>10</th>\n      <th>...</th>\n      <th>991</th>\n      <th>992</th>\n      <th>993</th>\n      <th>994</th>\n      <th>995</th>\n      <th>996</th>\n      <th>997</th>\n      <th>998</th>\n      <th>999</th>\n      <th>1000</th>\n    </tr>\n    <tr>\n      <th>0</th>\n      <th></th>\n      <th></th>\n      <th></th>\n      <th></th>\n      <th></th>\n      <th></th>\n      <th></th>\n      <th></th>\n      <th></th>\n      <th></th>\n      <th></th>\n      <th></th>\n      <th></th>\n      <th></th>\n      <th></th>\n      <th></th>\n      <th></th>\n      <th></th>\n      <th></th>\n      <th></th>\n      <th></th>\n    </tr>\n  </thead>\n  <tbody>\n    <tr>\n      <th>H2</th>\n      <td>6.074148</td>\n      <td>75.018603</td>\n      <td>97.918129</td>\n      <td>6.835941</td>\n      <td>94.237309</td>\n      <td>61.934750</td>\n      <td>92.378678</td>\n      <td>0.905326</td>\n      <td>44.271954</td>\n      <td>23.918405</td>\n      <td>...</td>\n      <td>4.938661</td>\n      <td>37.044081</td>\n      <td>45.128376</td>\n      <td>15.016118</td>\n      <td>39.501236</td>\n      <td>32.128403</td>\n      <td>27.432457</td>\n      <td>61.204733</td>\n      <td>93.878089</td>\n      <td>69.354061</td>\n    </tr>\n    <tr>\n      <th>C3H8</th>\n      <td>86.146810</td>\n      <td>64.921035</td>\n      <td>83.703807</td>\n      <td>47.902184</td>\n      <td>45.776110</td>\n      <td>70.392364</td>\n      <td>65.521183</td>\n      <td>117.834106</td>\n      <td>108.178308</td>\n      <td>30.171849</td>\n      <td>...</td>\n      <td>28.119741</td>\n      <td>42.555866</td>\n      <td>92.389892</td>\n      <td>54.203682</td>\n      <td>3.909801</td>\n      <td>122.952173</td>\n      <td>83.612260</td>\n      <td>74.487643</td>\n      <td>9.130157</td>\n      <td>81.608444</td>\n    </tr>\n    <tr>\n      <th>C4H10</th>\n      <td>407.485188</td>\n      <td>669.364339</td>\n      <td>659.726713</td>\n      <td>396.151664</td>\n      <td>730.073545</td>\n      <td>335.072207</td>\n      <td>309.942503</td>\n      <td>620.007735</td>\n      <td>73.802013</td>\n      <td>683.726683</td>\n      <td>...</td>\n      <td>360.605745</td>\n      <td>230.575745</td>\n      <td>499.239086</td>\n      <td>330.688999</td>\n      <td>319.640139</td>\n      <td>1.110039</td>\n      <td>578.284112</td>\n      <td>195.876565</td>\n      <td>533.350929</td>\n      <td>558.028372</td>\n    </tr>\n    <tr>\n      <th>C5H12</th>\n      <td>600.765159</td>\n      <td>468.006914</td>\n      <td>324.358143</td>\n      <td>8.566960</td>\n      <td>1001.752570</td>\n      <td>927.257084</td>\n      <td>237.690027</td>\n      <td>350.066798</td>\n      <td>674.128714</td>\n      <td>5.243524</td>\n      <td>...</td>\n      <td>595.608289</td>\n      <td>566.017456</td>\n      <td>949.377851</td>\n      <td>1.219512</td>\n      <td>1039.825378</td>\n      <td>393.866942</td>\n      <td>591.843181</td>\n      <td>87.593925</td>\n      <td>816.021726</td>\n      <td>738.947751</td>\n    </tr>\n    <tr>\n      <th>C6H14</th>\n      <td>396.380384</td>\n      <td>331.513425</td>\n      <td>216.925389</td>\n      <td>1119.631557</td>\n      <td>712.140352</td>\n      <td>580.802764</td>\n      <td>862.726333</td>\n      <td>444.375564</td>\n      <td>801.716323</td>\n      <td>1083.790179</td>\n      <td>...</td>\n      <td>464.750851</td>\n      <td>409.495438</td>\n      <td>139.335641</td>\n      <td>83.401787</td>\n      <td>162.066549</td>\n      <td>410.681371</td>\n      <td>5.077376</td>\n      <td>674.092351</td>\n      <td>845.214391</td>\n      <td>421.773945</td>\n    </tr>\n    <tr>\n      <th>C7H16</th>\n      <td>410.718045</td>\n      <td>288.709809</td>\n      <td>237.307636</td>\n      <td>652.535883</td>\n      <td>863.220181</td>\n      <td>30.882399</td>\n      <td>910.846510</td>\n      <td>524.999031</td>\n      <td>746.728329</td>\n      <td>180.074304</td>\n      <td>...</td>\n      <td>755.664404</td>\n      <td>274.010129</td>\n      <td>331.526882</td>\n      <td>66.770797</td>\n      <td>592.546123</td>\n      <td>875.510886</td>\n      <td>347.990059</td>\n      <td>789.471097</td>\n      <td>607.708487</td>\n      <td>316.689488</td>\n    </tr>\n    <tr>\n      <th>C8H18</th>\n      <td>710.704905</td>\n      <td>168.336815</td>\n      <td>79.746676</td>\n      <td>576.669188</td>\n      <td>163.513594</td>\n      <td>395.313302</td>\n      <td>698.792686</td>\n      <td>11.443573</td>\n      <td>263.324104</td>\n      <td>776.968529</td>\n      <td>...</td>\n      <td>59.409182</td>\n      <td>131.261697</td>\n      <td>769.018090</td>\n      <td>662.619559</td>\n      <td>580.123446</td>\n      <td>601.990968</td>\n      <td>606.960749</td>\n      <td>328.167426</td>\n      <td>232.780443</td>\n      <td>293.704241</td>\n    </tr>\n    <tr>\n      <th>C9H20</th>\n      <td>326.354851</td>\n      <td>479.270107</td>\n      <td>17.395490</td>\n      <td>233.707596</td>\n      <td>11.536544</td>\n      <td>443.289411</td>\n      <td>207.391354</td>\n      <td>265.424800</td>\n      <td>41.061332</td>\n      <td>14.261537</td>\n      <td>...</td>\n      <td>162.851464</td>\n      <td>333.066904</td>\n      <td>90.400363</td>\n      <td>521.106946</td>\n      <td>31.972960</td>\n      <td>199.091646</td>\n      <td>358.159473</td>\n      <td>370.866451</td>\n      <td>265.683233</td>\n      <td>406.841717</td>\n    </tr>\n    <tr>\n      <th>C10H22</th>\n      <td>235.121978</td>\n      <td>140.434261</td>\n      <td>262.062495</td>\n      <td>76.270898</td>\n      <td>18.107904</td>\n      <td>36.746599</td>\n      <td>145.909720</td>\n      <td>306.775559</td>\n      <td>35.003586</td>\n      <td>255.577177</td>\n      <td>...</td>\n      <td>214.760074</td>\n      <td>165.663406</td>\n      <td>195.518396</td>\n      <td>267.874242</td>\n      <td>299.243289</td>\n      <td>254.890696</td>\n      <td>64.163580</td>\n      <td>87.243465</td>\n      <td>292.321875</td>\n      <td>121.739828</td>\n    </tr>\n    <tr>\n      <th>C11H24</th>\n      <td>19.054259</td>\n      <td>104.273746</td>\n      <td>34.286282</td>\n      <td>114.561685</td>\n      <td>91.391799</td>\n      <td>85.345559</td>\n      <td>45.627210</td>\n      <td>144.854131</td>\n      <td>15.943003</td>\n      <td>68.963683</td>\n      <td>...</td>\n      <td>97.005308</td>\n      <td>165.699687</td>\n      <td>43.895442</td>\n      <td>19.795747</td>\n      <td>41.802674</td>\n      <td>136.990693</td>\n      <td>160.187891</td>\n      <td>112.879563</td>\n      <td>136.838225</td>\n      <td>149.864978</td>\n    </tr>\n    <tr>\n      <th>C12H26</th>\n      <td>66.120286</td>\n      <td>49.905221</td>\n      <td>55.170953</td>\n      <td>26.699702</td>\n      <td>33.890991</td>\n      <td>81.687885</td>\n      <td>32.777588</td>\n      <td>77.152943</td>\n      <td>39.508451</td>\n      <td>84.808554</td>\n      <td>...</td>\n      <td>45.914236</td>\n      <td>50.922642</td>\n      <td>67.379364</td>\n      <td>61.501007</td>\n      <td>51.408697</td>\n      <td>58.340147</td>\n      <td>37.831703</td>\n      <td>8.917337</td>\n      <td>24.516414</td>\n      <td>58.158829</td>\n    </tr>\n    <tr>\n      <th>Feed Temperature</th>\n      <td>-15.992330</td>\n      <td>145.244312</td>\n      <td>93.503467</td>\n      <td>25.265366</td>\n      <td>46.032432</td>\n      <td>129.121731</td>\n      <td>90.432165</td>\n      <td>-8.174624</td>\n      <td>95.324512</td>\n      <td>55.361785</td>\n      <td>...</td>\n      <td>147.384827</td>\n      <td>45.707465</td>\n      <td>89.180500</td>\n      <td>25.941961</td>\n      <td>120.771604</td>\n      <td>37.751319</td>\n      <td>85.063157</td>\n      <td>-9.024961</td>\n      <td>104.566488</td>\n      <td>120.652357</td>\n    </tr>\n    <tr>\n      <th>Feed Pressure</th>\n      <td>5.869772</td>\n      <td>28.452269</td>\n      <td>19.810031</td>\n      <td>6.768607</td>\n      <td>17.618384</td>\n      <td>33.990118</td>\n      <td>15.355946</td>\n      <td>16.542336</td>\n      <td>19.557643</td>\n      <td>4.983275</td>\n      <td>...</td>\n      <td>9.245170</td>\n      <td>22.034871</td>\n      <td>6.530526</td>\n      <td>20.935137</td>\n      <td>4.013425</td>\n      <td>27.719365</td>\n      <td>19.507897</td>\n      <td>24.988135</td>\n      <td>1.210034</td>\n      <td>1.028103</td>\n    </tr>\n    <tr>\n      <th>Reflux Ratio</th>\n      <td>1.761450</td>\n      <td>4.293078</td>\n      <td>3.338505</td>\n      <td>2.900749</td>\n      <td>8.720948</td>\n      <td>1.773055</td>\n      <td>9.276836</td>\n      <td>0.863172</td>\n      <td>8.468745</td>\n      <td>0.508267</td>\n      <td>...</td>\n      <td>3.830497</td>\n      <td>1.214064</td>\n      <td>1.828109</td>\n      <td>2.931347</td>\n      <td>5.958781</td>\n      <td>3.376001</td>\n      <td>3.358154</td>\n      <td>9.463000</td>\n      <td>5.222378</td>\n      <td>5.895732</td>\n    </tr>\n    <tr>\n      <th>Distillate to Feed Ratio</th>\n      <td>0.027777</td>\n      <td>0.915671</td>\n      <td>0.484624</td>\n      <td>0.156427</td>\n      <td>0.205889</td>\n      <td>0.280128</td>\n      <td>0.458545</td>\n      <td>0.272108</td>\n      <td>0.120405</td>\n      <td>0.091879</td>\n      <td>...</td>\n      <td>0.697128</td>\n      <td>0.064146</td>\n      <td>0.311134</td>\n      <td>0.411748</td>\n      <td>0.366140</td>\n      <td>0.564029</td>\n      <td>0.199787</td>\n      <td>0.400507</td>\n      <td>0.992339</td>\n      <td>0.014991</td>\n    </tr>\n  </tbody>\n</table>\n<p>15 rows × 1000 columns</p>\n</div>"
     },
     "execution_count": 24,
     "metadata": {},
     "output_type": "execute_result"
    }
   ],
   "source": [
    "root_dir = get_root_dir()\n",
    "proj_dir = root_dir + \"/surrogate/aspen_data1/\"\n",
    "df_samples = pd.read_csv(proj_dir + \"data/lhs_samples.csv\", index_col=0, header=None)\n",
    "df_samples"
   ],
   "metadata": {
    "collapsed": false,
    "pycharm": {
     "name": "#%%\n"
    }
   }
  },
  {
   "cell_type": "code",
   "execution_count": 25,
   "outputs": [
    {
     "data": {
      "text/plain": "           BOT_H2       BOT_CH4      BOT_C2H6      BOT_C3H8     BOT_C4H10  \\\n0             NaN           NaN           NaN           NaN           NaN   \n1             NaN           NaN           NaN           NaN           NaN   \n2             NaN           NaN           NaN           NaN           NaN   \n3             NaN           NaN           NaN           NaN           NaN   \n4             NaN           NaN           NaN           NaN           NaN   \n..            ...           ...           ...           ...           ...   \n995  1.751741e-37  9.523282e-33  8.888143e-24  9.641199e-16  6.740726e-12   \n996           NaN           NaN           NaN           NaN           NaN   \n997           NaN           NaN           NaN           NaN           NaN   \n998           NaN           NaN           NaN           NaN           NaN   \n999           NaN           NaN           NaN           NaN           NaN   \n\n     BOT_C5H12   BOT_C6H14   BOT_C7H16   BOT_C8H18   BOT_C9H20  ...  BU_RATIO  \\\n0          NaN         NaN         NaN         NaN         NaN  ...       NaN   \n1          NaN         NaN         NaN         NaN         NaN  ...       NaN   \n2          NaN         NaN         NaN         NaN         NaN  ...       NaN   \n3          NaN         NaN         NaN         NaN         NaN  ...       NaN   \n4          NaN         NaN         NaN         NaN         NaN  ...       NaN   \n..         ...         ...         ...         ...         ...  ...       ...   \n995   0.000409  181.424183  875.510746  601.990968  199.091646  ...  2.676366   \n996        NaN         NaN         NaN         NaN         NaN  ...       NaN   \n997        NaN         NaN         NaN         NaN         NaN  ...       NaN   \n998        NaN         NaN         NaN         NaN         NaN  ...       NaN   \n999        NaN         NaN         NaN         NaN         NaN  ...       NaN   \n\n     BOTTOM_TEMP  COND_DUTY  REB_DUTY    REB_TOUT  REB_POUT  TOP_TEMP  \\\n0            NaN        NaN       NaN         NaN       NaN       NaN   \n1            NaN        NaN       NaN         NaN       NaN       NaN   \n2            NaN        NaN       NaN         NaN       NaN       NaN   \n3            NaN        NaN       NaN         NaN       NaN       NaN   \n4            NaN        NaN       NaN         NaN       NaN       NaN   \n..           ...        ...       ...         ...       ...       ...   \n995   134.704892  -0.270011  0.457943  134.704892       2.0  36.06794   \n996          NaN        NaN       NaN         NaN       NaN       NaN   \n997          NaN        NaN       NaN         NaN       NaN       NaN   \n998          NaN        NaN       NaN         NaN       NaN       NaN   \n999          NaN        NaN       NaN         NaN       NaN       NaN   \n\n     TOP_VFLOW  TEMP_STAGE2  TEMP_STAGE28  \n0          NaN          NaN           NaN  \n1          NaN          NaN           NaN  \n2          NaN          NaN           NaN  \n3          NaN          NaN           NaN  \n4          NaN          NaN           NaN  \n..         ...          ...           ...  \n995  26.947827    66.625792    122.736559  \n996        NaN          NaN           NaN  \n997        NaN          NaN           NaN  \n998        NaN          NaN           NaN  \n999        NaN          NaN           NaN  \n\n[1000 rows x 46 columns]",
      "text/html": "<div>\n<style scoped>\n    .dataframe tbody tr th:only-of-type {\n        vertical-align: middle;\n    }\n\n    .dataframe tbody tr th {\n        vertical-align: top;\n    }\n\n    .dataframe thead th {\n        text-align: right;\n    }\n</style>\n<table border=\"1\" class=\"dataframe\">\n  <thead>\n    <tr style=\"text-align: right;\">\n      <th></th>\n      <th>BOT_H2</th>\n      <th>BOT_CH4</th>\n      <th>BOT_C2H6</th>\n      <th>BOT_C3H8</th>\n      <th>BOT_C4H10</th>\n      <th>BOT_C5H12</th>\n      <th>BOT_C6H14</th>\n      <th>BOT_C7H16</th>\n      <th>BOT_C8H18</th>\n      <th>BOT_C9H20</th>\n      <th>...</th>\n      <th>BU_RATIO</th>\n      <th>BOTTOM_TEMP</th>\n      <th>COND_DUTY</th>\n      <th>REB_DUTY</th>\n      <th>REB_TOUT</th>\n      <th>REB_POUT</th>\n      <th>TOP_TEMP</th>\n      <th>TOP_VFLOW</th>\n      <th>TEMP_STAGE2</th>\n      <th>TEMP_STAGE28</th>\n    </tr>\n  </thead>\n  <tbody>\n    <tr>\n      <th>0</th>\n      <td>NaN</td>\n      <td>NaN</td>\n      <td>NaN</td>\n      <td>NaN</td>\n      <td>NaN</td>\n      <td>NaN</td>\n      <td>NaN</td>\n      <td>NaN</td>\n      <td>NaN</td>\n      <td>NaN</td>\n      <td>...</td>\n      <td>NaN</td>\n      <td>NaN</td>\n      <td>NaN</td>\n      <td>NaN</td>\n      <td>NaN</td>\n      <td>NaN</td>\n      <td>NaN</td>\n      <td>NaN</td>\n      <td>NaN</td>\n      <td>NaN</td>\n    </tr>\n    <tr>\n      <th>1</th>\n      <td>NaN</td>\n      <td>NaN</td>\n      <td>NaN</td>\n      <td>NaN</td>\n      <td>NaN</td>\n      <td>NaN</td>\n      <td>NaN</td>\n      <td>NaN</td>\n      <td>NaN</td>\n      <td>NaN</td>\n      <td>...</td>\n      <td>NaN</td>\n      <td>NaN</td>\n      <td>NaN</td>\n      <td>NaN</td>\n      <td>NaN</td>\n      <td>NaN</td>\n      <td>NaN</td>\n      <td>NaN</td>\n      <td>NaN</td>\n      <td>NaN</td>\n    </tr>\n    <tr>\n      <th>2</th>\n      <td>NaN</td>\n      <td>NaN</td>\n      <td>NaN</td>\n      <td>NaN</td>\n      <td>NaN</td>\n      <td>NaN</td>\n      <td>NaN</td>\n      <td>NaN</td>\n      <td>NaN</td>\n      <td>NaN</td>\n      <td>...</td>\n      <td>NaN</td>\n      <td>NaN</td>\n      <td>NaN</td>\n      <td>NaN</td>\n      <td>NaN</td>\n      <td>NaN</td>\n      <td>NaN</td>\n      <td>NaN</td>\n      <td>NaN</td>\n      <td>NaN</td>\n    </tr>\n    <tr>\n      <th>3</th>\n      <td>NaN</td>\n      <td>NaN</td>\n      <td>NaN</td>\n      <td>NaN</td>\n      <td>NaN</td>\n      <td>NaN</td>\n      <td>NaN</td>\n      <td>NaN</td>\n      <td>NaN</td>\n      <td>NaN</td>\n      <td>...</td>\n      <td>NaN</td>\n      <td>NaN</td>\n      <td>NaN</td>\n      <td>NaN</td>\n      <td>NaN</td>\n      <td>NaN</td>\n      <td>NaN</td>\n      <td>NaN</td>\n      <td>NaN</td>\n      <td>NaN</td>\n    </tr>\n    <tr>\n      <th>4</th>\n      <td>NaN</td>\n      <td>NaN</td>\n      <td>NaN</td>\n      <td>NaN</td>\n      <td>NaN</td>\n      <td>NaN</td>\n      <td>NaN</td>\n      <td>NaN</td>\n      <td>NaN</td>\n      <td>NaN</td>\n      <td>...</td>\n      <td>NaN</td>\n      <td>NaN</td>\n      <td>NaN</td>\n      <td>NaN</td>\n      <td>NaN</td>\n      <td>NaN</td>\n      <td>NaN</td>\n      <td>NaN</td>\n      <td>NaN</td>\n      <td>NaN</td>\n    </tr>\n    <tr>\n      <th>...</th>\n      <td>...</td>\n      <td>...</td>\n      <td>...</td>\n      <td>...</td>\n      <td>...</td>\n      <td>...</td>\n      <td>...</td>\n      <td>...</td>\n      <td>...</td>\n      <td>...</td>\n      <td>...</td>\n      <td>...</td>\n      <td>...</td>\n      <td>...</td>\n      <td>...</td>\n      <td>...</td>\n      <td>...</td>\n      <td>...</td>\n      <td>...</td>\n      <td>...</td>\n      <td>...</td>\n    </tr>\n    <tr>\n      <th>995</th>\n      <td>1.751741e-37</td>\n      <td>9.523282e-33</td>\n      <td>8.888143e-24</td>\n      <td>9.641199e-16</td>\n      <td>6.740726e-12</td>\n      <td>0.000409</td>\n      <td>181.424183</td>\n      <td>875.510746</td>\n      <td>601.990968</td>\n      <td>199.091646</td>\n      <td>...</td>\n      <td>2.676366</td>\n      <td>134.704892</td>\n      <td>-0.270011</td>\n      <td>0.457943</td>\n      <td>134.704892</td>\n      <td>2.0</td>\n      <td>36.06794</td>\n      <td>26.947827</td>\n      <td>66.625792</td>\n      <td>122.736559</td>\n    </tr>\n    <tr>\n      <th>996</th>\n      <td>NaN</td>\n      <td>NaN</td>\n      <td>NaN</td>\n      <td>NaN</td>\n      <td>NaN</td>\n      <td>NaN</td>\n      <td>NaN</td>\n      <td>NaN</td>\n      <td>NaN</td>\n      <td>NaN</td>\n      <td>...</td>\n      <td>NaN</td>\n      <td>NaN</td>\n      <td>NaN</td>\n      <td>NaN</td>\n      <td>NaN</td>\n      <td>NaN</td>\n      <td>NaN</td>\n      <td>NaN</td>\n      <td>NaN</td>\n      <td>NaN</td>\n    </tr>\n    <tr>\n      <th>997</th>\n      <td>NaN</td>\n      <td>NaN</td>\n      <td>NaN</td>\n      <td>NaN</td>\n      <td>NaN</td>\n      <td>NaN</td>\n      <td>NaN</td>\n      <td>NaN</td>\n      <td>NaN</td>\n      <td>NaN</td>\n      <td>...</td>\n      <td>NaN</td>\n      <td>NaN</td>\n      <td>NaN</td>\n      <td>NaN</td>\n      <td>NaN</td>\n      <td>NaN</td>\n      <td>NaN</td>\n      <td>NaN</td>\n      <td>NaN</td>\n      <td>NaN</td>\n    </tr>\n    <tr>\n      <th>998</th>\n      <td>NaN</td>\n      <td>NaN</td>\n      <td>NaN</td>\n      <td>NaN</td>\n      <td>NaN</td>\n      <td>NaN</td>\n      <td>NaN</td>\n      <td>NaN</td>\n      <td>NaN</td>\n      <td>NaN</td>\n      <td>...</td>\n      <td>NaN</td>\n      <td>NaN</td>\n      <td>NaN</td>\n      <td>NaN</td>\n      <td>NaN</td>\n      <td>NaN</td>\n      <td>NaN</td>\n      <td>NaN</td>\n      <td>NaN</td>\n      <td>NaN</td>\n    </tr>\n    <tr>\n      <th>999</th>\n      <td>NaN</td>\n      <td>NaN</td>\n      <td>NaN</td>\n      <td>NaN</td>\n      <td>NaN</td>\n      <td>NaN</td>\n      <td>NaN</td>\n      <td>NaN</td>\n      <td>NaN</td>\n      <td>NaN</td>\n      <td>...</td>\n      <td>NaN</td>\n      <td>NaN</td>\n      <td>NaN</td>\n      <td>NaN</td>\n      <td>NaN</td>\n      <td>NaN</td>\n      <td>NaN</td>\n      <td>NaN</td>\n      <td>NaN</td>\n      <td>NaN</td>\n    </tr>\n  </tbody>\n</table>\n<p>1000 rows × 46 columns</p>\n</div>"
     },
     "execution_count": 25,
     "metadata": {},
     "output_type": "execute_result"
    }
   ],
   "source": [
    "df_outputs = pd.read_csv(proj_dir + \"data/result_space.csv\")\n",
    "df_outputs"
   ],
   "metadata": {
    "collapsed": false,
    "pycharm": {
     "name": "#%%\n"
    }
   }
  },
  {
   "cell_type": "code",
   "execution_count": 26,
   "outputs": [
    {
     "name": "stdout",
     "output_type": "stream",
     "text": [
      "Number of 0s: 697\n",
      "Number of 1s: 303\n"
     ]
    },
    {
     "data": {
      "text/plain": "(1000,)"
     },
     "execution_count": 26,
     "metadata": {},
     "output_type": "execute_result"
    }
   ],
   "source": [
    "labels = np.where(df_outputs.iloc[:, 0].isna(), 0, 1)\n",
    "count_0s = np.sum(labels == 0)\n",
    "count_1s = np.sum(labels == 1)\n",
    "\n",
    "print(f\"Number of 0s: {count_0s}\")\n",
    "print(f\"Number of 1s: {count_1s}\")\n",
    "np.shape(labels)"
   ],
   "metadata": {
    "collapsed": false,
    "pycharm": {
     "name": "#%%\n"
    }
   }
  },
  {
   "cell_type": "code",
   "execution_count": 27,
   "outputs": [
    {
     "data": {
      "text/plain": "(1000, 15)"
     },
     "execution_count": 27,
     "metadata": {},
     "output_type": "execute_result"
    }
   ],
   "source": [
    "input_data = df_samples.to_numpy().T\n",
    "np.shape(input_data)"
   ],
   "metadata": {
    "collapsed": false,
    "pycharm": {
     "name": "#%%\n"
    }
   }
  },
  {
   "cell_type": "code",
   "execution_count": 28,
   "outputs": [
    {
     "name": "stdout",
     "output_type": "stream",
     "text": [
      "Accuracy of SVM model with RBF kernel: 0.7000\n"
     ]
    }
   ],
   "source": [
    "from sklearn.model_selection import train_test_split\n",
    "from sklearn.svm import SVC\n",
    "from sklearn.metrics import accuracy_score\n",
    "\n",
    "# Splitting the data into training and testing datasets\n",
    "split_ratio = 0.7\n",
    "X_train, X_test, y_train, y_test = train_test_split(input_data, labels, train_size=split_ratio, random_state=42)\n",
    "\n",
    "# Hyperparameters for the SVM\n",
    "C_value = 1      # Example value; adjust as needed.\n",
    "gamma_value = 'scale'  # You can also specify a float value or 'auto'.\n",
    "\n",
    "# Creating an SVM model with RBF kernel\n",
    "svm_model = SVC(kernel='rbf', C=C_value, gamma=gamma_value)\n",
    "\n",
    "# Training the SVM model\n",
    "svm_model.fit(X_train, y_train)\n",
    "\n",
    "# Predicting on the test data\n",
    "y_pred = svm_model.predict(X_test)\n",
    "\n",
    "# Calculating accuracy\n",
    "accuracy = accuracy_score(y_test, y_pred)\n",
    "print(f'Accuracy of SVM model with RBF kernel: {accuracy:.4f}')\n"
   ],
   "metadata": {
    "collapsed": false,
    "pycharm": {
     "name": "#%%\n"
    }
   }
  },
  {
   "cell_type": "markdown",
   "source": [
    "### Hyperparameter optimization\n",
    "\n",
    "Bayesian Optimization for hyperparameters and architecture"
   ],
   "metadata": {
    "collapsed": false,
    "pycharm": {
     "name": "#%% md\n"
    }
   }
  },
  {
   "cell_type": "code",
   "execution_count": null,
   "outputs": [
    {
     "name": "stderr",
     "output_type": "stream",
     "text": [
      "[I 2023-11-01 05:09:40,319] A new study created in memory with name: no-name-48c5015f-cfaa-419d-90c6-e870fde61f33\n",
      "[I 2023-11-01 05:11:29,761] Trial 0 finished with value: 0.76 and parameters: {'kernel': 'linear', 'C': 1.3177435003767946}. Best is trial 0 with value: 0.76.\n",
      "[I 2023-11-01 05:12:15,106] Trial 1 finished with value: 0.7766666666666666 and parameters: {'kernel': 'linear', 'C': 0.598065807237305}. Best is trial 1 with value: 0.7766666666666666.\n",
      "[I 2023-11-01 05:12:15,160] Trial 2 finished with value: 0.7 and parameters: {'kernel': 'rbf', 'gamma': 'auto', 'C': 0.002283235924221247}. Best is trial 1 with value: 0.7766666666666666.\n",
      "[I 2023-11-01 05:12:15,172] Trial 3 finished with value: 0.7 and parameters: {'kernel': 'sigmoid', 'gamma': 'auto', 'C': 6.957088078369653e-05}. Best is trial 1 with value: 0.7766666666666666.\n",
      "[I 2023-11-01 05:12:15,184] Trial 4 finished with value: 0.7 and parameters: {'kernel': 'sigmoid', 'gamma': 'auto', 'C': 0.0004740825958924458}. Best is trial 1 with value: 0.7766666666666666.\n",
      "[I 2023-11-01 05:12:15,205] Trial 5 finished with value: 0.7 and parameters: {'kernel': 'sigmoid', 'gamma': 'scale', 'C': 0.00014273022643624287}. Best is trial 1 with value: 0.7766666666666666.\n"
     ]
    }
   ],
   "source": [
    "import logging\n",
    "import optuna\n",
    "\n",
    "# Set up the logging to save to a file\n",
    "log_format = '%(asctime)s - %(name)s - %(levelname)s - %(message)s'\n",
    "logging.basicConfig(filename=proj_dir+'optuna_log.txt', level=logging.INFO, format=log_format)\n",
    "\n",
    "# Objective function for SVM hyperparameter optimization\n",
    "def objective(trial):\n",
    "    kernel = trial.suggest_categorical('kernel', ['linear', 'poly', 'rbf', 'sigmoid'])\n",
    "\n",
    "    # Conditional hyperparameters based on chosen kernel\n",
    "    if kernel == 'poly':\n",
    "        degree = trial.suggest_int('degree', 1, 5)\n",
    "    gamma = 'scale'  # default value\n",
    "    if kernel in ['rbf', 'poly', 'sigmoid']:\n",
    "        gamma = trial.suggest_categorical('gamma', ['scale', 'auto'])\n",
    "\n",
    "    C = trial.suggest_float('C', 1e-5, 1e1, log=True)\n",
    "\n",
    "    # Setup SVM with the suggested hyperparameters\n",
    "    clf = SVC(kernel=kernel, degree=degree if kernel == 'poly' else 3, gamma=gamma, C=C)\n",
    "    clf.fit(X_train, y_train)\n",
    "\n",
    "    # Return accuracy or any other metric\n",
    "    accuracy = accuracy_score(y_test, clf.predict(X_test))\n",
    "    return accuracy\n",
    "\n",
    "study = optuna.create_study(direction='maximize')\n",
    "study.optimize(objective, n_trials=20)\n",
    "\n",
    "best_params = study.best_params\n",
    "best_accuracy = 1.0 - study.best_value"
   ],
   "metadata": {
    "collapsed": false,
    "pycharm": {
     "name": "#%%\n",
     "is_executing": true
    }
   }
  },
  {
   "cell_type": "code",
   "execution_count": null,
   "outputs": [],
   "source": [
    "# After the optimization\n",
    "print(\"\\nAll Trials:\")\n",
    "\n",
    "for trial in study.trials:\n",
    "    accuracy = 1.0 - trial.value  # We stored 1 - accuracy as value in objective function\n",
    "    print(f\"Trial {trial.number}: Accuracy = {accuracy:.4f}\")\n",
    "\n",
    "print(f\"\\nBest Accuracy: {best_accuracy*100:.2f}%\")\n",
    "print(f\"Best Hyperparameters: {best_params}\")\n"
   ],
   "metadata": {
    "collapsed": false,
    "pycharm": {
     "name": "#%%\n",
     "is_executing": true
    }
   }
  },
  {
   "cell_type": "code",
   "execution_count": null,
   "outputs": [],
   "source": [],
   "metadata": {
    "collapsed": false,
    "pycharm": {
     "name": "#%%\n",
     "is_executing": true
    }
   }
  },
  {
   "cell_type": "code",
   "execution_count": null,
   "outputs": [],
   "source": [],
   "metadata": {
    "collapsed": false,
    "pycharm": {
     "name": "#%%\n",
     "is_executing": true
    }
   }
  }
 ],
 "metadata": {
  "kernelspec": {
   "display_name": "Python 3",
   "language": "python",
   "name": "python3"
  },
  "language_info": {
   "codemirror_mode": {
    "name": "ipython",
    "version": 2
   },
   "file_extension": ".py",
   "mimetype": "text/x-python",
   "name": "python",
   "nbconvert_exporter": "python",
   "pygments_lexer": "ipython2",
   "version": "2.7.6"
  }
 },
 "nbformat": 4,
 "nbformat_minor": 0
}