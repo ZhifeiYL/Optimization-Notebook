{
 "cells": [
  {
   "cell_type": "code",
   "execution_count": 11,
   "metadata": {
    "collapsed": true,
    "pycharm": {
     "name": "#%%\n"
    }
   },
   "outputs": [],
   "source": [
    "import pandas as pd\n",
    "import numpy as np\n",
    "import matplotlib.pyplot as plt\n",
    "\n",
    "from util.util import get_root_dir"
   ]
  },
  {
   "cell_type": "code",
   "execution_count": 12,
   "outputs": [
    {
     "data": {
      "text/plain": "       Light%    Heavy%\n0    0.200000  0.800000\n1    0.203015  0.796985\n2    0.206030  0.793970\n3    0.209045  0.790955\n4    0.212060  0.787940\n..        ...       ...\n195  0.787940  0.212060\n196  0.790955  0.209045\n197  0.793970  0.206030\n198  0.796985  0.203015\n199  0.800000  0.200000\n\n[200 rows x 2 columns]",
      "text/html": "<div>\n<style scoped>\n    .dataframe tbody tr th:only-of-type {\n        vertical-align: middle;\n    }\n\n    .dataframe tbody tr th {\n        vertical-align: top;\n    }\n\n    .dataframe thead th {\n        text-align: right;\n    }\n</style>\n<table border=\"1\" class=\"dataframe\">\n  <thead>\n    <tr style=\"text-align: right;\">\n      <th></th>\n      <th>Light%</th>\n      <th>Heavy%</th>\n    </tr>\n  </thead>\n  <tbody>\n    <tr>\n      <th>0</th>\n      <td>0.200000</td>\n      <td>0.800000</td>\n    </tr>\n    <tr>\n      <th>1</th>\n      <td>0.203015</td>\n      <td>0.796985</td>\n    </tr>\n    <tr>\n      <th>2</th>\n      <td>0.206030</td>\n      <td>0.793970</td>\n    </tr>\n    <tr>\n      <th>3</th>\n      <td>0.209045</td>\n      <td>0.790955</td>\n    </tr>\n    <tr>\n      <th>4</th>\n      <td>0.212060</td>\n      <td>0.787940</td>\n    </tr>\n    <tr>\n      <th>...</th>\n      <td>...</td>\n      <td>...</td>\n    </tr>\n    <tr>\n      <th>195</th>\n      <td>0.787940</td>\n      <td>0.212060</td>\n    </tr>\n    <tr>\n      <th>196</th>\n      <td>0.790955</td>\n      <td>0.209045</td>\n    </tr>\n    <tr>\n      <th>197</th>\n      <td>0.793970</td>\n      <td>0.206030</td>\n    </tr>\n    <tr>\n      <th>198</th>\n      <td>0.796985</td>\n      <td>0.203015</td>\n    </tr>\n    <tr>\n      <th>199</th>\n      <td>0.800000</td>\n      <td>0.200000</td>\n    </tr>\n  </tbody>\n</table>\n<p>200 rows × 2 columns</p>\n</div>"
     },
     "execution_count": 12,
     "metadata": {},
     "output_type": "execute_result"
    }
   ],
   "source": [
    "root_dir = get_root_dir()\n",
    "proj_dir = root_dir + \"/surrogate/plastic_train2/\"\n",
    "df_samples = pd.read_csv(proj_dir + \"train2_data/lhs_samples.csv\", index_col=0)\n",
    "df_samples"
   ],
   "metadata": {
    "collapsed": false,
    "pycharm": {
     "name": "#%%\n"
    }
   }
  },
  {
   "cell_type": "code",
   "execution_count": 13,
   "outputs": [
    {
     "data": {
      "text/plain": "       Reflux  Stages  Cond Duty  Reb Duty\n0    4.099196    25.0   0.078892  0.106804\n1    4.053121    25.0   0.079301  0.107188\n2    4.008248    25.0   0.079710  0.107569\n3    3.964528    25.0   0.080117  0.107950\n4    3.921915    25.0   0.080523  0.108329\n..        ...     ...        ...       ...\n195  1.469882    25.0   0.145193  0.167916\n196  1.465602    25.0   0.145489  0.168186\n197  1.461354    25.0   0.145784  0.168454\n198  1.457125    25.0   0.146079  0.168723\n199  1.452920    25.0   0.146373  0.168990\n\n[200 rows x 4 columns]",
      "text/html": "<div>\n<style scoped>\n    .dataframe tbody tr th:only-of-type {\n        vertical-align: middle;\n    }\n\n    .dataframe tbody tr th {\n        vertical-align: top;\n    }\n\n    .dataframe thead th {\n        text-align: right;\n    }\n</style>\n<table border=\"1\" class=\"dataframe\">\n  <thead>\n    <tr style=\"text-align: right;\">\n      <th></th>\n      <th>Reflux</th>\n      <th>Stages</th>\n      <th>Cond Duty</th>\n      <th>Reb Duty</th>\n    </tr>\n  </thead>\n  <tbody>\n    <tr>\n      <th>0</th>\n      <td>4.099196</td>\n      <td>25.0</td>\n      <td>0.078892</td>\n      <td>0.106804</td>\n    </tr>\n    <tr>\n      <th>1</th>\n      <td>4.053121</td>\n      <td>25.0</td>\n      <td>0.079301</td>\n      <td>0.107188</td>\n    </tr>\n    <tr>\n      <th>2</th>\n      <td>4.008248</td>\n      <td>25.0</td>\n      <td>0.079710</td>\n      <td>0.107569</td>\n    </tr>\n    <tr>\n      <th>3</th>\n      <td>3.964528</td>\n      <td>25.0</td>\n      <td>0.080117</td>\n      <td>0.107950</td>\n    </tr>\n    <tr>\n      <th>4</th>\n      <td>3.921915</td>\n      <td>25.0</td>\n      <td>0.080523</td>\n      <td>0.108329</td>\n    </tr>\n    <tr>\n      <th>...</th>\n      <td>...</td>\n      <td>...</td>\n      <td>...</td>\n      <td>...</td>\n    </tr>\n    <tr>\n      <th>195</th>\n      <td>1.469882</td>\n      <td>25.0</td>\n      <td>0.145193</td>\n      <td>0.167916</td>\n    </tr>\n    <tr>\n      <th>196</th>\n      <td>1.465602</td>\n      <td>25.0</td>\n      <td>0.145489</td>\n      <td>0.168186</td>\n    </tr>\n    <tr>\n      <th>197</th>\n      <td>1.461354</td>\n      <td>25.0</td>\n      <td>0.145784</td>\n      <td>0.168454</td>\n    </tr>\n    <tr>\n      <th>198</th>\n      <td>1.457125</td>\n      <td>25.0</td>\n      <td>0.146079</td>\n      <td>0.168723</td>\n    </tr>\n    <tr>\n      <th>199</th>\n      <td>1.452920</td>\n      <td>25.0</td>\n      <td>0.146373</td>\n      <td>0.168990</td>\n    </tr>\n  </tbody>\n</table>\n<p>200 rows × 4 columns</p>\n</div>"
     },
     "execution_count": 13,
     "metadata": {},
     "output_type": "execute_result"
    }
   ],
   "source": [
    "df_outputs = pd.read_csv(proj_dir + \"train2_data/result3.csv\", header=None)\n",
    "df_outputs.columns = [\"Reflux\",\"Stages\",\"Cond Duty\",\"Reb Duty\"]\n",
    "df_outputs"
   ],
   "metadata": {
    "collapsed": false,
    "pycharm": {
     "name": "#%%\n"
    }
   }
  },
  {
   "cell_type": "code",
   "execution_count": 14,
   "outputs": [],
   "source": [
    "def extract_reflux(stage_value):\n",
    "    # Filter df_samples for specified 'Stages' value and select only \"Light%\" column\n",
    "    filtered_data_df = df_samples[\"Light%\"]\n",
    "\n",
    "    # Convert to numpy array\n",
    "    filtered_data_np = filtered_data_df.to_numpy().reshape(-1, 1)\n",
    "\n",
    "    # Initialize an empty list to store the concatenated data\n",
    "    concatenated_data = []\n",
    "\n",
    "    # Iterate over the filtered DataFrame\n",
    "    for idx in filtered_data_df.index:\n",
    "        # Extract the desired columns (0, 2, 3) from df_outputs\n",
    "        output_row = df_outputs.loc[idx, df_outputs.columns[[0, 2, 3]]].to_numpy()\n",
    "        # Concatenate with the row from filtered_data_np\n",
    "        concatenated_row = np.concatenate((filtered_data_np[filtered_data_df.index.get_loc(idx)].reshape(1, -1), [output_row]), axis=1)\n",
    "        concatenated_data.append(concatenated_row)\n",
    "\n",
    "    # Convert the list of arrays into a single numpy array\n",
    "    arr = np.vstack(concatenated_data)\n",
    "    arr = arr[np.argsort(arr[:, 1])]\n",
    "    return arr\n",
    "\n",
    "s25_data = extract_reflux(25)"
   ],
   "metadata": {
    "collapsed": false,
    "pycharm": {
     "name": "#%%\n"
    }
   }
  },
  {
   "cell_type": "code",
   "execution_count": 15,
   "outputs": [
    {
     "name": "stdout",
     "output_type": "stream",
     "text": [
      "Length of data s50: 200\n"
     ]
    }
   ],
   "source": [
    "print(f\"Length of data s50: {len(s25_data)}\")"
   ],
   "metadata": {
    "collapsed": false,
    "pycharm": {
     "name": "#%%\n"
    }
   }
  },
  {
   "cell_type": "code",
   "execution_count": 16,
   "outputs": [
    {
     "data": {
      "text/plain": "array([[0.8       , 1.4529196 , 0.14637325, 0.16899046],\n       [0.796985  , 1.45712473, 0.14607898, 0.16872271],\n       [0.79397   , 1.46135358, 0.14578423, 0.16845447],\n       [0.790955  , 1.46560204, 0.14548873, 0.1681855 ],\n       [0.78794   , 1.46988223, 0.1451932 , 0.16791649],\n       [0.784925  , 1.474186  , 0.14489713, 0.16764695],\n       [0.78191   , 1.47851437, 0.14460057, 0.16737691],\n       [0.778894  , 1.48286984, 0.14430346, 0.16710634],\n       [0.775879  , 1.48724923, 0.14400597, 0.16683538],\n       [0.772864  , 1.49165534, 0.14370806, 0.16656401],\n       [0.769849  , 1.49608835, 0.14340973, 0.1662922 ],\n       [0.766834  , 1.50054854, 0.14311096, 0.16601998],\n       [0.763819  , 1.50503667, 0.1428118 , 0.16574735],\n       [0.760804  , 1.50955276, 0.14251222, 0.16547431],\n       [0.757789  , 1.51409722, 0.14221222, 0.16520085],\n       [0.754774  , 1.51867067, 0.14191183, 0.164927  ],\n       [0.751759  , 1.5232735 , 0.14161105, 0.16465276],\n       [0.748744  , 1.52790577, 0.14130985, 0.16437811],\n       [0.745729  , 1.53256835, 0.14100827, 0.16410307],\n       [0.742714  , 1.53726131, 0.1407063 , 0.16382765],\n       [0.739698  , 1.54198662, 0.14040383, 0.16355174],\n       [0.736683  , 1.54674192, 0.14010109, 0.16327554],\n       [0.733668  , 1.55153359, 0.13979822, 0.16299922],\n       [0.730653  , 1.55635004, 0.13949457, 0.16272212],\n       [0.727638  , 1.56119974, 0.13919057, 0.16244468],\n       [0.724623  , 1.56608435, 0.1388863 , 0.16216696],\n       [0.721608  , 1.5710026 , 0.13858167, 0.16188888],\n       [0.718593  , 1.57595478, 0.13827666, 0.16161043],\n       [0.715578  , 1.58094148, 0.13797129, 0.16133162],\n       [0.712563  , 1.585963  , 0.13766556, 0.16105244],\n       [0.709548  , 1.59101998, 0.13735946, 0.1607729 ],\n       [0.706533  , 1.59611301, 0.13705302, 0.16049302],\n       [0.703518  , 1.60124254, 0.13674622, 0.16021278],\n       [0.700503  , 1.60640942, 0.13643909, 0.15993222],\n       [0.697487  , 1.61161366, 0.13613142, 0.15965112],\n       [0.694472  , 1.61685344, 0.13582346, 0.15936972],\n       [0.691457  , 1.62213156, 0.13551515, 0.15908798],\n       [0.688442  , 1.62744841, 0.13520649, 0.15880588],\n       [0.685427  , 1.6328045 , 0.13489746, 0.15852343],\n       [0.682412  , 1.63820045, 0.13458809, 0.15824062],\n       [0.679397  , 1.64363646, 0.13427835, 0.15795745],\n       [0.676382  , 1.64911349, 0.13396826, 0.15767393],\n       [0.673367  , 1.65463176, 0.13365781, 0.15739005],\n       [0.670352  , 1.66019191, 0.133347  , 0.15710581],\n       [0.667337  , 1.6657945 , 0.13303583, 0.15682122],\n       [0.664322  , 1.67144011, 0.13272431, 0.15653627],\n       [0.661307  , 1.6771293 , 0.13241243, 0.15625096],\n       [0.658291  , 1.68286456, 0.13210009, 0.1559652 ],\n       [0.655276  , 1.68864269, 0.13178749, 0.15567918],\n       [0.652261  , 1.69446617, 0.13147454, 0.15539281],\n       [0.649246  , 1.70033553, 0.13116122, 0.15510607],\n       [0.646231  , 1.70625157, 0.13084755, 0.15481898],\n       [0.643216  , 1.71221482, 0.13053352, 0.15453152],\n       [0.640201  , 1.71822602, 0.13021913, 0.15424372],\n       [0.637186  , 1.72428565, 0.12990438, 0.15395554],\n       [0.634171  , 1.73039446, 0.12958926, 0.15366701],\n       [0.631156  , 1.73655312, 0.12927378, 0.15337811],\n       [0.628141  , 1.74276231, 0.12895794, 0.15308885],\n       [0.625126  , 1.74902274, 0.12864173, 0.15279923],\n       [0.622111  , 1.75533512, 0.12832516, 0.15250924],\n       [0.619095  , 1.76170229, 0.12800812, 0.15221879],\n       [0.61608   , 1.76812076, 0.12769081, 0.15192807],\n       [0.613065  , 1.77459338, 0.12737313, 0.15163699],\n       [0.61005   , 1.78112092, 0.12705509, 0.15134553],\n       [0.607035  , 1.78770414, 0.12673667, 0.1510537 ],\n       [0.60402   , 1.79434385, 0.12641788, 0.1507615 ],\n       [0.601005  , 1.80104084, 0.12609871, 0.15046892],\n       [0.59799   , 1.80779594, 0.12577917, 0.15017597],\n       [0.594975  , 1.81460997, 0.12545926, 0.14988265],\n       [0.59196   , 1.8214838 , 0.12513896, 0.14958895],\n       [0.588945  , 1.82841827, 0.12481829, 0.14929486],\n       [0.58593   , 1.83541428, 0.12449723, 0.1490004 ],\n       [0.582915  , 1.84247272, 0.12417578, 0.14870555],\n       [0.579899  , 1.84959688, 0.12385385, 0.14841022],\n       [0.576884  , 1.85678298, 0.12353164, 0.14811461],\n       [0.573869  , 1.8640343 , 0.12320903, 0.1478186 ],\n       [0.570854  , 1.87135184, 0.12288604, 0.1475222 ],\n       [0.567839  , 1.87873648, 0.12256265, 0.14722541],\n       [0.564824  , 1.88618913, 0.12223886, 0.14692822],\n       [0.561809  , 1.8937113 , 0.12191468, 0.14663064],\n       [0.558794  , 1.90130376, 0.1215901 , 0.14633266],\n       [0.555779  , 1.90896756, 0.12126512, 0.14603429],\n       [0.552764  , 1.91670381, 0.12093974, 0.14573551],\n       [0.549749  , 1.9245137 , 0.12061396, 0.14543633],\n       [0.546734  , 1.93239826, 0.12028776, 0.14513673],\n       [0.543719  , 1.94035862, 0.11996116, 0.14483673],\n       [0.540704  , 1.948396  , 0.11963414, 0.14453632],\n       [0.537688  , 1.95651434, 0.11930659, 0.14423539],\n       [0.534673  , 1.96472662, 0.11897943, 0.14393483],\n       [0.531658  , 1.97299561, 0.11865088, 0.14363288],\n       [0.528643  , 1.98134982, 0.11832203, 0.14333064],\n       [0.525628  , 1.98978938, 0.11799284, 0.14302806],\n       [0.522613  , 1.99831409, 0.11766323, 0.14272507],\n       [0.519598  , 2.0069252 , 0.11733321, 0.14242165],\n       [0.516583  , 2.01562402, 0.11700277, 0.14211782],\n       [0.513568  , 2.02441192, 0.11667189, 0.14181355],\n       [0.510553  , 2.03329032, 0.11634058, 0.14150885],\n       [0.507538  , 2.04226069, 0.11600883, 0.14120372],\n       [0.504523  , 2.05132462, 0.11567664, 0.14089814],\n       [0.501508  , 2.06048348, 0.115344  , 0.14059211],\n       [0.498492  , 2.06974204, 0.11501079, 0.14028553],\n       [0.495477  , 2.07909579, 0.11467724, 0.13997859],\n       [0.492462  , 2.08854944, 0.11434323, 0.1396712 ],\n       [0.489447  , 2.09810471, 0.11400876, 0.13936334],\n       [0.486432  , 2.10776336, 0.11367383, 0.13905502],\n       [0.483417  , 2.11752706, 0.11333842, 0.13874623],\n       [0.480402  , 2.12739797, 0.11300254, 0.13843697],\n       [0.477387  , 2.13737757, 0.11266618, 0.13812723],\n       [0.474372  , 2.14746807, 0.11232934, 0.13781701],\n       [0.471357  , 2.15767135, 0.11199202, 0.13750631],\n       [0.468342  , 2.16798944, 0.11165421, 0.13719512],\n       [0.465327  , 2.1784244 , 0.1113159 , 0.13688343],\n       [0.462312  , 2.18897836, 0.1109771 , 0.13657126],\n       [0.459296  , 2.19965706, 0.11063769, 0.13625847],\n       [0.456281  , 2.21048656, 0.11029894, 0.13594635],\n       [0.453266  , 2.22140631, 0.10995846, 0.1356325 ],\n       [0.450251  , 2.23245473, 0.1096175 , 0.13531815],\n       [0.447236  , 2.24363413, 0.10927603, 0.13500331],\n       [0.444221  , 2.25494689, 0.10893406, 0.13468797],\n       [0.441206  , 2.2663955 , 0.10859158, 0.13437211],\n       [0.438191  , 2.27798247, 0.10824858, 0.13405574],\n       [0.435176  , 2.28971042, 0.10790505, 0.13373884],\n       [0.432161  , 2.30158205, 0.10756099, 0.13342141],\n       [0.429146  , 2.31360013, 0.1072164 , 0.13310344],\n       [0.426131  , 2.32576749, 0.10687126, 0.13278493],\n       [0.423116  , 2.33808707, 0.10652557, 0.13246587],\n       [0.420101  , 2.35056189, 0.10617932, 0.13214626],\n       [0.417085  , 2.36319926, 0.1058324 , 0.13182598],\n       [0.41407   , 2.37599399, 0.10548502, 0.13150523],\n       [0.411055  , 2.38895352, 0.10513708, 0.13118392],\n       [0.40804   , 2.40208122, 0.10478855, 0.13086202],\n       [0.405025  , 2.41538057, 0.10443944, 0.13053954],\n       [0.40201   , 2.42885515, 0.10408973, 0.13021647],\n       [0.398995  , 2.44250861, 0.10373943, 0.12989281],\n       [0.39598   , 2.45634475, 0.10338852, 0.12956854],\n       [0.392965  , 2.47036746, 0.10303701, 0.12924366],\n       [0.38995   , 2.48458075, 0.10268488, 0.12891817],\n       [0.386935  , 2.49898874, 0.10233213, 0.12859205],\n       [0.38392   , 2.51359569, 0.10197875, 0.12826531],\n       [0.380905  , 2.52840598, 0.10162473, 0.12793793],\n       [0.377889  , 2.54342927, 0.10126996, 0.12760981],\n       [0.374874  , 2.55865997, 0.10091465, 0.12728114],\n       [0.371859  , 2.57410797, 0.10055869, 0.12695182],\n       [0.368844  , 2.5897782 , 0.10020207, 0.12662184],\n       [0.365829  , 2.60567577, 0.09984478, 0.12629119],\n       [0.362814  , 2.62180592, 0.09948681, 0.12595987],\n       [0.359799  , 2.63817408, 0.09912816, 0.12562786],\n       [0.356784  , 2.65478586, 0.09876882, 0.12529516],\n       [0.353769  , 2.67164703, 0.09840878, 0.12496177],\n       [0.350754  , 2.68876356, 0.09804803, 0.12462767],\n       [0.347739  , 2.7061416 , 0.09768658, 0.12429286],\n       [0.344724  , 2.72378754, 0.0973244 , 0.12395732],\n       [0.341709  , 2.74170795, 0.09696149, 0.12362106],\n       [0.338693  , 2.75991572, 0.09659772, 0.12328395],\n       [0.335678  , 2.7784058 , 0.09623333, 0.12294621],\n       [0.332663  , 2.79724368, 0.0958695 , 0.12260903],\n       [0.329648  , 2.81632413, 0.09550338, 0.12226955],\n       [0.326633  , 2.83571657, 0.09513651, 0.12192933],\n       [0.323618  , 2.85542898, 0.09476888, 0.12158836],\n       [0.320603  , 2.87546958, 0.0944005 , 0.12124663],\n       [0.317588  , 2.89584696, 0.09403133, 0.12090411],\n       [0.314573  , 2.91656998, 0.09366138, 0.12056081],\n       [0.311558  , 2.93764787, 0.09329062, 0.12021671],\n       [0.308543  , 2.95909019, 0.09291905, 0.1198718 ],\n       [0.305528  , 2.98090688, 0.09254666, 0.11952605],\n       [0.302513  , 3.00310826, 0.09217342, 0.11917948],\n       [0.299497  , 3.02571261, 0.09179922, 0.11883194],\n       [0.296482  , 3.04871608, 0.09142427, 0.11848365],\n       [0.293467  , 3.07213768, 0.09104846, 0.11813449],\n       [0.290452  , 3.09598946, 0.09067175, 0.11778445],\n       [0.287437  , 3.12028394, 0.09029415, 0.11743351],\n       [0.284422  , 3.14503416, 0.08991564, 0.11708166],\n       [0.281407  , 3.17025369, 0.08953621, 0.11672888],\n       [0.278392  , 3.19595667, 0.08915584, 0.11637518],\n       [0.275377  , 3.22215781, 0.08877453, 0.11602052],\n       [0.272362  , 3.24887246, 0.08839225, 0.11566491],\n       [0.269347  , 3.27611663, 0.08800901, 0.11530833],\n       [0.266332  , 3.30390699, 0.08762477, 0.11495076],\n       [0.263317  , 3.33226097, 0.08723954, 0.11459219],\n       [0.260302  , 3.361149  , 0.08685234, 0.11423165],\n       [0.257286  , 3.39073137, 0.08646565, 0.11387164],\n       [0.254271  , 3.42088388, 0.08607724, 0.1135099 ],\n       [0.251256  , 3.45168768, 0.08568797, 0.11314729],\n       [0.248241  , 3.48311607, 0.08529689, 0.11278289],\n       [0.245226  , 3.51531871, 0.08490641, 0.11241907],\n       [0.242211  , 3.54818239, 0.0845139 , 0.11205323],\n       [0.239196  , 3.58178195, 0.08412029, 0.1116863 ],\n       [0.236181  , 3.61610935, 0.08372496, 0.11131763],\n       [0.233166  , 3.65124937, 0.08332893, 0.11094827],\n       [0.230151  , 3.6872062 , 0.08293174, 0.11057775],\n       [0.227136  , 3.72400977, 0.08253336, 0.11020605],\n       [0.224121  , 3.76169208, 0.08213378, 0.10983315],\n       [0.221106  , 3.80028624, 0.08173299, 0.10945903],\n       [0.21809   , 3.83984049, 0.08133082, 0.10908355],\n       [0.215075  , 3.88036639, 0.08092754, 0.10870694],\n       [0.21206   , 3.92191491, 0.08052298, 0.10832906],\n       [0.209045  , 3.96452753, 0.08011713, 0.10794989],\n       [0.20603   , 4.00824774, 0.07970998, 0.10756942],\n       [0.203015  , 4.05312147, 0.07930149, 0.10718761],\n       [0.2       , 4.09919587, 0.07889165, 0.10680445]])"
     },
     "execution_count": 16,
     "metadata": {},
     "output_type": "execute_result"
    }
   ],
   "source": [
    "# Light% , RR, Cond, Reb\n",
    "s25_data"
   ],
   "metadata": {
    "collapsed": false,
    "pycharm": {
     "name": "#%%\n"
    }
   }
  },
  {
   "cell_type": "markdown",
   "source": [
    "## 25 stages is chosen to be the nominal condition\n",
    "\n",
    "RR:  1.32 - 6.28 (re tested)"
   ],
   "metadata": {
    "collapsed": false,
    "pycharm": {
     "name": "#%% md\n"
    }
   }
  },
  {
   "cell_type": "code",
   "execution_count": 17,
   "outputs": [
    {
     "data": {
      "text/plain": "<Figure size 1500x500 with 3 Axes>",
      "image/png": "[encoded data removed]"
     },
     "metadata": {},
     "output_type": "display_data"
    }
   ],
   "source": [
    "fig, axs = plt.subplots(1, 3, figsize=(15, 5))\n",
    "# First plot\n",
    "axs[0].plot(s25_data.T[0], s25_data.T[1], 'x')\n",
    "axs[0].set_title('RR')\n",
    "\n",
    "# Second plot\n",
    "axs[1].plot(s25_data.T[0], s25_data.T[2], 'x')\n",
    "axs[1].set_title('Cond')\n",
    "\n",
    "# Third plot\n",
    "axs[2].plot(s25_data.T[0], s25_data.T[3], 'x')\n",
    "axs[2].set_title('Reb')\n",
    "\n",
    "# Display the plots\n",
    "plt.show()"
   ],
   "metadata": {
    "collapsed": false,
    "pycharm": {
     "name": "#%%\n"
    }
   }
  },
  {
   "cell_type": "code",
   "execution_count": 17,
   "outputs": [],
   "source": [],
   "metadata": {
    "collapsed": false,
    "pycharm": {
     "name": "#%%\n"
    }
   }
  },
  {
   "cell_type": "code",
   "execution_count": 18,
   "outputs": [
    {
     "name": "stdout",
     "output_type": "stream",
     "text": [
      "R^2: 0.9905935773157903\n"
     ]
    },
    {
     "data": {
      "text/plain": "array([  7.39903239, -11.18818779,   5.78878845])"
     },
     "execution_count": 18,
     "metadata": {},
     "output_type": "execute_result"
    }
   ],
   "source": [
    "coefs1 = np.polyfit(s25_data.T[0], s25_data.T[1], 2)\n",
    "\n",
    "# Validate\n",
    "p = np.poly1d(coefs1)\n",
    "RR_pred = p(s25_data.T[0])\n",
    "\n",
    "# Calculate SSR and SST\n",
    "ssr = np.sum((RR_pred - s25_data.T[1]) ** 2)\n",
    "sst = np.sum((s25_data.T[1] - np.mean(s25_data.T[1])) ** 2)\n",
    "\n",
    "# Calculate R^2\n",
    "r_squared = 1 - (ssr / sst)\n",
    "\n",
    "print(\"R^2:\", r_squared)\n",
    "\n",
    "coefs1"
   ],
   "metadata": {
    "collapsed": false,
    "pycharm": {
     "name": "#%%\n"
    }
   }
  },
  {
   "cell_type": "code",
   "execution_count": 19,
   "outputs": [
    {
     "name": "stdout",
     "output_type": "stream",
     "text": [
      "R^2: 0.998479936528337\n"
     ]
    },
    {
     "data": {
      "text/plain": "array([0.11165176, 0.0585368 ])"
     },
     "execution_count": 19,
     "metadata": {},
     "output_type": "execute_result"
    }
   ],
   "source": [
    "coefs2 = np.polyfit(s25_data.T[0], s25_data.T[2], 1)\n",
    "\n",
    "# Validate\n",
    "p = np.poly1d(coefs2)\n",
    "RR_pred = p(s25_data.T[0])\n",
    "\n",
    "# Calculate SSR and SST\n",
    "ssr = np.sum((RR_pred - s25_data.T[2]) ** 2)\n",
    "sst = np.sum((s25_data.T[2] - np.mean(s25_data.T[2])) ** 2)\n",
    "\n",
    "# Calculate R^2\n",
    "r_squared = 1 - (ssr / sst)\n",
    "\n",
    "print(\"R^2:\", r_squared)\n",
    "\n",
    "coefs2"
   ],
   "metadata": {
    "collapsed": false,
    "pycharm": {
     "name": "#%%\n"
    }
   }
  },
  {
   "cell_type": "code",
   "execution_count": 20,
   "outputs": [
    {
     "name": "stdout",
     "output_type": "stream",
     "text": [
      "R^2: 0.9982131768830725\n"
     ]
    },
    {
     "data": {
      "text/plain": "array([0.10282521, 0.08821265])"
     },
     "execution_count": 20,
     "metadata": {},
     "output_type": "execute_result"
    }
   ],
   "source": [
    "coefs3 = np.polyfit(s25_data.T[0], s25_data.T[3], 1)\n",
    "\n",
    "# Validate\n",
    "p = np.poly1d(coefs3)\n",
    "RR_pred = p(s25_data.T[0])\n",
    "\n",
    "# Calculate SSR and SST\n",
    "ssr = np.sum((RR_pred - s25_data.T[3]) ** 2)\n",
    "sst = np.sum((s25_data.T[3] - np.mean(s25_data.T[3])) ** 2)\n",
    "\n",
    "# Calculate R^2\n",
    "r_squared = 1 - (ssr / sst)\n",
    "\n",
    "print(\"R^2:\", r_squared)\n",
    "\n",
    "coefs3"
   ],
   "metadata": {
    "collapsed": false,
    "pycharm": {
     "name": "#%%\n"
    }
   }
  },
  {
   "cell_type": "code",
   "execution_count": 20,
   "outputs": [],
   "source": [],
   "metadata": {
    "collapsed": false,
    "pycharm": {
     "name": "#%%\n"
    }
   }
  }
 ],
 "metadata": {
  "kernelspec": {
   "display_name": "Python 3",
   "language": "python",
   "name": "python3"
  },
  "language_info": {
   "codemirror_mode": {
    "name": "ipython",
    "version": 2
   },
   "file_extension": ".py",
   "mimetype": "text/x-python",
   "name": "python",
   "nbconvert_exporter": "python",
   "pygments_lexer": "ipython2",
   "version": "2.7.6"
  }
 },
 "nbformat": 4,
 "nbformat_minor": 0
}