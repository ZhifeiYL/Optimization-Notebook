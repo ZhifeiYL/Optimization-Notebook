{
 "cells": [
  {
   "cell_type": "code",
   "execution_count": 8,
   "metadata": {
    "collapsed": true,
    "pycharm": {
     "name": "#%%\n"
    }
   },
   "outputs": [],
   "source": [
    "import pandas as pd\n",
    "import numpy as np\n",
    "import matplotlib.pyplot as plt\n",
    "\n",
    "from util.util import get_root_dir"
   ]
  },
  {
   "cell_type": "code",
   "execution_count": 9,
   "outputs": [
    {
     "data": {
      "text/plain": "       Light%    Heavy%\n0    0.200000  0.800000\n1    0.203015  0.796985\n2    0.206030  0.793970\n3    0.209045  0.790955\n4    0.212060  0.787940\n..        ...       ...\n195  0.787940  0.212060\n196  0.790955  0.209045\n197  0.793970  0.206030\n198  0.796985  0.203015\n199  0.800000  0.200000\n\n[200 rows x 2 columns]",
      "text/html": "<div>\n<style scoped>\n    .dataframe tbody tr th:only-of-type {\n        vertical-align: middle;\n    }\n\n    .dataframe tbody tr th {\n        vertical-align: top;\n    }\n\n    .dataframe thead th {\n        text-align: right;\n    }\n</style>\n<table border=\"1\" class=\"dataframe\">\n  <thead>\n    <tr style=\"text-align: right;\">\n      <th></th>\n      <th>Light%</th>\n      <th>Heavy%</th>\n    </tr>\n  </thead>\n  <tbody>\n    <tr>\n      <th>0</th>\n      <td>0.200000</td>\n      <td>0.800000</td>\n    </tr>\n    <tr>\n      <th>1</th>\n      <td>0.203015</td>\n      <td>0.796985</td>\n    </tr>\n    <tr>\n      <th>2</th>\n      <td>0.206030</td>\n      <td>0.793970</td>\n    </tr>\n    <tr>\n      <th>3</th>\n      <td>0.209045</td>\n      <td>0.790955</td>\n    </tr>\n    <tr>\n      <th>4</th>\n      <td>0.212060</td>\n      <td>0.787940</td>\n    </tr>\n    <tr>\n      <th>...</th>\n      <td>...</td>\n      <td>...</td>\n    </tr>\n    <tr>\n      <th>195</th>\n      <td>0.787940</td>\n      <td>0.212060</td>\n    </tr>\n    <tr>\n      <th>196</th>\n      <td>0.790955</td>\n      <td>0.209045</td>\n    </tr>\n    <tr>\n      <th>197</th>\n      <td>0.793970</td>\n      <td>0.206030</td>\n    </tr>\n    <tr>\n      <th>198</th>\n      <td>0.796985</td>\n      <td>0.203015</td>\n    </tr>\n    <tr>\n      <th>199</th>\n      <td>0.800000</td>\n      <td>0.200000</td>\n    </tr>\n  </tbody>\n</table>\n<p>200 rows × 2 columns</p>\n</div>"
     },
     "execution_count": 9,
     "metadata": {},
     "output_type": "execute_result"
    }
   ],
   "source": [
    "root_dir = get_root_dir()\n",
    "proj_dir = root_dir + \"/surrogate/plastic_train2/\"\n",
    "df_samples = pd.read_csv(proj_dir + \"train2_data/lhs_samples.csv\", index_col=0)\n",
    "df_samples"
   ],
   "metadata": {
    "collapsed": false,
    "pycharm": {
     "name": "#%%\n"
    }
   }
  },
  {
   "cell_type": "code",
   "execution_count": 10,
   "outputs": [
    {
     "data": {
      "text/plain": "       Reflux  Stages  Cond Duty  Reb Duty\n0    6.277090    50.0   0.094499  0.183882\n1    6.218799    50.0   0.095088  0.184452\n2    6.161828    50.0   0.095673  0.185019\n3    6.106189    50.0   0.096255  0.185582\n4    6.051839    50.0   0.096833  0.186142\n..        ...     ...        ...       ...\n195  2.660443    50.0   0.180596  0.266431\n196  2.653975    50.0   0.180958  0.266774\n197  2.647584    50.0   0.181321  0.267119\n198  2.641194    50.0   0.181682  0.267462\n199  2.634855    50.0   0.182043  0.267805\n\n[200 rows x 4 columns]",
      "text/html": "<div>\n<style scoped>\n    .dataframe tbody tr th:only-of-type {\n        vertical-align: middle;\n    }\n\n    .dataframe tbody tr th {\n        vertical-align: top;\n    }\n\n    .dataframe thead th {\n        text-align: right;\n    }\n</style>\n<table border=\"1\" class=\"dataframe\">\n  <thead>\n    <tr style=\"text-align: right;\">\n      <th></th>\n      <th>Reflux</th>\n      <th>Stages</th>\n      <th>Cond Duty</th>\n      <th>Reb Duty</th>\n    </tr>\n  </thead>\n  <tbody>\n    <tr>\n      <th>0</th>\n      <td>6.277090</td>\n      <td>50.0</td>\n      <td>0.094499</td>\n      <td>0.183882</td>\n    </tr>\n    <tr>\n      <th>1</th>\n      <td>6.218799</td>\n      <td>50.0</td>\n      <td>0.095088</td>\n      <td>0.184452</td>\n    </tr>\n    <tr>\n      <th>2</th>\n      <td>6.161828</td>\n      <td>50.0</td>\n      <td>0.095673</td>\n      <td>0.185019</td>\n    </tr>\n    <tr>\n      <th>3</th>\n      <td>6.106189</td>\n      <td>50.0</td>\n      <td>0.096255</td>\n      <td>0.185582</td>\n    </tr>\n    <tr>\n      <th>4</th>\n      <td>6.051839</td>\n      <td>50.0</td>\n      <td>0.096833</td>\n      <td>0.186142</td>\n    </tr>\n    <tr>\n      <th>...</th>\n      <td>...</td>\n      <td>...</td>\n      <td>...</td>\n      <td>...</td>\n    </tr>\n    <tr>\n      <th>195</th>\n      <td>2.660443</td>\n      <td>50.0</td>\n      <td>0.180596</td>\n      <td>0.266431</td>\n    </tr>\n    <tr>\n      <th>196</th>\n      <td>2.653975</td>\n      <td>50.0</td>\n      <td>0.180958</td>\n      <td>0.266774</td>\n    </tr>\n    <tr>\n      <th>197</th>\n      <td>2.647584</td>\n      <td>50.0</td>\n      <td>0.181321</td>\n      <td>0.267119</td>\n    </tr>\n    <tr>\n      <th>198</th>\n      <td>2.641194</td>\n      <td>50.0</td>\n      <td>0.181682</td>\n      <td>0.267462</td>\n    </tr>\n    <tr>\n      <th>199</th>\n      <td>2.634855</td>\n      <td>50.0</td>\n      <td>0.182043</td>\n      <td>0.267805</td>\n    </tr>\n  </tbody>\n</table>\n<p>200 rows × 4 columns</p>\n</div>"
     },
     "execution_count": 10,
     "metadata": {},
     "output_type": "execute_result"
    }
   ],
   "source": [
    "df_outputs = pd.read_csv(proj_dir + \"train2_data/result4.csv\", header=None)\n",
    "df_outputs.columns = [\"Reflux\",\"Stages\",\"Cond Duty\",\"Reb Duty\"]\n",
    "df_outputs"
   ],
   "metadata": {
    "collapsed": false,
    "pycharm": {
     "name": "#%%\n"
    }
   }
  },
  {
   "cell_type": "code",
   "execution_count": 11,
   "outputs": [],
   "source": [
    "def extract_reflux(stage_value):\n",
    "    # Filter df_samples for specified 'Stages' value and select only \"Light%\" column\n",
    "    filtered_data_df = df_samples[\"Light%\"]\n",
    "\n",
    "    # Convert to numpy array\n",
    "    filtered_data_np = filtered_data_df.to_numpy().reshape(-1, 1)\n",
    "\n",
    "    # Initialize an empty list to store the concatenated data\n",
    "    concatenated_data = []\n",
    "\n",
    "    # Iterate over the filtered DataFrame\n",
    "    for idx in filtered_data_df.index:\n",
    "        # Extract the desired columns (0, 2, 3) from df_outputs\n",
    "        output_row = df_outputs.loc[idx, df_outputs.columns[[0, 2, 3]]].to_numpy()\n",
    "        # Concatenate with the row from filtered_data_np\n",
    "        concatenated_row = np.concatenate((filtered_data_np[filtered_data_df.index.get_loc(idx)].reshape(1, -1), [output_row]), axis=1)\n",
    "        concatenated_data.append(concatenated_row)\n",
    "\n",
    "    # Convert the list of arrays into a single numpy array\n",
    "    arr = np.vstack(concatenated_data)\n",
    "    arr = arr[np.argsort(arr[:, 1])]\n",
    "    return arr\n",
    "\n",
    "s50_data = extract_reflux(50)"
   ],
   "metadata": {
    "collapsed": false,
    "pycharm": {
     "name": "#%%\n"
    }
   }
  },
  {
   "cell_type": "code",
   "execution_count": 12,
   "outputs": [
    {
     "name": "stdout",
     "output_type": "stream",
     "text": [
      "Length of data s50: 200\n"
     ]
    }
   ],
   "source": [
    "print(f\"Length of data s50: {len(s50_data)}\")"
   ],
   "metadata": {
    "collapsed": false,
    "pycharm": {
     "name": "#%%\n"
    }
   }
  },
  {
   "cell_type": "code",
   "execution_count": 15,
   "outputs": [
    {
     "data": {
      "text/plain": "array([[0.8       , 2.63485512, 0.18204321, 0.26780494],\n       [0.796985  , 2.64119379, 0.18168218, 0.26746208],\n       [0.79397   , 2.64758391, 0.1813213 , 0.26711919],\n       [0.790955  , 2.65397536, 0.18095817, 0.26677441],\n       [0.78794   , 2.66044345, 0.18059635, 0.26643059],\n       [0.784925  , 2.66691556, 0.18023239, 0.26608497],\n       [0.78191   , 2.673455  , 0.17986922, 0.26573981],\n       [0.778894  , 2.6800074 , 0.17950409, 0.26539303],\n       [0.775879  , 2.68662461, 0.17913982, 0.26504676],\n       [0.772864  , 2.69325471, 0.17877376, 0.26469904],\n       [0.769849  , 2.69995157, 0.17840838, 0.26435168],\n       [0.766834  , 2.70666345, 0.17804128, 0.26400291],\n       [0.763819  , 2.71344526, 0.17767494, 0.26365455],\n       [0.760804  , 2.72024934, 0.17730719, 0.26330501],\n       [0.757789  , 2.72708724, 0.17693851, 0.26295467],\n       [0.754774  , 2.73399614, 0.17657057, 0.26260469],\n       [0.751759  , 2.74093185, 0.17620135, 0.26225365],\n       [0.748744  , 2.74791465, 0.17583174, 0.26190223],\n       [0.745729  , 2.75493598, 0.17546133, 0.26155   ],\n       [0.742714  , 2.76200349, 0.17509045, 0.26119729],\n       [0.739698  , 2.76911782, 0.17471886, 0.26084389],\n       [0.736683  , 2.77627885, 0.17434701, 0.26049022],\n       [0.733668  , 2.78348492, 0.17397455, 0.26013594],\n       [0.730653  , 2.7907379 , 0.17360155, 0.25978112],\n       [0.727638  , 2.79803863, 0.17322802, 0.25942577],\n       [0.724623  , 2.80538773, 0.17285395, 0.25906989],\n       [0.721608  , 2.81278604, 0.17247938, 0.25871349],\n       [0.718593  , 2.82023427, 0.17210428, 0.25835659],\n       [0.715578  , 2.82772373, 0.17172826, 0.25799874],\n       [0.712563  , 2.83526931, 0.17135195, 0.25764062],\n       [0.709548  , 2.84286574, 0.17097508, 0.25728193],\n       [0.706533  , 2.85051362, 0.17059766, 0.25692269],\n       [0.703518  , 2.85821345, 0.17021968, 0.25656289],\n       [0.700503  , 2.86596596, 0.16984113, 0.25620253],\n       [0.697487  , 2.87377425, 0.1694619 , 0.25584148],\n       [0.694472  , 2.88163389, 0.16908222, 0.25547999],\n       [0.691457  , 2.88954798, 0.16870197, 0.25511793],\n       [0.688442  , 2.89751729, 0.16832116, 0.2547553 ],\n       [0.685427  , 2.90554234, 0.16793976, 0.25439209],\n       [0.682412  , 2.91362392, 0.1675578 , 0.2540283 ],\n       [0.679397  , 2.92176264, 0.16717525, 0.25366394],\n       [0.676382  , 2.92995923, 0.16679212, 0.253299  ],\n       [0.673367  , 2.93821435, 0.1664084 , 0.25293347],\n       [0.670352  , 2.94652871, 0.1660241 , 0.25256735],\n       [0.667337  , 2.95490302, 0.16563921, 0.25220064],\n       [0.664322  , 2.96333802, 0.16525372, 0.25183334],\n       [0.661307  , 2.97183444, 0.16486763, 0.25146544],\n       [0.658291  , 2.98039589, 0.16448082, 0.25109682],\n       [0.655276  , 2.98901744, 0.16409352, 0.25072771],\n       [0.652261  , 2.99770272, 0.16370563, 0.250358  ],\n       [0.649246  , 3.00645252, 0.16331712, 0.24998768],\n       [0.646231  , 3.01526765, 0.16292799, 0.24961674],\n       [0.643216  , 3.02414889, 0.16253825, 0.24924519],\n       [0.640201  , 3.03309708, 0.16214789, 0.24887302],\n       [0.637186  , 3.04211307, 0.16175691, 0.24850021],\n       [0.634171  , 3.05119771, 0.16136529, 0.24812679],\n       [0.631156  , 3.06036216, 0.16097345, 0.24775313],\n       [0.628141  , 3.06958503, 0.16058049, 0.24737837],\n       [0.625126  , 3.07887948, 0.16018691, 0.24700297],\n       [0.622111  , 3.08824638, 0.15979269, 0.24662694],\n       [0.619095  , 3.09768977, 0.1593977 , 0.24625015],\n       [0.61608   , 3.10720432, 0.15900219, 0.24587283],\n       [0.613065  , 3.11679407, 0.15860604, 0.24549486],\n       [0.61005   , 3.12645999, 0.15820922, 0.24511623],\n       [0.607035  , 3.13620012, 0.15781163, 0.24473683],\n       [0.60402   , 3.14602176, 0.15741351, 0.2443569 ],\n       [0.601005  , 3.1559225 , 0.15701471, 0.24397628],\n       [0.59799   , 3.1659034 , 0.15661522, 0.24359499],\n       [0.594975  , 3.17596553, 0.15621506, 0.24321302],\n       [0.59196   , 3.18610998, 0.1558142 , 0.24283035],\n       [0.588945  , 3.19633786, 0.15541266, 0.24244699],\n       [0.58593   , 3.2066503 , 0.15501041, 0.24206294],\n       [0.582915  , 3.21704847, 0.15460746, 0.24167818],\n       [0.579899  , 3.22753701, 0.15420367, 0.24129258],\n       [0.576884  , 3.23811037, 0.1537993 , 0.24090641],\n       [0.573869  , 3.24877296, 0.15339421, 0.24051951],\n       [0.570854  , 3.25952602, 0.15298839, 0.24013188],\n       [0.567839  , 3.27037086, 0.15258185, 0.23974353],\n       [0.564824  , 3.28130879, 0.15217457, 0.23935444],\n       [0.561809  , 3.29234113, 0.15176654, 0.23896461],\n       [0.558794  , 3.30346924, 0.15135777, 0.23857403],\n       [0.555779  , 3.31469446, 0.15094825, 0.2381827 ],\n       [0.552764  , 3.32603162, 0.15053843, 0.23779107],\n       [0.549749  , 3.33745053, 0.15012722, 0.23739805],\n       [0.546734  , 3.34897252, 0.1497153 , 0.23700432],\n       [0.543719  , 3.36059849, 0.14930264, 0.23660986],\n       [0.540704  , 3.37232954, 0.14888922, 0.23621463],\n       [0.537688  , 3.38417091, 0.1484749 , 0.2358185 ],\n       [0.534673  , 3.39611617, 0.14805992, 0.23542172],\n       [0.531658  , 3.40817071, 0.14764415, 0.23502415],\n       [0.528643  , 3.42033611, 0.14722758, 0.23462577],\n       [0.525628  , 3.43261398, 0.1468102 , 0.23422658],\n       [0.522613  , 3.44500601, 0.146392  , 0.23382657],\n       [0.519598  , 3.4575139 , 0.14597297, 0.23342574],\n       [0.516583  , 3.47013944, 0.14555311, 0.23302407],\n       [0.513568  , 3.48288444, 0.1451324 , 0.23262156],\n       [0.510553  , 3.49575071, 0.14471085, 0.2322182 ],\n       [0.507538  , 3.50874017, 0.14428844, 0.23181398],\n       [0.504523  , 3.52185474, 0.14386517, 0.2314089 ],\n       [0.501508  , 3.53511712, 0.14344168, 0.23100361],\n       [0.498492  , 3.54848956, 0.14301643, 0.23059656],\n       [0.495477  , 3.56198911, 0.14259044, 0.23018876],\n       [0.492462  , 3.57562226, 0.14216357, 0.22978009],\n       [0.489447  , 3.58939108, 0.1417358 , 0.22937052],\n       [0.486432  , 3.60329785, 0.14130714, 0.22896005],\n       [0.483417  , 3.61734466, 0.14087756, 0.22854867],\n       [0.480402  , 3.63153388, 0.14044706, 0.22813637],\n       [0.477387  , 3.64586782, 0.14001563, 0.22772313],\n       [0.474372  , 3.66034887, 0.13958327, 0.22730896],\n       [0.471357  , 3.67497948, 0.13914995, 0.22689384],\n       [0.468342  , 3.68976216, 0.13871568, 0.22647777],\n       [0.465327  , 3.70469948, 0.13828044, 0.22606072],\n       [0.462312  , 3.71979408, 0.13784423, 0.2256427 ],\n       [0.459296  , 3.73505374, 0.13740688, 0.22522356],\n       [0.456281  , 3.75047111, 0.13696868, 0.22480355],\n       [0.453266  , 3.76605406, 0.13652947, 0.22438254],\n       [0.450251  , 3.78180548, 0.13608925, 0.22396052],\n       [0.447236  , 3.79772835, 0.135648  , 0.22353747],\n       [0.444221  , 3.81382573, 0.13520572, 0.22311338],\n       [0.441206  , 3.83010074, 0.13476239, 0.22268825],\n       [0.438191  , 3.84655658, 0.134318  , 0.22226206],\n       [0.435176  , 3.86319653, 0.13387255, 0.2218348 ],\n       [0.432161  , 3.88002397, 0.13342601, 0.22140646],\n       [0.429146  , 3.89704236, 0.13297839, 0.22097704],\n       [0.426131  , 3.91425523, 0.13252966, 0.22054651],\n       [0.423116  , 3.93166622, 0.13207982, 0.22011487],\n       [0.420101  , 3.94927908, 0.13162886, 0.21968211],\n       [0.417085  , 3.96710355, 0.13117661, 0.21924806],\n       [0.41407   , 3.98513177, 0.13072337, 0.21881302],\n       [0.411055  , 4.00337364, 0.13026896, 0.21837681],\n       [0.40804   , 4.02183331, 0.12981339, 0.21793943],\n       [0.405025  , 4.04051504, 0.12935663, 0.21750087],\n       [0.40201   , 4.05942319, 0.12889867, 0.21706111],\n       [0.398995  , 4.07856225, 0.1284395 , 0.21662014],\n       [0.39598   , 4.09793685, 0.1279791 , 0.21617794],\n       [0.392965  , 4.11755173, 0.12751747, 0.21573451],\n       [0.38995   , 4.13741177, 0.12705459, 0.21528983],\n       [0.386935  , 4.15752198, 0.12659044, 0.21484388],\n       [0.38392   , 4.17788757, 0.12612502, 0.21439665],\n       [0.380905  , 4.19851375, 0.1256583 , 0.21394813],\n       [0.377889  , 4.21941301, 0.12519011, 0.21349816],\n       [0.374874  , 4.24057711, 0.12472076, 0.213047  ],\n       [0.371859  , 4.26201871, 0.12425007, 0.21259451],\n       [0.368844  , 4.28374379, 0.12377802, 0.21214067],\n       [0.365829  , 4.30575847, 0.1233046 , 0.21168545],\n       [0.362814  , 4.32806907, 0.1228298 , 0.21122885],\n       [0.359799  , 4.3506821 , 0.12235359, 0.21077084],\n       [0.356784  , 4.37360429, 0.12187597, 0.21031141],\n       [0.353769  , 4.39688036, 0.12139775, 0.2098514 ],\n       [0.350754  , 4.42043656, 0.12091711, 0.20938896],\n       [0.347739  , 4.44432394, 0.120435  , 0.20892506],\n       [0.344724  , 4.46855003, 0.11995143, 0.20845968],\n       [0.341709  , 4.49312262, 0.11946635, 0.2079928 ],\n       [0.338693  , 4.51805807, 0.11897959, 0.20752425],\n       [0.335678  , 4.54334816, 0.11849146, 0.20705432],\n       [0.332663  , 4.56900969, 0.11800176, 0.20658283],\n       [0.329648  , 4.59505152, 0.11751049, 0.20610976],\n       [0.326633  , 4.62148285, 0.11701761, 0.20563508],\n       [0.323618  , 4.64831316, 0.11652311, 0.20515878],\n       [0.320603  , 4.67555226, 0.11602696, 0.20468084],\n       [0.317588  , 4.70321032, 0.11552914, 0.20420122],\n       [0.314573  , 4.73129787, 0.11502962, 0.20371991],\n       [0.311558  , 4.75982577, 0.11452839, 0.20323688],\n       [0.308543  , 4.78880533, 0.11402542, 0.20275211],\n       [0.305528  , 4.81824821, 0.11352068, 0.20226558],\n       [0.302513  , 4.84816654, 0.11301416, 0.20177725],\n       [0.299497  , 4.87858302, 0.11250564, 0.20128695],\n       [0.296482  , 4.90949053, 0.11199546, 0.20079497],\n       [0.293467  , 4.94091255, 0.1114834 , 0.20030112],\n       [0.290452  , 4.97286312, 0.11096945, 0.19980537],\n       [0.287437  , 5.00535677, 0.11045357, 0.19930769],\n       [0.284422  , 5.03840863, 0.10993574, 0.19880807],\n       [0.281407  , 5.07203439, 0.10941592, 0.19830646],\n       [0.278392  , 5.10625037, 0.10889409, 0.19780284],\n       [0.275377  , 5.14107353, 0.10837023, 0.19729717],\n       [0.272362  , 5.17652152, 0.10784428, 0.19678943],\n       [0.269347  , 5.21261271, 0.10731623, 0.19627958],\n       [0.266332  , 5.24936616, 0.10678603, 0.1957676 ],\n       [0.263317  , 5.28675302, 0.10625284, 0.19525261],\n       [0.260302  , 5.32492004, 0.10571875, 0.19473672],\n       [0.257286  , 5.36381225, 0.10518202, 0.1942182 ],\n       [0.254271  , 5.40344451, 0.10464327, 0.19369766],\n       [0.251256  , 5.44380263, 0.10410147, 0.19317407],\n       [0.248241  , 5.48496317, 0.10355743, 0.19264824],\n       [0.245226  , 5.52693555, 0.10301086, 0.19211988],\n       [0.242211  , 5.56983503, 0.1024631 , 0.19159032],\n       [0.239196  , 5.61355917, 0.10191205, 0.19105748],\n       [0.236181  , 5.6581887 , 0.10135848, 0.19052212],\n       [0.233166  , 5.70375421, 0.10080235, 0.18998419],\n       [0.230151  , 5.75028776, 0.10024359, 0.18944365],\n       [0.227136  , 5.79782299, 0.09968218, 0.18890044],\n       [0.224121  , 5.84639511, 0.09911805, 0.18835452],\n       [0.221106  , 5.89604108, 0.09855116, 0.18780584],\n       [0.21809   , 5.94681681, 0.09798126, 0.18725415],\n       [0.215075  , 5.99872961, 0.09740868, 0.18669978],\n       [0.21206   , 6.05183877, 0.09683317, 0.18614248],\n       [0.209045  , 6.10618938, 0.09625468, 0.1855822 ],\n       [0.20603   , 6.16182774, 0.09567311, 0.18501886],\n       [0.203015  , 6.21879902, 0.09508834, 0.18445233],\n       [0.2       , 6.27709016, 0.09449939, 0.18388173]])"
     },
     "execution_count": 15,
     "metadata": {},
     "output_type": "execute_result"
    }
   ],
   "source": [
    "# Light% , RR, Cond, Reb\n",
    "s50_data"
   ],
   "metadata": {
    "collapsed": false,
    "pycharm": {
     "name": "#%%\n"
    }
   }
  },
  {
   "cell_type": "markdown",
   "source": [
    "## 50 stages is chosen to be the nominal condition\n",
    "\n",
    "RR:  1.32 - 6.28 (re tested)"
   ],
   "metadata": {
    "collapsed": false,
    "pycharm": {
     "name": "#%% md\n"
    }
   }
  },
  {
   "cell_type": "code",
   "execution_count": 16,
   "outputs": [
    {
     "data": {
      "text/plain": "<Figure size 1500x500 with 3 Axes>",
      "image/png": "[encoded data removed]"
     },
     "metadata": {},
     "output_type": "display_data"
    }
   ],
   "source": [
    "fig, axs = plt.subplots(1, 3, figsize=(15, 5))\n",
    "# First plot\n",
    "axs[0].plot(s50_data.T[0], s50_data.T[1], 'x')\n",
    "axs[0].set_title('RR')\n",
    "\n",
    "# Second plot\n",
    "axs[1].plot(s50_data.T[0], s50_data.T[2], 'x')\n",
    "axs[1].set_title('Cond')\n",
    "\n",
    "# Third plot\n",
    "axs[2].plot(s50_data.T[0], s50_data.T[3], 'x')\n",
    "axs[2].set_title('Reb')\n",
    "\n",
    "# Display the plots\n",
    "plt.show()"
   ],
   "metadata": {
    "collapsed": false,
    "pycharm": {
     "name": "#%%\n"
    }
   }
  },
  {
   "cell_type": "code",
   "execution_count": 19,
   "outputs": [
    {
     "data": {
      "text/plain": "array([  9.58041677, -14.90128207,   8.57296958])"
     },
     "execution_count": 19,
     "metadata": {},
     "output_type": "execute_result"
    }
   ],
   "source": [],
   "metadata": {
    "collapsed": false,
    "pycharm": {
     "name": "#%%\n"
    }
   }
  },
  {
   "cell_type": "code",
   "execution_count": 26,
   "outputs": [
    {
     "name": "stdout",
     "output_type": "stream",
     "text": [
      "R^2: 0.9928713901446486\n"
     ]
    },
    {
     "data": {
      "text/plain": "array([  9.58041677, -14.90128207,   8.57296958])"
     },
     "execution_count": 26,
     "metadata": {},
     "output_type": "execute_result"
    }
   ],
   "source": [
    "coefs1 = np.polyfit(s50_data.T[0], s50_data.T[1], 2)\n",
    "\n",
    "# Validate\n",
    "p = np.poly1d(coefs1)\n",
    "RR_pred = p(s50_data.T[0])\n",
    "\n",
    "# Calculate SSR and SST\n",
    "ssr = np.sum((RR_pred - s50_data.T[1]) ** 2)\n",
    "sst = np.sum((s50_data.T[1] - np.mean(s50_data.T[1])) ** 2)\n",
    "\n",
    "# Calculate R^2\n",
    "r_squared = 1 - (ssr / sst)\n",
    "\n",
    "print(\"R^2:\", r_squared)\n",
    "\n",
    "coefs1"
   ],
   "metadata": {
    "collapsed": false,
    "pycharm": {
     "name": "#%%\n"
    }
   }
  },
  {
   "cell_type": "code",
   "execution_count": 28,
   "outputs": [
    {
     "name": "stdout",
     "output_type": "stream",
     "text": [
      "R^2: 0.9965067339336932\n"
     ]
    },
    {
     "data": {
      "text/plain": "array([0.14382372, 0.06973313])"
     },
     "execution_count": 28,
     "metadata": {},
     "output_type": "execute_result"
    }
   ],
   "source": [
    "coefs2 = np.polyfit(s50_data.T[0], s50_data.T[2], 1)\n",
    "\n",
    "# Validate\n",
    "p = np.poly1d(coefs2)\n",
    "RR_pred = p(s50_data.T[0])\n",
    "\n",
    "# Calculate SSR and SST\n",
    "ssr = np.sum((RR_pred - s50_data.T[2]) ** 2)\n",
    "sst = np.sum((s50_data.T[2] - np.mean(s50_data.T[2])) ** 2)\n",
    "\n",
    "# Calculate R^2\n",
    "r_squared = 1 - (ssr / sst)\n",
    "\n",
    "print(\"R^2:\", r_squared)\n",
    "\n",
    "coefs2"
   ],
   "metadata": {
    "collapsed": false,
    "pycharm": {
     "name": "#%%\n"
    }
   }
  },
  {
   "cell_type": "code",
   "execution_count": 30,
   "outputs": [
    {
     "name": "stdout",
     "output_type": "stream",
     "text": [
      "R^2: 0.9961965113663492\n"
     ]
    },
    {
     "data": {
      "text/plain": "array([0.13778926, 0.16032166])"
     },
     "execution_count": 30,
     "metadata": {},
     "output_type": "execute_result"
    }
   ],
   "source": [
    "coefs2 = np.polyfit(s50_data.T[0], s50_data.T[3], 1)\n",
    "\n",
    "# Validate\n",
    "p = np.poly1d(coefs2)\n",
    "RR_pred = p(s50_data.T[0])\n",
    "\n",
    "# Calculate SSR and SST\n",
    "ssr = np.sum((RR_pred - s50_data.T[3]) ** 2)\n",
    "sst = np.sum((s50_data.T[3] - np.mean(s50_data.T[3])) ** 2)\n",
    "\n",
    "# Calculate R^2\n",
    "r_squared = 1 - (ssr / sst)\n",
    "\n",
    "print(\"R^2:\", r_squared)\n",
    "\n",
    "coefs2"
   ],
   "metadata": {
    "collapsed": false,
    "pycharm": {
     "name": "#%%\n"
    }
   }
  },
  {
   "cell_type": "code",
   "execution_count": null,
   "outputs": [],
   "source": [],
   "metadata": {
    "collapsed": false,
    "pycharm": {
     "name": "#%%\n"
    }
   }
  }
 ],
 "metadata": {
  "kernelspec": {
   "display_name": "Python 3",
   "language": "python",
   "name": "python3"
  },
  "language_info": {
   "codemirror_mode": {
    "name": "ipython",
    "version": 2
   },
   "file_extension": ".py",
   "mimetype": "text/x-python",
   "name": "python",
   "nbconvert_exporter": "python",
   "pygments_lexer": "ipython2",
   "version": "2.7.6"
  }
 },
 "nbformat": 4,
 "nbformat_minor": 0
}