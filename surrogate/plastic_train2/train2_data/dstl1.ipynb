{
 "cells": [
  {
   "cell_type": "code",
   "execution_count": 45,
   "metadata": {
    "collapsed": true,
    "pycharm": {
     "name": "#%%\n"
    }
   },
   "outputs": [],
   "source": [
    "import pandas as pd\n",
    "import numpy as np\n",
    "import matplotlib.pyplot as plt\n",
    "\n",
    "from util.util import get_root_dir"
   ]
  },
  {
   "cell_type": "code",
   "execution_count": 46,
   "outputs": [
    {
     "data": {
      "text/plain": "       Light%    Heavy%\n0    0.200000  0.800000\n1    0.203015  0.796985\n2    0.206030  0.793970\n3    0.209045  0.790955\n4    0.212060  0.787940\n..        ...       ...\n195  0.787940  0.212060\n196  0.790955  0.209045\n197  0.793970  0.206030\n198  0.796985  0.203015\n199  0.800000  0.200000\n\n[200 rows x 2 columns]",
      "text/html": "<div>\n<style scoped>\n    .dataframe tbody tr th:only-of-type {\n        vertical-align: middle;\n    }\n\n    .dataframe tbody tr th {\n        vertical-align: top;\n    }\n\n    .dataframe thead th {\n        text-align: right;\n    }\n</style>\n<table border=\"1\" class=\"dataframe\">\n  <thead>\n    <tr style=\"text-align: right;\">\n      <th></th>\n      <th>Light%</th>\n      <th>Heavy%</th>\n    </tr>\n  </thead>\n  <tbody>\n    <tr>\n      <th>0</th>\n      <td>0.200000</td>\n      <td>0.800000</td>\n    </tr>\n    <tr>\n      <th>1</th>\n      <td>0.203015</td>\n      <td>0.796985</td>\n    </tr>\n    <tr>\n      <th>2</th>\n      <td>0.206030</td>\n      <td>0.793970</td>\n    </tr>\n    <tr>\n      <th>3</th>\n      <td>0.209045</td>\n      <td>0.790955</td>\n    </tr>\n    <tr>\n      <th>4</th>\n      <td>0.212060</td>\n      <td>0.787940</td>\n    </tr>\n    <tr>\n      <th>...</th>\n      <td>...</td>\n      <td>...</td>\n    </tr>\n    <tr>\n      <th>195</th>\n      <td>0.787940</td>\n      <td>0.212060</td>\n    </tr>\n    <tr>\n      <th>196</th>\n      <td>0.790955</td>\n      <td>0.209045</td>\n    </tr>\n    <tr>\n      <th>197</th>\n      <td>0.793970</td>\n      <td>0.206030</td>\n    </tr>\n    <tr>\n      <th>198</th>\n      <td>0.796985</td>\n      <td>0.203015</td>\n    </tr>\n    <tr>\n      <th>199</th>\n      <td>0.800000</td>\n      <td>0.200000</td>\n    </tr>\n  </tbody>\n</table>\n<p>200 rows × 2 columns</p>\n</div>"
     },
     "execution_count": 46,
     "metadata": {},
     "output_type": "execute_result"
    }
   ],
   "source": [
    "root_dir = get_root_dir()\n",
    "proj_dir = root_dir + \"/surrogate/plastic_train2/\"\n",
    "df_samples = pd.read_csv(proj_dir + \"train2_data/lhs_samples.csv\", index_col=0)\n",
    "df_samples"
   ],
   "metadata": {
    "collapsed": false,
    "pycharm": {
     "name": "#%%\n"
    }
   }
  },
  {
   "cell_type": "code",
   "execution_count": 47,
   "outputs": [
    {
     "data": {
      "text/plain": "       Reflux  Stages  Cond Duty  Reb Duty\n0    5.289893    20.0   0.120100  0.028305\n1    5.206231    20.0   0.120209  0.028349\n2    5.124892    20.0   0.120317  0.028392\n3    5.045788    20.0   0.120426  0.028435\n4    4.968831    20.0   0.120534  0.028478\n..        ...     ...        ...       ...\n195  0.908429    20.0   0.138675  0.034184\n196  0.902057    20.0   0.138733  0.034177\n197  0.895719    20.0   0.138790  0.034170\n198  0.889415    20.0   0.138845  0.034161\n199  0.883144    20.0   0.138900  0.034151\n\n[200 rows x 4 columns]",
      "text/html": "<div>\n<style scoped>\n    .dataframe tbody tr th:only-of-type {\n        vertical-align: middle;\n    }\n\n    .dataframe tbody tr th {\n        vertical-align: top;\n    }\n\n    .dataframe thead th {\n        text-align: right;\n    }\n</style>\n<table border=\"1\" class=\"dataframe\">\n  <thead>\n    <tr style=\"text-align: right;\">\n      <th></th>\n      <th>Reflux</th>\n      <th>Stages</th>\n      <th>Cond Duty</th>\n      <th>Reb Duty</th>\n    </tr>\n  </thead>\n  <tbody>\n    <tr>\n      <th>0</th>\n      <td>5.289893</td>\n      <td>20.0</td>\n      <td>0.120100</td>\n      <td>0.028305</td>\n    </tr>\n    <tr>\n      <th>1</th>\n      <td>5.206231</td>\n      <td>20.0</td>\n      <td>0.120209</td>\n      <td>0.028349</td>\n    </tr>\n    <tr>\n      <th>2</th>\n      <td>5.124892</td>\n      <td>20.0</td>\n      <td>0.120317</td>\n      <td>0.028392</td>\n    </tr>\n    <tr>\n      <th>3</th>\n      <td>5.045788</td>\n      <td>20.0</td>\n      <td>0.120426</td>\n      <td>0.028435</td>\n    </tr>\n    <tr>\n      <th>4</th>\n      <td>4.968831</td>\n      <td>20.0</td>\n      <td>0.120534</td>\n      <td>0.028478</td>\n    </tr>\n    <tr>\n      <th>...</th>\n      <td>...</td>\n      <td>...</td>\n      <td>...</td>\n      <td>...</td>\n    </tr>\n    <tr>\n      <th>195</th>\n      <td>0.908429</td>\n      <td>20.0</td>\n      <td>0.138675</td>\n      <td>0.034184</td>\n    </tr>\n    <tr>\n      <th>196</th>\n      <td>0.902057</td>\n      <td>20.0</td>\n      <td>0.138733</td>\n      <td>0.034177</td>\n    </tr>\n    <tr>\n      <th>197</th>\n      <td>0.895719</td>\n      <td>20.0</td>\n      <td>0.138790</td>\n      <td>0.034170</td>\n    </tr>\n    <tr>\n      <th>198</th>\n      <td>0.889415</td>\n      <td>20.0</td>\n      <td>0.138845</td>\n      <td>0.034161</td>\n    </tr>\n    <tr>\n      <th>199</th>\n      <td>0.883144</td>\n      <td>20.0</td>\n      <td>0.138900</td>\n      <td>0.034151</td>\n    </tr>\n  </tbody>\n</table>\n<p>200 rows × 4 columns</p>\n</div>"
     },
     "execution_count": 47,
     "metadata": {},
     "output_type": "execute_result"
    }
   ],
   "source": [
    "df_outputs = pd.read_csv(proj_dir + \"train2_data/result1.csv\", header=None)\n",
    "df_outputs.columns = [\"Reflux\",\"Stages\",\"Cond Duty\",\"Reb Duty\"]\n",
    "df_outputs"
   ],
   "metadata": {
    "collapsed": false,
    "pycharm": {
     "name": "#%%\n"
    }
   }
  },
  {
   "cell_type": "code",
   "execution_count": 48,
   "outputs": [],
   "source": [
    "def extract_reflux(stage_value):\n",
    "    # Filter df_samples for specified 'Stages' value and select only \"Light%\" column\n",
    "    filtered_data_df = df_samples[\"Light%\"]\n",
    "\n",
    "    # Convert to numpy array\n",
    "    filtered_data_np = filtered_data_df.to_numpy().reshape(-1, 1)\n",
    "\n",
    "    # Initialize an empty list to store the concatenated data\n",
    "    concatenated_data = []\n",
    "\n",
    "    # Iterate over the filtered DataFrame\n",
    "    for idx in filtered_data_df.index:\n",
    "        # Extract the desired columns (0, 2, 3) from df_outputs\n",
    "        output_row = df_outputs.loc[idx, df_outputs.columns[[0, 2, 3]]].to_numpy()\n",
    "        # Concatenate with the row from filtered_data_np\n",
    "        concatenated_row = np.concatenate((filtered_data_np[filtered_data_df.index.get_loc(idx)].reshape(1, -1), [output_row]), axis=1)\n",
    "        concatenated_data.append(concatenated_row)\n",
    "\n",
    "    # Convert the list of arrays into a single numpy array\n",
    "    arr = np.vstack(concatenated_data)\n",
    "    arr = arr[np.argsort(arr[:, 1])]\n",
    "    return arr\n",
    "\n",
    "s20_data = extract_reflux(20)"
   ],
   "metadata": {
    "collapsed": false,
    "pycharm": {
     "name": "#%%\n"
    }
   }
  },
  {
   "cell_type": "code",
   "execution_count": 49,
   "outputs": [
    {
     "name": "stdout",
     "output_type": "stream",
     "text": [
      "Length of data s20: 200\n"
     ]
    }
   ],
   "source": [
    "print(f\"Length of data s20: {len(s20_data)}\")"
   ],
   "metadata": {
    "collapsed": false,
    "pycharm": {
     "name": "#%%\n"
    }
   }
  },
  {
   "cell_type": "code",
   "execution_count": 50,
   "outputs": [
    {
     "data": {
      "text/plain": "array([[0.8       , 0.88314391, 0.13890001, 0.03415113],\n       [0.796985  , 0.88941457, 0.13884529, 0.03416094],\n       [0.79397   , 0.89571857, 0.13878952, 0.0341697 ],\n       [0.790955  , 0.90205666, 0.13873272, 0.03417746],\n       [0.78794   , 0.90842942, 0.1386749 , 0.03418423],\n       [0.784925  , 0.91487294, 0.13861867, 0.03419258],\n       [0.78191   , 0.92131198, 0.13855852, 0.03419704],\n       [0.778894  , 0.92779091, 0.13849748, 0.03420065],\n       [0.775879  , 0.93430588, 0.1384356 , 0.0342034 ],\n       [0.772864  , 0.94085981, 0.13837287, 0.03420532],\n       [0.769849  , 0.94745314, 0.13830931, 0.03420642],\n       [0.766834  , 0.95408663, 0.13824492, 0.03420671],\n       [0.763819  , 0.9607609 , 0.13817973, 0.0342062 ],\n       [0.760804  , 0.96747661, 0.13811374, 0.03420492],\n       [0.757789  , 0.97423445, 0.13804697, 0.03420286],\n       [0.754774  , 0.9810351 , 0.13797944, 0.03420005],\n       [0.751759  , 0.98787926, 0.13791116, 0.03419651],\n       [0.748744  , 0.99476766, 0.13784215, 0.03419224],\n       [0.745729  , 1.00170104, 0.13777241, 0.03418726],\n       [0.742714  , 1.00868004, 0.13770197, 0.03418157],\n       [0.739698  , 1.01570784, 0.1376308 , 0.03417521],\n       [0.736683  , 1.02278053, 0.13755899, 0.03416818],\n       [0.733668  , 1.02990109, 0.1374865 , 0.03416048],\n       [0.730653  , 1.03707039, 0.13741337, 0.03415215],\n       [0.727638  , 1.04428921, 0.13733959, 0.03414318],\n       [0.724623  , 1.05155827, 0.13726519, 0.0341336 ],\n       [0.721608  , 1.05887836, 0.13719016, 0.0341234 ],\n       [0.718593  , 1.0662504 , 0.13711454, 0.03411262],\n       [0.715578  , 1.07367509, 0.13703832, 0.03410124],\n       [0.712563  , 1.0811533 , 0.13696153, 0.0340893 ],\n       [0.709548  , 1.08868587, 0.13688416, 0.03407679],\n       [0.706533  , 1.0962736 , 0.13680624, 0.03406373],\n       [0.703518  , 1.10391743, 0.13672777, 0.03405014],\n       [0.700503  , 1.11161818, 0.13664876, 0.03403601],\n       [0.697487  , 1.11937932, 0.1365692 , 0.03402136],\n       [0.694472  , 1.12719659, 0.13648915, 0.0340062 ],\n       [0.691457  , 1.1350735 , 0.1364086 , 0.03399055],\n       [0.688442  , 1.1430109 , 0.13632754, 0.0339744 ],\n       [0.685427  , 1.15100973, 0.136246  , 0.03395777],\n       [0.682412  , 1.15907094, 0.13616398, 0.03394067],\n       [0.679397  , 1.16719549, 0.13608149, 0.0339231 ],\n       [0.676382  , 1.17538439, 0.13599854, 0.03390508],\n       [0.673367  , 1.18363852, 0.13591513, 0.03388661],\n       [0.670352  , 1.19195898, 0.13583129, 0.0338677 ],\n       [0.667337  , 1.20034673, 0.135747  , 0.03384837],\n       [0.664322  , 1.20880281, 0.13566229, 0.03382861],\n       [0.661307  , 1.21732826, 0.13557716, 0.03380843],\n       [0.658291  , 1.225927  , 0.13549158, 0.03378784],\n       [0.655276  , 1.23459444, 0.13540563, 0.03376686],\n       [0.652261  , 1.24333441, 0.13531928, 0.03374548],\n       [0.649246  , 1.25214816, 0.13523254, 0.03372372],\n       [0.646231  , 1.26103667, 0.13514541, 0.03370157],\n       [0.643216  , 1.27004864, 0.13506073, 0.03368188],\n       [0.640201  , 1.27908549, 0.13497256, 0.0336587 ],\n       [0.637186  , 1.28820105, 0.13488405, 0.03363518],\n       [0.634171  , 1.29736264, 0.13479321, 0.03360935],\n       [0.631156  , 1.30664283, 0.13470426, 0.0335854 ],\n       [0.628141  , 1.31600511, 0.13461496, 0.03356111],\n       [0.625126  , 1.3254507 , 0.13452533, 0.03353649],\n       [0.622111  , 1.33502787, 0.13443806, 0.03351425],\n       [0.619095  , 1.34463583, 0.13434708, 0.0334883 ],\n       [0.61608   , 1.35433086, 0.13425598, 0.03346223],\n       [0.613065  , 1.36411652, 0.13416468, 0.03343596],\n       [0.61005   , 1.37399363, 0.13407316, 0.03340948],\n       [0.607035  , 1.38396318, 0.1339814 , 0.03338275],\n       [0.60402   , 1.39402639, 0.13388938, 0.03335577],\n       [0.601005  , 1.40418449, 0.1337971 , 0.03332854],\n       [0.59799   , 1.41443884, 0.13370456, 0.03330105],\n       [0.594975  , 1.42479083, 0.13361175, 0.0332733 ],\n       [0.59196   , 1.43524193, 0.13351868, 0.03324528],\n       [0.588945  , 1.44579367, 0.13342535, 0.033217  ],\n       [0.58593   , 1.45644759, 0.13333175, 0.03318847],\n       [0.582915  , 1.4672053 , 0.13323789, 0.03315967],\n       [0.579899  , 1.47807205, 0.13314374, 0.03313062],\n       [0.576884  , 1.48904233, 0.13304937, 0.03310132],\n       [0.573869  , 1.50012143, 0.13295474, 0.03307177],\n       [0.570854  , 1.51131112, 0.13285987, 0.03304198],\n       [0.567839  , 1.52261318, 0.13276475, 0.03301195],\n       [0.564824  , 1.53402945, 0.1326694 , 0.03298168],\n       [0.561809  , 1.54556181, 0.1325738 , 0.03295117],\n       [0.558794  , 1.55721217, 0.13247797, 0.03292043],\n       [0.555779  , 1.56898248, 0.13238191, 0.03288947],\n       [0.552764  , 1.58087475, 0.13228562, 0.03285828],\n       [0.549749  , 1.592891  , 0.13218911, 0.03282687],\n       [0.546734  , 1.60503332, 0.13209238, 0.03279524],\n       [0.543719  , 1.61730383, 0.13199543, 0.0327634 ],\n       [0.540704  , 1.62970472, 0.13189827, 0.03273135],\n       [0.537688  , 1.64224238, 0.13180086, 0.03269908],\n       [0.534673  , 1.65491079, 0.13170328, 0.03266662],\n       [0.531658  , 1.66777155, 0.13160822, 0.03263668],\n       [0.528643  , 1.68070591, 0.1315097 , 0.03260327],\n       [0.525628  , 1.69378398, 0.13141106, 0.03256977],\n       [0.522613  , 1.707008  , 0.13131232, 0.03253614],\n       [0.519598  , 1.72038032, 0.13121344, 0.0325024 ],\n       [0.516583  , 1.73390333, 0.13111444, 0.03246853],\n       [0.513568  , 1.74757951, 0.1310153 , 0.03243453],\n       [0.510553  , 1.76141144, 0.13091602, 0.03240038],\n       [0.507538  , 1.77540174, 0.13081659, 0.0323661 ],\n       [0.504523  , 1.78955313, 0.13071701, 0.03233166],\n       [0.501508  , 1.80386842, 0.13061729, 0.03229708],\n       [0.498492  , 1.81835531, 0.13051737, 0.03226234],\n       [0.495477  , 1.83300715, 0.13041734, 0.03222746],\n       [0.492462  , 1.84783177, 0.13031715, 0.03219242],\n       [0.489447  , 1.86283228, 0.13021681, 0.03215724],\n       [0.486432  , 1.87801189, 0.13011631, 0.0321219 ],\n       [0.483417  , 1.89337392, 0.13001566, 0.03208641],\n       [0.480402  , 1.90892174, 0.12991485, 0.03205076],\n       [0.477387  , 1.92465884, 0.12981389, 0.03201497],\n       [0.474372  , 1.94051518, 0.12970954, 0.03197578],\n       [0.471357  , 1.95671518, 0.12961152, 0.03194294],\n       [0.468342  , 1.97301883, 0.12950911, 0.0319057 ],\n       [0.465327  , 1.9895728 , 0.12940857, 0.03187034],\n       [0.462312  , 2.00624259, 0.1293039 , 0.03183084],\n       [0.459296  , 2.02326812, 0.12920499, 0.03179714],\n       [0.456281  , 2.04043509, 0.12910299, 0.03176032],\n       [0.453266  , 2.05782235, 0.12900085, 0.03172336],\n       [0.450251  , 2.07543425, 0.12889855, 0.03168625],\n       [0.447236  , 2.09327528, 0.12879611, 0.031649  ],\n       [0.444221  , 2.11135002, 0.12869352, 0.0316116 ],\n       [0.441206  , 2.12966317, 0.12859079, 0.03157406],\n       [0.438191  , 2.14821961, 0.12848791, 0.03153637],\n       [0.435176  , 2.16702435, 0.12838488, 0.03149855],\n       [0.432161  , 2.18608257, 0.12828172, 0.03146059],\n       [0.429146  , 2.20539955, 0.12817843, 0.0314225 ],\n       [0.426131  , 2.22498077, 0.128075  , 0.03138428],\n       [0.423116  , 2.24483183, 0.12797145, 0.03134593],\n       [0.420101  , 2.26495851, 0.12786777, 0.03130746],\n       [0.417085  , 2.28537356, 0.12776393, 0.03126885],\n       [0.41407   , 2.30606957, 0.12766001, 0.03123015],\n       [0.411055  , 2.32705956, 0.12755599, 0.03119134],\n       [0.40804   , 2.34834999, 0.12745185, 0.03115241],\n       [0.405025  , 2.36994752, 0.1273476 , 0.03111339],\n       [0.40201   , 2.39185903, 0.12724326, 0.03107427],\n       [0.398995  , 2.41409156, 0.12713882, 0.03103505],\n       [0.39598   , 2.43665239, 0.12703428, 0.03099574],\n       [0.392965  , 2.459549  , 0.12692966, 0.03095634],\n       [0.38995   , 2.48288821, 0.12682856, 0.03092047],\n       [0.386935  , 2.50648482, 0.12672392, 0.03088107],\n       [0.38392   , 2.53044063, 0.12661919, 0.03084157],\n       [0.380905  , 2.55476399, 0.12651437, 0.03080199],\n       [0.377889  , 2.5794718 , 0.12640942, 0.03076229],\n       [0.374874  , 2.60455656, 0.12630441, 0.03072253],\n       [0.371859  , 2.63003558, 0.12619931, 0.03068267],\n       [0.368844  , 2.65591833, 0.12609413, 0.03064273],\n       [0.365829  , 2.68221458, 0.12598885, 0.0306027 ],\n       [0.362814  , 2.70893436, 0.12588349, 0.03056258],\n       [0.359799  , 2.73608821, 0.12577805, 0.03052239],\n       [0.356784  , 2.76368683, 0.12567252, 0.03048211],\n       [0.353769  , 2.79174134, 0.12556691, 0.03044176],\n       [0.350754  , 2.82026322, 0.12546123, 0.03040133],\n       [0.347739  , 2.84926436, 0.12535546, 0.03036082],\n       [0.344724  , 2.87875698, 0.12524961, 0.03032023],\n       [0.341709  , 2.90864447, 0.12514018, 0.03027606],\n       [0.338693  , 2.93917402, 0.12503434, 0.03023551],\n       [0.335678  , 2.97022507, 0.12492848, 0.03019491],\n       [0.332663  , 3.00182166, 0.12482255, 0.03015425],\n       [0.329648  , 3.0339783 , 0.12471656, 0.03011353],\n       [0.326633  , 3.06671   , 0.12461051, 0.03007274],\n       [0.323618  , 3.10003234, 0.12450439, 0.0300319 ],\n       [0.320603  , 3.13396144, 0.1243982 , 0.02999098],\n       [0.317588  , 3.16851401, 0.12429195, 0.02995   ],\n       [0.314573  , 3.20370741, 0.12418562, 0.02990895],\n       [0.311558  , 3.23955962, 0.12407922, 0.02986783],\n       [0.308543  , 3.27608934, 0.12397274, 0.02982664],\n       [0.305528  , 3.31331597, 0.12386619, 0.02978537],\n       [0.302513  , 3.3512597 , 0.12375956, 0.02974402],\n       [0.299497  , 3.38995444, 0.12365281, 0.02970259],\n       [0.296482  , 3.42939638, 0.12354603, 0.02966109],\n       [0.293467  , 3.46962091, 0.12343917, 0.02961952],\n       [0.290452  , 3.51065171, 0.12333223, 0.02957787],\n       [0.287437  , 3.55251339, 0.12322521, 0.02953615],\n       [0.284422  , 3.59523163, 0.12311812, 0.02949436],\n       [0.281407  , 3.6388332 , 0.12301097, 0.0294525 ],\n       [0.278392  , 3.68334602, 0.12290375, 0.02941058],\n       [0.275377  , 3.72879918, 0.12279647, 0.0293686 ],\n       [0.272362  , 3.77522307, 0.12268913, 0.02932657],\n       [0.269347  , 3.82253654, 0.12257887, 0.02928162],\n       [0.266332  , 3.8711111 , 0.1224743 , 0.02924236],\n       [0.263317  , 3.92057133, 0.12236505, 0.02919841],\n       [0.260302  , 3.97128015, 0.1222593 , 0.02915797],\n       [0.257286  , 4.02307808, 0.12215169, 0.0291157 ],\n       [0.254271  , 4.07604099, 0.12204406, 0.02907338],\n       [0.251256  , 4.13022616, 0.12193635, 0.02903099],\n       [0.248241  , 4.18567525, 0.12182854, 0.0289885 ],\n       [0.245226  , 4.24243124, 0.12172058, 0.02894586],\n       [0.242211  , 4.30053824, 0.12161241, 0.028903  ],\n       [0.239196  , 4.36004126, 0.12150392, 0.02885984],\n       [0.236181  , 4.42098586, 0.121395  , 0.02881624],\n       [0.233166  , 4.48361591, 0.12128984, 0.02877641],\n       [0.230151  , 4.54769818, 0.12118196, 0.02873386],\n       [0.227136  , 4.61341313, 0.12107406, 0.02869129],\n       [0.224121  , 4.68082377, 0.12096613, 0.02864868],\n       [0.221106  , 4.74999674, 0.12085817, 0.02860606],\n       [0.21809   , 4.82102569, 0.12075013, 0.02856338],\n       [0.215075  , 4.89393693, 0.1206421 , 0.02852068],\n       [0.21206   , 4.96883079, 0.120534  , 0.02847792],\n       [0.209045  , 5.04578797, 0.12042582, 0.02843508],\n       [0.20603   , 5.12489242, 0.1203175 , 0.0283921 ],\n       [0.203015  , 5.20623101, 0.12020895, 0.0283489 ],\n       [0.2       , 5.28989266, 0.12010003, 0.02830533]])"
     },
     "execution_count": 50,
     "metadata": {},
     "output_type": "execute_result"
    }
   ],
   "source": [
    "# Light% , RR, Cond, Reb\n",
    "s20_data"
   ],
   "metadata": {
    "collapsed": false,
    "pycharm": {
     "name": "#%%\n"
    }
   }
  },
  {
   "cell_type": "markdown",
   "source": [
    "## 20 stages is chosen to be the nominal condition\n",
    "\n",
    "RR:  1.32 - 6.28 (re tested)"
   ],
   "metadata": {
    "collapsed": false,
    "pycharm": {
     "name": "#%% md\n"
    }
   }
  },
  {
   "cell_type": "code",
   "execution_count": 51,
   "outputs": [
    {
     "data": {
      "text/plain": "<Figure size 1500x500 with 3 Axes>",
      "image/png": "[encoded data removed]"
     },
     "metadata": {},
     "output_type": "display_data"
    }
   ],
   "source": [
    "fig, axs = plt.subplots(1, 3, figsize=(15, 5))\n",
    "# First plot\n",
    "axs[0].plot(s20_data.T[0], s20_data.T[1], 'x')\n",
    "axs[0].set_title('RR')\n",
    "\n",
    "# Second plot\n",
    "axs[1].plot(s20_data.T[0], s20_data.T[2], 'x')\n",
    "axs[1].set_title('Cond')\n",
    "\n",
    "# Third plot\n",
    "axs[2].plot(s20_data.T[0], s20_data.T[3], 'x')\n",
    "axs[2].set_title('Reb')\n",
    "\n",
    "# Display the plots\n",
    "plt.show()"
   ],
   "metadata": {
    "collapsed": false,
    "pycharm": {
     "name": "#%%\n"
    }
   }
  },
  {
   "cell_type": "code",
   "execution_count": 51,
   "outputs": [],
   "source": [],
   "metadata": {
    "collapsed": false,
    "pycharm": {
     "name": "#%%\n"
    }
   }
  },
  {
   "cell_type": "code",
   "execution_count": 52,
   "outputs": [
    {
     "name": "stdout",
     "output_type": "stream",
     "text": [
      "R^2: 0.9873536435853343\n"
     ]
    },
    {
     "data": {
      "text/plain": "array([ 13.18876841, -19.34690576,   8.14721086])"
     },
     "execution_count": 52,
     "metadata": {},
     "output_type": "execute_result"
    }
   ],
   "source": [
    "coefs1 = np.polyfit(s20_data.T[0], s20_data.T[1], 2)\n",
    "\n",
    "# Validate\n",
    "p = np.poly1d(coefs1)\n",
    "RR_pred = p(s20_data.T[0])\n",
    "\n",
    "# Calculate SSR and SST\n",
    "ssr = np.sum((RR_pred - s20_data.T[1]) ** 2)\n",
    "sst = np.sum((s20_data.T[1] - np.mean(s20_data.T[1])) ** 2)\n",
    "\n",
    "# Calculate R^2\n",
    "r_squared = 1 - (ssr / sst)\n",
    "\n",
    "print(\"R^2:\", r_squared)\n",
    "\n",
    "coefs1"
   ],
   "metadata": {
    "collapsed": false,
    "pycharm": {
     "name": "#%%\n"
    }
   }
  },
  {
   "cell_type": "code",
   "execution_count": 53,
   "outputs": [
    {
     "name": "stdout",
     "output_type": "stream",
     "text": [
      "R^2: 0.9966960839463418\n"
     ]
    },
    {
     "data": {
      "text/plain": "array([0.03209932, 0.11419061])"
     },
     "execution_count": 53,
     "metadata": {},
     "output_type": "execute_result"
    }
   ],
   "source": [
    "coefs2 = np.polyfit(s20_data.T[0], s20_data.T[2], 1)\n",
    "\n",
    "# Validate\n",
    "p = np.poly1d(coefs2)\n",
    "RR_pred = p(s20_data.T[0])\n",
    "\n",
    "# Calculate SSR and SST\n",
    "ssr = np.sum((RR_pred - s20_data.T[2]) ** 2)\n",
    "sst = np.sum((s20_data.T[2] - np.mean(s20_data.T[2])) ** 2)\n",
    "\n",
    "# Calculate R^2\n",
    "r_squared = 1 - (ssr / sst)\n",
    "\n",
    "print(\"R^2:\", r_squared)\n",
    "\n",
    "coefs2"
   ],
   "metadata": {
    "collapsed": false,
    "pycharm": {
     "name": "#%%\n"
    }
   }
  },
  {
   "cell_type": "code",
   "execution_count": 54,
   "outputs": [
    {
     "name": "stdout",
     "output_type": "stream",
     "text": [
      "R^2: 0.9707918275176088\n"
     ]
    },
    {
     "data": {
      "text/plain": "array([0.01050069, 0.02670713])"
     },
     "execution_count": 54,
     "metadata": {},
     "output_type": "execute_result"
    }
   ],
   "source": [
    "coefs3 = np.polyfit(s20_data.T[0], s20_data.T[3], 1)\n",
    "\n",
    "# Validate\n",
    "p = np.poly1d(coefs3)\n",
    "RR_pred = p(s20_data.T[0])\n",
    "\n",
    "# Calculate SSR and SST\n",
    "ssr = np.sum((RR_pred - s20_data.T[3]) ** 2)\n",
    "sst = np.sum((s20_data.T[3] - np.mean(s20_data.T[3])) ** 2)\n",
    "\n",
    "# Calculate R^2\n",
    "r_squared = 1 - (ssr / sst)\n",
    "\n",
    "print(\"R^2:\", r_squared)\n",
    "\n",
    "coefs3"
   ],
   "metadata": {
    "collapsed": false,
    "pycharm": {
     "name": "#%%\n"
    }
   }
  },
  {
   "cell_type": "code",
   "execution_count": 54,
   "outputs": [],
   "source": [],
   "metadata": {
    "collapsed": false,
    "pycharm": {
     "name": "#%%\n"
    }
   }
  }
 ],
 "metadata": {
  "kernelspec": {
   "display_name": "Python 3",
   "language": "python",
   "name": "python3"
  },
  "language_info": {
   "codemirror_mode": {
    "name": "ipython",
    "version": 2
   },
   "file_extension": ".py",
   "mimetype": "text/x-python",
   "name": "python",
   "nbconvert_exporter": "python",
   "pygments_lexer": "ipython2",
   "version": "2.7.6"
  }
 },
 "nbformat": 4,
 "nbformat_minor": 0
}